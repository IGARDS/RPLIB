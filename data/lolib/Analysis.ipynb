{
 "cells": [
  {
   "cell_type": "markdown",
   "id": "destroyed-nirvana",
   "metadata": {},
   "source": [
    "# LO Lib Data Analysis Log"
   ]
  },
  {
   "cell_type": "code",
   "execution_count": 13,
   "id": "julian-colors",
   "metadata": {},
   "outputs": [
    {
     "data": {
      "text/html": [
       "<div>\n",
       "<style scoped>\n",
       "    .dataframe tbody tr th:only-of-type {\n",
       "        vertical-align: middle;\n",
       "    }\n",
       "\n",
       "    .dataframe tbody tr th {\n",
       "        vertical-align: top;\n",
       "    }\n",
       "\n",
       "    .dataframe thead th {\n",
       "        text-align: right;\n",
       "    }\n",
       "</style>\n",
       "<table border=\"1\" class=\"dataframe\">\n",
       "  <thead>\n",
       "    <tr style=\"text-align: right;\">\n",
       "      <th></th>\n",
       "      <th>Dataset Name</th>\n",
       "      <th>Description</th>\n",
       "      <th>Type</th>\n",
       "      <th>Data provenance</th>\n",
       "      <th>Download links</th>\n",
       "    </tr>\n",
       "    <tr>\n",
       "      <th>Dataset ID</th>\n",
       "      <th></th>\n",
       "      <th></th>\n",
       "      <th></th>\n",
       "      <th></th>\n",
       "      <th></th>\n",
       "    </tr>\n",
       "  </thead>\n",
       "  <tbody>\n",
       "    <tr>\n",
       "      <th>13</th>\n",
       "      <td>LO Lib IO/N-be75eec</td>\n",
       "      <td>LO Lib IO/N-be75eec</td>\n",
       "      <td>D matrix</td>\n",
       "      <td>https://github.com/IGARDS/RPLib/blob/main/pipe...</td>\n",
       "      <td>https://raw.githubusercontent.com/IGARDS/lolib...</td>\n",
       "    </tr>\n",
       "    <tr>\n",
       "      <th>14</th>\n",
       "      <td>LO Lib IO/N-be75np</td>\n",
       "      <td>LO Lib IO/N-be75np</td>\n",
       "      <td>D matrix</td>\n",
       "      <td>https://github.com/IGARDS/RPLib/blob/main/pipe...</td>\n",
       "      <td>https://raw.githubusercontent.com/IGARDS/lolib...</td>\n",
       "    </tr>\n",
       "  </tbody>\n",
       "</table>\n",
       "</div>"
      ],
      "text/plain": [
       "                   Dataset Name          Description      Type  \\\n",
       "Dataset ID                                                       \n",
       "13          LO Lib IO/N-be75eec  LO Lib IO/N-be75eec  D matrix   \n",
       "14           LO Lib IO/N-be75np   LO Lib IO/N-be75np  D matrix   \n",
       "\n",
       "                                              Data provenance  \\\n",
       "Dataset ID                                                      \n",
       "13          https://github.com/IGARDS/RPLib/blob/main/pipe...   \n",
       "14          https://github.com/IGARDS/RPLib/blob/main/pipe...   \n",
       "\n",
       "                                               Download links  \n",
       "Dataset ID                                                     \n",
       "13          https://raw.githubusercontent.com/IGARDS/lolib...  \n",
       "14          https://raw.githubusercontent.com/IGARDS/lolib...  "
      ]
     },
     "execution_count": 13,
     "metadata": {},
     "output_type": "execute_result"
    }
   ],
   "source": [
    "import pandas as pd\n",
    "\n",
    "df = pd.read_csv(\n",
    "        \"https://raw.githubusercontent.com/IGARDS/RPLib/master/data/dataset_tool_datasets.tsv\",sep='\\t')\n",
    "\n",
    "df_games = df.loc[(df['Type'] == 'D matrix') & (df['Dataset Name'].str.contains('LO Lib'))]\n",
    "df_games.set_index('Dataset ID',inplace=True)\n",
    "df_games"
   ]
  },
  {
   "cell_type": "markdown",
   "id": "prepared-management",
   "metadata": {},
   "source": [
    "## D Matrix Creation"
   ]
  },
  {
   "cell_type": "code",
   "execution_count": 14,
   "id": "alert-concentration",
   "metadata": {},
   "outputs": [
    {
     "name": "stdout",
     "output_type": "stream",
     "text": [
      "load_D_from_lolib_D\n",
      "https://raw.githubusercontent.com/IGARDS/lolib_study/master/data/IO/N-be75eec\n",
      "      0     1     2     3    4     5   6   ...   42   43    44    45  47  48  49\n",
      "0   4742     0     0   767   33    64   0  ...    0    7     0     0   0   0   0\n",
      "1      1     0     0    24    0     0   0  ...    0    0     0    31   0   0   0\n",
      "2      0  5106     0    13    0     3   0  ...    0    1     0    17   0   0   0\n",
      "3      0     0     0   322    0    58   0  ...    0    0     0     0   0   0   0\n",
      "4      0   859     0  2282    0  3430   0  ...    0    9     0   475   0   0   0\n",
      "5      0     1     0     0    0   352   0  ...    0    4     0     0   0   0   0\n",
      "6      0     0     0     1    0     1   0  ...    0    2     0     2   0   0   0\n",
      "7      0     0  1370   390   90  1704   0  ...    0    6     7   414   0   0   0\n",
      "8      0     6   243   114    0   245   0  ...    0    5     3    28   0   0   0\n",
      "9      0     0     0   174    0   424   0  ...    0    3     1    56   0   0   0\n",
      "10     0     0    16   203   26   725   0  ...    0   12     0   102   0   0   0\n",
      "11     0     0   166   245    0   340   0  ...    0    6     1     0   0   0   0\n",
      "12     0     0    77  1391  137  1807   0  ...    0   31     0     0   0   0   0\n",
      "13     0     0    21   101    0   151   0  ...    0    0     0   322   0   0   0\n",
      "14     0     0     0     0    0    88   0  ...    0    0     0   521   0   0   0\n",
      "15     0     0     0     3    0     0   0  ...    0    0     0    26   0   0   0\n",
      "16     0     0     7    55    0    97   0  ...    0   11     6   385   0   0   0\n",
      "17     0     0     0    87    0    75   0  ...    0    9     2   237   0   0   0\n",
      "18     0     0     3    32    0     6   0  ...    0    4     1    66   0   0   0\n",
      "19  3942     4     0    98    0    13   0  ...    0    4     3   193   0   0   0\n",
      "20     0     0     0   116    0     0   0  ...    0    1     0    40   0   0   0\n",
      "21  9515     1    26   410   31   164   0  ...    0   19     7   387   0   0   0\n",
      "22  3363     0     0   133    0    39   0  ...    0    6     0   277   0   0   0\n",
      "23  1397     0     0     6    0     5   0  ...    0    2     0    97   0   0   0\n",
      "24     0     0     0    61    0     6   0  ...    0    0     5   153   0   0   0\n",
      "25   519     0     0   197   37    42   0  ...    0    6    15   107   0   0   0\n",
      "26   761     0     0    17    0     1   0  ...    0    0     0     0   0   0   0\n",
      "27  1245     0     0   133   23    10   0  ...    0   15     4     0   0   0   0\n",
      "28   312     0     0   162    0    50   0  ...    0    0     0     0   0   0   0\n",
      "29     0     0     0    22    0     6   0  ...    0    3     0    29   0   0   0\n",
      "30     0     0     0    49    0    13   0  ...    0    4     2     0   0   0   0\n",
      "31    30     0     0    14    0    16   0  ...    0    2     1     0   0   0   0\n",
      "32     0     2     0   676   27     4   0  ...    0   47     0    38   0   0   0\n",
      "33     0     0     0   237    0     8   0  ...    0   29     0   379   0   0   0\n",
      "34     0     0     0    12    0     1   0  ...    0    2     0     0   0   0   0\n",
      "35     0    19     0  1722   55   109   0  ...    0  316     0    98   0   0   0\n",
      "36  2026     2     0    41    0    47   0  ...    0   26     0   111   0   0   0\n",
      "37     0     3     0   274   36     4   0  ...    0    5     0    22   0   0   0\n",
      "38     0     0     0  1917    0     0   0  ...    0    4     0    83   0   0   0\n",
      "39     0     0     0   202    0     0   0  ...    0    0     0     0   0   0   0\n",
      "40     0     0     0   225    0     0   0  ...  299   10     0    90   0   0   0\n",
      "41     0     0     0   987    0     0   0  ...  710    0     0    69   0   0   0\n",
      "42     0     0     0    10   26     0   0  ...    0   38     0    32   0   0   0\n",
      "43     0     5     0    42    0     0   0  ...    0   25     0     0   0   0   0\n",
      "44     0     3     0    63    0    19   0  ...    0  186  1456  2245   0   0   0\n",
      "45   433     0     0   767    0    10   0  ...    0  151     0   458   0   0   0\n",
      "47   120     5     0   258   26    33   0  ...    0   79     0   148   0   0   0\n",
      "48    42    13    58   808   96    60   0  ...    0  208     0   609   0   0   0\n",
      "49    76    83     1   221   28   147   0  ...    0   24     0    57   0   0   0\n",
      "\n",
      "[49 rows x 49 columns]\n",
      "Writing to 13_D.json\n",
      "load_D_from_lolib_D\n",
      "https://raw.githubusercontent.com/IGARDS/lolib_study/master/data/IO/N-be75np\n",
      "       0     1      2      3     4     5   ...     44     45    46    47  48  49\n",
      "0   13745     0      0   1864  1379    94  ...    650   3468     0  1596   0   0\n",
      "1     167    50      0     51     0     0  ...     13    198     0    23   0   0\n",
      "2       0  8855      0     27   253  1093  ...      8     82     0     0   0   0\n",
      "3       0     0      0   2644     0     0  ...      0      0     0     0   0   0\n",
      "4       0   491      0   5263  4756  2748  ...      0   1086     0     0   0   0\n",
      "5       0     1      0     10     0     0  ...      0    337     0     0   0   0\n",
      "6       0     0      0      0    22     0  ...      0      0     0     0   0   0\n",
      "7       0     0  17568    794  4594  2557  ...    268   2276     0     0   0   0\n",
      "8       0     1     32    149  1504    39  ...     94    162     0     0   0   0\n",
      "9       0     0      1    391   569   106  ...     86    423     0     0   0   0\n",
      "10      0     0      5    480  1059   360  ...     96    402     0     0   0   0\n",
      "11      0    22     53    533   826    85  ...     80    329     0     0   0   0\n",
      "12      0     0      0   1730  6954   761  ...    748   3909     0     0   0   0\n",
      "13      0     0      0    295   389    40  ...      0   1862     0     0   0   0\n",
      "14      0     0      0    235   467    22  ...    319   3316     0     0   0   0\n",
      "15      0     0      0     12    38     2  ...     24    133     0     0   0   0\n",
      "16      0     0     19    164   852    26  ...    377   2090     0     0   0   0\n",
      "17      0     1      0    201   710    24  ...    123   1253     0     0   0   0\n",
      "18      0     0      5     93   185     5  ...     55    358     0     0   0   0\n",
      "19  58418     0      0    278   401    19  ...    164    283     0     0   0   0\n",
      "20  17319     0      0    272   273     0  ...     59    341     0     0   0   0\n",
      "21      0     0     20   1185  1571    31  ...    411   3388     0     0   0   0\n",
      "22    682     1      0    332   388    57  ...     84   1336     0     0   0   0\n",
      "23     65     0      0     27    75     9  ...     30    484     0     0   0   0\n",
      "24      0     0      0    174   285    10  ...    212    779     0     0   0   0\n",
      "25     72     0      1    504  1675     7  ...    603   1192     0     0   0   0\n",
      "26     10     0      1     44    66     0  ...     28     60     0     0   0   0\n",
      "27   1287     0      0    408   969    14  ...    347      0     0     0   0   0\n",
      "28    425     0      0    364  1272     0  ...      0      0     0     0   0   0\n",
      "29      0     1      0     60   161     8  ...     41    259     0     0   0   0\n",
      "30      0     0      0    124   579    19  ...    111      0     0     0   0   0\n",
      "31     40     0      0     43    98    24  ...     52      0     0     0   0   0\n",
      "32      0     0     42   2588  1207     0  ...      0  10679     0     0   0   0\n",
      "33      0     0      0    899   133     0  ...     67   2361     0     0   0   0\n",
      "34      0     0      0     56    60     9  ...     71    229     0     0   0   0\n",
      "35      0     0      0  11453  2949   198  ...   3158      0     0     0   0   0\n",
      "36    801     7      0    290   254    71  ...      0    934     0     0   0   0\n",
      "37      0     0      0    709  1227     0  ...      0     28     0    28   0   0\n",
      "38      0     0      0   1695     0     0  ...   1301     84     0     0   0   0\n",
      "39      0     0      0    170     0     0  ...    174      9     0     0   0   0\n",
      "40      0     0      0    515     4     0  ...    982    395     0     0   0   0\n",
      "41      0     0      0    478     4     0  ...     53    324     0     0   0   0\n",
      "42      0     0      0     46     0     0  ...    264    335     0     0   0   0\n",
      "43      0     0      0     94     0     0  ...      0      0     0     0   0   0\n",
      "44      0     0      0     92   278     9  ...  61095  17907     0     0   0   0\n",
      "45      0     0      0   4715     0     0  ...      0    577     0     0   0   0\n",
      "46      0     0      0      0     0     0  ...   2935     70     0     0   0   0\n",
      "47      0     0      0   1623  1208    49  ...     57   2307     0     0   0   0\n",
      "48    206    40     12   1808  2208    89  ...   4175   9837  2068   716   0   0\n",
      "49    331    95     30    711  1211   219  ...   1412   2206   337   274   0   0\n",
      "\n",
      "[50 rows x 50 columns]\n",
      "Writing to 14_D.json\n"
     ]
    }
   ],
   "source": [
    "for ix in df_games.index:\n",
    "    !python ../../pipelines/create_D_from_lolib_D.py {ix} {ix}"
   ]
  },
  {
   "cell_type": "markdown",
   "id": "social-november",
   "metadata": {},
   "source": [
    "## Manual Update to dataset_tool_Ds.tsv\n",
    "\n",
    "Now you must manually make changes to dataset_tool_Ds.tsv and push."
   ]
  },
  {
   "cell_type": "markdown",
   "id": "round-raleigh",
   "metadata": {},
   "source": [
    "## LOP Card Creation"
   ]
  },
  {
   "cell_type": "markdown",
   "id": "raised-narrow",
   "metadata": {},
   "source": [
    "### Dataset IDs"
   ]
  },
  {
   "cell_type": "code",
   "execution_count": 20,
   "id": "clean-domestic",
   "metadata": {},
   "outputs": [
    {
     "name": "stdout",
     "output_type": "stream",
     "text": [
      "13\n",
      "Link    https://raw.githubusercontent.com/IGARDS/RPLib/master/data/lolib/13_D.json\n",
      "Name: 13, dtype: object\n",
      "(49, 49)\n",
      "Academic license - for non-commercial use only - expires 2022-09-05\n",
      "Using license file /home/jupyter-pander14/gurobi.lic\n",
      "Found multiple solutions for https://raw.githubusercontent.com/IGARDS/RPLib/master/data/lolib/13_D.json\n",
      "Writing to 13_lop_card.json\n",
      "14\n",
      "Link    https://raw.githubusercontent.com/IGARDS/RPLib/master/data/lolib/14_D.json\n",
      "Name: 14, dtype: object\n",
      "(50, 50)\n",
      "Academic license - for non-commercial use only - expires 2022-09-05\n",
      "Using license file /home/jupyter-pander14/gurobi.lic\n",
      "Found multiple solutions for https://raw.githubusercontent.com/IGARDS/RPLib/master/data/lolib/14_D.json\n",
      "Writing to 14_lop_card.json\n"
     ]
    }
   ],
   "source": [
    "for ix in df_games.index:\n",
    "    print(ix)\n",
    "    !python ../../pipelines/create_lop_card.py {ix} {ix}"
   ]
  },
  {
   "cell_type": "markdown",
   "id": "material-electronics",
   "metadata": {},
   "source": [
    "## Show how you can import a LOP Card"
   ]
  },
  {
   "cell_type": "code",
   "execution_count": 21,
   "id": "greek-irish",
   "metadata": {},
   "outputs": [],
   "source": [
    "import sys\n",
    "from pathlib import Path\n",
    "home = str(Path.home()) # all other paths are relative to this path. \n",
    "sys.path.insert(0,home)"
   ]
  },
  {
   "cell_type": "code",
   "execution_count": 22,
   "id": "bulgarian-newsletter",
   "metadata": {},
   "outputs": [],
   "source": [
    "%load_ext autoreload\n",
    "%autoreload 2"
   ]
  },
  {
   "cell_type": "code",
   "execution_count": 23,
   "id": "authentic-turning",
   "metadata": {},
   "outputs": [],
   "source": [
    "import RPLib.pyrplib as pyrplib"
   ]
  },
  {
   "cell_type": "code",
   "execution_count": 25,
   "id": "generous-scope",
   "metadata": {},
   "outputs": [],
   "source": [
    "lop_card = pyrplib.base.LOPCard.from_json(\"./14_lop_card.json\")"
   ]
  },
  {
   "cell_type": "code",
   "execution_count": 26,
   "id": "favorite-credits",
   "metadata": {},
   "outputs": [
    {
     "data": {
      "text/plain": [
       "D                    {'0': {'0': 13745, '1': 0, '2': 0, '3': 1864, ...\n",
       "obj                                                           716994.0\n",
       "solutions            [[3, 5, 4, 37, 43, 28, 6, 45, 44, 42, 39, 30, ...\n",
       "max_tau_solutions                                                 None\n",
       "centroid_x           [[0.0, 0.5, 0.5, 0.0, 0.0, 0.0, 0.0, 0.5, 0.0,...\n",
       "outlier_solution     [48, 49, 40, 18, 47, 17, 15, 26, 46, 36, 19, 2...\n",
       "dataset_id                                                          14\n",
       "source_dataset_id                                                   14\n",
       "dtype: object"
      ]
     },
     "execution_count": 26,
     "metadata": {},
     "output_type": "execute_result"
    }
   ],
   "source": [
    "lop_card._instance"
   ]
  },
  {
   "cell_type": "code",
   "execution_count": 27,
   "id": "least-fifty",
   "metadata": {},
   "outputs": [
    {
     "data": {
      "text/html": [
       "<div>\n",
       "<style scoped>\n",
       "    .dataframe tbody tr th:only-of-type {\n",
       "        vertical-align: middle;\n",
       "    }\n",
       "\n",
       "    .dataframe tbody tr th {\n",
       "        vertical-align: top;\n",
       "    }\n",
       "\n",
       "    .dataframe thead th {\n",
       "        text-align: right;\n",
       "    }\n",
       "</style>\n",
       "<table border=\"1\" class=\"dataframe\">\n",
       "  <thead>\n",
       "    <tr style=\"text-align: right;\">\n",
       "      <th></th>\n",
       "      <th>0</th>\n",
       "      <th>1</th>\n",
       "      <th>2</th>\n",
       "      <th>3</th>\n",
       "      <th>4</th>\n",
       "      <th>5</th>\n",
       "      <th>6</th>\n",
       "      <th>7</th>\n",
       "      <th>8</th>\n",
       "      <th>9</th>\n",
       "      <th>...</th>\n",
       "      <th>40</th>\n",
       "      <th>41</th>\n",
       "      <th>42</th>\n",
       "      <th>43</th>\n",
       "      <th>44</th>\n",
       "      <th>45</th>\n",
       "      <th>46</th>\n",
       "      <th>47</th>\n",
       "      <th>48</th>\n",
       "      <th>49</th>\n",
       "    </tr>\n",
       "  </thead>\n",
       "  <tbody>\n",
       "    <tr>\n",
       "      <th>0</th>\n",
       "      <td>3</td>\n",
       "      <td>5</td>\n",
       "      <td>4</td>\n",
       "      <td>37</td>\n",
       "      <td>43</td>\n",
       "      <td>28</td>\n",
       "      <td>6</td>\n",
       "      <td>45</td>\n",
       "      <td>44</td>\n",
       "      <td>42</td>\n",
       "      <td>...</td>\n",
       "      <td>19</td>\n",
       "      <td>36</td>\n",
       "      <td>26</td>\n",
       "      <td>15</td>\n",
       "      <td>17</td>\n",
       "      <td>47</td>\n",
       "      <td>18</td>\n",
       "      <td>40</td>\n",
       "      <td>49</td>\n",
       "      <td>48</td>\n",
       "    </tr>\n",
       "    <tr>\n",
       "      <th>1</th>\n",
       "      <td>3</td>\n",
       "      <td>5</td>\n",
       "      <td>4</td>\n",
       "      <td>37</td>\n",
       "      <td>43</td>\n",
       "      <td>28</td>\n",
       "      <td>6</td>\n",
       "      <td>45</td>\n",
       "      <td>44</td>\n",
       "      <td>42</td>\n",
       "      <td>...</td>\n",
       "      <td>19</td>\n",
       "      <td>36</td>\n",
       "      <td>26</td>\n",
       "      <td>15</td>\n",
       "      <td>47</td>\n",
       "      <td>17</td>\n",
       "      <td>49</td>\n",
       "      <td>18</td>\n",
       "      <td>40</td>\n",
       "      <td>48</td>\n",
       "    </tr>\n",
       "    <tr>\n",
       "      <th>2</th>\n",
       "      <td>48</td>\n",
       "      <td>49</td>\n",
       "      <td>40</td>\n",
       "      <td>18</td>\n",
       "      <td>47</td>\n",
       "      <td>17</td>\n",
       "      <td>15</td>\n",
       "      <td>26</td>\n",
       "      <td>46</td>\n",
       "      <td>36</td>\n",
       "      <td>...</td>\n",
       "      <td>42</td>\n",
       "      <td>44</td>\n",
       "      <td>45</td>\n",
       "      <td>6</td>\n",
       "      <td>28</td>\n",
       "      <td>43</td>\n",
       "      <td>37</td>\n",
       "      <td>4</td>\n",
       "      <td>5</td>\n",
       "      <td>3</td>\n",
       "    </tr>\n",
       "  </tbody>\n",
       "</table>\n",
       "<p>3 rows × 50 columns</p>\n",
       "</div>"
      ],
      "text/plain": [
       "   0   1   2   3   4   5   6   7   8   9   ...  40  41  42  43  44  45  46  \\\n",
       "0   3   5   4  37  43  28   6  45  44  42  ...  19  36  26  15  17  47  18   \n",
       "1   3   5   4  37  43  28   6  45  44  42  ...  19  36  26  15  47  17  49   \n",
       "2  48  49  40  18  47  17  15  26  46  36  ...  42  44  45   6  28  43  37   \n",
       "\n",
       "   47  48  49  \n",
       "0  40  49  48  \n",
       "1  18  40  48  \n",
       "2   4   5   3  \n",
       "\n",
       "[3 rows x 50 columns]"
      ]
     },
     "execution_count": 27,
     "metadata": {},
     "output_type": "execute_result"
    }
   ],
   "source": [
    "pd.DataFrame(lop_card.solutions)"
   ]
  }
 ],
 "metadata": {
  "kernelspec": {
   "display_name": "Python 3",
   "language": "python",
   "name": "python3"
  },
  "language_info": {
   "codemirror_mode": {
    "name": "ipython",
    "version": 3
   },
   "file_extension": ".py",
   "mimetype": "text/x-python",
   "name": "python",
   "nbconvert_exporter": "python",
   "pygments_lexer": "ipython3",
   "version": "3.7.3"
  }
 },
 "nbformat": 4,
 "nbformat_minor": 5
}
