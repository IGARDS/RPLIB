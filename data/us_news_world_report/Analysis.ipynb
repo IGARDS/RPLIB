{
 "cells": [
  {
   "cell_type": "markdown",
   "metadata": {
    "slideshow": {
     "slide_type": "slide"
    }
   },
   "source": [
    "# US News World Report Analysis"
   ]
  },
  {
   "cell_type": "code",
   "execution_count": null,
   "metadata": {},
   "outputs": [],
   "source": [
    "import os\n",
    "\n",
    "RPLIBHOME=os.getenv('RPLIBHOME')"
   ]
  },
  {
   "cell_type": "code",
   "execution_count": 2,
   "metadata": {},
   "outputs": [
    {
     "name": "stdout",
     "output_type": "stream",
     "text": [
      "Dataframes Available\n",
      "Ds_df\n",
      "datasets_df\n",
      "hillside_cards_df\n",
      "lop_cards_df\n"
     ]
    }
   ],
   "source": [
    "exec(open('/config_dev.py').read())"
   ]
  },
  {
   "cell_type": "code",
   "execution_count": 3,
   "metadata": {},
   "outputs": [
    {
     "data": {
      "text/html": [
       "<div>\n",
       "<style scoped>\n",
       "    .dataframe tbody tr th:only-of-type {\n",
       "        vertical-align: middle;\n",
       "    }\n",
       "\n",
       "    .dataframe tbody tr th {\n",
       "        vertical-align: top;\n",
       "    }\n",
       "\n",
       "    .dataframe thead th {\n",
       "        text-align: right;\n",
       "    }\n",
       "</style>\n",
       "<table border=\"1\" class=\"dataframe\">\n",
       "  <thead>\n",
       "    <tr style=\"text-align: right;\">\n",
       "      <th></th>\n",
       "      <th>Dataset Name</th>\n",
       "      <th>Description</th>\n",
       "      <th>Type</th>\n",
       "      <th>Data provenance</th>\n",
       "      <th>Download links</th>\n",
       "    </tr>\n",
       "    <tr>\n",
       "      <th>Dataset ID</th>\n",
       "      <th></th>\n",
       "      <th></th>\n",
       "      <th></th>\n",
       "      <th></th>\n",
       "      <th></th>\n",
       "    </tr>\n",
       "  </thead>\n",
       "  <tbody>\n",
       "    <tr>\n",
       "      <th>19</th>\n",
       "      <td>US News and World Report</td>\n",
       "      <td>US News and World Report (Need years)</td>\n",
       "      <td>Features</td>\n",
       "      <td>https://github.com/IGARDS/RPLib/blob/main/pipe...</td>\n",
       "      <td>https://raw.githubusercontent.com/IGARDS/us_ne...</td>\n",
       "    </tr>\n",
       "  </tbody>\n",
       "</table>\n",
       "</div>"
      ],
      "text/plain": [
       "                        Dataset Name                            Description  \\\n",
       "Dataset ID                                                                    \n",
       "19          US News and World Report  US News and World Report (Need years)   \n",
       "\n",
       "                Type                                    Data provenance  \\\n",
       "Dataset ID                                                                \n",
       "19          Features  https://github.com/IGARDS/RPLib/blob/main/pipe...   \n",
       "\n",
       "                                               Download links  \n",
       "Dataset ID                                                     \n",
       "19          https://raw.githubusercontent.com/IGARDS/us_ne...  "
      ]
     },
     "execution_count": 3,
     "metadata": {},
     "output_type": "execute_result"
    }
   ],
   "source": [
    "import pandas as pd\n",
    "\n",
    "df_games = datasets_df.loc[(datasets_df['Type'] == 'Features') & (datasets_df['Dataset Name'].str.contains('US News'))]\n",
    "df_games.set_index('Dataset ID',inplace=True)\n",
    "df_games"
   ]
  },
  {
   "cell_type": "markdown",
   "metadata": {},
   "source": [
    "## D Matrix Creation"
   ]
  },
  {
   "cell_type": "code",
   "execution_count": 4,
   "metadata": {},
   "outputs": [
    {
     "name": "stdout",
     "output_type": "stream",
     "text": [
      "test\n",
      "test\n",
      "test\n",
      "^C\n",
      "Traceback (most recent call last):\n",
      "  File \"../../pipelines/create_D_from_us_news_world_report.py\", line 12, in <module>\n",
      "    from ranking_toolbox import pyrankability\n",
      "  File \"/home/jupyter-pander14/ranking_toolbox/pyrankability/__init__.py\", line 5, in <module>\n",
      "    from . import plot\n",
      "  File \"/home/jupyter-pander14/ranking_toolbox/pyrankability/plot.py\", line 1, in <module>\n",
      "    import matplotlib.pyplot as plt\n",
      "  File \"/opt/tljh/user/lib/python3.7/site-packages/matplotlib/pyplot.py\", line 36, in <module>\n",
      "    import matplotlib.colorbar\n",
      "  File \"/opt/tljh/user/lib/python3.7/site-packages/matplotlib/colorbar.py\", line 44, in <module>\n",
      "    import matplotlib.contour as contour\n",
      "  File \"/opt/tljh/user/lib/python3.7/site-packages/matplotlib/contour.py\", line 17, in <module>\n",
      "    import matplotlib.text as text\n",
      "  File \"/opt/tljh/user/lib/python3.7/site-packages/matplotlib/text.py\", line 1241, in <module>\n",
      "    docstring.interpd.update(Text=artist.kwdoc(Text))\n",
      "  File \"/opt/tljh/user/lib/python3.7/site-packages/matplotlib/artist.py\", line 1629, in kwdoc\n",
      "    ai = ArtistInspector(artist)\n",
      "  File \"/opt/tljh/user/lib/python3.7/site-packages/matplotlib/artist.py\", line 1260, in __init__\n",
      "    self.aliasd = self.get_aliases()\n",
      "  File \"/opt/tljh/user/lib/python3.7/site-packages/matplotlib/artist.py\", line 1279, in get_aliases\n",
      "    if not self.is_alias(func):\n",
      "  File \"/opt/tljh/user/lib/python3.7/site-packages/matplotlib/artist.py\", line 1358, in is_alias\n",
      "    ds = inspect.getdoc(o)\n",
      "  File \"/opt/tljh/user/lib/python3.7/inspect.py\", line 611, in getdoc\n",
      "    return cleandoc(doc)\n",
      "  File \"/opt/tljh/user/lib/python3.7/inspect.py\", line 640, in cleandoc\n",
      "    return '\\n'.join(lines)\n",
      "KeyboardInterrupt\n",
      "test\n",
      "test\n"
     ]
    }
   ],
   "source": [
    "years = [2002,2003,2004]\n",
    "columns = ['columns1.txt','columns2.txt']\n",
    "colleges = ['colleges1.txt']\n",
    "for ix in df_games.index:\n",
    "    for year in years:\n",
    "        for columns_sel in columns:\n",
    "            for colleges_sel in colleges:\n",
    "                !python ../../pipelines/create_D_from_us_news_world_report.py {ix} {ix} {year} {colleges_sel} {columns_sel}"
   ]
  },
  {
   "cell_type": "code",
   "execution_count": 1,
   "metadata": {
    "slideshow": {
     "slide_type": "skip"
    }
   },
   "outputs": [],
   "source": [
    "%matplotlib inline\n",
    "%load_ext autoreload\n",
    "%autoreload 2"
   ]
  },
  {
   "cell_type": "code",
   "execution_count": 2,
   "metadata": {
    "slideshow": {
     "slide_type": "skip"
    }
   },
   "outputs": [],
   "source": [
    "import pandas as pd\n",
    "import numpy as np"
   ]
  },
  {
   "cell_type": "code",
   "execution_count": 3,
   "metadata": {
    "slideshow": {
     "slide_type": "skip"
    }
   },
   "outputs": [],
   "source": [
    "import networkx as nx\n",
    "from networkx.drawing.nx_agraph import graphviz_layout, to_agraph\n",
    "import pygraphviz as pgv\n",
    "\n",
    "from IPython.display import Image\n",
    "def draw(A):\n",
    "    return Image(A.draw(format='png', prog='dot'))"
   ]
  },
  {
   "cell_type": "code",
   "execution_count": 4,
   "metadata": {
    "slideshow": {
     "slide_type": "skip"
    }
   },
   "outputs": [],
   "source": [
    "import sys\n",
    "from pathlib import Path\n",
    "home = str(Path.home())\n",
    "\n",
    "sys.path.insert(0,\"%s/ranking_toolbox\"%home)\n",
    "sys.path.insert(0,\"%s/RPLib\"%home)"
   ]
  },
  {
   "cell_type": "code",
   "execution_count": 5,
   "metadata": {
    "slideshow": {
     "slide_type": "skip"
    }
   },
   "outputs": [],
   "source": [
    "import pyrankability"
   ]
  },
  {
   "cell_type": "code",
   "execution_count": 6,
   "metadata": {
    "slideshow": {
     "slide_type": "skip"
    }
   },
   "outputs": [],
   "source": [
    "import pyrplib"
   ]
  },
  {
   "cell_type": "code",
   "execution_count": 7,
   "metadata": {
    "slideshow": {
     "slide_type": "skip"
    }
   },
   "outputs": [],
   "source": [
    "years = [2002,2003,2004]"
   ]
  },
  {
   "cell_type": "code",
   "execution_count": 8,
   "metadata": {
    "slideshow": {
     "slide_type": "skip"
    }
   },
   "outputs": [
    {
     "data": {
      "text/plain": [
       "['Amherst College',\n",
       " 'Bowdoin College',\n",
       " 'Carleton College',\n",
       " 'Claremont McKenna College',\n",
       " 'Davidson College',\n",
       " 'Haverford College',\n",
       " 'Middlebury College',\n",
       " 'Pomona College',\n",
       " 'Swarthmore College',\n",
       " 'Wellesley College',\n",
       " 'Williams College']"
      ]
     },
     "execution_count": 8,
     "metadata": {},
     "output_type": "execute_result"
    }
   ],
   "source": [
    "colleges = \"\"\"\n",
    "Amherst College\n",
    "Bowdoin College\n",
    "Carleton College\n",
    "Claremont McKenna College\n",
    "Davidson College\n",
    "Haverford College\n",
    "Middlebury College\n",
    "Pomona College\n",
    "Swarthmore College\n",
    "Wellesley College\n",
    "Williams College\n",
    "\"\"\".strip().split('\\n')\n",
    "colleges"
   ]
  },
  {
   "cell_type": "code",
   "execution_count": 9,
   "metadata": {
    "slideshow": {
     "slide_type": "subslide"
    }
   },
   "outputs": [
    {
     "data": {
      "text/plain": [
       "0               Amherst College\n",
       "1               Bowdoin College\n",
       "2              Carleton College\n",
       "3     Claremont McKenna College\n",
       "4              Davidson College\n",
       "5             Haverford College\n",
       "6            Middlebury College\n",
       "7                Pomona College\n",
       "8            Swarthmore College\n",
       "9             Wellesley College\n",
       "10             Williams College\n",
       "dtype: object"
      ]
     },
     "execution_count": 9,
     "metadata": {},
     "output_type": "execute_result"
    }
   ],
   "source": [
    "pd.Series(colleges)"
   ]
  },
  {
   "cell_type": "code",
   "execution_count": 10,
   "metadata": {
    "slideshow": {
     "slide_type": "skip"
    }
   },
   "outputs": [
    {
     "name": "stderr",
     "output_type": "stream",
     "text": [
      "/opt/tljh/user/lib/python3.7/site-packages/ipykernel_launcher.py:6: FutureWarning: The default value of regex will change from True to False in a future version.\n",
      "  \n"
     ]
    }
   ],
   "source": [
    "data = {}\n",
    "for year in years:\n",
    "    data[year] = pd.read_excel('data/USNews liberal arts 2002-2016 (1).xls',sheet_name=str(year))\n",
    "    data[year]['School Name'] = data[year]['School Name'].str.replace('!','')\n",
    "    if 'State' in data[year].columns:\n",
    "        data[year]['State'] = data[year]['State'].str.replace('\\(','').str.replace('\\)','')\n",
    "    df = pd.DataFrame(list(data[year]['SAT/ACT 25th-75th Percentile'].str.split('-')),columns=['SAT/ACT 25th Percentile','SAT/ACT 75th Percentile'])\n",
    "    data[year] = pd.concat([data[year],df],axis=1)\n",
    "    data[year] = data[year].infer_objects()\n",
    "    data[year]['SAT/ACT 25th-75th Percentile Mean'] = (data[year]['SAT/ACT 25th Percentile'].astype(int)+data[year]['SAT/ACT 75th Percentile'].astype(int))/2\n"
   ]
  },
  {
   "cell_type": "code",
   "execution_count": 11,
   "metadata": {},
   "outputs": [],
   "source": [
    "data2 = {}\n",
    "for year in years:\n",
    "    data2[year] = data[year].set_index('School Name')\n",
    "    data2[year] = data2[year].loc[colleges]"
   ]
  },
  {
   "cell_type": "markdown",
   "metadata": {},
   "source": [
    "### Now select the year you want to process"
   ]
  },
  {
   "cell_type": "code",
   "execution_count": 12,
   "metadata": {},
   "outputs": [],
   "source": [
    "year = 2002"
   ]
  },
  {
   "cell_type": "code",
   "execution_count": 13,
   "metadata": {
    "slideshow": {
     "slide_type": "skip"
    }
   },
   "outputs": [],
   "source": [
    "student_columns = {}\n",
    "parent_columns = {}"
   ]
  },
  {
   "cell_type": "code",
   "execution_count": 14,
   "metadata": {
    "slideshow": {
     "slide_type": "subslide"
    }
   },
   "outputs": [
    {
     "data": {
      "text/plain": [
       "['Selectivity Rank',\n",
       " 'Acceptance Rate',\n",
       " 'SAT/ACT 25th-75th Percentile Mean',\n",
       " 'Percent of Classes with Less Than 20 Students',\n",
       " 'Student/Faculty Ratio']"
      ]
     },
     "execution_count": 14,
     "metadata": {},
     "output_type": "execute_result"
    }
   ],
   "source": [
    "columns = list(data[year].columns)\n",
    "student_columns[year] = [columns[13],columns[16],columns[22],columns[9],columns[11]]\n",
    "student_columns[year]"
   ]
  },
  {
   "cell_type": "code",
   "execution_count": 15,
   "metadata": {
    "slideshow": {
     "slide_type": "subslide"
    }
   },
   "outputs": [
    {
     "data": {
      "text/plain": [
       "['Actual 6-year Graduation Rate',\n",
       " 'Percent of Classes with Less Than 20 Students',\n",
       " 'Student/Faculty Ratio',\n",
       " 'Selectivity Rank',\n",
       " 'Acceptance Rate']"
      ]
     },
     "execution_count": 15,
     "metadata": {},
     "output_type": "execute_result"
    }
   ],
   "source": [
    "parent_columns[year] = [columns[6],columns[9],columns[11],columns[13],columns[16]]\n",
    "parent_columns[year]"
   ]
  },
  {
   "cell_type": "code",
   "execution_count": 16,
   "metadata": {},
   "outputs": [
    {
     "data": {
      "text/plain": [
       "{'Acceptance Rate',\n",
       " 'Actual 6-year Graduation Rate',\n",
       " 'Percent of Classes with Less Than 20 Students',\n",
       " 'SAT/ACT 25th-75th Percentile Mean',\n",
       " 'Selectivity Rank',\n",
       " 'Student/Faculty Ratio'}"
      ]
     },
     "execution_count": 16,
     "metadata": {},
     "output_type": "execute_result"
    }
   ],
   "source": [
    "set(parent_columns[year]).union(student_columns[year])"
   ]
  },
  {
   "cell_type": "markdown",
   "metadata": {
    "slideshow": {
     "slide_type": "skip"
    }
   },
   "source": [
    "Do we have all the colleges? "
   ]
  },
  {
   "cell_type": "code",
   "execution_count": 17,
   "metadata": {
    "slideshow": {
     "slide_type": "skip"
    }
   },
   "outputs": [],
   "source": [
    "assert sum(data[year]['School Name'].isin(colleges)) == len(colleges)"
   ]
  },
  {
   "cell_type": "markdown",
   "metadata": {
    "slideshow": {
     "slide_type": "subslide"
    }
   },
   "source": [
    "## Transform all the columns so they are the same direction as Final Rank column"
   ]
  },
  {
   "cell_type": "code",
   "execution_count": 18,
   "metadata": {
    "slideshow": {
     "slide_type": "skip"
    }
   },
   "outputs": [],
   "source": [
    "from sklearn.pipeline import Pipeline\n",
    "Ds = pd.DataFrame(columns=['Year','Group','D']).set_index(['Year','Group'])\n",
    "parent_pipe = Pipeline([('fix_sign', pyrplib.transformers.ColumnDirectionTransformer('Final Rank')),\n",
    "                        ('count_transformer', pyrplib.transformers.ColumnCountTransformer(parent_columns[year]))\n",
    "                ])\n",
    "\n",
    "student_pipe = Pipeline([('fix_sign', pyrplib.transformers.ColumnDirectionTransformer('Final Rank')),\n",
    "                        ('count_transformer', pyrplib.transformers.ColumnCountTransformer(student_columns[year]))\n",
    "                ])\n",
    "\n",
    "both_columns = list(set(parent_columns[year]+student_columns[year]))\n",
    "\n",
    "both_pipe = Pipeline([('fix_sign', pyrplib.transformers.ColumnDirectionTransformer('Final Rank')),\n",
    "                        ('count_transformer', pyrplib.transformers.ColumnCountTransformer(both_columns))\n",
    "                ])\n",
    "\n",
    "parent_pipe.fit(data2[year])\n",
    "D = parent_pipe.transform(data2[year])\n",
    "Ds = Ds.append(pd.Series([D],index=['D'],name=(year,'Parent')))\n",
    "\n",
    "student_pipe.fit(data2[year])\n",
    "D = student_pipe.transform(data2[year])\n",
    "Ds = Ds.append(pd.Series([D],index=['D'],name=(year,'Student')))\n",
    "\n",
    "both_pipe.fit(data2[year])\n",
    "D = both_pipe.transform(data2[year])\n",
    "Ds = Ds.append(pd.Series([D],index=['D'],name=(year,'Both')))"
   ]
  },
  {
   "cell_type": "code",
   "execution_count": 19,
   "metadata": {
    "slideshow": {
     "slide_type": "subslide"
    }
   },
   "outputs": [
    {
     "data": {
      "text/html": [
       "<div>\n",
       "<style scoped>\n",
       "    .dataframe tbody tr th:only-of-type {\n",
       "        vertical-align: middle;\n",
       "    }\n",
       "\n",
       "    .dataframe tbody tr th {\n",
       "        vertical-align: top;\n",
       "    }\n",
       "\n",
       "    .dataframe thead th {\n",
       "        text-align: right;\n",
       "    }\n",
       "</style>\n",
       "<table border=\"1\" class=\"dataframe\">\n",
       "  <thead>\n",
       "    <tr style=\"text-align: right;\">\n",
       "      <th></th>\n",
       "      <th>Amherst College</th>\n",
       "      <th>Bowdoin College</th>\n",
       "      <th>Carleton College</th>\n",
       "      <th>Claremont McKenna College</th>\n",
       "      <th>Davidson College</th>\n",
       "      <th>Haverford College</th>\n",
       "      <th>Middlebury College</th>\n",
       "      <th>Pomona College</th>\n",
       "      <th>Swarthmore College</th>\n",
       "      <th>Wellesley College</th>\n",
       "      <th>Williams College</th>\n",
       "    </tr>\n",
       "    <tr>\n",
       "      <th>School Name1</th>\n",
       "      <th></th>\n",
       "      <th></th>\n",
       "      <th></th>\n",
       "      <th></th>\n",
       "      <th></th>\n",
       "      <th></th>\n",
       "      <th></th>\n",
       "      <th></th>\n",
       "      <th></th>\n",
       "      <th></th>\n",
       "      <th></th>\n",
       "    </tr>\n",
       "  </thead>\n",
       "  <tbody>\n",
       "    <tr>\n",
       "      <th>Amherst College</th>\n",
       "      <td>0.0</td>\n",
       "      <td>5.0</td>\n",
       "      <td>4.0</td>\n",
       "      <td>6.0</td>\n",
       "      <td>5.0</td>\n",
       "      <td>5.0</td>\n",
       "      <td>3.0</td>\n",
       "      <td>4.0</td>\n",
       "      <td>3.0</td>\n",
       "      <td>6.0</td>\n",
       "      <td>4.0</td>\n",
       "    </tr>\n",
       "    <tr>\n",
       "      <th>Bowdoin College</th>\n",
       "      <td>1.0</td>\n",
       "      <td>0.0</td>\n",
       "      <td>4.0</td>\n",
       "      <td>4.0</td>\n",
       "      <td>5.0</td>\n",
       "      <td>3.0</td>\n",
       "      <td>2.0</td>\n",
       "      <td>3.0</td>\n",
       "      <td>1.0</td>\n",
       "      <td>5.0</td>\n",
       "      <td>1.0</td>\n",
       "    </tr>\n",
       "    <tr>\n",
       "      <th>Carleton College</th>\n",
       "      <td>2.0</td>\n",
       "      <td>2.0</td>\n",
       "      <td>0.0</td>\n",
       "      <td>3.0</td>\n",
       "      <td>3.0</td>\n",
       "      <td>2.0</td>\n",
       "      <td>2.0</td>\n",
       "      <td>2.0</td>\n",
       "      <td>1.0</td>\n",
       "      <td>3.0</td>\n",
       "      <td>2.0</td>\n",
       "    </tr>\n",
       "    <tr>\n",
       "      <th>Claremont McKenna College</th>\n",
       "      <td>0.0</td>\n",
       "      <td>2.0</td>\n",
       "      <td>3.0</td>\n",
       "      <td>0.0</td>\n",
       "      <td>4.0</td>\n",
       "      <td>4.0</td>\n",
       "      <td>1.0</td>\n",
       "      <td>3.0</td>\n",
       "      <td>0.0</td>\n",
       "      <td>4.0</td>\n",
       "      <td>1.0</td>\n",
       "    </tr>\n",
       "    <tr>\n",
       "      <th>Davidson College</th>\n",
       "      <td>1.0</td>\n",
       "      <td>1.0</td>\n",
       "      <td>3.0</td>\n",
       "      <td>2.0</td>\n",
       "      <td>0.0</td>\n",
       "      <td>1.0</td>\n",
       "      <td>2.0</td>\n",
       "      <td>2.0</td>\n",
       "      <td>1.0</td>\n",
       "      <td>4.0</td>\n",
       "      <td>1.0</td>\n",
       "    </tr>\n",
       "    <tr>\n",
       "      <th>Haverford College</th>\n",
       "      <td>1.0</td>\n",
       "      <td>3.0</td>\n",
       "      <td>4.0</td>\n",
       "      <td>2.0</td>\n",
       "      <td>5.0</td>\n",
       "      <td>0.0</td>\n",
       "      <td>3.0</td>\n",
       "      <td>2.0</td>\n",
       "      <td>2.0</td>\n",
       "      <td>6.0</td>\n",
       "      <td>2.0</td>\n",
       "    </tr>\n",
       "    <tr>\n",
       "      <th>Middlebury College</th>\n",
       "      <td>3.0</td>\n",
       "      <td>4.0</td>\n",
       "      <td>4.0</td>\n",
       "      <td>5.0</td>\n",
       "      <td>4.0</td>\n",
       "      <td>3.0</td>\n",
       "      <td>0.0</td>\n",
       "      <td>3.0</td>\n",
       "      <td>2.0</td>\n",
       "      <td>5.0</td>\n",
       "      <td>3.0</td>\n",
       "    </tr>\n",
       "    <tr>\n",
       "      <th>Pomona College</th>\n",
       "      <td>2.0</td>\n",
       "      <td>3.0</td>\n",
       "      <td>4.0</td>\n",
       "      <td>3.0</td>\n",
       "      <td>4.0</td>\n",
       "      <td>4.0</td>\n",
       "      <td>3.0</td>\n",
       "      <td>0.0</td>\n",
       "      <td>2.0</td>\n",
       "      <td>5.0</td>\n",
       "      <td>3.0</td>\n",
       "    </tr>\n",
       "    <tr>\n",
       "      <th>Swarthmore College</th>\n",
       "      <td>3.0</td>\n",
       "      <td>5.0</td>\n",
       "      <td>5.0</td>\n",
       "      <td>6.0</td>\n",
       "      <td>5.0</td>\n",
       "      <td>4.0</td>\n",
       "      <td>4.0</td>\n",
       "      <td>4.0</td>\n",
       "      <td>0.0</td>\n",
       "      <td>6.0</td>\n",
       "      <td>4.0</td>\n",
       "    </tr>\n",
       "    <tr>\n",
       "      <th>Wellesley College</th>\n",
       "      <td>0.0</td>\n",
       "      <td>1.0</td>\n",
       "      <td>3.0</td>\n",
       "      <td>2.0</td>\n",
       "      <td>2.0</td>\n",
       "      <td>0.0</td>\n",
       "      <td>1.0</td>\n",
       "      <td>1.0</td>\n",
       "      <td>0.0</td>\n",
       "      <td>0.0</td>\n",
       "      <td>2.0</td>\n",
       "    </tr>\n",
       "    <tr>\n",
       "      <th>Williams College</th>\n",
       "      <td>2.0</td>\n",
       "      <td>5.0</td>\n",
       "      <td>4.0</td>\n",
       "      <td>5.0</td>\n",
       "      <td>5.0</td>\n",
       "      <td>4.0</td>\n",
       "      <td>3.0</td>\n",
       "      <td>3.0</td>\n",
       "      <td>2.0</td>\n",
       "      <td>4.0</td>\n",
       "      <td>0.0</td>\n",
       "    </tr>\n",
       "  </tbody>\n",
       "</table>\n",
       "</div>"
      ],
      "text/plain": [
       "                           Amherst College  Bowdoin College  Carleton College  \\\n",
       "School Name1                                                                    \n",
       "Amherst College                        0.0              5.0               4.0   \n",
       "Bowdoin College                        1.0              0.0               4.0   \n",
       "Carleton College                       2.0              2.0               0.0   \n",
       "Claremont McKenna College              0.0              2.0               3.0   \n",
       "Davidson College                       1.0              1.0               3.0   \n",
       "Haverford College                      1.0              3.0               4.0   \n",
       "Middlebury College                     3.0              4.0               4.0   \n",
       "Pomona College                         2.0              3.0               4.0   \n",
       "Swarthmore College                     3.0              5.0               5.0   \n",
       "Wellesley College                      0.0              1.0               3.0   \n",
       "Williams College                       2.0              5.0               4.0   \n",
       "\n",
       "                           Claremont McKenna College  Davidson College  \\\n",
       "School Name1                                                             \n",
       "Amherst College                                  6.0               5.0   \n",
       "Bowdoin College                                  4.0               5.0   \n",
       "Carleton College                                 3.0               3.0   \n",
       "Claremont McKenna College                        0.0               4.0   \n",
       "Davidson College                                 2.0               0.0   \n",
       "Haverford College                                2.0               5.0   \n",
       "Middlebury College                               5.0               4.0   \n",
       "Pomona College                                   3.0               4.0   \n",
       "Swarthmore College                               6.0               5.0   \n",
       "Wellesley College                                2.0               2.0   \n",
       "Williams College                                 5.0               5.0   \n",
       "\n",
       "                           Haverford College  Middlebury College  \\\n",
       "School Name1                                                       \n",
       "Amherst College                          5.0                 3.0   \n",
       "Bowdoin College                          3.0                 2.0   \n",
       "Carleton College                         2.0                 2.0   \n",
       "Claremont McKenna College                4.0                 1.0   \n",
       "Davidson College                         1.0                 2.0   \n",
       "Haverford College                        0.0                 3.0   \n",
       "Middlebury College                       3.0                 0.0   \n",
       "Pomona College                           4.0                 3.0   \n",
       "Swarthmore College                       4.0                 4.0   \n",
       "Wellesley College                        0.0                 1.0   \n",
       "Williams College                         4.0                 3.0   \n",
       "\n",
       "                           Pomona College  Swarthmore College  \\\n",
       "School Name1                                                    \n",
       "Amherst College                       4.0                 3.0   \n",
       "Bowdoin College                       3.0                 1.0   \n",
       "Carleton College                      2.0                 1.0   \n",
       "Claremont McKenna College             3.0                 0.0   \n",
       "Davidson College                      2.0                 1.0   \n",
       "Haverford College                     2.0                 2.0   \n",
       "Middlebury College                    3.0                 2.0   \n",
       "Pomona College                        0.0                 2.0   \n",
       "Swarthmore College                    4.0                 0.0   \n",
       "Wellesley College                     1.0                 0.0   \n",
       "Williams College                      3.0                 2.0   \n",
       "\n",
       "                           Wellesley College  Williams College  \n",
       "School Name1                                                    \n",
       "Amherst College                          6.0               4.0  \n",
       "Bowdoin College                          5.0               1.0  \n",
       "Carleton College                         3.0               2.0  \n",
       "Claremont McKenna College                4.0               1.0  \n",
       "Davidson College                         4.0               1.0  \n",
       "Haverford College                        6.0               2.0  \n",
       "Middlebury College                       5.0               3.0  \n",
       "Pomona College                           5.0               3.0  \n",
       "Swarthmore College                       6.0               4.0  \n",
       "Wellesley College                        0.0               2.0  \n",
       "Williams College                         4.0               0.0  "
      ]
     },
     "execution_count": 19,
     "metadata": {},
     "output_type": "execute_result"
    }
   ],
   "source": [
    "Ds.loc[(year,'Both'),'D']"
   ]
  },
  {
   "cell_type": "code",
   "execution_count": 20,
   "metadata": {
    "slideshow": {
     "slide_type": "subslide"
    }
   },
   "outputs": [
    {
     "data": {
      "text/html": [
       "<div>\n",
       "<style scoped>\n",
       "    .dataframe tbody tr th:only-of-type {\n",
       "        vertical-align: middle;\n",
       "    }\n",
       "\n",
       "    .dataframe tbody tr th {\n",
       "        vertical-align: top;\n",
       "    }\n",
       "\n",
       "    .dataframe thead th {\n",
       "        text-align: right;\n",
       "    }\n",
       "</style>\n",
       "<table border=\"1\" class=\"dataframe\">\n",
       "  <thead>\n",
       "    <tr style=\"text-align: right;\">\n",
       "      <th></th>\n",
       "      <th>Amherst College</th>\n",
       "      <th>Bowdoin College</th>\n",
       "      <th>Carleton College</th>\n",
       "      <th>Claremont McKenna College</th>\n",
       "      <th>Davidson College</th>\n",
       "      <th>Haverford College</th>\n",
       "      <th>Middlebury College</th>\n",
       "      <th>Pomona College</th>\n",
       "      <th>Swarthmore College</th>\n",
       "      <th>Wellesley College</th>\n",
       "      <th>Williams College</th>\n",
       "    </tr>\n",
       "    <tr>\n",
       "      <th>School Name1</th>\n",
       "      <th></th>\n",
       "      <th></th>\n",
       "      <th></th>\n",
       "      <th></th>\n",
       "      <th></th>\n",
       "      <th></th>\n",
       "      <th></th>\n",
       "      <th></th>\n",
       "      <th></th>\n",
       "      <th></th>\n",
       "      <th></th>\n",
       "    </tr>\n",
       "  </thead>\n",
       "  <tbody>\n",
       "    <tr>\n",
       "      <th>Amherst College</th>\n",
       "      <td>0.0</td>\n",
       "      <td>4.0</td>\n",
       "      <td>3.0</td>\n",
       "      <td>5.0</td>\n",
       "      <td>4.0</td>\n",
       "      <td>4.0</td>\n",
       "      <td>2.0</td>\n",
       "      <td>3.0</td>\n",
       "      <td>2.0</td>\n",
       "      <td>5.0</td>\n",
       "      <td>3.0</td>\n",
       "    </tr>\n",
       "    <tr>\n",
       "      <th>Bowdoin College</th>\n",
       "      <td>1.0</td>\n",
       "      <td>0.0</td>\n",
       "      <td>3.0</td>\n",
       "      <td>3.0</td>\n",
       "      <td>5.0</td>\n",
       "      <td>3.0</td>\n",
       "      <td>1.0</td>\n",
       "      <td>2.0</td>\n",
       "      <td>1.0</td>\n",
       "      <td>4.0</td>\n",
       "      <td>1.0</td>\n",
       "    </tr>\n",
       "    <tr>\n",
       "      <th>Carleton College</th>\n",
       "      <td>2.0</td>\n",
       "      <td>2.0</td>\n",
       "      <td>0.0</td>\n",
       "      <td>2.0</td>\n",
       "      <td>3.0</td>\n",
       "      <td>2.0</td>\n",
       "      <td>1.0</td>\n",
       "      <td>1.0</td>\n",
       "      <td>1.0</td>\n",
       "      <td>3.0</td>\n",
       "      <td>2.0</td>\n",
       "    </tr>\n",
       "    <tr>\n",
       "      <th>Claremont McKenna College</th>\n",
       "      <td>0.0</td>\n",
       "      <td>2.0</td>\n",
       "      <td>3.0</td>\n",
       "      <td>0.0</td>\n",
       "      <td>4.0</td>\n",
       "      <td>4.0</td>\n",
       "      <td>1.0</td>\n",
       "      <td>2.0</td>\n",
       "      <td>0.0</td>\n",
       "      <td>4.0</td>\n",
       "      <td>1.0</td>\n",
       "    </tr>\n",
       "    <tr>\n",
       "      <th>Davidson College</th>\n",
       "      <td>1.0</td>\n",
       "      <td>0.0</td>\n",
       "      <td>2.0</td>\n",
       "      <td>1.0</td>\n",
       "      <td>0.0</td>\n",
       "      <td>1.0</td>\n",
       "      <td>1.0</td>\n",
       "      <td>1.0</td>\n",
       "      <td>1.0</td>\n",
       "      <td>3.0</td>\n",
       "      <td>1.0</td>\n",
       "    </tr>\n",
       "    <tr>\n",
       "      <th>Haverford College</th>\n",
       "      <td>1.0</td>\n",
       "      <td>2.0</td>\n",
       "      <td>3.0</td>\n",
       "      <td>1.0</td>\n",
       "      <td>4.0</td>\n",
       "      <td>0.0</td>\n",
       "      <td>2.0</td>\n",
       "      <td>1.0</td>\n",
       "      <td>1.0</td>\n",
       "      <td>5.0</td>\n",
       "      <td>2.0</td>\n",
       "    </tr>\n",
       "    <tr>\n",
       "      <th>Middlebury College</th>\n",
       "      <td>3.0</td>\n",
       "      <td>4.0</td>\n",
       "      <td>4.0</td>\n",
       "      <td>4.0</td>\n",
       "      <td>4.0</td>\n",
       "      <td>3.0</td>\n",
       "      <td>0.0</td>\n",
       "      <td>2.0</td>\n",
       "      <td>2.0</td>\n",
       "      <td>5.0</td>\n",
       "      <td>3.0</td>\n",
       "    </tr>\n",
       "    <tr>\n",
       "      <th>Pomona College</th>\n",
       "      <td>2.0</td>\n",
       "      <td>3.0</td>\n",
       "      <td>4.0</td>\n",
       "      <td>3.0</td>\n",
       "      <td>4.0</td>\n",
       "      <td>4.0</td>\n",
       "      <td>3.0</td>\n",
       "      <td>0.0</td>\n",
       "      <td>2.0</td>\n",
       "      <td>5.0</td>\n",
       "      <td>3.0</td>\n",
       "    </tr>\n",
       "    <tr>\n",
       "      <th>Swarthmore College</th>\n",
       "      <td>3.0</td>\n",
       "      <td>4.0</td>\n",
       "      <td>4.0</td>\n",
       "      <td>5.0</td>\n",
       "      <td>4.0</td>\n",
       "      <td>4.0</td>\n",
       "      <td>3.0</td>\n",
       "      <td>3.0</td>\n",
       "      <td>0.0</td>\n",
       "      <td>5.0</td>\n",
       "      <td>4.0</td>\n",
       "    </tr>\n",
       "    <tr>\n",
       "      <th>Wellesley College</th>\n",
       "      <td>0.0</td>\n",
       "      <td>1.0</td>\n",
       "      <td>2.0</td>\n",
       "      <td>1.0</td>\n",
       "      <td>2.0</td>\n",
       "      <td>0.0</td>\n",
       "      <td>0.0</td>\n",
       "      <td>0.0</td>\n",
       "      <td>0.0</td>\n",
       "      <td>0.0</td>\n",
       "      <td>2.0</td>\n",
       "    </tr>\n",
       "    <tr>\n",
       "      <th>Williams College</th>\n",
       "      <td>2.0</td>\n",
       "      <td>4.0</td>\n",
       "      <td>3.0</td>\n",
       "      <td>4.0</td>\n",
       "      <td>4.0</td>\n",
       "      <td>3.0</td>\n",
       "      <td>2.0</td>\n",
       "      <td>2.0</td>\n",
       "      <td>1.0</td>\n",
       "      <td>3.0</td>\n",
       "      <td>0.0</td>\n",
       "    </tr>\n",
       "  </tbody>\n",
       "</table>\n",
       "</div>"
      ],
      "text/plain": [
       "                           Amherst College  Bowdoin College  Carleton College  \\\n",
       "School Name1                                                                    \n",
       "Amherst College                        0.0              4.0               3.0   \n",
       "Bowdoin College                        1.0              0.0               3.0   \n",
       "Carleton College                       2.0              2.0               0.0   \n",
       "Claremont McKenna College              0.0              2.0               3.0   \n",
       "Davidson College                       1.0              0.0               2.0   \n",
       "Haverford College                      1.0              2.0               3.0   \n",
       "Middlebury College                     3.0              4.0               4.0   \n",
       "Pomona College                         2.0              3.0               4.0   \n",
       "Swarthmore College                     3.0              4.0               4.0   \n",
       "Wellesley College                      0.0              1.0               2.0   \n",
       "Williams College                       2.0              4.0               3.0   \n",
       "\n",
       "                           Claremont McKenna College  Davidson College  \\\n",
       "School Name1                                                             \n",
       "Amherst College                                  5.0               4.0   \n",
       "Bowdoin College                                  3.0               5.0   \n",
       "Carleton College                                 2.0               3.0   \n",
       "Claremont McKenna College                        0.0               4.0   \n",
       "Davidson College                                 1.0               0.0   \n",
       "Haverford College                                1.0               4.0   \n",
       "Middlebury College                               4.0               4.0   \n",
       "Pomona College                                   3.0               4.0   \n",
       "Swarthmore College                               5.0               4.0   \n",
       "Wellesley College                                1.0               2.0   \n",
       "Williams College                                 4.0               4.0   \n",
       "\n",
       "                           Haverford College  Middlebury College  \\\n",
       "School Name1                                                       \n",
       "Amherst College                          4.0                 2.0   \n",
       "Bowdoin College                          3.0                 1.0   \n",
       "Carleton College                         2.0                 1.0   \n",
       "Claremont McKenna College                4.0                 1.0   \n",
       "Davidson College                         1.0                 1.0   \n",
       "Haverford College                        0.0                 2.0   \n",
       "Middlebury College                       3.0                 0.0   \n",
       "Pomona College                           4.0                 3.0   \n",
       "Swarthmore College                       4.0                 3.0   \n",
       "Wellesley College                        0.0                 0.0   \n",
       "Williams College                         3.0                 2.0   \n",
       "\n",
       "                           Pomona College  Swarthmore College  \\\n",
       "School Name1                                                    \n",
       "Amherst College                       3.0                 2.0   \n",
       "Bowdoin College                       2.0                 1.0   \n",
       "Carleton College                      1.0                 1.0   \n",
       "Claremont McKenna College             2.0                 0.0   \n",
       "Davidson College                      1.0                 1.0   \n",
       "Haverford College                     1.0                 1.0   \n",
       "Middlebury College                    2.0                 2.0   \n",
       "Pomona College                        0.0                 2.0   \n",
       "Swarthmore College                    3.0                 0.0   \n",
       "Wellesley College                     0.0                 0.0   \n",
       "Williams College                      2.0                 1.0   \n",
       "\n",
       "                           Wellesley College  Williams College  \n",
       "School Name1                                                    \n",
       "Amherst College                          5.0               3.0  \n",
       "Bowdoin College                          4.0               1.0  \n",
       "Carleton College                         3.0               2.0  \n",
       "Claremont McKenna College                4.0               1.0  \n",
       "Davidson College                         3.0               1.0  \n",
       "Haverford College                        5.0               2.0  \n",
       "Middlebury College                       5.0               3.0  \n",
       "Pomona College                           5.0               3.0  \n",
       "Swarthmore College                       5.0               4.0  \n",
       "Wellesley College                        0.0               2.0  \n",
       "Williams College                         3.0               0.0  "
      ]
     },
     "execution_count": 20,
     "metadata": {},
     "output_type": "execute_result"
    }
   ],
   "source": [
    "Ds.loc[(year,'Student'),'D']"
   ]
  },
  {
   "cell_type": "code",
   "execution_count": 21,
   "metadata": {
    "slideshow": {
     "slide_type": "subslide"
    }
   },
   "outputs": [
    {
     "data": {
      "text/html": [
       "<div>\n",
       "<style scoped>\n",
       "    .dataframe tbody tr th:only-of-type {\n",
       "        vertical-align: middle;\n",
       "    }\n",
       "\n",
       "    .dataframe tbody tr th {\n",
       "        vertical-align: top;\n",
       "    }\n",
       "\n",
       "    .dataframe thead th {\n",
       "        text-align: right;\n",
       "    }\n",
       "</style>\n",
       "<table border=\"1\" class=\"dataframe\">\n",
       "  <thead>\n",
       "    <tr style=\"text-align: right;\">\n",
       "      <th></th>\n",
       "      <th>Amherst College</th>\n",
       "      <th>Bowdoin College</th>\n",
       "      <th>Carleton College</th>\n",
       "      <th>Claremont McKenna College</th>\n",
       "      <th>Davidson College</th>\n",
       "      <th>Haverford College</th>\n",
       "      <th>Middlebury College</th>\n",
       "      <th>Pomona College</th>\n",
       "      <th>Swarthmore College</th>\n",
       "      <th>Wellesley College</th>\n",
       "      <th>Williams College</th>\n",
       "    </tr>\n",
       "    <tr>\n",
       "      <th>School Name1</th>\n",
       "      <th></th>\n",
       "      <th></th>\n",
       "      <th></th>\n",
       "      <th></th>\n",
       "      <th></th>\n",
       "      <th></th>\n",
       "      <th></th>\n",
       "      <th></th>\n",
       "      <th></th>\n",
       "      <th></th>\n",
       "      <th></th>\n",
       "    </tr>\n",
       "  </thead>\n",
       "  <tbody>\n",
       "    <tr>\n",
       "      <th>Amherst College</th>\n",
       "      <td>0.0</td>\n",
       "      <td>4.0</td>\n",
       "      <td>3.0</td>\n",
       "      <td>5.0</td>\n",
       "      <td>4.0</td>\n",
       "      <td>4.0</td>\n",
       "      <td>3.0</td>\n",
       "      <td>4.0</td>\n",
       "      <td>3.0</td>\n",
       "      <td>5.0</td>\n",
       "      <td>4.0</td>\n",
       "    </tr>\n",
       "    <tr>\n",
       "      <th>Bowdoin College</th>\n",
       "      <td>1.0</td>\n",
       "      <td>0.0</td>\n",
       "      <td>4.0</td>\n",
       "      <td>4.0</td>\n",
       "      <td>4.0</td>\n",
       "      <td>2.0</td>\n",
       "      <td>2.0</td>\n",
       "      <td>3.0</td>\n",
       "      <td>1.0</td>\n",
       "      <td>4.0</td>\n",
       "      <td>1.0</td>\n",
       "    </tr>\n",
       "    <tr>\n",
       "      <th>Carleton College</th>\n",
       "      <td>2.0</td>\n",
       "      <td>1.0</td>\n",
       "      <td>0.0</td>\n",
       "      <td>3.0</td>\n",
       "      <td>2.0</td>\n",
       "      <td>1.0</td>\n",
       "      <td>2.0</td>\n",
       "      <td>2.0</td>\n",
       "      <td>1.0</td>\n",
       "      <td>2.0</td>\n",
       "      <td>2.0</td>\n",
       "    </tr>\n",
       "    <tr>\n",
       "      <th>Claremont McKenna College</th>\n",
       "      <td>0.0</td>\n",
       "      <td>1.0</td>\n",
       "      <td>2.0</td>\n",
       "      <td>0.0</td>\n",
       "      <td>3.0</td>\n",
       "      <td>3.0</td>\n",
       "      <td>1.0</td>\n",
       "      <td>3.0</td>\n",
       "      <td>0.0</td>\n",
       "      <td>3.0</td>\n",
       "      <td>1.0</td>\n",
       "    </tr>\n",
       "    <tr>\n",
       "      <th>Davidson College</th>\n",
       "      <td>1.0</td>\n",
       "      <td>1.0</td>\n",
       "      <td>3.0</td>\n",
       "      <td>2.0</td>\n",
       "      <td>0.0</td>\n",
       "      <td>1.0</td>\n",
       "      <td>2.0</td>\n",
       "      <td>2.0</td>\n",
       "      <td>1.0</td>\n",
       "      <td>4.0</td>\n",
       "      <td>1.0</td>\n",
       "    </tr>\n",
       "    <tr>\n",
       "      <th>Haverford College</th>\n",
       "      <td>1.0</td>\n",
       "      <td>3.0</td>\n",
       "      <td>4.0</td>\n",
       "      <td>2.0</td>\n",
       "      <td>4.0</td>\n",
       "      <td>0.0</td>\n",
       "      <td>3.0</td>\n",
       "      <td>2.0</td>\n",
       "      <td>2.0</td>\n",
       "      <td>5.0</td>\n",
       "      <td>2.0</td>\n",
       "    </tr>\n",
       "    <tr>\n",
       "      <th>Middlebury College</th>\n",
       "      <td>2.0</td>\n",
       "      <td>3.0</td>\n",
       "      <td>3.0</td>\n",
       "      <td>4.0</td>\n",
       "      <td>3.0</td>\n",
       "      <td>2.0</td>\n",
       "      <td>0.0</td>\n",
       "      <td>3.0</td>\n",
       "      <td>2.0</td>\n",
       "      <td>4.0</td>\n",
       "      <td>2.0</td>\n",
       "    </tr>\n",
       "    <tr>\n",
       "      <th>Pomona College</th>\n",
       "      <td>1.0</td>\n",
       "      <td>2.0</td>\n",
       "      <td>3.0</td>\n",
       "      <td>2.0</td>\n",
       "      <td>3.0</td>\n",
       "      <td>3.0</td>\n",
       "      <td>2.0</td>\n",
       "      <td>0.0</td>\n",
       "      <td>1.0</td>\n",
       "      <td>4.0</td>\n",
       "      <td>2.0</td>\n",
       "    </tr>\n",
       "    <tr>\n",
       "      <th>Swarthmore College</th>\n",
       "      <td>2.0</td>\n",
       "      <td>4.0</td>\n",
       "      <td>4.0</td>\n",
       "      <td>5.0</td>\n",
       "      <td>4.0</td>\n",
       "      <td>3.0</td>\n",
       "      <td>3.0</td>\n",
       "      <td>4.0</td>\n",
       "      <td>0.0</td>\n",
       "      <td>5.0</td>\n",
       "      <td>3.0</td>\n",
       "    </tr>\n",
       "    <tr>\n",
       "      <th>Wellesley College</th>\n",
       "      <td>0.0</td>\n",
       "      <td>1.0</td>\n",
       "      <td>3.0</td>\n",
       "      <td>2.0</td>\n",
       "      <td>1.0</td>\n",
       "      <td>0.0</td>\n",
       "      <td>1.0</td>\n",
       "      <td>1.0</td>\n",
       "      <td>0.0</td>\n",
       "      <td>0.0</td>\n",
       "      <td>2.0</td>\n",
       "    </tr>\n",
       "    <tr>\n",
       "      <th>Williams College</th>\n",
       "      <td>1.0</td>\n",
       "      <td>4.0</td>\n",
       "      <td>3.0</td>\n",
       "      <td>4.0</td>\n",
       "      <td>4.0</td>\n",
       "      <td>3.0</td>\n",
       "      <td>3.0</td>\n",
       "      <td>3.0</td>\n",
       "      <td>2.0</td>\n",
       "      <td>3.0</td>\n",
       "      <td>0.0</td>\n",
       "    </tr>\n",
       "  </tbody>\n",
       "</table>\n",
       "</div>"
      ],
      "text/plain": [
       "                           Amherst College  Bowdoin College  Carleton College  \\\n",
       "School Name1                                                                    \n",
       "Amherst College                        0.0              4.0               3.0   \n",
       "Bowdoin College                        1.0              0.0               4.0   \n",
       "Carleton College                       2.0              1.0               0.0   \n",
       "Claremont McKenna College              0.0              1.0               2.0   \n",
       "Davidson College                       1.0              1.0               3.0   \n",
       "Haverford College                      1.0              3.0               4.0   \n",
       "Middlebury College                     2.0              3.0               3.0   \n",
       "Pomona College                         1.0              2.0               3.0   \n",
       "Swarthmore College                     2.0              4.0               4.0   \n",
       "Wellesley College                      0.0              1.0               3.0   \n",
       "Williams College                       1.0              4.0               3.0   \n",
       "\n",
       "                           Claremont McKenna College  Davidson College  \\\n",
       "School Name1                                                             \n",
       "Amherst College                                  5.0               4.0   \n",
       "Bowdoin College                                  4.0               4.0   \n",
       "Carleton College                                 3.0               2.0   \n",
       "Claremont McKenna College                        0.0               3.0   \n",
       "Davidson College                                 2.0               0.0   \n",
       "Haverford College                                2.0               4.0   \n",
       "Middlebury College                               4.0               3.0   \n",
       "Pomona College                                   2.0               3.0   \n",
       "Swarthmore College                               5.0               4.0   \n",
       "Wellesley College                                2.0               1.0   \n",
       "Williams College                                 4.0               4.0   \n",
       "\n",
       "                           Haverford College  Middlebury College  \\\n",
       "School Name1                                                       \n",
       "Amherst College                          4.0                 3.0   \n",
       "Bowdoin College                          2.0                 2.0   \n",
       "Carleton College                         1.0                 2.0   \n",
       "Claremont McKenna College                3.0                 1.0   \n",
       "Davidson College                         1.0                 2.0   \n",
       "Haverford College                        0.0                 3.0   \n",
       "Middlebury College                       2.0                 0.0   \n",
       "Pomona College                           3.0                 2.0   \n",
       "Swarthmore College                       3.0                 3.0   \n",
       "Wellesley College                        0.0                 1.0   \n",
       "Williams College                         3.0                 3.0   \n",
       "\n",
       "                           Pomona College  Swarthmore College  \\\n",
       "School Name1                                                    \n",
       "Amherst College                       4.0                 3.0   \n",
       "Bowdoin College                       3.0                 1.0   \n",
       "Carleton College                      2.0                 1.0   \n",
       "Claremont McKenna College             3.0                 0.0   \n",
       "Davidson College                      2.0                 1.0   \n",
       "Haverford College                     2.0                 2.0   \n",
       "Middlebury College                    3.0                 2.0   \n",
       "Pomona College                        0.0                 1.0   \n",
       "Swarthmore College                    4.0                 0.0   \n",
       "Wellesley College                     1.0                 0.0   \n",
       "Williams College                      3.0                 2.0   \n",
       "\n",
       "                           Wellesley College  Williams College  \n",
       "School Name1                                                    \n",
       "Amherst College                          5.0               4.0  \n",
       "Bowdoin College                          4.0               1.0  \n",
       "Carleton College                         2.0               2.0  \n",
       "Claremont McKenna College                3.0               1.0  \n",
       "Davidson College                         4.0               1.0  \n",
       "Haverford College                        5.0               2.0  \n",
       "Middlebury College                       4.0               2.0  \n",
       "Pomona College                           4.0               2.0  \n",
       "Swarthmore College                       5.0               3.0  \n",
       "Wellesley College                        0.0               2.0  \n",
       "Williams College                         3.0               0.0  "
      ]
     },
     "execution_count": 21,
     "metadata": {},
     "output_type": "execute_result"
    }
   ],
   "source": [
    "Ds.loc[(year,'Parent'),'D']"
   ]
  },
  {
   "cell_type": "markdown",
   "metadata": {
    "slideshow": {
     "slide_type": "subslide"
    }
   },
   "source": [
    "## Nearest and farthest from Centroid for combined columns, parent, and student"
   ]
  },
  {
   "cell_type": "code",
   "execution_count": 39,
   "metadata": {
    "slideshow": {
     "slide_type": "skip"
    }
   },
   "outputs": [],
   "source": [
    "def update(details1,details2,init=True):\n",
    "    for key in details1.keys():\n",
    "        del details1[key]\n",
    "    for key in details2.keys():\n",
    "        details1[key] = details2[key]\n",
    "\n",
    "details_columns = ['details_cont','details_bin','details_fixed_cont_x_maximize','details_fixed_cont_x_minimize','details_pair_maximize','details_pair_minimize']\n",
    "for c in details_columns:\n",
    "    Ds.loc[:,c] = [{} for _ in range(len(Ds))]\n",
    "for index in Ds.index:\n",
    "    D = Ds.loc[index,'D']\n",
    "    delta_cont, details_cont = pyrankability.rank.solve(D,method='lop',cont=True)\n",
    "    delta_bin, details_bin = pyrankability.rank.solve(D,method='lop',cont=False)\n",
    "    Ds.loc[index,'delta_cont'] = delta_cont\n",
    "    Ds.loc[index,'delta_bin'] = delta_bin\n",
    "    update(Ds.loc[index,'details_cont'],details_cont)\n",
    "    update(Ds.loc[index,'details_bin'],details_bin)\n",
    "    _, details_fixed_cont_x_maximize = pyrankability.search.solve_fixed_cont_x(D,details_bin['obj'],details_cont['x'],method='lop',minimize=False)\n",
    "    _, details_fixed_cont_x_minimize = pyrankability.search.solve_fixed_cont_x(D,details_bin['obj'],details_cont['x'],method='lop',minimize=True)    \n",
    "    update(Ds.loc[index,'details_fixed_cont_x_maximize'],details_fixed_cont_x_maximize)\n",
    "    update(Ds.loc[index,'details_fixed_cont_x_minimize'],details_fixed_cont_x_minimize)\n",
    "    _, details_farthest_pair_maximize = pyrankability.search.solve_pair(D,method='lop',minimize=False)#,min_ndis=None,max_ndis=None,tau_range=None,lazy=False,verbose=True)\n",
    "    update(Ds.loc[index,'details_pair_maximize'],details_farthest_pair_maximize)\n",
    "    _, details_farthest_pair_minimize = pyrankability.search.solve_pair(D,method='lop',minimize=True, min_ndis=1)#,min_ndis=None,max_ndis=None,tau_range=None,lazy=False,verbose=True)\n",
    "    update(Ds.loc[index,'details_pair_minimize'],details_farthest_pair_minimize)\n",
    "\n",
    "import joblib\n",
    "joblib.dump(Ds,\"results/Ds.joblib.z\");\n",
    "\n",
    "Ds.reset_index().to_json('results/Ds.json',orient='records')"
   ]
  },
  {
   "cell_type": "code",
   "execution_count": 40,
   "metadata": {},
   "outputs": [
    {
     "data": {
      "text/html": [
       "<div>\n",
       "<style scoped>\n",
       "    .dataframe tbody tr th:only-of-type {\n",
       "        vertical-align: middle;\n",
       "    }\n",
       "\n",
       "    .dataframe tbody tr th {\n",
       "        vertical-align: top;\n",
       "    }\n",
       "\n",
       "    .dataframe thead th {\n",
       "        text-align: right;\n",
       "    }\n",
       "</style>\n",
       "<table border=\"1\" class=\"dataframe\">\n",
       "  <thead>\n",
       "    <tr style=\"text-align: right;\">\n",
       "      <th></th>\n",
       "      <th></th>\n",
       "      <th>D</th>\n",
       "      <th>details_cont</th>\n",
       "      <th>details_bin</th>\n",
       "      <th>details_fixed_cont_x_maximize</th>\n",
       "      <th>details_fixed_cont_x_minimize</th>\n",
       "      <th>details_pair_maximize</th>\n",
       "      <th>details_pair_minimize</th>\n",
       "      <th>delta_cont</th>\n",
       "      <th>delta_bin</th>\n",
       "    </tr>\n",
       "    <tr>\n",
       "      <th>Year</th>\n",
       "      <th>Group</th>\n",
       "      <th></th>\n",
       "      <th></th>\n",
       "      <th></th>\n",
       "      <th></th>\n",
       "      <th></th>\n",
       "      <th></th>\n",
       "      <th></th>\n",
       "      <th></th>\n",
       "      <th></th>\n",
       "    </tr>\n",
       "  </thead>\n",
       "  <tbody>\n",
       "    <tr>\n",
       "      <th rowspan=\"3\" valign=\"top\">2002</th>\n",
       "      <th>Parent</th>\n",
       "      <td>Amherst College  Bo...</td>\n",
       "      <td>{'Pfirst': [(0, 8, 10, 6, 1, 5, 3, 7, 4, 9, 2)...</td>\n",
       "      <td>{'Pfirst': [(0, 8, 10, 6, 1, 3, 7, 5, 4, 9, 2)...</td>\n",
       "      <td>{'obj': 2.069392454401895, 'perm': (0, 8, 10, ...</td>\n",
       "      <td>{'obj': 1.9306075455598322, 'perm': (0, 8, 10,...</td>\n",
       "      <td>{'obj': 4.0, 'k_x': 194.0, 'k_y': 194.0, 'perm...</td>\n",
       "      <td>{'obj': 4.0, 'k_x': 194.0, 'k_y': 194.0, 'perm...</td>\n",
       "      <td>83.0</td>\n",
       "      <td>81.0</td>\n",
       "    </tr>\n",
       "    <tr>\n",
       "      <th>Student</th>\n",
       "      <td>Amherst College  Bo...</td>\n",
       "      <td>{'Pfirst': [(8, 7, 6, 0, 10, 1, 3, 5, 2, 4, 9)...</td>\n",
       "      <td>{'Pfirst': [(8, 0, 7, 6, 10, 1, 3, 5, 2, 4, 9)...</td>\n",
       "      <td>{'obj': 1.3402902633048828, 'perm': (8, 6, 0, ...</td>\n",
       "      <td>{'obj': 1.3223645945944198, 'perm': (8, 7, 6, ...</td>\n",
       "      <td>{'obj': 2.0, 'k_x': 203.0, 'k_y': 203.0, 'perm...</td>\n",
       "      <td>{'obj': 2.0, 'k_x': 203.0, 'k_y': 203.0, 'perm...</td>\n",
       "      <td>72.0</td>\n",
       "      <td>72.0</td>\n",
       "    </tr>\n",
       "    <tr>\n",
       "      <th>Both</th>\n",
       "      <td>Amherst College  Bo...</td>\n",
       "      <td>{'Pfirst': [(8, 0, 6, 10, 7, 1, 3, 5, 4, 2, 9)...</td>\n",
       "      <td>{'Pfirst': [(8, 0, 10, 7, 6, 1, 3, 5, 4, 9, 2)...</td>\n",
       "      <td>{'obj': 4.511336265842036, 'perm': (0, 8, 7, 1...</td>\n",
       "      <td>{'obj': 3.550433707154232, 'perm': (8, 0, 6, 1...</td>\n",
       "      <td>{'obj': 9.0, 'k_x': 233.0, 'k_y': 233.0, 'perm...</td>\n",
       "      <td>{'obj': 1.0, 'k_x': 233.0, 'k_y': 233.0, 'perm...</td>\n",
       "      <td>97.0</td>\n",
       "      <td>97.0</td>\n",
       "    </tr>\n",
       "  </tbody>\n",
       "</table>\n",
       "</div>"
      ],
      "text/plain": [
       "                                                              D  \\\n",
       "Year Group                                                        \n",
       "2002 Parent                              Amherst College  Bo...   \n",
       "     Student                             Amherst College  Bo...   \n",
       "     Both                                Amherst College  Bo...   \n",
       "\n",
       "                                                   details_cont  \\\n",
       "Year Group                                                        \n",
       "2002 Parent   {'Pfirst': [(0, 8, 10, 6, 1, 5, 3, 7, 4, 9, 2)...   \n",
       "     Student  {'Pfirst': [(8, 7, 6, 0, 10, 1, 3, 5, 2, 4, 9)...   \n",
       "     Both     {'Pfirst': [(8, 0, 6, 10, 7, 1, 3, 5, 4, 2, 9)...   \n",
       "\n",
       "                                                    details_bin  \\\n",
       "Year Group                                                        \n",
       "2002 Parent   {'Pfirst': [(0, 8, 10, 6, 1, 3, 7, 5, 4, 9, 2)...   \n",
       "     Student  {'Pfirst': [(8, 0, 7, 6, 10, 1, 3, 5, 2, 4, 9)...   \n",
       "     Both     {'Pfirst': [(8, 0, 10, 7, 6, 1, 3, 5, 4, 9, 2)...   \n",
       "\n",
       "                                  details_fixed_cont_x_maximize  \\\n",
       "Year Group                                                        \n",
       "2002 Parent   {'obj': 2.069392454401895, 'perm': (0, 8, 10, ...   \n",
       "     Student  {'obj': 1.3402902633048828, 'perm': (8, 6, 0, ...   \n",
       "     Both     {'obj': 4.511336265842036, 'perm': (0, 8, 7, 1...   \n",
       "\n",
       "                                  details_fixed_cont_x_minimize  \\\n",
       "Year Group                                                        \n",
       "2002 Parent   {'obj': 1.9306075455598322, 'perm': (0, 8, 10,...   \n",
       "     Student  {'obj': 1.3223645945944198, 'perm': (8, 7, 6, ...   \n",
       "     Both     {'obj': 3.550433707154232, 'perm': (8, 0, 6, 1...   \n",
       "\n",
       "                                          details_pair_maximize  \\\n",
       "Year Group                                                        \n",
       "2002 Parent   {'obj': 4.0, 'k_x': 194.0, 'k_y': 194.0, 'perm...   \n",
       "     Student  {'obj': 2.0, 'k_x': 203.0, 'k_y': 203.0, 'perm...   \n",
       "     Both     {'obj': 9.0, 'k_x': 233.0, 'k_y': 233.0, 'perm...   \n",
       "\n",
       "                                          details_pair_minimize  delta_cont  \\\n",
       "Year Group                                                                    \n",
       "2002 Parent   {'obj': 4.0, 'k_x': 194.0, 'k_y': 194.0, 'perm...        83.0   \n",
       "     Student  {'obj': 2.0, 'k_x': 203.0, 'k_y': 203.0, 'perm...        72.0   \n",
       "     Both     {'obj': 1.0, 'k_x': 233.0, 'k_y': 233.0, 'perm...        97.0   \n",
       "\n",
       "              delta_bin  \n",
       "Year Group               \n",
       "2002 Parent        81.0  \n",
       "     Student       72.0  \n",
       "     Both          97.0  "
      ]
     },
     "execution_count": 40,
     "metadata": {},
     "output_type": "execute_result"
    }
   ],
   "source": [
    "Ds"
   ]
  },
  {
   "cell_type": "code",
   "execution_count": 27,
   "metadata": {},
   "outputs": [
    {
     "data": {
      "text/plain": [
       "(3.550433707154232, 4.511336265842036)"
      ]
     },
     "execution_count": 27,
     "metadata": {},
     "output_type": "execute_result"
    }
   ],
   "source": [
    "closest_obj = Ds.loc[(year,'Both'),'details_fixed_cont_x_minimize']['obj']\n",
    "farthest_obj = Ds.loc[(year,'Both'),'details_fixed_cont_x_maximize']['obj']\n",
    "closest_obj,farthest_obj"
   ]
  },
  {
   "cell_type": "markdown",
   "metadata": {
    "slideshow": {
     "slide_type": "subslide"
    }
   },
   "source": [
    "## Look at the continuous results"
   ]
  },
  {
   "cell_type": "code",
   "execution_count": 30,
   "metadata": {
    "slideshow": {
     "slide_type": "skip"
    }
   },
   "outputs": [],
   "source": [
    "def plot_xstars(Ds,show_score_xstar2_func=lambda xstars: pyrankability.plot.show_score_xstar2(xstars,\n",
    "                                                                     group_label=\"Group\",width=300,height=300,\n",
    "                                                                     columns=1,resolve_scale=True)):\n",
    "    label = \"A\"\n",
    "    xstars = {}\n",
    "    for index in Ds.index:\n",
    "        D = Ds.loc[index,'D']\n",
    "        xstar = pd.DataFrame(Ds.loc[index,'details_cont']['x'],index=D.index,columns=D.columns)\n",
    "        xstars[\"%s. %s\"%(label,\", \".join(str(v) for v in index[::-1]))] = xstar\n",
    "        label = chr(ord(label)+1)\n",
    "    g,score_df,ordered_xstars = show_score_xstar2_func(xstars)\n",
    "    return g,score_df,ordered_xstars"
   ]
  },
  {
   "cell_type": "code",
   "execution_count": 31,
   "metadata": {
    "slideshow": {
     "slide_type": "subslide"
    }
   },
   "outputs": [
    {
     "data": {
      "text/html": [
       "\n",
       "<div id=\"altair-viz-576314b26fd5428b877e18d26d020d86\"></div>\n",
       "<script type=\"text/javascript\">\n",
       "  (function(spec, embedOpt){\n",
       "    let outputDiv = document.currentScript.previousElementSibling;\n",
       "    if (outputDiv.id !== \"altair-viz-576314b26fd5428b877e18d26d020d86\") {\n",
       "      outputDiv = document.getElementById(\"altair-viz-576314b26fd5428b877e18d26d020d86\");\n",
       "    }\n",
       "    const paths = {\n",
       "      \"vega\": \"https://cdn.jsdelivr.net/npm//vega@5?noext\",\n",
       "      \"vega-lib\": \"https://cdn.jsdelivr.net/npm//vega-lib?noext\",\n",
       "      \"vega-lite\": \"https://cdn.jsdelivr.net/npm//vega-lite@4.8.1?noext\",\n",
       "      \"vega-embed\": \"https://cdn.jsdelivr.net/npm//vega-embed@6?noext\",\n",
       "    };\n",
       "\n",
       "    function loadScript(lib) {\n",
       "      return new Promise(function(resolve, reject) {\n",
       "        var s = document.createElement('script');\n",
       "        s.src = paths[lib];\n",
       "        s.async = true;\n",
       "        s.onload = () => resolve(paths[lib]);\n",
       "        s.onerror = () => reject(`Error loading script: ${paths[lib]}`);\n",
       "        document.getElementsByTagName(\"head\")[0].appendChild(s);\n",
       "      });\n",
       "    }\n",
       "\n",
       "    function showError(err) {\n",
       "      outputDiv.innerHTML = `<div class=\"error\" style=\"color:red;\">${err}</div>`;\n",
       "      throw err;\n",
       "    }\n",
       "\n",
       "    function displayChart(vegaEmbed) {\n",
       "      vegaEmbed(outputDiv, spec, embedOpt)\n",
       "        .catch(err => showError(`Javascript Error: ${err.message}<br>This usually means there's a typo in your chart specification. See the javascript console for the full traceback.`));\n",
       "    }\n",
       "\n",
       "    if(typeof define === \"function\" && define.amd) {\n",
       "      requirejs.config({paths});\n",
       "      require([\"vega-embed\"], displayChart, err => showError(`Error loading script: ${err.message}`));\n",
       "    } else if (typeof vegaEmbed === \"function\") {\n",
       "      displayChart(vegaEmbed);\n",
       "    } else {\n",
       "      loadScript(\"vega\")\n",
       "        .then(() => loadScript(\"vega-lite\"))\n",
       "        .then(() => loadScript(\"vega-embed\"))\n",
       "        .catch(showError)\n",
       "        .then(() => displayChart(vegaEmbed));\n",
       "    }\n",
       "  })({\"config\": {\"view\": {\"continuousWidth\": 400, \"continuousHeight\": 300}, \"axis\": {\"labelFontSize\": 10, \"titleFontSize\": 10}}, \"data\": {\"name\": \"data-8f86b4387351261820d0506ded8998ae\"}, \"facet\": {\"type\": \"nominal\", \"field\": \"Group\", \"header\": {\"labelFontSize\": 12, \"labelOrient\": \"bottom\"}, \"title\": null}, \"spec\": {\"mark\": \"square\", \"encoding\": {\"color\": {\"type\": \"nominal\", \"field\": \"c\", \"scale\": null}, \"x\": {\"type\": \"nominal\", \"axis\": {\"labelFontSize\": 8, \"labelOverlap\": false}, \"field\": \"i\", \"sort\": {\"field\": \"ri\", \"order\": \"ascending\"}, \"title\": \"r\"}, \"y\": {\"type\": \"nominal\", \"axis\": {\"labelFontSize\": 8, \"labelOverlap\": false}, \"field\": \"j\", \"sort\": {\"field\": \"rj\", \"order\": \"ascending\"}, \"title\": \"r\"}}, \"height\": 300, \"width\": 300}, \"columns\": 1, \"resolve\": {\"scale\": {\"x\": \"independent\", \"y\": \"independent\"}}, \"$schema\": \"https://vega.github.io/schema/vega-lite/v4.8.1.json\", \"datasets\": {\"data-8f86b4387351261820d0506ded8998ae\": [{\"i\": \"Amherst College\", \"j\": \"Amherst College\", \"x\": 0.0, \"Group\": \"A. Parent, 2002\", \"ri\": 1.5937251518494122e-12, \"rj\": 1.5937251518494122e-12, \"c\": \"black\"}, {\"i\": \"Amherst College\", \"j\": \"Bowdoin College\", \"x\": 1.0, \"Group\": \"A. Parent, 2002\", \"ri\": 1.5937251518494122e-12, \"rj\": 4.482651886398908, \"c\": \"white\"}, {\"i\": \"Amherst College\", \"j\": \"Carleton College\", \"x\": 1.0, \"Group\": \"A. Parent, 2002\", \"ri\": 1.5937251518494122e-12, \"rj\": 9.99999999994749, \"c\": \"white\"}, {\"i\": \"Amherst College\", \"j\": \"Claremont McKenna College\", \"x\": 1.0, \"Group\": \"A. Parent, 2002\", \"ri\": 1.5937251518494122e-12, \"rj\": 5.4826518864453675, \"c\": \"white\"}, {\"i\": \"Amherst College\", \"j\": \"Davidson College\", \"x\": 1.0, \"Group\": \"A. Parent, 2002\", \"ri\": 1.5937251518494122e-12, \"rj\": 8.000000000002771, \"c\": \"white\"}, {\"i\": \"Amherst College\", \"j\": \"Haverford College\", \"x\": 1.0, \"Group\": \"A. Parent, 2002\", \"ri\": 1.5937251518494122e-12, \"rj\": 5.069392454401009, \"c\": \"white\"}, {\"i\": \"Amherst College\", \"j\": \"Middlebury College\", \"x\": 1.0, \"Group\": \"A. Parent, 2002\", \"ri\": 1.5937251518494122e-12, \"rj\": 3.4826518863987195, \"c\": \"white\"}, {\"i\": \"Amherst College\", \"j\": \"Pomona College\", \"x\": 1.0, \"Group\": \"A. Parent, 2002\", \"ri\": 1.5937251518494122e-12, \"rj\": 6.482651886390936, \"c\": \"white\"}, {\"i\": \"Amherst College\", \"j\": \"Swarthmore College\", \"x\": 1.0, \"Group\": \"A. Parent, 2002\", \"ri\": 1.5937251518494122e-12, \"rj\": 1.0000000000007336, \"c\": \"white\"}, {\"i\": \"Amherst College\", \"j\": \"Wellesley College\", \"x\": 1.0, \"Group\": \"A. Parent, 2002\", \"ri\": 1.5937251518494122e-12, \"rj\": 9.000000000011873, \"c\": \"white\"}, {\"i\": \"Amherst College\", \"j\": \"Williams College\", \"x\": 1.0, \"Group\": \"A. Parent, 2002\", \"ri\": 1.5937251518494122e-12, \"rj\": 2.0000000000005995, \"c\": \"white\"}, {\"i\": \"Bowdoin College\", \"j\": \"Amherst College\", \"x\": 0.0, \"Group\": \"A. Parent, 2002\", \"ri\": 4.482651886398908, \"rj\": 1.5937251518494122e-12, \"c\": \"white\"}, {\"i\": \"Bowdoin College\", \"j\": \"Bowdoin College\", \"x\": 0.0, \"Group\": \"A. Parent, 2002\", \"ri\": 4.482651886398908, \"rj\": 4.482651886398908, \"c\": \"black\"}, {\"i\": \"Bowdoin College\", \"j\": \"Carleton College\", \"x\": 1.0, \"Group\": \"A. Parent, 2002\", \"ri\": 4.482651886398908, \"rj\": 9.99999999994749, \"c\": \"white\"}, {\"i\": \"Bowdoin College\", \"j\": \"Claremont McKenna College\", \"x\": 1.0, \"Group\": \"A. Parent, 2002\", \"ri\": 4.482651886398908, \"rj\": 5.4826518864453675, \"c\": \"white\"}, {\"i\": \"Bowdoin College\", \"j\": \"Davidson College\", \"x\": 1.0, \"Group\": \"A. Parent, 2002\", \"ri\": 4.482651886398908, \"rj\": 8.000000000002771, \"c\": \"white\"}, {\"i\": \"Bowdoin College\", \"j\": \"Haverford College\", \"x\": 0.5173481136003986, \"Group\": \"A. Parent, 2002\", \"ri\": 4.482651886398908, \"rj\": 5.069392454401009, \"c\": \"green\"}, {\"i\": \"Bowdoin College\", \"j\": \"Middlebury College\", \"x\": 0.0, \"Group\": \"A. Parent, 2002\", \"ri\": 4.482651886398908, \"rj\": 3.4826518863987195, \"c\": \"white\"}, {\"i\": \"Bowdoin College\", \"j\": \"Pomona College\", \"x\": 1.0, \"Group\": \"A. Parent, 2002\", \"ri\": 4.482651886398908, \"rj\": 6.482651886390936, \"c\": \"white\"}, {\"i\": \"Bowdoin College\", \"j\": \"Swarthmore College\", \"x\": 0.0, \"Group\": \"A. Parent, 2002\", \"ri\": 4.482651886398908, \"rj\": 1.0000000000007336, \"c\": \"white\"}, {\"i\": \"Bowdoin College\", \"j\": \"Wellesley College\", \"x\": 1.0, \"Group\": \"A. Parent, 2002\", \"ri\": 4.482651886398908, \"rj\": 9.000000000011873, \"c\": \"white\"}, {\"i\": \"Bowdoin College\", \"j\": \"Williams College\", \"x\": 0.0, \"Group\": \"A. Parent, 2002\", \"ri\": 4.482651886398908, \"rj\": 2.0000000000005995, \"c\": \"white\"}, {\"i\": \"Carleton College\", \"j\": \"Amherst College\", \"x\": 0.0, \"Group\": \"A. Parent, 2002\", \"ri\": 9.99999999994749, \"rj\": 1.5937251518494122e-12, \"c\": \"white\"}, {\"i\": \"Carleton College\", \"j\": \"Bowdoin College\", \"x\": 0.0, \"Group\": \"A. Parent, 2002\", \"ri\": 9.99999999994749, \"rj\": 4.482651886398908, \"c\": \"white\"}, {\"i\": \"Carleton College\", \"j\": \"Carleton College\", \"x\": 0.0, \"Group\": \"A. Parent, 2002\", \"ri\": 9.99999999994749, \"rj\": 9.99999999994749, \"c\": \"black\"}, {\"i\": \"Carleton College\", \"j\": \"Claremont McKenna College\", \"x\": 0.0, \"Group\": \"A. Parent, 2002\", \"ri\": 9.99999999994749, \"rj\": 5.4826518864453675, \"c\": \"white\"}, {\"i\": \"Carleton College\", \"j\": \"Davidson College\", \"x\": 0.0, \"Group\": \"A. Parent, 2002\", \"ri\": 9.99999999994749, \"rj\": 8.000000000002771, \"c\": \"white\"}, {\"i\": \"Carleton College\", \"j\": \"Haverford College\", \"x\": 0.0, \"Group\": \"A. Parent, 2002\", \"ri\": 9.99999999994749, \"rj\": 5.069392454401009, \"c\": \"white\"}, {\"i\": \"Carleton College\", \"j\": \"Middlebury College\", \"x\": 0.0, \"Group\": \"A. Parent, 2002\", \"ri\": 9.99999999994749, \"rj\": 3.4826518863987195, \"c\": \"white\"}, {\"i\": \"Carleton College\", \"j\": \"Pomona College\", \"x\": 0.0, \"Group\": \"A. Parent, 2002\", \"ri\": 9.99999999994749, \"rj\": 6.482651886390936, \"c\": \"white\"}, {\"i\": \"Carleton College\", \"j\": \"Swarthmore College\", \"x\": 0.0, \"Group\": \"A. Parent, 2002\", \"ri\": 9.99999999994749, \"rj\": 1.0000000000007336, \"c\": \"white\"}, {\"i\": \"Carleton College\", \"j\": \"Wellesley College\", \"x\": 0.0, \"Group\": \"A. Parent, 2002\", \"ri\": 9.99999999994749, \"rj\": 9.000000000011873, \"c\": \"white\"}, {\"i\": \"Carleton College\", \"j\": \"Williams College\", \"x\": 0.0, \"Group\": \"A. Parent, 2002\", \"ri\": 9.99999999994749, \"rj\": 2.0000000000005995, \"c\": \"white\"}, {\"i\": \"Claremont McKenna College\", \"j\": \"Amherst College\", \"x\": 0.0, \"Group\": \"A. Parent, 2002\", \"ri\": 5.4826518864453675, \"rj\": 1.5937251518494122e-12, \"c\": \"white\"}, {\"i\": \"Claremont McKenna College\", \"j\": \"Bowdoin College\", \"x\": 0.0, \"Group\": \"A. Parent, 2002\", \"ri\": 5.4826518864453675, \"rj\": 4.482651886398908, \"c\": \"white\"}, {\"i\": \"Claremont McKenna College\", \"j\": \"Carleton College\", \"x\": 1.0, \"Group\": \"A. Parent, 2002\", \"ri\": 5.4826518864453675, \"rj\": 9.99999999994749, \"c\": \"white\"}, {\"i\": \"Claremont McKenna College\", \"j\": \"Claremont McKenna College\", \"x\": 0.0, \"Group\": \"A. Parent, 2002\", \"ri\": 5.4826518864453675, \"rj\": 5.4826518864453675, \"c\": \"black\"}, {\"i\": \"Claremont McKenna College\", \"j\": \"Davidson College\", \"x\": 1.0, \"Group\": \"A. Parent, 2002\", \"ri\": 5.4826518864453675, \"rj\": 8.000000000002771, \"c\": \"white\"}, {\"i\": \"Claremont McKenna College\", \"j\": \"Haverford College\", \"x\": 0.5173481136002465, \"Group\": \"A. Parent, 2002\", \"ri\": 5.4826518864453675, \"rj\": 5.069392454401009, \"c\": \"red\"}, {\"i\": \"Claremont McKenna College\", \"j\": \"Middlebury College\", \"x\": 0.0, \"Group\": \"A. Parent, 2002\", \"ri\": 5.4826518864453675, \"rj\": 3.4826518863987195, \"c\": \"white\"}, {\"i\": \"Claremont McKenna College\", \"j\": \"Pomona College\", \"x\": 1.0, \"Group\": \"A. Parent, 2002\", \"ri\": 5.4826518864453675, \"rj\": 6.482651886390936, \"c\": \"white\"}, {\"i\": \"Claremont McKenna College\", \"j\": \"Swarthmore College\", \"x\": 0.0, \"Group\": \"A. Parent, 2002\", \"ri\": 5.4826518864453675, \"rj\": 1.0000000000007336, \"c\": \"white\"}, {\"i\": \"Claremont McKenna College\", \"j\": \"Wellesley College\", \"x\": 1.0, \"Group\": \"A. Parent, 2002\", \"ri\": 5.4826518864453675, \"rj\": 9.000000000011873, \"c\": \"white\"}, {\"i\": \"Claremont McKenna College\", \"j\": \"Williams College\", \"x\": 0.0, \"Group\": \"A. Parent, 2002\", \"ri\": 5.4826518864453675, \"rj\": 2.0000000000005995, \"c\": \"white\"}, {\"i\": \"Davidson College\", \"j\": \"Amherst College\", \"x\": 0.0, \"Group\": \"A. Parent, 2002\", \"ri\": 8.000000000002771, \"rj\": 1.5937251518494122e-12, \"c\": \"white\"}, {\"i\": \"Davidson College\", \"j\": \"Bowdoin College\", \"x\": 0.0, \"Group\": \"A. Parent, 2002\", \"ri\": 8.000000000002771, \"rj\": 4.482651886398908, \"c\": \"white\"}, {\"i\": \"Davidson College\", \"j\": \"Carleton College\", \"x\": 1.0, \"Group\": \"A. Parent, 2002\", \"ri\": 8.000000000002771, \"rj\": 9.99999999994749, \"c\": \"white\"}, {\"i\": \"Davidson College\", \"j\": \"Claremont McKenna College\", \"x\": 0.0, \"Group\": \"A. Parent, 2002\", \"ri\": 8.000000000002771, \"rj\": 5.4826518864453675, \"c\": \"white\"}, {\"i\": \"Davidson College\", \"j\": \"Davidson College\", \"x\": 0.0, \"Group\": \"A. Parent, 2002\", \"ri\": 8.000000000002771, \"rj\": 8.000000000002771, \"c\": \"black\"}, {\"i\": \"Davidson College\", \"j\": \"Haverford College\", \"x\": 0.0, \"Group\": \"A. Parent, 2002\", \"ri\": 8.000000000002771, \"rj\": 5.069392454401009, \"c\": \"white\"}, {\"i\": \"Davidson College\", \"j\": \"Middlebury College\", \"x\": 0.0, \"Group\": \"A. Parent, 2002\", \"ri\": 8.000000000002771, \"rj\": 3.4826518863987195, \"c\": \"white\"}, {\"i\": \"Davidson College\", \"j\": \"Pomona College\", \"x\": 0.0, \"Group\": \"A. Parent, 2002\", \"ri\": 8.000000000002771, \"rj\": 6.482651886390936, \"c\": \"white\"}, {\"i\": \"Davidson College\", \"j\": \"Swarthmore College\", \"x\": 0.0, \"Group\": \"A. Parent, 2002\", \"ri\": 8.000000000002771, \"rj\": 1.0000000000007336, \"c\": \"white\"}, {\"i\": \"Davidson College\", \"j\": \"Wellesley College\", \"x\": 1.0, \"Group\": \"A. Parent, 2002\", \"ri\": 8.000000000002771, \"rj\": 9.000000000011873, \"c\": \"white\"}, {\"i\": \"Davidson College\", \"j\": \"Williams College\", \"x\": 0.0, \"Group\": \"A. Parent, 2002\", \"ri\": 8.000000000002771, \"rj\": 2.0000000000005995, \"c\": \"white\"}, {\"i\": \"Haverford College\", \"j\": \"Amherst College\", \"x\": 0.0, \"Group\": \"A. Parent, 2002\", \"ri\": 5.069392454401009, \"rj\": 1.5937251518494122e-12, \"c\": \"white\"}, {\"i\": \"Haverford College\", \"j\": \"Bowdoin College\", \"x\": 0.48265188639960144, \"Group\": \"A. Parent, 2002\", \"ri\": 5.069392454401009, \"rj\": 4.482651886398908, \"c\": \"red\"}, {\"i\": \"Haverford College\", \"j\": \"Carleton College\", \"x\": 1.0, \"Group\": \"A. Parent, 2002\", \"ri\": 5.069392454401009, \"rj\": 9.99999999994749, \"c\": \"white\"}, {\"i\": \"Haverford College\", \"j\": \"Claremont McKenna College\", \"x\": 0.48265188639975354, \"Group\": \"A. Parent, 2002\", \"ri\": 5.069392454401009, \"rj\": 5.4826518864453675, \"c\": \"green\"}, {\"i\": \"Haverford College\", \"j\": \"Davidson College\", \"x\": 1.0, \"Group\": \"A. Parent, 2002\", \"ri\": 5.069392454401009, \"rj\": 8.000000000002771, \"c\": \"white\"}, {\"i\": \"Haverford College\", \"j\": \"Haverford College\", \"x\": 0.0, \"Group\": \"A. Parent, 2002\", \"ri\": 5.069392454401009, \"rj\": 5.069392454401009, \"c\": \"black\"}, {\"i\": \"Haverford College\", \"j\": \"Middlebury College\", \"x\": 0.48265188639939266, \"Group\": \"A. Parent, 2002\", \"ri\": 5.069392454401009, \"rj\": 3.4826518863987195, \"c\": \"red\"}, {\"i\": \"Haverford College\", \"j\": \"Pomona College\", \"x\": 0.48265188639968326, \"Group\": \"A. Parent, 2002\", \"ri\": 5.069392454401009, \"rj\": 6.482651886390936, \"c\": \"green\"}, {\"i\": \"Haverford College\", \"j\": \"Swarthmore College\", \"x\": 0.0, \"Group\": \"A. Parent, 2002\", \"ri\": 5.069392454401009, \"rj\": 1.0000000000007336, \"c\": \"white\"}, {\"i\": \"Haverford College\", \"j\": \"Wellesley College\", \"x\": 1.0, \"Group\": \"A. Parent, 2002\", \"ri\": 5.069392454401009, \"rj\": 9.000000000011873, \"c\": \"white\"}, {\"i\": \"Haverford College\", \"j\": \"Williams College\", \"x\": 0.0, \"Group\": \"A. Parent, 2002\", \"ri\": 5.069392454401009, \"rj\": 2.0000000000005995, \"c\": \"white\"}, {\"i\": \"Middlebury College\", \"j\": \"Amherst College\", \"x\": 0.0, \"Group\": \"A. Parent, 2002\", \"ri\": 3.4826518863987195, \"rj\": 1.5937251518494122e-12, \"c\": \"white\"}, {\"i\": \"Middlebury College\", \"j\": \"Bowdoin College\", \"x\": 1.0, \"Group\": \"A. Parent, 2002\", \"ri\": 3.4826518863987195, \"rj\": 4.482651886398908, \"c\": \"white\"}, {\"i\": \"Middlebury College\", \"j\": \"Carleton College\", \"x\": 1.0, \"Group\": \"A. Parent, 2002\", \"ri\": 3.4826518863987195, \"rj\": 9.99999999994749, \"c\": \"white\"}, {\"i\": \"Middlebury College\", \"j\": \"Claremont McKenna College\", \"x\": 1.0, \"Group\": \"A. Parent, 2002\", \"ri\": 3.4826518863987195, \"rj\": 5.4826518864453675, \"c\": \"white\"}, {\"i\": \"Middlebury College\", \"j\": \"Davidson College\", \"x\": 1.0, \"Group\": \"A. Parent, 2002\", \"ri\": 3.4826518863987195, \"rj\": 8.000000000002771, \"c\": \"white\"}, {\"i\": \"Middlebury College\", \"j\": \"Haverford College\", \"x\": 0.5173481136006073, \"Group\": \"A. Parent, 2002\", \"ri\": 3.4826518863987195, \"rj\": 5.069392454401009, \"c\": \"green\"}, {\"i\": \"Middlebury College\", \"j\": \"Middlebury College\", \"x\": 0.0, \"Group\": \"A. Parent, 2002\", \"ri\": 3.4826518863987195, \"rj\": 3.4826518863987195, \"c\": \"black\"}, {\"i\": \"Middlebury College\", \"j\": \"Pomona College\", \"x\": 1.0, \"Group\": \"A. Parent, 2002\", \"ri\": 3.4826518863987195, \"rj\": 6.482651886390936, \"c\": \"white\"}, {\"i\": \"Middlebury College\", \"j\": \"Swarthmore College\", \"x\": 0.0, \"Group\": \"A. Parent, 2002\", \"ri\": 3.4826518863987195, \"rj\": 1.0000000000007336, \"c\": \"white\"}, {\"i\": \"Middlebury College\", \"j\": \"Wellesley College\", \"x\": 1.0, \"Group\": \"A. Parent, 2002\", \"ri\": 3.4826518863987195, \"rj\": 9.000000000011873, \"c\": \"white\"}, {\"i\": \"Middlebury College\", \"j\": \"Williams College\", \"x\": 0.0, \"Group\": \"A. Parent, 2002\", \"ri\": 3.4826518863987195, \"rj\": 2.0000000000005995, \"c\": \"white\"}, {\"i\": \"Pomona College\", \"j\": \"Amherst College\", \"x\": 0.0, \"Group\": \"A. Parent, 2002\", \"ri\": 6.482651886390936, \"rj\": 1.5937251518494122e-12, \"c\": \"white\"}, {\"i\": \"Pomona College\", \"j\": \"Bowdoin College\", \"x\": 0.0, \"Group\": \"A. Parent, 2002\", \"ri\": 6.482651886390936, \"rj\": 4.482651886398908, \"c\": \"white\"}, {\"i\": \"Pomona College\", \"j\": \"Carleton College\", \"x\": 1.0, \"Group\": \"A. Parent, 2002\", \"ri\": 6.482651886390936, \"rj\": 9.99999999994749, \"c\": \"white\"}, {\"i\": \"Pomona College\", \"j\": \"Claremont McKenna College\", \"x\": 0.0, \"Group\": \"A. Parent, 2002\", \"ri\": 6.482651886390936, \"rj\": 5.4826518864453675, \"c\": \"white\"}, {\"i\": \"Pomona College\", \"j\": \"Davidson College\", \"x\": 1.0, \"Group\": \"A. Parent, 2002\", \"ri\": 6.482651886390936, \"rj\": 8.000000000002771, \"c\": \"white\"}, {\"i\": \"Pomona College\", \"j\": \"Haverford College\", \"x\": 0.5173481136003167, \"Group\": \"A. Parent, 2002\", \"ri\": 6.482651886390936, \"rj\": 5.069392454401009, \"c\": \"red\"}, {\"i\": \"Pomona College\", \"j\": \"Middlebury College\", \"x\": 0.0, \"Group\": \"A. Parent, 2002\", \"ri\": 6.482651886390936, \"rj\": 3.4826518863987195, \"c\": \"white\"}, {\"i\": \"Pomona College\", \"j\": \"Pomona College\", \"x\": 0.0, \"Group\": \"A. Parent, 2002\", \"ri\": 6.482651886390936, \"rj\": 6.482651886390936, \"c\": \"black\"}, {\"i\": \"Pomona College\", \"j\": \"Swarthmore College\", \"x\": 0.0, \"Group\": \"A. Parent, 2002\", \"ri\": 6.482651886390936, \"rj\": 1.0000000000007336, \"c\": \"white\"}, {\"i\": \"Pomona College\", \"j\": \"Wellesley College\", \"x\": 1.0, \"Group\": \"A. Parent, 2002\", \"ri\": 6.482651886390936, \"rj\": 9.000000000011873, \"c\": \"white\"}, {\"i\": \"Pomona College\", \"j\": \"Williams College\", \"x\": 0.0, \"Group\": \"A. Parent, 2002\", \"ri\": 6.482651886390936, \"rj\": 2.0000000000005995, \"c\": \"white\"}, {\"i\": \"Swarthmore College\", \"j\": \"Amherst College\", \"x\": 0.0, \"Group\": \"A. Parent, 2002\", \"ri\": 1.0000000000007336, \"rj\": 1.5937251518494122e-12, \"c\": \"white\"}, {\"i\": \"Swarthmore College\", \"j\": \"Bowdoin College\", \"x\": 1.0, \"Group\": \"A. Parent, 2002\", \"ri\": 1.0000000000007336, \"rj\": 4.482651886398908, \"c\": \"white\"}, {\"i\": \"Swarthmore College\", \"j\": \"Carleton College\", \"x\": 1.0, \"Group\": \"A. Parent, 2002\", \"ri\": 1.0000000000007336, \"rj\": 9.99999999994749, \"c\": \"white\"}, {\"i\": \"Swarthmore College\", \"j\": \"Claremont McKenna College\", \"x\": 1.0, \"Group\": \"A. Parent, 2002\", \"ri\": 1.0000000000007336, \"rj\": 5.4826518864453675, \"c\": \"white\"}, {\"i\": \"Swarthmore College\", \"j\": \"Davidson College\", \"x\": 1.0, \"Group\": \"A. Parent, 2002\", \"ri\": 1.0000000000007336, \"rj\": 8.000000000002771, \"c\": \"white\"}, {\"i\": \"Swarthmore College\", \"j\": \"Haverford College\", \"x\": 1.0, \"Group\": \"A. Parent, 2002\", \"ri\": 1.0000000000007336, \"rj\": 5.069392454401009, \"c\": \"white\"}, {\"i\": \"Swarthmore College\", \"j\": \"Middlebury College\", \"x\": 1.0, \"Group\": \"A. Parent, 2002\", \"ri\": 1.0000000000007336, \"rj\": 3.4826518863987195, \"c\": \"white\"}, {\"i\": \"Swarthmore College\", \"j\": \"Pomona College\", \"x\": 1.0, \"Group\": \"A. Parent, 2002\", \"ri\": 1.0000000000007336, \"rj\": 6.482651886390936, \"c\": \"white\"}, {\"i\": \"Swarthmore College\", \"j\": \"Swarthmore College\", \"x\": 0.0, \"Group\": \"A. Parent, 2002\", \"ri\": 1.0000000000007336, \"rj\": 1.0000000000007336, \"c\": \"black\"}, {\"i\": \"Swarthmore College\", \"j\": \"Wellesley College\", \"x\": 1.0, \"Group\": \"A. Parent, 2002\", \"ri\": 1.0000000000007336, \"rj\": 9.000000000011873, \"c\": \"white\"}, {\"i\": \"Swarthmore College\", \"j\": \"Williams College\", \"x\": 1.0, \"Group\": \"A. Parent, 2002\", \"ri\": 1.0000000000007336, \"rj\": 2.0000000000005995, \"c\": \"white\"}, {\"i\": \"Wellesley College\", \"j\": \"Amherst College\", \"x\": 0.0, \"Group\": \"A. Parent, 2002\", \"ri\": 9.000000000011873, \"rj\": 1.5937251518494122e-12, \"c\": \"white\"}, {\"i\": \"Wellesley College\", \"j\": \"Bowdoin College\", \"x\": 0.0, \"Group\": \"A. Parent, 2002\", \"ri\": 9.000000000011873, \"rj\": 4.482651886398908, \"c\": \"white\"}, {\"i\": \"Wellesley College\", \"j\": \"Carleton College\", \"x\": 1.0, \"Group\": \"A. Parent, 2002\", \"ri\": 9.000000000011873, \"rj\": 9.99999999994749, \"c\": \"white\"}, {\"i\": \"Wellesley College\", \"j\": \"Claremont McKenna College\", \"x\": 0.0, \"Group\": \"A. Parent, 2002\", \"ri\": 9.000000000011873, \"rj\": 5.4826518864453675, \"c\": \"white\"}, {\"i\": \"Wellesley College\", \"j\": \"Davidson College\", \"x\": 0.0, \"Group\": \"A. Parent, 2002\", \"ri\": 9.000000000011873, \"rj\": 8.000000000002771, \"c\": \"white\"}, {\"i\": \"Wellesley College\", \"j\": \"Haverford College\", \"x\": 0.0, \"Group\": \"A. Parent, 2002\", \"ri\": 9.000000000011873, \"rj\": 5.069392454401009, \"c\": \"white\"}, {\"i\": \"Wellesley College\", \"j\": \"Middlebury College\", \"x\": 0.0, \"Group\": \"A. Parent, 2002\", \"ri\": 9.000000000011873, \"rj\": 3.4826518863987195, \"c\": \"white\"}, {\"i\": \"Wellesley College\", \"j\": \"Pomona College\", \"x\": 0.0, \"Group\": \"A. Parent, 2002\", \"ri\": 9.000000000011873, \"rj\": 6.482651886390936, \"c\": \"white\"}, {\"i\": \"Wellesley College\", \"j\": \"Swarthmore College\", \"x\": 0.0, \"Group\": \"A. Parent, 2002\", \"ri\": 9.000000000011873, \"rj\": 1.0000000000007336, \"c\": \"white\"}, {\"i\": \"Wellesley College\", \"j\": \"Wellesley College\", \"x\": 0.0, \"Group\": \"A. Parent, 2002\", \"ri\": 9.000000000011873, \"rj\": 9.000000000011873, \"c\": \"black\"}, {\"i\": \"Wellesley College\", \"j\": \"Williams College\", \"x\": 0.0, \"Group\": \"A. Parent, 2002\", \"ri\": 9.000000000011873, \"rj\": 2.0000000000005995, \"c\": \"white\"}, {\"i\": \"Williams College\", \"j\": \"Amherst College\", \"x\": 0.0, \"Group\": \"A. Parent, 2002\", \"ri\": 2.0000000000005995, \"rj\": 1.5937251518494122e-12, \"c\": \"white\"}, {\"i\": \"Williams College\", \"j\": \"Bowdoin College\", \"x\": 1.0, \"Group\": \"A. Parent, 2002\", \"ri\": 2.0000000000005995, \"rj\": 4.482651886398908, \"c\": \"white\"}, {\"i\": \"Williams College\", \"j\": \"Carleton College\", \"x\": 1.0, \"Group\": \"A. Parent, 2002\", \"ri\": 2.0000000000005995, \"rj\": 9.99999999994749, \"c\": \"white\"}, {\"i\": \"Williams College\", \"j\": \"Claremont McKenna College\", \"x\": 1.0, \"Group\": \"A. Parent, 2002\", \"ri\": 2.0000000000005995, \"rj\": 5.4826518864453675, \"c\": \"white\"}, {\"i\": \"Williams College\", \"j\": \"Davidson College\", \"x\": 1.0, \"Group\": \"A. Parent, 2002\", \"ri\": 2.0000000000005995, \"rj\": 8.000000000002771, \"c\": \"white\"}, {\"i\": \"Williams College\", \"j\": \"Haverford College\", \"x\": 1.0, \"Group\": \"A. Parent, 2002\", \"ri\": 2.0000000000005995, \"rj\": 5.069392454401009, \"c\": \"white\"}, {\"i\": \"Williams College\", \"j\": \"Middlebury College\", \"x\": 1.0, \"Group\": \"A. Parent, 2002\", \"ri\": 2.0000000000005995, \"rj\": 3.4826518863987195, \"c\": \"white\"}, {\"i\": \"Williams College\", \"j\": \"Pomona College\", \"x\": 1.0, \"Group\": \"A. Parent, 2002\", \"ri\": 2.0000000000005995, \"rj\": 6.482651886390936, \"c\": \"white\"}, {\"i\": \"Williams College\", \"j\": \"Swarthmore College\", \"x\": 0.0, \"Group\": \"A. Parent, 2002\", \"ri\": 2.0000000000005995, \"rj\": 1.0000000000007336, \"c\": \"white\"}, {\"i\": \"Williams College\", \"j\": \"Wellesley College\", \"x\": 1.0, \"Group\": \"A. Parent, 2002\", \"ri\": 2.0000000000005995, \"rj\": 9.000000000011873, \"c\": \"white\"}, {\"i\": \"Williams College\", \"j\": \"Williams College\", \"x\": 0.0, \"Group\": \"A. Parent, 2002\", \"ri\": 2.0000000000005995, \"rj\": 2.0000000000005995, \"c\": \"black\"}, {\"i\": \"Amherst College\", \"j\": \"Amherst College\", \"x\": 0.0, \"Group\": \"B. Student, 2002\", \"ri\": 2.0074902737542732, \"rj\": 2.0074902737542732, \"c\": \"black\"}, {\"i\": \"Amherst College\", \"j\": \"Bowdoin College\", \"x\": 1.0, \"Group\": \"B. Student, 2002\", \"ri\": 2.0074902737542732, \"rj\": 5.000000000000976, \"c\": \"white\"}, {\"i\": \"Amherst College\", \"j\": \"Carleton College\", \"x\": 1.0, \"Group\": \"B. Student, 2002\", \"ri\": 2.0074902737542732, \"rj\": 7.999999999999894, \"c\": \"white\"}, {\"i\": \"Amherst College\", \"j\": \"Claremont McKenna College\", \"x\": 1.0, \"Group\": \"B. Student, 2002\", \"ri\": 2.0074902737542732, \"rj\": 5.999999999999729, \"c\": \"white\"}, {\"i\": \"Amherst College\", \"j\": \"Davidson College\", \"x\": 1.0, \"Group\": \"B. Student, 2002\", \"ri\": 2.0074902737542732, \"rj\": 8.99999999999988, \"c\": \"white\"}, {\"i\": \"Amherst College\", \"j\": \"Haverford College\", \"x\": 1.0, \"Group\": \"B. Student, 2002\", \"ri\": 2.0074902737542732, \"rj\": 7.000000000000146, \"c\": \"white\"}, {\"i\": \"Amherst College\", \"j\": \"Middlebury College\", \"x\": 0.3313274289485851, \"Group\": \"B. Student, 2002\", \"ri\": 2.0074902737542732, \"rj\": 2.0014725606000177, \"c\": \"red\"}, {\"i\": \"Amherst College\", \"j\": \"Pomona College\", \"x\": 0.6611822972971118, \"Group\": \"B. Student, 2002\", \"ri\": 2.0074902737542732, \"rj\": 1.9910371656456656, \"c\": \"red\"}, {\"i\": \"Amherst College\", \"j\": \"Swarthmore College\", \"x\": 0.0, \"Group\": \"B. Student, 2002\", \"ri\": 2.0074902737542732, \"rj\": 7.801701247986041e-13, \"c\": \"white\"}, {\"i\": \"Amherst College\", \"j\": \"Wellesley College\", \"x\": 1.0, \"Group\": \"B. Student, 2002\", \"ri\": 2.0074902737542732, \"rj\": 9.999999999999108, \"c\": \"white\"}, {\"i\": \"Amherst College\", \"j\": \"Williams College\", \"x\": 1.0, \"Group\": \"B. Student, 2002\", \"ri\": 2.0074902737542732, \"rj\": 3.999999999999531, \"c\": \"white\"}, {\"i\": \"Bowdoin College\", \"j\": \"Amherst College\", \"x\": 0.0, \"Group\": \"B. Student, 2002\", \"ri\": 5.000000000000976, \"rj\": 2.0074902737542732, \"c\": \"white\"}, {\"i\": \"Bowdoin College\", \"j\": \"Bowdoin College\", \"x\": 0.0, \"Group\": \"B. Student, 2002\", \"ri\": 5.000000000000976, \"rj\": 5.000000000000976, \"c\": \"black\"}, {\"i\": \"Bowdoin College\", \"j\": \"Carleton College\", \"x\": 1.0, \"Group\": \"B. Student, 2002\", \"ri\": 5.000000000000976, \"rj\": 7.999999999999894, \"c\": \"white\"}, {\"i\": \"Bowdoin College\", \"j\": \"Claremont McKenna College\", \"x\": 1.0, \"Group\": \"B. Student, 2002\", \"ri\": 5.000000000000976, \"rj\": 5.999999999999729, \"c\": \"white\"}, {\"i\": \"Bowdoin College\", \"j\": \"Davidson College\", \"x\": 1.0, \"Group\": \"B. Student, 2002\", \"ri\": 5.000000000000976, \"rj\": 8.99999999999988, \"c\": \"white\"}, {\"i\": \"Bowdoin College\", \"j\": \"Haverford College\", \"x\": 1.0, \"Group\": \"B. Student, 2002\", \"ri\": 5.000000000000976, \"rj\": 7.000000000000146, \"c\": \"white\"}, {\"i\": \"Bowdoin College\", \"j\": \"Middlebury College\", \"x\": 0.0, \"Group\": \"B. Student, 2002\", \"ri\": 5.000000000000976, \"rj\": 2.0014725606000177, \"c\": \"white\"}, {\"i\": \"Bowdoin College\", \"j\": \"Pomona College\", \"x\": 0.0, \"Group\": \"B. Student, 2002\", \"ri\": 5.000000000000976, \"rj\": 1.9910371656456656, \"c\": \"white\"}, {\"i\": \"Bowdoin College\", \"j\": \"Swarthmore College\", \"x\": 0.0, \"Group\": \"B. Student, 2002\", \"ri\": 5.000000000000976, \"rj\": 7.801701247986041e-13, \"c\": \"white\"}, {\"i\": \"Bowdoin College\", \"j\": \"Wellesley College\", \"x\": 1.0, \"Group\": \"B. Student, 2002\", \"ri\": 5.000000000000976, \"rj\": 9.999999999999108, \"c\": \"white\"}, {\"i\": \"Bowdoin College\", \"j\": \"Williams College\", \"x\": 0.0, \"Group\": \"B. Student, 2002\", \"ri\": 5.000000000000976, \"rj\": 3.999999999999531, \"c\": \"white\"}, {\"i\": \"Carleton College\", \"j\": \"Amherst College\", \"x\": 0.0, \"Group\": \"B. Student, 2002\", \"ri\": 7.999999999999894, \"rj\": 2.0074902737542732, \"c\": \"white\"}, {\"i\": \"Carleton College\", \"j\": \"Bowdoin College\", \"x\": 0.0, \"Group\": \"B. Student, 2002\", \"ri\": 7.999999999999894, \"rj\": 5.000000000000976, \"c\": \"white\"}, {\"i\": \"Carleton College\", \"j\": \"Carleton College\", \"x\": 0.0, \"Group\": \"B. Student, 2002\", \"ri\": 7.999999999999894, \"rj\": 7.999999999999894, \"c\": \"black\"}, {\"i\": \"Carleton College\", \"j\": \"Claremont McKenna College\", \"x\": 0.0, \"Group\": \"B. Student, 2002\", \"ri\": 7.999999999999894, \"rj\": 5.999999999999729, \"c\": \"white\"}, {\"i\": \"Carleton College\", \"j\": \"Davidson College\", \"x\": 1.0, \"Group\": \"B. Student, 2002\", \"ri\": 7.999999999999894, \"rj\": 8.99999999999988, \"c\": \"white\"}, {\"i\": \"Carleton College\", \"j\": \"Haverford College\", \"x\": 0.0, \"Group\": \"B. Student, 2002\", \"ri\": 7.999999999999894, \"rj\": 7.000000000000146, \"c\": \"white\"}, {\"i\": \"Carleton College\", \"j\": \"Middlebury College\", \"x\": 0.0, \"Group\": \"B. Student, 2002\", \"ri\": 7.999999999999894, \"rj\": 2.0014725606000177, \"c\": \"white\"}, {\"i\": \"Carleton College\", \"j\": \"Pomona College\", \"x\": 0.0, \"Group\": \"B. Student, 2002\", \"ri\": 7.999999999999894, \"rj\": 1.9910371656456656, \"c\": \"white\"}, {\"i\": \"Carleton College\", \"j\": \"Swarthmore College\", \"x\": 0.0, \"Group\": \"B. Student, 2002\", \"ri\": 7.999999999999894, \"rj\": 7.801701247986041e-13, \"c\": \"white\"}, {\"i\": \"Carleton College\", \"j\": \"Wellesley College\", \"x\": 1.0, \"Group\": \"B. Student, 2002\", \"ri\": 7.999999999999894, \"rj\": 9.999999999999108, \"c\": \"white\"}, {\"i\": \"Carleton College\", \"j\": \"Williams College\", \"x\": 0.0, \"Group\": \"B. Student, 2002\", \"ri\": 7.999999999999894, \"rj\": 3.999999999999531, \"c\": \"white\"}, {\"i\": \"Claremont McKenna College\", \"j\": \"Amherst College\", \"x\": 0.0, \"Group\": \"B. Student, 2002\", \"ri\": 5.999999999999729, \"rj\": 2.0074902737542732, \"c\": \"white\"}, {\"i\": \"Claremont McKenna College\", \"j\": \"Bowdoin College\", \"x\": 0.0, \"Group\": \"B. Student, 2002\", \"ri\": 5.999999999999729, \"rj\": 5.000000000000976, \"c\": \"white\"}, {\"i\": \"Claremont McKenna College\", \"j\": \"Carleton College\", \"x\": 1.0, \"Group\": \"B. Student, 2002\", \"ri\": 5.999999999999729, \"rj\": 7.999999999999894, \"c\": \"white\"}, {\"i\": \"Claremont McKenna College\", \"j\": \"Claremont McKenna College\", \"x\": 0.0, \"Group\": \"B. Student, 2002\", \"ri\": 5.999999999999729, \"rj\": 5.999999999999729, \"c\": \"black\"}, {\"i\": \"Claremont McKenna College\", \"j\": \"Davidson College\", \"x\": 1.0, \"Group\": \"B. Student, 2002\", \"ri\": 5.999999999999729, \"rj\": 8.99999999999988, \"c\": \"white\"}, {\"i\": \"Claremont McKenna College\", \"j\": \"Haverford College\", \"x\": 1.0, \"Group\": \"B. Student, 2002\", \"ri\": 5.999999999999729, \"rj\": 7.000000000000146, \"c\": \"white\"}, {\"i\": \"Claremont McKenna College\", \"j\": \"Middlebury College\", \"x\": 0.0, \"Group\": \"B. Student, 2002\", \"ri\": 5.999999999999729, \"rj\": 2.0014725606000177, \"c\": \"white\"}, {\"i\": \"Claremont McKenna College\", \"j\": \"Pomona College\", \"x\": 0.0, \"Group\": \"B. Student, 2002\", \"ri\": 5.999999999999729, \"rj\": 1.9910371656456656, \"c\": \"white\"}, {\"i\": \"Claremont McKenna College\", \"j\": \"Swarthmore College\", \"x\": 0.0, \"Group\": \"B. Student, 2002\", \"ri\": 5.999999999999729, \"rj\": 7.801701247986041e-13, \"c\": \"white\"}, {\"i\": \"Claremont McKenna College\", \"j\": \"Wellesley College\", \"x\": 1.0, \"Group\": \"B. Student, 2002\", \"ri\": 5.999999999999729, \"rj\": 9.999999999999108, \"c\": \"white\"}, {\"i\": \"Claremont McKenna College\", \"j\": \"Williams College\", \"x\": 0.0, \"Group\": \"B. Student, 2002\", \"ri\": 5.999999999999729, \"rj\": 3.999999999999531, \"c\": \"white\"}, {\"i\": \"Davidson College\", \"j\": \"Amherst College\", \"x\": 0.0, \"Group\": \"B. Student, 2002\", \"ri\": 8.99999999999988, \"rj\": 2.0074902737542732, \"c\": \"white\"}, {\"i\": \"Davidson College\", \"j\": \"Bowdoin College\", \"x\": 0.0, \"Group\": \"B. Student, 2002\", \"ri\": 8.99999999999988, \"rj\": 5.000000000000976, \"c\": \"white\"}, {\"i\": \"Davidson College\", \"j\": \"Carleton College\", \"x\": 0.0, \"Group\": \"B. Student, 2002\", \"ri\": 8.99999999999988, \"rj\": 7.999999999999894, \"c\": \"white\"}, {\"i\": \"Davidson College\", \"j\": \"Claremont McKenna College\", \"x\": 0.0, \"Group\": \"B. Student, 2002\", \"ri\": 8.99999999999988, \"rj\": 5.999999999999729, \"c\": \"white\"}, {\"i\": \"Davidson College\", \"j\": \"Davidson College\", \"x\": 0.0, \"Group\": \"B. Student, 2002\", \"ri\": 8.99999999999988, \"rj\": 8.99999999999988, \"c\": \"black\"}, {\"i\": \"Davidson College\", \"j\": \"Haverford College\", \"x\": 0.0, \"Group\": \"B. Student, 2002\", \"ri\": 8.99999999999988, \"rj\": 7.000000000000146, \"c\": \"white\"}, {\"i\": \"Davidson College\", \"j\": \"Middlebury College\", \"x\": 0.0, \"Group\": \"B. Student, 2002\", \"ri\": 8.99999999999988, \"rj\": 2.0014725606000177, \"c\": \"white\"}, {\"i\": \"Davidson College\", \"j\": \"Pomona College\", \"x\": 0.0, \"Group\": \"B. Student, 2002\", \"ri\": 8.99999999999988, \"rj\": 1.9910371656456656, \"c\": \"white\"}, {\"i\": \"Davidson College\", \"j\": \"Swarthmore College\", \"x\": 0.0, \"Group\": \"B. Student, 2002\", \"ri\": 8.99999999999988, \"rj\": 7.801701247986041e-13, \"c\": \"white\"}, {\"i\": \"Davidson College\", \"j\": \"Wellesley College\", \"x\": 1.0, \"Group\": \"B. Student, 2002\", \"ri\": 8.99999999999988, \"rj\": 9.999999999999108, \"c\": \"white\"}, {\"i\": \"Davidson College\", \"j\": \"Williams College\", \"x\": 0.0, \"Group\": \"B. Student, 2002\", \"ri\": 8.99999999999988, \"rj\": 3.999999999999531, \"c\": \"white\"}, {\"i\": \"Haverford College\", \"j\": \"Amherst College\", \"x\": 0.0, \"Group\": \"B. Student, 2002\", \"ri\": 7.000000000000146, \"rj\": 2.0074902737542732, \"c\": \"white\"}, {\"i\": \"Haverford College\", \"j\": \"Bowdoin College\", \"x\": 0.0, \"Group\": \"B. Student, 2002\", \"ri\": 7.000000000000146, \"rj\": 5.000000000000976, \"c\": \"white\"}, {\"i\": \"Haverford College\", \"j\": \"Carleton College\", \"x\": 1.0, \"Group\": \"B. Student, 2002\", \"ri\": 7.000000000000146, \"rj\": 7.999999999999894, \"c\": \"white\"}, {\"i\": \"Haverford College\", \"j\": \"Claremont McKenna College\", \"x\": 0.0, \"Group\": \"B. Student, 2002\", \"ri\": 7.000000000000146, \"rj\": 5.999999999999729, \"c\": \"white\"}, {\"i\": \"Haverford College\", \"j\": \"Davidson College\", \"x\": 1.0, \"Group\": \"B. Student, 2002\", \"ri\": 7.000000000000146, \"rj\": 8.99999999999988, \"c\": \"white\"}, {\"i\": \"Haverford College\", \"j\": \"Haverford College\", \"x\": 0.0, \"Group\": \"B. Student, 2002\", \"ri\": 7.000000000000146, \"rj\": 7.000000000000146, \"c\": \"black\"}, {\"i\": \"Haverford College\", \"j\": \"Middlebury College\", \"x\": 0.0, \"Group\": \"B. Student, 2002\", \"ri\": 7.000000000000146, \"rj\": 2.0014725606000177, \"c\": \"white\"}, {\"i\": \"Haverford College\", \"j\": \"Pomona College\", \"x\": 0.0, \"Group\": \"B. Student, 2002\", \"ri\": 7.000000000000146, \"rj\": 1.9910371656456656, \"c\": \"white\"}, {\"i\": \"Haverford College\", \"j\": \"Swarthmore College\", \"x\": 0.0, \"Group\": \"B. Student, 2002\", \"ri\": 7.000000000000146, \"rj\": 7.801701247986041e-13, \"c\": \"white\"}, {\"i\": \"Haverford College\", \"j\": \"Wellesley College\", \"x\": 1.0, \"Group\": \"B. Student, 2002\", \"ri\": 7.000000000000146, \"rj\": 9.999999999999108, \"c\": \"white\"}, {\"i\": \"Haverford College\", \"j\": \"Williams College\", \"x\": 0.0, \"Group\": \"B. Student, 2002\", \"ri\": 7.000000000000146, \"rj\": 3.999999999999531, \"c\": \"white\"}, {\"i\": \"Middlebury College\", \"j\": \"Amherst College\", \"x\": 0.668672571051415, \"Group\": \"B. Student, 2002\", \"ri\": 2.0014725606000177, \"rj\": 2.0074902737542732, \"c\": \"green\"}, {\"i\": \"Middlebury College\", \"j\": \"Bowdoin College\", \"x\": 1.0, \"Group\": \"B. Student, 2002\", \"ri\": 2.0014725606000177, \"rj\": 5.000000000000976, \"c\": \"white\"}, {\"i\": \"Middlebury College\", \"j\": \"Carleton College\", \"x\": 1.0, \"Group\": \"B. Student, 2002\", \"ri\": 2.0014725606000177, \"rj\": 7.999999999999894, \"c\": \"white\"}, {\"i\": \"Middlebury College\", \"j\": \"Claremont McKenna College\", \"x\": 1.0, \"Group\": \"B. Student, 2002\", \"ri\": 2.0014725606000177, \"rj\": 5.999999999999729, \"c\": \"white\"}, {\"i\": \"Middlebury College\", \"j\": \"Davidson College\", \"x\": 1.0, \"Group\": \"B. Student, 2002\", \"ri\": 2.0014725606000177, \"rj\": 8.99999999999988, \"c\": \"white\"}, {\"i\": \"Middlebury College\", \"j\": \"Haverford College\", \"x\": 1.0, \"Group\": \"B. Student, 2002\", \"ri\": 2.0014725606000177, \"rj\": 7.000000000000146, \"c\": \"white\"}, {\"i\": \"Middlebury College\", \"j\": \"Middlebury College\", \"x\": 0.0, \"Group\": \"B. Student, 2002\", \"ri\": 2.0014725606000177, \"rj\": 2.0014725606000177, \"c\": \"black\"}, {\"i\": \"Middlebury College\", \"j\": \"Pomona College\", \"x\": 0.32985486834855093, \"Group\": \"B. Student, 2002\", \"ri\": 2.0014725606000177, \"rj\": 1.9910371656456656, \"c\": \"red\"}, {\"i\": \"Middlebury College\", \"j\": \"Swarthmore College\", \"x\": 0.0, \"Group\": \"B. Student, 2002\", \"ri\": 2.0014725606000177, \"rj\": 7.801701247986041e-13, \"c\": \"white\"}, {\"i\": \"Middlebury College\", \"j\": \"Wellesley College\", \"x\": 1.0, \"Group\": \"B. Student, 2002\", \"ri\": 2.0014725606000177, \"rj\": 9.999999999999108, \"c\": \"white\"}, {\"i\": \"Middlebury College\", \"j\": \"Williams College\", \"x\": 1.0, \"Group\": \"B. Student, 2002\", \"ri\": 2.0014725606000177, \"rj\": 3.999999999999531, \"c\": \"white\"}, {\"i\": \"Pomona College\", \"j\": \"Amherst College\", \"x\": 0.33881770270288825, \"Group\": \"B. Student, 2002\", \"ri\": 1.9910371656456656, \"rj\": 2.0074902737542732, \"c\": \"green\"}, {\"i\": \"Pomona College\", \"j\": \"Bowdoin College\", \"x\": 1.0, \"Group\": \"B. Student, 2002\", \"ri\": 1.9910371656456656, \"rj\": 5.000000000000976, \"c\": \"white\"}, {\"i\": \"Pomona College\", \"j\": \"Carleton College\", \"x\": 1.0, \"Group\": \"B. Student, 2002\", \"ri\": 1.9910371656456656, \"rj\": 7.999999999999894, \"c\": \"white\"}, {\"i\": \"Pomona College\", \"j\": \"Claremont McKenna College\", \"x\": 1.0, \"Group\": \"B. Student, 2002\", \"ri\": 1.9910371656456656, \"rj\": 5.999999999999729, \"c\": \"white\"}, {\"i\": \"Pomona College\", \"j\": \"Davidson College\", \"x\": 1.0, \"Group\": \"B. Student, 2002\", \"ri\": 1.9910371656456656, \"rj\": 8.99999999999988, \"c\": \"white\"}, {\"i\": \"Pomona College\", \"j\": \"Haverford College\", \"x\": 1.0, \"Group\": \"B. Student, 2002\", \"ri\": 1.9910371656456656, \"rj\": 7.000000000000146, \"c\": \"white\"}, {\"i\": \"Pomona College\", \"j\": \"Middlebury College\", \"x\": 0.6701451316514491, \"Group\": \"B. Student, 2002\", \"ri\": 1.9910371656456656, \"rj\": 2.0014725606000177, \"c\": \"green\"}, {\"i\": \"Pomona College\", \"j\": \"Pomona College\", \"x\": 0.0, \"Group\": \"B. Student, 2002\", \"ri\": 1.9910371656456656, \"rj\": 1.9910371656456656, \"c\": \"black\"}, {\"i\": \"Pomona College\", \"j\": \"Swarthmore College\", \"x\": 0.0, \"Group\": \"B. Student, 2002\", \"ri\": 1.9910371656456656, \"rj\": 7.801701247986041e-13, \"c\": \"white\"}, {\"i\": \"Pomona College\", \"j\": \"Wellesley College\", \"x\": 1.0, \"Group\": \"B. Student, 2002\", \"ri\": 1.9910371656456656, \"rj\": 9.999999999999108, \"c\": \"white\"}, {\"i\": \"Pomona College\", \"j\": \"Williams College\", \"x\": 1.0, \"Group\": \"B. Student, 2002\", \"ri\": 1.9910371656456656, \"rj\": 3.999999999999531, \"c\": \"white\"}, {\"i\": \"Swarthmore College\", \"j\": \"Amherst College\", \"x\": 1.0, \"Group\": \"B. Student, 2002\", \"ri\": 7.801701247986041e-13, \"rj\": 2.0074902737542732, \"c\": \"white\"}, {\"i\": \"Swarthmore College\", \"j\": \"Bowdoin College\", \"x\": 1.0, \"Group\": \"B. Student, 2002\", \"ri\": 7.801701247986041e-13, \"rj\": 5.000000000000976, \"c\": \"white\"}, {\"i\": \"Swarthmore College\", \"j\": \"Carleton College\", \"x\": 1.0, \"Group\": \"B. Student, 2002\", \"ri\": 7.801701247986041e-13, \"rj\": 7.999999999999894, \"c\": \"white\"}, {\"i\": \"Swarthmore College\", \"j\": \"Claremont McKenna College\", \"x\": 1.0, \"Group\": \"B. Student, 2002\", \"ri\": 7.801701247986041e-13, \"rj\": 5.999999999999729, \"c\": \"white\"}, {\"i\": \"Swarthmore College\", \"j\": \"Davidson College\", \"x\": 1.0, \"Group\": \"B. Student, 2002\", \"ri\": 7.801701247986041e-13, \"rj\": 8.99999999999988, \"c\": \"white\"}, {\"i\": \"Swarthmore College\", \"j\": \"Haverford College\", \"x\": 1.0, \"Group\": \"B. Student, 2002\", \"ri\": 7.801701247986041e-13, \"rj\": 7.000000000000146, \"c\": \"white\"}, {\"i\": \"Swarthmore College\", \"j\": \"Middlebury College\", \"x\": 1.0, \"Group\": \"B. Student, 2002\", \"ri\": 7.801701247986041e-13, \"rj\": 2.0014725606000177, \"c\": \"white\"}, {\"i\": \"Swarthmore College\", \"j\": \"Pomona College\", \"x\": 1.0, \"Group\": \"B. Student, 2002\", \"ri\": 7.801701247986041e-13, \"rj\": 1.9910371656456656, \"c\": \"white\"}, {\"i\": \"Swarthmore College\", \"j\": \"Swarthmore College\", \"x\": 0.0, \"Group\": \"B. Student, 2002\", \"ri\": 7.801701247986041e-13, \"rj\": 7.801701247986041e-13, \"c\": \"black\"}, {\"i\": \"Swarthmore College\", \"j\": \"Wellesley College\", \"x\": 1.0, \"Group\": \"B. Student, 2002\", \"ri\": 7.801701247986041e-13, \"rj\": 9.999999999999108, \"c\": \"white\"}, {\"i\": \"Swarthmore College\", \"j\": \"Williams College\", \"x\": 1.0, \"Group\": \"B. Student, 2002\", \"ri\": 7.801701247986041e-13, \"rj\": 3.999999999999531, \"c\": \"white\"}, {\"i\": \"Wellesley College\", \"j\": \"Amherst College\", \"x\": 0.0, \"Group\": \"B. Student, 2002\", \"ri\": 9.999999999999108, \"rj\": 2.0074902737542732, \"c\": \"white\"}, {\"i\": \"Wellesley College\", \"j\": \"Bowdoin College\", \"x\": 0.0, \"Group\": \"B. Student, 2002\", \"ri\": 9.999999999999108, \"rj\": 5.000000000000976, \"c\": \"white\"}, {\"i\": \"Wellesley College\", \"j\": \"Carleton College\", \"x\": 0.0, \"Group\": \"B. Student, 2002\", \"ri\": 9.999999999999108, \"rj\": 7.999999999999894, \"c\": \"white\"}, {\"i\": \"Wellesley College\", \"j\": \"Claremont McKenna College\", \"x\": 0.0, \"Group\": \"B. Student, 2002\", \"ri\": 9.999999999999108, \"rj\": 5.999999999999729, \"c\": \"white\"}, {\"i\": \"Wellesley College\", \"j\": \"Davidson College\", \"x\": 0.0, \"Group\": \"B. Student, 2002\", \"ri\": 9.999999999999108, \"rj\": 8.99999999999988, \"c\": \"white\"}, {\"i\": \"Wellesley College\", \"j\": \"Haverford College\", \"x\": 0.0, \"Group\": \"B. Student, 2002\", \"ri\": 9.999999999999108, \"rj\": 7.000000000000146, \"c\": \"white\"}, {\"i\": \"Wellesley College\", \"j\": \"Middlebury College\", \"x\": 0.0, \"Group\": \"B. Student, 2002\", \"ri\": 9.999999999999108, \"rj\": 2.0014725606000177, \"c\": \"white\"}, {\"i\": \"Wellesley College\", \"j\": \"Pomona College\", \"x\": 0.0, \"Group\": \"B. Student, 2002\", \"ri\": 9.999999999999108, \"rj\": 1.9910371656456656, \"c\": \"white\"}, {\"i\": \"Wellesley College\", \"j\": \"Swarthmore College\", \"x\": 0.0, \"Group\": \"B. Student, 2002\", \"ri\": 9.999999999999108, \"rj\": 7.801701247986041e-13, \"c\": \"white\"}, {\"i\": \"Wellesley College\", \"j\": \"Wellesley College\", \"x\": 0.0, \"Group\": \"B. Student, 2002\", \"ri\": 9.999999999999108, \"rj\": 9.999999999999108, \"c\": \"black\"}, {\"i\": \"Wellesley College\", \"j\": \"Williams College\", \"x\": 0.0, \"Group\": \"B. Student, 2002\", \"ri\": 9.999999999999108, \"rj\": 3.999999999999531, \"c\": \"white\"}, {\"i\": \"Williams College\", \"j\": \"Amherst College\", \"x\": 0.0, \"Group\": \"B. Student, 2002\", \"ri\": 3.999999999999531, \"rj\": 2.0074902737542732, \"c\": \"white\"}, {\"i\": \"Williams College\", \"j\": \"Bowdoin College\", \"x\": 1.0, \"Group\": \"B. Student, 2002\", \"ri\": 3.999999999999531, \"rj\": 5.000000000000976, \"c\": \"white\"}, {\"i\": \"Williams College\", \"j\": \"Carleton College\", \"x\": 1.0, \"Group\": \"B. Student, 2002\", \"ri\": 3.999999999999531, \"rj\": 7.999999999999894, \"c\": \"white\"}, {\"i\": \"Williams College\", \"j\": \"Claremont McKenna College\", \"x\": 1.0, \"Group\": \"B. Student, 2002\", \"ri\": 3.999999999999531, \"rj\": 5.999999999999729, \"c\": \"white\"}, {\"i\": \"Williams College\", \"j\": \"Davidson College\", \"x\": 1.0, \"Group\": \"B. Student, 2002\", \"ri\": 3.999999999999531, \"rj\": 8.99999999999988, \"c\": \"white\"}, {\"i\": \"Williams College\", \"j\": \"Haverford College\", \"x\": 1.0, \"Group\": \"B. Student, 2002\", \"ri\": 3.999999999999531, \"rj\": 7.000000000000146, \"c\": \"white\"}, {\"i\": \"Williams College\", \"j\": \"Middlebury College\", \"x\": 0.0, \"Group\": \"B. Student, 2002\", \"ri\": 3.999999999999531, \"rj\": 2.0014725606000177, \"c\": \"white\"}, {\"i\": \"Williams College\", \"j\": \"Pomona College\", \"x\": 0.0, \"Group\": \"B. Student, 2002\", \"ri\": 3.999999999999531, \"rj\": 1.9910371656456656, \"c\": \"white\"}, {\"i\": \"Williams College\", \"j\": \"Swarthmore College\", \"x\": 0.0, \"Group\": \"B. Student, 2002\", \"ri\": 3.999999999999531, \"rj\": 7.801701247986041e-13, \"c\": \"white\"}, {\"i\": \"Williams College\", \"j\": \"Wellesley College\", \"x\": 1.0, \"Group\": \"B. Student, 2002\", \"ri\": 3.999999999999531, \"rj\": 9.999999999999108, \"c\": \"white\"}, {\"i\": \"Williams College\", \"j\": \"Williams College\", \"x\": 0.0, \"Group\": \"B. Student, 2002\", \"ri\": 3.999999999999531, \"rj\": 3.999999999999531, \"c\": \"black\"}, {\"i\": \"Amherst College\", \"j\": \"Amherst College\", \"x\": 0.0, \"Group\": \"C. Both, 2002\", \"ri\": 0.9093372810495367, \"rj\": 0.9093372810495367, \"c\": \"black\"}, {\"i\": \"Amherst College\", \"j\": \"Bowdoin College\", \"x\": 1.0, \"Group\": \"C. Both, 2002\", \"ri\": 0.9093372810495367, \"rj\": 4.5481743952405775, \"c\": \"white\"}, {\"i\": \"Amherst College\", \"j\": \"Carleton College\", \"x\": 1.0, \"Group\": \"C. Both, 2002\", \"ri\": 0.9093372810495367, \"rj\": 9.010912362481303, \"c\": \"white\"}, {\"i\": \"Amherst College\", \"j\": \"Claremont McKenna College\", \"x\": 1.0, \"Group\": \"C. Both, 2002\", \"ri\": 0.9093372810495367, \"rj\": 5.697589610590577, \"c\": \"white\"}, {\"i\": \"Amherst College\", \"j\": \"Davidson College\", \"x\": 1.0, \"Group\": \"C. Both, 2002\", \"ri\": 0.9093372810495367, \"rj\": 8.41493312673764, \"c\": \"white\"}, {\"i\": \"Amherst College\", \"j\": \"Haverford College\", \"x\": 1.0, \"Group\": \"C. Both, 2002\", \"ri\": 0.9093372810495367, \"rj\": 6.999999999999865, \"c\": \"white\"}, {\"i\": \"Amherst College\", \"j\": \"Middlebury College\", \"x\": 0.6491964968907031, \"Group\": \"C. Both, 2002\", \"ri\": 0.9093372810495367, \"rj\": 2.439619302301761, \"c\": \"green\"}, {\"i\": \"Amherst College\", \"j\": \"Pomona College\", \"x\": 1.0, \"Group\": \"C. Both, 2002\", \"ri\": 0.9093372810495367, \"rj\": 4.034532930949623, \"c\": \"white\"}, {\"i\": \"Amherst College\", \"j\": \"Swarthmore College\", \"x\": 0.4414662220598189, \"Group\": \"C. Both, 2002\", \"ri\": 0.9093372810495367, \"rj\": 0.441466222060019, \"c\": \"red\"}, {\"i\": \"Amherst College\", \"j\": \"Wellesley College\", \"x\": 1.0, \"Group\": \"C. Both, 2002\", \"ri\": 0.9093372810495367, \"rj\": 9.574154510780785, \"c\": \"white\"}, {\"i\": \"Amherst College\", \"j\": \"Williams College\", \"x\": 1.0, \"Group\": \"C. Both, 2002\", \"ri\": 0.9093372810495367, \"rj\": 2.929280257808311, \"c\": \"white\"}, {\"i\": \"Bowdoin College\", \"j\": \"Amherst College\", \"x\": 0.0, \"Group\": \"C. Both, 2002\", \"ri\": 4.5481743952405775, \"rj\": 0.9093372810495367, \"c\": \"white\"}, {\"i\": \"Bowdoin College\", \"j\": \"Bowdoin College\", \"x\": 0.0, \"Group\": \"C. Both, 2002\", \"ri\": 4.5481743952405775, \"rj\": 4.5481743952405775, \"c\": \"black\"}, {\"i\": \"Bowdoin College\", \"j\": \"Carleton College\", \"x\": 1.0, \"Group\": \"C. Both, 2002\", \"ri\": 4.5481743952405775, \"rj\": 9.010912362481303, \"c\": \"white\"}, {\"i\": \"Bowdoin College\", \"j\": \"Claremont McKenna College\", \"x\": 1.0, \"Group\": \"C. Both, 2002\", \"ri\": 4.5481743952405775, \"rj\": 5.697589610590577, \"c\": \"white\"}, {\"i\": \"Bowdoin College\", \"j\": \"Davidson College\", \"x\": 1.0, \"Group\": \"C. Both, 2002\", \"ri\": 4.5481743952405775, \"rj\": 8.41493312673764, \"c\": \"white\"}, {\"i\": \"Bowdoin College\", \"j\": \"Haverford College\", \"x\": 1.0, \"Group\": \"C. Both, 2002\", \"ri\": 4.5481743952405775, \"rj\": 6.999999999999865, \"c\": \"white\"}, {\"i\": \"Bowdoin College\", \"j\": \"Middlebury College\", \"x\": 0.0, \"Group\": \"C. Both, 2002\", \"ri\": 4.5481743952405775, \"rj\": 2.439619302301761, \"c\": \"white\"}, {\"i\": \"Bowdoin College\", \"j\": \"Pomona College\", \"x\": 0.4518256047595201, \"Group\": \"C. Both, 2002\", \"ri\": 4.5481743952405775, \"rj\": 4.034532930949623, \"c\": \"red\"}, {\"i\": \"Bowdoin College\", \"j\": \"Swarthmore College\", \"x\": 0.0, \"Group\": \"C. Both, 2002\", \"ri\": 4.5481743952405775, \"rj\": 0.441466222060019, \"c\": \"white\"}, {\"i\": \"Bowdoin College\", \"j\": \"Wellesley College\", \"x\": 1.0, \"Group\": \"C. Both, 2002\", \"ri\": 4.5481743952405775, \"rj\": 9.574154510780785, \"c\": \"white\"}, {\"i\": \"Bowdoin College\", \"j\": \"Williams College\", \"x\": 0.0, \"Group\": \"C. Both, 2002\", \"ri\": 4.5481743952405775, \"rj\": 2.929280257808311, \"c\": \"white\"}, {\"i\": \"Carleton College\", \"j\": \"Amherst College\", \"x\": 0.0, \"Group\": \"C. Both, 2002\", \"ri\": 9.010912362481303, \"rj\": 0.9093372810495367, \"c\": \"white\"}, {\"i\": \"Carleton College\", \"j\": \"Bowdoin College\", \"x\": 0.0, \"Group\": \"C. Both, 2002\", \"ri\": 9.010912362481303, \"rj\": 4.5481743952405775, \"c\": \"white\"}, {\"i\": \"Carleton College\", \"j\": \"Carleton College\", \"x\": 0.0, \"Group\": \"C. Both, 2002\", \"ri\": 9.010912362481303, \"rj\": 9.010912362481303, \"c\": \"black\"}, {\"i\": \"Carleton College\", \"j\": \"Claremont McKenna College\", \"x\": 0.0, \"Group\": \"C. Both, 2002\", \"ri\": 9.010912362481303, \"rj\": 5.697589610590577, \"c\": \"white\"}, {\"i\": \"Carleton College\", \"j\": \"Davidson College\", \"x\": 0.4149331267376646, \"Group\": \"C. Both, 2002\", \"ri\": 9.010912362481303, \"rj\": 8.41493312673764, \"c\": \"red\"}, {\"i\": \"Carleton College\", \"j\": \"Haverford College\", \"x\": 0.0, \"Group\": \"C. Both, 2002\", \"ri\": 9.010912362481303, \"rj\": 6.999999999999865, \"c\": \"white\"}, {\"i\": \"Carleton College\", \"j\": \"Middlebury College\", \"x\": 0.0, \"Group\": \"C. Both, 2002\", \"ri\": 9.010912362481303, \"rj\": 2.439619302301761, \"c\": \"white\"}, {\"i\": \"Carleton College\", \"j\": \"Pomona College\", \"x\": 0.0, \"Group\": \"C. Both, 2002\", \"ri\": 9.010912362481303, \"rj\": 4.034532930949623, \"c\": \"white\"}, {\"i\": \"Carleton College\", \"j\": \"Swarthmore College\", \"x\": 0.0, \"Group\": \"C. Both, 2002\", \"ri\": 9.010912362481303, \"rj\": 0.441466222060019, \"c\": \"white\"}, {\"i\": \"Carleton College\", \"j\": \"Wellesley College\", \"x\": 0.574154510780843, \"Group\": \"C. Both, 2002\", \"ri\": 9.010912362481303, \"rj\": 9.574154510780785, \"c\": \"green\"}, {\"i\": \"Carleton College\", \"j\": \"Williams College\", \"x\": 0.0, \"Group\": \"C. Both, 2002\", \"ri\": 9.010912362481303, \"rj\": 2.929280257808311, \"c\": \"white\"}, {\"i\": \"Claremont McKenna College\", \"j\": \"Amherst College\", \"x\": 0.0, \"Group\": \"C. Both, 2002\", \"ri\": 5.697589610590577, \"rj\": 0.9093372810495367, \"c\": \"white\"}, {\"i\": \"Claremont McKenna College\", \"j\": \"Bowdoin College\", \"x\": 0.0, \"Group\": \"C. Both, 2002\", \"ri\": 5.697589610590577, \"rj\": 4.5481743952405775, \"c\": \"white\"}, {\"i\": \"Claremont McKenna College\", \"j\": \"Carleton College\", \"x\": 1.0, \"Group\": \"C. Both, 2002\", \"ri\": 5.697589610590577, \"rj\": 9.010912362481303, \"c\": \"white\"}, {\"i\": \"Claremont McKenna College\", \"j\": \"Claremont McKenna College\", \"x\": 0.0, \"Group\": \"C. Both, 2002\", \"ri\": 5.697589610590577, \"rj\": 5.697589610590577, \"c\": \"black\"}, {\"i\": \"Claremont McKenna College\", \"j\": \"Davidson College\", \"x\": 1.0, \"Group\": \"C. Both, 2002\", \"ri\": 5.697589610590577, \"rj\": 8.41493312673764, \"c\": \"white\"}, {\"i\": \"Claremont McKenna College\", \"j\": \"Haverford College\", \"x\": 1.0, \"Group\": \"C. Both, 2002\", \"ri\": 5.697589610590577, \"rj\": 6.999999999999865, \"c\": \"white\"}, {\"i\": \"Claremont McKenna College\", \"j\": \"Middlebury College\", \"x\": 0.0, \"Group\": \"C. Both, 2002\", \"ri\": 5.697589610590577, \"rj\": 2.439619302301761, \"c\": \"white\"}, {\"i\": \"Claremont McKenna College\", \"j\": \"Pomona College\", \"x\": 0.30241038940953907, \"Group\": \"C. Both, 2002\", \"ri\": 5.697589610590577, \"rj\": 4.034532930949623, \"c\": \"red\"}, {\"i\": \"Claremont McKenna College\", \"j\": \"Swarthmore College\", \"x\": 0.0, \"Group\": \"C. Both, 2002\", \"ri\": 5.697589610590577, \"rj\": 0.441466222060019, \"c\": \"white\"}, {\"i\": \"Claremont McKenna College\", \"j\": \"Wellesley College\", \"x\": 1.0, \"Group\": \"C. Both, 2002\", \"ri\": 5.697589610590577, \"rj\": 9.574154510780785, \"c\": \"white\"}, {\"i\": \"Claremont McKenna College\", \"j\": \"Williams College\", \"x\": 0.0, \"Group\": \"C. Both, 2002\", \"ri\": 5.697589610590577, \"rj\": 2.929280257808311, \"c\": \"white\"}, {\"i\": \"Davidson College\", \"j\": \"Amherst College\", \"x\": 0.0, \"Group\": \"C. Both, 2002\", \"ri\": 8.41493312673764, \"rj\": 0.9093372810495367, \"c\": \"white\"}, {\"i\": \"Davidson College\", \"j\": \"Bowdoin College\", \"x\": 0.0, \"Group\": \"C. Both, 2002\", \"ri\": 8.41493312673764, \"rj\": 4.5481743952405775, \"c\": \"white\"}, {\"i\": \"Davidson College\", \"j\": \"Carleton College\", \"x\": 0.5850668732623354, \"Group\": \"C. Both, 2002\", \"ri\": 8.41493312673764, \"rj\": 9.010912362481303, \"c\": \"green\"}, {\"i\": \"Davidson College\", \"j\": \"Claremont McKenna College\", \"x\": 0.0, \"Group\": \"C. Both, 2002\", \"ri\": 8.41493312673764, \"rj\": 5.697589610590577, \"c\": \"white\"}, {\"i\": \"Davidson College\", \"j\": \"Davidson College\", \"x\": 0.0, \"Group\": \"C. Both, 2002\", \"ri\": 8.41493312673764, \"rj\": 8.41493312673764, \"c\": \"black\"}, {\"i\": \"Davidson College\", \"j\": \"Haverford College\", \"x\": 0.0, \"Group\": \"C. Both, 2002\", \"ri\": 8.41493312673764, \"rj\": 6.999999999999865, \"c\": \"white\"}, {\"i\": \"Davidson College\", \"j\": \"Middlebury College\", \"x\": 0.0, \"Group\": \"C. Both, 2002\", \"ri\": 8.41493312673764, \"rj\": 2.439619302301761, \"c\": \"white\"}, {\"i\": \"Davidson College\", \"j\": \"Pomona College\", \"x\": 0.0, \"Group\": \"C. Both, 2002\", \"ri\": 8.41493312673764, \"rj\": 4.034532930949623, \"c\": \"white\"}, {\"i\": \"Davidson College\", \"j\": \"Swarthmore College\", \"x\": 0.0, \"Group\": \"C. Both, 2002\", \"ri\": 8.41493312673764, \"rj\": 0.441466222060019, \"c\": \"white\"}, {\"i\": \"Davidson College\", \"j\": \"Wellesley College\", \"x\": 1.0, \"Group\": \"C. Both, 2002\", \"ri\": 8.41493312673764, \"rj\": 9.574154510780785, \"c\": \"white\"}, {\"i\": \"Davidson College\", \"j\": \"Williams College\", \"x\": 0.0, \"Group\": \"C. Both, 2002\", \"ri\": 8.41493312673764, \"rj\": 2.929280257808311, \"c\": \"white\"}, {\"i\": \"Haverford College\", \"j\": \"Amherst College\", \"x\": 0.0, \"Group\": \"C. Both, 2002\", \"ri\": 6.999999999999865, \"rj\": 0.9093372810495367, \"c\": \"white\"}, {\"i\": \"Haverford College\", \"j\": \"Bowdoin College\", \"x\": 0.0, \"Group\": \"C. Both, 2002\", \"ri\": 6.999999999999865, \"rj\": 4.5481743952405775, \"c\": \"white\"}, {\"i\": \"Haverford College\", \"j\": \"Carleton College\", \"x\": 1.0, \"Group\": \"C. Both, 2002\", \"ri\": 6.999999999999865, \"rj\": 9.010912362481303, \"c\": \"white\"}, {\"i\": \"Haverford College\", \"j\": \"Claremont McKenna College\", \"x\": 0.0, \"Group\": \"C. Both, 2002\", \"ri\": 6.999999999999865, \"rj\": 5.697589610590577, \"c\": \"white\"}, {\"i\": \"Haverford College\", \"j\": \"Davidson College\", \"x\": 1.0, \"Group\": \"C. Both, 2002\", \"ri\": 6.999999999999865, \"rj\": 8.41493312673764, \"c\": \"white\"}, {\"i\": \"Haverford College\", \"j\": \"Haverford College\", \"x\": 0.0, \"Group\": \"C. Both, 2002\", \"ri\": 6.999999999999865, \"rj\": 6.999999999999865, \"c\": \"black\"}, {\"i\": \"Haverford College\", \"j\": \"Middlebury College\", \"x\": 0.0, \"Group\": \"C. Both, 2002\", \"ri\": 6.999999999999865, \"rj\": 2.439619302301761, \"c\": \"white\"}, {\"i\": \"Haverford College\", \"j\": \"Pomona College\", \"x\": 0.0, \"Group\": \"C. Both, 2002\", \"ri\": 6.999999999999865, \"rj\": 4.034532930949623, \"c\": \"white\"}, {\"i\": \"Haverford College\", \"j\": \"Swarthmore College\", \"x\": 0.0, \"Group\": \"C. Both, 2002\", \"ri\": 6.999999999999865, \"rj\": 0.441466222060019, \"c\": \"white\"}, {\"i\": \"Haverford College\", \"j\": \"Wellesley College\", \"x\": 1.0, \"Group\": \"C. Both, 2002\", \"ri\": 6.999999999999865, \"rj\": 9.574154510780785, \"c\": \"white\"}, {\"i\": \"Haverford College\", \"j\": \"Williams College\", \"x\": 0.0, \"Group\": \"C. Both, 2002\", \"ri\": 6.999999999999865, \"rj\": 2.929280257808311, \"c\": \"white\"}, {\"i\": \"Middlebury College\", \"j\": \"Amherst College\", \"x\": 0.35080350310929687, \"Group\": \"C. Both, 2002\", \"ri\": 2.439619302301761, \"rj\": 0.9093372810495367, \"c\": \"red\"}, {\"i\": \"Middlebury College\", \"j\": \"Bowdoin College\", \"x\": 1.0, \"Group\": \"C. Both, 2002\", \"ri\": 2.439619302301761, \"rj\": 4.5481743952405775, \"c\": \"white\"}, {\"i\": \"Middlebury College\", \"j\": \"Carleton College\", \"x\": 1.0, \"Group\": \"C. Both, 2002\", \"ri\": 2.439619302301761, \"rj\": 9.010912362481303, \"c\": \"white\"}, {\"i\": \"Middlebury College\", \"j\": \"Claremont McKenna College\", \"x\": 1.0, \"Group\": \"C. Both, 2002\", \"ri\": 2.439619302301761, \"rj\": 5.697589610590577, \"c\": \"white\"}, {\"i\": \"Middlebury College\", \"j\": \"Davidson College\", \"x\": 1.0, \"Group\": \"C. Both, 2002\", \"ri\": 2.439619302301761, \"rj\": 8.41493312673764, \"c\": \"white\"}, {\"i\": \"Middlebury College\", \"j\": \"Haverford College\", \"x\": 1.0, \"Group\": \"C. Both, 2002\", \"ri\": 2.439619302301761, \"rj\": 6.999999999999865, \"c\": \"white\"}, {\"i\": \"Middlebury College\", \"j\": \"Middlebury College\", \"x\": 0.0, \"Group\": \"C. Both, 2002\", \"ri\": 2.439619302301761, \"rj\": 2.439619302301761, \"c\": \"black\"}, {\"i\": \"Middlebury College\", \"j\": \"Pomona College\", \"x\": 0.6530235032283916, \"Group\": \"C. Both, 2002\", \"ri\": 2.439619302301761, \"rj\": 4.034532930949623, \"c\": \"green\"}, {\"i\": \"Middlebury College\", \"j\": \"Swarthmore College\", \"x\": 0.0, \"Group\": \"C. Both, 2002\", \"ri\": 2.439619302301761, \"rj\": 0.441466222060019, \"c\": \"white\"}, {\"i\": \"Middlebury College\", \"j\": \"Wellesley College\", \"x\": 1.0, \"Group\": \"C. Both, 2002\", \"ri\": 2.439619302301761, \"rj\": 9.574154510780785, \"c\": \"white\"}, {\"i\": \"Middlebury College\", \"j\": \"Williams College\", \"x\": 0.5565536913605689, \"Group\": \"C. Both, 2002\", \"ri\": 2.439619302301761, \"rj\": 2.929280257808311, \"c\": \"green\"}, {\"i\": \"Pomona College\", \"j\": \"Amherst College\", \"x\": 0.0, \"Group\": \"C. Both, 2002\", \"ri\": 4.034532930949623, \"rj\": 0.9093372810495367, \"c\": \"white\"}, {\"i\": \"Pomona College\", \"j\": \"Bowdoin College\", \"x\": 0.5481743952404798, \"Group\": \"C. Both, 2002\", \"ri\": 4.034532930949623, \"rj\": 4.5481743952405775, \"c\": \"green\"}, {\"i\": \"Pomona College\", \"j\": \"Carleton College\", \"x\": 1.0, \"Group\": \"C. Both, 2002\", \"ri\": 4.034532930949623, \"rj\": 9.010912362481303, \"c\": \"white\"}, {\"i\": \"Pomona College\", \"j\": \"Claremont McKenna College\", \"x\": 0.6975896105904609, \"Group\": \"C. Both, 2002\", \"ri\": 4.034532930949623, \"rj\": 5.697589610590577, \"c\": \"green\"}, {\"i\": \"Pomona College\", \"j\": \"Davidson College\", \"x\": 1.0, \"Group\": \"C. Both, 2002\", \"ri\": 4.034532930949623, \"rj\": 8.41493312673764, \"c\": \"white\"}, {\"i\": \"Pomona College\", \"j\": \"Haverford College\", \"x\": 1.0, \"Group\": \"C. Both, 2002\", \"ri\": 4.034532930949623, \"rj\": 6.999999999999865, \"c\": \"white\"}, {\"i\": \"Pomona College\", \"j\": \"Middlebury College\", \"x\": 0.34697649677160836, \"Group\": \"C. Both, 2002\", \"ri\": 4.034532930949623, \"rj\": 2.439619302301761, \"c\": \"red\"}, {\"i\": \"Pomona College\", \"j\": \"Pomona College\", \"x\": 0.0, \"Group\": \"C. Both, 2002\", \"ri\": 4.034532930949623, \"rj\": 4.034532930949623, \"c\": \"black\"}, {\"i\": \"Pomona College\", \"j\": \"Swarthmore College\", \"x\": 0.0, \"Group\": \"C. Both, 2002\", \"ri\": 4.034532930949623, \"rj\": 0.441466222060019, \"c\": \"white\"}, {\"i\": \"Pomona College\", \"j\": \"Wellesley College\", \"x\": 1.0, \"Group\": \"C. Both, 2002\", \"ri\": 4.034532930949623, \"rj\": 9.574154510780785, \"c\": \"white\"}, {\"i\": \"Pomona College\", \"j\": \"Williams College\", \"x\": 0.3727265664477836, \"Group\": \"C. Both, 2002\", \"ri\": 4.034532930949623, \"rj\": 2.929280257808311, \"c\": \"red\"}, {\"i\": \"Swarthmore College\", \"j\": \"Amherst College\", \"x\": 0.5585337779401811, \"Group\": \"C. Both, 2002\", \"ri\": 0.441466222060019, \"rj\": 0.9093372810495367, \"c\": \"green\"}, {\"i\": \"Swarthmore College\", \"j\": \"Bowdoin College\", \"x\": 1.0, \"Group\": \"C. Both, 2002\", \"ri\": 0.441466222060019, \"rj\": 4.5481743952405775, \"c\": \"white\"}, {\"i\": \"Swarthmore College\", \"j\": \"Carleton College\", \"x\": 1.0, \"Group\": \"C. Both, 2002\", \"ri\": 0.441466222060019, \"rj\": 9.010912362481303, \"c\": \"white\"}, {\"i\": \"Swarthmore College\", \"j\": \"Claremont McKenna College\", \"x\": 1.0, \"Group\": \"C. Both, 2002\", \"ri\": 0.441466222060019, \"rj\": 5.697589610590577, \"c\": \"white\"}, {\"i\": \"Swarthmore College\", \"j\": \"Davidson College\", \"x\": 1.0, \"Group\": \"C. Both, 2002\", \"ri\": 0.441466222060019, \"rj\": 8.41493312673764, \"c\": \"white\"}, {\"i\": \"Swarthmore College\", \"j\": \"Haverford College\", \"x\": 1.0, \"Group\": \"C. Both, 2002\", \"ri\": 0.441466222060019, \"rj\": 6.999999999999865, \"c\": \"white\"}, {\"i\": \"Swarthmore College\", \"j\": \"Middlebury College\", \"x\": 1.0, \"Group\": \"C. Both, 2002\", \"ri\": 0.441466222060019, \"rj\": 2.439619302301761, \"c\": \"white\"}, {\"i\": \"Swarthmore College\", \"j\": \"Pomona College\", \"x\": 1.0, \"Group\": \"C. Both, 2002\", \"ri\": 0.441466222060019, \"rj\": 4.034532930949623, \"c\": \"white\"}, {\"i\": \"Swarthmore College\", \"j\": \"Swarthmore College\", \"x\": 0.0, \"Group\": \"C. Both, 2002\", \"ri\": 0.441466222060019, \"rj\": 0.441466222060019, \"c\": \"black\"}, {\"i\": \"Swarthmore College\", \"j\": \"Wellesley College\", \"x\": 1.0, \"Group\": \"C. Both, 2002\", \"ri\": 0.441466222060019, \"rj\": 9.574154510780785, \"c\": \"white\"}, {\"i\": \"Swarthmore College\", \"j\": \"Williams College\", \"x\": 1.0, \"Group\": \"C. Both, 2002\", \"ri\": 0.441466222060019, \"rj\": 2.929280257808311, \"c\": \"white\"}, {\"i\": \"Wellesley College\", \"j\": \"Amherst College\", \"x\": 0.0, \"Group\": \"C. Both, 2002\", \"ri\": 9.574154510780785, \"rj\": 0.9093372810495367, \"c\": \"white\"}, {\"i\": \"Wellesley College\", \"j\": \"Bowdoin College\", \"x\": 0.0, \"Group\": \"C. Both, 2002\", \"ri\": 9.574154510780785, \"rj\": 4.5481743952405775, \"c\": \"white\"}, {\"i\": \"Wellesley College\", \"j\": \"Carleton College\", \"x\": 0.425845489219157, \"Group\": \"C. Both, 2002\", \"ri\": 9.574154510780785, \"rj\": 9.010912362481303, \"c\": \"red\"}, {\"i\": \"Wellesley College\", \"j\": \"Claremont McKenna College\", \"x\": 0.0, \"Group\": \"C. Both, 2002\", \"ri\": 9.574154510780785, \"rj\": 5.697589610590577, \"c\": \"white\"}, {\"i\": \"Wellesley College\", \"j\": \"Davidson College\", \"x\": 0.0, \"Group\": \"C. Both, 2002\", \"ri\": 9.574154510780785, \"rj\": 8.41493312673764, \"c\": \"white\"}, {\"i\": \"Wellesley College\", \"j\": \"Haverford College\", \"x\": 0.0, \"Group\": \"C. Both, 2002\", \"ri\": 9.574154510780785, \"rj\": 6.999999999999865, \"c\": \"white\"}, {\"i\": \"Wellesley College\", \"j\": \"Middlebury College\", \"x\": 0.0, \"Group\": \"C. Both, 2002\", \"ri\": 9.574154510780785, \"rj\": 2.439619302301761, \"c\": \"white\"}, {\"i\": \"Wellesley College\", \"j\": \"Pomona College\", \"x\": 0.0, \"Group\": \"C. Both, 2002\", \"ri\": 9.574154510780785, \"rj\": 4.034532930949623, \"c\": \"white\"}, {\"i\": \"Wellesley College\", \"j\": \"Swarthmore College\", \"x\": 0.0, \"Group\": \"C. Both, 2002\", \"ri\": 9.574154510780785, \"rj\": 0.441466222060019, \"c\": \"white\"}, {\"i\": \"Wellesley College\", \"j\": \"Wellesley College\", \"x\": 0.0, \"Group\": \"C. Both, 2002\", \"ri\": 9.574154510780785, \"rj\": 9.574154510780785, \"c\": \"black\"}, {\"i\": \"Wellesley College\", \"j\": \"Williams College\", \"x\": 0.0, \"Group\": \"C. Both, 2002\", \"ri\": 9.574154510780785, \"rj\": 2.929280257808311, \"c\": \"white\"}, {\"i\": \"Williams College\", \"j\": \"Amherst College\", \"x\": 0.0, \"Group\": \"C. Both, 2002\", \"ri\": 2.929280257808311, \"rj\": 0.9093372810495367, \"c\": \"white\"}, {\"i\": \"Williams College\", \"j\": \"Bowdoin College\", \"x\": 1.0, \"Group\": \"C. Both, 2002\", \"ri\": 2.929280257808311, \"rj\": 4.5481743952405775, \"c\": \"white\"}, {\"i\": \"Williams College\", \"j\": \"Carleton College\", \"x\": 1.0, \"Group\": \"C. Both, 2002\", \"ri\": 2.929280257808311, \"rj\": 9.010912362481303, \"c\": \"white\"}, {\"i\": \"Williams College\", \"j\": \"Claremont McKenna College\", \"x\": 1.0, \"Group\": \"C. Both, 2002\", \"ri\": 2.929280257808311, \"rj\": 5.697589610590577, \"c\": \"white\"}, {\"i\": \"Williams College\", \"j\": \"Davidson College\", \"x\": 1.0, \"Group\": \"C. Both, 2002\", \"ri\": 2.929280257808311, \"rj\": 8.41493312673764, \"c\": \"white\"}, {\"i\": \"Williams College\", \"j\": \"Haverford College\", \"x\": 1.0, \"Group\": \"C. Both, 2002\", \"ri\": 2.929280257808311, \"rj\": 6.999999999999865, \"c\": \"white\"}, {\"i\": \"Williams College\", \"j\": \"Middlebury College\", \"x\": 0.44344630863943113, \"Group\": \"C. Both, 2002\", \"ri\": 2.929280257808311, \"rj\": 2.439619302301761, \"c\": \"red\"}, {\"i\": \"Williams College\", \"j\": \"Pomona College\", \"x\": 0.6272734335522163, \"Group\": \"C. Both, 2002\", \"ri\": 2.929280257808311, \"rj\": 4.034532930949623, \"c\": \"green\"}, {\"i\": \"Williams College\", \"j\": \"Swarthmore College\", \"x\": 0.0, \"Group\": \"C. Both, 2002\", \"ri\": 2.929280257808311, \"rj\": 0.441466222060019, \"c\": \"white\"}, {\"i\": \"Williams College\", \"j\": \"Wellesley College\", \"x\": 1.0, \"Group\": \"C. Both, 2002\", \"ri\": 2.929280257808311, \"rj\": 9.574154510780785, \"c\": \"white\"}, {\"i\": \"Williams College\", \"j\": \"Williams College\", \"x\": 0.0, \"Group\": \"C. Both, 2002\", \"ri\": 2.929280257808311, \"rj\": 2.929280257808311, \"c\": \"black\"}]}}, {\"mode\": \"vega-lite\"});\n",
       "</script>"
      ],
      "text/plain": [
       "alt.FacetChart(...)"
      ]
     },
     "execution_count": 31,
     "metadata": {},
     "output_type": "execute_result"
    }
   ],
   "source": [
    "g,_,_ = plot_xstars(Ds)\n",
    "g"
   ]
  },
  {
   "cell_type": "markdown",
   "metadata": {
    "slideshow": {
     "slide_type": "subslide"
    }
   },
   "source": [
    "## Compare centroids for max and min for each group"
   ]
  },
  {
   "cell_type": "code",
   "execution_count": 32,
   "metadata": {
    "slideshow": {
     "slide_type": "fragment"
    }
   },
   "outputs": [
    {
     "data": {
      "text/plain": [
       "0               Amherst College\n",
       "1               Bowdoin College\n",
       "2              Carleton College\n",
       "3     Claremont McKenna College\n",
       "4              Davidson College\n",
       "5             Haverford College\n",
       "6            Middlebury College\n",
       "7                Pomona College\n",
       "8            Swarthmore College\n",
       "9             Wellesley College\n",
       "10             Williams College\n",
       "Name: School Name1, dtype: object"
      ]
     },
     "execution_count": 32,
     "metadata": {},
     "output_type": "execute_result"
    }
   ],
   "source": [
    "pd.Series(Ds.loc[(year,'Both'),'D'].index)"
   ]
  },
  {
   "cell_type": "code",
   "execution_count": 33,
   "metadata": {
    "slideshow": {
     "slide_type": "skip"
    }
   },
   "outputs": [
    {
     "data": {
      "text/plain": [
       "['Amherst College',\n",
       " 'Bowdoin College',\n",
       " 'Carleton College',\n",
       " 'Claremont McKenna College',\n",
       " 'Davidson College',\n",
       " 'Haverford College',\n",
       " 'Middlebury College',\n",
       " 'Pomona College',\n",
       " 'Swarthmore College',\n",
       " 'Wellesley College',\n",
       " 'Williams College']"
      ]
     },
     "execution_count": 33,
     "metadata": {},
     "output_type": "execute_result"
    }
   ],
   "source": [
    "colleges"
   ]
  },
  {
   "cell_type": "code",
   "execution_count": 34,
   "metadata": {
    "slideshow": {
     "slide_type": "skip"
    }
   },
   "outputs": [
    {
     "data": {
      "text/plain": [
       "(0, 8, 10, 6, 1, 3, 7, 5, 4, 9, 2)"
      ]
     },
     "execution_count": 34,
     "metadata": {},
     "output_type": "execute_result"
    }
   ],
   "source": [
    "Ds.loc[(year,'Parent'),'details_fixed_cont_x_minimize']['perm']"
   ]
  },
  {
   "cell_type": "code",
   "execution_count": 35,
   "metadata": {},
   "outputs": [],
   "source": [
    "def perm_to_series(D,perm,name):\n",
    "    return pd.Series(list(D.index[list(perm)]),name=name)"
   ]
  },
  {
   "cell_type": "markdown",
   "metadata": {
    "slideshow": {
     "slide_type": "subslide"
    }
   },
   "source": [
    "### Parent"
   ]
  },
  {
   "cell_type": "code",
   "execution_count": 36,
   "metadata": {
    "slideshow": {
     "slide_type": "fragment"
    }
   },
   "outputs": [
    {
     "ename": "AttributeError",
     "evalue": "'dict' object has no attribute 'perm'",
     "output_type": "error",
     "traceback": [
      "\u001b[0;31m---------------------------------------------------------------------------\u001b[0m",
      "\u001b[0;31mAttributeError\u001b[0m                            Traceback (most recent call last)",
      "\u001b[0;32m<ipython-input-36-28bc250f8f95>\u001b[0m in \u001b[0;36m<module>\u001b[0;34m\u001b[0m\n\u001b[0;32m----> 1\u001b[0;31m \u001b[0mA\u001b[0m \u001b[0;34m=\u001b[0m \u001b[0mperm_to_series\u001b[0m\u001b[0;34m(\u001b[0m\u001b[0mDs\u001b[0m\u001b[0;34m.\u001b[0m\u001b[0mloc\u001b[0m\u001b[0;34m[\u001b[0m\u001b[0;34m(\u001b[0m\u001b[0myear\u001b[0m\u001b[0;34m,\u001b[0m\u001b[0;34m'Parent'\u001b[0m\u001b[0;34m)\u001b[0m\u001b[0;34m,\u001b[0m\u001b[0;34m'D'\u001b[0m\u001b[0;34m]\u001b[0m\u001b[0;34m,\u001b[0m\u001b[0mDs\u001b[0m\u001b[0;34m.\u001b[0m\u001b[0mloc\u001b[0m\u001b[0;34m[\u001b[0m\u001b[0;34m(\u001b[0m\u001b[0myear\u001b[0m\u001b[0;34m,\u001b[0m\u001b[0;34m'Parent'\u001b[0m\u001b[0;34m)\u001b[0m\u001b[0;34m,\u001b[0m\u001b[0;34m'details_fixed_cont_x_minimize'\u001b[0m\u001b[0;34m]\u001b[0m\u001b[0;34m.\u001b[0m\u001b[0mperm\u001b[0m\u001b[0;34m,\u001b[0m\u001b[0;34m'Closest'\u001b[0m\u001b[0;34m)\u001b[0m\u001b[0;34m\u001b[0m\u001b[0;34m\u001b[0m\u001b[0m\n\u001b[0m\u001b[1;32m      2\u001b[0m \u001b[0mB\u001b[0m \u001b[0;34m=\u001b[0m \u001b[0mperm_to_series\u001b[0m\u001b[0;34m(\u001b[0m\u001b[0mDs\u001b[0m\u001b[0;34m.\u001b[0m\u001b[0mloc\u001b[0m\u001b[0;34m[\u001b[0m\u001b[0;34m(\u001b[0m\u001b[0myear\u001b[0m\u001b[0;34m,\u001b[0m\u001b[0;34m'Parent'\u001b[0m\u001b[0;34m)\u001b[0m\u001b[0;34m,\u001b[0m\u001b[0;34m'D'\u001b[0m\u001b[0;34m]\u001b[0m\u001b[0;34m,\u001b[0m\u001b[0mDs\u001b[0m\u001b[0;34m.\u001b[0m\u001b[0mloc\u001b[0m\u001b[0;34m[\u001b[0m\u001b[0;34m(\u001b[0m\u001b[0myear\u001b[0m\u001b[0;34m,\u001b[0m\u001b[0;34m'Parent'\u001b[0m\u001b[0;34m)\u001b[0m\u001b[0;34m,\u001b[0m\u001b[0;34m'details_fixed_cont_x_maximize'\u001b[0m\u001b[0;34m]\u001b[0m\u001b[0;34m.\u001b[0m\u001b[0mperm\u001b[0m\u001b[0;34m,\u001b[0m\u001b[0;34m'Farthest'\u001b[0m\u001b[0;34m)\u001b[0m\u001b[0;34m\u001b[0m\u001b[0;34m\u001b[0m\u001b[0m\n\u001b[1;32m      3\u001b[0m \u001b[0mpyrankability\u001b[0m\u001b[0;34m.\u001b[0m\u001b[0mplot\u001b[0m\u001b[0;34m.\u001b[0m\u001b[0mspider2\u001b[0m\u001b[0;34m(\u001b[0m\u001b[0mA\u001b[0m\u001b[0;34m,\u001b[0m\u001b[0mB\u001b[0m\u001b[0;34m,\u001b[0m\u001b[0mfile\u001b[0m\u001b[0;34m=\u001b[0m\u001b[0;34m\"results/parent_fixed_cont_x_minimize_maximize.png\"\u001b[0m\u001b[0;34m,\u001b[0m\u001b[0mxmult\u001b[0m \u001b[0;34m=\u001b[0m \u001b[0;36m1.7\u001b[0m\u001b[0;34m,\u001b[0m\u001b[0mymult\u001b[0m\u001b[0;34m=\u001b[0m\u001b[0;36m1.1\u001b[0m\u001b[0;34m)\u001b[0m\u001b[0;34m\u001b[0m\u001b[0;34m\u001b[0m\u001b[0m\n",
      "\u001b[0;31mAttributeError\u001b[0m: 'dict' object has no attribute 'perm'"
     ]
    }
   ],
   "source": [
    "A = perm_to_series(Ds.loc[(year,'Parent'),'D'],Ds.loc[(year,'Parent'),'details_fixed_cont_x_minimize'].perm,'Closest')\n",
    "B = perm_to_series(Ds.loc[(year,'Parent'),'D'],Ds.loc[(year,'Parent'),'details_fixed_cont_x_maximize'].perm,'Farthest')\n",
    "pyrankability.plot.spider2(A,B,file=\"results/parent_fixed_cont_x_minimize_maximize.png\",xmult = 1.7,ymult=1.1)"
   ]
  },
  {
   "cell_type": "markdown",
   "metadata": {
    "slideshow": {
     "slide_type": "subslide"
    }
   },
   "source": [
    "### Student"
   ]
  },
  {
   "cell_type": "code",
   "execution_count": 33,
   "metadata": {
    "slideshow": {
     "slide_type": "fragment"
    }
   },
   "outputs": [
    {
     "data": {
      "image/png": "[encoded data removed]",
      "text/plain": [
       "<Figure size 360x720 with 1 Axes>"
      ]
     },
     "metadata": {},
     "output_type": "display_data"
    }
   ],
   "source": [
    "A = perm_to_series(Ds.loc[(year,'Student'),'D'],Ds.loc[(year,'Student'),'details_fixed_cont_x_minimize'].perm,'Closest')\n",
    "B = perm_to_series(Ds.loc[(year,'Student'),'D'],Ds.loc[(year,'Student'),'details_fixed_cont_x_maximize'].perm,'Farthest')\n",
    "pyrankability.plot.spider2(A,B,file=\"results/student_fixed_cont_x_minimize_maximize.png\")"
   ]
  },
  {
   "cell_type": "markdown",
   "metadata": {
    "slideshow": {
     "slide_type": "subslide"
    }
   },
   "source": [
    "### Both"
   ]
  },
  {
   "cell_type": "code",
   "execution_count": 34,
   "metadata": {
    "slideshow": {
     "slide_type": "fragment"
    }
   },
   "outputs": [
    {
     "data": {
      "image/png": "[encoded data removed]",
      "text/plain": [
       "<Figure size 360x720 with 1 Axes>"
      ]
     },
     "metadata": {},
     "output_type": "display_data"
    }
   ],
   "source": [
    "A = perm_to_series(Ds.loc[(year,'Both'),'D'],Ds.loc[(year,'Both'),'details_fixed_cont_x_minimize'].perm,'Closest')\n",
    "B = perm_to_series(Ds.loc[(year,'Both'),'D'],Ds.loc[(year,'Both'),'details_fixed_cont_x_maximize'].perm,'Farthest')\n",
    "pyrankability.plot.spider2(A,B,file=\"results/both_fixed_cont_x_minimize_maximize.png\")"
   ]
  },
  {
   "cell_type": "code",
   "execution_count": 35,
   "metadata": {},
   "outputs": [
    {
     "data": {
      "text/plain": [
       "0            Swarthmore College\n",
       "1               Amherst College\n",
       "2            Middlebury College\n",
       "3              Williams College\n",
       "4                Pomona College\n",
       "5               Bowdoin College\n",
       "6     Claremont McKenna College\n",
       "7             Haverford College\n",
       "8              Davidson College\n",
       "9              Carleton College\n",
       "10            Wellesley College\n",
       "Name: Closest, dtype: object"
      ]
     },
     "execution_count": 35,
     "metadata": {},
     "output_type": "execute_result"
    }
   ],
   "source": [
    "A"
   ]
  },
  {
   "cell_type": "code",
   "execution_count": 36,
   "metadata": {},
   "outputs": [
    {
     "data": {
      "text/plain": [
       "['Swarthmore College',\n",
       " 'Amherst College',\n",
       " 'Middlebury College',\n",
       " 'Williams College',\n",
       " 'Pomona College',\n",
       " 'Bowdoin College',\n",
       " 'Claremont McKenna College',\n",
       " 'Haverford College',\n",
       " 'Davidson College',\n",
       " 'Carleton College',\n",
       " 'Wellesley College']"
      ]
     },
     "execution_count": 36,
     "metadata": {},
     "output_type": "execute_result"
    }
   ],
   "source": [
    "list(A)"
   ]
  },
  {
   "cell_type": "code",
   "execution_count": 37,
   "metadata": {},
   "outputs": [
    {
     "data": {
      "text/plain": [
       "0               Amherst College\n",
       "1            Swarthmore College\n",
       "2                Pomona College\n",
       "3              Williams College\n",
       "4            Middlebury College\n",
       "5               Bowdoin College\n",
       "6     Claremont McKenna College\n",
       "7             Haverford College\n",
       "8              Carleton College\n",
       "9              Davidson College\n",
       "10            Wellesley College\n",
       "Name: Farthest, dtype: object"
      ]
     },
     "execution_count": 37,
     "metadata": {},
     "output_type": "execute_result"
    }
   ],
   "source": [
    "B"
   ]
  },
  {
   "cell_type": "code",
   "execution_count": 38,
   "metadata": {},
   "outputs": [
    {
     "data": {
      "text/plain": [
       "['Amherst College',\n",
       " 'Swarthmore College',\n",
       " 'Pomona College',\n",
       " 'Williams College',\n",
       " 'Middlebury College',\n",
       " 'Bowdoin College',\n",
       " 'Claremont McKenna College',\n",
       " 'Haverford College',\n",
       " 'Carleton College',\n",
       " 'Davidson College',\n",
       " 'Wellesley College']"
      ]
     },
     "execution_count": 38,
     "metadata": {},
     "output_type": "execute_result"
    }
   ],
   "source": [
    "list(B)"
   ]
  },
  {
   "cell_type": "markdown",
   "metadata": {
    "slideshow": {
     "slide_type": "subslide"
    }
   },
   "source": [
    "### Now let's consider the centroid to a ranking of interest (Final rank)"
   ]
  },
  {
   "cell_type": "code",
   "execution_count": 39,
   "metadata": {
    "slideshow": {
     "slide_type": "skip"
    }
   },
   "outputs": [
    {
     "data": {
      "text/plain": [
       "School Name\n",
       "Amherst College               0\n",
       "Bowdoin College               8\n",
       "Carleton College             10\n",
       "Claremont McKenna College     9\n",
       "Davidson College              1\n",
       "Haverford College             2\n",
       "Middlebury College            5\n",
       "Pomona College                7\n",
       "Swarthmore College            6\n",
       "Wellesley College             4\n",
       "Williams College              3\n",
       "Name: Final Rank, dtype: int64"
      ]
     },
     "execution_count": 39,
     "metadata": {},
     "output_type": "execute_result"
    }
   ],
   "source": [
    "data2[year]['Final Rank'].argsort()"
   ]
  },
  {
   "cell_type": "code",
   "execution_count": 40,
   "metadata": {
    "slideshow": {
     "slide_type": "skip"
    }
   },
   "outputs": [
    {
     "data": {
      "text/plain": [
       "School Name\n",
       "Amherst College               1\n",
       "Bowdoin College               5\n",
       "Carleton College              5\n",
       "Claremont McKenna College    17\n",
       "Davidson College             10\n",
       "Haverford College             5\n",
       "Middlebury College            9\n",
       "Pomona College                5\n",
       "Swarthmore College            1\n",
       "Wellesley College             4\n",
       "Williams College              3\n",
       "Name: Final Rank, dtype: int64"
      ]
     },
     "execution_count": 40,
     "metadata": {},
     "output_type": "execute_result"
    }
   ],
   "source": [
    "data2[year]['Final Rank']"
   ]
  },
  {
   "cell_type": "code",
   "execution_count": 41,
   "metadata": {
    "slideshow": {
     "slide_type": "skip"
    }
   },
   "outputs": [
    {
     "data": {
      "text/plain": [
       "School Name\n",
       "Amherst College               1\n",
       "Swarthmore College            1\n",
       "Williams College              3\n",
       "Wellesley College             4\n",
       "Bowdoin College               5\n",
       "Carleton College              5\n",
       "Haverford College             5\n",
       "Pomona College                5\n",
       "Middlebury College            9\n",
       "Davidson College             10\n",
       "Claremont McKenna College    17\n",
       "Name: Final Rank, dtype: int64"
      ]
     },
     "execution_count": 41,
     "metadata": {},
     "output_type": "execute_result"
    }
   ],
   "source": [
    "data2[year]['Final Rank'].iloc[data2[year]['Final Rank'].argsort()]"
   ]
  },
  {
   "cell_type": "code",
   "execution_count": 42,
   "metadata": {
    "slideshow": {
     "slide_type": "subslide"
    }
   },
   "outputs": [],
   "source": [
    "perm_final_rank = data2[year]['Final Rank'].argsort()\n",
    "x_final_rank = pyrankability.common.perm_to_x(perm_final_rank)"
   ]
  },
  {
   "cell_type": "code",
   "execution_count": 43,
   "metadata": {
    "slideshow": {
     "slide_type": "subslide"
    }
   },
   "outputs": [],
   "source": [
    "index = (year,'Student')\n",
    "D = Ds.loc[index,'D']\n",
    "delta_bin, details_bin = pyrankability.rank.solve(D,method='lop',cont=False)\n",
    "_, details_fixed_binary_x_maximize = pyrankability.search.solve_fixed_binary_x(D,details_bin['obj'],x_final_rank,method='lop',minimize=False)\n",
    "_, details_fixed_binary_x_minimize = pyrankability.search.solve_fixed_binary_x(D,details_bin['obj'],x_final_rank,method='lop',minimize=True)    "
   ]
  },
  {
   "cell_type": "markdown",
   "metadata": {
    "slideshow": {
     "slide_type": "subslide"
    }
   },
   "source": [
    "### Maximize (farthest)"
   ]
  },
  {
   "cell_type": "code",
   "execution_count": 44,
   "metadata": {
    "slideshow": {
     "slide_type": "fragment"
    }
   },
   "outputs": [
    {
     "data": {
      "image/png": "[encoded data removed]",
      "text/plain": [
       "<Figure size 360x720 with 1 Axes>"
      ]
     },
     "metadata": {},
     "output_type": "display_data"
    }
   ],
   "source": [
    "A = perm_to_series(D,perm_final_rank,'Final Rank')\n",
    "B = perm_to_series(D,details_fixed_binary_x_maximize['perm'],'Farthest')\n",
    "pyrankability.plot.spider2(A,B,file=\"results/student_details_fixed_binary_x_maximize.png\")"
   ]
  },
  {
   "cell_type": "markdown",
   "metadata": {
    "slideshow": {
     "slide_type": "subslide"
    }
   },
   "source": [
    "### Minimize (closest)"
   ]
  },
  {
   "cell_type": "code",
   "execution_count": 45,
   "metadata": {
    "slideshow": {
     "slide_type": "fragment"
    }
   },
   "outputs": [
    {
     "data": {
      "image/png": "[encoded data removed]",
      "text/plain": [
       "<Figure size 360x720 with 1 Axes>"
      ]
     },
     "metadata": {},
     "output_type": "display_data"
    }
   ],
   "source": [
    "A = perm_to_series(D,perm_final_rank,'Final Rank')\n",
    "B = perm_to_series(D,details_fixed_binary_x_minimize['perm'],'Closest')\n",
    "pyrankability.plot.spider2(A,B,file=\"results/student_details_fixed_binary_x_minimize.png\")"
   ]
  },
  {
   "cell_type": "markdown",
   "metadata": {},
   "source": [
    "### Farthest pair"
   ]
  },
  {
   "cell_type": "code",
   "execution_count": 46,
   "metadata": {},
   "outputs": [
    {
     "data": {
      "image/png": "[encoded data removed]",
      "text/plain": [
       "<Figure size 360x720 with 1 Axes>"
      ]
     },
     "metadata": {},
     "output_type": "display_data"
    }
   ],
   "source": [
    "index = (year,'Parent')\n",
    "D = Ds.loc[index,'D']\n",
    "obj, farthest_pair_details = pyrankability.search.solve_pair(D,method='lop',minimize=False)#,min_ndis=None,max_ndis=None,tau_range=None,lazy=False,verbose=True)\n",
    "\n",
    "A = perm_to_series(D,farthest_pair_details['perm_x'],'perm_x')\n",
    "B = perm_to_series(D,farthest_pair_details['perm_y'],'perm_y')\n",
    "pyrankability.plot.spider2(A,B,file=f'results/farthest_pair_{index}.png')"
   ]
  },
  {
   "cell_type": "code",
   "execution_count": 47,
   "metadata": {},
   "outputs": [
    {
     "data": {
      "image/png": "[encoded data removed]",
      "text/plain": [
       "<Figure size 360x720 with 1 Axes>"
      ]
     },
     "metadata": {},
     "output_type": "display_data"
    }
   ],
   "source": [
    "index = (year,'Student')\n",
    "D = Ds.loc[index,'D']\n",
    "obj, farthest_pair_details = pyrankability.search.solve_pair(D,method='lop',minimize=False)#,min_ndis=None,max_ndis=None,tau_range=None,lazy=False,verbose=True)\n",
    "\n",
    "A = perm_to_series(D,farthest_pair_details['perm_x'],'perm_x')\n",
    "B = perm_to_series(D,farthest_pair_details['perm_y'],'perm_y')\n",
    "pyrankability.plot.spider2(A,B,file=f'results/farthest_pair_{index}.png')"
   ]
  },
  {
   "cell_type": "code",
   "execution_count": 48,
   "metadata": {},
   "outputs": [
    {
     "data": {
      "image/png": "[encoded data removed]",
      "text/plain": [
       "<Figure size 360x720 with 1 Axes>"
      ]
     },
     "metadata": {},
     "output_type": "display_data"
    }
   ],
   "source": [
    "index = (year,'Both')\n",
    "D = Ds.loc[index,'D']\n",
    "obj, farthest_pair_details = pyrankability.search.solve_pair(D,method='lop',minimize=False)#,min_ndis=None,max_ndis=None,tau_range=None,lazy=False,verbose=True)\n",
    "\n",
    "A = perm_to_series(D,farthest_pair_details['perm_x'],'perm_x')\n",
    "B = perm_to_series(D,farthest_pair_details['perm_y'],'perm_y')\n",
    "pyrankability.plot.spider2(A,B,file=f'results/farthest_pair_{index}.png')"
   ]
  },
  {
   "cell_type": "markdown",
   "metadata": {},
   "source": [
    "### Nearest pair"
   ]
  },
  {
   "cell_type": "code",
   "execution_count": 49,
   "metadata": {},
   "outputs": [],
   "source": [
    "index = (year,'Both')\n",
    "D = Ds.loc[index,'D']\n",
    "obj, nearest_pair_details = pyrankability.search.solve_pair(D,method='lop',minimize=True,min_ndis=1)"
   ]
  },
  {
   "cell_type": "code",
   "execution_count": 50,
   "metadata": {},
   "outputs": [
    {
     "data": {
      "image/png": "[encoded data removed]",
      "text/plain": [
       "<Figure size 360x720 with 1 Axes>"
      ]
     },
     "metadata": {},
     "output_type": "display_data"
    }
   ],
   "source": [
    "A = perm_to_series(D,nearest_pair_details['perm_x'],'perm_x')\n",
    "B = perm_to_series(D,nearest_pair_details['perm_y'],'perm_y')\n",
    "pyrankability.plot.spider2(A,B,file=f'results/nearest_pair_{index}.png')"
   ]
  },
  {
   "cell_type": "markdown",
   "metadata": {},
   "source": [
    "## Two datasets farthest"
   ]
  },
  {
   "cell_type": "code",
   "execution_count": 51,
   "metadata": {},
   "outputs": [
    {
     "data": {
      "text/plain": [
       "14.0"
      ]
     },
     "execution_count": 51,
     "metadata": {},
     "output_type": "execute_result"
    }
   ],
   "source": [
    "index = (year,'Student')\n",
    "D = Ds.loc[index,'D']\n",
    "index2 = (year,'Parent')\n",
    "D2 = Ds.loc[index2,'D']\n",
    "obj, farthest_pair_details_D_D2 = pyrankability.search.solve_pair(D,D2=D2,method='lop',minimize=False)\n",
    "obj"
   ]
  },
  {
   "cell_type": "code",
   "execution_count": 52,
   "metadata": {},
   "outputs": [
    {
     "data": {
      "image/png": "[encoded data removed]",
      "text/plain": [
       "<Figure size 360x720 with 1 Axes>"
      ]
     },
     "metadata": {},
     "output_type": "display_data"
    }
   ],
   "source": [
    "A = perm_to_series(D,farthest_pair_details_D_D2['perm_x'],'perm_x')\n",
    "B = perm_to_series(D,farthest_pair_details_D_D2['perm_y'],'perm_y')\n",
    "pyrankability.plot.spider2(A,B,file=f'results/farthest_pair_{index}_{index2}.png')"
   ]
  },
  {
   "cell_type": "markdown",
   "metadata": {},
   "source": [
    "### Student and parent nearest"
   ]
  },
  {
   "cell_type": "code",
   "execution_count": 53,
   "metadata": {},
   "outputs": [],
   "source": [
    "index = (year,'Student')\n",
    "D = Ds.loc[index,'D']\n",
    "index2 = (year,'Parent')\n",
    "D2 = Ds.loc[index2,'D']\n",
    "obj, nearest_pair_details_D_D2 = pyrankability.search.solve_pair(D,D2=D2,method='lop',minimize=True)"
   ]
  },
  {
   "cell_type": "code",
   "execution_count": 54,
   "metadata": {},
   "outputs": [
    {
     "data": {
      "image/png": "[encoded data removed]",
      "text/plain": [
       "<Figure size 360x720 with 1 Axes>"
      ]
     },
     "metadata": {},
     "output_type": "display_data"
    }
   ],
   "source": [
    "A = perm_to_series(D,nearest_pair_details_D_D2['perm_x'],'perm_x')\n",
    "B = perm_to_series(D,nearest_pair_details_D_D2['perm_y'],'perm_y')\n",
    "pyrankability.plot.spider2(A,B,file=f'results/nearest_pair_{index}_{index2}.png')"
   ]
  },
  {
   "cell_type": "code",
   "execution_count": 55,
   "metadata": {},
   "outputs": [],
   "source": [
    "import joblib\n",
    "joblib.dump(Ds,\"results/Ds.joblib.z\");"
   ]
  },
  {
   "cell_type": "code",
   "execution_count": 56,
   "metadata": {},
   "outputs": [
    {
     "data": {
      "text/html": [
       "<div>\n",
       "<style scoped>\n",
       "    .dataframe tbody tr th:only-of-type {\n",
       "        vertical-align: middle;\n",
       "    }\n",
       "\n",
       "    .dataframe tbody tr th {\n",
       "        vertical-align: top;\n",
       "    }\n",
       "\n",
       "    .dataframe thead th {\n",
       "        text-align: right;\n",
       "    }\n",
       "</style>\n",
       "<table border=\"1\" class=\"dataframe\">\n",
       "  <thead>\n",
       "    <tr style=\"text-align: right;\">\n",
       "      <th></th>\n",
       "      <th>Amherst College</th>\n",
       "      <th>Bowdoin College</th>\n",
       "      <th>Carleton College</th>\n",
       "      <th>Claremont McKenna College</th>\n",
       "      <th>Davidson College</th>\n",
       "      <th>Haverford College</th>\n",
       "      <th>Middlebury College</th>\n",
       "      <th>Pomona College</th>\n",
       "      <th>Swarthmore College</th>\n",
       "      <th>Wellesley College</th>\n",
       "      <th>Williams College</th>\n",
       "    </tr>\n",
       "    <tr>\n",
       "      <th>School Name1</th>\n",
       "      <th></th>\n",
       "      <th></th>\n",
       "      <th></th>\n",
       "      <th></th>\n",
       "      <th></th>\n",
       "      <th></th>\n",
       "      <th></th>\n",
       "      <th></th>\n",
       "      <th></th>\n",
       "      <th></th>\n",
       "      <th></th>\n",
       "    </tr>\n",
       "  </thead>\n",
       "  <tbody>\n",
       "    <tr>\n",
       "      <th>Amherst College</th>\n",
       "      <td>0.0</td>\n",
       "      <td>5.0</td>\n",
       "      <td>4.0</td>\n",
       "      <td>6.0</td>\n",
       "      <td>5.0</td>\n",
       "      <td>5.0</td>\n",
       "      <td>3.0</td>\n",
       "      <td>4.0</td>\n",
       "      <td>3.0</td>\n",
       "      <td>6.0</td>\n",
       "      <td>4.0</td>\n",
       "    </tr>\n",
       "    <tr>\n",
       "      <th>Bowdoin College</th>\n",
       "      <td>1.0</td>\n",
       "      <td>0.0</td>\n",
       "      <td>4.0</td>\n",
       "      <td>4.0</td>\n",
       "      <td>5.0</td>\n",
       "      <td>3.0</td>\n",
       "      <td>2.0</td>\n",
       "      <td>3.0</td>\n",
       "      <td>1.0</td>\n",
       "      <td>5.0</td>\n",
       "      <td>1.0</td>\n",
       "    </tr>\n",
       "    <tr>\n",
       "      <th>Carleton College</th>\n",
       "      <td>2.0</td>\n",
       "      <td>2.0</td>\n",
       "      <td>0.0</td>\n",
       "      <td>3.0</td>\n",
       "      <td>3.0</td>\n",
       "      <td>2.0</td>\n",
       "      <td>2.0</td>\n",
       "      <td>2.0</td>\n",
       "      <td>1.0</td>\n",
       "      <td>3.0</td>\n",
       "      <td>2.0</td>\n",
       "    </tr>\n",
       "    <tr>\n",
       "      <th>Claremont McKenna College</th>\n",
       "      <td>0.0</td>\n",
       "      <td>2.0</td>\n",
       "      <td>3.0</td>\n",
       "      <td>0.0</td>\n",
       "      <td>4.0</td>\n",
       "      <td>4.0</td>\n",
       "      <td>1.0</td>\n",
       "      <td>3.0</td>\n",
       "      <td>0.0</td>\n",
       "      <td>4.0</td>\n",
       "      <td>1.0</td>\n",
       "    </tr>\n",
       "    <tr>\n",
       "      <th>Davidson College</th>\n",
       "      <td>1.0</td>\n",
       "      <td>1.0</td>\n",
       "      <td>3.0</td>\n",
       "      <td>2.0</td>\n",
       "      <td>0.0</td>\n",
       "      <td>1.0</td>\n",
       "      <td>2.0</td>\n",
       "      <td>2.0</td>\n",
       "      <td>1.0</td>\n",
       "      <td>4.0</td>\n",
       "      <td>1.0</td>\n",
       "    </tr>\n",
       "    <tr>\n",
       "      <th>Haverford College</th>\n",
       "      <td>1.0</td>\n",
       "      <td>3.0</td>\n",
       "      <td>4.0</td>\n",
       "      <td>2.0</td>\n",
       "      <td>5.0</td>\n",
       "      <td>0.0</td>\n",
       "      <td>3.0</td>\n",
       "      <td>2.0</td>\n",
       "      <td>2.0</td>\n",
       "      <td>6.0</td>\n",
       "      <td>2.0</td>\n",
       "    </tr>\n",
       "    <tr>\n",
       "      <th>Middlebury College</th>\n",
       "      <td>3.0</td>\n",
       "      <td>4.0</td>\n",
       "      <td>4.0</td>\n",
       "      <td>5.0</td>\n",
       "      <td>4.0</td>\n",
       "      <td>3.0</td>\n",
       "      <td>0.0</td>\n",
       "      <td>3.0</td>\n",
       "      <td>2.0</td>\n",
       "      <td>5.0</td>\n",
       "      <td>3.0</td>\n",
       "    </tr>\n",
       "    <tr>\n",
       "      <th>Pomona College</th>\n",
       "      <td>2.0</td>\n",
       "      <td>3.0</td>\n",
       "      <td>4.0</td>\n",
       "      <td>3.0</td>\n",
       "      <td>4.0</td>\n",
       "      <td>4.0</td>\n",
       "      <td>3.0</td>\n",
       "      <td>0.0</td>\n",
       "      <td>2.0</td>\n",
       "      <td>5.0</td>\n",
       "      <td>3.0</td>\n",
       "    </tr>\n",
       "    <tr>\n",
       "      <th>Swarthmore College</th>\n",
       "      <td>3.0</td>\n",
       "      <td>5.0</td>\n",
       "      <td>5.0</td>\n",
       "      <td>6.0</td>\n",
       "      <td>5.0</td>\n",
       "      <td>4.0</td>\n",
       "      <td>4.0</td>\n",
       "      <td>4.0</td>\n",
       "      <td>0.0</td>\n",
       "      <td>6.0</td>\n",
       "      <td>4.0</td>\n",
       "    </tr>\n",
       "    <tr>\n",
       "      <th>Wellesley College</th>\n",
       "      <td>0.0</td>\n",
       "      <td>1.0</td>\n",
       "      <td>3.0</td>\n",
       "      <td>2.0</td>\n",
       "      <td>2.0</td>\n",
       "      <td>0.0</td>\n",
       "      <td>1.0</td>\n",
       "      <td>1.0</td>\n",
       "      <td>0.0</td>\n",
       "      <td>0.0</td>\n",
       "      <td>2.0</td>\n",
       "    </tr>\n",
       "    <tr>\n",
       "      <th>Williams College</th>\n",
       "      <td>2.0</td>\n",
       "      <td>5.0</td>\n",
       "      <td>4.0</td>\n",
       "      <td>5.0</td>\n",
       "      <td>5.0</td>\n",
       "      <td>4.0</td>\n",
       "      <td>3.0</td>\n",
       "      <td>3.0</td>\n",
       "      <td>2.0</td>\n",
       "      <td>4.0</td>\n",
       "      <td>0.0</td>\n",
       "    </tr>\n",
       "  </tbody>\n",
       "</table>\n",
       "</div>"
      ],
      "text/plain": [
       "                           Amherst College  Bowdoin College  Carleton College  \\\n",
       "School Name1                                                                    \n",
       "Amherst College                        0.0              5.0               4.0   \n",
       "Bowdoin College                        1.0              0.0               4.0   \n",
       "Carleton College                       2.0              2.0               0.0   \n",
       "Claremont McKenna College              0.0              2.0               3.0   \n",
       "Davidson College                       1.0              1.0               3.0   \n",
       "Haverford College                      1.0              3.0               4.0   \n",
       "Middlebury College                     3.0              4.0               4.0   \n",
       "Pomona College                         2.0              3.0               4.0   \n",
       "Swarthmore College                     3.0              5.0               5.0   \n",
       "Wellesley College                      0.0              1.0               3.0   \n",
       "Williams College                       2.0              5.0               4.0   \n",
       "\n",
       "                           Claremont McKenna College  Davidson College  \\\n",
       "School Name1                                                             \n",
       "Amherst College                                  6.0               5.0   \n",
       "Bowdoin College                                  4.0               5.0   \n",
       "Carleton College                                 3.0               3.0   \n",
       "Claremont McKenna College                        0.0               4.0   \n",
       "Davidson College                                 2.0               0.0   \n",
       "Haverford College                                2.0               5.0   \n",
       "Middlebury College                               5.0               4.0   \n",
       "Pomona College                                   3.0               4.0   \n",
       "Swarthmore College                               6.0               5.0   \n",
       "Wellesley College                                2.0               2.0   \n",
       "Williams College                                 5.0               5.0   \n",
       "\n",
       "                           Haverford College  Middlebury College  \\\n",
       "School Name1                                                       \n",
       "Amherst College                          5.0                 3.0   \n",
       "Bowdoin College                          3.0                 2.0   \n",
       "Carleton College                         2.0                 2.0   \n",
       "Claremont McKenna College                4.0                 1.0   \n",
       "Davidson College                         1.0                 2.0   \n",
       "Haverford College                        0.0                 3.0   \n",
       "Middlebury College                       3.0                 0.0   \n",
       "Pomona College                           4.0                 3.0   \n",
       "Swarthmore College                       4.0                 4.0   \n",
       "Wellesley College                        0.0                 1.0   \n",
       "Williams College                         4.0                 3.0   \n",
       "\n",
       "                           Pomona College  Swarthmore College  \\\n",
       "School Name1                                                    \n",
       "Amherst College                       4.0                 3.0   \n",
       "Bowdoin College                       3.0                 1.0   \n",
       "Carleton College                      2.0                 1.0   \n",
       "Claremont McKenna College             3.0                 0.0   \n",
       "Davidson College                      2.0                 1.0   \n",
       "Haverford College                     2.0                 2.0   \n",
       "Middlebury College                    3.0                 2.0   \n",
       "Pomona College                        0.0                 2.0   \n",
       "Swarthmore College                    4.0                 0.0   \n",
       "Wellesley College                     1.0                 0.0   \n",
       "Williams College                      3.0                 2.0   \n",
       "\n",
       "                           Wellesley College  Williams College  \n",
       "School Name1                                                    \n",
       "Amherst College                          6.0               4.0  \n",
       "Bowdoin College                          5.0               1.0  \n",
       "Carleton College                         3.0               2.0  \n",
       "Claremont McKenna College                4.0               1.0  \n",
       "Davidson College                         4.0               1.0  \n",
       "Haverford College                        6.0               2.0  \n",
       "Middlebury College                       5.0               3.0  \n",
       "Pomona College                           5.0               3.0  \n",
       "Swarthmore College                       6.0               4.0  \n",
       "Wellesley College                        0.0               2.0  \n",
       "Williams College                         4.0               0.0  "
      ]
     },
     "execution_count": 56,
     "metadata": {},
     "output_type": "execute_result"
    }
   ],
   "source": [
    "D = Ds.loc[(2002,'Both'),'D']\n",
    "D"
   ]
  },
  {
   "cell_type": "code",
   "execution_count": 59,
   "metadata": {},
   "outputs": [
    {
     "name": "stdout",
     "output_type": "stream",
     "text": [
      "Model file: /tmp/tmpmjk7m79y/model.mps\n",
      "Solutions file: /tmp/tmpmjk7m79y/model.mps.solutions\n",
      "SCIP version 7.0.0 [precision: 8 byte] [memory: block] [mode: optimized] [LP solver: SoPlex 5.0.0] [GitHash: 0bc4dc9c65]\n",
      "Copyright (C) 2002-2020 Konrad-Zuse-Zentrum fuer Informationstechnik Berlin (ZIB)\n",
      "\n",
      "External codes: \n",
      "  SoPlex 5.0.0         Linear Programming Solver developed at Zuse Institute Berlin (soplex.zib.de) [GitHash: 6535a3c8]\n",
      "  CppAD 20180000.0     Algorithmic Differentiation of C++ algorithms developed by B. Bell (www.coin-or.org/CppAD)\n",
      "  ZLIB 1.2.11          General purpose compression library by J. Gailly and M. Adler (zlib.net)\n",
      "  GMP 6.2.0            GNU Multiple Precision Arithmetic Library developed by T. Granlund (gmplib.org)\n",
      "  ZIMPL 3.3.9          Zuse Institute Mathematical Programming Language developed by T. Koch (zimpl.zib.de)\n",
      "  PaPILO 1.0.0         parallel presolve for integer and linear optimization (https://github.com/lgottwald/PaPILO) [GitHash: 471d13d]\n",
      "  bliss 0.73p          Computing Graph Automorphism Groups by T. Junttila and P. Kaski (http://www.tcs.hut.fi/Software/bliss/)\n",
      "  Ipopt 3.12.13        Interior Point Optimizer developed by A. Waechter et.al. (www.coin-or.org/Ipopt)\n",
      "\n",
      "user parameter file <scip.set> not found - using default parameters\n",
      "\n",
      "SCIP> \n",
      "read problem </tmp/tmpmjk7m79y/model.mps>\n",
      "============\n",
      "\n",
      "original problem has 55 variables (55 bin, 0 int, 0 impl, 0 cont) and 332 constraints\n",
      "SCIP> presolving/maxrounds = 0\n",
      "SCIP> constraints/countsols/sollimit = 500000\n",
      "SCIP> constraints/countsols/collect = TRUE\n",
      "SCIP> \n",
      "WARNING: counting forces parameter <presolving/maxrestarts> to 0.\n",
      "WARNING: Symmetry handling has been deactivated since it is not compatible with counting.\n",
      "WARNING: => counting forces parameter <misc/usesymmetry> to 0.\n",
      "presolving:\n",
      "presolving (0 rounds: 0 fast, 0 medium, 0 exhaustive):\n",
      " 0 deleted vars, 0 deleted constraints, 0 added constraints, 0 tightened bounds, 0 added holes, 0 changed sides, 0 changed coefficients\n",
      " 0 implications, 0 cliques\n",
      "presolved problem has 55 variables (55 bin, 0 int, 0 impl, 0 cont) and 332 constraints\n",
      "    332 constraints of type <linear>\n",
      "transformed objective value is always integral (scale: 2)\n",
      "Presolving Time: 0.00\n",
      "\n",
      "WARNING: a solution comes in over <SCIP_DECL_CONSCHECK(consCheckCountsols)>; currently these solutions are ignored.\n",
      " time | node  | left  |LP iter|LP it/n|mem/heur|mdpt |frac |vars |cons |cols |rows |cuts |confs|strbr|  dualbound   | compl. | sols  |feasST\n",
      "  0.0s|     1 |     0 |     1 |     - |  1312k |   0 |   0 |  55 |  11 |  55 |  11 |   0 |   0 |   0 |-8.900000e+01 | unknown|     0 |    0 \n",
      "  0.0s|     1 |     2 |     1 |     - |  1312k |   0 |   0 |  55 |  11 |  55 |  11 |   0 |   0 |   0 |-8.900000e+01 | unknown|     0 |    0 \n",
      "\n",
      "SCIP Status        : problem is solved [infeasible]\n",
      "Solving Time (sec) : 0.10\n",
      "Solving Nodes      : 49\n",
      "Primal Bound       : +1.00000000000000e+20 (0 solutions)\n",
      "Dual Bound         : +1.00000000000000e+20\n",
      "Gap                : 0.00 %\n",
      "Feasible Solutions : 72 (21 non-trivial feasible subtrees)\n",
      "\n",
      "SCIP> saving 72 (25) feasible solutions\n",
      "written solutions information to file </tmp/tmpmjk7m79y/model.mps.solutions>\n",
      "SCIP> "
     ]
    },
    {
     "name": "stderr",
     "output_type": "stream",
     "text": [
      "/opt/tljh/user/lib/python3.7/site-packages/ipykernel_launcher.py:10: ParserWarning: Falling back to the 'python' engine because the 'c' engine does not support regex separators (separators > 1 char and different from '\\s+' are interpreted as regex); you can avoid this warning by specifying engine='python'.\n",
      "  # Remove the CWD from sys.path while we load stuff.\n"
     ]
    }
   ],
   "source": [
    "_,details_lop_with_models = pyrankability.rank.solve(D,method='lop',include_model=True)\n",
    "model = details_lop_with_models['model']\n",
    "model_file = pyrankability.common.write_model(model)\n",
    "solution_file = model_file + \".solutions\"\n",
    "!sed -i '/^OBJSENS/d' $model_file\n",
    "!$home/ranking_toolbox/collect.sh \"$model_file\" \"$solution_file\"\n",
    "\n",
    "opt_k = details_lop_with_models['obj']\n",
    "\n",
    "solutions = pd.read_csv(solution_file,sep=', ')\n",
    "x_columns = solutions.columns[1:-1]\n",
    "xs = []\n",
    "a,b,c = 1,1,-2*len(x_columns)\n",
    "n = int((-b + np.sqrt(b**2 - 4*a*c))/(2*a) + 1)\n",
    "xstar = np.zeros((n,n))\n",
    "objs = []\n",
    "s = 0\n",
    "for k in range(solutions.shape[0]):\n",
    "    x = np.zeros((n,n))\n",
    "    for c in x_columns:\n",
    "        ij_str = c.replace(\"x(\",\"\").replace(\")\",\"\")\n",
    "        i,j = ij_str.split(\",\")\n",
    "        i,j = int(i),int(j)\n",
    "        x[i,j] = solutions.loc[k,c]\n",
    "        x[j,i] = 1 - x[i,j]\n",
    "    obj = np.sum(np.sum(D*x))\n",
    "    xs.append(x)\n",
    "    objs.append(obj)\n",
    "    error = obj - opt_k\n",
    "    xstar += x\n",
    "xstar = xstar/solutions.shape[0]\n",
    "\n",
    "perms = []\n",
    "for x in xs:\n",
    "    r = np.sum(x,axis=0)\n",
    "    perm = np.argsort(r)\n",
    "    perms.append(perm)"
   ]
  },
  {
   "cell_type": "code",
   "execution_count": 60,
   "metadata": {},
   "outputs": [],
   "source": [
    "from scipy import stats\n",
    "taus = {} #np.zeros((len(perms),len(perms)))\n",
    "for i in range(len(perms)):\n",
    "    key = tuple(perms[i])\n",
    "    taus[key] = []\n",
    "    for j in range(len(perms)):\n",
    "        tau,pvalue = stats.kendalltau(np.argsort(perms[i]), np.argsort(perms[j]))\n",
    "        taus[key].append(tau)"
   ]
  },
  {
   "cell_type": "code",
   "execution_count": 61,
   "metadata": {},
   "outputs": [],
   "source": [
    "taus_df = pd.DataFrame(columns=range(len(perms)))\n",
    "for i in range(len(perms)):\n",
    "    key = tuple(perms[i])\n",
    "    taus_df = taus_df.append(pd.Series(taus[key],name=key))"
   ]
  },
  {
   "cell_type": "code",
   "execution_count": 62,
   "metadata": {},
   "outputs": [
    {
     "data": {
      "text/html": [
       "<div>\n",
       "<style scoped>\n",
       "    .dataframe tbody tr th:only-of-type {\n",
       "        vertical-align: middle;\n",
       "    }\n",
       "\n",
       "    .dataframe tbody tr th {\n",
       "        vertical-align: top;\n",
       "    }\n",
       "\n",
       "    .dataframe thead th {\n",
       "        text-align: right;\n",
       "    }\n",
       "</style>\n",
       "<table border=\"1\" class=\"dataframe\">\n",
       "  <thead>\n",
       "    <tr style=\"text-align: right;\">\n",
       "      <th></th>\n",
       "      <th>0</th>\n",
       "      <th>1</th>\n",
       "      <th>2</th>\n",
       "      <th>3</th>\n",
       "      <th>4</th>\n",
       "      <th>5</th>\n",
       "      <th>6</th>\n",
       "      <th>7</th>\n",
       "      <th>8</th>\n",
       "      <th>9</th>\n",
       "      <th>...</th>\n",
       "      <th>62</th>\n",
       "      <th>63</th>\n",
       "      <th>64</th>\n",
       "      <th>65</th>\n",
       "      <th>66</th>\n",
       "      <th>67</th>\n",
       "      <th>68</th>\n",
       "      <th>69</th>\n",
       "      <th>70</th>\n",
       "      <th>71</th>\n",
       "    </tr>\n",
       "  </thead>\n",
       "  <tbody>\n",
       "    <tr>\n",
       "      <th>(8, 0, 10, 7, 6, 1, 3, 5, 4, 9, 2)</th>\n",
       "      <td>1.000000</td>\n",
       "      <td>0.963636</td>\n",
       "      <td>0.963636</td>\n",
       "      <td>0.927273</td>\n",
       "      <td>0.963636</td>\n",
       "      <td>0.927273</td>\n",
       "      <td>0.927273</td>\n",
       "      <td>0.890909</td>\n",
       "      <td>0.927273</td>\n",
       "      <td>0.890909</td>\n",
       "      <td>...</td>\n",
       "      <td>0.818182</td>\n",
       "      <td>0.890909</td>\n",
       "      <td>0.854545</td>\n",
       "      <td>0.854545</td>\n",
       "      <td>0.818182</td>\n",
       "      <td>0.818182</td>\n",
       "      <td>0.781818</td>\n",
       "      <td>0.854545</td>\n",
       "      <td>0.890909</td>\n",
       "      <td>0.854545</td>\n",
       "    </tr>\n",
       "    <tr>\n",
       "      <th>(0, 8, 10, 7, 6, 1, 3, 5, 4, 9, 2)</th>\n",
       "      <td>0.963636</td>\n",
       "      <td>1.000000</td>\n",
       "      <td>0.927273</td>\n",
       "      <td>0.963636</td>\n",
       "      <td>0.927273</td>\n",
       "      <td>0.963636</td>\n",
       "      <td>0.890909</td>\n",
       "      <td>0.927273</td>\n",
       "      <td>0.890909</td>\n",
       "      <td>0.927273</td>\n",
       "      <td>...</td>\n",
       "      <td>0.854545</td>\n",
       "      <td>0.927273</td>\n",
       "      <td>0.890909</td>\n",
       "      <td>0.890909</td>\n",
       "      <td>0.854545</td>\n",
       "      <td>0.854545</td>\n",
       "      <td>0.818182</td>\n",
       "      <td>0.818182</td>\n",
       "      <td>0.854545</td>\n",
       "      <td>0.890909</td>\n",
       "    </tr>\n",
       "    <tr>\n",
       "      <th>(8, 0, 7, 10, 6, 1, 3, 5, 4, 9, 2)</th>\n",
       "      <td>0.963636</td>\n",
       "      <td>0.927273</td>\n",
       "      <td>1.000000</td>\n",
       "      <td>0.963636</td>\n",
       "      <td>0.927273</td>\n",
       "      <td>0.890909</td>\n",
       "      <td>0.890909</td>\n",
       "      <td>0.854545</td>\n",
       "      <td>0.963636</td>\n",
       "      <td>0.927273</td>\n",
       "      <td>...</td>\n",
       "      <td>0.781818</td>\n",
       "      <td>0.854545</td>\n",
       "      <td>0.818182</td>\n",
       "      <td>0.818182</td>\n",
       "      <td>0.781818</td>\n",
       "      <td>0.854545</td>\n",
       "      <td>0.818182</td>\n",
       "      <td>0.890909</td>\n",
       "      <td>0.927273</td>\n",
       "      <td>0.890909</td>\n",
       "    </tr>\n",
       "    <tr>\n",
       "      <th>(0, 8, 7, 10, 6, 1, 3, 5, 4, 9, 2)</th>\n",
       "      <td>0.927273</td>\n",
       "      <td>0.963636</td>\n",
       "      <td>0.963636</td>\n",
       "      <td>1.000000</td>\n",
       "      <td>0.890909</td>\n",
       "      <td>0.927273</td>\n",
       "      <td>0.854545</td>\n",
       "      <td>0.890909</td>\n",
       "      <td>0.927273</td>\n",
       "      <td>0.963636</td>\n",
       "      <td>...</td>\n",
       "      <td>0.818182</td>\n",
       "      <td>0.890909</td>\n",
       "      <td>0.854545</td>\n",
       "      <td>0.854545</td>\n",
       "      <td>0.818182</td>\n",
       "      <td>0.890909</td>\n",
       "      <td>0.854545</td>\n",
       "      <td>0.854545</td>\n",
       "      <td>0.890909</td>\n",
       "      <td>0.927273</td>\n",
       "    </tr>\n",
       "    <tr>\n",
       "      <th>(8, 0, 10, 7, 6, 1, 3, 5, 4, 2, 9)</th>\n",
       "      <td>0.963636</td>\n",
       "      <td>0.927273</td>\n",
       "      <td>0.927273</td>\n",
       "      <td>0.890909</td>\n",
       "      <td>1.000000</td>\n",
       "      <td>0.963636</td>\n",
       "      <td>0.963636</td>\n",
       "      <td>0.927273</td>\n",
       "      <td>0.963636</td>\n",
       "      <td>0.927273</td>\n",
       "      <td>...</td>\n",
       "      <td>0.781818</td>\n",
       "      <td>0.927273</td>\n",
       "      <td>0.890909</td>\n",
       "      <td>0.890909</td>\n",
       "      <td>0.854545</td>\n",
       "      <td>0.854545</td>\n",
       "      <td>0.818182</td>\n",
       "      <td>0.818182</td>\n",
       "      <td>0.854545</td>\n",
       "      <td>0.818182</td>\n",
       "    </tr>\n",
       "    <tr>\n",
       "      <th>...</th>\n",
       "      <td>...</td>\n",
       "      <td>...</td>\n",
       "      <td>...</td>\n",
       "      <td>...</td>\n",
       "      <td>...</td>\n",
       "      <td>...</td>\n",
       "      <td>...</td>\n",
       "      <td>...</td>\n",
       "      <td>...</td>\n",
       "      <td>...</td>\n",
       "      <td>...</td>\n",
       "      <td>...</td>\n",
       "      <td>...</td>\n",
       "      <td>...</td>\n",
       "      <td>...</td>\n",
       "      <td>...</td>\n",
       "      <td>...</td>\n",
       "      <td>...</td>\n",
       "      <td>...</td>\n",
       "      <td>...</td>\n",
       "      <td>...</td>\n",
       "    </tr>\n",
       "    <tr>\n",
       "      <th>(0, 8, 6, 7, 10, 1, 3, 5, 4, 2, 9)</th>\n",
       "      <td>0.818182</td>\n",
       "      <td>0.854545</td>\n",
       "      <td>0.854545</td>\n",
       "      <td>0.890909</td>\n",
       "      <td>0.854545</td>\n",
       "      <td>0.890909</td>\n",
       "      <td>0.818182</td>\n",
       "      <td>0.854545</td>\n",
       "      <td>0.890909</td>\n",
       "      <td>0.927273</td>\n",
       "      <td>...</td>\n",
       "      <td>0.854545</td>\n",
       "      <td>0.927273</td>\n",
       "      <td>0.890909</td>\n",
       "      <td>0.963636</td>\n",
       "      <td>0.927273</td>\n",
       "      <td>1.000000</td>\n",
       "      <td>0.963636</td>\n",
       "      <td>0.890909</td>\n",
       "      <td>0.927273</td>\n",
       "      <td>0.963636</td>\n",
       "    </tr>\n",
       "    <tr>\n",
       "      <th>(0, 8, 6, 7, 10, 1, 3, 5, 2, 4, 9)</th>\n",
       "      <td>0.781818</td>\n",
       "      <td>0.818182</td>\n",
       "      <td>0.818182</td>\n",
       "      <td>0.854545</td>\n",
       "      <td>0.818182</td>\n",
       "      <td>0.854545</td>\n",
       "      <td>0.854545</td>\n",
       "      <td>0.890909</td>\n",
       "      <td>0.854545</td>\n",
       "      <td>0.890909</td>\n",
       "      <td>...</td>\n",
       "      <td>0.818182</td>\n",
       "      <td>0.890909</td>\n",
       "      <td>0.927273</td>\n",
       "      <td>0.927273</td>\n",
       "      <td>0.963636</td>\n",
       "      <td>0.963636</td>\n",
       "      <td>1.000000</td>\n",
       "      <td>0.854545</td>\n",
       "      <td>0.890909</td>\n",
       "      <td>0.927273</td>\n",
       "    </tr>\n",
       "    <tr>\n",
       "      <th>(8, 6, 0, 7, 10, 1, 3, 5, 4, 9, 2)</th>\n",
       "      <td>0.854545</td>\n",
       "      <td>0.818182</td>\n",
       "      <td>0.890909</td>\n",
       "      <td>0.854545</td>\n",
       "      <td>0.818182</td>\n",
       "      <td>0.781818</td>\n",
       "      <td>0.781818</td>\n",
       "      <td>0.745455</td>\n",
       "      <td>0.854545</td>\n",
       "      <td>0.818182</td>\n",
       "      <td>...</td>\n",
       "      <td>0.818182</td>\n",
       "      <td>0.818182</td>\n",
       "      <td>0.781818</td>\n",
       "      <td>0.854545</td>\n",
       "      <td>0.818182</td>\n",
       "      <td>0.890909</td>\n",
       "      <td>0.854545</td>\n",
       "      <td>1.000000</td>\n",
       "      <td>0.963636</td>\n",
       "      <td>0.927273</td>\n",
       "    </tr>\n",
       "    <tr>\n",
       "      <th>(8, 0, 6, 7, 10, 1, 3, 5, 4, 9, 2)</th>\n",
       "      <td>0.890909</td>\n",
       "      <td>0.854545</td>\n",
       "      <td>0.927273</td>\n",
       "      <td>0.890909</td>\n",
       "      <td>0.854545</td>\n",
       "      <td>0.818182</td>\n",
       "      <td>0.818182</td>\n",
       "      <td>0.781818</td>\n",
       "      <td>0.890909</td>\n",
       "      <td>0.854545</td>\n",
       "      <td>...</td>\n",
       "      <td>0.854545</td>\n",
       "      <td>0.854545</td>\n",
       "      <td>0.818182</td>\n",
       "      <td>0.890909</td>\n",
       "      <td>0.854545</td>\n",
       "      <td>0.927273</td>\n",
       "      <td>0.890909</td>\n",
       "      <td>0.963636</td>\n",
       "      <td>1.000000</td>\n",
       "      <td>0.963636</td>\n",
       "    </tr>\n",
       "    <tr>\n",
       "      <th>(0, 8, 6, 7, 10, 1, 3, 5, 4, 9, 2)</th>\n",
       "      <td>0.854545</td>\n",
       "      <td>0.890909</td>\n",
       "      <td>0.890909</td>\n",
       "      <td>0.927273</td>\n",
       "      <td>0.818182</td>\n",
       "      <td>0.854545</td>\n",
       "      <td>0.781818</td>\n",
       "      <td>0.818182</td>\n",
       "      <td>0.854545</td>\n",
       "      <td>0.890909</td>\n",
       "      <td>...</td>\n",
       "      <td>0.890909</td>\n",
       "      <td>0.890909</td>\n",
       "      <td>0.854545</td>\n",
       "      <td>0.927273</td>\n",
       "      <td>0.890909</td>\n",
       "      <td>0.963636</td>\n",
       "      <td>0.927273</td>\n",
       "      <td>0.927273</td>\n",
       "      <td>0.963636</td>\n",
       "      <td>1.000000</td>\n",
       "    </tr>\n",
       "  </tbody>\n",
       "</table>\n",
       "<p>72 rows × 72 columns</p>\n",
       "</div>"
      ],
      "text/plain": [
       "                                          0         1         2         3   \\\n",
       "(8, 0, 10, 7, 6, 1, 3, 5, 4, 9, 2)  1.000000  0.963636  0.963636  0.927273   \n",
       "(0, 8, 10, 7, 6, 1, 3, 5, 4, 9, 2)  0.963636  1.000000  0.927273  0.963636   \n",
       "(8, 0, 7, 10, 6, 1, 3, 5, 4, 9, 2)  0.963636  0.927273  1.000000  0.963636   \n",
       "(0, 8, 7, 10, 6, 1, 3, 5, 4, 9, 2)  0.927273  0.963636  0.963636  1.000000   \n",
       "(8, 0, 10, 7, 6, 1, 3, 5, 4, 2, 9)  0.963636  0.927273  0.927273  0.890909   \n",
       "...                                      ...       ...       ...       ...   \n",
       "(0, 8, 6, 7, 10, 1, 3, 5, 4, 2, 9)  0.818182  0.854545  0.854545  0.890909   \n",
       "(0, 8, 6, 7, 10, 1, 3, 5, 2, 4, 9)  0.781818  0.818182  0.818182  0.854545   \n",
       "(8, 6, 0, 7, 10, 1, 3, 5, 4, 9, 2)  0.854545  0.818182  0.890909  0.854545   \n",
       "(8, 0, 6, 7, 10, 1, 3, 5, 4, 9, 2)  0.890909  0.854545  0.927273  0.890909   \n",
       "(0, 8, 6, 7, 10, 1, 3, 5, 4, 9, 2)  0.854545  0.890909  0.890909  0.927273   \n",
       "\n",
       "                                          4         5         6         7   \\\n",
       "(8, 0, 10, 7, 6, 1, 3, 5, 4, 9, 2)  0.963636  0.927273  0.927273  0.890909   \n",
       "(0, 8, 10, 7, 6, 1, 3, 5, 4, 9, 2)  0.927273  0.963636  0.890909  0.927273   \n",
       "(8, 0, 7, 10, 6, 1, 3, 5, 4, 9, 2)  0.927273  0.890909  0.890909  0.854545   \n",
       "(0, 8, 7, 10, 6, 1, 3, 5, 4, 9, 2)  0.890909  0.927273  0.854545  0.890909   \n",
       "(8, 0, 10, 7, 6, 1, 3, 5, 4, 2, 9)  1.000000  0.963636  0.963636  0.927273   \n",
       "...                                      ...       ...       ...       ...   \n",
       "(0, 8, 6, 7, 10, 1, 3, 5, 4, 2, 9)  0.854545  0.890909  0.818182  0.854545   \n",
       "(0, 8, 6, 7, 10, 1, 3, 5, 2, 4, 9)  0.818182  0.854545  0.854545  0.890909   \n",
       "(8, 6, 0, 7, 10, 1, 3, 5, 4, 9, 2)  0.818182  0.781818  0.781818  0.745455   \n",
       "(8, 0, 6, 7, 10, 1, 3, 5, 4, 9, 2)  0.854545  0.818182  0.818182  0.781818   \n",
       "(0, 8, 6, 7, 10, 1, 3, 5, 4, 9, 2)  0.818182  0.854545  0.781818  0.818182   \n",
       "\n",
       "                                          8         9   ...        62  \\\n",
       "(8, 0, 10, 7, 6, 1, 3, 5, 4, 9, 2)  0.927273  0.890909  ...  0.818182   \n",
       "(0, 8, 10, 7, 6, 1, 3, 5, 4, 9, 2)  0.890909  0.927273  ...  0.854545   \n",
       "(8, 0, 7, 10, 6, 1, 3, 5, 4, 9, 2)  0.963636  0.927273  ...  0.781818   \n",
       "(0, 8, 7, 10, 6, 1, 3, 5, 4, 9, 2)  0.927273  0.963636  ...  0.818182   \n",
       "(8, 0, 10, 7, 6, 1, 3, 5, 4, 2, 9)  0.963636  0.927273  ...  0.781818   \n",
       "...                                      ...       ...  ...       ...   \n",
       "(0, 8, 6, 7, 10, 1, 3, 5, 4, 2, 9)  0.890909  0.927273  ...  0.854545   \n",
       "(0, 8, 6, 7, 10, 1, 3, 5, 2, 4, 9)  0.854545  0.890909  ...  0.818182   \n",
       "(8, 6, 0, 7, 10, 1, 3, 5, 4, 9, 2)  0.854545  0.818182  ...  0.818182   \n",
       "(8, 0, 6, 7, 10, 1, 3, 5, 4, 9, 2)  0.890909  0.854545  ...  0.854545   \n",
       "(0, 8, 6, 7, 10, 1, 3, 5, 4, 9, 2)  0.854545  0.890909  ...  0.890909   \n",
       "\n",
       "                                          63        64        65        66  \\\n",
       "(8, 0, 10, 7, 6, 1, 3, 5, 4, 9, 2)  0.890909  0.854545  0.854545  0.818182   \n",
       "(0, 8, 10, 7, 6, 1, 3, 5, 4, 9, 2)  0.927273  0.890909  0.890909  0.854545   \n",
       "(8, 0, 7, 10, 6, 1, 3, 5, 4, 9, 2)  0.854545  0.818182  0.818182  0.781818   \n",
       "(0, 8, 7, 10, 6, 1, 3, 5, 4, 9, 2)  0.890909  0.854545  0.854545  0.818182   \n",
       "(8, 0, 10, 7, 6, 1, 3, 5, 4, 2, 9)  0.927273  0.890909  0.890909  0.854545   \n",
       "...                                      ...       ...       ...       ...   \n",
       "(0, 8, 6, 7, 10, 1, 3, 5, 4, 2, 9)  0.927273  0.890909  0.963636  0.927273   \n",
       "(0, 8, 6, 7, 10, 1, 3, 5, 2, 4, 9)  0.890909  0.927273  0.927273  0.963636   \n",
       "(8, 6, 0, 7, 10, 1, 3, 5, 4, 9, 2)  0.818182  0.781818  0.854545  0.818182   \n",
       "(8, 0, 6, 7, 10, 1, 3, 5, 4, 9, 2)  0.854545  0.818182  0.890909  0.854545   \n",
       "(0, 8, 6, 7, 10, 1, 3, 5, 4, 9, 2)  0.890909  0.854545  0.927273  0.890909   \n",
       "\n",
       "                                          67        68        69        70  \\\n",
       "(8, 0, 10, 7, 6, 1, 3, 5, 4, 9, 2)  0.818182  0.781818  0.854545  0.890909   \n",
       "(0, 8, 10, 7, 6, 1, 3, 5, 4, 9, 2)  0.854545  0.818182  0.818182  0.854545   \n",
       "(8, 0, 7, 10, 6, 1, 3, 5, 4, 9, 2)  0.854545  0.818182  0.890909  0.927273   \n",
       "(0, 8, 7, 10, 6, 1, 3, 5, 4, 9, 2)  0.890909  0.854545  0.854545  0.890909   \n",
       "(8, 0, 10, 7, 6, 1, 3, 5, 4, 2, 9)  0.854545  0.818182  0.818182  0.854545   \n",
       "...                                      ...       ...       ...       ...   \n",
       "(0, 8, 6, 7, 10, 1, 3, 5, 4, 2, 9)  1.000000  0.963636  0.890909  0.927273   \n",
       "(0, 8, 6, 7, 10, 1, 3, 5, 2, 4, 9)  0.963636  1.000000  0.854545  0.890909   \n",
       "(8, 6, 0, 7, 10, 1, 3, 5, 4, 9, 2)  0.890909  0.854545  1.000000  0.963636   \n",
       "(8, 0, 6, 7, 10, 1, 3, 5, 4, 9, 2)  0.927273  0.890909  0.963636  1.000000   \n",
       "(0, 8, 6, 7, 10, 1, 3, 5, 4, 9, 2)  0.963636  0.927273  0.927273  0.963636   \n",
       "\n",
       "                                          71  \n",
       "(8, 0, 10, 7, 6, 1, 3, 5, 4, 9, 2)  0.854545  \n",
       "(0, 8, 10, 7, 6, 1, 3, 5, 4, 9, 2)  0.890909  \n",
       "(8, 0, 7, 10, 6, 1, 3, 5, 4, 9, 2)  0.890909  \n",
       "(0, 8, 7, 10, 6, 1, 3, 5, 4, 9, 2)  0.927273  \n",
       "(8, 0, 10, 7, 6, 1, 3, 5, 4, 2, 9)  0.818182  \n",
       "...                                      ...  \n",
       "(0, 8, 6, 7, 10, 1, 3, 5, 4, 2, 9)  0.963636  \n",
       "(0, 8, 6, 7, 10, 1, 3, 5, 2, 4, 9)  0.927273  \n",
       "(8, 6, 0, 7, 10, 1, 3, 5, 4, 9, 2)  0.927273  \n",
       "(8, 0, 6, 7, 10, 1, 3, 5, 4, 9, 2)  0.963636  \n",
       "(0, 8, 6, 7, 10, 1, 3, 5, 4, 9, 2)  1.000000  \n",
       "\n",
       "[72 rows x 72 columns]"
      ]
     },
     "execution_count": 62,
     "metadata": {},
     "output_type": "execute_result"
    }
   ],
   "source": [
    "taus_df"
   ]
  },
  {
   "cell_type": "code",
   "execution_count": 63,
   "metadata": {},
   "outputs": [],
   "source": [
    "taus_df.values[np.where(taus_df == 1)] = np.NaN"
   ]
  },
  {
   "cell_type": "code",
   "execution_count": 64,
   "metadata": {},
   "outputs": [],
   "source": [
    "closest = Ds.loc[(year,'Both'),'details_fixed_cont_x_minimize'].perm\n",
    "farthest = Ds.loc[(year,'Both'),'details_fixed_cont_x_maximize'].perm"
   ]
  },
  {
   "cell_type": "code",
   "execution_count": 65,
   "metadata": {},
   "outputs": [
    {
     "data": {
      "text/html": [
       "<div>\n",
       "<style scoped>\n",
       "    .dataframe tbody tr th:only-of-type {\n",
       "        vertical-align: middle;\n",
       "    }\n",
       "\n",
       "    .dataframe tbody tr th {\n",
       "        vertical-align: top;\n",
       "    }\n",
       "\n",
       "    .dataframe thead th {\n",
       "        text-align: right;\n",
       "    }\n",
       "</style>\n",
       "<table border=\"1\" class=\"dataframe\">\n",
       "  <thead>\n",
       "    <tr style=\"text-align: right;\">\n",
       "      <th></th>\n",
       "      <th>Solution</th>\n",
       "      <th>To</th>\n",
       "      <th>Tau</th>\n",
       "      <th>pct</th>\n",
       "    </tr>\n",
       "  </thead>\n",
       "  <tbody>\n",
       "    <tr>\n",
       "      <th>0</th>\n",
       "      <td>Closest</td>\n",
       "      <td>0</td>\n",
       "      <td>0.890909</td>\n",
       "      <td>0.006944</td>\n",
       "    </tr>\n",
       "    <tr>\n",
       "      <th>1</th>\n",
       "      <td>Farthest</td>\n",
       "      <td>0</td>\n",
       "      <td>0.854545</td>\n",
       "      <td>0.006944</td>\n",
       "    </tr>\n",
       "    <tr>\n",
       "      <th>2</th>\n",
       "      <td>Closest</td>\n",
       "      <td>1</td>\n",
       "      <td>0.854545</td>\n",
       "      <td>0.006944</td>\n",
       "    </tr>\n",
       "    <tr>\n",
       "      <th>3</th>\n",
       "      <td>Farthest</td>\n",
       "      <td>1</td>\n",
       "      <td>0.890909</td>\n",
       "      <td>0.006944</td>\n",
       "    </tr>\n",
       "    <tr>\n",
       "      <th>4</th>\n",
       "      <td>Closest</td>\n",
       "      <td>2</td>\n",
       "      <td>0.854545</td>\n",
       "      <td>0.006944</td>\n",
       "    </tr>\n",
       "    <tr>\n",
       "      <th>...</th>\n",
       "      <td>...</td>\n",
       "      <td>...</td>\n",
       "      <td>...</td>\n",
       "      <td>...</td>\n",
       "    </tr>\n",
       "    <tr>\n",
       "      <th>139</th>\n",
       "      <td>Farthest</td>\n",
       "      <td>69</td>\n",
       "      <td>0.781818</td>\n",
       "      <td>0.006944</td>\n",
       "    </tr>\n",
       "    <tr>\n",
       "      <th>140</th>\n",
       "      <td>Closest</td>\n",
       "      <td>70</td>\n",
       "      <td>0.927273</td>\n",
       "      <td>0.006944</td>\n",
       "    </tr>\n",
       "    <tr>\n",
       "      <th>141</th>\n",
       "      <td>Farthest</td>\n",
       "      <td>70</td>\n",
       "      <td>0.818182</td>\n",
       "      <td>0.006944</td>\n",
       "    </tr>\n",
       "    <tr>\n",
       "      <th>142</th>\n",
       "      <td>Closest</td>\n",
       "      <td>71</td>\n",
       "      <td>0.890909</td>\n",
       "      <td>0.006944</td>\n",
       "    </tr>\n",
       "    <tr>\n",
       "      <th>143</th>\n",
       "      <td>Farthest</td>\n",
       "      <td>71</td>\n",
       "      <td>0.854545</td>\n",
       "      <td>0.006944</td>\n",
       "    </tr>\n",
       "  </tbody>\n",
       "</table>\n",
       "<p>144 rows × 4 columns</p>\n",
       "</div>"
      ],
      "text/plain": [
       "     Solution  To       Tau       pct\n",
       "0     Closest   0  0.890909  0.006944\n",
       "1    Farthest   0  0.854545  0.006944\n",
       "2     Closest   1  0.854545  0.006944\n",
       "3    Farthest   1  0.890909  0.006944\n",
       "4     Closest   2  0.854545  0.006944\n",
       "..        ...  ..       ...       ...\n",
       "139  Farthest  69  0.781818  0.006944\n",
       "140   Closest  70  0.927273  0.006944\n",
       "141  Farthest  70  0.818182  0.006944\n",
       "142   Closest  71  0.890909  0.006944\n",
       "143  Farthest  71  0.854545  0.006944\n",
       "\n",
       "[144 rows x 4 columns]"
      ]
     },
     "execution_count": 65,
     "metadata": {},
     "output_type": "execute_result"
    }
   ],
   "source": [
    "source = taus_df.loc[[closest,farthest]]\n",
    "source.index=['Closest','Farthest']\n",
    "source = source.reset_index().melt(id_vars=['index'])\n",
    "source.columns = [\"Solution\",\"To\",\"Tau\"]\n",
    "source['pct'] = 1/len(source)\n",
    "source"
   ]
  },
  {
   "cell_type": "code",
   "execution_count": 66,
   "metadata": {},
   "outputs": [
    {
     "data": {
      "text/html": [
       "\n",
       "<div id=\"altair-viz-566ba11d028848879a082886c2561208\"></div>\n",
       "<script type=\"text/javascript\">\n",
       "  (function(spec, embedOpt){\n",
       "    let outputDiv = document.currentScript.previousElementSibling;\n",
       "    if (outputDiv.id !== \"altair-viz-566ba11d028848879a082886c2561208\") {\n",
       "      outputDiv = document.getElementById(\"altair-viz-566ba11d028848879a082886c2561208\");\n",
       "    }\n",
       "    const paths = {\n",
       "      \"vega\": \"https://cdn.jsdelivr.net/npm//vega@5?noext\",\n",
       "      \"vega-lib\": \"https://cdn.jsdelivr.net/npm//vega-lib?noext\",\n",
       "      \"vega-lite\": \"https://cdn.jsdelivr.net/npm//vega-lite@4.8.1?noext\",\n",
       "      \"vega-embed\": \"https://cdn.jsdelivr.net/npm//vega-embed@6?noext\",\n",
       "    };\n",
       "\n",
       "    function loadScript(lib) {\n",
       "      return new Promise(function(resolve, reject) {\n",
       "        var s = document.createElement('script');\n",
       "        s.src = paths[lib];\n",
       "        s.async = true;\n",
       "        s.onload = () => resolve(paths[lib]);\n",
       "        s.onerror = () => reject(`Error loading script: ${paths[lib]}`);\n",
       "        document.getElementsByTagName(\"head\")[0].appendChild(s);\n",
       "      });\n",
       "    }\n",
       "\n",
       "    function showError(err) {\n",
       "      outputDiv.innerHTML = `<div class=\"error\" style=\"color:red;\">${err}</div>`;\n",
       "      throw err;\n",
       "    }\n",
       "\n",
       "    function displayChart(vegaEmbed) {\n",
       "      vegaEmbed(outputDiv, spec, embedOpt)\n",
       "        .catch(err => showError(`Javascript Error: ${err.message}<br>This usually means there's a typo in your chart specification. See the javascript console for the full traceback.`));\n",
       "    }\n",
       "\n",
       "    if(typeof define === \"function\" && define.amd) {\n",
       "      requirejs.config({paths});\n",
       "      require([\"vega-embed\"], displayChart, err => showError(`Error loading script: ${err.message}`));\n",
       "    } else if (typeof vegaEmbed === \"function\") {\n",
       "      displayChart(vegaEmbed);\n",
       "    } else {\n",
       "      loadScript(\"vega\")\n",
       "        .then(() => loadScript(\"vega-lite\"))\n",
       "        .then(() => loadScript(\"vega-embed\"))\n",
       "        .catch(showError)\n",
       "        .then(() => displayChart(vegaEmbed));\n",
       "    }\n",
       "  })({\"config\": {\"view\": {\"continuousWidth\": 400, \"continuousHeight\": 300}}, \"data\": {\"name\": \"data-87a85589a8ed8d3c871bd6b1520677fd\"}, \"mark\": \"point\", \"encoding\": {\"x\": {\"type\": \"quantitative\", \"field\": \"Closest\"}, \"y\": {\"type\": \"quantitative\", \"field\": \"Farthest\"}}, \"$schema\": \"https://vega.github.io/schema/vega-lite/v4.8.1.json\", \"datasets\": {\"data-87a85589a8ed8d3c871bd6b1520677fd\": [{\"Closest\": 0.8909090909090909, \"Farthest\": 0.8545454545454545}, {\"Closest\": 0.8545454545454545, \"Farthest\": 0.8909090909090909}, {\"Closest\": 0.8545454545454545, \"Farthest\": 0.8909090909090909}, {\"Closest\": 0.8181818181818182, \"Farthest\": 0.9272727272727274}, {\"Closest\": 0.9272727272727274, \"Farthest\": 0.8909090909090909}, {\"Closest\": 0.8909090909090909, \"Farthest\": 0.9272727272727274}, {\"Closest\": 0.8909090909090909, \"Farthest\": 0.9272727272727274}, {\"Closest\": 0.8545454545454545, \"Farthest\": 0.9636363636363636}, {\"Closest\": 0.8909090909090909, \"Farthest\": 0.9272727272727274}, {\"Closest\": 0.8545454545454545, \"Farthest\": 0.9636363636363636}, {\"Closest\": 0.8545454545454545, \"Farthest\": 0.9636363636363636}, {\"Closest\": 0.8181818181818182, \"Farthest\": null}, {\"Closest\": 0.9272727272727274, \"Farthest\": 0.8181818181818182}, {\"Closest\": 0.8909090909090909, \"Farthest\": 0.8545454545454545}, {\"Closest\": 0.9272727272727274, \"Farthest\": 0.7454545454545454}, {\"Closest\": 0.9636363636363636, \"Farthest\": 0.7818181818181819}, {\"Closest\": 0.9272727272727274, \"Farthest\": 0.8181818181818182}, {\"Closest\": 0.8909090909090909, \"Farthest\": 0.8545454545454545}, {\"Closest\": 0.8545454545454545, \"Farthest\": 0.8909090909090909}, {\"Closest\": 0.9272727272727274, \"Farthest\": 0.8909090909090909}, {\"Closest\": 0.8909090909090909, \"Farthest\": 0.9272727272727274}, {\"Closest\": 0.8909090909090909, \"Farthest\": 0.9272727272727274}, {\"Closest\": 0.8545454545454545, \"Farthest\": 0.9636363636363636}, {\"Closest\": 0.8545454545454545, \"Farthest\": 0.7454545454545454}, {\"Closest\": 0.8545454545454545, \"Farthest\": 0.6727272727272727}, {\"Closest\": 0.8909090909090909, \"Farthest\": 0.7090909090909091}, {\"Closest\": 0.8909090909090909, \"Farthest\": 0.7818181818181819}, {\"Closest\": 0.8545454545454545, \"Farthest\": 0.8181818181818182}, {\"Closest\": 0.8909090909090909, \"Farthest\": 0.7090909090909091}, {\"Closest\": 0.9272727272727274, \"Farthest\": 0.7454545454545454}, {\"Closest\": 0.8909090909090909, \"Farthest\": 0.7818181818181819}, {\"Closest\": 0.8909090909090909, \"Farthest\": 0.7818181818181819}, {\"Closest\": 0.8545454545454545, \"Farthest\": 0.8181818181818182}, {\"Closest\": 0.8909090909090909, \"Farthest\": 0.7090909090909091}, {\"Closest\": 0.9272727272727274, \"Farthest\": 0.7454545454545454}, {\"Closest\": 0.8545454545454545, \"Farthest\": 0.7454545454545454}, {\"Closest\": 0.8909090909090909, \"Farthest\": 0.7818181818181819}, {\"Closest\": 0.9272727272727274, \"Farthest\": 0.8181818181818182}, {\"Closest\": 0.8909090909090909, \"Farthest\": 0.8545454545454545}, {\"Closest\": 0.8909090909090909, \"Farthest\": 0.8545454545454545}, {\"Closest\": 0.8545454545454545, \"Farthest\": 0.8909090909090909}, {\"Closest\": 0.9272727272727274, \"Farthest\": 0.7454545454545454}, {\"Closest\": 0.9636363636363636, \"Farthest\": 0.7818181818181819}, {\"Closest\": 0.8909090909090909, \"Farthest\": 0.7818181818181819}, {\"Closest\": 0.9272727272727274, \"Farthest\": 0.8181818181818182}, {\"Closest\": 0.9272727272727274, \"Farthest\": 0.8181818181818182}, {\"Closest\": 0.8909090909090909, \"Farthest\": 0.8545454545454545}, {\"Closest\": 0.8545454545454545, \"Farthest\": 0.8181818181818182}, {\"Closest\": 0.8181818181818182, \"Farthest\": 0.8545454545454545}, {\"Closest\": 0.8909090909090909, \"Farthest\": 0.7818181818181819}, {\"Closest\": 0.8545454545454545, \"Farthest\": 0.8181818181818182}, {\"Closest\": 0.9636363636363636, \"Farthest\": 0.8545454545454545}, {\"Closest\": 0.9272727272727274, \"Farthest\": 0.8909090909090909}, {\"Closest\": 0.9636363636363636, \"Farthest\": 0.7818181818181819}, {\"Closest\": null, \"Farthest\": 0.8181818181818182}, {\"Closest\": 0.9272727272727274, \"Farthest\": 0.8181818181818182}, {\"Closest\": 0.9636363636363636, \"Farthest\": 0.8545454545454545}, {\"Closest\": 0.9272727272727274, \"Farthest\": 0.8181818181818182}, {\"Closest\": 0.9636363636363636, \"Farthest\": 0.8545454545454545}, {\"Closest\": 0.8909090909090909, \"Farthest\": 0.8545454545454545}, {\"Closest\": 0.9272727272727274, \"Farthest\": 0.8909090909090909}, {\"Closest\": 0.8181818181818182, \"Farthest\": 0.7818181818181819}, {\"Closest\": 0.8545454545454545, \"Farthest\": 0.7454545454545454}, {\"Closest\": 0.9272727272727274, \"Farthest\": 0.8909090909090909}, {\"Closest\": 0.8909090909090909, \"Farthest\": 0.9272727272727274}, {\"Closest\": 0.9636363636363636, \"Farthest\": 0.8545454545454545}, {\"Closest\": 0.9272727272727274, \"Farthest\": 0.8909090909090909}, {\"Closest\": 0.9272727272727274, \"Farthest\": 0.8909090909090909}, {\"Closest\": 0.8909090909090909, \"Farthest\": 0.9272727272727274}, {\"Closest\": 0.8909090909090909, \"Farthest\": 0.7818181818181819}, {\"Closest\": 0.9272727272727274, \"Farthest\": 0.8181818181818182}, {\"Closest\": 0.8909090909090909, \"Farthest\": 0.8545454545454545}]}}, {\"mode\": \"vega-lite\"});\n",
       "</script>"
      ],
      "text/plain": [
       "alt.Chart(...)"
      ]
     },
     "execution_count": 66,
     "metadata": {},
     "output_type": "execute_result"
    }
   ],
   "source": [
    "import altair as alt \n",
    "source2 = taus_df.loc[[closest,farthest]]\n",
    "source2.index=['Closest','Farthest']\n",
    "source2.T\n",
    "\n",
    "g = alt.Chart(source2.T).mark_point().encode(\n",
    "        x=alt.X('Closest:Q'),\n",
    "        y=alt.Y('Farthest:Q')\n",
    "    )\n",
    "g"
   ]
  },
  {
   "cell_type": "code",
   "execution_count": 67,
   "metadata": {},
   "outputs": [
    {
     "data": {
      "text/html": [
       "\n",
       "<div id=\"altair-viz-48257fa393c14a12ad7d7b8d2ecec56c\"></div>\n",
       "<script type=\"text/javascript\">\n",
       "  (function(spec, embedOpt){\n",
       "    let outputDiv = document.currentScript.previousElementSibling;\n",
       "    if (outputDiv.id !== \"altair-viz-48257fa393c14a12ad7d7b8d2ecec56c\") {\n",
       "      outputDiv = document.getElementById(\"altair-viz-48257fa393c14a12ad7d7b8d2ecec56c\");\n",
       "    }\n",
       "    const paths = {\n",
       "      \"vega\": \"https://cdn.jsdelivr.net/npm//vega@5?noext\",\n",
       "      \"vega-lib\": \"https://cdn.jsdelivr.net/npm//vega-lib?noext\",\n",
       "      \"vega-lite\": \"https://cdn.jsdelivr.net/npm//vega-lite@4.8.1?noext\",\n",
       "      \"vega-embed\": \"https://cdn.jsdelivr.net/npm//vega-embed@6?noext\",\n",
       "    };\n",
       "\n",
       "    function loadScript(lib) {\n",
       "      return new Promise(function(resolve, reject) {\n",
       "        var s = document.createElement('script');\n",
       "        s.src = paths[lib];\n",
       "        s.async = true;\n",
       "        s.onload = () => resolve(paths[lib]);\n",
       "        s.onerror = () => reject(`Error loading script: ${paths[lib]}`);\n",
       "        document.getElementsByTagName(\"head\")[0].appendChild(s);\n",
       "      });\n",
       "    }\n",
       "\n",
       "    function showError(err) {\n",
       "      outputDiv.innerHTML = `<div class=\"error\" style=\"color:red;\">${err}</div>`;\n",
       "      throw err;\n",
       "    }\n",
       "\n",
       "    function displayChart(vegaEmbed) {\n",
       "      vegaEmbed(outputDiv, spec, embedOpt)\n",
       "        .catch(err => showError(`Javascript Error: ${err.message}<br>This usually means there's a typo in your chart specification. See the javascript console for the full traceback.`));\n",
       "    }\n",
       "\n",
       "    if(typeof define === \"function\" && define.amd) {\n",
       "      requirejs.config({paths});\n",
       "      require([\"vega-embed\"], displayChart, err => showError(`Error loading script: ${err.message}`));\n",
       "    } else if (typeof vegaEmbed === \"function\") {\n",
       "      displayChart(vegaEmbed);\n",
       "    } else {\n",
       "      loadScript(\"vega\")\n",
       "        .then(() => loadScript(\"vega-lite\"))\n",
       "        .then(() => loadScript(\"vega-embed\"))\n",
       "        .catch(showError)\n",
       "        .then(() => displayChart(vegaEmbed));\n",
       "    }\n",
       "  })({\"config\": {\"view\": {\"continuousWidth\": 400, \"continuousHeight\": 300}}, \"data\": {\"name\": \"data-f0c922e04fa4ae340faf6e5d1f2732b8\"}, \"mark\": {\"type\": \"area\", \"interpolate\": \"step\", \"opacity\": 0.6}, \"encoding\": {\"color\": {\"type\": \"nominal\", \"field\": \"Solution\"}, \"x\": {\"type\": \"quantitative\", \"bin\": {\"maxbins\": 100}, \"field\": \"Tau\"}, \"y\": {\"type\": \"quantitative\", \"aggregate\": \"sum\", \"axis\": {\"format\": \"%\"}, \"field\": \"pct\", \"stack\": null, \"title\": \"Percentage\"}}, \"$schema\": \"https://vega.github.io/schema/vega-lite/v4.8.1.json\", \"datasets\": {\"data-f0c922e04fa4ae340faf6e5d1f2732b8\": [{\"Solution\": \"Closest\", \"To\": 0, \"Tau\": 0.8909090909090909, \"pct\": 0.006944444444444444}, {\"Solution\": \"Farthest\", \"To\": 0, \"Tau\": 0.8545454545454545, \"pct\": 0.006944444444444444}, {\"Solution\": \"Closest\", \"To\": 1, \"Tau\": 0.8545454545454545, \"pct\": 0.006944444444444444}, {\"Solution\": \"Farthest\", \"To\": 1, \"Tau\": 0.8909090909090909, \"pct\": 0.006944444444444444}, {\"Solution\": \"Closest\", \"To\": 2, \"Tau\": 0.8545454545454545, \"pct\": 0.006944444444444444}, {\"Solution\": \"Farthest\", \"To\": 2, \"Tau\": 0.8909090909090909, \"pct\": 0.006944444444444444}, {\"Solution\": \"Closest\", \"To\": 3, \"Tau\": 0.8181818181818182, \"pct\": 0.006944444444444444}, {\"Solution\": \"Farthest\", \"To\": 3, \"Tau\": 0.9272727272727274, \"pct\": 0.006944444444444444}, {\"Solution\": \"Closest\", \"To\": 4, \"Tau\": 0.9272727272727274, \"pct\": 0.006944444444444444}, {\"Solution\": \"Farthest\", \"To\": 4, \"Tau\": 0.8909090909090909, \"pct\": 0.006944444444444444}, {\"Solution\": \"Closest\", \"To\": 5, \"Tau\": 0.8909090909090909, \"pct\": 0.006944444444444444}, {\"Solution\": \"Farthest\", \"To\": 5, \"Tau\": 0.9272727272727274, \"pct\": 0.006944444444444444}, {\"Solution\": \"Closest\", \"To\": 6, \"Tau\": 0.8909090909090909, \"pct\": 0.006944444444444444}, {\"Solution\": \"Farthest\", \"To\": 6, \"Tau\": 0.9272727272727274, \"pct\": 0.006944444444444444}, {\"Solution\": \"Closest\", \"To\": 7, \"Tau\": 0.8545454545454545, \"pct\": 0.006944444444444444}, {\"Solution\": \"Farthest\", \"To\": 7, \"Tau\": 0.9636363636363636, \"pct\": 0.006944444444444444}, {\"Solution\": \"Closest\", \"To\": 8, \"Tau\": 0.8909090909090909, \"pct\": 0.006944444444444444}, {\"Solution\": \"Farthest\", \"To\": 8, \"Tau\": 0.9272727272727274, \"pct\": 0.006944444444444444}, {\"Solution\": \"Closest\", \"To\": 9, \"Tau\": 0.8545454545454545, \"pct\": 0.006944444444444444}, {\"Solution\": \"Farthest\", \"To\": 9, \"Tau\": 0.9636363636363636, \"pct\": 0.006944444444444444}, {\"Solution\": \"Closest\", \"To\": 10, \"Tau\": 0.8545454545454545, \"pct\": 0.006944444444444444}, {\"Solution\": \"Farthest\", \"To\": 10, \"Tau\": 0.9636363636363636, \"pct\": 0.006944444444444444}, {\"Solution\": \"Closest\", \"To\": 11, \"Tau\": 0.8181818181818182, \"pct\": 0.006944444444444444}, {\"Solution\": \"Farthest\", \"To\": 11, \"Tau\": null, \"pct\": 0.006944444444444444}, {\"Solution\": \"Closest\", \"To\": 12, \"Tau\": 0.9272727272727274, \"pct\": 0.006944444444444444}, {\"Solution\": \"Farthest\", \"To\": 12, \"Tau\": 0.8181818181818182, \"pct\": 0.006944444444444444}, {\"Solution\": \"Closest\", \"To\": 13, \"Tau\": 0.8909090909090909, \"pct\": 0.006944444444444444}, {\"Solution\": \"Farthest\", \"To\": 13, \"Tau\": 0.8545454545454545, \"pct\": 0.006944444444444444}, {\"Solution\": \"Closest\", \"To\": 14, \"Tau\": 0.9272727272727274, \"pct\": 0.006944444444444444}, {\"Solution\": \"Farthest\", \"To\": 14, \"Tau\": 0.7454545454545454, \"pct\": 0.006944444444444444}, {\"Solution\": \"Closest\", \"To\": 15, \"Tau\": 0.9636363636363636, \"pct\": 0.006944444444444444}, {\"Solution\": \"Farthest\", \"To\": 15, \"Tau\": 0.7818181818181819, \"pct\": 0.006944444444444444}, {\"Solution\": \"Closest\", \"To\": 16, \"Tau\": 0.9272727272727274, \"pct\": 0.006944444444444444}, {\"Solution\": \"Farthest\", \"To\": 16, \"Tau\": 0.8181818181818182, \"pct\": 0.006944444444444444}, {\"Solution\": \"Closest\", \"To\": 17, \"Tau\": 0.8909090909090909, \"pct\": 0.006944444444444444}, {\"Solution\": \"Farthest\", \"To\": 17, \"Tau\": 0.8545454545454545, \"pct\": 0.006944444444444444}, {\"Solution\": \"Closest\", \"To\": 18, \"Tau\": 0.8545454545454545, \"pct\": 0.006944444444444444}, {\"Solution\": \"Farthest\", \"To\": 18, \"Tau\": 0.8909090909090909, \"pct\": 0.006944444444444444}, {\"Solution\": \"Closest\", \"To\": 19, \"Tau\": 0.9272727272727274, \"pct\": 0.006944444444444444}, {\"Solution\": \"Farthest\", \"To\": 19, \"Tau\": 0.8909090909090909, \"pct\": 0.006944444444444444}, {\"Solution\": \"Closest\", \"To\": 20, \"Tau\": 0.8909090909090909, \"pct\": 0.006944444444444444}, {\"Solution\": \"Farthest\", \"To\": 20, \"Tau\": 0.9272727272727274, \"pct\": 0.006944444444444444}, {\"Solution\": \"Closest\", \"To\": 21, \"Tau\": 0.8909090909090909, \"pct\": 0.006944444444444444}, {\"Solution\": \"Farthest\", \"To\": 21, \"Tau\": 0.9272727272727274, \"pct\": 0.006944444444444444}, {\"Solution\": \"Closest\", \"To\": 22, \"Tau\": 0.8545454545454545, \"pct\": 0.006944444444444444}, {\"Solution\": \"Farthest\", \"To\": 22, \"Tau\": 0.9636363636363636, \"pct\": 0.006944444444444444}, {\"Solution\": \"Closest\", \"To\": 23, \"Tau\": 0.8545454545454545, \"pct\": 0.006944444444444444}, {\"Solution\": \"Farthest\", \"To\": 23, \"Tau\": 0.7454545454545454, \"pct\": 0.006944444444444444}, {\"Solution\": \"Closest\", \"To\": 24, \"Tau\": 0.8545454545454545, \"pct\": 0.006944444444444444}, {\"Solution\": \"Farthest\", \"To\": 24, \"Tau\": 0.6727272727272727, \"pct\": 0.006944444444444444}, {\"Solution\": \"Closest\", \"To\": 25, \"Tau\": 0.8909090909090909, \"pct\": 0.006944444444444444}, {\"Solution\": \"Farthest\", \"To\": 25, \"Tau\": 0.7090909090909091, \"pct\": 0.006944444444444444}, {\"Solution\": \"Closest\", \"To\": 26, \"Tau\": 0.8909090909090909, \"pct\": 0.006944444444444444}, {\"Solution\": \"Farthest\", \"To\": 26, \"Tau\": 0.7818181818181819, \"pct\": 0.006944444444444444}, {\"Solution\": \"Closest\", \"To\": 27, \"Tau\": 0.8545454545454545, \"pct\": 0.006944444444444444}, {\"Solution\": \"Farthest\", \"To\": 27, \"Tau\": 0.8181818181818182, \"pct\": 0.006944444444444444}, {\"Solution\": \"Closest\", \"To\": 28, \"Tau\": 0.8909090909090909, \"pct\": 0.006944444444444444}, {\"Solution\": \"Farthest\", \"To\": 28, \"Tau\": 0.7090909090909091, \"pct\": 0.006944444444444444}, {\"Solution\": \"Closest\", \"To\": 29, \"Tau\": 0.9272727272727274, \"pct\": 0.006944444444444444}, {\"Solution\": \"Farthest\", \"To\": 29, \"Tau\": 0.7454545454545454, \"pct\": 0.006944444444444444}, {\"Solution\": \"Closest\", \"To\": 30, \"Tau\": 0.8909090909090909, \"pct\": 0.006944444444444444}, {\"Solution\": \"Farthest\", \"To\": 30, \"Tau\": 0.7818181818181819, \"pct\": 0.006944444444444444}, {\"Solution\": \"Closest\", \"To\": 31, \"Tau\": 0.8909090909090909, \"pct\": 0.006944444444444444}, {\"Solution\": \"Farthest\", \"To\": 31, \"Tau\": 0.7818181818181819, \"pct\": 0.006944444444444444}, {\"Solution\": \"Closest\", \"To\": 32, \"Tau\": 0.8545454545454545, \"pct\": 0.006944444444444444}, {\"Solution\": \"Farthest\", \"To\": 32, \"Tau\": 0.8181818181818182, \"pct\": 0.006944444444444444}, {\"Solution\": \"Closest\", \"To\": 33, \"Tau\": 0.8909090909090909, \"pct\": 0.006944444444444444}, {\"Solution\": \"Farthest\", \"To\": 33, \"Tau\": 0.7090909090909091, \"pct\": 0.006944444444444444}, {\"Solution\": \"Closest\", \"To\": 34, \"Tau\": 0.9272727272727274, \"pct\": 0.006944444444444444}, {\"Solution\": \"Farthest\", \"To\": 34, \"Tau\": 0.7454545454545454, \"pct\": 0.006944444444444444}, {\"Solution\": \"Closest\", \"To\": 35, \"Tau\": 0.8545454545454545, \"pct\": 0.006944444444444444}, {\"Solution\": \"Farthest\", \"To\": 35, \"Tau\": 0.7454545454545454, \"pct\": 0.006944444444444444}, {\"Solution\": \"Closest\", \"To\": 36, \"Tau\": 0.8909090909090909, \"pct\": 0.006944444444444444}, {\"Solution\": \"Farthest\", \"To\": 36, \"Tau\": 0.7818181818181819, \"pct\": 0.006944444444444444}, {\"Solution\": \"Closest\", \"To\": 37, \"Tau\": 0.9272727272727274, \"pct\": 0.006944444444444444}, {\"Solution\": \"Farthest\", \"To\": 37, \"Tau\": 0.8181818181818182, \"pct\": 0.006944444444444444}, {\"Solution\": \"Closest\", \"To\": 38, \"Tau\": 0.8909090909090909, \"pct\": 0.006944444444444444}, {\"Solution\": \"Farthest\", \"To\": 38, \"Tau\": 0.8545454545454545, \"pct\": 0.006944444444444444}, {\"Solution\": \"Closest\", \"To\": 39, \"Tau\": 0.8909090909090909, \"pct\": 0.006944444444444444}, {\"Solution\": \"Farthest\", \"To\": 39, \"Tau\": 0.8545454545454545, \"pct\": 0.006944444444444444}, {\"Solution\": \"Closest\", \"To\": 40, \"Tau\": 0.8545454545454545, \"pct\": 0.006944444444444444}, {\"Solution\": \"Farthest\", \"To\": 40, \"Tau\": 0.8909090909090909, \"pct\": 0.006944444444444444}, {\"Solution\": \"Closest\", \"To\": 41, \"Tau\": 0.9272727272727274, \"pct\": 0.006944444444444444}, {\"Solution\": \"Farthest\", \"To\": 41, \"Tau\": 0.7454545454545454, \"pct\": 0.006944444444444444}, {\"Solution\": \"Closest\", \"To\": 42, \"Tau\": 0.9636363636363636, \"pct\": 0.006944444444444444}, {\"Solution\": \"Farthest\", \"To\": 42, \"Tau\": 0.7818181818181819, \"pct\": 0.006944444444444444}, {\"Solution\": \"Closest\", \"To\": 43, \"Tau\": 0.8909090909090909, \"pct\": 0.006944444444444444}, {\"Solution\": \"Farthest\", \"To\": 43, \"Tau\": 0.7818181818181819, \"pct\": 0.006944444444444444}, {\"Solution\": \"Closest\", \"To\": 44, \"Tau\": 0.9272727272727274, \"pct\": 0.006944444444444444}, {\"Solution\": \"Farthest\", \"To\": 44, \"Tau\": 0.8181818181818182, \"pct\": 0.006944444444444444}, {\"Solution\": \"Closest\", \"To\": 45, \"Tau\": 0.9272727272727274, \"pct\": 0.006944444444444444}, {\"Solution\": \"Farthest\", \"To\": 45, \"Tau\": 0.8181818181818182, \"pct\": 0.006944444444444444}, {\"Solution\": \"Closest\", \"To\": 46, \"Tau\": 0.8909090909090909, \"pct\": 0.006944444444444444}, {\"Solution\": \"Farthest\", \"To\": 46, \"Tau\": 0.8545454545454545, \"pct\": 0.006944444444444444}, {\"Solution\": \"Closest\", \"To\": 47, \"Tau\": 0.8545454545454545, \"pct\": 0.006944444444444444}, {\"Solution\": \"Farthest\", \"To\": 47, \"Tau\": 0.8181818181818182, \"pct\": 0.006944444444444444}, {\"Solution\": \"Closest\", \"To\": 48, \"Tau\": 0.8181818181818182, \"pct\": 0.006944444444444444}, {\"Solution\": \"Farthest\", \"To\": 48, \"Tau\": 0.8545454545454545, \"pct\": 0.006944444444444444}, {\"Solution\": \"Closest\", \"To\": 49, \"Tau\": 0.8909090909090909, \"pct\": 0.006944444444444444}, {\"Solution\": \"Farthest\", \"To\": 49, \"Tau\": 0.7818181818181819, \"pct\": 0.006944444444444444}, {\"Solution\": \"Closest\", \"To\": 50, \"Tau\": 0.8545454545454545, \"pct\": 0.006944444444444444}, {\"Solution\": \"Farthest\", \"To\": 50, \"Tau\": 0.8181818181818182, \"pct\": 0.006944444444444444}, {\"Solution\": \"Closest\", \"To\": 51, \"Tau\": 0.9636363636363636, \"pct\": 0.006944444444444444}, {\"Solution\": \"Farthest\", \"To\": 51, \"Tau\": 0.8545454545454545, \"pct\": 0.006944444444444444}, {\"Solution\": \"Closest\", \"To\": 52, \"Tau\": 0.9272727272727274, \"pct\": 0.006944444444444444}, {\"Solution\": \"Farthest\", \"To\": 52, \"Tau\": 0.8909090909090909, \"pct\": 0.006944444444444444}, {\"Solution\": \"Closest\", \"To\": 53, \"Tau\": 0.9636363636363636, \"pct\": 0.006944444444444444}, {\"Solution\": \"Farthest\", \"To\": 53, \"Tau\": 0.7818181818181819, \"pct\": 0.006944444444444444}, {\"Solution\": \"Closest\", \"To\": 54, \"Tau\": null, \"pct\": 0.006944444444444444}, {\"Solution\": \"Farthest\", \"To\": 54, \"Tau\": 0.8181818181818182, \"pct\": 0.006944444444444444}, {\"Solution\": \"Closest\", \"To\": 55, \"Tau\": 0.9272727272727274, \"pct\": 0.006944444444444444}, {\"Solution\": \"Farthest\", \"To\": 55, \"Tau\": 0.8181818181818182, \"pct\": 0.006944444444444444}, {\"Solution\": \"Closest\", \"To\": 56, \"Tau\": 0.9636363636363636, \"pct\": 0.006944444444444444}, {\"Solution\": \"Farthest\", \"To\": 56, \"Tau\": 0.8545454545454545, \"pct\": 0.006944444444444444}, {\"Solution\": \"Closest\", \"To\": 57, \"Tau\": 0.9272727272727274, \"pct\": 0.006944444444444444}, {\"Solution\": \"Farthest\", \"To\": 57, \"Tau\": 0.8181818181818182, \"pct\": 0.006944444444444444}, {\"Solution\": \"Closest\", \"To\": 58, \"Tau\": 0.9636363636363636, \"pct\": 0.006944444444444444}, {\"Solution\": \"Farthest\", \"To\": 58, \"Tau\": 0.8545454545454545, \"pct\": 0.006944444444444444}, {\"Solution\": \"Closest\", \"To\": 59, \"Tau\": 0.8909090909090909, \"pct\": 0.006944444444444444}, {\"Solution\": \"Farthest\", \"To\": 59, \"Tau\": 0.8545454545454545, \"pct\": 0.006944444444444444}, {\"Solution\": \"Closest\", \"To\": 60, \"Tau\": 0.9272727272727274, \"pct\": 0.006944444444444444}, {\"Solution\": \"Farthest\", \"To\": 60, \"Tau\": 0.8909090909090909, \"pct\": 0.006944444444444444}, {\"Solution\": \"Closest\", \"To\": 61, \"Tau\": 0.8181818181818182, \"pct\": 0.006944444444444444}, {\"Solution\": \"Farthest\", \"To\": 61, \"Tau\": 0.7818181818181819, \"pct\": 0.006944444444444444}, {\"Solution\": \"Closest\", \"To\": 62, \"Tau\": 0.8545454545454545, \"pct\": 0.006944444444444444}, {\"Solution\": \"Farthest\", \"To\": 62, \"Tau\": 0.7454545454545454, \"pct\": 0.006944444444444444}, {\"Solution\": \"Closest\", \"To\": 63, \"Tau\": 0.9272727272727274, \"pct\": 0.006944444444444444}, {\"Solution\": \"Farthest\", \"To\": 63, \"Tau\": 0.8909090909090909, \"pct\": 0.006944444444444444}, {\"Solution\": \"Closest\", \"To\": 64, \"Tau\": 0.8909090909090909, \"pct\": 0.006944444444444444}, {\"Solution\": \"Farthest\", \"To\": 64, \"Tau\": 0.9272727272727274, \"pct\": 0.006944444444444444}, {\"Solution\": \"Closest\", \"To\": 65, \"Tau\": 0.9636363636363636, \"pct\": 0.006944444444444444}, {\"Solution\": \"Farthest\", \"To\": 65, \"Tau\": 0.8545454545454545, \"pct\": 0.006944444444444444}, {\"Solution\": \"Closest\", \"To\": 66, \"Tau\": 0.9272727272727274, \"pct\": 0.006944444444444444}, {\"Solution\": \"Farthest\", \"To\": 66, \"Tau\": 0.8909090909090909, \"pct\": 0.006944444444444444}, {\"Solution\": \"Closest\", \"To\": 67, \"Tau\": 0.9272727272727274, \"pct\": 0.006944444444444444}, {\"Solution\": \"Farthest\", \"To\": 67, \"Tau\": 0.8909090909090909, \"pct\": 0.006944444444444444}, {\"Solution\": \"Closest\", \"To\": 68, \"Tau\": 0.8909090909090909, \"pct\": 0.006944444444444444}, {\"Solution\": \"Farthest\", \"To\": 68, \"Tau\": 0.9272727272727274, \"pct\": 0.006944444444444444}, {\"Solution\": \"Closest\", \"To\": 69, \"Tau\": 0.8909090909090909, \"pct\": 0.006944444444444444}, {\"Solution\": \"Farthest\", \"To\": 69, \"Tau\": 0.7818181818181819, \"pct\": 0.006944444444444444}, {\"Solution\": \"Closest\", \"To\": 70, \"Tau\": 0.9272727272727274, \"pct\": 0.006944444444444444}, {\"Solution\": \"Farthest\", \"To\": 70, \"Tau\": 0.8181818181818182, \"pct\": 0.006944444444444444}, {\"Solution\": \"Closest\", \"To\": 71, \"Tau\": 0.8909090909090909, \"pct\": 0.006944444444444444}, {\"Solution\": \"Farthest\", \"To\": 71, \"Tau\": 0.8545454545454545, \"pct\": 0.006944444444444444}]}}, {\"mode\": \"vega-lite\"});\n",
       "</script>"
      ],
      "text/plain": [
       "alt.Chart(...)"
      ]
     },
     "execution_count": 67,
     "metadata": {},
     "output_type": "execute_result"
    }
   ],
   "source": [
    "import altair as alt\n",
    "g = alt.Chart(source).mark_area(\n",
    "        opacity=0.6,\n",
    "        interpolate='step'\n",
    "    ).encode(\n",
    "        x=alt.X('Tau:Q', bin=alt.Bin(maxbins=100)),\n",
    "        y=alt.Y('sum(pct):Q', axis=alt.Axis(format='%'),stack=None,title='Percentage'),\n",
    "        color=alt.Color('Solution:N')\n",
    "    )\n",
    "g"
   ]
  },
  {
   "cell_type": "code",
   "execution_count": 68,
   "metadata": {},
   "outputs": [
    {
     "data": {
      "text/html": [
       "\n",
       "<div id=\"altair-viz-015810e87ab54733832616e69db0200f\"></div>\n",
       "<script type=\"text/javascript\">\n",
       "  (function(spec, embedOpt){\n",
       "    let outputDiv = document.currentScript.previousElementSibling;\n",
       "    if (outputDiv.id !== \"altair-viz-015810e87ab54733832616e69db0200f\") {\n",
       "      outputDiv = document.getElementById(\"altair-viz-015810e87ab54733832616e69db0200f\");\n",
       "    }\n",
       "    const paths = {\n",
       "      \"vega\": \"https://cdn.jsdelivr.net/npm//vega@5?noext\",\n",
       "      \"vega-lib\": \"https://cdn.jsdelivr.net/npm//vega-lib?noext\",\n",
       "      \"vega-lite\": \"https://cdn.jsdelivr.net/npm//vega-lite@4.8.1?noext\",\n",
       "      \"vega-embed\": \"https://cdn.jsdelivr.net/npm//vega-embed@6?noext\",\n",
       "    };\n",
       "\n",
       "    function loadScript(lib) {\n",
       "      return new Promise(function(resolve, reject) {\n",
       "        var s = document.createElement('script');\n",
       "        s.src = paths[lib];\n",
       "        s.async = true;\n",
       "        s.onload = () => resolve(paths[lib]);\n",
       "        s.onerror = () => reject(`Error loading script: ${paths[lib]}`);\n",
       "        document.getElementsByTagName(\"head\")[0].appendChild(s);\n",
       "      });\n",
       "    }\n",
       "\n",
       "    function showError(err) {\n",
       "      outputDiv.innerHTML = `<div class=\"error\" style=\"color:red;\">${err}</div>`;\n",
       "      throw err;\n",
       "    }\n",
       "\n",
       "    function displayChart(vegaEmbed) {\n",
       "      vegaEmbed(outputDiv, spec, embedOpt)\n",
       "        .catch(err => showError(`Javascript Error: ${err.message}<br>This usually means there's a typo in your chart specification. See the javascript console for the full traceback.`));\n",
       "    }\n",
       "\n",
       "    if(typeof define === \"function\" && define.amd) {\n",
       "      requirejs.config({paths});\n",
       "      require([\"vega-embed\"], displayChart, err => showError(`Error loading script: ${err.message}`));\n",
       "    } else if (typeof vegaEmbed === \"function\") {\n",
       "      displayChart(vegaEmbed);\n",
       "    } else {\n",
       "      loadScript(\"vega\")\n",
       "        .then(() => loadScript(\"vega-lite\"))\n",
       "        .then(() => loadScript(\"vega-embed\"))\n",
       "        .catch(showError)\n",
       "        .then(() => displayChart(vegaEmbed));\n",
       "    }\n",
       "  })({\"config\": {\"view\": {\"continuousWidth\": 400, \"continuousHeight\": 300}}, \"data\": {\"name\": \"data-f0c922e04fa4ae340faf6e5d1f2732b8\"}, \"mark\": {\"type\": \"area\", \"interpolate\": \"step\", \"opacity\": 0.6}, \"encoding\": {\"color\": {\"type\": \"nominal\", \"field\": \"Solution\"}, \"x\": {\"type\": \"quantitative\", \"bin\": {\"maxbins\": 100}, \"field\": \"Tau\"}, \"y\": {\"type\": \"quantitative\", \"aggregate\": \"sum\", \"axis\": {\"format\": \"%\"}, \"field\": \"pct\", \"stack\": null, \"title\": \"Percentage\"}}, \"$schema\": \"https://vega.github.io/schema/vega-lite/v4.8.1.json\", \"datasets\": {\"data-f0c922e04fa4ae340faf6e5d1f2732b8\": [{\"Solution\": \"Closest\", \"To\": 0, \"Tau\": 0.8909090909090909, \"pct\": 0.006944444444444444}, {\"Solution\": \"Farthest\", \"To\": 0, \"Tau\": 0.8545454545454545, \"pct\": 0.006944444444444444}, {\"Solution\": \"Closest\", \"To\": 1, \"Tau\": 0.8545454545454545, \"pct\": 0.006944444444444444}, {\"Solution\": \"Farthest\", \"To\": 1, \"Tau\": 0.8909090909090909, \"pct\": 0.006944444444444444}, {\"Solution\": \"Closest\", \"To\": 2, \"Tau\": 0.8545454545454545, \"pct\": 0.006944444444444444}, {\"Solution\": \"Farthest\", \"To\": 2, \"Tau\": 0.8909090909090909, \"pct\": 0.006944444444444444}, {\"Solution\": \"Closest\", \"To\": 3, \"Tau\": 0.8181818181818182, \"pct\": 0.006944444444444444}, {\"Solution\": \"Farthest\", \"To\": 3, \"Tau\": 0.9272727272727274, \"pct\": 0.006944444444444444}, {\"Solution\": \"Closest\", \"To\": 4, \"Tau\": 0.9272727272727274, \"pct\": 0.006944444444444444}, {\"Solution\": \"Farthest\", \"To\": 4, \"Tau\": 0.8909090909090909, \"pct\": 0.006944444444444444}, {\"Solution\": \"Closest\", \"To\": 5, \"Tau\": 0.8909090909090909, \"pct\": 0.006944444444444444}, {\"Solution\": \"Farthest\", \"To\": 5, \"Tau\": 0.9272727272727274, \"pct\": 0.006944444444444444}, {\"Solution\": \"Closest\", \"To\": 6, \"Tau\": 0.8909090909090909, \"pct\": 0.006944444444444444}, {\"Solution\": \"Farthest\", \"To\": 6, \"Tau\": 0.9272727272727274, \"pct\": 0.006944444444444444}, {\"Solution\": \"Closest\", \"To\": 7, \"Tau\": 0.8545454545454545, \"pct\": 0.006944444444444444}, {\"Solution\": \"Farthest\", \"To\": 7, \"Tau\": 0.9636363636363636, \"pct\": 0.006944444444444444}, {\"Solution\": \"Closest\", \"To\": 8, \"Tau\": 0.8909090909090909, \"pct\": 0.006944444444444444}, {\"Solution\": \"Farthest\", \"To\": 8, \"Tau\": 0.9272727272727274, \"pct\": 0.006944444444444444}, {\"Solution\": \"Closest\", \"To\": 9, \"Tau\": 0.8545454545454545, \"pct\": 0.006944444444444444}, {\"Solution\": \"Farthest\", \"To\": 9, \"Tau\": 0.9636363636363636, \"pct\": 0.006944444444444444}, {\"Solution\": \"Closest\", \"To\": 10, \"Tau\": 0.8545454545454545, \"pct\": 0.006944444444444444}, {\"Solution\": \"Farthest\", \"To\": 10, \"Tau\": 0.9636363636363636, \"pct\": 0.006944444444444444}, {\"Solution\": \"Closest\", \"To\": 11, \"Tau\": 0.8181818181818182, \"pct\": 0.006944444444444444}, {\"Solution\": \"Farthest\", \"To\": 11, \"Tau\": null, \"pct\": 0.006944444444444444}, {\"Solution\": \"Closest\", \"To\": 12, \"Tau\": 0.9272727272727274, \"pct\": 0.006944444444444444}, {\"Solution\": \"Farthest\", \"To\": 12, \"Tau\": 0.8181818181818182, \"pct\": 0.006944444444444444}, {\"Solution\": \"Closest\", \"To\": 13, \"Tau\": 0.8909090909090909, \"pct\": 0.006944444444444444}, {\"Solution\": \"Farthest\", \"To\": 13, \"Tau\": 0.8545454545454545, \"pct\": 0.006944444444444444}, {\"Solution\": \"Closest\", \"To\": 14, \"Tau\": 0.9272727272727274, \"pct\": 0.006944444444444444}, {\"Solution\": \"Farthest\", \"To\": 14, \"Tau\": 0.7454545454545454, \"pct\": 0.006944444444444444}, {\"Solution\": \"Closest\", \"To\": 15, \"Tau\": 0.9636363636363636, \"pct\": 0.006944444444444444}, {\"Solution\": \"Farthest\", \"To\": 15, \"Tau\": 0.7818181818181819, \"pct\": 0.006944444444444444}, {\"Solution\": \"Closest\", \"To\": 16, \"Tau\": 0.9272727272727274, \"pct\": 0.006944444444444444}, {\"Solution\": \"Farthest\", \"To\": 16, \"Tau\": 0.8181818181818182, \"pct\": 0.006944444444444444}, {\"Solution\": \"Closest\", \"To\": 17, \"Tau\": 0.8909090909090909, \"pct\": 0.006944444444444444}, {\"Solution\": \"Farthest\", \"To\": 17, \"Tau\": 0.8545454545454545, \"pct\": 0.006944444444444444}, {\"Solution\": \"Closest\", \"To\": 18, \"Tau\": 0.8545454545454545, \"pct\": 0.006944444444444444}, {\"Solution\": \"Farthest\", \"To\": 18, \"Tau\": 0.8909090909090909, \"pct\": 0.006944444444444444}, {\"Solution\": \"Closest\", \"To\": 19, \"Tau\": 0.9272727272727274, \"pct\": 0.006944444444444444}, {\"Solution\": \"Farthest\", \"To\": 19, \"Tau\": 0.8909090909090909, \"pct\": 0.006944444444444444}, {\"Solution\": \"Closest\", \"To\": 20, \"Tau\": 0.8909090909090909, \"pct\": 0.006944444444444444}, {\"Solution\": \"Farthest\", \"To\": 20, \"Tau\": 0.9272727272727274, \"pct\": 0.006944444444444444}, {\"Solution\": \"Closest\", \"To\": 21, \"Tau\": 0.8909090909090909, \"pct\": 0.006944444444444444}, {\"Solution\": \"Farthest\", \"To\": 21, \"Tau\": 0.9272727272727274, \"pct\": 0.006944444444444444}, {\"Solution\": \"Closest\", \"To\": 22, \"Tau\": 0.8545454545454545, \"pct\": 0.006944444444444444}, {\"Solution\": \"Farthest\", \"To\": 22, \"Tau\": 0.9636363636363636, \"pct\": 0.006944444444444444}, {\"Solution\": \"Closest\", \"To\": 23, \"Tau\": 0.8545454545454545, \"pct\": 0.006944444444444444}, {\"Solution\": \"Farthest\", \"To\": 23, \"Tau\": 0.7454545454545454, \"pct\": 0.006944444444444444}, {\"Solution\": \"Closest\", \"To\": 24, \"Tau\": 0.8545454545454545, \"pct\": 0.006944444444444444}, {\"Solution\": \"Farthest\", \"To\": 24, \"Tau\": 0.6727272727272727, \"pct\": 0.006944444444444444}, {\"Solution\": \"Closest\", \"To\": 25, \"Tau\": 0.8909090909090909, \"pct\": 0.006944444444444444}, {\"Solution\": \"Farthest\", \"To\": 25, \"Tau\": 0.7090909090909091, \"pct\": 0.006944444444444444}, {\"Solution\": \"Closest\", \"To\": 26, \"Tau\": 0.8909090909090909, \"pct\": 0.006944444444444444}, {\"Solution\": \"Farthest\", \"To\": 26, \"Tau\": 0.7818181818181819, \"pct\": 0.006944444444444444}, {\"Solution\": \"Closest\", \"To\": 27, \"Tau\": 0.8545454545454545, \"pct\": 0.006944444444444444}, {\"Solution\": \"Farthest\", \"To\": 27, \"Tau\": 0.8181818181818182, \"pct\": 0.006944444444444444}, {\"Solution\": \"Closest\", \"To\": 28, \"Tau\": 0.8909090909090909, \"pct\": 0.006944444444444444}, {\"Solution\": \"Farthest\", \"To\": 28, \"Tau\": 0.7090909090909091, \"pct\": 0.006944444444444444}, {\"Solution\": \"Closest\", \"To\": 29, \"Tau\": 0.9272727272727274, \"pct\": 0.006944444444444444}, {\"Solution\": \"Farthest\", \"To\": 29, \"Tau\": 0.7454545454545454, \"pct\": 0.006944444444444444}, {\"Solution\": \"Closest\", \"To\": 30, \"Tau\": 0.8909090909090909, \"pct\": 0.006944444444444444}, {\"Solution\": \"Farthest\", \"To\": 30, \"Tau\": 0.7818181818181819, \"pct\": 0.006944444444444444}, {\"Solution\": \"Closest\", \"To\": 31, \"Tau\": 0.8909090909090909, \"pct\": 0.006944444444444444}, {\"Solution\": \"Farthest\", \"To\": 31, \"Tau\": 0.7818181818181819, \"pct\": 0.006944444444444444}, {\"Solution\": \"Closest\", \"To\": 32, \"Tau\": 0.8545454545454545, \"pct\": 0.006944444444444444}, {\"Solution\": \"Farthest\", \"To\": 32, \"Tau\": 0.8181818181818182, \"pct\": 0.006944444444444444}, {\"Solution\": \"Closest\", \"To\": 33, \"Tau\": 0.8909090909090909, \"pct\": 0.006944444444444444}, {\"Solution\": \"Farthest\", \"To\": 33, \"Tau\": 0.7090909090909091, \"pct\": 0.006944444444444444}, {\"Solution\": \"Closest\", \"To\": 34, \"Tau\": 0.9272727272727274, \"pct\": 0.006944444444444444}, {\"Solution\": \"Farthest\", \"To\": 34, \"Tau\": 0.7454545454545454, \"pct\": 0.006944444444444444}, {\"Solution\": \"Closest\", \"To\": 35, \"Tau\": 0.8545454545454545, \"pct\": 0.006944444444444444}, {\"Solution\": \"Farthest\", \"To\": 35, \"Tau\": 0.7454545454545454, \"pct\": 0.006944444444444444}, {\"Solution\": \"Closest\", \"To\": 36, \"Tau\": 0.8909090909090909, \"pct\": 0.006944444444444444}, {\"Solution\": \"Farthest\", \"To\": 36, \"Tau\": 0.7818181818181819, \"pct\": 0.006944444444444444}, {\"Solution\": \"Closest\", \"To\": 37, \"Tau\": 0.9272727272727274, \"pct\": 0.006944444444444444}, {\"Solution\": \"Farthest\", \"To\": 37, \"Tau\": 0.8181818181818182, \"pct\": 0.006944444444444444}, {\"Solution\": \"Closest\", \"To\": 38, \"Tau\": 0.8909090909090909, \"pct\": 0.006944444444444444}, {\"Solution\": \"Farthest\", \"To\": 38, \"Tau\": 0.8545454545454545, \"pct\": 0.006944444444444444}, {\"Solution\": \"Closest\", \"To\": 39, \"Tau\": 0.8909090909090909, \"pct\": 0.006944444444444444}, {\"Solution\": \"Farthest\", \"To\": 39, \"Tau\": 0.8545454545454545, \"pct\": 0.006944444444444444}, {\"Solution\": \"Closest\", \"To\": 40, \"Tau\": 0.8545454545454545, \"pct\": 0.006944444444444444}, {\"Solution\": \"Farthest\", \"To\": 40, \"Tau\": 0.8909090909090909, \"pct\": 0.006944444444444444}, {\"Solution\": \"Closest\", \"To\": 41, \"Tau\": 0.9272727272727274, \"pct\": 0.006944444444444444}, {\"Solution\": \"Farthest\", \"To\": 41, \"Tau\": 0.7454545454545454, \"pct\": 0.006944444444444444}, {\"Solution\": \"Closest\", \"To\": 42, \"Tau\": 0.9636363636363636, \"pct\": 0.006944444444444444}, {\"Solution\": \"Farthest\", \"To\": 42, \"Tau\": 0.7818181818181819, \"pct\": 0.006944444444444444}, {\"Solution\": \"Closest\", \"To\": 43, \"Tau\": 0.8909090909090909, \"pct\": 0.006944444444444444}, {\"Solution\": \"Farthest\", \"To\": 43, \"Tau\": 0.7818181818181819, \"pct\": 0.006944444444444444}, {\"Solution\": \"Closest\", \"To\": 44, \"Tau\": 0.9272727272727274, \"pct\": 0.006944444444444444}, {\"Solution\": \"Farthest\", \"To\": 44, \"Tau\": 0.8181818181818182, \"pct\": 0.006944444444444444}, {\"Solution\": \"Closest\", \"To\": 45, \"Tau\": 0.9272727272727274, \"pct\": 0.006944444444444444}, {\"Solution\": \"Farthest\", \"To\": 45, \"Tau\": 0.8181818181818182, \"pct\": 0.006944444444444444}, {\"Solution\": \"Closest\", \"To\": 46, \"Tau\": 0.8909090909090909, \"pct\": 0.006944444444444444}, {\"Solution\": \"Farthest\", \"To\": 46, \"Tau\": 0.8545454545454545, \"pct\": 0.006944444444444444}, {\"Solution\": \"Closest\", \"To\": 47, \"Tau\": 0.8545454545454545, \"pct\": 0.006944444444444444}, {\"Solution\": \"Farthest\", \"To\": 47, \"Tau\": 0.8181818181818182, \"pct\": 0.006944444444444444}, {\"Solution\": \"Closest\", \"To\": 48, \"Tau\": 0.8181818181818182, \"pct\": 0.006944444444444444}, {\"Solution\": \"Farthest\", \"To\": 48, \"Tau\": 0.8545454545454545, \"pct\": 0.006944444444444444}, {\"Solution\": \"Closest\", \"To\": 49, \"Tau\": 0.8909090909090909, \"pct\": 0.006944444444444444}, {\"Solution\": \"Farthest\", \"To\": 49, \"Tau\": 0.7818181818181819, \"pct\": 0.006944444444444444}, {\"Solution\": \"Closest\", \"To\": 50, \"Tau\": 0.8545454545454545, \"pct\": 0.006944444444444444}, {\"Solution\": \"Farthest\", \"To\": 50, \"Tau\": 0.8181818181818182, \"pct\": 0.006944444444444444}, {\"Solution\": \"Closest\", \"To\": 51, \"Tau\": 0.9636363636363636, \"pct\": 0.006944444444444444}, {\"Solution\": \"Farthest\", \"To\": 51, \"Tau\": 0.8545454545454545, \"pct\": 0.006944444444444444}, {\"Solution\": \"Closest\", \"To\": 52, \"Tau\": 0.9272727272727274, \"pct\": 0.006944444444444444}, {\"Solution\": \"Farthest\", \"To\": 52, \"Tau\": 0.8909090909090909, \"pct\": 0.006944444444444444}, {\"Solution\": \"Closest\", \"To\": 53, \"Tau\": 0.9636363636363636, \"pct\": 0.006944444444444444}, {\"Solution\": \"Farthest\", \"To\": 53, \"Tau\": 0.7818181818181819, \"pct\": 0.006944444444444444}, {\"Solution\": \"Closest\", \"To\": 54, \"Tau\": null, \"pct\": 0.006944444444444444}, {\"Solution\": \"Farthest\", \"To\": 54, \"Tau\": 0.8181818181818182, \"pct\": 0.006944444444444444}, {\"Solution\": \"Closest\", \"To\": 55, \"Tau\": 0.9272727272727274, \"pct\": 0.006944444444444444}, {\"Solution\": \"Farthest\", \"To\": 55, \"Tau\": 0.8181818181818182, \"pct\": 0.006944444444444444}, {\"Solution\": \"Closest\", \"To\": 56, \"Tau\": 0.9636363636363636, \"pct\": 0.006944444444444444}, {\"Solution\": \"Farthest\", \"To\": 56, \"Tau\": 0.8545454545454545, \"pct\": 0.006944444444444444}, {\"Solution\": \"Closest\", \"To\": 57, \"Tau\": 0.9272727272727274, \"pct\": 0.006944444444444444}, {\"Solution\": \"Farthest\", \"To\": 57, \"Tau\": 0.8181818181818182, \"pct\": 0.006944444444444444}, {\"Solution\": \"Closest\", \"To\": 58, \"Tau\": 0.9636363636363636, \"pct\": 0.006944444444444444}, {\"Solution\": \"Farthest\", \"To\": 58, \"Tau\": 0.8545454545454545, \"pct\": 0.006944444444444444}, {\"Solution\": \"Closest\", \"To\": 59, \"Tau\": 0.8909090909090909, \"pct\": 0.006944444444444444}, {\"Solution\": \"Farthest\", \"To\": 59, \"Tau\": 0.8545454545454545, \"pct\": 0.006944444444444444}, {\"Solution\": \"Closest\", \"To\": 60, \"Tau\": 0.9272727272727274, \"pct\": 0.006944444444444444}, {\"Solution\": \"Farthest\", \"To\": 60, \"Tau\": 0.8909090909090909, \"pct\": 0.006944444444444444}, {\"Solution\": \"Closest\", \"To\": 61, \"Tau\": 0.8181818181818182, \"pct\": 0.006944444444444444}, {\"Solution\": \"Farthest\", \"To\": 61, \"Tau\": 0.7818181818181819, \"pct\": 0.006944444444444444}, {\"Solution\": \"Closest\", \"To\": 62, \"Tau\": 0.8545454545454545, \"pct\": 0.006944444444444444}, {\"Solution\": \"Farthest\", \"To\": 62, \"Tau\": 0.7454545454545454, \"pct\": 0.006944444444444444}, {\"Solution\": \"Closest\", \"To\": 63, \"Tau\": 0.9272727272727274, \"pct\": 0.006944444444444444}, {\"Solution\": \"Farthest\", \"To\": 63, \"Tau\": 0.8909090909090909, \"pct\": 0.006944444444444444}, {\"Solution\": \"Closest\", \"To\": 64, \"Tau\": 0.8909090909090909, \"pct\": 0.006944444444444444}, {\"Solution\": \"Farthest\", \"To\": 64, \"Tau\": 0.9272727272727274, \"pct\": 0.006944444444444444}, {\"Solution\": \"Closest\", \"To\": 65, \"Tau\": 0.9636363636363636, \"pct\": 0.006944444444444444}, {\"Solution\": \"Farthest\", \"To\": 65, \"Tau\": 0.8545454545454545, \"pct\": 0.006944444444444444}, {\"Solution\": \"Closest\", \"To\": 66, \"Tau\": 0.9272727272727274, \"pct\": 0.006944444444444444}, {\"Solution\": \"Farthest\", \"To\": 66, \"Tau\": 0.8909090909090909, \"pct\": 0.006944444444444444}, {\"Solution\": \"Closest\", \"To\": 67, \"Tau\": 0.9272727272727274, \"pct\": 0.006944444444444444}, {\"Solution\": \"Farthest\", \"To\": 67, \"Tau\": 0.8909090909090909, \"pct\": 0.006944444444444444}, {\"Solution\": \"Closest\", \"To\": 68, \"Tau\": 0.8909090909090909, \"pct\": 0.006944444444444444}, {\"Solution\": \"Farthest\", \"To\": 68, \"Tau\": 0.9272727272727274, \"pct\": 0.006944444444444444}, {\"Solution\": \"Closest\", \"To\": 69, \"Tau\": 0.8909090909090909, \"pct\": 0.006944444444444444}, {\"Solution\": \"Farthest\", \"To\": 69, \"Tau\": 0.7818181818181819, \"pct\": 0.006944444444444444}, {\"Solution\": \"Closest\", \"To\": 70, \"Tau\": 0.9272727272727274, \"pct\": 0.006944444444444444}, {\"Solution\": \"Farthest\", \"To\": 70, \"Tau\": 0.8181818181818182, \"pct\": 0.006944444444444444}, {\"Solution\": \"Closest\", \"To\": 71, \"Tau\": 0.8909090909090909, \"pct\": 0.006944444444444444}, {\"Solution\": \"Farthest\", \"To\": 71, \"Tau\": 0.8545454545454545, \"pct\": 0.006944444444444444}]}}, {\"mode\": \"vega-lite\"});\n",
       "</script>"
      ],
      "text/plain": [
       "alt.Chart(...)"
      ]
     },
     "execution_count": 68,
     "metadata": {},
     "output_type": "execute_result"
    }
   ],
   "source": [
    "import altair as alt\n",
    "g = alt.Chart(source).mark_area(\n",
    "        opacity=0.6,\n",
    "        interpolate='step'\n",
    "    ).encode(\n",
    "        x=alt.X('Tau:Q', bin=alt.Bin(maxbins=100)),\n",
    "        y=alt.Y('sum(pct):Q', axis=alt.Axis(format='%'),stack=None,title='Percentage'),\n",
    "        color=alt.Color('Solution:N')\n",
    "    )\n",
    "g"
   ]
  },
  {
   "cell_type": "code",
   "execution_count": 69,
   "metadata": {},
   "outputs": [
    {
     "data": {
      "text/plain": [
       "72"
      ]
     },
     "execution_count": 69,
     "metadata": {},
     "output_type": "execute_result"
    }
   ],
   "source": [
    "len(perms)"
   ]
  },
  {
   "cell_type": "code",
   "execution_count": null,
   "metadata": {},
   "outputs": [],
   "source": []
  }
 ],
 "metadata": {
  "celltoolbar": "Slideshow",
  "kernelspec": {
   "display_name": "Python 3",
   "language": "python",
   "name": "python3"
  },
  "language_info": {
   "codemirror_mode": {
    "name": "ipython",
    "version": 3
   },
   "file_extension": ".py",
   "mimetype": "text/x-python",
   "name": "python",
   "nbconvert_exporter": "python",
   "pygments_lexer": "ipython3",
   "version": "3.7.3"
  }
 },
 "nbformat": 4,
 "nbformat_minor": 4
}
