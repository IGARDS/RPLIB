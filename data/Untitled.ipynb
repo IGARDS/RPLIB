{
 "cells": [
  {
   "cell_type": "code",
   "execution_count": 1,
   "id": "1ac944df-be82-4438-99fb-5defe9ced280",
   "metadata": {},
   "outputs": [
    {
     "name": "stdout",
     "output_type": "stream",
     "text": [
      "Looking for packages in home directory\n"
     ]
    }
   ],
   "source": [
    "import os\n",
    "import sys\n",
    "from pathlib import Path\n",
    "import json\n",
    "from datetime import datetime\n",
    "\n",
    "import numpy as np\n",
    "import pandas as pd\n",
    "\n",
    "home = str(Path.home())\n",
    "\n",
    "RPLIB_DATA_PREFIX = os.environ.get(\"RPLIB_DATA_PREFIX\")\n",
    "\n",
    "if RPLIB_DATA_PREFIX is None: # Set default\n",
    "    RPLIB_DATA_PREFIX=f'{home}/RPLib/data'\n",
    "\n",
    "try:\n",
    "    import pyrankability as pyrankability\n",
    "    import pyrplib as pyrplib\n",
    "except:\n",
    "    print('Looking for packages in home directory')\n",
    "    sys.path.insert(0,f\"{home}\") # Add the home directory relevant paths to the PYTHONPATH\n",
    "    sys.path.insert(0,f\"{home}/ranking_toolbox\") # Add the home directory relevant paths to the PYTHONPATH\n",
    "    sys.path.insert(0,f\"{home}/RPLib\") # Add the home directory relevant paths to the PYTHONPATH\n",
    "    import pyrankability\n",
    "    import pyrplib\n",
    "\n",
    "if len(sys.argv) < 2:\n",
    "    print(\"Usage: python run.py <method (e.g., lop,hillside,massey,colley)> <ids (comma separated)>\")\n",
    "    exit(0)"
   ]
  },
  {
   "cell_type": "code",
   "execution_count": 3,
   "id": "ddbc047c-fe27-42c8-86a6-3b608f17ee7a",
   "metadata": {},
   "outputs": [
    {
     "data": {
      "text/plain": [
       "array([[0., 0., 0., 1., 1., 1.],\n",
       "       [1., 0., 0., 1., 1., 1.],\n",
       "       [1., 1., 0., 1., 1., 1.],\n",
       "       [0., 0., 0., 0., 1., 1.],\n",
       "       [0., 0., 0., 0., 0., 0.],\n",
       "       [0., 0., 0., 0., 1., 0.]])"
      ]
     },
     "execution_count": 3,
     "metadata": {},
     "output_type": "execute_result"
    }
   ],
   "source": [
    "pyrankability.common.perm_to_x([2,1,0,3,5,4])"
   ]
  },
  {
   "cell_type": "code",
   "execution_count": 4,
   "id": "a14082db-9828-4abe-a5ab-42c391721fe7",
   "metadata": {},
   "outputs": [],
   "source": [
    "rating = [0.3,0.5,0.9,0.1]"
   ]
  },
  {
   "cell_type": "code",
   "execution_count": 6,
   "id": "e1f9d275-4291-4f31-8264-bbb406607fd8",
   "metadata": {},
   "outputs": [
    {
     "data": {
      "text/plain": [
       "[0.1, 0.3, 0.5, 0.9]"
      ]
     },
     "execution_count": 6,
     "metadata": {},
     "output_type": "execute_result"
    }
   ],
   "source": [
    "sorted(rating)"
   ]
  },
  {
   "cell_type": "code",
   "execution_count": 7,
   "id": "0393101f-29cf-4712-95a6-b6dcb8e4ff84",
   "metadata": {},
   "outputs": [],
   "source": [
    "error = 0.3"
   ]
  },
  {
   "cell_type": "code",
   "execution_count": 8,
   "id": "0032d97b-aebe-449c-8121-342471dc41c1",
   "metadata": {},
   "outputs": [
    {
     "data": {
      "text/plain": [
       "array([[0., 1., 1., 0.],\n",
       "       [0., 0., 1., 0.],\n",
       "       [0., 0., 0., 0.],\n",
       "       [1., 1., 1., 0.]])"
      ]
     },
     "execution_count": 8,
     "metadata": {},
     "output_type": "execute_result"
    }
   ],
   "source": [
    "pyrankability.common.perm_to_x([3,0,1,2])"
   ]
  },
  {
   "cell_type": "code",
   "execution_count": null,
   "id": "ba5b015c-3a4e-4833-917b-287bf7ae0cd3",
   "metadata": {},
   "outputs": [],
   "source": [
    "Xij = 1; Xji = 0"
   ]
  }
 ],
 "metadata": {
  "kernelspec": {
   "display_name": "Python 3 (ipykernel)",
   "language": "python",
   "name": "python3"
  },
  "language_info": {
   "codemirror_mode": {
    "name": "ipython",
    "version": 3
   },
   "file_extension": ".py",
   "mimetype": "text/x-python",
   "name": "python",
   "nbconvert_exporter": "python",
   "pygments_lexer": "ipython3",
   "version": "3.9.7"
  }
 },
 "nbformat": 4,
 "nbformat_minor": 5
}
