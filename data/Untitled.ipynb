{
 "cells": [
  {
   "cell_type": "code",
   "execution_count": null,
   "id": "wanted-economy",
   "metadata": {},
   "outputs": [],
   "source": [
    "import pandas as pd\n",
    "\n",
    "def get_lop_cards():\n",
    "    df = pd.read_csv(\n",
    "        \"../data/lop_cards.tsv\",sep='\\t')\n",
    "    \n",
    "    df2 = df.copy()\n",
    "    def process(link):\n",
    "        d = requests.get(link).json()\n",
    "        entry = pd.Series(index=[d.keys()])\n",
    "        try:\n",
    "            \n",
    "        except:\n",
    "            pass\n",
    "        return entry\n",
    "\n",
    "    df2['Link'] = df2['Link'].apply(process)\n",
    "    \n",
    "    df2['Card'] = df['Link'].apply(lambda link: requests.get(link).json())\n",
    "    \n",
    "    return df2,df"
   ]
  }
 ],
 "metadata": {
  "kernelspec": {
   "display_name": "Python 3",
   "language": "python",
   "name": "python3"
  },
  "language_info": {
   "codemirror_mode": {
    "name": "ipython",
    "version": 3
   },
   "file_extension": ".py",
   "mimetype": "text/x-python",
   "name": "python",
   "nbconvert_exporter": "python",
   "pygments_lexer": "ipython3",
   "version": "3.7.3"
  }
 },
 "nbformat": 4,
 "nbformat_minor": 5
}
