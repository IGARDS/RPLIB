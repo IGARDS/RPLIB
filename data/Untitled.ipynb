{
 "cells": [
  {
   "cell_type": "code",
   "execution_count": 12,
   "id": "rental-coverage",
   "metadata": {},
   "outputs": [
    {
     "name": "stdout",
     "output_type": "stream",
     "text": [
      "https://raw.githubusercontent.com/IGARDS/RPLib/main/data/marchmadness/5_lop_card.json\n",
      "[[61, 40, 53, 22, 2, 57, 38, 26, 20, 16, 50, 51, 32, 39, 8, 63, 5, 55, 62, 49, 59, 47, 0, 56, 12, 45, 17, 60, 52, 48, 46, 44, 15, 24, 23, 58, 36, 43, 42, 34, 33, 30, 14, 31, 29, 37, 54, 35, 27, 9, 3, 28, 25, 21, 19, 13, 7, 11, 41, 4, 18, 10, 6, 1]]\n"
     ]
    },
    {
     "name": "stderr",
     "output_type": "stream",
     "text": [
      "/opt/tljh/user/lib/python3.7/site-packages/ipykernel_launcher.py:12: DeprecationWarning: The default dtype for empty Series will be 'object' instead of 'float64' in a future version. Specify a dtype explicitly to silence this warning.\n",
      "  if sys.path[0] == '':\n"
     ]
    },
    {
     "data": {
      "text/html": [
       "<div>\n",
       "<style scoped>\n",
       "    .dataframe tbody tr th:only-of-type {\n",
       "        vertical-align: middle;\n",
       "    }\n",
       "\n",
       "    .dataframe tbody tr th {\n",
       "        vertical-align: top;\n",
       "    }\n",
       "\n",
       "    .dataframe thead th {\n",
       "        text-align: right;\n",
       "    }\n",
       "</style>\n",
       "<table border=\"1\" class=\"dataframe\">\n",
       "  <thead>\n",
       "    <tr style=\"text-align: right;\">\n",
       "      <th></th>\n",
       "      <th>ID</th>\n",
       "      <th>Shape of D</th>\n",
       "      <th>Objective</th>\n",
       "      <th>Number of Solutions</th>\n",
       "    </tr>\n",
       "  </thead>\n",
       "  <tbody>\n",
       "    <tr>\n",
       "      <th>0</th>\n",
       "      <td>1</td>\n",
       "      <td>64.0</td>\n",
       "      <td>196.0</td>\n",
       "      <td>1.0</td>\n",
       "    </tr>\n",
       "  </tbody>\n",
       "</table>\n",
       "</div>"
      ],
      "text/plain": [
       "   ID  Shape of D  Objective  Number of Solutions\n",
       "0   1        64.0      196.0                  1.0"
      ]
     },
     "execution_count": 12,
     "metadata": {},
     "output_type": "execute_result"
    }
   ],
   "source": [
    "import requests\n",
    "\n",
    "import pandas as pd\n",
    "\n",
    "def get_lop_cards():\n",
    "    df = pd.read_csv(\n",
    "        \"../data/lop_cards.tsv\",sep='\\t')\n",
    "    \n",
    "    def process(link):\n",
    "        print(link)\n",
    "        d = requests.get(link).json()\n",
    "        entry = pd.Series(index=['Dataset ID','Shape of D','Objective','Number of Solutions'])\n",
    "        try:\n",
    "            entry.loc['Dataset ID'] = d['dataset_id']\n",
    "            entry.loc['Shape of D'] = len(d['D'])\n",
    "            entry.loc['Objective'] = d['obj']\n",
    "            entry.loc['Number of Solutions'] = len(d['solutions'])\n",
    "            print(d['solutions'])\n",
    "        except:\n",
    "            pass\n",
    "        return entry\n",
    "\n",
    "    cards = df['Link'].apply(process)\n",
    "    df2 = df.drop('Link',axis=1).join(cards)\n",
    "        \n",
    "    return df2,df\n",
    "\n",
    "df_lop_cards,df_lop_cards_raw = get_lop_cards()\n",
    "df_lop_cards"
   ]
  },
  {
   "cell_type": "code",
   "execution_count": null,
   "id": "handmade-spectacular",
   "metadata": {},
   "outputs": [],
   "source": []
  }
 ],
 "metadata": {
  "kernelspec": {
   "display_name": "Python 3",
   "language": "python",
   "name": "python3"
  },
  "language_info": {
   "codemirror_mode": {
    "name": "ipython",
    "version": 3
   },
   "file_extension": ".py",
   "mimetype": "text/x-python",
   "name": "python",
   "nbconvert_exporter": "python",
   "pygments_lexer": "ipython3",
   "version": "3.7.3"
  }
 },
 "nbformat": 4,
 "nbformat_minor": 5
}
