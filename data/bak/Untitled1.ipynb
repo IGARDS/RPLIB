{
 "cells": [
  {
   "cell_type": "code",
   "execution_count": 3,
   "id": "1b35e01c-f84d-417d-88dd-ac278bd3d8f8",
   "metadata": {},
   "outputs": [
    {
     "name": "stdout",
     "output_type": "stream",
     "text": [
      "{\n",
      " \"high\": 5,\n",
      " \"low\": 1,\n",
      " \"make_unweighted\": false,\n",
      " \"number_matrices\": 10,\n",
      " \"number_of_rows_columns\": 20,\n",
      " \"percent_links_to_remove\": 10,\n",
      " \"percentage\": 90\n",
      "}\n",
      "\n",
      "def create():\n",
      " D = domplusnoise(number_of_rows_columns,low,high,percentage)\n",
      " if percent_links_to_remove > 0:\n",
      " D = removelinks(D,percent_links_to_remove)\n",
      " if make_unweighted:\n",
      " D = unweighted(D)\n",
      " return D\n"
     ]
    }
   ],
   "source": [
    "print('{\\n \"high\": 5,\\n \"low\": 1,\\n \"make_unweighted\": false,\\n \"number_matrices\": 10,\\n \"number_of_rows_columns\": 20,\\n \"percent_links_to_remove\": 10,\\n \"percentage\": 90\\n}\\n\\ndef create():\\n D = domplusnoise(number_of_rows_columns,low,high,percentage)\\n if percent_links_to_remove > 0:\\n D = removelinks(D,percent_links_to_remove)\\n if make_unweighted:\\n D = unweighted(D)\\n return D')"
   ]
  },
  {
   "cell_type": "markdown",
   "id": "3445fa96-eee6-441b-8169-8c217a30efe3",
   "metadata": {},
   "source": [
    "{\n",
    " \"high\": 5,\n",
    " \"low\": 1,\n",
    " \"make_unweighted\": false,\n",
    " \"number_matrices\": 10,\n",
    " \"number_of_rows_columns\": 20,\n",
    " \"percent_links_to_remove\": 10,\n",
    " \"percentage\": 90\n",
    "}\n",
    "\n",
    "def create():\n",
    " D = domplusnoise(number_of_rows_columns,low,high,percentage)\n",
    " if percent_links_to_remove > 0:\n",
    " D = removelinks(D,percent_links_to_remove)\n",
    " if make_unweighted:\n",
    " D = unweighted(D)\n",
    " return D"
   ]
  },
  {
   "cell_type": "code",
   "execution_count": null,
   "id": "706da463-fca6-4fd0-a69f-2da27480a977",
   "metadata": {},
   "outputs": [],
   "source": []
  }
 ],
 "metadata": {
  "kernelspec": {
   "display_name": "Python 3 (ipykernel)",
   "language": "python",
   "name": "python3"
  },
  "language_info": {
   "codemirror_mode": {
    "name": "ipython",
    "version": 3
   },
   "file_extension": ".py",
   "mimetype": "text/x-python",
   "name": "python",
   "nbconvert_exporter": "python",
   "pygments_lexer": "ipython3",
   "version": "3.9.7"
  }
 },
 "nbformat": 4,
 "nbformat_minor": 5
}
