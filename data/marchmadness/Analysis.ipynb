{
 "cells": [
  {
   "cell_type": "markdown",
   "id": "blank-soundtrack",
   "metadata": {},
   "source": [
    "# March Madness Data Analysis Log"
   ]
  },
  {
   "cell_type": "code",
   "execution_count": 10,
   "id": "insured-movie",
   "metadata": {},
   "outputs": [
    {
     "data": {
      "text/html": [
       "<div>\n",
       "<style scoped>\n",
       "    .dataframe tbody tr th:only-of-type {\n",
       "        vertical-align: middle;\n",
       "    }\n",
       "\n",
       "    .dataframe tbody tr th {\n",
       "        vertical-align: top;\n",
       "    }\n",
       "\n",
       "    .dataframe thead th {\n",
       "        text-align: right;\n",
       "    }\n",
       "</style>\n",
       "<table border=\"1\" class=\"dataframe\">\n",
       "  <thead>\n",
       "    <tr style=\"text-align: right;\">\n",
       "      <th></th>\n",
       "      <th>Dataset ID</th>\n",
       "      <th>Dataset Name</th>\n",
       "      <th>Description</th>\n",
       "      <th>Type</th>\n",
       "      <th>Data provenance</th>\n",
       "      <th>Download links</th>\n",
       "    </tr>\n",
       "  </thead>\n",
       "  <tbody>\n",
       "    <tr>\n",
       "      <th>1</th>\n",
       "      <td>1</td>\n",
       "      <td>March Madness 2002</td>\n",
       "      <td>2002 regular season games, list of teams, and ...</td>\n",
       "      <td>Games</td>\n",
       "      <td>https://github.com/IGARDS/RPLib/blob/main/pipe...</td>\n",
       "      <td>https://raw.githubusercontent.com/IGARDS/march...</td>\n",
       "    </tr>\n",
       "  </tbody>\n",
       "</table>\n",
       "</div>"
      ],
      "text/plain": [
       "  Dataset ID        Dataset Name  \\\n",
       "1          1  March Madness 2002   \n",
       "\n",
       "                                         Description   Type  \\\n",
       "1  2002 regular season games, list of teams, and ...  Games   \n",
       "\n",
       "                                     Data provenance  \\\n",
       "1  https://github.com/IGARDS/RPLib/blob/main/pipe...   \n",
       "\n",
       "                                      Download links  \n",
       "1  https://raw.githubusercontent.com/IGARDS/march...  "
      ]
     },
     "execution_count": 10,
     "metadata": {},
     "output_type": "execute_result"
    }
   ],
   "source": [
    "import pandas as pd\n",
    "\n",
    "df = pd.read_csv(\n",
    "        \"https://raw.githubusercontent.com/IGARDS/RPLib/master/data/dataset_tool_datasets.tsv\",sep='\\t')\n",
    "\n",
    "df_games = df.loc[(df['Type'] == 'Games') & (df['Dataset Name'].str.contains('March Madness'))]\n",
    "df_games"
   ]
  },
  {
   "cell_type": "markdown",
   "id": "controlled-understanding",
   "metadata": {},
   "source": [
    "## D Matrix Creation"
   ]
  },
  {
   "cell_type": "markdown",
   "id": "average-combine",
   "metadata": {},
   "source": [
    "### Dataset ID: 1"
   ]
  },
  {
   "cell_type": "code",
   "execution_count": 13,
   "id": "corrected-migration",
   "metadata": {},
   "outputs": [
    {
     "name": "stdout",
     "output_type": "stream",
     "text": [
      "team2           Alabama  Alcorn_St  Arizona  ...  Wisconsin  Wyoming  Xavier\n",
      "team1                                        ...                            \n",
      "Alabama             NaN        NaN      NaN  ...        NaN      NaN     NaN\n",
      "Alcorn_St           NaN        NaN      NaN  ...        NaN      NaN     NaN\n",
      "Arizona             NaN        NaN      NaN  ...        NaN      NaN     NaN\n",
      "Boston_College      NaN        NaN      NaN  ...        NaN      NaN     NaN\n",
      "Boston_Univ         NaN        NaN      NaN  ...        NaN      NaN     NaN\n",
      "...                 ...        ...      ...  ...        ...      ...     ...\n",
      "Wake_Forest         NaN        NaN      0.0  ...        NaN      NaN     NaN\n",
      "Winthrop            NaN        NaN      NaN  ...        NaN      NaN     0.0\n",
      "Wisconsin           NaN        NaN      NaN  ...        NaN      NaN     NaN\n",
      "Wyoming             NaN        NaN      NaN  ...        NaN      NaN     NaN\n",
      "Xavier              NaN        NaN      NaN  ...        NaN      NaN     NaN\n",
      "\n",
      "[65 rows x 65 columns]\n",
      "Writing to 1_D.json\n"
     ]
    }
   ],
   "source": [
    "!python ../../pipelines/create_D_from_games.py 1 1"
   ]
  },
  {
   "cell_type": "markdown",
   "id": "subjective-inspector",
   "metadata": {},
   "source": [
    "## LOP Card Creation"
   ]
  },
  {
   "cell_type": "markdown",
   "id": "passive-paragraph",
   "metadata": {},
   "source": [
    "### Dataset ID: 1"
   ]
  },
  {
   "cell_type": "code",
   "execution_count": null,
   "id": "controlled-candle",
   "metadata": {},
   "outputs": [],
   "source": []
  }
 ],
 "metadata": {
  "kernelspec": {
   "display_name": "Python 3",
   "language": "python",
   "name": "python3"
  },
  "language_info": {
   "codemirror_mode": {
    "name": "ipython",
    "version": 3
   },
   "file_extension": ".py",
   "mimetype": "text/x-python",
   "name": "python",
   "nbconvert_exporter": "python",
   "pygments_lexer": "ipython3",
   "version": "3.7.3"
  }
 },
 "nbformat": 4,
 "nbformat_minor": 5
}
