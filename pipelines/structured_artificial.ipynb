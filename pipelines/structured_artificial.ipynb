{
 "cells": [
  {
   "cell_type": "markdown",
   "id": "automated-kentucky",
   "metadata": {},
   "source": [
    "# TODO: Need to include description of this notebook"
   ]
  },
  {
   "cell_type": "code",
   "execution_count": 4,
   "id": "under-truck",
   "metadata": {},
   "outputs": [],
   "source": [
    "import os\n",
    "import sys\n",
    "import json\n",
    "\n",
    "import numpy as np\n",
    "import pandas as pd"
   ]
  },
  {
   "cell_type": "markdown",
   "id": "resistant-wallet",
   "metadata": {},
   "source": [
    "## EMPTY + NOISE\n",
    "Function starts with an empty graph and adds some\n",
    "amount of noise. The goal is to use these carefully structured graphs\n",
    "with increasing noise to see if there is a correlation between our\n",
    "rankability measures and predictability measures. This code only\n",
    "creates weighted hillside D matrices.  \n",
    "\n",
    "```\n",
    "Input: n = number of rows/cols in D matrix\n",
    "       percentnoise = integer between 1 and n^2 representing the\n",
    "       percentage of noise to add to D hillside, e.g., \n",
    "       if percentnoise = 10, then 10% of the n^2 elements will be noise\n",
    "\n",
    "Example: 'D = emptyplusnoise(6,20)' creates a 6 by 6 matrix with 20% noise\n",
    "                                    added to the empty graph\n",
    "```"
   ]
  },
  {
   "cell_type": "code",
   "execution_count": 23,
   "id": "grateful-asset",
   "metadata": {},
   "outputs": [],
   "source": [
    "def emptyplusnoise(n,percentnoise):\n",
    "    D=np.zeros((n,n)) # initialize D as an empty graph \n",
    "    N=np.random.randint(1, high=n, size=(n,n)) # add random integers between 1 and n in random locations\n",
    "    D_flat = D.ravel()\n",
    "    N_flat = N.ravel()\n",
    "\n",
    "    # Pick winner indexes\n",
    "    winners = np.random.choice(len(N_flat), round(n**2*0.01*percentnoise))\n",
    "    \n",
    "    D_flat[winners] = N_flat[winners]\n",
    "    \n",
    "    D = D_flat.reshape(D.shape)\n",
    "    \n",
    "    for i in range(n):\n",
    "        D[i,i]=0 # remove any self-loops that the noise matrix may have added\n",
    "    return pd.DataFrame(D)"
   ]
  },
  {
   "cell_type": "code",
   "execution_count": 24,
   "id": "accomplished-hardwood",
   "metadata": {},
   "outputs": [
    {
     "data": {
      "text/html": [
       "<div>\n",
       "<style scoped>\n",
       "    .dataframe tbody tr th:only-of-type {\n",
       "        vertical-align: middle;\n",
       "    }\n",
       "\n",
       "    .dataframe tbody tr th {\n",
       "        vertical-align: top;\n",
       "    }\n",
       "\n",
       "    .dataframe thead th {\n",
       "        text-align: right;\n",
       "    }\n",
       "</style>\n",
       "<table border=\"1\" class=\"dataframe\">\n",
       "  <thead>\n",
       "    <tr style=\"text-align: right;\">\n",
       "      <th></th>\n",
       "      <th>0</th>\n",
       "      <th>1</th>\n",
       "      <th>2</th>\n",
       "      <th>3</th>\n",
       "      <th>4</th>\n",
       "      <th>5</th>\n",
       "    </tr>\n",
       "  </thead>\n",
       "  <tbody>\n",
       "    <tr>\n",
       "      <th>0</th>\n",
       "      <td>0.0</td>\n",
       "      <td>0.0</td>\n",
       "      <td>0.0</td>\n",
       "      <td>0.0</td>\n",
       "      <td>0.0</td>\n",
       "      <td>0.0</td>\n",
       "    </tr>\n",
       "    <tr>\n",
       "      <th>1</th>\n",
       "      <td>0.0</td>\n",
       "      <td>0.0</td>\n",
       "      <td>0.0</td>\n",
       "      <td>5.0</td>\n",
       "      <td>0.0</td>\n",
       "      <td>0.0</td>\n",
       "    </tr>\n",
       "    <tr>\n",
       "      <th>2</th>\n",
       "      <td>0.0</td>\n",
       "      <td>0.0</td>\n",
       "      <td>0.0</td>\n",
       "      <td>0.0</td>\n",
       "      <td>0.0</td>\n",
       "      <td>0.0</td>\n",
       "    </tr>\n",
       "    <tr>\n",
       "      <th>3</th>\n",
       "      <td>0.0</td>\n",
       "      <td>0.0</td>\n",
       "      <td>0.0</td>\n",
       "      <td>0.0</td>\n",
       "      <td>0.0</td>\n",
       "      <td>0.0</td>\n",
       "    </tr>\n",
       "    <tr>\n",
       "      <th>4</th>\n",
       "      <td>0.0</td>\n",
       "      <td>1.0</td>\n",
       "      <td>0.0</td>\n",
       "      <td>0.0</td>\n",
       "      <td>0.0</td>\n",
       "      <td>4.0</td>\n",
       "    </tr>\n",
       "    <tr>\n",
       "      <th>5</th>\n",
       "      <td>5.0</td>\n",
       "      <td>0.0</td>\n",
       "      <td>0.0</td>\n",
       "      <td>0.0</td>\n",
       "      <td>0.0</td>\n",
       "      <td>0.0</td>\n",
       "    </tr>\n",
       "  </tbody>\n",
       "</table>\n",
       "</div>"
      ],
      "text/plain": [
       "     0    1    2    3    4    5\n",
       "0  0.0  0.0  0.0  0.0  0.0  0.0\n",
       "1  0.0  0.0  0.0  5.0  0.0  0.0\n",
       "2  0.0  0.0  0.0  0.0  0.0  0.0\n",
       "3  0.0  0.0  0.0  0.0  0.0  0.0\n",
       "4  0.0  1.0  0.0  0.0  0.0  4.0\n",
       "5  5.0  0.0  0.0  0.0  0.0  0.0"
      ]
     },
     "execution_count": 24,
     "metadata": {},
     "output_type": "execute_result"
    }
   ],
   "source": [
    "emptyplusnoise(6,20)"
   ]
  },
  {
   "cell_type": "code",
   "execution_count": null,
   "id": "private-thumb",
   "metadata": {},
   "outputs": [],
   "source": []
  }
 ],
 "metadata": {
  "kernelspec": {
   "display_name": "Python 3",
   "language": "python",
   "name": "python3"
  },
  "language_info": {
   "codemirror_mode": {
    "name": "ipython",
    "version": 3
   },
   "file_extension": ".py",
   "mimetype": "text/x-python",
   "name": "python",
   "nbconvert_exporter": "python",
   "pygments_lexer": "ipython3",
   "version": "3.7.3"
  }
 },
 "nbformat": 4,
 "nbformat_minor": 5
}
