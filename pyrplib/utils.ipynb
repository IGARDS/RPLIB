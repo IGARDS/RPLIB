{
 "cells": [
  {
   "cell_type": "markdown",
   "id": "european-henry",
   "metadata": {},
   "source": [
    "# A Utility Library for Rankability Problems"
   ]
  },
  {
   "cell_type": "code",
   "execution_count": 7,
   "id": "received-insider",
   "metadata": {},
   "outputs": [],
   "source": [
    "import pandas as pd\n",
    "import itertools\n",
    "import numpy as np"
   ]
  },
  {
   "cell_type": "code",
   "execution_count": 6,
   "id": "signed-bahamas",
   "metadata": {},
   "outputs": [],
   "source": [
    "import sys\n",
    "from pathlib import Path\n",
    "home = str(Path.home())\n",
    "\n",
    "sys.path.insert(0,\"%s/rankability_toolbox_dev\"%home)\n",
    "sys.path.insert(0,\"%s/RPLib\"%home)\n",
    "import pyrankability"
   ]
  },
  {
   "cell_type": "markdown",
   "id": "current-tulsa",
   "metadata": {},
   "source": [
    "## Problem 1"
   ]
  },
  {
   "cell_type": "markdown",
   "id": "intense-circulation",
   "metadata": {},
   "source": [
    "### Generate"
   ]
  },
  {
   "cell_type": "code",
   "execution_count": 3,
   "id": "municipal-appointment",
   "metadata": {},
   "outputs": [],
   "source": [
    "# Constructs a dataframe from selected parameters\n",
    "# columns is a dictionary of form {col_name: col_value}\n",
    "def get_sel_df(columns):\n",
    "    sel_df = pd.DataFrame(columns=list(columns.keys()))\n",
    "    c = 0\n",
    "    print(list(columns.values()))\n",
    "    for values in itertools.product(*columns.values()):\n",
    "        print(values)\n",
    "        sel_df = sel_df.append(pd.Series(values, index=sel_df.columns, name=c))\n",
    "        c += 1\n",
    "\n",
    "    return sel_df"
   ]
  },
  {
   "cell_type": "code",
   "execution_count": 4,
   "id": "recovered-glass",
   "metadata": {},
   "outputs": [],
   "source": [
    "def filter_teams(games, remaining_games, teams_by_year):\n",
    "    for year, teams in teams_by_year.items():\n",
    "        team1_name = games[year].team1_name\n",
    "        team2_name = games[year].team2_name\n",
    "        games[year] = games[year].loc[team1_name.isin(teams) | team2_name.isin(teams)]\n",
    "\n",
    "        team1_name = remaining_games[year].team1_name\n",
    "        team2_name = remaining_games[year].team2_name\n",
    "        remaining_games[year] = remaining_games[year].loc[team1_name.isin(teams) | team2_name.isin(teams)]\n",
    "        \n",
    "    return games, remaining_games"
   ]
  },
  {
   "cell_type": "markdown",
   "id": "stock-satellite",
   "metadata": {},
   "source": [
    "### Baseline"
   ]
  },
  {
   "cell_type": "code",
   "execution_count": 5,
   "id": "demographic-consultation",
   "metadata": {},
   "outputs": [],
   "source": [
    "def compute_features(D,rankings,top_k,feature_columns):\n",
    "    top_teams = list(rankings.sort_values().index[:top_k])\n",
    "    D = D.loc[top_teams,top_teams]\n",
    "    delta_lop,details_lop = pyrankability.rank.solve(D.fillna(0),method='lop',cont=True)\n",
    "\n",
    "    x = pd.DataFrame(details_lop['x'],index=D.index,columns=D.columns)\n",
    "    r = x.sum(axis=0)\n",
    "    order = np.argsort(r)\n",
    "    xstar = x.iloc[order,:].iloc[:,order]\n",
    "    xstar.loc[:,:] = pyrankability.common.threshold_x(xstar.values)\n",
    "    inxs = np.triu_indices(len(xstar),k=1)\n",
    "    xstar_upper = xstar.values[inxs[0],inxs[1]]\n",
    "    nfrac_upper_lop = sum((xstar_upper > 0) & (xstar_upper < 1))\n",
    "    \n",
    "    top_teams = xstar.columns[:top_k]\n",
    "    \n",
    "    k_two_distant,details_two_distant = pyrankability.search.solve_pair(D.fillna(0),method='lop',minimize=False,verbose=False)\n",
    "    d_lop = k_two_distant#details_two_distant['tau']\n",
    "    \n",
    "    delta_hillside,details_hillside = pyrankability.rank.solve(D,method='hillside',cont=True)\n",
    "    \n",
    "    x = pd.DataFrame(details_hillside['x'],index=D.index,columns=D.columns)\n",
    "    r = x.sum(axis=0)\n",
    "    order = np.argsort(r)\n",
    "    xstar = x.iloc[order,:].iloc[:,order]\n",
    "    xstar.loc[:,:] = pyrankability.common.threshold_x(xstar.values)\n",
    "    inxs = np.triu_indices(len(xstar),k=1)\n",
    "    xstar_upper = xstar.values[inxs[0],inxs[1]]\n",
    "    nfrac_upper_hillside = sum((xstar_upper > 0) & (xstar_upper < 1))\n",
    "    \n",
    "    top_teams = xstar.columns[:top_k]\n",
    "    \n",
    "    k_two_distant,details_two_distant = pyrankability.search.solve_pair(D,method='hillside',minimize=False,verbose=False)\n",
    "    d_hillside = k_two_distant#details_two_distant['tau']\n",
    "    \n",
    "    features = pd.Series([delta_lop,delta_hillside,2*nfrac_upper_lop,2*nfrac_upper_hillside,d_lop,d_hillside],index=feature_columns)\n",
    "\n",
    "    return features"
   ]
  }
 ],
 "metadata": {
  "kernelspec": {
   "display_name": "Python 3",
   "language": "python",
   "name": "python3"
  },
  "language_info": {
   "codemirror_mode": {
    "name": "ipython",
    "version": 3
   },
   "file_extension": ".py",
   "mimetype": "text/x-python",
   "name": "python",
   "nbconvert_exporter": "python",
   "pygments_lexer": "ipython3",
   "version": "3.7.3"
  }
 },
 "nbformat": 4,
 "nbformat_minor": 5
}
