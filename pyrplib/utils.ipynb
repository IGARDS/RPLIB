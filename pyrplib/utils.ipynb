{
 "cells": [
  {
   "cell_type": "markdown",
   "id": "deadly-founder",
   "metadata": {},
   "source": [
    "# A Utility Library for Rankability Problems"
   ]
  },
  {
   "cell_type": "code",
   "execution_count": null,
   "id": "critical-northeast",
   "metadata": {},
   "outputs": [],
   "source": [
    "import pandas as pd\n",
    "import itertools"
   ]
  },
  {
   "cell_type": "markdown",
   "id": "sufficient-amsterdam",
   "metadata": {},
   "source": [
    "## Problem 1"
   ]
  },
  {
   "cell_type": "code",
   "execution_count": null,
   "id": "willing-california",
   "metadata": {},
   "outputs": [],
   "source": [
    "# Constructs a dataframe from selected parameters\n",
    "# columns is a dictionary of form {col_name: col_value}\n",
    "def get_sel_df(columns):\n",
    "    sel_df = pd.DataFrame(columns=list(columns.keys()))\n",
    "    c = 0\n",
    "    print(list(columns.values()))\n",
    "    for values in itertools.product(*columns.values()):\n",
    "        print(values)\n",
    "        sel_df = sel_df.append(pd.Series(values, index=sel_df.columns, name=c))\n",
    "        c += 1\n",
    "\n",
    "    return sel_df"
   ]
  },
  {
   "cell_type": "code",
   "execution_count": null,
   "id": "turned-alias",
   "metadata": {},
   "outputs": [],
   "source": [
    "def filter_teams(games, remaining_games, teams_by_year):\n",
    "    for year, teams in teams_by_year.items():\n",
    "        team1_name = games[year].team1_name\n",
    "        team2_name = games[year].team2_name\n",
    "        games[year] = games[year].loc[team1_name.isin(teams) | team2_name.isin(teams)]\n",
    "\n",
    "        team1_name = remaining_games[year].team1_name\n",
    "        team2_name = remaining_games[year].team2_name\n",
    "        remaining_games[year] = remaining_games[year].loc[team1_name.isin(teams) | team2_name.isin(teams)]\n",
    "        \n",
    "    return games, remaining_games"
   ]
  }
 ],
 "metadata": {
  "kernelspec": {
   "display_name": "Python 3",
   "language": "python",
   "name": "python3"
  },
  "language_info": {
   "codemirror_mode": {
    "name": "ipython",
    "version": 3
   },
   "file_extension": ".py",
   "mimetype": "text/x-python",
   "name": "python",
   "nbconvert_exporter": "python",
   "pygments_lexer": "ipython3",
   "version": "3.7.3"
  }
 },
 "nbformat": 4,
 "nbformat_minor": 5
}
