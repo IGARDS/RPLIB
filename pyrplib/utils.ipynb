{
 "cells": [
  {
   "cell_type": "markdown",
   "id": "molecular-snapshot",
   "metadata": {},
   "source": [
    "# A Utility Library for Rankability Problems"
   ]
  },
  {
   "cell_type": "code",
   "execution_count": null,
   "id": "strange-poultry",
   "metadata": {},
   "outputs": [],
   "source": [
    "import pandas as pd\n",
    "import itertools"
   ]
  },
  {
   "cell_type": "markdown",
   "id": "green-bathroom",
   "metadata": {},
   "source": [
    "## Problem 1"
   ]
  },
  {
   "cell_type": "code",
   "execution_count": null,
   "id": "finished-fifth",
   "metadata": {},
   "outputs": [],
   "source": [
    "# Constructs a dataframe from selected parameters\n",
    "# columns is a dictionary of form {col_name: col_value}\n",
    "def get_sel_df(columns):\n",
    "    sel_df = pd.DataFrame(columns=list(columns.keys()))\n",
    "    c = 0\n",
    "    print(list(columns.values()))\n",
    "    for values in itertools.product(*columns.values()):\n",
    "        print(values)\n",
    "        sel_df = sel_df.append(pd.Series(values, index=sel_df.columns, name=c))\n",
    "        c += 1\n",
    "\n",
    "    return sel_df"
   ]
  }
 ],
 "metadata": {
  "kernelspec": {
   "display_name": "Python 3",
   "language": "python",
   "name": "python3"
  },
  "language_info": {
   "codemirror_mode": {
    "name": "ipython",
    "version": 3
   },
   "file_extension": ".py",
   "mimetype": "text/x-python",
   "name": "python",
   "nbconvert_exporter": "python",
   "pygments_lexer": "ipython3",
   "version": "3.7.3"
  }
 },
 "nbformat": 4,
 "nbformat_minor": 5
}
