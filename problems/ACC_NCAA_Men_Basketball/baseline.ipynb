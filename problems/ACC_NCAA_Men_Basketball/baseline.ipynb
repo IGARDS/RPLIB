{
 "cells": [
  {
   "cell_type": "markdown",
   "metadata": {},
   "source": [
    "# RPLib Problem 0001 - Baseline\n",
    "\n",
    "Provides the baseline version to rankability problem 0001. "
   ]
  },
  {
   "cell_type": "code",
   "execution_count": 1,
   "metadata": {},
   "outputs": [],
   "source": [
    "%load_ext autoreload\n",
    "%autoreload 2\n",
    "%matplotlib inline"
   ]
  },
  {
   "cell_type": "code",
   "execution_count": 2,
   "metadata": {},
   "outputs": [],
   "source": [
    "import copy\n",
    "import os\n",
    "\n",
    "import pandas as pd\n",
    "import numpy as np\n",
    "\n",
    "from scipy.stats import pearsonr\n",
    "\n",
    "from tqdm import tqdm\n",
    "from joblib import Parallel, delayed\n",
    "import joblib\n",
    "import itertools\n",
    "from pathlib import Path\n",
    "from sklearn.pipeline import Pipeline\n",
    "\n",
    "from IPython.display import display, Markdown, Latex"
   ]
  },
  {
   "cell_type": "markdown",
   "metadata": {},
   "source": [
    "**All packages are relative to the home directory of the user**"
   ]
  },
  {
   "cell_type": "code",
   "execution_count": 3,
   "metadata": {},
   "outputs": [],
   "source": [
    "home = str(Path.home())"
   ]
  },
  {
   "cell_type": "markdown",
   "metadata": {},
   "source": [
    "**Import the main rankability package**"
   ]
  },
  {
   "cell_type": "code",
   "execution_count": 4,
   "metadata": {},
   "outputs": [],
   "source": [
    "import sys\n",
    "sys.path.insert(0,\"%s/rankability_toolbox_dev\"%home)\n",
    "import pyrankability"
   ]
  },
  {
   "cell_type": "code",
   "execution_count": 5,
   "metadata": {},
   "outputs": [],
   "source": [
    "sys.path.insert(0,\"%s/RPLib\"%home)\n",
    "import pyrplib"
   ]
  },
  {
   "cell_type": "markdown",
   "metadata": {},
   "source": [
    "**Load the problem information**"
   ]
  },
  {
   "cell_type": "code",
   "execution_count": 6,
   "metadata": {},
   "outputs": [],
   "source": [
    "problem = joblib.load(\"generate.joblib.z\")"
   ]
  },
  {
   "cell_type": "markdown",
   "metadata": {},
   "source": [
    "## Explore and setup the problem"
   ]
  },
  {
   "cell_type": "code",
   "execution_count": 7,
   "metadata": {},
   "outputs": [
    {
     "data": {
      "text/plain": [
       "dict_keys(['description', 'target', 'data', 'other'])"
      ]
     },
     "execution_count": 7,
     "metadata": {},
     "output_type": "execute_result"
    }
   ],
   "source": [
    "problem.keys()"
   ]
  },
  {
   "cell_type": "code",
   "execution_count": 8,
   "metadata": {},
   "outputs": [
    {
     "name": "stdout",
     "output_type": "stream",
     "text": [
      "First representative example for the rankability library. Built around the study of NCAA Men's Basketball league.\n"
     ]
    }
   ],
   "source": [
    "print(problem[\"description\"])"
   ]
  },
  {
   "cell_type": "code",
   "execution_count": 9,
   "metadata": {},
   "outputs": [
    {
     "data": {
      "text/html": [
       "<div>\n",
       "<style scoped>\n",
       "    .dataframe tbody tr th:only-of-type {\n",
       "        vertical-align: middle;\n",
       "    }\n",
       "\n",
       "    .dataframe tbody tr th {\n",
       "        vertical-align: top;\n",
       "    }\n",
       "\n",
       "    .dataframe thead th {\n",
       "        text-align: right;\n",
       "    }\n",
       "</style>\n",
       "<table border=\"1\" class=\"dataframe\">\n",
       "  <thead>\n",
       "    <tr style=\"text-align: right;\">\n",
       "      <th></th>\n",
       "      <th>days_to_subtract1</th>\n",
       "      <th>days_to_subtract2</th>\n",
       "      <th>domain</th>\n",
       "      <th>range</th>\n",
       "      <th>direct_thres</th>\n",
       "      <th>spread_thres</th>\n",
       "      <th>weight_indirect</th>\n",
       "      <th>Method</th>\n",
       "      <th>Year</th>\n",
       "      <th>rankings1</th>\n",
       "      <th>rankings2</th>\n",
       "      <th>top10_jaccard</th>\n",
       "      <th>top10_tau</th>\n",
       "      <th>days_diff</th>\n",
       "    </tr>\n",
       "  </thead>\n",
       "  <tbody>\n",
       "    <tr>\n",
       "      <th>0</th>\n",
       "      <td>28</td>\n",
       "      <td>35</td>\n",
       "      <td>all</td>\n",
       "      <td>madness</td>\n",
       "      <td>0</td>\n",
       "      <td>0</td>\n",
       "      <td>0.1</td>\n",
       "      <td>Colley</td>\n",
       "      <td>2002</td>\n",
       "      <td>Alabama       6.0\n",
       "Arizona       7.0\n",
       "Cincinnati...</td>\n",
       "      <td>Alabama       6.0\n",
       "Arizona       7.0\n",
       "Cincinnati...</td>\n",
       "      <td>0.800000</td>\n",
       "      <td>0.388889</td>\n",
       "      <td>7</td>\n",
       "    </tr>\n",
       "    <tr>\n",
       "      <th>1</th>\n",
       "      <td>21</td>\n",
       "      <td>35</td>\n",
       "      <td>all</td>\n",
       "      <td>madness</td>\n",
       "      <td>0</td>\n",
       "      <td>0</td>\n",
       "      <td>0.1</td>\n",
       "      <td>Colley</td>\n",
       "      <td>2002</td>\n",
       "      <td>Alabama       5.0\n",
       "Arizona       9.0\n",
       "Cincinnati...</td>\n",
       "      <td>Alabama       6.0\n",
       "Arizona       7.0\n",
       "Cincinnati...</td>\n",
       "      <td>0.636364</td>\n",
       "      <td>-0.111111</td>\n",
       "      <td>14</td>\n",
       "    </tr>\n",
       "    <tr>\n",
       "      <th>2</th>\n",
       "      <td>14</td>\n",
       "      <td>35</td>\n",
       "      <td>all</td>\n",
       "      <td>madness</td>\n",
       "      <td>0</td>\n",
       "      <td>0</td>\n",
       "      <td>0.1</td>\n",
       "      <td>Colley</td>\n",
       "      <td>2002</td>\n",
       "      <td>Alabama       6.0\n",
       "Arizona       9.0\n",
       "Cincinnati...</td>\n",
       "      <td>Alabama       6.0\n",
       "Arizona       7.0\n",
       "Cincinnati...</td>\n",
       "      <td>0.800000</td>\n",
       "      <td>-0.055556</td>\n",
       "      <td>21</td>\n",
       "    </tr>\n",
       "    <tr>\n",
       "      <th>3</th>\n",
       "      <td>7</td>\n",
       "      <td>35</td>\n",
       "      <td>all</td>\n",
       "      <td>madness</td>\n",
       "      <td>0</td>\n",
       "      <td>0</td>\n",
       "      <td>0.1</td>\n",
       "      <td>Colley</td>\n",
       "      <td>2002</td>\n",
       "      <td>Alabama       6.0\n",
       "Arizona       7.0\n",
       "Cincinnati...</td>\n",
       "      <td>Alabama       6.0\n",
       "Arizona       7.0\n",
       "Cincinnati...</td>\n",
       "      <td>0.800000</td>\n",
       "      <td>0.000000</td>\n",
       "      <td>28</td>\n",
       "    </tr>\n",
       "    <tr>\n",
       "      <th>4</th>\n",
       "      <td>21</td>\n",
       "      <td>28</td>\n",
       "      <td>all</td>\n",
       "      <td>madness</td>\n",
       "      <td>0</td>\n",
       "      <td>0</td>\n",
       "      <td>0.1</td>\n",
       "      <td>Colley</td>\n",
       "      <td>2002</td>\n",
       "      <td>Alabama       5.0\n",
       "Arizona       9.0\n",
       "Cincinnati...</td>\n",
       "      <td>Alabama       6.0\n",
       "Arizona       7.0\n",
       "Cincinnati...</td>\n",
       "      <td>0.800000</td>\n",
       "      <td>-0.722222</td>\n",
       "      <td>7</td>\n",
       "    </tr>\n",
       "    <tr>\n",
       "      <th>...</th>\n",
       "      <td>...</td>\n",
       "      <td>...</td>\n",
       "      <td>...</td>\n",
       "      <td>...</td>\n",
       "      <td>...</td>\n",
       "      <td>...</td>\n",
       "      <td>...</td>\n",
       "      <td>...</td>\n",
       "      <td>...</td>\n",
       "      <td>...</td>\n",
       "      <td>...</td>\n",
       "      <td>...</td>\n",
       "      <td>...</td>\n",
       "      <td>...</td>\n",
       "    </tr>\n",
       "    <tr>\n",
       "      <th>1695</th>\n",
       "      <td>14</td>\n",
       "      <td>28</td>\n",
       "      <td>all</td>\n",
       "      <td>madness</td>\n",
       "      <td>0</td>\n",
       "      <td>0</td>\n",
       "      <td>0.1</td>\n",
       "      <td>Massey</td>\n",
       "      <td>2018</td>\n",
       "      <td>Cincinnati        8.0\n",
       "Duke              2.0\n",
       "Ka...</td>\n",
       "      <td>Cincinnati        6.0\n",
       "Duke              4.0\n",
       "Ka...</td>\n",
       "      <td>0.800000</td>\n",
       "      <td>0.222222</td>\n",
       "      <td>14</td>\n",
       "    </tr>\n",
       "    <tr>\n",
       "      <th>1696</th>\n",
       "      <td>7</td>\n",
       "      <td>28</td>\n",
       "      <td>all</td>\n",
       "      <td>madness</td>\n",
       "      <td>0</td>\n",
       "      <td>0</td>\n",
       "      <td>0.1</td>\n",
       "      <td>Massey</td>\n",
       "      <td>2018</td>\n",
       "      <td>Cincinnati        7.0\n",
       "Duke              2.0\n",
       "Ka...</td>\n",
       "      <td>Cincinnati        6.0\n",
       "Duke              4.0\n",
       "Ka...</td>\n",
       "      <td>0.800000</td>\n",
       "      <td>-0.111111</td>\n",
       "      <td>21</td>\n",
       "    </tr>\n",
       "    <tr>\n",
       "      <th>1697</th>\n",
       "      <td>14</td>\n",
       "      <td>21</td>\n",
       "      <td>all</td>\n",
       "      <td>madness</td>\n",
       "      <td>0</td>\n",
       "      <td>0</td>\n",
       "      <td>0.1</td>\n",
       "      <td>Massey</td>\n",
       "      <td>2018</td>\n",
       "      <td>Cincinnati        8.0\n",
       "Duke              2.0\n",
       "Ka...</td>\n",
       "      <td>Cincinnati        7.0\n",
       "Duke              3.0\n",
       "Ka...</td>\n",
       "      <td>0.800000</td>\n",
       "      <td>0.222222</td>\n",
       "      <td>7</td>\n",
       "    </tr>\n",
       "    <tr>\n",
       "      <th>1698</th>\n",
       "      <td>7</td>\n",
       "      <td>21</td>\n",
       "      <td>all</td>\n",
       "      <td>madness</td>\n",
       "      <td>0</td>\n",
       "      <td>0</td>\n",
       "      <td>0.1</td>\n",
       "      <td>Massey</td>\n",
       "      <td>2018</td>\n",
       "      <td>Cincinnati        7.0\n",
       "Duke              2.0\n",
       "Ka...</td>\n",
       "      <td>Cincinnati        7.0\n",
       "Duke              3.0\n",
       "Ka...</td>\n",
       "      <td>0.800000</td>\n",
       "      <td>0.222222</td>\n",
       "      <td>14</td>\n",
       "    </tr>\n",
       "    <tr>\n",
       "      <th>1699</th>\n",
       "      <td>7</td>\n",
       "      <td>14</td>\n",
       "      <td>all</td>\n",
       "      <td>madness</td>\n",
       "      <td>0</td>\n",
       "      <td>0</td>\n",
       "      <td>0.1</td>\n",
       "      <td>Massey</td>\n",
       "      <td>2018</td>\n",
       "      <td>Cincinnati        7.0\n",
       "Duke              2.0\n",
       "Ka...</td>\n",
       "      <td>Cincinnati        8.0\n",
       "Duke              2.0\n",
       "Ka...</td>\n",
       "      <td>1.000000</td>\n",
       "      <td>0.333333</td>\n",
       "      <td>7</td>\n",
       "    </tr>\n",
       "  </tbody>\n",
       "</table>\n",
       "<p>1700 rows × 14 columns</p>\n",
       "</div>"
      ],
      "text/plain": [
       "     days_to_subtract1 days_to_subtract2 domain    range direct_thres  \\\n",
       "0                   28                35    all  madness            0   \n",
       "1                   21                35    all  madness            0   \n",
       "2                   14                35    all  madness            0   \n",
       "3                    7                35    all  madness            0   \n",
       "4                   21                28    all  madness            0   \n",
       "...                ...               ...    ...      ...          ...   \n",
       "1695                14                28    all  madness            0   \n",
       "1696                 7                28    all  madness            0   \n",
       "1697                14                21    all  madness            0   \n",
       "1698                 7                21    all  madness            0   \n",
       "1699                 7                14    all  madness            0   \n",
       "\n",
       "     spread_thres  weight_indirect  Method  Year  \\\n",
       "0               0              0.1  Colley  2002   \n",
       "1               0              0.1  Colley  2002   \n",
       "2               0              0.1  Colley  2002   \n",
       "3               0              0.1  Colley  2002   \n",
       "4               0              0.1  Colley  2002   \n",
       "...           ...              ...     ...   ...   \n",
       "1695            0              0.1  Massey  2018   \n",
       "1696            0              0.1  Massey  2018   \n",
       "1697            0              0.1  Massey  2018   \n",
       "1698            0              0.1  Massey  2018   \n",
       "1699            0              0.1  Massey  2018   \n",
       "\n",
       "                                              rankings1  \\\n",
       "0     Alabama       6.0\n",
       "Arizona       7.0\n",
       "Cincinnati...   \n",
       "1     Alabama       5.0\n",
       "Arizona       9.0\n",
       "Cincinnati...   \n",
       "2     Alabama       6.0\n",
       "Arizona       9.0\n",
       "Cincinnati...   \n",
       "3     Alabama       6.0\n",
       "Arizona       7.0\n",
       "Cincinnati...   \n",
       "4     Alabama       5.0\n",
       "Arizona       9.0\n",
       "Cincinnati...   \n",
       "...                                                 ...   \n",
       "1695  Cincinnati        8.0\n",
       "Duke              2.0\n",
       "Ka...   \n",
       "1696  Cincinnati        7.0\n",
       "Duke              2.0\n",
       "Ka...   \n",
       "1697  Cincinnati        8.0\n",
       "Duke              2.0\n",
       "Ka...   \n",
       "1698  Cincinnati        7.0\n",
       "Duke              2.0\n",
       "Ka...   \n",
       "1699  Cincinnati        7.0\n",
       "Duke              2.0\n",
       "Ka...   \n",
       "\n",
       "                                              rankings2  top10_jaccard  \\\n",
       "0     Alabama       6.0\n",
       "Arizona       7.0\n",
       "Cincinnati...       0.800000   \n",
       "1     Alabama       6.0\n",
       "Arizona       7.0\n",
       "Cincinnati...       0.636364   \n",
       "2     Alabama       6.0\n",
       "Arizona       7.0\n",
       "Cincinnati...       0.800000   \n",
       "3     Alabama       6.0\n",
       "Arizona       7.0\n",
       "Cincinnati...       0.800000   \n",
       "4     Alabama       6.0\n",
       "Arizona       7.0\n",
       "Cincinnati...       0.800000   \n",
       "...                                                 ...            ...   \n",
       "1695  Cincinnati        6.0\n",
       "Duke              4.0\n",
       "Ka...       0.800000   \n",
       "1696  Cincinnati        6.0\n",
       "Duke              4.0\n",
       "Ka...       0.800000   \n",
       "1697  Cincinnati        7.0\n",
       "Duke              3.0\n",
       "Ka...       0.800000   \n",
       "1698  Cincinnati        7.0\n",
       "Duke              3.0\n",
       "Ka...       0.800000   \n",
       "1699  Cincinnati        8.0\n",
       "Duke              2.0\n",
       "Ka...       1.000000   \n",
       "\n",
       "      top10_tau days_diff  \n",
       "0      0.388889         7  \n",
       "1     -0.111111        14  \n",
       "2     -0.055556        21  \n",
       "3      0.000000        28  \n",
       "4     -0.722222         7  \n",
       "...         ...       ...  \n",
       "1695   0.222222        14  \n",
       "1696  -0.111111        21  \n",
       "1697   0.222222         7  \n",
       "1698   0.222222        14  \n",
       "1699   0.333333         7  \n",
       "\n",
       "[1700 rows x 14 columns]"
      ]
     },
     "execution_count": 9,
     "metadata": {},
     "output_type": "execute_result"
    }
   ],
   "source": [
    "problem['target']"
   ]
  },
  {
   "cell_type": "code",
   "execution_count": 10,
   "metadata": {},
   "outputs": [
    {
     "data": {
      "text/plain": [
       "dict_keys(['2002', '2003', '2004', '2005', '2006', '2007', '2008', '2009', '2010', '2011', '2012', '2013', '2014', '2015', '2016', '2017', '2018'])"
      ]
     },
     "execution_count": 10,
     "metadata": {},
     "output_type": "execute_result"
    }
   ],
   "source": [
    "problem['data'].keys()"
   ]
  },
  {
   "cell_type": "code",
   "execution_count": 11,
   "metadata": {},
   "outputs": [
    {
     "data": {
      "text/plain": [
       "dict_keys(['days_to_subtract=35', 'days_to_subtract=28', 'days_to_subtract=21', 'days_to_subtract=14', 'days_to_subtract=7'])"
      ]
     },
     "execution_count": 11,
     "metadata": {},
     "output_type": "execute_result"
    }
   ],
   "source": [
    "problem['data']['2002'].keys()"
   ]
  },
  {
   "cell_type": "markdown",
   "metadata": {},
   "source": [
    "**Create easier to reference variables**"
   ]
  },
  {
   "cell_type": "code",
   "execution_count": 12,
   "metadata": {},
   "outputs": [],
   "source": [
    "years = list(problem['data'].keys())\n",
    "days_to_subtract_keys = list(problem['data'][years[0]].keys())\n",
    "remaining_games = problem['other']['remaining_games']\n",
    "madness_teams = problem['other']['madness_teams']\n",
    "best_df = problem['other']['best_df']\n",
    "top_k = problem['other']['top_k']\n",
    "#target_column = f\"top{top_k}_intersection\"\n",
    "feature_names = problem['other']['feature_names']"
   ]
  },
  {
   "cell_type": "code",
   "execution_count": 13,
   "metadata": {},
   "outputs": [
    {
     "data": {
      "text/plain": [
       "['days_to_subtract=35',\n",
       " 'days_to_subtract=28',\n",
       " 'days_to_subtract=21',\n",
       " 'days_to_subtract=14',\n",
       " 'days_to_subtract=7']"
      ]
     },
     "execution_count": 13,
     "metadata": {},
     "output_type": "execute_result"
    }
   ],
   "source": [
    "days_to_subtract_keys"
   ]
  },
  {
   "cell_type": "code",
   "execution_count": 14,
   "metadata": {},
   "outputs": [],
   "source": [
    "target = problem['target']"
   ]
  },
  {
   "cell_type": "code",
   "execution_count": 15,
   "metadata": {},
   "outputs": [
    {
     "data": {
      "text/html": [
       "<div>\n",
       "<style scoped>\n",
       "    .dataframe tbody tr th:only-of-type {\n",
       "        vertical-align: middle;\n",
       "    }\n",
       "\n",
       "    .dataframe tbody tr th {\n",
       "        vertical-align: top;\n",
       "    }\n",
       "\n",
       "    .dataframe thead th {\n",
       "        text-align: right;\n",
       "    }\n",
       "</style>\n",
       "<table border=\"1\" class=\"dataframe\">\n",
       "  <thead>\n",
       "    <tr style=\"text-align: right;\">\n",
       "      <th></th>\n",
       "      <th>days_to_subtract1</th>\n",
       "      <th>days_to_subtract2</th>\n",
       "      <th>domain</th>\n",
       "      <th>range</th>\n",
       "      <th>direct_thres</th>\n",
       "      <th>spread_thres</th>\n",
       "      <th>weight_indirect</th>\n",
       "      <th>Method</th>\n",
       "      <th>Year</th>\n",
       "      <th>rankings1</th>\n",
       "      <th>rankings2</th>\n",
       "      <th>top10_jaccard</th>\n",
       "      <th>top10_tau</th>\n",
       "      <th>days_diff</th>\n",
       "    </tr>\n",
       "  </thead>\n",
       "  <tbody>\n",
       "    <tr>\n",
       "      <th>0</th>\n",
       "      <td>28</td>\n",
       "      <td>35</td>\n",
       "      <td>all</td>\n",
       "      <td>madness</td>\n",
       "      <td>0</td>\n",
       "      <td>0</td>\n",
       "      <td>0.1</td>\n",
       "      <td>Colley</td>\n",
       "      <td>2002</td>\n",
       "      <td>Alabama       6.0\n",
       "Arizona       7.0\n",
       "Cincinnati...</td>\n",
       "      <td>Alabama       6.0\n",
       "Arizona       7.0\n",
       "Cincinnati...</td>\n",
       "      <td>0.800000</td>\n",
       "      <td>0.388889</td>\n",
       "      <td>7</td>\n",
       "    </tr>\n",
       "    <tr>\n",
       "      <th>1</th>\n",
       "      <td>21</td>\n",
       "      <td>35</td>\n",
       "      <td>all</td>\n",
       "      <td>madness</td>\n",
       "      <td>0</td>\n",
       "      <td>0</td>\n",
       "      <td>0.1</td>\n",
       "      <td>Colley</td>\n",
       "      <td>2002</td>\n",
       "      <td>Alabama       5.0\n",
       "Arizona       9.0\n",
       "Cincinnati...</td>\n",
       "      <td>Alabama       6.0\n",
       "Arizona       7.0\n",
       "Cincinnati...</td>\n",
       "      <td>0.636364</td>\n",
       "      <td>-0.111111</td>\n",
       "      <td>14</td>\n",
       "    </tr>\n",
       "    <tr>\n",
       "      <th>2</th>\n",
       "      <td>14</td>\n",
       "      <td>35</td>\n",
       "      <td>all</td>\n",
       "      <td>madness</td>\n",
       "      <td>0</td>\n",
       "      <td>0</td>\n",
       "      <td>0.1</td>\n",
       "      <td>Colley</td>\n",
       "      <td>2002</td>\n",
       "      <td>Alabama       6.0\n",
       "Arizona       9.0\n",
       "Cincinnati...</td>\n",
       "      <td>Alabama       6.0\n",
       "Arizona       7.0\n",
       "Cincinnati...</td>\n",
       "      <td>0.800000</td>\n",
       "      <td>-0.055556</td>\n",
       "      <td>21</td>\n",
       "    </tr>\n",
       "    <tr>\n",
       "      <th>3</th>\n",
       "      <td>7</td>\n",
       "      <td>35</td>\n",
       "      <td>all</td>\n",
       "      <td>madness</td>\n",
       "      <td>0</td>\n",
       "      <td>0</td>\n",
       "      <td>0.1</td>\n",
       "      <td>Colley</td>\n",
       "      <td>2002</td>\n",
       "      <td>Alabama       6.0\n",
       "Arizona       7.0\n",
       "Cincinnati...</td>\n",
       "      <td>Alabama       6.0\n",
       "Arizona       7.0\n",
       "Cincinnati...</td>\n",
       "      <td>0.800000</td>\n",
       "      <td>0.000000</td>\n",
       "      <td>28</td>\n",
       "    </tr>\n",
       "    <tr>\n",
       "      <th>4</th>\n",
       "      <td>21</td>\n",
       "      <td>28</td>\n",
       "      <td>all</td>\n",
       "      <td>madness</td>\n",
       "      <td>0</td>\n",
       "      <td>0</td>\n",
       "      <td>0.1</td>\n",
       "      <td>Colley</td>\n",
       "      <td>2002</td>\n",
       "      <td>Alabama       5.0\n",
       "Arizona       9.0\n",
       "Cincinnati...</td>\n",
       "      <td>Alabama       6.0\n",
       "Arizona       7.0\n",
       "Cincinnati...</td>\n",
       "      <td>0.800000</td>\n",
       "      <td>-0.722222</td>\n",
       "      <td>7</td>\n",
       "    </tr>\n",
       "    <tr>\n",
       "      <th>...</th>\n",
       "      <td>...</td>\n",
       "      <td>...</td>\n",
       "      <td>...</td>\n",
       "      <td>...</td>\n",
       "      <td>...</td>\n",
       "      <td>...</td>\n",
       "      <td>...</td>\n",
       "      <td>...</td>\n",
       "      <td>...</td>\n",
       "      <td>...</td>\n",
       "      <td>...</td>\n",
       "      <td>...</td>\n",
       "      <td>...</td>\n",
       "      <td>...</td>\n",
       "    </tr>\n",
       "    <tr>\n",
       "      <th>1695</th>\n",
       "      <td>14</td>\n",
       "      <td>28</td>\n",
       "      <td>all</td>\n",
       "      <td>madness</td>\n",
       "      <td>0</td>\n",
       "      <td>0</td>\n",
       "      <td>0.1</td>\n",
       "      <td>Massey</td>\n",
       "      <td>2018</td>\n",
       "      <td>Cincinnati        8.0\n",
       "Duke              2.0\n",
       "Ka...</td>\n",
       "      <td>Cincinnati        6.0\n",
       "Duke              4.0\n",
       "Ka...</td>\n",
       "      <td>0.800000</td>\n",
       "      <td>0.222222</td>\n",
       "      <td>14</td>\n",
       "    </tr>\n",
       "    <tr>\n",
       "      <th>1696</th>\n",
       "      <td>7</td>\n",
       "      <td>28</td>\n",
       "      <td>all</td>\n",
       "      <td>madness</td>\n",
       "      <td>0</td>\n",
       "      <td>0</td>\n",
       "      <td>0.1</td>\n",
       "      <td>Massey</td>\n",
       "      <td>2018</td>\n",
       "      <td>Cincinnati        7.0\n",
       "Duke              2.0\n",
       "Ka...</td>\n",
       "      <td>Cincinnati        6.0\n",
       "Duke              4.0\n",
       "Ka...</td>\n",
       "      <td>0.800000</td>\n",
       "      <td>-0.111111</td>\n",
       "      <td>21</td>\n",
       "    </tr>\n",
       "    <tr>\n",
       "      <th>1697</th>\n",
       "      <td>14</td>\n",
       "      <td>21</td>\n",
       "      <td>all</td>\n",
       "      <td>madness</td>\n",
       "      <td>0</td>\n",
       "      <td>0</td>\n",
       "      <td>0.1</td>\n",
       "      <td>Massey</td>\n",
       "      <td>2018</td>\n",
       "      <td>Cincinnati        8.0\n",
       "Duke              2.0\n",
       "Ka...</td>\n",
       "      <td>Cincinnati        7.0\n",
       "Duke              3.0\n",
       "Ka...</td>\n",
       "      <td>0.800000</td>\n",
       "      <td>0.222222</td>\n",
       "      <td>7</td>\n",
       "    </tr>\n",
       "    <tr>\n",
       "      <th>1698</th>\n",
       "      <td>7</td>\n",
       "      <td>21</td>\n",
       "      <td>all</td>\n",
       "      <td>madness</td>\n",
       "      <td>0</td>\n",
       "      <td>0</td>\n",
       "      <td>0.1</td>\n",
       "      <td>Massey</td>\n",
       "      <td>2018</td>\n",
       "      <td>Cincinnati        7.0\n",
       "Duke              2.0\n",
       "Ka...</td>\n",
       "      <td>Cincinnati        7.0\n",
       "Duke              3.0\n",
       "Ka...</td>\n",
       "      <td>0.800000</td>\n",
       "      <td>0.222222</td>\n",
       "      <td>14</td>\n",
       "    </tr>\n",
       "    <tr>\n",
       "      <th>1699</th>\n",
       "      <td>7</td>\n",
       "      <td>14</td>\n",
       "      <td>all</td>\n",
       "      <td>madness</td>\n",
       "      <td>0</td>\n",
       "      <td>0</td>\n",
       "      <td>0.1</td>\n",
       "      <td>Massey</td>\n",
       "      <td>2018</td>\n",
       "      <td>Cincinnati        7.0\n",
       "Duke              2.0\n",
       "Ka...</td>\n",
       "      <td>Cincinnati        8.0\n",
       "Duke              2.0\n",
       "Ka...</td>\n",
       "      <td>1.000000</td>\n",
       "      <td>0.333333</td>\n",
       "      <td>7</td>\n",
       "    </tr>\n",
       "  </tbody>\n",
       "</table>\n",
       "<p>1700 rows × 14 columns</p>\n",
       "</div>"
      ],
      "text/plain": [
       "     days_to_subtract1 days_to_subtract2 domain    range direct_thres  \\\n",
       "0                   28                35    all  madness            0   \n",
       "1                   21                35    all  madness            0   \n",
       "2                   14                35    all  madness            0   \n",
       "3                    7                35    all  madness            0   \n",
       "4                   21                28    all  madness            0   \n",
       "...                ...               ...    ...      ...          ...   \n",
       "1695                14                28    all  madness            0   \n",
       "1696                 7                28    all  madness            0   \n",
       "1697                14                21    all  madness            0   \n",
       "1698                 7                21    all  madness            0   \n",
       "1699                 7                14    all  madness            0   \n",
       "\n",
       "     spread_thres  weight_indirect  Method  Year  \\\n",
       "0               0              0.1  Colley  2002   \n",
       "1               0              0.1  Colley  2002   \n",
       "2               0              0.1  Colley  2002   \n",
       "3               0              0.1  Colley  2002   \n",
       "4               0              0.1  Colley  2002   \n",
       "...           ...              ...     ...   ...   \n",
       "1695            0              0.1  Massey  2018   \n",
       "1696            0              0.1  Massey  2018   \n",
       "1697            0              0.1  Massey  2018   \n",
       "1698            0              0.1  Massey  2018   \n",
       "1699            0              0.1  Massey  2018   \n",
       "\n",
       "                                              rankings1  \\\n",
       "0     Alabama       6.0\n",
       "Arizona       7.0\n",
       "Cincinnati...   \n",
       "1     Alabama       5.0\n",
       "Arizona       9.0\n",
       "Cincinnati...   \n",
       "2     Alabama       6.0\n",
       "Arizona       9.0\n",
       "Cincinnati...   \n",
       "3     Alabama       6.0\n",
       "Arizona       7.0\n",
       "Cincinnati...   \n",
       "4     Alabama       5.0\n",
       "Arizona       9.0\n",
       "Cincinnati...   \n",
       "...                                                 ...   \n",
       "1695  Cincinnati        8.0\n",
       "Duke              2.0\n",
       "Ka...   \n",
       "1696  Cincinnati        7.0\n",
       "Duke              2.0\n",
       "Ka...   \n",
       "1697  Cincinnati        8.0\n",
       "Duke              2.0\n",
       "Ka...   \n",
       "1698  Cincinnati        7.0\n",
       "Duke              2.0\n",
       "Ka...   \n",
       "1699  Cincinnati        7.0\n",
       "Duke              2.0\n",
       "Ka...   \n",
       "\n",
       "                                              rankings2  top10_jaccard  \\\n",
       "0     Alabama       6.0\n",
       "Arizona       7.0\n",
       "Cincinnati...       0.800000   \n",
       "1     Alabama       6.0\n",
       "Arizona       7.0\n",
       "Cincinnati...       0.636364   \n",
       "2     Alabama       6.0\n",
       "Arizona       7.0\n",
       "Cincinnati...       0.800000   \n",
       "3     Alabama       6.0\n",
       "Arizona       7.0\n",
       "Cincinnati...       0.800000   \n",
       "4     Alabama       6.0\n",
       "Arizona       7.0\n",
       "Cincinnati...       0.800000   \n",
       "...                                                 ...            ...   \n",
       "1695  Cincinnati        6.0\n",
       "Duke              4.0\n",
       "Ka...       0.800000   \n",
       "1696  Cincinnati        6.0\n",
       "Duke              4.0\n",
       "Ka...       0.800000   \n",
       "1697  Cincinnati        7.0\n",
       "Duke              3.0\n",
       "Ka...       0.800000   \n",
       "1698  Cincinnati        7.0\n",
       "Duke              3.0\n",
       "Ka...       0.800000   \n",
       "1699  Cincinnati        8.0\n",
       "Duke              2.0\n",
       "Ka...       1.000000   \n",
       "\n",
       "      top10_tau days_diff  \n",
       "0      0.388889         7  \n",
       "1     -0.111111        14  \n",
       "2     -0.055556        21  \n",
       "3      0.000000        28  \n",
       "4     -0.722222         7  \n",
       "...         ...       ...  \n",
       "1695   0.222222        14  \n",
       "1696  -0.111111        21  \n",
       "1697   0.222222         7  \n",
       "1698   0.222222        14  \n",
       "1699   0.333333         7  \n",
       "\n",
       "[1700 rows x 14 columns]"
      ]
     },
     "execution_count": 15,
     "metadata": {},
     "output_type": "execute_result"
    }
   ],
   "source": [
    "target"
   ]
  },
  {
   "cell_type": "markdown",
   "metadata": {},
   "source": [
    "## Create D matrices"
   ]
  },
  {
   "cell_type": "code",
   "execution_count": 16,
   "metadata": {},
   "outputs": [
    {
     "data": {
      "text/html": [
       "<div>\n",
       "<style scoped>\n",
       "    .dataframe tbody tr th:only-of-type {\n",
       "        vertical-align: middle;\n",
       "    }\n",
       "\n",
       "    .dataframe tbody tr th {\n",
       "        vertical-align: top;\n",
       "    }\n",
       "\n",
       "    .dataframe thead th {\n",
       "        text-align: right;\n",
       "    }\n",
       "</style>\n",
       "<table border=\"1\" class=\"dataframe\">\n",
       "  <thead>\n",
       "    <tr style=\"text-align: right;\">\n",
       "      <th></th>\n",
       "      <th>days_to_subtract</th>\n",
       "      <th>Method</th>\n",
       "      <th>domain</th>\n",
       "      <th>range</th>\n",
       "      <th>direct_thres</th>\n",
       "      <th>spread_thres</th>\n",
       "      <th>weight_indirect</th>\n",
       "    </tr>\n",
       "  </thead>\n",
       "  <tbody>\n",
       "    <tr>\n",
       "      <th>0</th>\n",
       "      <td>7</td>\n",
       "      <td>Colley</td>\n",
       "      <td>all</td>\n",
       "      <td>madness</td>\n",
       "      <td>0</td>\n",
       "      <td>0</td>\n",
       "      <td>0.1</td>\n",
       "    </tr>\n",
       "    <tr>\n",
       "      <th>1</th>\n",
       "      <td>7</td>\n",
       "      <td>Massey</td>\n",
       "      <td>all</td>\n",
       "      <td>madness</td>\n",
       "      <td>0</td>\n",
       "      <td>0</td>\n",
       "      <td>0.1</td>\n",
       "    </tr>\n",
       "    <tr>\n",
       "      <th>2</th>\n",
       "      <td>14</td>\n",
       "      <td>Colley</td>\n",
       "      <td>all</td>\n",
       "      <td>madness</td>\n",
       "      <td>0</td>\n",
       "      <td>0</td>\n",
       "      <td>0.1</td>\n",
       "    </tr>\n",
       "    <tr>\n",
       "      <th>3</th>\n",
       "      <td>14</td>\n",
       "      <td>Massey</td>\n",
       "      <td>all</td>\n",
       "      <td>madness</td>\n",
       "      <td>0</td>\n",
       "      <td>0</td>\n",
       "      <td>0.1</td>\n",
       "    </tr>\n",
       "    <tr>\n",
       "      <th>4</th>\n",
       "      <td>21</td>\n",
       "      <td>Colley</td>\n",
       "      <td>all</td>\n",
       "      <td>madness</td>\n",
       "      <td>0</td>\n",
       "      <td>0</td>\n",
       "      <td>0.1</td>\n",
       "    </tr>\n",
       "    <tr>\n",
       "      <th>5</th>\n",
       "      <td>21</td>\n",
       "      <td>Massey</td>\n",
       "      <td>all</td>\n",
       "      <td>madness</td>\n",
       "      <td>0</td>\n",
       "      <td>0</td>\n",
       "      <td>0.1</td>\n",
       "    </tr>\n",
       "    <tr>\n",
       "      <th>6</th>\n",
       "      <td>28</td>\n",
       "      <td>Colley</td>\n",
       "      <td>all</td>\n",
       "      <td>madness</td>\n",
       "      <td>0</td>\n",
       "      <td>0</td>\n",
       "      <td>0.1</td>\n",
       "    </tr>\n",
       "    <tr>\n",
       "      <th>7</th>\n",
       "      <td>28</td>\n",
       "      <td>Massey</td>\n",
       "      <td>all</td>\n",
       "      <td>madness</td>\n",
       "      <td>0</td>\n",
       "      <td>0</td>\n",
       "      <td>0.1</td>\n",
       "    </tr>\n",
       "    <tr>\n",
       "      <th>8</th>\n",
       "      <td>35</td>\n",
       "      <td>Colley</td>\n",
       "      <td>all</td>\n",
       "      <td>madness</td>\n",
       "      <td>0</td>\n",
       "      <td>0</td>\n",
       "      <td>0.1</td>\n",
       "    </tr>\n",
       "    <tr>\n",
       "      <th>9</th>\n",
       "      <td>35</td>\n",
       "      <td>Massey</td>\n",
       "      <td>all</td>\n",
       "      <td>madness</td>\n",
       "      <td>0</td>\n",
       "      <td>0</td>\n",
       "      <td>0.1</td>\n",
       "    </tr>\n",
       "  </tbody>\n",
       "</table>\n",
       "</div>"
      ],
      "text/plain": [
       "   days_to_subtract  Method domain    range  direct_thres  spread_thres  \\\n",
       "0                 7  Colley    all  madness             0             0   \n",
       "1                 7  Massey    all  madness             0             0   \n",
       "2                14  Colley    all  madness             0             0   \n",
       "3                14  Massey    all  madness             0             0   \n",
       "4                21  Colley    all  madness             0             0   \n",
       "5                21  Massey    all  madness             0             0   \n",
       "6                28  Colley    all  madness             0             0   \n",
       "7                28  Massey    all  madness             0             0   \n",
       "8                35  Colley    all  madness             0             0   \n",
       "9                35  Massey    all  madness             0             0   \n",
       "\n",
       "   weight_indirect  \n",
       "0              0.1  \n",
       "1              0.1  \n",
       "2              0.1  \n",
       "3              0.1  \n",
       "4              0.1  \n",
       "5              0.1  \n",
       "6              0.1  \n",
       "7              0.1  \n",
       "8              0.1  \n",
       "9              0.1  "
      ]
     },
     "execution_count": 16,
     "metadata": {},
     "output_type": "execute_result"
    }
   ],
   "source": [
    "best_df"
   ]
  },
  {
   "cell_type": "code",
   "execution_count": 17,
   "metadata": {},
   "outputs": [],
   "source": [
    "#Ds = process(problem['data'],problem['target'],best_df)"
   ]
  },
  {
   "cell_type": "code",
   "execution_count": 18,
   "metadata": {},
   "outputs": [],
   "source": [
    "#Ds"
   ]
  },
  {
   "cell_type": "code",
   "execution_count": 19,
   "metadata": {},
   "outputs": [],
   "source": [
    "#Ds.iloc[[0,-1]]"
   ]
  },
  {
   "cell_type": "code",
   "execution_count": 20,
   "metadata": {},
   "outputs": [],
   "source": [
    "#Ds.loc['2002',\"D\"][0][0]"
   ]
  },
  {
   "cell_type": "code",
   "execution_count": 21,
   "metadata": {},
   "outputs": [],
   "source": [
    "#Ds.loc['2002',\"D\"][0][1]"
   ]
  },
  {
   "cell_type": "code",
   "execution_count": 22,
   "metadata": {},
   "outputs": [],
   "source": [
    "#Ds.index.names"
   ]
  },
  {
   "cell_type": "code",
   "execution_count": 23,
   "metadata": {},
   "outputs": [
    {
     "name": "stderr",
     "output_type": "stream",
     "text": [
      "/opt/tljh/user/lib/python3.7/site-packages/ipykernel_launcher.py:4: PerformanceWarning: indexing past lexsort depth may impact performance.\n",
      "  after removing the cwd from sys.path.\n",
      "/opt/tljh/user/lib/python3.7/site-packages/ipykernel_launcher.py:7: PerformanceWarning: indexing past lexsort depth may impact performance.\n",
      "  import sys\n"
     ]
    }
   ],
   "source": [
    "rankings = {}\n",
    "dt = target.set_index(['days_to_subtract2','Year','direct_thres','spread_thres','weight_indirect','range','Method'])\n",
    "for index in dt.index:\n",
    "    rankings[index] = dt.loc[index].iloc[0]['rankings2']\n",
    "dt = target.set_index(['days_to_subtract1','Year','direct_thres','spread_thres','weight_indirect','range','Method'])\n",
    "for index in dt.index:\n",
    "    rankings[index] = dt.loc[index].iloc[0]['rankings1']"
   ]
  },
  {
   "cell_type": "code",
   "execution_count": 24,
   "metadata": {},
   "outputs": [],
   "source": [
    "rankings_df = pd.DataFrame(rankings).T"
   ]
  },
  {
   "cell_type": "markdown",
   "metadata": {},
   "source": [
    "### Compute the features"
   ]
  },
  {
   "cell_type": "code",
   "execution_count": 26,
   "metadata": {},
   "outputs": [
    {
     "name": "stderr",
     "output_type": "stream",
     "text": [
      "85it [03:52,  3.85s/it]\n",
      "85it [03:54,  3.87s/it]\n",
      "0it [00:00, ?it/s]"
     ]
    },
    {
     "name": "stdout",
     "output_type": "stream",
     "text": [
      "35 2002 0 0 0.1 madness Colley\n",
      "Restricted license - for non-production use only - expires 2022-01-13\n"
     ]
    },
    {
     "name": "stderr",
     "output_type": "stream",
     "text": [
      "\r",
      "1it [00:00,  3.40it/s]"
     ]
    },
    {
     "name": "stdout",
     "output_type": "stream",
     "text": [
      "35 2002 0 0 0.1 madness Massey\n"
     ]
    },
    {
     "name": "stderr",
     "output_type": "stream",
     "text": [
      "\r",
      "2it [00:00,  3.50it/s]"
     ]
    },
    {
     "name": "stdout",
     "output_type": "stream",
     "text": [
      "35 2003 0 0 0.1 madness Colley\n"
     ]
    },
    {
     "name": "stderr",
     "output_type": "stream",
     "text": [
      "\r",
      "3it [00:00,  3.63it/s]"
     ]
    },
    {
     "name": "stdout",
     "output_type": "stream",
     "text": [
      "35 2003 0 0 0.1 madness Massey\n"
     ]
    },
    {
     "name": "stderr",
     "output_type": "stream",
     "text": [
      "\r",
      "4it [00:01,  3.71it/s]"
     ]
    },
    {
     "name": "stdout",
     "output_type": "stream",
     "text": [
      "35 2004 0 0 0.1 madness Colley\n"
     ]
    },
    {
     "name": "stderr",
     "output_type": "stream",
     "text": [
      "\r",
      "5it [00:01,  3.78it/s]"
     ]
    },
    {
     "name": "stdout",
     "output_type": "stream",
     "text": [
      "35 2004 0 0 0.1 madness Massey\n"
     ]
    },
    {
     "name": "stderr",
     "output_type": "stream",
     "text": [
      "\r",
      "6it [00:01,  3.85it/s]"
     ]
    },
    {
     "name": "stdout",
     "output_type": "stream",
     "text": [
      "35 2005 0 0 0.1 madness Colley\n"
     ]
    },
    {
     "name": "stderr",
     "output_type": "stream",
     "text": [
      "\r",
      "7it [00:01,  3.90it/s]"
     ]
    },
    {
     "name": "stdout",
     "output_type": "stream",
     "text": [
      "35 2005 0 0 0.1 madness Massey\n"
     ]
    },
    {
     "name": "stderr",
     "output_type": "stream",
     "text": [
      "\r",
      "8it [00:02,  3.93it/s]"
     ]
    },
    {
     "name": "stdout",
     "output_type": "stream",
     "text": [
      "35 2006 0 0 0.1 madness Colley\n"
     ]
    },
    {
     "name": "stderr",
     "output_type": "stream",
     "text": [
      "\r",
      "9it [00:02,  3.83it/s]"
     ]
    },
    {
     "name": "stdout",
     "output_type": "stream",
     "text": [
      "35 2006 0 0 0.1 madness Massey\n"
     ]
    },
    {
     "name": "stderr",
     "output_type": "stream",
     "text": [
      "\r",
      "10it [00:02,  3.89it/s]"
     ]
    },
    {
     "name": "stdout",
     "output_type": "stream",
     "text": [
      "35 2007 0 0 0.1 madness Colley\n"
     ]
    },
    {
     "name": "stderr",
     "output_type": "stream",
     "text": [
      "\r",
      "11it [00:02,  3.90it/s]"
     ]
    },
    {
     "name": "stdout",
     "output_type": "stream",
     "text": [
      "35 2007 0 0 0.1 madness Massey\n"
     ]
    },
    {
     "name": "stderr",
     "output_type": "stream",
     "text": [
      "\r",
      "12it [00:03,  3.94it/s]"
     ]
    },
    {
     "name": "stdout",
     "output_type": "stream",
     "text": [
      "35 2008 0 0 0.1 madness Colley\n"
     ]
    },
    {
     "name": "stderr",
     "output_type": "stream",
     "text": [
      "\r",
      "13it [00:03,  3.87it/s]"
     ]
    },
    {
     "name": "stdout",
     "output_type": "stream",
     "text": [
      "35 2008 0 0 0.1 madness Massey\n"
     ]
    },
    {
     "name": "stderr",
     "output_type": "stream",
     "text": [
      "\r",
      "14it [00:03,  3.92it/s]"
     ]
    },
    {
     "name": "stdout",
     "output_type": "stream",
     "text": [
      "35 2009 0 0 0.1 madness Colley\n"
     ]
    },
    {
     "name": "stderr",
     "output_type": "stream",
     "text": [
      "\r",
      "15it [00:03,  3.91it/s]"
     ]
    },
    {
     "name": "stdout",
     "output_type": "stream",
     "text": [
      "35 2009 0 0 0.1 madness Massey\n"
     ]
    },
    {
     "name": "stderr",
     "output_type": "stream",
     "text": [
      "\r",
      "16it [00:04,  3.90it/s]"
     ]
    },
    {
     "name": "stdout",
     "output_type": "stream",
     "text": [
      "35 2010 0 0 0.1 madness Colley\n"
     ]
    },
    {
     "name": "stderr",
     "output_type": "stream",
     "text": [
      "\r",
      "17it [00:04,  3.87it/s]"
     ]
    },
    {
     "name": "stdout",
     "output_type": "stream",
     "text": [
      "35 2010 0 0 0.1 madness Massey\n"
     ]
    },
    {
     "name": "stderr",
     "output_type": "stream",
     "text": [
      "\r",
      "18it [00:04,  3.87it/s]"
     ]
    },
    {
     "name": "stdout",
     "output_type": "stream",
     "text": [
      "35 2011 0 0 0.1 madness Colley\n"
     ]
    },
    {
     "name": "stderr",
     "output_type": "stream",
     "text": [
      "\r",
      "19it [00:04,  3.89it/s]"
     ]
    },
    {
     "name": "stdout",
     "output_type": "stream",
     "text": [
      "35 2011 0 0 0.1 madness Massey\n"
     ]
    },
    {
     "name": "stderr",
     "output_type": "stream",
     "text": [
      "\r",
      "20it [00:05,  3.93it/s]"
     ]
    },
    {
     "name": "stdout",
     "output_type": "stream",
     "text": [
      "35 2012 0 0 0.1 madness Colley\n"
     ]
    },
    {
     "name": "stderr",
     "output_type": "stream",
     "text": [
      "\r",
      "21it [00:05,  3.69it/s]"
     ]
    },
    {
     "name": "stdout",
     "output_type": "stream",
     "text": [
      "35 2012 0 0 0.1 madness Massey\n"
     ]
    },
    {
     "name": "stderr",
     "output_type": "stream",
     "text": [
      "\r",
      "22it [00:05,  3.68it/s]"
     ]
    },
    {
     "name": "stdout",
     "output_type": "stream",
     "text": [
      "35 2013 0 0 0.1 madness Colley\n"
     ]
    },
    {
     "name": "stderr",
     "output_type": "stream",
     "text": [
      "\r",
      "23it [00:05,  3.72it/s]"
     ]
    },
    {
     "name": "stdout",
     "output_type": "stream",
     "text": [
      "35 2013 0 0 0.1 madness Massey\n"
     ]
    },
    {
     "name": "stderr",
     "output_type": "stream",
     "text": [
      "\r",
      "24it [00:06,  3.74it/s]"
     ]
    },
    {
     "name": "stdout",
     "output_type": "stream",
     "text": [
      "35 2014 0 0 0.1 madness Colley\n"
     ]
    },
    {
     "name": "stderr",
     "output_type": "stream",
     "text": [
      "\r",
      "25it [00:06,  3.78it/s]"
     ]
    },
    {
     "name": "stdout",
     "output_type": "stream",
     "text": [
      "35 2014 0 0 0.1 madness Massey\n"
     ]
    },
    {
     "name": "stderr",
     "output_type": "stream",
     "text": [
      "\r",
      "26it [00:06,  3.80it/s]"
     ]
    },
    {
     "name": "stdout",
     "output_type": "stream",
     "text": [
      "35 2015 0 0 0.1 madness Colley\n"
     ]
    },
    {
     "name": "stderr",
     "output_type": "stream",
     "text": [
      "\r",
      "27it [00:07,  3.80it/s]"
     ]
    },
    {
     "name": "stdout",
     "output_type": "stream",
     "text": [
      "35 2015 0 0 0.1 madness Massey\n"
     ]
    },
    {
     "name": "stderr",
     "output_type": "stream",
     "text": [
      "\r",
      "28it [00:07,  3.82it/s]"
     ]
    },
    {
     "name": "stdout",
     "output_type": "stream",
     "text": [
      "35 2016 0 0 0.1 madness Colley\n"
     ]
    },
    {
     "name": "stderr",
     "output_type": "stream",
     "text": [
      "\r",
      "29it [00:07,  3.70it/s]"
     ]
    },
    {
     "name": "stdout",
     "output_type": "stream",
     "text": [
      "35 2016 0 0 0.1 madness Massey\n"
     ]
    },
    {
     "name": "stderr",
     "output_type": "stream",
     "text": [
      "\r",
      "30it [00:07,  3.68it/s]"
     ]
    },
    {
     "name": "stdout",
     "output_type": "stream",
     "text": [
      "35 2017 0 0 0.1 madness Colley\n"
     ]
    },
    {
     "name": "stderr",
     "output_type": "stream",
     "text": [
      "\r",
      "31it [00:08,  3.73it/s]"
     ]
    },
    {
     "name": "stdout",
     "output_type": "stream",
     "text": [
      "35 2017 0 0 0.1 madness Massey\n"
     ]
    },
    {
     "name": "stderr",
     "output_type": "stream",
     "text": [
      "\r",
      "32it [00:08,  3.48it/s]"
     ]
    },
    {
     "name": "stdout",
     "output_type": "stream",
     "text": [
      "35 2018 0 0 0.1 madness Colley\n"
     ]
    },
    {
     "name": "stderr",
     "output_type": "stream",
     "text": [
      "\r",
      "33it [00:08,  3.54it/s]"
     ]
    },
    {
     "name": "stdout",
     "output_type": "stream",
     "text": [
      "35 2018 0 0 0.1 madness Massey\n"
     ]
    },
    {
     "name": "stderr",
     "output_type": "stream",
     "text": [
      "\r",
      "34it [00:08,  3.60it/s]"
     ]
    },
    {
     "name": "stdout",
     "output_type": "stream",
     "text": [
      "28 2002 0 0 0.1 madness Colley\n"
     ]
    },
    {
     "name": "stderr",
     "output_type": "stream",
     "text": [
      "\r",
      "35it [00:09,  3.59it/s]"
     ]
    },
    {
     "name": "stdout",
     "output_type": "stream",
     "text": [
      "28 2002 0 0 0.1 madness Massey\n"
     ]
    },
    {
     "name": "stderr",
     "output_type": "stream",
     "text": [
      "\r",
      "36it [00:09,  3.64it/s]"
     ]
    },
    {
     "name": "stdout",
     "output_type": "stream",
     "text": [
      "28 2003 0 0 0.1 madness Colley\n"
     ]
    },
    {
     "name": "stderr",
     "output_type": "stream",
     "text": [
      "\r",
      "37it [00:09,  3.58it/s]"
     ]
    },
    {
     "name": "stdout",
     "output_type": "stream",
     "text": [
      "28 2003 0 0 0.1 madness Massey\n"
     ]
    },
    {
     "name": "stderr",
     "output_type": "stream",
     "text": [
      "\r",
      "38it [00:10,  3.65it/s]"
     ]
    },
    {
     "name": "stdout",
     "output_type": "stream",
     "text": [
      "28 2004 0 0 0.1 madness Colley\n"
     ]
    },
    {
     "name": "stderr",
     "output_type": "stream",
     "text": [
      "\r",
      "39it [00:10,  3.69it/s]"
     ]
    },
    {
     "name": "stdout",
     "output_type": "stream",
     "text": [
      "28 2004 0 0 0.1 madness Massey\n"
     ]
    },
    {
     "name": "stderr",
     "output_type": "stream",
     "text": [
      "\r",
      "40it [00:10,  3.71it/s]"
     ]
    },
    {
     "name": "stdout",
     "output_type": "stream",
     "text": [
      "28 2005 0 0 0.1 madness Colley\n"
     ]
    },
    {
     "name": "stderr",
     "output_type": "stream",
     "text": [
      "\r",
      "41it [00:10,  3.74it/s]"
     ]
    },
    {
     "name": "stdout",
     "output_type": "stream",
     "text": [
      "28 2005 0 0 0.1 madness Massey\n"
     ]
    },
    {
     "name": "stderr",
     "output_type": "stream",
     "text": [
      "\r",
      "42it [00:11,  3.76it/s]"
     ]
    },
    {
     "name": "stdout",
     "output_type": "stream",
     "text": [
      "28 2006 0 0 0.1 madness Colley\n"
     ]
    },
    {
     "name": "stderr",
     "output_type": "stream",
     "text": [
      "\r",
      "43it [00:11,  3.68it/s]"
     ]
    },
    {
     "name": "stdout",
     "output_type": "stream",
     "text": [
      "28 2006 0 0 0.1 madness Massey\n"
     ]
    },
    {
     "name": "stderr",
     "output_type": "stream",
     "text": [
      "\r",
      "44it [00:11,  3.58it/s]"
     ]
    },
    {
     "name": "stdout",
     "output_type": "stream",
     "text": [
      "28 2007 0 0 0.1 madness Colley\n"
     ]
    },
    {
     "name": "stderr",
     "output_type": "stream",
     "text": [
      "\r",
      "45it [00:11,  3.69it/s]"
     ]
    },
    {
     "name": "stdout",
     "output_type": "stream",
     "text": [
      "28 2007 0 0 0.1 madness Massey\n"
     ]
    },
    {
     "name": "stderr",
     "output_type": "stream",
     "text": [
      "\r",
      "46it [00:12,  3.78it/s]"
     ]
    },
    {
     "name": "stdout",
     "output_type": "stream",
     "text": [
      "28 2008 0 0 0.1 madness Colley\n"
     ]
    },
    {
     "name": "stderr",
     "output_type": "stream",
     "text": [
      "\r",
      "47it [00:12,  3.80it/s]"
     ]
    },
    {
     "name": "stdout",
     "output_type": "stream",
     "text": [
      "28 2008 0 0 0.1 madness Massey\n"
     ]
    },
    {
     "name": "stderr",
     "output_type": "stream",
     "text": [
      "\r",
      "48it [00:12,  3.64it/s]"
     ]
    },
    {
     "name": "stdout",
     "output_type": "stream",
     "text": [
      "28 2009 0 0 0.1 madness Colley\n"
     ]
    },
    {
     "name": "stderr",
     "output_type": "stream",
     "text": [
      "\r",
      "49it [00:13,  3.76it/s]"
     ]
    },
    {
     "name": "stdout",
     "output_type": "stream",
     "text": [
      "28 2009 0 0 0.1 madness Massey\n"
     ]
    },
    {
     "name": "stderr",
     "output_type": "stream",
     "text": [
      "\r",
      "50it [00:13,  3.84it/s]"
     ]
    },
    {
     "name": "stdout",
     "output_type": "stream",
     "text": [
      "28 2010 0 0 0.1 madness Colley\n"
     ]
    },
    {
     "name": "stderr",
     "output_type": "stream",
     "text": [
      "\r",
      "51it [00:13,  3.80it/s]"
     ]
    },
    {
     "name": "stdout",
     "output_type": "stream",
     "text": [
      "28 2010 0 0 0.1 madness Massey\n"
     ]
    },
    {
     "name": "stderr",
     "output_type": "stream",
     "text": [
      "\r",
      "52it [00:13,  3.77it/s]"
     ]
    },
    {
     "name": "stdout",
     "output_type": "stream",
     "text": [
      "28 2011 0 0 0.1 madness Colley\n"
     ]
    },
    {
     "name": "stderr",
     "output_type": "stream",
     "text": [
      "\r",
      "53it [00:14,  3.85it/s]"
     ]
    },
    {
     "name": "stdout",
     "output_type": "stream",
     "text": [
      "28 2011 0 0 0.1 madness Massey\n"
     ]
    },
    {
     "name": "stderr",
     "output_type": "stream",
     "text": [
      "\r",
      "54it [00:14,  3.86it/s]"
     ]
    },
    {
     "name": "stdout",
     "output_type": "stream",
     "text": [
      "28 2012 0 0 0.1 madness Colley\n"
     ]
    },
    {
     "name": "stderr",
     "output_type": "stream",
     "text": [
      "\r",
      "55it [00:14,  3.88it/s]"
     ]
    },
    {
     "name": "stdout",
     "output_type": "stream",
     "text": [
      "28 2012 0 0 0.1 madness Massey\n"
     ]
    },
    {
     "name": "stderr",
     "output_type": "stream",
     "text": [
      "\r",
      "56it [00:14,  3.89it/s]"
     ]
    },
    {
     "name": "stdout",
     "output_type": "stream",
     "text": [
      "28 2013 0 0 0.1 madness Colley\n"
     ]
    },
    {
     "name": "stderr",
     "output_type": "stream",
     "text": [
      "\r",
      "57it [00:15,  3.72it/s]"
     ]
    },
    {
     "name": "stdout",
     "output_type": "stream",
     "text": [
      "28 2013 0 0 0.1 madness Massey\n"
     ]
    },
    {
     "name": "stderr",
     "output_type": "stream",
     "text": [
      "\r",
      "58it [00:15,  3.74it/s]"
     ]
    },
    {
     "name": "stdout",
     "output_type": "stream",
     "text": [
      "28 2014 0 0 0.1 madness Colley\n"
     ]
    },
    {
     "name": "stderr",
     "output_type": "stream",
     "text": [
      "\r",
      "59it [00:15,  3.75it/s]"
     ]
    },
    {
     "name": "stdout",
     "output_type": "stream",
     "text": [
      "28 2014 0 0 0.1 madness Massey\n"
     ]
    },
    {
     "name": "stderr",
     "output_type": "stream",
     "text": [
      "\r",
      "60it [00:15,  3.81it/s]"
     ]
    },
    {
     "name": "stdout",
     "output_type": "stream",
     "text": [
      "28 2015 0 0 0.1 madness Colley\n"
     ]
    },
    {
     "name": "stderr",
     "output_type": "stream",
     "text": [
      "\r",
      "61it [00:16,  3.59it/s]"
     ]
    },
    {
     "name": "stdout",
     "output_type": "stream",
     "text": [
      "28 2015 0 0 0.1 madness Massey\n"
     ]
    },
    {
     "name": "stderr",
     "output_type": "stream",
     "text": [
      "\r",
      "62it [00:16,  3.70it/s]"
     ]
    },
    {
     "name": "stdout",
     "output_type": "stream",
     "text": [
      "28 2016 0 0 0.1 madness Colley\n"
     ]
    },
    {
     "name": "stderr",
     "output_type": "stream",
     "text": [
      "\r",
      "63it [00:16,  3.74it/s]"
     ]
    },
    {
     "name": "stdout",
     "output_type": "stream",
     "text": [
      "28 2016 0 0 0.1 madness Massey\n"
     ]
    },
    {
     "name": "stderr",
     "output_type": "stream",
     "text": [
      "\r",
      "64it [00:17,  3.72it/s]"
     ]
    },
    {
     "name": "stdout",
     "output_type": "stream",
     "text": [
      "28 2017 0 0 0.1 madness Colley\n"
     ]
    },
    {
     "name": "stderr",
     "output_type": "stream",
     "text": [
      "\r",
      "65it [00:17,  3.80it/s]"
     ]
    },
    {
     "name": "stdout",
     "output_type": "stream",
     "text": [
      "28 2017 0 0 0.1 madness Massey\n"
     ]
    },
    {
     "name": "stderr",
     "output_type": "stream",
     "text": [
      "\r",
      "66it [00:17,  3.81it/s]"
     ]
    },
    {
     "name": "stdout",
     "output_type": "stream",
     "text": [
      "28 2018 0 0 0.1 madness Colley\n"
     ]
    },
    {
     "name": "stderr",
     "output_type": "stream",
     "text": [
      "\r",
      "67it [00:17,  3.87it/s]"
     ]
    },
    {
     "name": "stdout",
     "output_type": "stream",
     "text": [
      "28 2018 0 0 0.1 madness Massey\n"
     ]
    },
    {
     "name": "stderr",
     "output_type": "stream",
     "text": [
      "\r",
      "68it [00:18,  3.88it/s]"
     ]
    },
    {
     "name": "stdout",
     "output_type": "stream",
     "text": [
      "21 2002 0 0 0.1 madness Colley\n"
     ]
    },
    {
     "name": "stderr",
     "output_type": "stream",
     "text": [
      "\r",
      "69it [00:18,  3.90it/s]"
     ]
    },
    {
     "name": "stdout",
     "output_type": "stream",
     "text": [
      "21 2002 0 0 0.1 madness Massey\n"
     ]
    },
    {
     "name": "stderr",
     "output_type": "stream",
     "text": [
      "\r",
      "70it [00:18,  3.89it/s]"
     ]
    },
    {
     "name": "stdout",
     "output_type": "stream",
     "text": [
      "21 2003 0 0 0.1 madness Colley\n"
     ]
    },
    {
     "name": "stderr",
     "output_type": "stream",
     "text": [
      "\r",
      "71it [00:18,  3.86it/s]"
     ]
    },
    {
     "name": "stdout",
     "output_type": "stream",
     "text": [
      "21 2003 0 0 0.1 madness Massey\n"
     ]
    },
    {
     "name": "stderr",
     "output_type": "stream",
     "text": [
      "\r",
      "72it [00:19,  3.85it/s]"
     ]
    },
    {
     "name": "stdout",
     "output_type": "stream",
     "text": [
      "21 2004 0 0 0.1 madness Colley\n"
     ]
    },
    {
     "name": "stderr",
     "output_type": "stream",
     "text": [
      "\r",
      "73it [00:19,  3.90it/s]"
     ]
    },
    {
     "name": "stdout",
     "output_type": "stream",
     "text": [
      "21 2004 0 0 0.1 madness Massey\n"
     ]
    },
    {
     "name": "stderr",
     "output_type": "stream",
     "text": [
      "\r",
      "74it [00:19,  3.91it/s]"
     ]
    },
    {
     "name": "stdout",
     "output_type": "stream",
     "text": [
      "21 2005 0 0 0.1 madness Colley\n"
     ]
    },
    {
     "name": "stderr",
     "output_type": "stream",
     "text": [
      "\r",
      "75it [00:19,  3.67it/s]"
     ]
    },
    {
     "name": "stdout",
     "output_type": "stream",
     "text": [
      "21 2005 0 0 0.1 madness Massey\n"
     ]
    },
    {
     "name": "stderr",
     "output_type": "stream",
     "text": [
      "\r",
      "76it [00:20,  3.76it/s]"
     ]
    },
    {
     "name": "stdout",
     "output_type": "stream",
     "text": [
      "21 2006 0 0 0.1 madness Colley\n"
     ]
    },
    {
     "name": "stderr",
     "output_type": "stream",
     "text": [
      "\r",
      "77it [00:20,  3.75it/s]"
     ]
    },
    {
     "name": "stdout",
     "output_type": "stream",
     "text": [
      "21 2006 0 0 0.1 madness Massey\n"
     ]
    },
    {
     "name": "stderr",
     "output_type": "stream",
     "text": [
      "\r",
      "78it [00:20,  3.75it/s]"
     ]
    },
    {
     "name": "stdout",
     "output_type": "stream",
     "text": [
      "21 2007 0 0 0.1 madness Colley\n"
     ]
    },
    {
     "name": "stderr",
     "output_type": "stream",
     "text": [
      "\r",
      "79it [00:20,  3.74it/s]"
     ]
    },
    {
     "name": "stdout",
     "output_type": "stream",
     "text": [
      "21 2007 0 0 0.1 madness Massey\n"
     ]
    },
    {
     "name": "stderr",
     "output_type": "stream",
     "text": [
      "\r",
      "80it [00:21,  3.82it/s]"
     ]
    },
    {
     "name": "stdout",
     "output_type": "stream",
     "text": [
      "21 2008 0 0 0.1 madness Colley\n"
     ]
    },
    {
     "name": "stderr",
     "output_type": "stream",
     "text": [
      "\r",
      "81it [00:21,  3.76it/s]"
     ]
    },
    {
     "name": "stdout",
     "output_type": "stream",
     "text": [
      "21 2008 0 0 0.1 madness Massey\n"
     ]
    },
    {
     "name": "stderr",
     "output_type": "stream",
     "text": [
      "\r",
      "82it [00:21,  3.83it/s]"
     ]
    },
    {
     "name": "stdout",
     "output_type": "stream",
     "text": [
      "21 2009 0 0 0.1 madness Colley\n"
     ]
    },
    {
     "name": "stderr",
     "output_type": "stream",
     "text": [
      "\r",
      "83it [00:21,  3.81it/s]"
     ]
    },
    {
     "name": "stdout",
     "output_type": "stream",
     "text": [
      "21 2009 0 0 0.1 madness Massey\n"
     ]
    },
    {
     "name": "stderr",
     "output_type": "stream",
     "text": [
      "\r",
      "84it [00:22,  3.87it/s]"
     ]
    },
    {
     "name": "stdout",
     "output_type": "stream",
     "text": [
      "21 2010 0 0 0.1 madness Colley\n"
     ]
    },
    {
     "name": "stderr",
     "output_type": "stream",
     "text": [
      "\r",
      "85it [00:22,  3.92it/s]"
     ]
    },
    {
     "name": "stdout",
     "output_type": "stream",
     "text": [
      "21 2010 0 0 0.1 madness Massey\n"
     ]
    },
    {
     "name": "stderr",
     "output_type": "stream",
     "text": [
      "\r",
      "86it [00:22,  3.94it/s]"
     ]
    },
    {
     "name": "stdout",
     "output_type": "stream",
     "text": [
      "21 2011 0 0 0.1 madness Colley\n"
     ]
    },
    {
     "name": "stderr",
     "output_type": "stream",
     "text": [
      "\r",
      "87it [00:22,  3.89it/s]"
     ]
    },
    {
     "name": "stdout",
     "output_type": "stream",
     "text": [
      "21 2011 0 0 0.1 madness Massey\n"
     ]
    },
    {
     "name": "stderr",
     "output_type": "stream",
     "text": [
      "\r",
      "88it [00:23,  3.89it/s]"
     ]
    },
    {
     "name": "stdout",
     "output_type": "stream",
     "text": [
      "21 2012 0 0 0.1 madness Colley\n"
     ]
    },
    {
     "name": "stderr",
     "output_type": "stream",
     "text": [
      "\r",
      "89it [00:23,  3.90it/s]"
     ]
    },
    {
     "name": "stdout",
     "output_type": "stream",
     "text": [
      "21 2012 0 0 0.1 madness Massey\n"
     ]
    },
    {
     "name": "stderr",
     "output_type": "stream",
     "text": [
      "\r",
      "90it [00:23,  3.93it/s]"
     ]
    },
    {
     "name": "stdout",
     "output_type": "stream",
     "text": [
      "21 2013 0 0 0.1 madness Colley\n"
     ]
    },
    {
     "name": "stderr",
     "output_type": "stream",
     "text": [
      "\r",
      "91it [00:24,  3.79it/s]"
     ]
    },
    {
     "name": "stdout",
     "output_type": "stream",
     "text": [
      "21 2013 0 0 0.1 madness Massey\n"
     ]
    },
    {
     "name": "stderr",
     "output_type": "stream",
     "text": [
      "\r",
      "92it [00:24,  3.77it/s]"
     ]
    },
    {
     "name": "stdout",
     "output_type": "stream",
     "text": [
      "21 2014 0 0 0.1 madness Colley\n"
     ]
    },
    {
     "name": "stderr",
     "output_type": "stream",
     "text": [
      "\r",
      "93it [00:24,  3.81it/s]"
     ]
    },
    {
     "name": "stdout",
     "output_type": "stream",
     "text": [
      "21 2014 0 0 0.1 madness Massey\n"
     ]
    },
    {
     "name": "stderr",
     "output_type": "stream",
     "text": [
      "\r",
      "94it [00:24,  3.88it/s]"
     ]
    },
    {
     "name": "stdout",
     "output_type": "stream",
     "text": [
      "21 2015 0 0 0.1 madness Colley\n"
     ]
    },
    {
     "name": "stderr",
     "output_type": "stream",
     "text": [
      "\r",
      "95it [00:25,  3.71it/s]"
     ]
    },
    {
     "name": "stdout",
     "output_type": "stream",
     "text": [
      "21 2015 0 0 0.1 madness Massey\n"
     ]
    },
    {
     "name": "stderr",
     "output_type": "stream",
     "text": [
      "\r",
      "96it [00:25,  3.78it/s]"
     ]
    },
    {
     "name": "stdout",
     "output_type": "stream",
     "text": [
      "21 2016 0 0 0.1 madness Colley\n"
     ]
    },
    {
     "name": "stderr",
     "output_type": "stream",
     "text": [
      "\r",
      "97it [00:25,  3.80it/s]"
     ]
    },
    {
     "name": "stdout",
     "output_type": "stream",
     "text": [
      "21 2016 0 0 0.1 madness Massey\n"
     ]
    },
    {
     "name": "stderr",
     "output_type": "stream",
     "text": [
      "\r",
      "98it [00:25,  3.80it/s]"
     ]
    },
    {
     "name": "stdout",
     "output_type": "stream",
     "text": [
      "21 2017 0 0 0.1 madness Colley\n"
     ]
    },
    {
     "name": "stderr",
     "output_type": "stream",
     "text": [
      "\r",
      "99it [00:26,  3.86it/s]"
     ]
    },
    {
     "name": "stdout",
     "output_type": "stream",
     "text": [
      "21 2017 0 0 0.1 madness Massey\n"
     ]
    },
    {
     "name": "stderr",
     "output_type": "stream",
     "text": [
      "\r",
      "100it [00:26,  3.88it/s]"
     ]
    },
    {
     "name": "stdout",
     "output_type": "stream",
     "text": [
      "21 2018 0 0 0.1 madness Colley\n"
     ]
    },
    {
     "name": "stderr",
     "output_type": "stream",
     "text": [
      "\r",
      "101it [00:26,  3.88it/s]"
     ]
    },
    {
     "name": "stdout",
     "output_type": "stream",
     "text": [
      "21 2018 0 0 0.1 madness Massey\n"
     ]
    },
    {
     "name": "stderr",
     "output_type": "stream",
     "text": [
      "\r",
      "102it [00:26,  3.81it/s]"
     ]
    },
    {
     "name": "stdout",
     "output_type": "stream",
     "text": [
      "14 2002 0 0 0.1 madness Colley\n"
     ]
    },
    {
     "name": "stderr",
     "output_type": "stream",
     "text": [
      "\r",
      "103it [00:27,  3.78it/s]"
     ]
    },
    {
     "name": "stdout",
     "output_type": "stream",
     "text": [
      "14 2002 0 0 0.1 madness Massey\n"
     ]
    },
    {
     "name": "stderr",
     "output_type": "stream",
     "text": [
      "\r",
      "104it [00:27,  3.85it/s]"
     ]
    },
    {
     "name": "stdout",
     "output_type": "stream",
     "text": [
      "14 2003 0 0 0.1 madness Colley\n"
     ]
    },
    {
     "name": "stderr",
     "output_type": "stream",
     "text": [
      "\r",
      "105it [00:27,  3.90it/s]"
     ]
    },
    {
     "name": "stdout",
     "output_type": "stream",
     "text": [
      "14 2003 0 0 0.1 madness Massey\n"
     ]
    },
    {
     "name": "stderr",
     "output_type": "stream",
     "text": [
      "\r",
      "106it [00:27,  3.94it/s]"
     ]
    },
    {
     "name": "stdout",
     "output_type": "stream",
     "text": [
      "14 2004 0 0 0.1 madness Colley\n"
     ]
    },
    {
     "name": "stderr",
     "output_type": "stream",
     "text": [
      "\r",
      "107it [00:28,  3.95it/s]"
     ]
    },
    {
     "name": "stdout",
     "output_type": "stream",
     "text": [
      "14 2004 0 0 0.1 madness Massey\n"
     ]
    },
    {
     "name": "stderr",
     "output_type": "stream",
     "text": [
      "\r",
      "108it [00:28,  3.94it/s]"
     ]
    },
    {
     "name": "stdout",
     "output_type": "stream",
     "text": [
      "14 2005 0 0 0.1 madness Colley\n"
     ]
    },
    {
     "name": "stderr",
     "output_type": "stream",
     "text": [
      "\r",
      "109it [00:28,  3.95it/s]"
     ]
    },
    {
     "name": "stdout",
     "output_type": "stream",
     "text": [
      "14 2005 0 0 0.1 madness Massey\n"
     ]
    },
    {
     "name": "stderr",
     "output_type": "stream",
     "text": [
      "\r",
      "110it [00:28,  3.95it/s]"
     ]
    },
    {
     "name": "stdout",
     "output_type": "stream",
     "text": [
      "14 2006 0 0 0.1 madness Colley\n"
     ]
    },
    {
     "name": "stderr",
     "output_type": "stream",
     "text": [
      "\r",
      "111it [00:29,  3.79it/s]"
     ]
    },
    {
     "name": "stdout",
     "output_type": "stream",
     "text": [
      "14 2006 0 0 0.1 madness Massey\n"
     ]
    },
    {
     "name": "stderr",
     "output_type": "stream",
     "text": [
      "\r",
      "112it [00:29,  3.75it/s]"
     ]
    },
    {
     "name": "stdout",
     "output_type": "stream",
     "text": [
      "14 2007 0 0 0.1 madness Colley\n"
     ]
    },
    {
     "name": "stderr",
     "output_type": "stream",
     "text": [
      "\r",
      "113it [00:29,  3.76it/s]"
     ]
    },
    {
     "name": "stdout",
     "output_type": "stream",
     "text": [
      "14 2007 0 0 0.1 madness Massey\n"
     ]
    },
    {
     "name": "stderr",
     "output_type": "stream",
     "text": [
      "\r",
      "114it [00:30,  3.82it/s]"
     ]
    },
    {
     "name": "stdout",
     "output_type": "stream",
     "text": [
      "14 2008 0 0 0.1 madness Colley\n"
     ]
    },
    {
     "name": "stderr",
     "output_type": "stream",
     "text": [
      "\r",
      "115it [00:30,  3.81it/s]"
     ]
    },
    {
     "name": "stdout",
     "output_type": "stream",
     "text": [
      "14 2008 0 0 0.1 madness Massey\n"
     ]
    },
    {
     "name": "stderr",
     "output_type": "stream",
     "text": [
      "\r",
      "116it [00:30,  3.59it/s]"
     ]
    },
    {
     "name": "stdout",
     "output_type": "stream",
     "text": [
      "14 2009 0 0 0.1 madness Colley\n"
     ]
    },
    {
     "name": "stderr",
     "output_type": "stream",
     "text": [
      "\r",
      "117it [00:30,  3.66it/s]"
     ]
    },
    {
     "name": "stdout",
     "output_type": "stream",
     "text": [
      "14 2009 0 0 0.1 madness Massey\n"
     ]
    },
    {
     "name": "stderr",
     "output_type": "stream",
     "text": [
      "\r",
      "118it [00:31,  3.74it/s]"
     ]
    },
    {
     "name": "stdout",
     "output_type": "stream",
     "text": [
      "14 2010 0 0 0.1 madness Colley\n"
     ]
    },
    {
     "name": "stderr",
     "output_type": "stream",
     "text": [
      "\r",
      "119it [00:31,  3.81it/s]"
     ]
    },
    {
     "name": "stdout",
     "output_type": "stream",
     "text": [
      "14 2010 0 0 0.1 madness Massey\n"
     ]
    },
    {
     "name": "stderr",
     "output_type": "stream",
     "text": [
      "\r",
      "120it [00:31,  3.86it/s]"
     ]
    },
    {
     "name": "stdout",
     "output_type": "stream",
     "text": [
      "14 2011 0 0 0.1 madness Colley\n"
     ]
    },
    {
     "name": "stderr",
     "output_type": "stream",
     "text": [
      "\r",
      "121it [00:31,  3.83it/s]"
     ]
    },
    {
     "name": "stdout",
     "output_type": "stream",
     "text": [
      "14 2011 0 0 0.1 madness Massey\n"
     ]
    },
    {
     "name": "stderr",
     "output_type": "stream",
     "text": [
      "\r",
      "122it [00:32,  3.89it/s]"
     ]
    },
    {
     "name": "stdout",
     "output_type": "stream",
     "text": [
      "14 2012 0 0 0.1 madness Colley\n"
     ]
    },
    {
     "name": "stderr",
     "output_type": "stream",
     "text": [
      "\r",
      "123it [00:32,  3.81it/s]"
     ]
    },
    {
     "name": "stdout",
     "output_type": "stream",
     "text": [
      "14 2012 0 0 0.1 madness Massey\n"
     ]
    },
    {
     "name": "stderr",
     "output_type": "stream",
     "text": [
      "\r",
      "124it [00:32,  3.78it/s]"
     ]
    },
    {
     "name": "stdout",
     "output_type": "stream",
     "text": [
      "14 2013 0 0 0.1 madness Colley\n"
     ]
    },
    {
     "name": "stderr",
     "output_type": "stream",
     "text": [
      "\r",
      "125it [00:32,  3.80it/s]"
     ]
    },
    {
     "name": "stdout",
     "output_type": "stream",
     "text": [
      "14 2013 0 0 0.1 madness Massey\n"
     ]
    },
    {
     "name": "stderr",
     "output_type": "stream",
     "text": [
      "\r",
      "126it [00:33,  3.85it/s]"
     ]
    },
    {
     "name": "stdout",
     "output_type": "stream",
     "text": [
      "14 2014 0 0 0.1 madness Colley\n"
     ]
    },
    {
     "name": "stderr",
     "output_type": "stream",
     "text": [
      "\r",
      "127it [00:33,  3.81it/s]"
     ]
    },
    {
     "name": "stdout",
     "output_type": "stream",
     "text": [
      "14 2014 0 0 0.1 madness Massey\n"
     ]
    },
    {
     "name": "stderr",
     "output_type": "stream",
     "text": [
      "\r",
      "128it [00:33,  3.85it/s]"
     ]
    },
    {
     "name": "stdout",
     "output_type": "stream",
     "text": [
      "14 2015 0 0 0.1 madness Colley\n"
     ]
    },
    {
     "name": "stderr",
     "output_type": "stream",
     "text": [
      "\r",
      "129it [00:33,  3.88it/s]"
     ]
    },
    {
     "name": "stdout",
     "output_type": "stream",
     "text": [
      "14 2015 0 0 0.1 madness Massey\n"
     ]
    },
    {
     "name": "stderr",
     "output_type": "stream",
     "text": [
      "\r",
      "130it [00:34,  3.87it/s]"
     ]
    },
    {
     "name": "stdout",
     "output_type": "stream",
     "text": [
      "14 2016 0 0 0.1 madness Colley\n"
     ]
    },
    {
     "name": "stderr",
     "output_type": "stream",
     "text": [
      "\r",
      "131it [00:34,  3.70it/s]"
     ]
    },
    {
     "name": "stdout",
     "output_type": "stream",
     "text": [
      "14 2016 0 0 0.1 madness Massey\n"
     ]
    },
    {
     "name": "stderr",
     "output_type": "stream",
     "text": [
      "\r",
      "132it [00:34,  3.60it/s]"
     ]
    },
    {
     "name": "stdout",
     "output_type": "stream",
     "text": [
      "14 2017 0 0 0.1 madness Colley\n"
     ]
    },
    {
     "name": "stderr",
     "output_type": "stream",
     "text": [
      "\r",
      "133it [00:35,  3.59it/s]"
     ]
    },
    {
     "name": "stdout",
     "output_type": "stream",
     "text": [
      "14 2017 0 0 0.1 madness Massey\n"
     ]
    },
    {
     "name": "stderr",
     "output_type": "stream",
     "text": [
      "\r",
      "134it [00:35,  3.57it/s]"
     ]
    },
    {
     "name": "stdout",
     "output_type": "stream",
     "text": [
      "14 2018 0 0 0.1 madness Colley\n"
     ]
    },
    {
     "name": "stderr",
     "output_type": "stream",
     "text": [
      "\r",
      "135it [00:35,  3.55it/s]"
     ]
    },
    {
     "name": "stdout",
     "output_type": "stream",
     "text": [
      "14 2018 0 0 0.1 madness Massey\n"
     ]
    },
    {
     "name": "stderr",
     "output_type": "stream",
     "text": [
      "\r",
      "136it [00:35,  3.54it/s]"
     ]
    },
    {
     "name": "stdout",
     "output_type": "stream",
     "text": [
      "7 2002 0 0 0.1 madness Colley\n"
     ]
    },
    {
     "name": "stderr",
     "output_type": "stream",
     "text": [
      "\r",
      "137it [00:36,  3.64it/s]"
     ]
    },
    {
     "name": "stdout",
     "output_type": "stream",
     "text": [
      "7 2002 0 0 0.1 madness Massey\n"
     ]
    },
    {
     "name": "stderr",
     "output_type": "stream",
     "text": [
      "\r",
      "138it [00:36,  3.70it/s]"
     ]
    },
    {
     "name": "stdout",
     "output_type": "stream",
     "text": [
      "7 2003 0 0 0.1 madness Colley\n"
     ]
    },
    {
     "name": "stderr",
     "output_type": "stream",
     "text": [
      "\r",
      "139it [00:36,  3.76it/s]"
     ]
    },
    {
     "name": "stdout",
     "output_type": "stream",
     "text": [
      "7 2003 0 0 0.1 madness Massey\n"
     ]
    },
    {
     "name": "stderr",
     "output_type": "stream",
     "text": [
      "\r",
      "140it [00:36,  3.77it/s]"
     ]
    },
    {
     "name": "stdout",
     "output_type": "stream",
     "text": [
      "7 2004 0 0 0.1 madness Colley\n"
     ]
    },
    {
     "name": "stderr",
     "output_type": "stream",
     "text": [
      "\r",
      "141it [00:37,  3.79it/s]"
     ]
    },
    {
     "name": "stdout",
     "output_type": "stream",
     "text": [
      "7 2004 0 0 0.1 madness Massey\n"
     ]
    },
    {
     "name": "stderr",
     "output_type": "stream",
     "text": [
      "\r",
      "142it [00:37,  3.77it/s]"
     ]
    },
    {
     "name": "stdout",
     "output_type": "stream",
     "text": [
      "7 2005 0 0 0.1 madness Colley\n"
     ]
    },
    {
     "name": "stderr",
     "output_type": "stream",
     "text": [
      "\r",
      "143it [00:37,  3.77it/s]"
     ]
    },
    {
     "name": "stdout",
     "output_type": "stream",
     "text": [
      "7 2005 0 0 0.1 madness Massey\n"
     ]
    },
    {
     "name": "stderr",
     "output_type": "stream",
     "text": [
      "\r",
      "144it [00:38,  3.82it/s]"
     ]
    },
    {
     "name": "stdout",
     "output_type": "stream",
     "text": [
      "7 2006 0 0 0.1 madness Colley\n"
     ]
    },
    {
     "name": "stderr",
     "output_type": "stream",
     "text": [
      "\r",
      "145it [00:38,  3.78it/s]"
     ]
    },
    {
     "name": "stdout",
     "output_type": "stream",
     "text": [
      "7 2006 0 0 0.1 madness Massey\n"
     ]
    },
    {
     "name": "stderr",
     "output_type": "stream",
     "text": [
      "\r",
      "146it [00:38,  3.83it/s]"
     ]
    },
    {
     "name": "stdout",
     "output_type": "stream",
     "text": [
      "7 2007 0 0 0.1 madness Colley\n"
     ]
    },
    {
     "name": "stderr",
     "output_type": "stream",
     "text": [
      "\r",
      "147it [00:38,  3.82it/s]"
     ]
    },
    {
     "name": "stdout",
     "output_type": "stream",
     "text": [
      "7 2007 0 0 0.1 madness Massey\n"
     ]
    },
    {
     "name": "stderr",
     "output_type": "stream",
     "text": [
      "\r",
      "148it [00:39,  3.87it/s]"
     ]
    },
    {
     "name": "stdout",
     "output_type": "stream",
     "text": [
      "7 2008 0 0 0.1 madness Colley\n"
     ]
    },
    {
     "name": "stderr",
     "output_type": "stream",
     "text": [
      "\r",
      "149it [00:39,  3.79it/s]"
     ]
    },
    {
     "name": "stdout",
     "output_type": "stream",
     "text": [
      "7 2008 0 0 0.1 madness Massey\n"
     ]
    },
    {
     "name": "stderr",
     "output_type": "stream",
     "text": [
      "\r",
      "150it [00:39,  3.77it/s]"
     ]
    },
    {
     "name": "stdout",
     "output_type": "stream",
     "text": [
      "7 2009 0 0 0.1 madness Colley\n"
     ]
    },
    {
     "name": "stderr",
     "output_type": "stream",
     "text": [
      "\r",
      "151it [00:39,  3.76it/s]"
     ]
    },
    {
     "name": "stdout",
     "output_type": "stream",
     "text": [
      "7 2009 0 0 0.1 madness Massey\n"
     ]
    },
    {
     "name": "stderr",
     "output_type": "stream",
     "text": [
      "\r",
      "152it [00:40,  3.80it/s]"
     ]
    },
    {
     "name": "stdout",
     "output_type": "stream",
     "text": [
      "7 2010 0 0 0.1 madness Colley\n"
     ]
    },
    {
     "name": "stderr",
     "output_type": "stream",
     "text": [
      "\r",
      "153it [00:40,  3.81it/s]"
     ]
    },
    {
     "name": "stdout",
     "output_type": "stream",
     "text": [
      "7 2010 0 0 0.1 madness Massey\n"
     ]
    },
    {
     "name": "stderr",
     "output_type": "stream",
     "text": [
      "\r",
      "154it [00:40,  3.85it/s]"
     ]
    },
    {
     "name": "stdout",
     "output_type": "stream",
     "text": [
      "7 2011 0 0 0.1 madness Colley\n"
     ]
    },
    {
     "name": "stderr",
     "output_type": "stream",
     "text": [
      "\r",
      "155it [00:40,  3.81it/s]"
     ]
    },
    {
     "name": "stdout",
     "output_type": "stream",
     "text": [
      "7 2011 0 0 0.1 madness Massey\n"
     ]
    },
    {
     "name": "stderr",
     "output_type": "stream",
     "text": [
      "\r",
      "156it [00:41,  3.85it/s]"
     ]
    },
    {
     "name": "stdout",
     "output_type": "stream",
     "text": [
      "7 2012 0 0 0.1 madness Colley\n"
     ]
    },
    {
     "name": "stderr",
     "output_type": "stream",
     "text": [
      "\r",
      "157it [00:41,  3.82it/s]"
     ]
    },
    {
     "name": "stdout",
     "output_type": "stream",
     "text": [
      "7 2012 0 0 0.1 madness Massey\n"
     ]
    },
    {
     "name": "stderr",
     "output_type": "stream",
     "text": [
      "\r",
      "158it [00:41,  3.81it/s]"
     ]
    },
    {
     "name": "stdout",
     "output_type": "stream",
     "text": [
      "7 2013 0 0 0.1 madness Colley\n"
     ]
    },
    {
     "name": "stderr",
     "output_type": "stream",
     "text": [
      "\r",
      "159it [00:42,  3.66it/s]"
     ]
    },
    {
     "name": "stdout",
     "output_type": "stream",
     "text": [
      "7 2013 0 0 0.1 madness Massey\n"
     ]
    },
    {
     "name": "stderr",
     "output_type": "stream",
     "text": [
      "\r",
      "160it [00:42,  3.71it/s]"
     ]
    },
    {
     "name": "stdout",
     "output_type": "stream",
     "text": [
      "7 2014 0 0 0.1 madness Colley\n"
     ]
    },
    {
     "name": "stderr",
     "output_type": "stream",
     "text": [
      "\r",
      "161it [00:42,  3.78it/s]"
     ]
    },
    {
     "name": "stdout",
     "output_type": "stream",
     "text": [
      "7 2014 0 0 0.1 madness Massey\n"
     ]
    },
    {
     "name": "stderr",
     "output_type": "stream",
     "text": [
      "\r",
      "162it [00:42,  3.84it/s]"
     ]
    },
    {
     "name": "stdout",
     "output_type": "stream",
     "text": [
      "7 2015 0 0 0.1 madness Colley\n"
     ]
    },
    {
     "name": "stderr",
     "output_type": "stream",
     "text": [
      "\r",
      "163it [00:43,  3.87it/s]"
     ]
    },
    {
     "name": "stdout",
     "output_type": "stream",
     "text": [
      "7 2015 0 0 0.1 madness Massey\n"
     ]
    },
    {
     "name": "stderr",
     "output_type": "stream",
     "text": [
      "\r",
      "164it [00:43,  3.83it/s]"
     ]
    },
    {
     "name": "stdout",
     "output_type": "stream",
     "text": [
      "7 2016 0 0 0.1 madness Colley\n"
     ]
    },
    {
     "name": "stderr",
     "output_type": "stream",
     "text": [
      "\r",
      "165it [00:43,  3.84it/s]"
     ]
    },
    {
     "name": "stdout",
     "output_type": "stream",
     "text": [
      "7 2016 0 0 0.1 madness Massey\n"
     ]
    },
    {
     "name": "stderr",
     "output_type": "stream",
     "text": [
      "\r",
      "166it [00:43,  3.83it/s]"
     ]
    },
    {
     "name": "stdout",
     "output_type": "stream",
     "text": [
      "7 2017 0 0 0.1 madness Colley\n"
     ]
    },
    {
     "name": "stderr",
     "output_type": "stream",
     "text": [
      "\r",
      "167it [00:44,  3.58it/s]"
     ]
    },
    {
     "name": "stdout",
     "output_type": "stream",
     "text": [
      "7 2017 0 0 0.1 madness Massey\n"
     ]
    },
    {
     "name": "stderr",
     "output_type": "stream",
     "text": [
      "\r",
      "168it [00:44,  3.66it/s]"
     ]
    },
    {
     "name": "stdout",
     "output_type": "stream",
     "text": [
      "7 2018 0 0 0.1 madness Colley\n"
     ]
    },
    {
     "name": "stderr",
     "output_type": "stream",
     "text": [
      "\r",
      "169it [00:44,  3.75it/s]"
     ]
    },
    {
     "name": "stdout",
     "output_type": "stream",
     "text": [
      "7 2018 0 0 0.1 madness Massey\n"
     ]
    },
    {
     "name": "stderr",
     "output_type": "stream",
     "text": [
      "170it [00:44,  3.81it/s]\n"
     ]
    }
   ],
   "source": [
    "index_cols = [\"Year\",\"days_to_subtract_key\",\"direct_thres\",\"spread_thres\",\"weight_indirect\",\"range\",\"Method\"]\n",
    "#process_pipe = Pipeline([('compute_D', pyrplib.transformers.ProcessTransformer(index_cols, days_to_subtract_keys, years, 'madness', madness_teams, best_df))])\n",
    "#process_pipe.fit(problem['data'])\n",
    "#Ds = process_pipe.transform(problem['data'])\n",
    "feature_columns = [\"delta_lop\",\"delta_hillside\",\"nfrac_xstar_lop\",\"nfrac_xstar_hillside\",\"diameter_lop\",\"diameter_hillside\"]\n",
    "#feature_pipe = Pipeline([('create_features', pyrplib.transformers.CreateFeaturesTransformer(feature_columns, rankings_df, top_k))])\n",
    "#feature_pipe.fit(Ds)\n",
    "#X = feature_pipe.transform(Ds)\n",
    "process_feature_pipe = Pipeline([('compute_D', pyrplib.transformers.ProcessTransformer(index_cols, days_to_subtract_keys, years, 'madness', madness_teams, best_df)),\n",
    "                                ('create_features', pyrplib.transformers.CreateFeaturesTransformer(feature_columns, rankings_df, top_k))])\n",
    "process_feature_pipe.fit(problem['data'])\n",
    "X = process_feature_pipe.transform(problem['data'])"
   ]
  },
  {
   "cell_type": "code",
   "execution_count": 27,
   "metadata": {},
   "outputs": [],
   "source": [
    "# X = create_features(Ds,rankings_df,top_k)"
   ]
  },
  {
   "cell_type": "code",
   "execution_count": 28,
   "metadata": {},
   "outputs": [
    {
     "data": {
      "text/html": [
       "<div>\n",
       "<style scoped>\n",
       "    .dataframe tbody tr th:only-of-type {\n",
       "        vertical-align: middle;\n",
       "    }\n",
       "\n",
       "    .dataframe tbody tr th {\n",
       "        vertical-align: top;\n",
       "    }\n",
       "\n",
       "    .dataframe thead th {\n",
       "        text-align: right;\n",
       "    }\n",
       "</style>\n",
       "<table border=\"1\" class=\"dataframe\">\n",
       "  <thead>\n",
       "    <tr style=\"text-align: right;\">\n",
       "      <th></th>\n",
       "      <th></th>\n",
       "      <th></th>\n",
       "      <th></th>\n",
       "      <th></th>\n",
       "      <th></th>\n",
       "      <th></th>\n",
       "      <th></th>\n",
       "      <th>delta_lop</th>\n",
       "      <th>delta_hillside</th>\n",
       "      <th>nfrac_xstar_lop</th>\n",
       "      <th>nfrac_xstar_hillside</th>\n",
       "      <th>diameter_lop</th>\n",
       "      <th>diameter_hillside</th>\n",
       "    </tr>\n",
       "    <tr>\n",
       "      <th>Year</th>\n",
       "      <th>days_to_subtract_key</th>\n",
       "      <th>direct_thres</th>\n",
       "      <th>spread_thres</th>\n",
       "      <th>weight_indirect</th>\n",
       "      <th>range</th>\n",
       "      <th>Method</th>\n",
       "      <th>Construction</th>\n",
       "      <th></th>\n",
       "      <th></th>\n",
       "      <th></th>\n",
       "      <th></th>\n",
       "      <th></th>\n",
       "      <th></th>\n",
       "    </tr>\n",
       "  </thead>\n",
       "  <tbody>\n",
       "    <tr>\n",
       "      <th rowspan=\"5\" valign=\"top\">2002</th>\n",
       "      <th rowspan=\"5\" valign=\"top\">days_to_subtract=35</th>\n",
       "      <th rowspan=\"5\" valign=\"top\">0</th>\n",
       "      <th rowspan=\"5\" valign=\"top\">0</th>\n",
       "      <th rowspan=\"5\" valign=\"top\">0.1</th>\n",
       "      <th rowspan=\"5\" valign=\"top\">madness</th>\n",
       "      <th rowspan=\"3\" valign=\"top\">Colley</th>\n",
       "      <th>Direct</th>\n",
       "      <td>0.0</td>\n",
       "      <td>0.0</td>\n",
       "      <td>56.0</td>\n",
       "      <td>70.0</td>\n",
       "      <td>28.0</td>\n",
       "      <td>35.0</td>\n",
       "    </tr>\n",
       "    <tr>\n",
       "      <th>Indirect</th>\n",
       "      <td>4.0</td>\n",
       "      <td>48.0</td>\n",
       "      <td>38.0</td>\n",
       "      <td>6.0</td>\n",
       "      <td>18.0</td>\n",
       "      <td>3.0</td>\n",
       "    </tr>\n",
       "    <tr>\n",
       "      <th>Both</th>\n",
       "      <td>0.4</td>\n",
       "      <td>56.0</td>\n",
       "      <td>12.0</td>\n",
       "      <td>8.0</td>\n",
       "      <td>6.0</td>\n",
       "      <td>4.0</td>\n",
       "    </tr>\n",
       "    <tr>\n",
       "      <th rowspan=\"2\" valign=\"top\">Massey</th>\n",
       "      <th>Direct</th>\n",
       "      <td>0.0</td>\n",
       "      <td>0.0</td>\n",
       "      <td>56.0</td>\n",
       "      <td>68.0</td>\n",
       "      <td>28.0</td>\n",
       "      <td>34.0</td>\n",
       "    </tr>\n",
       "    <tr>\n",
       "      <th>Indirect</th>\n",
       "      <td>7.0</td>\n",
       "      <td>62.0</td>\n",
       "      <td>30.0</td>\n",
       "      <td>8.0</td>\n",
       "      <td>15.0</td>\n",
       "      <td>4.0</td>\n",
       "    </tr>\n",
       "    <tr>\n",
       "      <th>...</th>\n",
       "      <th>...</th>\n",
       "      <th>...</th>\n",
       "      <th>...</th>\n",
       "      <th>...</th>\n",
       "      <th>...</th>\n",
       "      <th>...</th>\n",
       "      <th>...</th>\n",
       "      <td>...</td>\n",
       "      <td>...</td>\n",
       "      <td>...</td>\n",
       "      <td>...</td>\n",
       "      <td>...</td>\n",
       "      <td>...</td>\n",
       "    </tr>\n",
       "    <tr>\n",
       "      <th rowspan=\"5\" valign=\"top\">2018</th>\n",
       "      <th rowspan=\"5\" valign=\"top\">days_to_subtract=7</th>\n",
       "      <th rowspan=\"5\" valign=\"top\">0</th>\n",
       "      <th rowspan=\"5\" valign=\"top\">0</th>\n",
       "      <th rowspan=\"5\" valign=\"top\">0.1</th>\n",
       "      <th rowspan=\"5\" valign=\"top\">madness</th>\n",
       "      <th rowspan=\"2\" valign=\"top\">Colley</th>\n",
       "      <th>Indirect</th>\n",
       "      <td>8.0</td>\n",
       "      <td>62.0</td>\n",
       "      <td>14.0</td>\n",
       "      <td>6.0</td>\n",
       "      <td>7.0</td>\n",
       "      <td>3.0</td>\n",
       "    </tr>\n",
       "    <tr>\n",
       "      <th>Both</th>\n",
       "      <td>1.5</td>\n",
       "      <td>78.0</td>\n",
       "      <td>4.0</td>\n",
       "      <td>12.0</td>\n",
       "      <td>2.0</td>\n",
       "      <td>4.0</td>\n",
       "    </tr>\n",
       "    <tr>\n",
       "      <th rowspan=\"3\" valign=\"top\">Massey</th>\n",
       "      <th>Direct</th>\n",
       "      <td>1.0</td>\n",
       "      <td>1.0</td>\n",
       "      <td>32.0</td>\n",
       "      <td>44.0</td>\n",
       "      <td>16.0</td>\n",
       "      <td>22.0</td>\n",
       "    </tr>\n",
       "    <tr>\n",
       "      <th>Indirect</th>\n",
       "      <td>16.0</td>\n",
       "      <td>80.0</td>\n",
       "      <td>18.0</td>\n",
       "      <td>6.0</td>\n",
       "      <td>9.0</td>\n",
       "      <td>3.0</td>\n",
       "    </tr>\n",
       "    <tr>\n",
       "      <th>Both</th>\n",
       "      <td>3.1</td>\n",
       "      <td>90.0</td>\n",
       "      <td>12.0</td>\n",
       "      <td>8.0</td>\n",
       "      <td>6.0</td>\n",
       "      <td>4.0</td>\n",
       "    </tr>\n",
       "  </tbody>\n",
       "</table>\n",
       "<p>510 rows × 6 columns</p>\n",
       "</div>"
      ],
      "text/plain": [
       "                                                                                                 delta_lop  \\\n",
       "Year days_to_subtract_key direct_thres spread_thres weight_indirect range   Method Construction              \n",
       "2002 days_to_subtract=35  0            0            0.1             madness Colley Direct              0.0   \n",
       "                                                                                   Indirect            4.0   \n",
       "                                                                                   Both                0.4   \n",
       "                                                                            Massey Direct              0.0   \n",
       "                                                                                   Indirect            7.0   \n",
       "...                                                                                                    ...   \n",
       "2018 days_to_subtract=7   0            0            0.1             madness Colley Indirect            8.0   \n",
       "                                                                                   Both                1.5   \n",
       "                                                                            Massey Direct              1.0   \n",
       "                                                                                   Indirect           16.0   \n",
       "                                                                                   Both                3.1   \n",
       "\n",
       "                                                                                                 delta_hillside  \\\n",
       "Year days_to_subtract_key direct_thres spread_thres weight_indirect range   Method Construction                   \n",
       "2002 days_to_subtract=35  0            0            0.1             madness Colley Direct                   0.0   \n",
       "                                                                                   Indirect                48.0   \n",
       "                                                                                   Both                    56.0   \n",
       "                                                                            Massey Direct                   0.0   \n",
       "                                                                                   Indirect                62.0   \n",
       "...                                                                                                         ...   \n",
       "2018 days_to_subtract=7   0            0            0.1             madness Colley Indirect                62.0   \n",
       "                                                                                   Both                    78.0   \n",
       "                                                                            Massey Direct                   1.0   \n",
       "                                                                                   Indirect                80.0   \n",
       "                                                                                   Both                    90.0   \n",
       "\n",
       "                                                                                                 nfrac_xstar_lop  \\\n",
       "Year days_to_subtract_key direct_thres spread_thres weight_indirect range   Method Construction                    \n",
       "2002 days_to_subtract=35  0            0            0.1             madness Colley Direct                   56.0   \n",
       "                                                                                   Indirect                 38.0   \n",
       "                                                                                   Both                     12.0   \n",
       "                                                                            Massey Direct                   56.0   \n",
       "                                                                                   Indirect                 30.0   \n",
       "...                                                                                                          ...   \n",
       "2018 days_to_subtract=7   0            0            0.1             madness Colley Indirect                 14.0   \n",
       "                                                                                   Both                      4.0   \n",
       "                                                                            Massey Direct                   32.0   \n",
       "                                                                                   Indirect                 18.0   \n",
       "                                                                                   Both                     12.0   \n",
       "\n",
       "                                                                                                 nfrac_xstar_hillside  \\\n",
       "Year days_to_subtract_key direct_thres spread_thres weight_indirect range   Method Construction                         \n",
       "2002 days_to_subtract=35  0            0            0.1             madness Colley Direct                        70.0   \n",
       "                                                                                   Indirect                       6.0   \n",
       "                                                                                   Both                           8.0   \n",
       "                                                                            Massey Direct                        68.0   \n",
       "                                                                                   Indirect                       8.0   \n",
       "...                                                                                                               ...   \n",
       "2018 days_to_subtract=7   0            0            0.1             madness Colley Indirect                       6.0   \n",
       "                                                                                   Both                          12.0   \n",
       "                                                                            Massey Direct                        44.0   \n",
       "                                                                                   Indirect                       6.0   \n",
       "                                                                                   Both                           8.0   \n",
       "\n",
       "                                                                                                 diameter_lop  \\\n",
       "Year days_to_subtract_key direct_thres spread_thres weight_indirect range   Method Construction                 \n",
       "2002 days_to_subtract=35  0            0            0.1             madness Colley Direct                28.0   \n",
       "                                                                                   Indirect              18.0   \n",
       "                                                                                   Both                   6.0   \n",
       "                                                                            Massey Direct                28.0   \n",
       "                                                                                   Indirect              15.0   \n",
       "...                                                                                                       ...   \n",
       "2018 days_to_subtract=7   0            0            0.1             madness Colley Indirect               7.0   \n",
       "                                                                                   Both                   2.0   \n",
       "                                                                            Massey Direct                16.0   \n",
       "                                                                                   Indirect               9.0   \n",
       "                                                                                   Both                   6.0   \n",
       "\n",
       "                                                                                                 diameter_hillside  \n",
       "Year days_to_subtract_key direct_thres spread_thres weight_indirect range   Method Construction                     \n",
       "2002 days_to_subtract=35  0            0            0.1             madness Colley Direct                     35.0  \n",
       "                                                                                   Indirect                    3.0  \n",
       "                                                                                   Both                        4.0  \n",
       "                                                                            Massey Direct                     34.0  \n",
       "                                                                                   Indirect                    4.0  \n",
       "...                                                                                                            ...  \n",
       "2018 days_to_subtract=7   0            0            0.1             madness Colley Indirect                    3.0  \n",
       "                                                                                   Both                        4.0  \n",
       "                                                                            Massey Direct                     22.0  \n",
       "                                                                                   Indirect                    3.0  \n",
       "                                                                                   Both                        4.0  \n",
       "\n",
       "[510 rows x 6 columns]"
      ]
     },
     "execution_count": 28,
     "metadata": {},
     "output_type": "execute_result"
    }
   ],
   "source": [
    "X"
   ]
  },
  {
   "cell_type": "markdown",
   "metadata": {},
   "source": [
    "## Refine the target dataset"
   ]
  },
  {
   "cell_type": "code",
   "execution_count": 29,
   "metadata": {},
   "outputs": [
    {
     "data": {
      "text/html": [
       "<div>\n",
       "<style scoped>\n",
       "    .dataframe tbody tr th:only-of-type {\n",
       "        vertical-align: middle;\n",
       "    }\n",
       "\n",
       "    .dataframe tbody tr th {\n",
       "        vertical-align: top;\n",
       "    }\n",
       "\n",
       "    .dataframe thead th {\n",
       "        text-align: right;\n",
       "    }\n",
       "</style>\n",
       "<table border=\"1\" class=\"dataframe\">\n",
       "  <thead>\n",
       "    <tr style=\"text-align: right;\">\n",
       "      <th></th>\n",
       "      <th></th>\n",
       "      <th></th>\n",
       "      <th></th>\n",
       "      <th></th>\n",
       "      <th></th>\n",
       "      <th></th>\n",
       "      <th>top10_jaccard</th>\n",
       "      <th>top10_tau</th>\n",
       "    </tr>\n",
       "    <tr>\n",
       "      <th>days_to_subtract1</th>\n",
       "      <th>days_to_subtract2</th>\n",
       "      <th>Method</th>\n",
       "      <th>Year</th>\n",
       "      <th>direct_thres</th>\n",
       "      <th>spread_thres</th>\n",
       "      <th>weight_indirect</th>\n",
       "      <th></th>\n",
       "      <th></th>\n",
       "    </tr>\n",
       "  </thead>\n",
       "  <tbody>\n",
       "    <tr>\n",
       "      <th rowspan=\"5\" valign=\"top\">7</th>\n",
       "      <th rowspan=\"5\" valign=\"top\">14</th>\n",
       "      <th rowspan=\"5\" valign=\"top\">Colley</th>\n",
       "      <th>2002</th>\n",
       "      <th>0</th>\n",
       "      <th>0</th>\n",
       "      <th>0.1</th>\n",
       "      <td>0.800000</td>\n",
       "      <td>0.277778</td>\n",
       "    </tr>\n",
       "    <tr>\n",
       "      <th>2003</th>\n",
       "      <th>0</th>\n",
       "      <th>0</th>\n",
       "      <th>0.1</th>\n",
       "      <td>0.800000</td>\n",
       "      <td>-0.111111</td>\n",
       "    </tr>\n",
       "    <tr>\n",
       "      <th>2004</th>\n",
       "      <th>0</th>\n",
       "      <th>0</th>\n",
       "      <th>0.1</th>\n",
       "      <td>0.636364</td>\n",
       "      <td>0.055556</td>\n",
       "    </tr>\n",
       "    <tr>\n",
       "      <th>2005</th>\n",
       "      <th>0</th>\n",
       "      <th>0</th>\n",
       "      <th>0.1</th>\n",
       "      <td>1.000000</td>\n",
       "      <td>-0.555556</td>\n",
       "    </tr>\n",
       "    <tr>\n",
       "      <th>2006</th>\n",
       "      <th>0</th>\n",
       "      <th>0</th>\n",
       "      <th>0.1</th>\n",
       "      <td>0.636364</td>\n",
       "      <td>-0.444444</td>\n",
       "    </tr>\n",
       "    <tr>\n",
       "      <th>...</th>\n",
       "      <th>...</th>\n",
       "      <th>...</th>\n",
       "      <th>...</th>\n",
       "      <th>...</th>\n",
       "      <th>...</th>\n",
       "      <th>...</th>\n",
       "      <td>...</td>\n",
       "      <td>...</td>\n",
       "    </tr>\n",
       "    <tr>\n",
       "      <th rowspan=\"5\" valign=\"top\">28</th>\n",
       "      <th rowspan=\"5\" valign=\"top\">35</th>\n",
       "      <th rowspan=\"5\" valign=\"top\">Massey</th>\n",
       "      <th>2014</th>\n",
       "      <th>0</th>\n",
       "      <th>0</th>\n",
       "      <th>0.1</th>\n",
       "      <td>0.636364</td>\n",
       "      <td>0.111111</td>\n",
       "    </tr>\n",
       "    <tr>\n",
       "      <th>2015</th>\n",
       "      <th>0</th>\n",
       "      <th>0</th>\n",
       "      <th>0.1</th>\n",
       "      <td>0.800000</td>\n",
       "      <td>-0.222222</td>\n",
       "    </tr>\n",
       "    <tr>\n",
       "      <th>2016</th>\n",
       "      <th>0</th>\n",
       "      <th>0</th>\n",
       "      <th>0.1</th>\n",
       "      <td>0.800000</td>\n",
       "      <td>0.166667</td>\n",
       "    </tr>\n",
       "    <tr>\n",
       "      <th>2017</th>\n",
       "      <th>0</th>\n",
       "      <th>0</th>\n",
       "      <th>0.1</th>\n",
       "      <td>1.000000</td>\n",
       "      <td>0.111111</td>\n",
       "    </tr>\n",
       "    <tr>\n",
       "      <th>2018</th>\n",
       "      <th>0</th>\n",
       "      <th>0</th>\n",
       "      <th>0.1</th>\n",
       "      <td>0.636364</td>\n",
       "      <td>0.055556</td>\n",
       "    </tr>\n",
       "  </tbody>\n",
       "</table>\n",
       "<p>340 rows × 2 columns</p>\n",
       "</div>"
      ],
      "text/plain": [
       "                                                                                           top10_jaccard  \\\n",
       "days_to_subtract1 days_to_subtract2 Method Year direct_thres spread_thres weight_indirect                  \n",
       "7                 14                Colley 2002 0            0            0.1                   0.800000   \n",
       "                                           2003 0            0            0.1                   0.800000   \n",
       "                                           2004 0            0            0.1                   0.636364   \n",
       "                                           2005 0            0            0.1                   1.000000   \n",
       "                                           2006 0            0            0.1                   0.636364   \n",
       "...                                                                                                  ...   \n",
       "28                35                Massey 2014 0            0            0.1                   0.636364   \n",
       "                                           2015 0            0            0.1                   0.800000   \n",
       "                                           2016 0            0            0.1                   0.800000   \n",
       "                                           2017 0            0            0.1                   1.000000   \n",
       "                                           2018 0            0            0.1                   0.636364   \n",
       "\n",
       "                                                                                           top10_tau  \n",
       "days_to_subtract1 days_to_subtract2 Method Year direct_thres spread_thres weight_indirect             \n",
       "7                 14                Colley 2002 0            0            0.1               0.277778  \n",
       "                                           2003 0            0            0.1              -0.111111  \n",
       "                                           2004 0            0            0.1               0.055556  \n",
       "                                           2005 0            0            0.1              -0.555556  \n",
       "                                           2006 0            0            0.1              -0.444444  \n",
       "...                                                                                              ...  \n",
       "28                35                Massey 2014 0            0            0.1               0.111111  \n",
       "                                           2015 0            0            0.1              -0.222222  \n",
       "                                           2016 0            0            0.1               0.166667  \n",
       "                                           2017 0            0            0.1               0.111111  \n",
       "                                           2018 0            0            0.1               0.055556  \n",
       "\n",
       "[340 rows x 2 columns]"
      ]
     },
     "execution_count": 29,
     "metadata": {},
     "output_type": "execute_result"
    }
   ],
   "source": [
    "target = problem['target'].groupby(['days_to_subtract1','days_to_subtract2','Method','Year','direct_thres','spread_thres','weight_indirect'])[feature_names].mean()\n",
    "target"
   ]
  },
  {
   "cell_type": "code",
   "execution_count": 30,
   "metadata": {},
   "outputs": [
    {
     "data": {
      "text/html": [
       "<div>\n",
       "<style scoped>\n",
       "    .dataframe tbody tr th:only-of-type {\n",
       "        vertical-align: middle;\n",
       "    }\n",
       "\n",
       "    .dataframe tbody tr th {\n",
       "        vertical-align: top;\n",
       "    }\n",
       "\n",
       "    .dataframe thead th {\n",
       "        text-align: right;\n",
       "    }\n",
       "</style>\n",
       "<table border=\"1\" class=\"dataframe\">\n",
       "  <thead>\n",
       "    <tr style=\"text-align: right;\">\n",
       "      <th></th>\n",
       "      <th>top10_jaccard</th>\n",
       "      <th>top10_tau</th>\n",
       "    </tr>\n",
       "  </thead>\n",
       "  <tbody>\n",
       "    <tr>\n",
       "      <th>top10_jaccard</th>\n",
       "      <td>1.000000</td>\n",
       "      <td>0.025604</td>\n",
       "    </tr>\n",
       "    <tr>\n",
       "      <th>top10_tau</th>\n",
       "      <td>0.025604</td>\n",
       "      <td>1.000000</td>\n",
       "    </tr>\n",
       "  </tbody>\n",
       "</table>\n",
       "</div>"
      ],
      "text/plain": [
       "               top10_jaccard  top10_tau\n",
       "top10_jaccard       1.000000   0.025604\n",
       "top10_tau           0.025604   1.000000"
      ]
     },
     "execution_count": 30,
     "metadata": {},
     "output_type": "execute_result"
    }
   ],
   "source": [
    "target.corr()"
   ]
  },
  {
   "cell_type": "code",
   "execution_count": 31,
   "metadata": {},
   "outputs": [
    {
     "data": {
      "text/html": [
       "<div>\n",
       "<style scoped>\n",
       "    .dataframe tbody tr th:only-of-type {\n",
       "        vertical-align: middle;\n",
       "    }\n",
       "\n",
       "    .dataframe tbody tr th {\n",
       "        vertical-align: top;\n",
       "    }\n",
       "\n",
       "    .dataframe thead th {\n",
       "        text-align: right;\n",
       "    }\n",
       "</style>\n",
       "<table border=\"1\" class=\"dataframe\">\n",
       "  <thead>\n",
       "    <tr style=\"text-align: right;\">\n",
       "      <th></th>\n",
       "      <th>Year</th>\n",
       "      <th>days_to_subtract_key</th>\n",
       "      <th>direct_thres</th>\n",
       "      <th>spread_thres</th>\n",
       "      <th>weight_indirect</th>\n",
       "      <th>range</th>\n",
       "      <th>Method</th>\n",
       "      <th>Construction</th>\n",
       "      <th>delta_lop</th>\n",
       "      <th>delta_hillside</th>\n",
       "      <th>nfrac_xstar_lop</th>\n",
       "      <th>nfrac_xstar_hillside</th>\n",
       "      <th>diameter_lop</th>\n",
       "      <th>diameter_hillside</th>\n",
       "      <th>days_to_subtract1</th>\n",
       "    </tr>\n",
       "  </thead>\n",
       "  <tbody>\n",
       "    <tr>\n",
       "      <th>0</th>\n",
       "      <td>2002</td>\n",
       "      <td>days_to_subtract=35</td>\n",
       "      <td>0</td>\n",
       "      <td>0</td>\n",
       "      <td>0.1</td>\n",
       "      <td>madness</td>\n",
       "      <td>Colley</td>\n",
       "      <td>Direct</td>\n",
       "      <td>0.0</td>\n",
       "      <td>0.0</td>\n",
       "      <td>56.0</td>\n",
       "      <td>70.0</td>\n",
       "      <td>28.0</td>\n",
       "      <td>35.0</td>\n",
       "      <td>35.0</td>\n",
       "    </tr>\n",
       "    <tr>\n",
       "      <th>1</th>\n",
       "      <td>2002</td>\n",
       "      <td>days_to_subtract=35</td>\n",
       "      <td>0</td>\n",
       "      <td>0</td>\n",
       "      <td>0.1</td>\n",
       "      <td>madness</td>\n",
       "      <td>Colley</td>\n",
       "      <td>Indirect</td>\n",
       "      <td>4.0</td>\n",
       "      <td>48.0</td>\n",
       "      <td>38.0</td>\n",
       "      <td>6.0</td>\n",
       "      <td>18.0</td>\n",
       "      <td>3.0</td>\n",
       "      <td>35.0</td>\n",
       "    </tr>\n",
       "    <tr>\n",
       "      <th>2</th>\n",
       "      <td>2002</td>\n",
       "      <td>days_to_subtract=35</td>\n",
       "      <td>0</td>\n",
       "      <td>0</td>\n",
       "      <td>0.1</td>\n",
       "      <td>madness</td>\n",
       "      <td>Colley</td>\n",
       "      <td>Both</td>\n",
       "      <td>0.4</td>\n",
       "      <td>56.0</td>\n",
       "      <td>12.0</td>\n",
       "      <td>8.0</td>\n",
       "      <td>6.0</td>\n",
       "      <td>4.0</td>\n",
       "      <td>35.0</td>\n",
       "    </tr>\n",
       "    <tr>\n",
       "      <th>3</th>\n",
       "      <td>2002</td>\n",
       "      <td>days_to_subtract=35</td>\n",
       "      <td>0</td>\n",
       "      <td>0</td>\n",
       "      <td>0.1</td>\n",
       "      <td>madness</td>\n",
       "      <td>Massey</td>\n",
       "      <td>Direct</td>\n",
       "      <td>0.0</td>\n",
       "      <td>0.0</td>\n",
       "      <td>56.0</td>\n",
       "      <td>68.0</td>\n",
       "      <td>28.0</td>\n",
       "      <td>34.0</td>\n",
       "      <td>35.0</td>\n",
       "    </tr>\n",
       "    <tr>\n",
       "      <th>4</th>\n",
       "      <td>2002</td>\n",
       "      <td>days_to_subtract=35</td>\n",
       "      <td>0</td>\n",
       "      <td>0</td>\n",
       "      <td>0.1</td>\n",
       "      <td>madness</td>\n",
       "      <td>Massey</td>\n",
       "      <td>Indirect</td>\n",
       "      <td>7.0</td>\n",
       "      <td>62.0</td>\n",
       "      <td>30.0</td>\n",
       "      <td>8.0</td>\n",
       "      <td>15.0</td>\n",
       "      <td>4.0</td>\n",
       "      <td>35.0</td>\n",
       "    </tr>\n",
       "    <tr>\n",
       "      <th>...</th>\n",
       "      <td>...</td>\n",
       "      <td>...</td>\n",
       "      <td>...</td>\n",
       "      <td>...</td>\n",
       "      <td>...</td>\n",
       "      <td>...</td>\n",
       "      <td>...</td>\n",
       "      <td>...</td>\n",
       "      <td>...</td>\n",
       "      <td>...</td>\n",
       "      <td>...</td>\n",
       "      <td>...</td>\n",
       "      <td>...</td>\n",
       "      <td>...</td>\n",
       "      <td>...</td>\n",
       "    </tr>\n",
       "    <tr>\n",
       "      <th>505</th>\n",
       "      <td>2018</td>\n",
       "      <td>days_to_subtract=7</td>\n",
       "      <td>0</td>\n",
       "      <td>0</td>\n",
       "      <td>0.1</td>\n",
       "      <td>madness</td>\n",
       "      <td>Colley</td>\n",
       "      <td>Indirect</td>\n",
       "      <td>8.0</td>\n",
       "      <td>62.0</td>\n",
       "      <td>14.0</td>\n",
       "      <td>6.0</td>\n",
       "      <td>7.0</td>\n",
       "      <td>3.0</td>\n",
       "      <td>7.0</td>\n",
       "    </tr>\n",
       "    <tr>\n",
       "      <th>506</th>\n",
       "      <td>2018</td>\n",
       "      <td>days_to_subtract=7</td>\n",
       "      <td>0</td>\n",
       "      <td>0</td>\n",
       "      <td>0.1</td>\n",
       "      <td>madness</td>\n",
       "      <td>Colley</td>\n",
       "      <td>Both</td>\n",
       "      <td>1.5</td>\n",
       "      <td>78.0</td>\n",
       "      <td>4.0</td>\n",
       "      <td>12.0</td>\n",
       "      <td>2.0</td>\n",
       "      <td>4.0</td>\n",
       "      <td>7.0</td>\n",
       "    </tr>\n",
       "    <tr>\n",
       "      <th>507</th>\n",
       "      <td>2018</td>\n",
       "      <td>days_to_subtract=7</td>\n",
       "      <td>0</td>\n",
       "      <td>0</td>\n",
       "      <td>0.1</td>\n",
       "      <td>madness</td>\n",
       "      <td>Massey</td>\n",
       "      <td>Direct</td>\n",
       "      <td>1.0</td>\n",
       "      <td>1.0</td>\n",
       "      <td>32.0</td>\n",
       "      <td>44.0</td>\n",
       "      <td>16.0</td>\n",
       "      <td>22.0</td>\n",
       "      <td>7.0</td>\n",
       "    </tr>\n",
       "    <tr>\n",
       "      <th>508</th>\n",
       "      <td>2018</td>\n",
       "      <td>days_to_subtract=7</td>\n",
       "      <td>0</td>\n",
       "      <td>0</td>\n",
       "      <td>0.1</td>\n",
       "      <td>madness</td>\n",
       "      <td>Massey</td>\n",
       "      <td>Indirect</td>\n",
       "      <td>16.0</td>\n",
       "      <td>80.0</td>\n",
       "      <td>18.0</td>\n",
       "      <td>6.0</td>\n",
       "      <td>9.0</td>\n",
       "      <td>3.0</td>\n",
       "      <td>7.0</td>\n",
       "    </tr>\n",
       "    <tr>\n",
       "      <th>509</th>\n",
       "      <td>2018</td>\n",
       "      <td>days_to_subtract=7</td>\n",
       "      <td>0</td>\n",
       "      <td>0</td>\n",
       "      <td>0.1</td>\n",
       "      <td>madness</td>\n",
       "      <td>Massey</td>\n",
       "      <td>Both</td>\n",
       "      <td>3.1</td>\n",
       "      <td>90.0</td>\n",
       "      <td>12.0</td>\n",
       "      <td>8.0</td>\n",
       "      <td>6.0</td>\n",
       "      <td>4.0</td>\n",
       "      <td>7.0</td>\n",
       "    </tr>\n",
       "  </tbody>\n",
       "</table>\n",
       "<p>510 rows × 15 columns</p>\n",
       "</div>"
      ],
      "text/plain": [
       "     Year days_to_subtract_key  direct_thres  spread_thres  weight_indirect  \\\n",
       "0    2002  days_to_subtract=35             0             0              0.1   \n",
       "1    2002  days_to_subtract=35             0             0              0.1   \n",
       "2    2002  days_to_subtract=35             0             0              0.1   \n",
       "3    2002  days_to_subtract=35             0             0              0.1   \n",
       "4    2002  days_to_subtract=35             0             0              0.1   \n",
       "..    ...                  ...           ...           ...              ...   \n",
       "505  2018   days_to_subtract=7             0             0              0.1   \n",
       "506  2018   days_to_subtract=7             0             0              0.1   \n",
       "507  2018   days_to_subtract=7             0             0              0.1   \n",
       "508  2018   days_to_subtract=7             0             0              0.1   \n",
       "509  2018   days_to_subtract=7             0             0              0.1   \n",
       "\n",
       "       range  Method Construction  delta_lop  delta_hillside  nfrac_xstar_lop  \\\n",
       "0    madness  Colley       Direct        0.0             0.0             56.0   \n",
       "1    madness  Colley     Indirect        4.0            48.0             38.0   \n",
       "2    madness  Colley         Both        0.4            56.0             12.0   \n",
       "3    madness  Massey       Direct        0.0             0.0             56.0   \n",
       "4    madness  Massey     Indirect        7.0            62.0             30.0   \n",
       "..       ...     ...          ...        ...             ...              ...   \n",
       "505  madness  Colley     Indirect        8.0            62.0             14.0   \n",
       "506  madness  Colley         Both        1.5            78.0              4.0   \n",
       "507  madness  Massey       Direct        1.0             1.0             32.0   \n",
       "508  madness  Massey     Indirect       16.0            80.0             18.0   \n",
       "509  madness  Massey         Both        3.1            90.0             12.0   \n",
       "\n",
       "     nfrac_xstar_hillside  diameter_lop  diameter_hillside  days_to_subtract1  \n",
       "0                    70.0          28.0               35.0               35.0  \n",
       "1                     6.0          18.0                3.0               35.0  \n",
       "2                     8.0           6.0                4.0               35.0  \n",
       "3                    68.0          28.0               34.0               35.0  \n",
       "4                     8.0          15.0                4.0               35.0  \n",
       "..                    ...           ...                ...                ...  \n",
       "505                   6.0           7.0                3.0                7.0  \n",
       "506                  12.0           2.0                4.0                7.0  \n",
       "507                  44.0          16.0               22.0                7.0  \n",
       "508                   6.0           9.0                3.0                7.0  \n",
       "509                   8.0           6.0                4.0                7.0  \n",
       "\n",
       "[510 rows x 15 columns]"
      ]
     },
     "execution_count": 31,
     "metadata": {},
     "output_type": "execute_result"
    }
   ],
   "source": [
    "X_for_join = X.copy().reset_index()\n",
    "X_for_join['days_to_subtract1']= X_for_join['days_to_subtract_key'].str.replace(\"days_to_subtract=\",\"\").astype(float)\n",
    "X_for_join.weight_indirect=0.1\n",
    "X_for_join"
   ]
  },
  {
   "cell_type": "code",
   "execution_count": 32,
   "metadata": {},
   "outputs": [
    {
     "data": {
      "text/html": [
       "<div>\n",
       "<style scoped>\n",
       "    .dataframe tbody tr th:only-of-type {\n",
       "        vertical-align: middle;\n",
       "    }\n",
       "\n",
       "    .dataframe tbody tr th {\n",
       "        vertical-align: top;\n",
       "    }\n",
       "\n",
       "    .dataframe thead th {\n",
       "        text-align: right;\n",
       "    }\n",
       "</style>\n",
       "<table border=\"1\" class=\"dataframe\">\n",
       "  <thead>\n",
       "    <tr style=\"text-align: right;\">\n",
       "      <th></th>\n",
       "      <th></th>\n",
       "      <th></th>\n",
       "      <th></th>\n",
       "      <th></th>\n",
       "      <th></th>\n",
       "      <th></th>\n",
       "      <th>top10_jaccard</th>\n",
       "      <th>top10_tau</th>\n",
       "    </tr>\n",
       "    <tr>\n",
       "      <th>days_to_subtract1</th>\n",
       "      <th>days_to_subtract2</th>\n",
       "      <th>Method</th>\n",
       "      <th>Year</th>\n",
       "      <th>direct_thres</th>\n",
       "      <th>spread_thres</th>\n",
       "      <th>weight_indirect</th>\n",
       "      <th></th>\n",
       "      <th></th>\n",
       "    </tr>\n",
       "  </thead>\n",
       "  <tbody>\n",
       "    <tr>\n",
       "      <th rowspan=\"5\" valign=\"top\">7</th>\n",
       "      <th rowspan=\"5\" valign=\"top\">14</th>\n",
       "      <th rowspan=\"5\" valign=\"top\">Colley</th>\n",
       "      <th>2002</th>\n",
       "      <th>0</th>\n",
       "      <th>0</th>\n",
       "      <th>0.1</th>\n",
       "      <td>0.800000</td>\n",
       "      <td>0.277778</td>\n",
       "    </tr>\n",
       "    <tr>\n",
       "      <th>2003</th>\n",
       "      <th>0</th>\n",
       "      <th>0</th>\n",
       "      <th>0.1</th>\n",
       "      <td>0.800000</td>\n",
       "      <td>-0.111111</td>\n",
       "    </tr>\n",
       "    <tr>\n",
       "      <th>2004</th>\n",
       "      <th>0</th>\n",
       "      <th>0</th>\n",
       "      <th>0.1</th>\n",
       "      <td>0.636364</td>\n",
       "      <td>0.055556</td>\n",
       "    </tr>\n",
       "    <tr>\n",
       "      <th>2005</th>\n",
       "      <th>0</th>\n",
       "      <th>0</th>\n",
       "      <th>0.1</th>\n",
       "      <td>1.000000</td>\n",
       "      <td>-0.555556</td>\n",
       "    </tr>\n",
       "    <tr>\n",
       "      <th>2006</th>\n",
       "      <th>0</th>\n",
       "      <th>0</th>\n",
       "      <th>0.1</th>\n",
       "      <td>0.636364</td>\n",
       "      <td>-0.444444</td>\n",
       "    </tr>\n",
       "    <tr>\n",
       "      <th>...</th>\n",
       "      <th>...</th>\n",
       "      <th>...</th>\n",
       "      <th>...</th>\n",
       "      <th>...</th>\n",
       "      <th>...</th>\n",
       "      <th>...</th>\n",
       "      <td>...</td>\n",
       "      <td>...</td>\n",
       "    </tr>\n",
       "    <tr>\n",
       "      <th rowspan=\"5\" valign=\"top\">28</th>\n",
       "      <th rowspan=\"5\" valign=\"top\">35</th>\n",
       "      <th rowspan=\"5\" valign=\"top\">Massey</th>\n",
       "      <th>2014</th>\n",
       "      <th>0</th>\n",
       "      <th>0</th>\n",
       "      <th>0.1</th>\n",
       "      <td>0.636364</td>\n",
       "      <td>0.111111</td>\n",
       "    </tr>\n",
       "    <tr>\n",
       "      <th>2015</th>\n",
       "      <th>0</th>\n",
       "      <th>0</th>\n",
       "      <th>0.1</th>\n",
       "      <td>0.800000</td>\n",
       "      <td>-0.222222</td>\n",
       "    </tr>\n",
       "    <tr>\n",
       "      <th>2016</th>\n",
       "      <th>0</th>\n",
       "      <th>0</th>\n",
       "      <th>0.1</th>\n",
       "      <td>0.800000</td>\n",
       "      <td>0.166667</td>\n",
       "    </tr>\n",
       "    <tr>\n",
       "      <th>2017</th>\n",
       "      <th>0</th>\n",
       "      <th>0</th>\n",
       "      <th>0.1</th>\n",
       "      <td>1.000000</td>\n",
       "      <td>0.111111</td>\n",
       "    </tr>\n",
       "    <tr>\n",
       "      <th>2018</th>\n",
       "      <th>0</th>\n",
       "      <th>0</th>\n",
       "      <th>0.1</th>\n",
       "      <td>0.636364</td>\n",
       "      <td>0.055556</td>\n",
       "    </tr>\n",
       "  </tbody>\n",
       "</table>\n",
       "<p>340 rows × 2 columns</p>\n",
       "</div>"
      ],
      "text/plain": [
       "                                                                                           top10_jaccard  \\\n",
       "days_to_subtract1 days_to_subtract2 Method Year direct_thres spread_thres weight_indirect                  \n",
       "7                 14                Colley 2002 0            0            0.1                   0.800000   \n",
       "                                           2003 0            0            0.1                   0.800000   \n",
       "                                           2004 0            0            0.1                   0.636364   \n",
       "                                           2005 0            0            0.1                   1.000000   \n",
       "                                           2006 0            0            0.1                   0.636364   \n",
       "...                                                                                                  ...   \n",
       "28                35                Massey 2014 0            0            0.1                   0.636364   \n",
       "                                           2015 0            0            0.1                   0.800000   \n",
       "                                           2016 0            0            0.1                   0.800000   \n",
       "                                           2017 0            0            0.1                   1.000000   \n",
       "                                           2018 0            0            0.1                   0.636364   \n",
       "\n",
       "                                                                                           top10_tau  \n",
       "days_to_subtract1 days_to_subtract2 Method Year direct_thres spread_thres weight_indirect             \n",
       "7                 14                Colley 2002 0            0            0.1               0.277778  \n",
       "                                           2003 0            0            0.1              -0.111111  \n",
       "                                           2004 0            0            0.1               0.055556  \n",
       "                                           2005 0            0            0.1              -0.555556  \n",
       "                                           2006 0            0            0.1              -0.444444  \n",
       "...                                                                                              ...  \n",
       "28                35                Massey 2014 0            0            0.1               0.111111  \n",
       "                                           2015 0            0            0.1              -0.222222  \n",
       "                                           2016 0            0            0.1               0.166667  \n",
       "                                           2017 0            0            0.1               0.111111  \n",
       "                                           2018 0            0            0.1               0.055556  \n",
       "\n",
       "[340 rows x 2 columns]"
      ]
     },
     "execution_count": 32,
     "metadata": {},
     "output_type": "execute_result"
    }
   ],
   "source": [
    "target"
   ]
  },
  {
   "cell_type": "code",
   "execution_count": 33,
   "metadata": {},
   "outputs": [
    {
     "data": {
      "text/html": [
       "<div>\n",
       "<style scoped>\n",
       "    .dataframe tbody tr th:only-of-type {\n",
       "        vertical-align: middle;\n",
       "    }\n",
       "\n",
       "    .dataframe tbody tr th {\n",
       "        vertical-align: top;\n",
       "    }\n",
       "\n",
       "    .dataframe thead th {\n",
       "        text-align: right;\n",
       "    }\n",
       "</style>\n",
       "<table border=\"1\" class=\"dataframe\">\n",
       "  <thead>\n",
       "    <tr style=\"text-align: right;\">\n",
       "      <th></th>\n",
       "      <th>Method</th>\n",
       "      <th>days_to_subtract1</th>\n",
       "      <th>Year</th>\n",
       "      <th>direct_thres</th>\n",
       "      <th>spread_thres</th>\n",
       "      <th>weight_indirect</th>\n",
       "      <th>days_to_subtract2</th>\n",
       "      <th>top10_jaccard</th>\n",
       "      <th>top10_tau</th>\n",
       "      <th>days_to_subtract_key</th>\n",
       "      <th>range</th>\n",
       "      <th>Construction</th>\n",
       "      <th>delta_lop</th>\n",
       "      <th>delta_hillside</th>\n",
       "      <th>nfrac_xstar_lop</th>\n",
       "      <th>nfrac_xstar_hillside</th>\n",
       "      <th>diameter_lop</th>\n",
       "      <th>diameter_hillside</th>\n",
       "    </tr>\n",
       "  </thead>\n",
       "  <tbody>\n",
       "    <tr>\n",
       "      <th>0</th>\n",
       "      <td>Colley</td>\n",
       "      <td>7</td>\n",
       "      <td>2002</td>\n",
       "      <td>0</td>\n",
       "      <td>0</td>\n",
       "      <td>0.1</td>\n",
       "      <td>14</td>\n",
       "      <td>0.800000</td>\n",
       "      <td>0.277778</td>\n",
       "      <td>days_to_subtract=7</td>\n",
       "      <td>madness</td>\n",
       "      <td>Direct</td>\n",
       "      <td>1.0</td>\n",
       "      <td>0.0</td>\n",
       "      <td>50.0</td>\n",
       "      <td>54.0</td>\n",
       "      <td>25.0</td>\n",
       "      <td>27.0</td>\n",
       "    </tr>\n",
       "    <tr>\n",
       "      <th>1</th>\n",
       "      <td>Colley</td>\n",
       "      <td>7</td>\n",
       "      <td>2002</td>\n",
       "      <td>0</td>\n",
       "      <td>0</td>\n",
       "      <td>0.1</td>\n",
       "      <td>14</td>\n",
       "      <td>0.800000</td>\n",
       "      <td>0.277778</td>\n",
       "      <td>days_to_subtract=7</td>\n",
       "      <td>madness</td>\n",
       "      <td>Indirect</td>\n",
       "      <td>9.0</td>\n",
       "      <td>87.0</td>\n",
       "      <td>8.0</td>\n",
       "      <td>10.0</td>\n",
       "      <td>4.0</td>\n",
       "      <td>5.0</td>\n",
       "    </tr>\n",
       "    <tr>\n",
       "      <th>2</th>\n",
       "      <td>Colley</td>\n",
       "      <td>7</td>\n",
       "      <td>2002</td>\n",
       "      <td>0</td>\n",
       "      <td>0</td>\n",
       "      <td>0.1</td>\n",
       "      <td>14</td>\n",
       "      <td>0.800000</td>\n",
       "      <td>0.277778</td>\n",
       "      <td>days_to_subtract=7</td>\n",
       "      <td>madness</td>\n",
       "      <td>Both</td>\n",
       "      <td>2.0</td>\n",
       "      <td>104.0</td>\n",
       "      <td>6.0</td>\n",
       "      <td>10.0</td>\n",
       "      <td>3.0</td>\n",
       "      <td>5.0</td>\n",
       "    </tr>\n",
       "    <tr>\n",
       "      <th>3</th>\n",
       "      <td>Colley</td>\n",
       "      <td>7</td>\n",
       "      <td>2002</td>\n",
       "      <td>0</td>\n",
       "      <td>0</td>\n",
       "      <td>0.1</td>\n",
       "      <td>21</td>\n",
       "      <td>0.636364</td>\n",
       "      <td>-0.555556</td>\n",
       "      <td>days_to_subtract=7</td>\n",
       "      <td>madness</td>\n",
       "      <td>Direct</td>\n",
       "      <td>1.0</td>\n",
       "      <td>0.0</td>\n",
       "      <td>50.0</td>\n",
       "      <td>54.0</td>\n",
       "      <td>25.0</td>\n",
       "      <td>27.0</td>\n",
       "    </tr>\n",
       "    <tr>\n",
       "      <th>4</th>\n",
       "      <td>Colley</td>\n",
       "      <td>7</td>\n",
       "      <td>2002</td>\n",
       "      <td>0</td>\n",
       "      <td>0</td>\n",
       "      <td>0.1</td>\n",
       "      <td>21</td>\n",
       "      <td>0.636364</td>\n",
       "      <td>-0.555556</td>\n",
       "      <td>days_to_subtract=7</td>\n",
       "      <td>madness</td>\n",
       "      <td>Indirect</td>\n",
       "      <td>9.0</td>\n",
       "      <td>87.0</td>\n",
       "      <td>8.0</td>\n",
       "      <td>10.0</td>\n",
       "      <td>4.0</td>\n",
       "      <td>5.0</td>\n",
       "    </tr>\n",
       "    <tr>\n",
       "      <th>...</th>\n",
       "      <td>...</td>\n",
       "      <td>...</td>\n",
       "      <td>...</td>\n",
       "      <td>...</td>\n",
       "      <td>...</td>\n",
       "      <td>...</td>\n",
       "      <td>...</td>\n",
       "      <td>...</td>\n",
       "      <td>...</td>\n",
       "      <td>...</td>\n",
       "      <td>...</td>\n",
       "      <td>...</td>\n",
       "      <td>...</td>\n",
       "      <td>...</td>\n",
       "      <td>...</td>\n",
       "      <td>...</td>\n",
       "      <td>...</td>\n",
       "      <td>...</td>\n",
       "    </tr>\n",
       "    <tr>\n",
       "      <th>1015</th>\n",
       "      <td>Massey</td>\n",
       "      <td>28</td>\n",
       "      <td>2017</td>\n",
       "      <td>0</td>\n",
       "      <td>0</td>\n",
       "      <td>0.1</td>\n",
       "      <td>35</td>\n",
       "      <td>1.000000</td>\n",
       "      <td>0.111111</td>\n",
       "      <td>days_to_subtract=28</td>\n",
       "      <td>madness</td>\n",
       "      <td>Indirect</td>\n",
       "      <td>11.0</td>\n",
       "      <td>80.0</td>\n",
       "      <td>16.0</td>\n",
       "      <td>10.0</td>\n",
       "      <td>8.0</td>\n",
       "      <td>5.0</td>\n",
       "    </tr>\n",
       "    <tr>\n",
       "      <th>1016</th>\n",
       "      <td>Massey</td>\n",
       "      <td>28</td>\n",
       "      <td>2017</td>\n",
       "      <td>0</td>\n",
       "      <td>0</td>\n",
       "      <td>0.1</td>\n",
       "      <td>35</td>\n",
       "      <td>1.000000</td>\n",
       "      <td>0.111111</td>\n",
       "      <td>days_to_subtract=28</td>\n",
       "      <td>madness</td>\n",
       "      <td>Both</td>\n",
       "      <td>2.1</td>\n",
       "      <td>92.0</td>\n",
       "      <td>12.0</td>\n",
       "      <td>0.0</td>\n",
       "      <td>6.0</td>\n",
       "      <td>-0.0</td>\n",
       "    </tr>\n",
       "    <tr>\n",
       "      <th>1017</th>\n",
       "      <td>Massey</td>\n",
       "      <td>28</td>\n",
       "      <td>2018</td>\n",
       "      <td>0</td>\n",
       "      <td>0</td>\n",
       "      <td>0.1</td>\n",
       "      <td>35</td>\n",
       "      <td>0.636364</td>\n",
       "      <td>0.055556</td>\n",
       "      <td>days_to_subtract=28</td>\n",
       "      <td>madness</td>\n",
       "      <td>Direct</td>\n",
       "      <td>2.0</td>\n",
       "      <td>2.0</td>\n",
       "      <td>64.0</td>\n",
       "      <td>64.0</td>\n",
       "      <td>31.0</td>\n",
       "      <td>31.0</td>\n",
       "    </tr>\n",
       "    <tr>\n",
       "      <th>1018</th>\n",
       "      <td>Massey</td>\n",
       "      <td>28</td>\n",
       "      <td>2018</td>\n",
       "      <td>0</td>\n",
       "      <td>0</td>\n",
       "      <td>0.1</td>\n",
       "      <td>35</td>\n",
       "      <td>0.636364</td>\n",
       "      <td>0.055556</td>\n",
       "      <td>days_to_subtract=28</td>\n",
       "      <td>madness</td>\n",
       "      <td>Indirect</td>\n",
       "      <td>7.0</td>\n",
       "      <td>84.0</td>\n",
       "      <td>16.0</td>\n",
       "      <td>2.0</td>\n",
       "      <td>8.0</td>\n",
       "      <td>1.0</td>\n",
       "    </tr>\n",
       "    <tr>\n",
       "      <th>1019</th>\n",
       "      <td>Massey</td>\n",
       "      <td>28</td>\n",
       "      <td>2018</td>\n",
       "      <td>0</td>\n",
       "      <td>0</td>\n",
       "      <td>0.1</td>\n",
       "      <td>35</td>\n",
       "      <td>0.636364</td>\n",
       "      <td>0.055556</td>\n",
       "      <td>days_to_subtract=28</td>\n",
       "      <td>madness</td>\n",
       "      <td>Both</td>\n",
       "      <td>1.9</td>\n",
       "      <td>97.0</td>\n",
       "      <td>4.0</td>\n",
       "      <td>8.0</td>\n",
       "      <td>2.0</td>\n",
       "      <td>4.0</td>\n",
       "    </tr>\n",
       "  </tbody>\n",
       "</table>\n",
       "<p>1020 rows × 18 columns</p>\n",
       "</div>"
      ],
      "text/plain": [
       "      Method  days_to_subtract1  Year  direct_thres  spread_thres  \\\n",
       "0     Colley                  7  2002             0             0   \n",
       "1     Colley                  7  2002             0             0   \n",
       "2     Colley                  7  2002             0             0   \n",
       "3     Colley                  7  2002             0             0   \n",
       "4     Colley                  7  2002             0             0   \n",
       "...      ...                ...   ...           ...           ...   \n",
       "1015  Massey                 28  2017             0             0   \n",
       "1016  Massey                 28  2017             0             0   \n",
       "1017  Massey                 28  2018             0             0   \n",
       "1018  Massey                 28  2018             0             0   \n",
       "1019  Massey                 28  2018             0             0   \n",
       "\n",
       "      weight_indirect  days_to_subtract2  top10_jaccard  top10_tau  \\\n",
       "0                 0.1                 14       0.800000   0.277778   \n",
       "1                 0.1                 14       0.800000   0.277778   \n",
       "2                 0.1                 14       0.800000   0.277778   \n",
       "3                 0.1                 21       0.636364  -0.555556   \n",
       "4                 0.1                 21       0.636364  -0.555556   \n",
       "...               ...                ...            ...        ...   \n",
       "1015              0.1                 35       1.000000   0.111111   \n",
       "1016              0.1                 35       1.000000   0.111111   \n",
       "1017              0.1                 35       0.636364   0.055556   \n",
       "1018              0.1                 35       0.636364   0.055556   \n",
       "1019              0.1                 35       0.636364   0.055556   \n",
       "\n",
       "     days_to_subtract_key    range Construction  delta_lop  delta_hillside  \\\n",
       "0      days_to_subtract=7  madness       Direct        1.0             0.0   \n",
       "1      days_to_subtract=7  madness     Indirect        9.0            87.0   \n",
       "2      days_to_subtract=7  madness         Both        2.0           104.0   \n",
       "3      days_to_subtract=7  madness       Direct        1.0             0.0   \n",
       "4      days_to_subtract=7  madness     Indirect        9.0            87.0   \n",
       "...                   ...      ...          ...        ...             ...   \n",
       "1015  days_to_subtract=28  madness     Indirect       11.0            80.0   \n",
       "1016  days_to_subtract=28  madness         Both        2.1            92.0   \n",
       "1017  days_to_subtract=28  madness       Direct        2.0             2.0   \n",
       "1018  days_to_subtract=28  madness     Indirect        7.0            84.0   \n",
       "1019  days_to_subtract=28  madness         Both        1.9            97.0   \n",
       "\n",
       "      nfrac_xstar_lop  nfrac_xstar_hillside  diameter_lop  diameter_hillside  \n",
       "0                50.0                  54.0          25.0               27.0  \n",
       "1                 8.0                  10.0           4.0                5.0  \n",
       "2                 6.0                  10.0           3.0                5.0  \n",
       "3                50.0                  54.0          25.0               27.0  \n",
       "4                 8.0                  10.0           4.0                5.0  \n",
       "...               ...                   ...           ...                ...  \n",
       "1015             16.0                  10.0           8.0                5.0  \n",
       "1016             12.0                   0.0           6.0               -0.0  \n",
       "1017             64.0                  64.0          31.0               31.0  \n",
       "1018             16.0                   2.0           8.0                1.0  \n",
       "1019              4.0                   8.0           2.0                4.0  \n",
       "\n",
       "[1020 rows x 18 columns]"
      ]
     },
     "execution_count": 33,
     "metadata": {},
     "output_type": "execute_result"
    }
   ],
   "source": [
    "Xy = target.reset_index().set_index(['Method','days_to_subtract1','Year','direct_thres','spread_thres','weight_indirect']).join(X_for_join.set_index(['Method','days_to_subtract1','Year','direct_thres','spread_thres','weight_indirect'])).dropna()\n",
    "Xy = Xy.reset_index()\n",
    "Xy"
   ]
  },
  {
   "cell_type": "markdown",
   "metadata": {},
   "source": [
    "## Process results"
   ]
  },
  {
   "cell_type": "code",
   "execution_count": 34,
   "metadata": {},
   "outputs": [],
   "source": [
    "pairs_by_width = {}\n",
    "for f1,f2 in itertools.combinations(X_for_join['days_to_subtract1'].unique().astype(int),2):\n",
    "    if f2 < f1:\n",
    "        f1,f2 = f2,f1\n",
    "    width = f2-f1#round(100*(f2-f1))\n",
    "    if width not in pairs_by_width:\n",
    "        pairs_by_width[width] = []\n",
    "    pairs_by_width[width].append((f1,f2))"
   ]
  },
  {
   "cell_type": "code",
   "execution_count": 35,
   "metadata": {},
   "outputs": [
    {
     "data": {
      "text/plain": [
       "{7: [(28, 35), (21, 28), (14, 21), (7, 14)],\n",
       " 14: [(21, 35), (14, 28), (7, 21)],\n",
       " 21: [(14, 35), (7, 28)],\n",
       " 28: [(7, 35)]}"
      ]
     },
     "execution_count": 35,
     "metadata": {},
     "output_type": "execute_result"
    }
   ],
   "source": [
    "pairs_by_width"
   ]
  },
  {
   "cell_type": "code",
   "execution_count": 36,
   "metadata": {},
   "outputs": [
    {
     "data": {
      "text/plain": [
       "['days_to_subtract1',\n",
       " 'days_to_subtract2',\n",
       " 'Method',\n",
       " 'Construction',\n",
       " 'delta_lop',\n",
       " 'delta_hillside',\n",
       " 'nfrac_xstar_lop',\n",
       " 'nfrac_xstar_hillside',\n",
       " 'diameter_lop',\n",
       " 'diameter_hillside']"
      ]
     },
     "execution_count": 36,
     "metadata": {},
     "output_type": "execute_result"
    }
   ],
   "source": [
    "[\"days_to_subtract1\",\"days_to_subtract2\",\"Method\",\"Construction\"]+feature_columns"
   ]
  },
  {
   "cell_type": "code",
   "execution_count": 37,
   "metadata": {},
   "outputs": [],
   "source": [
    "#!sudo pip install pandas --upgrade"
   ]
  },
  {
   "cell_type": "code",
   "execution_count": 38,
   "metadata": {
    "scrolled": true
   },
   "outputs": [
    {
     "name": "stderr",
     "output_type": "stream",
     "text": [
      "/opt/tljh/user/lib/python3.7/site-packages/ipykernel_launcher.py:11: PerformanceWarning: indexing past lexsort depth may impact performance.\n",
      "  # This is added back by InteractiveShellApp.init_path()\n",
      "/opt/tljh/user/lib/python3.7/site-packages/ipykernel_launcher.py:16: PerformanceWarning: indexing past lexsort depth may impact performance.\n",
      "  app.launch_new_instance()\n"
     ]
    }
   ],
   "source": [
    "import altair as alt\n",
    "\n",
    "index_cols = ['Method', 'Construction', 'days_to_subtract1', 'days_to_subtract2','width']\n",
    "graph_dfs = {}\n",
    "for target_column in feature_names:\n",
    "    graph_df = pd.DataFrame(columns=index_cols+feature_columns).set_index(index_cols)\n",
    "\n",
    "    for width in pairs_by_width.keys():\n",
    "        summary = None\n",
    "        for pair in pairs_by_width[width]:\n",
    "            data = Xy.set_index(['days_to_subtract1','days_to_subtract2']).loc[pair].reset_index()\n",
    "            for_corr = data.set_index(['Method','Construction',\"days_to_subtract1\",\"days_to_subtract2\"])\n",
    "            if summary is None:\n",
    "                summary = pd.DataFrame(columns=[\"days_to_subtract1\",\"days_to_subtract2\",\"Method\",\"Construction\"]+feature_columns).set_index(list(for_corr.index.names))\n",
    "            for ix in for_corr.index.unique():\n",
    "                corr_results = for_corr.loc[ix][[target_column]+feature_columns].corr()\n",
    "                target_corr_results = corr_results.loc[target_column].drop(target_column)\n",
    "                target_corr_results.name = ix\n",
    "                summary = summary.append(target_corr_results)\n",
    "\n",
    "        graph_df1 = summary.reset_index()\n",
    "        graph_df1['width'] = width\n",
    "        graph_df1 = graph_df1.set_index(index_cols)\n",
    "        graph_df = graph_df.append(graph_df1)\n",
    "    graph_dfs[target_column]=graph_df"
   ]
  },
  {
   "cell_type": "code",
   "execution_count": 39,
   "metadata": {},
   "outputs": [],
   "source": [
    "for key in graph_dfs.keys():\n",
    "    graph_dfs[key] = graph_dfs[key].reset_index()"
   ]
  },
  {
   "cell_type": "code",
   "execution_count": null,
   "metadata": {},
   "outputs": [],
   "source": [
    "graph_dfs[key].head()"
   ]
  },
  {
   "cell_type": "code",
   "execution_count": null,
   "metadata": {},
   "outputs": [],
   "source": [
    "for key in graph_dfs.keys():\n",
    "    display(Markdown(f'## {key}'))\n",
    "    graph_df = graph_dfs[key].melt(value_vars=feature_columns,id_vars=index_cols,value_name='Value',var_name='Feature')\n",
    "\n",
    "    display(Markdown('### Colley'))\n",
    "    g = alt.Chart(graph_df.set_index('Method').loc['Colley']).mark_bar().encode(\n",
    "        x='width:N',\n",
    "        y=alt.Y('average(Value)',scale=alt.Scale(domain=[-.6, .6])),\n",
    "        row='Feature:N',\n",
    "        color='Construction:N',\n",
    "        column='Construction:N'\n",
    "    )\n",
    "    display(g)\n",
    "    \n",
    "    display(Markdown('### Massey'))\n",
    "    g = alt.Chart(graph_df.set_index('Method').loc['Massey']).mark_bar().encode(\n",
    "        x='width:N',\n",
    "        y=alt.Y('average(Value)',scale=alt.Scale(domain=[-.6, .6])),\n",
    "        row='Feature:N',\n",
    "        color='Construction:N',\n",
    "        column='Construction:N'\n",
    "    )\n",
    "    display(g)"
   ]
  },
  {
   "cell_type": "markdown",
   "metadata": {},
   "source": [
    "### Old below this line"
   ]
  },
  {
   "cell_type": "markdown",
   "metadata": {},
   "source": [
    "### Colley"
   ]
  },
  {
   "cell_type": "code",
   "execution_count": null,
   "metadata": {},
   "outputs": [],
   "source": []
  },
  {
   "cell_type": "code",
   "execution_count": null,
   "metadata": {},
   "outputs": [],
   "source": [
    "g = alt.Chart(graph_df.set_index('Method').loc['Massey']).mark_bar().encode(\n",
    "    x='width:N',\n",
    "    y=alt.Y('average(Value)',scale=alt.Scale(domain=[-.6, .6])),\n",
    "    row='Feature:N',\n",
    "    color='Construction:N',\n",
    "    column='Construction:N'\n",
    ")"
   ]
  },
  {
   "cell_type": "markdown",
   "metadata": {},
   "source": [
    "### Massey"
   ]
  },
  {
   "cell_type": "code",
   "execution_count": null,
   "metadata": {},
   "outputs": [],
   "source": [
    "g"
   ]
  },
  {
   "cell_type": "markdown",
   "metadata": {},
   "source": [
    "## old below"
   ]
  },
  {
   "cell_type": "markdown",
   "metadata": {},
   "source": [
    "## 0.6 to 0.7"
   ]
  },
  {
   "cell_type": "markdown",
   "metadata": {},
   "source": [
    "(this was already broken)"
   ]
  },
  {
   "cell_type": "code",
   "execution_count": null,
   "metadata": {},
   "outputs": [],
   "source": [
    "data = Xy.set_index(['frac1','frac2']).loc[(0.6,0.7)].reset_index()\n",
    "for_corr = data.set_index(['Method','Construction'])\n",
    "for ix in for_corr.index.unique():\n",
    "    display(pd.Series(ix,index=for_corr.index.names))\n",
    "    display(for_corr.loc[ix][[target_column]+feature_columns].corr())"
   ]
  },
  {
   "cell_type": "markdown",
   "metadata": {},
   "source": [
    "### 0.7 to 0.8"
   ]
  },
  {
   "cell_type": "code",
   "execution_count": null,
   "metadata": {},
   "outputs": [],
   "source": [
    "data = Xy.set_index(['frac1','frac2']).loc[(0.7,0.8)].reset_index()\n",
    "for_corr = data.set_index(['Method'])\n",
    "for ix in for_corr.index.unique():\n",
    "    display(pd.Series(ix,index=for_corr.index.names))\n",
    "    display(for_corr.loc[ix][[target_column]+feature_columns].corr())"
   ]
  },
  {
   "cell_type": "markdown",
   "metadata": {},
   "source": [
    "### 0.8 to 0.9"
   ]
  },
  {
   "cell_type": "code",
   "execution_count": null,
   "metadata": {},
   "outputs": [],
   "source": [
    "data = Xy.set_index(['frac1','frac2']).loc[(0.8,0.9)].reset_index()\n",
    "for_corr = data.set_index(['Method'])\n",
    "for ix in for_corr.index.unique():\n",
    "    display(pd.Series(ix,index=for_corr.index.names))\n",
    "    display(for_corr.loc[ix][[target_column]+feature_columns].corr())"
   ]
  },
  {
   "cell_type": "markdown",
   "metadata": {},
   "source": [
    "### 0.9 to 1."
   ]
  },
  {
   "cell_type": "code",
   "execution_count": null,
   "metadata": {},
   "outputs": [],
   "source": [
    "data = Xy.set_index(['frac1','frac2']).loc[(0.9,1.)].reset_index()\n",
    "for_corr = data.set_index(['Method'])\n",
    "for ix in for_corr.index.unique():\n",
    "    display(pd.Series(ix,index=for_corr.index.names))\n",
    "    display(for_corr.loc[ix][[target_column]+feature_columns].corr())"
   ]
  },
  {
   "cell_type": "code",
   "execution_count": null,
   "metadata": {},
   "outputs": [],
   "source": []
  },
  {
   "cell_type": "code",
   "execution_count": null,
   "metadata": {},
   "outputs": [],
   "source": [
    "for_corr = data.set_index(['Method','direct_thres','spread_thres','weight_indirect'])\n",
    "for_display = pd.DataFrame(columns=feature_columns+list(for_corr.index.names))\n",
    "for_display.set_index(list(for_corr.index.names),inplace=True)\n",
    "for ix in for_corr.index.unique():\n",
    "    dt = for_corr.loc[ix][[target_column]+feature_columns].corr().loc[target_column,feature_columns]\n",
    "    dt.name = ix\n",
    "    for_display = for_display.append(dt)"
   ]
  },
  {
   "cell_type": "code",
   "execution_count": null,
   "metadata": {},
   "outputs": [],
   "source": [
    "for_display.T"
   ]
  },
  {
   "cell_type": "code",
   "execution_count": null,
   "metadata": {},
   "outputs": [],
   "source": [
    "print(for_display.T.to_latex())"
   ]
  },
  {
   "cell_type": "code",
   "execution_count": null,
   "metadata": {},
   "outputs": [],
   "source": []
  }
 ],
 "metadata": {
  "kernelspec": {
   "display_name": "Python 3",
   "language": "python",
   "name": "python3"
  },
  "language_info": {
   "codemirror_mode": {
    "name": "ipython",
    "version": 3
   },
   "file_extension": ".py",
   "mimetype": "text/x-python",
   "name": "python",
   "nbconvert_exporter": "python",
   "pygments_lexer": "ipython3",
   "version": "3.7.3"
  }
 },
 "nbformat": 4,
 "nbformat_minor": 4
}
