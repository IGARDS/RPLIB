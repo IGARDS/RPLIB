{
 "cells": [
  {
   "cell_type": "markdown",
   "metadata": {},
   "source": [
    "# RPLib Problem 0001 - Baseline\n",
    "\n",
    "Provides the baseline version to rankability problem 0001. "
   ]
  },
  {
   "cell_type": "code",
   "execution_count": 31,
   "metadata": {},
   "outputs": [
    {
     "name": "stdout",
     "output_type": "stream",
     "text": [
      "The autoreload extension is already loaded. To reload it, use:\n",
      "  %reload_ext autoreload\n"
     ]
    }
   ],
   "source": [
    "%load_ext autoreload\n",
    "%autoreload 2\n",
    "%matplotlib inline"
   ]
  },
  {
   "cell_type": "code",
   "execution_count": 32,
   "metadata": {},
   "outputs": [],
   "source": [
    "import copy\n",
    "import os\n",
    "\n",
    "import pandas as pd\n",
    "import numpy as np\n",
    "\n",
    "from scipy.stats import pearsonr\n",
    "\n",
    "from tqdm import tqdm\n",
    "#import matplotlib.pyplot as plt\n",
    "from joblib import Parallel, delayed\n",
    "import joblib\n",
    "import itertools\n",
    "from pathlib import Path\n",
    "\n",
    "from IPython.display import display, Markdown, Latex"
   ]
  },
  {
   "cell_type": "markdown",
   "metadata": {},
   "source": [
    "**All packages are relative to the home directory of the user**"
   ]
  },
  {
   "cell_type": "code",
   "execution_count": 33,
   "metadata": {},
   "outputs": [],
   "source": [
    "home = str(Path.home())"
   ]
  },
  {
   "cell_type": "markdown",
   "metadata": {},
   "source": [
    "**Import the main rankability package**"
   ]
  },
  {
   "cell_type": "code",
   "execution_count": 34,
   "metadata": {},
   "outputs": [],
   "source": [
    "import sys\n",
    "sys.path.insert(0,\"%s/rankability_toolbox_dev\"%home)\n",
    "import pyrankability"
   ]
  },
  {
   "cell_type": "markdown",
   "metadata": {},
   "source": [
    "**Load the problem information**"
   ]
  },
  {
   "cell_type": "code",
   "execution_count": 35,
   "metadata": {},
   "outputs": [],
   "source": [
    "problem = joblib.load(\"generate.joblib.z\")"
   ]
  },
  {
   "cell_type": "markdown",
   "metadata": {},
   "source": [
    "## Explore and setup the problem"
   ]
  },
  {
   "cell_type": "code",
   "execution_count": 36,
   "metadata": {},
   "outputs": [
    {
     "data": {
      "text/plain": [
       "dict_keys(['description', 'target', 'data', 'other'])"
      ]
     },
     "execution_count": 36,
     "metadata": {},
     "output_type": "execute_result"
    }
   ],
   "source": [
    "problem.keys()"
   ]
  },
  {
   "cell_type": "code",
   "execution_count": 37,
   "metadata": {},
   "outputs": [
    {
     "name": "stdout",
     "output_type": "stream",
     "text": [
      "First representative example for the rankability library. Built around the study of NCAA Men's Basketball league.\n"
     ]
    }
   ],
   "source": [
    "print(problem[\"description\"])"
   ]
  },
  {
   "cell_type": "code",
   "execution_count": 38,
   "metadata": {},
   "outputs": [
    {
     "data": {
      "text/html": [
       "<div>\n",
       "<style scoped>\n",
       "    .dataframe tbody tr th:only-of-type {\n",
       "        vertical-align: middle;\n",
       "    }\n",
       "\n",
       "    .dataframe tbody tr th {\n",
       "        vertical-align: top;\n",
       "    }\n",
       "\n",
       "    .dataframe thead th {\n",
       "        text-align: right;\n",
       "    }\n",
       "</style>\n",
       "<table border=\"1\" class=\"dataframe\">\n",
       "  <thead>\n",
       "    <tr style=\"text-align: right;\">\n",
       "      <th></th>\n",
       "      <th>days_to_subtract1</th>\n",
       "      <th>days_to_subtract2</th>\n",
       "      <th>domain</th>\n",
       "      <th>range</th>\n",
       "      <th>direct_thres</th>\n",
       "      <th>spread_thres</th>\n",
       "      <th>weight_indirect</th>\n",
       "      <th>Method</th>\n",
       "      <th>Year</th>\n",
       "      <th>rankings1</th>\n",
       "      <th>rankings2</th>\n",
       "      <th>top10_jaccard</th>\n",
       "      <th>top10_tau</th>\n",
       "      <th>days_diff</th>\n",
       "    </tr>\n",
       "  </thead>\n",
       "  <tbody>\n",
       "    <tr>\n",
       "      <th>0</th>\n",
       "      <td>28</td>\n",
       "      <td>35</td>\n",
       "      <td>all</td>\n",
       "      <td>madness</td>\n",
       "      <td>0</td>\n",
       "      <td>0</td>\n",
       "      <td>0.1</td>\n",
       "      <td>Colley</td>\n",
       "      <td>2002</td>\n",
       "      <td>Alabama       6.0\n",
       "Arizona       7.0\n",
       "Cincinnati...</td>\n",
       "      <td>Alabama       6.0\n",
       "Arizona       7.0\n",
       "Cincinnati...</td>\n",
       "      <td>0.800000</td>\n",
       "      <td>0.388889</td>\n",
       "      <td>7</td>\n",
       "    </tr>\n",
       "    <tr>\n",
       "      <th>1</th>\n",
       "      <td>21</td>\n",
       "      <td>35</td>\n",
       "      <td>all</td>\n",
       "      <td>madness</td>\n",
       "      <td>0</td>\n",
       "      <td>0</td>\n",
       "      <td>0.1</td>\n",
       "      <td>Colley</td>\n",
       "      <td>2002</td>\n",
       "      <td>Alabama       5.0\n",
       "Arizona       9.0\n",
       "Cincinnati...</td>\n",
       "      <td>Alabama       6.0\n",
       "Arizona       7.0\n",
       "Cincinnati...</td>\n",
       "      <td>0.636364</td>\n",
       "      <td>-0.111111</td>\n",
       "      <td>14</td>\n",
       "    </tr>\n",
       "    <tr>\n",
       "      <th>2</th>\n",
       "      <td>14</td>\n",
       "      <td>35</td>\n",
       "      <td>all</td>\n",
       "      <td>madness</td>\n",
       "      <td>0</td>\n",
       "      <td>0</td>\n",
       "      <td>0.1</td>\n",
       "      <td>Colley</td>\n",
       "      <td>2002</td>\n",
       "      <td>Alabama       6.0\n",
       "Arizona       9.0\n",
       "Cincinnati...</td>\n",
       "      <td>Alabama       6.0\n",
       "Arizona       7.0\n",
       "Cincinnati...</td>\n",
       "      <td>0.800000</td>\n",
       "      <td>-0.055556</td>\n",
       "      <td>21</td>\n",
       "    </tr>\n",
       "    <tr>\n",
       "      <th>3</th>\n",
       "      <td>7</td>\n",
       "      <td>35</td>\n",
       "      <td>all</td>\n",
       "      <td>madness</td>\n",
       "      <td>0</td>\n",
       "      <td>0</td>\n",
       "      <td>0.1</td>\n",
       "      <td>Colley</td>\n",
       "      <td>2002</td>\n",
       "      <td>Alabama       6.0\n",
       "Arizona       7.0\n",
       "Cincinnati...</td>\n",
       "      <td>Alabama       6.0\n",
       "Arizona       7.0\n",
       "Cincinnati...</td>\n",
       "      <td>0.800000</td>\n",
       "      <td>0.000000</td>\n",
       "      <td>28</td>\n",
       "    </tr>\n",
       "    <tr>\n",
       "      <th>4</th>\n",
       "      <td>21</td>\n",
       "      <td>28</td>\n",
       "      <td>all</td>\n",
       "      <td>madness</td>\n",
       "      <td>0</td>\n",
       "      <td>0</td>\n",
       "      <td>0.1</td>\n",
       "      <td>Colley</td>\n",
       "      <td>2002</td>\n",
       "      <td>Alabama       5.0\n",
       "Arizona       9.0\n",
       "Cincinnati...</td>\n",
       "      <td>Alabama       6.0\n",
       "Arizona       7.0\n",
       "Cincinnati...</td>\n",
       "      <td>0.800000</td>\n",
       "      <td>-0.722222</td>\n",
       "      <td>7</td>\n",
       "    </tr>\n",
       "    <tr>\n",
       "      <th>...</th>\n",
       "      <td>...</td>\n",
       "      <td>...</td>\n",
       "      <td>...</td>\n",
       "      <td>...</td>\n",
       "      <td>...</td>\n",
       "      <td>...</td>\n",
       "      <td>...</td>\n",
       "      <td>...</td>\n",
       "      <td>...</td>\n",
       "      <td>...</td>\n",
       "      <td>...</td>\n",
       "      <td>...</td>\n",
       "      <td>...</td>\n",
       "      <td>...</td>\n",
       "    </tr>\n",
       "    <tr>\n",
       "      <th>1695</th>\n",
       "      <td>14</td>\n",
       "      <td>28</td>\n",
       "      <td>all</td>\n",
       "      <td>madness</td>\n",
       "      <td>0</td>\n",
       "      <td>0</td>\n",
       "      <td>0.1</td>\n",
       "      <td>Massey</td>\n",
       "      <td>2018</td>\n",
       "      <td>Cincinnati        8.0\n",
       "Duke              2.0\n",
       "Ka...</td>\n",
       "      <td>Cincinnati        6.0\n",
       "Duke              4.0\n",
       "Ka...</td>\n",
       "      <td>0.800000</td>\n",
       "      <td>0.222222</td>\n",
       "      <td>14</td>\n",
       "    </tr>\n",
       "    <tr>\n",
       "      <th>1696</th>\n",
       "      <td>7</td>\n",
       "      <td>28</td>\n",
       "      <td>all</td>\n",
       "      <td>madness</td>\n",
       "      <td>0</td>\n",
       "      <td>0</td>\n",
       "      <td>0.1</td>\n",
       "      <td>Massey</td>\n",
       "      <td>2018</td>\n",
       "      <td>Cincinnati        7.0\n",
       "Duke              2.0\n",
       "Ka...</td>\n",
       "      <td>Cincinnati        6.0\n",
       "Duke              4.0\n",
       "Ka...</td>\n",
       "      <td>0.800000</td>\n",
       "      <td>-0.111111</td>\n",
       "      <td>21</td>\n",
       "    </tr>\n",
       "    <tr>\n",
       "      <th>1697</th>\n",
       "      <td>14</td>\n",
       "      <td>21</td>\n",
       "      <td>all</td>\n",
       "      <td>madness</td>\n",
       "      <td>0</td>\n",
       "      <td>0</td>\n",
       "      <td>0.1</td>\n",
       "      <td>Massey</td>\n",
       "      <td>2018</td>\n",
       "      <td>Cincinnati        8.0\n",
       "Duke              2.0\n",
       "Ka...</td>\n",
       "      <td>Cincinnati        7.0\n",
       "Duke              3.0\n",
       "Ka...</td>\n",
       "      <td>0.800000</td>\n",
       "      <td>0.222222</td>\n",
       "      <td>7</td>\n",
       "    </tr>\n",
       "    <tr>\n",
       "      <th>1698</th>\n",
       "      <td>7</td>\n",
       "      <td>21</td>\n",
       "      <td>all</td>\n",
       "      <td>madness</td>\n",
       "      <td>0</td>\n",
       "      <td>0</td>\n",
       "      <td>0.1</td>\n",
       "      <td>Massey</td>\n",
       "      <td>2018</td>\n",
       "      <td>Cincinnati        7.0\n",
       "Duke              2.0\n",
       "Ka...</td>\n",
       "      <td>Cincinnati        7.0\n",
       "Duke              3.0\n",
       "Ka...</td>\n",
       "      <td>0.800000</td>\n",
       "      <td>0.222222</td>\n",
       "      <td>14</td>\n",
       "    </tr>\n",
       "    <tr>\n",
       "      <th>1699</th>\n",
       "      <td>7</td>\n",
       "      <td>14</td>\n",
       "      <td>all</td>\n",
       "      <td>madness</td>\n",
       "      <td>0</td>\n",
       "      <td>0</td>\n",
       "      <td>0.1</td>\n",
       "      <td>Massey</td>\n",
       "      <td>2018</td>\n",
       "      <td>Cincinnati        7.0\n",
       "Duke              2.0\n",
       "Ka...</td>\n",
       "      <td>Cincinnati        8.0\n",
       "Duke              2.0\n",
       "Ka...</td>\n",
       "      <td>1.000000</td>\n",
       "      <td>0.333333</td>\n",
       "      <td>7</td>\n",
       "    </tr>\n",
       "  </tbody>\n",
       "</table>\n",
       "<p>1700 rows × 14 columns</p>\n",
       "</div>"
      ],
      "text/plain": [
       "     days_to_subtract1 days_to_subtract2 domain    range direct_thres  \\\n",
       "0                   28                35    all  madness            0   \n",
       "1                   21                35    all  madness            0   \n",
       "2                   14                35    all  madness            0   \n",
       "3                    7                35    all  madness            0   \n",
       "4                   21                28    all  madness            0   \n",
       "...                ...               ...    ...      ...          ...   \n",
       "1695                14                28    all  madness            0   \n",
       "1696                 7                28    all  madness            0   \n",
       "1697                14                21    all  madness            0   \n",
       "1698                 7                21    all  madness            0   \n",
       "1699                 7                14    all  madness            0   \n",
       "\n",
       "     spread_thres  weight_indirect  Method  Year  \\\n",
       "0               0              0.1  Colley  2002   \n",
       "1               0              0.1  Colley  2002   \n",
       "2               0              0.1  Colley  2002   \n",
       "3               0              0.1  Colley  2002   \n",
       "4               0              0.1  Colley  2002   \n",
       "...           ...              ...     ...   ...   \n",
       "1695            0              0.1  Massey  2018   \n",
       "1696            0              0.1  Massey  2018   \n",
       "1697            0              0.1  Massey  2018   \n",
       "1698            0              0.1  Massey  2018   \n",
       "1699            0              0.1  Massey  2018   \n",
       "\n",
       "                                              rankings1  \\\n",
       "0     Alabama       6.0\n",
       "Arizona       7.0\n",
       "Cincinnati...   \n",
       "1     Alabama       5.0\n",
       "Arizona       9.0\n",
       "Cincinnati...   \n",
       "2     Alabama       6.0\n",
       "Arizona       9.0\n",
       "Cincinnati...   \n",
       "3     Alabama       6.0\n",
       "Arizona       7.0\n",
       "Cincinnati...   \n",
       "4     Alabama       5.0\n",
       "Arizona       9.0\n",
       "Cincinnati...   \n",
       "...                                                 ...   \n",
       "1695  Cincinnati        8.0\n",
       "Duke              2.0\n",
       "Ka...   \n",
       "1696  Cincinnati        7.0\n",
       "Duke              2.0\n",
       "Ka...   \n",
       "1697  Cincinnati        8.0\n",
       "Duke              2.0\n",
       "Ka...   \n",
       "1698  Cincinnati        7.0\n",
       "Duke              2.0\n",
       "Ka...   \n",
       "1699  Cincinnati        7.0\n",
       "Duke              2.0\n",
       "Ka...   \n",
       "\n",
       "                                              rankings2  top10_jaccard  \\\n",
       "0     Alabama       6.0\n",
       "Arizona       7.0\n",
       "Cincinnati...       0.800000   \n",
       "1     Alabama       6.0\n",
       "Arizona       7.0\n",
       "Cincinnati...       0.636364   \n",
       "2     Alabama       6.0\n",
       "Arizona       7.0\n",
       "Cincinnati...       0.800000   \n",
       "3     Alabama       6.0\n",
       "Arizona       7.0\n",
       "Cincinnati...       0.800000   \n",
       "4     Alabama       6.0\n",
       "Arizona       7.0\n",
       "Cincinnati...       0.800000   \n",
       "...                                                 ...            ...   \n",
       "1695  Cincinnati        6.0\n",
       "Duke              4.0\n",
       "Ka...       0.800000   \n",
       "1696  Cincinnati        6.0\n",
       "Duke              4.0\n",
       "Ka...       0.800000   \n",
       "1697  Cincinnati        7.0\n",
       "Duke              3.0\n",
       "Ka...       0.800000   \n",
       "1698  Cincinnati        7.0\n",
       "Duke              3.0\n",
       "Ka...       0.800000   \n",
       "1699  Cincinnati        8.0\n",
       "Duke              2.0\n",
       "Ka...       1.000000   \n",
       "\n",
       "      top10_tau days_diff  \n",
       "0      0.388889         7  \n",
       "1     -0.111111        14  \n",
       "2     -0.055556        21  \n",
       "3      0.000000        28  \n",
       "4     -0.722222         7  \n",
       "...         ...       ...  \n",
       "1695   0.222222        14  \n",
       "1696  -0.111111        21  \n",
       "1697   0.222222         7  \n",
       "1698   0.222222        14  \n",
       "1699   0.333333         7  \n",
       "\n",
       "[1700 rows x 14 columns]"
      ]
     },
     "execution_count": 38,
     "metadata": {},
     "output_type": "execute_result"
    }
   ],
   "source": [
    "problem['target']"
   ]
  },
  {
   "cell_type": "code",
   "execution_count": 39,
   "metadata": {},
   "outputs": [
    {
     "data": {
      "text/plain": [
       "dict_keys(['2002', '2003', '2004', '2005', '2006', '2007', '2008', '2009', '2010', '2011', '2012', '2013', '2014', '2015', '2016', '2017', '2018'])"
      ]
     },
     "execution_count": 39,
     "metadata": {},
     "output_type": "execute_result"
    }
   ],
   "source": [
    "problem['data'].keys()"
   ]
  },
  {
   "cell_type": "code",
   "execution_count": 40,
   "metadata": {},
   "outputs": [
    {
     "data": {
      "text/plain": [
       "dict_keys(['days_to_subtract=35', 'days_to_subtract=28', 'days_to_subtract=21', 'days_to_subtract=14', 'days_to_subtract=7'])"
      ]
     },
     "execution_count": 40,
     "metadata": {},
     "output_type": "execute_result"
    }
   ],
   "source": [
    "problem['data']['2002'].keys()"
   ]
  },
  {
   "cell_type": "markdown",
   "metadata": {},
   "source": [
    "**Create easier to reference variables**"
   ]
  },
  {
   "cell_type": "code",
   "execution_count": 41,
   "metadata": {},
   "outputs": [],
   "source": [
    "years = list(problem['data'].keys())\n",
    "days_to_subtract_keys = list(problem['data'][years[0]].keys())\n",
    "remaining_games = problem['other']['remaining_games']\n",
    "madness_teams = problem['other']['madness_teams']\n",
    "best_df = problem['other']['best_df']\n",
    "top_k = problem['other']['top_k']\n",
    "#target_column = f\"top{top_k}_intersection\"\n",
    "feature_names = problem['other']['feature_names']"
   ]
  },
  {
   "cell_type": "code",
   "execution_count": 70,
   "metadata": {},
   "outputs": [
    {
     "data": {
      "text/plain": [
       "['days_to_subtract=35',\n",
       " 'days_to_subtract=28',\n",
       " 'days_to_subtract=21',\n",
       " 'days_to_subtract=14',\n",
       " 'days_to_subtract=7']"
      ]
     },
     "execution_count": 70,
     "metadata": {},
     "output_type": "execute_result"
    }
   ],
   "source": [
    "days_to_subtract_keys"
   ]
  },
  {
   "cell_type": "code",
   "execution_count": 50,
   "metadata": {},
   "outputs": [],
   "source": [
    "target = problem['target']"
   ]
  },
  {
   "cell_type": "code",
   "execution_count": 71,
   "metadata": {},
   "outputs": [
    {
     "data": {
      "text/html": [
       "<div>\n",
       "<style scoped>\n",
       "    .dataframe tbody tr th:only-of-type {\n",
       "        vertical-align: middle;\n",
       "    }\n",
       "\n",
       "    .dataframe tbody tr th {\n",
       "        vertical-align: top;\n",
       "    }\n",
       "\n",
       "    .dataframe thead th {\n",
       "        text-align: right;\n",
       "    }\n",
       "</style>\n",
       "<table border=\"1\" class=\"dataframe\">\n",
       "  <thead>\n",
       "    <tr style=\"text-align: right;\">\n",
       "      <th></th>\n",
       "      <th>days_to_subtract1</th>\n",
       "      <th>days_to_subtract2</th>\n",
       "      <th>domain</th>\n",
       "      <th>range</th>\n",
       "      <th>direct_thres</th>\n",
       "      <th>spread_thres</th>\n",
       "      <th>weight_indirect</th>\n",
       "      <th>Method</th>\n",
       "      <th>Year</th>\n",
       "      <th>rankings1</th>\n",
       "      <th>rankings2</th>\n",
       "      <th>top10_jaccard</th>\n",
       "      <th>top10_tau</th>\n",
       "      <th>days_diff</th>\n",
       "    </tr>\n",
       "  </thead>\n",
       "  <tbody>\n",
       "    <tr>\n",
       "      <th>0</th>\n",
       "      <td>28</td>\n",
       "      <td>35</td>\n",
       "      <td>all</td>\n",
       "      <td>madness</td>\n",
       "      <td>0</td>\n",
       "      <td>0</td>\n",
       "      <td>0.1</td>\n",
       "      <td>Colley</td>\n",
       "      <td>2002</td>\n",
       "      <td>Alabama       6.0\n",
       "Arizona       7.0\n",
       "Cincinnati...</td>\n",
       "      <td>Alabama       6.0\n",
       "Arizona       7.0\n",
       "Cincinnati...</td>\n",
       "      <td>0.800000</td>\n",
       "      <td>0.388889</td>\n",
       "      <td>7</td>\n",
       "    </tr>\n",
       "    <tr>\n",
       "      <th>1</th>\n",
       "      <td>21</td>\n",
       "      <td>35</td>\n",
       "      <td>all</td>\n",
       "      <td>madness</td>\n",
       "      <td>0</td>\n",
       "      <td>0</td>\n",
       "      <td>0.1</td>\n",
       "      <td>Colley</td>\n",
       "      <td>2002</td>\n",
       "      <td>Alabama       5.0\n",
       "Arizona       9.0\n",
       "Cincinnati...</td>\n",
       "      <td>Alabama       6.0\n",
       "Arizona       7.0\n",
       "Cincinnati...</td>\n",
       "      <td>0.636364</td>\n",
       "      <td>-0.111111</td>\n",
       "      <td>14</td>\n",
       "    </tr>\n",
       "    <tr>\n",
       "      <th>2</th>\n",
       "      <td>14</td>\n",
       "      <td>35</td>\n",
       "      <td>all</td>\n",
       "      <td>madness</td>\n",
       "      <td>0</td>\n",
       "      <td>0</td>\n",
       "      <td>0.1</td>\n",
       "      <td>Colley</td>\n",
       "      <td>2002</td>\n",
       "      <td>Alabama       6.0\n",
       "Arizona       9.0\n",
       "Cincinnati...</td>\n",
       "      <td>Alabama       6.0\n",
       "Arizona       7.0\n",
       "Cincinnati...</td>\n",
       "      <td>0.800000</td>\n",
       "      <td>-0.055556</td>\n",
       "      <td>21</td>\n",
       "    </tr>\n",
       "    <tr>\n",
       "      <th>3</th>\n",
       "      <td>7</td>\n",
       "      <td>35</td>\n",
       "      <td>all</td>\n",
       "      <td>madness</td>\n",
       "      <td>0</td>\n",
       "      <td>0</td>\n",
       "      <td>0.1</td>\n",
       "      <td>Colley</td>\n",
       "      <td>2002</td>\n",
       "      <td>Alabama       6.0\n",
       "Arizona       7.0\n",
       "Cincinnati...</td>\n",
       "      <td>Alabama       6.0\n",
       "Arizona       7.0\n",
       "Cincinnati...</td>\n",
       "      <td>0.800000</td>\n",
       "      <td>0.000000</td>\n",
       "      <td>28</td>\n",
       "    </tr>\n",
       "    <tr>\n",
       "      <th>4</th>\n",
       "      <td>21</td>\n",
       "      <td>28</td>\n",
       "      <td>all</td>\n",
       "      <td>madness</td>\n",
       "      <td>0</td>\n",
       "      <td>0</td>\n",
       "      <td>0.1</td>\n",
       "      <td>Colley</td>\n",
       "      <td>2002</td>\n",
       "      <td>Alabama       5.0\n",
       "Arizona       9.0\n",
       "Cincinnati...</td>\n",
       "      <td>Alabama       6.0\n",
       "Arizona       7.0\n",
       "Cincinnati...</td>\n",
       "      <td>0.800000</td>\n",
       "      <td>-0.722222</td>\n",
       "      <td>7</td>\n",
       "    </tr>\n",
       "    <tr>\n",
       "      <th>...</th>\n",
       "      <td>...</td>\n",
       "      <td>...</td>\n",
       "      <td>...</td>\n",
       "      <td>...</td>\n",
       "      <td>...</td>\n",
       "      <td>...</td>\n",
       "      <td>...</td>\n",
       "      <td>...</td>\n",
       "      <td>...</td>\n",
       "      <td>...</td>\n",
       "      <td>...</td>\n",
       "      <td>...</td>\n",
       "      <td>...</td>\n",
       "      <td>...</td>\n",
       "    </tr>\n",
       "    <tr>\n",
       "      <th>1695</th>\n",
       "      <td>14</td>\n",
       "      <td>28</td>\n",
       "      <td>all</td>\n",
       "      <td>madness</td>\n",
       "      <td>0</td>\n",
       "      <td>0</td>\n",
       "      <td>0.1</td>\n",
       "      <td>Massey</td>\n",
       "      <td>2018</td>\n",
       "      <td>Cincinnati        8.0\n",
       "Duke              2.0\n",
       "Ka...</td>\n",
       "      <td>Cincinnati        6.0\n",
       "Duke              4.0\n",
       "Ka...</td>\n",
       "      <td>0.800000</td>\n",
       "      <td>0.222222</td>\n",
       "      <td>14</td>\n",
       "    </tr>\n",
       "    <tr>\n",
       "      <th>1696</th>\n",
       "      <td>7</td>\n",
       "      <td>28</td>\n",
       "      <td>all</td>\n",
       "      <td>madness</td>\n",
       "      <td>0</td>\n",
       "      <td>0</td>\n",
       "      <td>0.1</td>\n",
       "      <td>Massey</td>\n",
       "      <td>2018</td>\n",
       "      <td>Cincinnati        7.0\n",
       "Duke              2.0\n",
       "Ka...</td>\n",
       "      <td>Cincinnati        6.0\n",
       "Duke              4.0\n",
       "Ka...</td>\n",
       "      <td>0.800000</td>\n",
       "      <td>-0.111111</td>\n",
       "      <td>21</td>\n",
       "    </tr>\n",
       "    <tr>\n",
       "      <th>1697</th>\n",
       "      <td>14</td>\n",
       "      <td>21</td>\n",
       "      <td>all</td>\n",
       "      <td>madness</td>\n",
       "      <td>0</td>\n",
       "      <td>0</td>\n",
       "      <td>0.1</td>\n",
       "      <td>Massey</td>\n",
       "      <td>2018</td>\n",
       "      <td>Cincinnati        8.0\n",
       "Duke              2.0\n",
       "Ka...</td>\n",
       "      <td>Cincinnati        7.0\n",
       "Duke              3.0\n",
       "Ka...</td>\n",
       "      <td>0.800000</td>\n",
       "      <td>0.222222</td>\n",
       "      <td>7</td>\n",
       "    </tr>\n",
       "    <tr>\n",
       "      <th>1698</th>\n",
       "      <td>7</td>\n",
       "      <td>21</td>\n",
       "      <td>all</td>\n",
       "      <td>madness</td>\n",
       "      <td>0</td>\n",
       "      <td>0</td>\n",
       "      <td>0.1</td>\n",
       "      <td>Massey</td>\n",
       "      <td>2018</td>\n",
       "      <td>Cincinnati        7.0\n",
       "Duke              2.0\n",
       "Ka...</td>\n",
       "      <td>Cincinnati        7.0\n",
       "Duke              3.0\n",
       "Ka...</td>\n",
       "      <td>0.800000</td>\n",
       "      <td>0.222222</td>\n",
       "      <td>14</td>\n",
       "    </tr>\n",
       "    <tr>\n",
       "      <th>1699</th>\n",
       "      <td>7</td>\n",
       "      <td>14</td>\n",
       "      <td>all</td>\n",
       "      <td>madness</td>\n",
       "      <td>0</td>\n",
       "      <td>0</td>\n",
       "      <td>0.1</td>\n",
       "      <td>Massey</td>\n",
       "      <td>2018</td>\n",
       "      <td>Cincinnati        7.0\n",
       "Duke              2.0\n",
       "Ka...</td>\n",
       "      <td>Cincinnati        8.0\n",
       "Duke              2.0\n",
       "Ka...</td>\n",
       "      <td>1.000000</td>\n",
       "      <td>0.333333</td>\n",
       "      <td>7</td>\n",
       "    </tr>\n",
       "  </tbody>\n",
       "</table>\n",
       "<p>1700 rows × 14 columns</p>\n",
       "</div>"
      ],
      "text/plain": [
       "     days_to_subtract1 days_to_subtract2 domain    range direct_thres  \\\n",
       "0                   28                35    all  madness            0   \n",
       "1                   21                35    all  madness            0   \n",
       "2                   14                35    all  madness            0   \n",
       "3                    7                35    all  madness            0   \n",
       "4                   21                28    all  madness            0   \n",
       "...                ...               ...    ...      ...          ...   \n",
       "1695                14                28    all  madness            0   \n",
       "1696                 7                28    all  madness            0   \n",
       "1697                14                21    all  madness            0   \n",
       "1698                 7                21    all  madness            0   \n",
       "1699                 7                14    all  madness            0   \n",
       "\n",
       "     spread_thres  weight_indirect  Method  Year  \\\n",
       "0               0              0.1  Colley  2002   \n",
       "1               0              0.1  Colley  2002   \n",
       "2               0              0.1  Colley  2002   \n",
       "3               0              0.1  Colley  2002   \n",
       "4               0              0.1  Colley  2002   \n",
       "...           ...              ...     ...   ...   \n",
       "1695            0              0.1  Massey  2018   \n",
       "1696            0              0.1  Massey  2018   \n",
       "1697            0              0.1  Massey  2018   \n",
       "1698            0              0.1  Massey  2018   \n",
       "1699            0              0.1  Massey  2018   \n",
       "\n",
       "                                              rankings1  \\\n",
       "0     Alabama       6.0\n",
       "Arizona       7.0\n",
       "Cincinnati...   \n",
       "1     Alabama       5.0\n",
       "Arizona       9.0\n",
       "Cincinnati...   \n",
       "2     Alabama       6.0\n",
       "Arizona       9.0\n",
       "Cincinnati...   \n",
       "3     Alabama       6.0\n",
       "Arizona       7.0\n",
       "Cincinnati...   \n",
       "4     Alabama       5.0\n",
       "Arizona       9.0\n",
       "Cincinnati...   \n",
       "...                                                 ...   \n",
       "1695  Cincinnati        8.0\n",
       "Duke              2.0\n",
       "Ka...   \n",
       "1696  Cincinnati        7.0\n",
       "Duke              2.0\n",
       "Ka...   \n",
       "1697  Cincinnati        8.0\n",
       "Duke              2.0\n",
       "Ka...   \n",
       "1698  Cincinnati        7.0\n",
       "Duke              2.0\n",
       "Ka...   \n",
       "1699  Cincinnati        7.0\n",
       "Duke              2.0\n",
       "Ka...   \n",
       "\n",
       "                                              rankings2  top10_jaccard  \\\n",
       "0     Alabama       6.0\n",
       "Arizona       7.0\n",
       "Cincinnati...       0.800000   \n",
       "1     Alabama       6.0\n",
       "Arizona       7.0\n",
       "Cincinnati...       0.636364   \n",
       "2     Alabama       6.0\n",
       "Arizona       7.0\n",
       "Cincinnati...       0.800000   \n",
       "3     Alabama       6.0\n",
       "Arizona       7.0\n",
       "Cincinnati...       0.800000   \n",
       "4     Alabama       6.0\n",
       "Arizona       7.0\n",
       "Cincinnati...       0.800000   \n",
       "...                                                 ...            ...   \n",
       "1695  Cincinnati        6.0\n",
       "Duke              4.0\n",
       "Ka...       0.800000   \n",
       "1696  Cincinnati        6.0\n",
       "Duke              4.0\n",
       "Ka...       0.800000   \n",
       "1697  Cincinnati        7.0\n",
       "Duke              3.0\n",
       "Ka...       0.800000   \n",
       "1698  Cincinnati        7.0\n",
       "Duke              3.0\n",
       "Ka...       0.800000   \n",
       "1699  Cincinnati        8.0\n",
       "Duke              2.0\n",
       "Ka...       1.000000   \n",
       "\n",
       "      top10_tau days_diff  \n",
       "0      0.388889         7  \n",
       "1     -0.111111        14  \n",
       "2     -0.055556        21  \n",
       "3      0.000000        28  \n",
       "4     -0.722222         7  \n",
       "...         ...       ...  \n",
       "1695   0.222222        14  \n",
       "1696  -0.111111        21  \n",
       "1697   0.222222         7  \n",
       "1698   0.222222        14  \n",
       "1699   0.333333         7  \n",
       "\n",
       "[1700 rows x 14 columns]"
      ]
     },
     "execution_count": 71,
     "metadata": {},
     "output_type": "execute_result"
    }
   ],
   "source": [
    "target"
   ]
  },
  {
   "cell_type": "markdown",
   "metadata": {},
   "source": [
    "## Define helper functions"
   ]
  },
  {
   "cell_type": "markdown",
   "metadata": {},
   "source": [
    "**Function to compute a D matrix from games using hyperparameters**"
   ]
  },
  {
   "cell_type": "code",
   "execution_count": 42,
   "metadata": {},
   "outputs": [],
   "source": [
    "def compute_D(game_df,team_range,direct_thres,spread_thres):\n",
    "    map_func = lambda linked: pyrankability.construct.support_map_vectorized_direct_indirect(linked,direct_thres=direct_thres,spread_thres=spread_thres)\n",
    "    Ds = pyrankability.construct.V_count_vectorized(game_df,map_func)\n",
    "    for i in range(len(Ds)):\n",
    "        Ds[i] = Ds[i].reindex(index=team_range,columns=team_range)\n",
    "    return Ds"
   ]
  },
  {
   "cell_type": "code",
   "execution_count": 78,
   "metadata": {},
   "outputs": [],
   "source": [
    "def process(data,target,best_df_all):\n",
    "    index_cols = [\"Year\",\"days_to_subtract_key\",\"direct_thres\",\"spread_thres\",\"weight_indirect\",\"range\",\"Method\"]\n",
    "    Ds = pd.DataFrame(columns=[\"D\"]+index_cols)\n",
    "    Ds.set_index(index_cols,inplace=True)\n",
    "    for days_to_subtract_key,year in tqdm(itertools.product(days_to_subtract_keys,years)):\n",
    "        days_to_subtract = float(days_to_subtract_key.split(\"=\")[1])\n",
    "        best_df = best_df_all.set_index('days_to_subtract').loc[days_to_subtract]\n",
    "        for index,row in best_df.iterrows():\n",
    "            dom,ran,dt,st,iw,method = row.loc['domain'],row.loc['range'],row.loc['direct_thres'],row.loc['spread_thres'],row.loc['weight_indirect'],row.loc['Method']\n",
    "            iw = .1 # Set this so we get both direct and indirect D matrices\n",
    "            # set the team_range\n",
    "            team_range = None\n",
    "            if ran == 'madness':\n",
    "                team_range = madness_teams[year]\n",
    "            elif ran == 'all':\n",
    "                team_range = all_teams[year]\n",
    "            else:\n",
    "                raise Exception(f\"range={ran} not supported\")\n",
    "            name = (year,days_to_subtract_key,dt,st,iw,ran,method)\n",
    "            if iw == 0:\n",
    "                st = np.Inf\n",
    "            D = compute_D(data[year][days_to_subtract_key],team_range,dt,st)\n",
    "            Ds = Ds.append(pd.Series([D],index=[\"D\"],name=name)) \n",
    "    return Ds"
   ]
  },
  {
   "cell_type": "markdown",
   "metadata": {},
   "source": [
    "## Create D matrices"
   ]
  },
  {
   "cell_type": "code",
   "execution_count": 79,
   "metadata": {},
   "outputs": [
    {
     "data": {
      "text/html": [
       "<div>\n",
       "<style scoped>\n",
       "    .dataframe tbody tr th:only-of-type {\n",
       "        vertical-align: middle;\n",
       "    }\n",
       "\n",
       "    .dataframe tbody tr th {\n",
       "        vertical-align: top;\n",
       "    }\n",
       "\n",
       "    .dataframe thead th {\n",
       "        text-align: right;\n",
       "    }\n",
       "</style>\n",
       "<table border=\"1\" class=\"dataframe\">\n",
       "  <thead>\n",
       "    <tr style=\"text-align: right;\">\n",
       "      <th></th>\n",
       "      <th>days_to_subtract</th>\n",
       "      <th>Method</th>\n",
       "      <th>domain</th>\n",
       "      <th>range</th>\n",
       "      <th>direct_thres</th>\n",
       "      <th>spread_thres</th>\n",
       "      <th>weight_indirect</th>\n",
       "    </tr>\n",
       "  </thead>\n",
       "  <tbody>\n",
       "    <tr>\n",
       "      <th>0</th>\n",
       "      <td>7</td>\n",
       "      <td>Colley</td>\n",
       "      <td>all</td>\n",
       "      <td>madness</td>\n",
       "      <td>0</td>\n",
       "      <td>0</td>\n",
       "      <td>0.1</td>\n",
       "    </tr>\n",
       "    <tr>\n",
       "      <th>1</th>\n",
       "      <td>7</td>\n",
       "      <td>Massey</td>\n",
       "      <td>all</td>\n",
       "      <td>madness</td>\n",
       "      <td>0</td>\n",
       "      <td>0</td>\n",
       "      <td>0.1</td>\n",
       "    </tr>\n",
       "    <tr>\n",
       "      <th>2</th>\n",
       "      <td>14</td>\n",
       "      <td>Colley</td>\n",
       "      <td>all</td>\n",
       "      <td>madness</td>\n",
       "      <td>0</td>\n",
       "      <td>0</td>\n",
       "      <td>0.1</td>\n",
       "    </tr>\n",
       "    <tr>\n",
       "      <th>3</th>\n",
       "      <td>14</td>\n",
       "      <td>Massey</td>\n",
       "      <td>all</td>\n",
       "      <td>madness</td>\n",
       "      <td>0</td>\n",
       "      <td>0</td>\n",
       "      <td>0.1</td>\n",
       "    </tr>\n",
       "    <tr>\n",
       "      <th>4</th>\n",
       "      <td>21</td>\n",
       "      <td>Colley</td>\n",
       "      <td>all</td>\n",
       "      <td>madness</td>\n",
       "      <td>0</td>\n",
       "      <td>0</td>\n",
       "      <td>0.1</td>\n",
       "    </tr>\n",
       "    <tr>\n",
       "      <th>5</th>\n",
       "      <td>21</td>\n",
       "      <td>Massey</td>\n",
       "      <td>all</td>\n",
       "      <td>madness</td>\n",
       "      <td>0</td>\n",
       "      <td>0</td>\n",
       "      <td>0.1</td>\n",
       "    </tr>\n",
       "    <tr>\n",
       "      <th>6</th>\n",
       "      <td>28</td>\n",
       "      <td>Colley</td>\n",
       "      <td>all</td>\n",
       "      <td>madness</td>\n",
       "      <td>0</td>\n",
       "      <td>0</td>\n",
       "      <td>0.1</td>\n",
       "    </tr>\n",
       "    <tr>\n",
       "      <th>7</th>\n",
       "      <td>28</td>\n",
       "      <td>Massey</td>\n",
       "      <td>all</td>\n",
       "      <td>madness</td>\n",
       "      <td>0</td>\n",
       "      <td>0</td>\n",
       "      <td>0.1</td>\n",
       "    </tr>\n",
       "    <tr>\n",
       "      <th>8</th>\n",
       "      <td>35</td>\n",
       "      <td>Colley</td>\n",
       "      <td>all</td>\n",
       "      <td>madness</td>\n",
       "      <td>0</td>\n",
       "      <td>0</td>\n",
       "      <td>0.1</td>\n",
       "    </tr>\n",
       "    <tr>\n",
       "      <th>9</th>\n",
       "      <td>35</td>\n",
       "      <td>Massey</td>\n",
       "      <td>all</td>\n",
       "      <td>madness</td>\n",
       "      <td>0</td>\n",
       "      <td>0</td>\n",
       "      <td>0.1</td>\n",
       "    </tr>\n",
       "  </tbody>\n",
       "</table>\n",
       "</div>"
      ],
      "text/plain": [
       "   days_to_subtract  Method domain    range  direct_thres  spread_thres  \\\n",
       "0                 7  Colley    all  madness             0             0   \n",
       "1                 7  Massey    all  madness             0             0   \n",
       "2                14  Colley    all  madness             0             0   \n",
       "3                14  Massey    all  madness             0             0   \n",
       "4                21  Colley    all  madness             0             0   \n",
       "5                21  Massey    all  madness             0             0   \n",
       "6                28  Colley    all  madness             0             0   \n",
       "7                28  Massey    all  madness             0             0   \n",
       "8                35  Colley    all  madness             0             0   \n",
       "9                35  Massey    all  madness             0             0   \n",
       "\n",
       "   weight_indirect  \n",
       "0              0.1  \n",
       "1              0.1  \n",
       "2              0.1  \n",
       "3              0.1  \n",
       "4              0.1  \n",
       "5              0.1  \n",
       "6              0.1  \n",
       "7              0.1  \n",
       "8              0.1  \n",
       "9              0.1  "
      ]
     },
     "execution_count": 79,
     "metadata": {},
     "output_type": "execute_result"
    }
   ],
   "source": [
    "best_df"
   ]
  },
  {
   "cell_type": "code",
   "execution_count": 80,
   "metadata": {},
   "outputs": [
    {
     "name": "stderr",
     "output_type": "stream",
     "text": [
      "85it [04:29,  4.39s/it]\n"
     ]
    }
   ],
   "source": [
    "Ds = process(problem['data'],problem['target'],best_df)"
   ]
  },
  {
   "cell_type": "code",
   "execution_count": 81,
   "metadata": {},
   "outputs": [
    {
     "data": {
      "text/html": [
       "<div>\n",
       "<style scoped>\n",
       "    .dataframe tbody tr th:only-of-type {\n",
       "        vertical-align: middle;\n",
       "    }\n",
       "\n",
       "    .dataframe tbody tr th {\n",
       "        vertical-align: top;\n",
       "    }\n",
       "\n",
       "    .dataframe thead th {\n",
       "        text-align: right;\n",
       "    }\n",
       "</style>\n",
       "<table border=\"1\" class=\"dataframe\">\n",
       "  <thead>\n",
       "    <tr style=\"text-align: right;\">\n",
       "      <th></th>\n",
       "      <th></th>\n",
       "      <th></th>\n",
       "      <th></th>\n",
       "      <th></th>\n",
       "      <th></th>\n",
       "      <th></th>\n",
       "      <th>D</th>\n",
       "    </tr>\n",
       "    <tr>\n",
       "      <th>Year</th>\n",
       "      <th>days_to_subtract_key</th>\n",
       "      <th>direct_thres</th>\n",
       "      <th>spread_thres</th>\n",
       "      <th>weight_indirect</th>\n",
       "      <th>range</th>\n",
       "      <th>Method</th>\n",
       "      <th></th>\n",
       "    </tr>\n",
       "  </thead>\n",
       "  <tbody>\n",
       "    <tr>\n",
       "      <th rowspan=\"2\" valign=\"top\">2002</th>\n",
       "      <th rowspan=\"2\" valign=\"top\">days_to_subtract=35</th>\n",
       "      <th rowspan=\"2\" valign=\"top\">0</th>\n",
       "      <th rowspan=\"2\" valign=\"top\">0</th>\n",
       "      <th rowspan=\"2\" valign=\"top\">0.1</th>\n",
       "      <th rowspan=\"2\" valign=\"top\">madness</th>\n",
       "      <th>Colley</th>\n",
       "      <td>[[Alabama, Alcorn_St, Arizona, Boston_College,...</td>\n",
       "    </tr>\n",
       "    <tr>\n",
       "      <th>Massey</th>\n",
       "      <td>[[Alabama, Alcorn_St, Arizona, Boston_College,...</td>\n",
       "    </tr>\n",
       "    <tr>\n",
       "      <th rowspan=\"2\" valign=\"top\">2003</th>\n",
       "      <th rowspan=\"2\" valign=\"top\">days_to_subtract=35</th>\n",
       "      <th rowspan=\"2\" valign=\"top\">0</th>\n",
       "      <th rowspan=\"2\" valign=\"top\">0</th>\n",
       "      <th rowspan=\"2\" valign=\"top\">0.1</th>\n",
       "      <th rowspan=\"2\" valign=\"top\">madness</th>\n",
       "      <th>Colley</th>\n",
       "      <td>[[Alabama, Arizona, Arizona_St, Auburn, Austin...</td>\n",
       "    </tr>\n",
       "    <tr>\n",
       "      <th>Massey</th>\n",
       "      <td>[[Alabama, Arizona, Arizona_St, Auburn, Austin...</td>\n",
       "    </tr>\n",
       "    <tr>\n",
       "      <th>2004</th>\n",
       "      <th>days_to_subtract=35</th>\n",
       "      <th>0</th>\n",
       "      <th>0</th>\n",
       "      <th>0.1</th>\n",
       "      <th>madness</th>\n",
       "      <th>Colley</th>\n",
       "      <td>[[Air_Force, Alabama, Alabama_St, Arizona, BYU...</td>\n",
       "    </tr>\n",
       "    <tr>\n",
       "      <th>...</th>\n",
       "      <th>...</th>\n",
       "      <th>...</th>\n",
       "      <th>...</th>\n",
       "      <th>...</th>\n",
       "      <th>...</th>\n",
       "      <th>...</th>\n",
       "      <td>...</td>\n",
       "    </tr>\n",
       "    <tr>\n",
       "      <th>2016</th>\n",
       "      <th>days_to_subtract=7</th>\n",
       "      <th>0</th>\n",
       "      <th>0</th>\n",
       "      <th>0.1</th>\n",
       "      <th>madness</th>\n",
       "      <th>Massey</th>\n",
       "      <td>[[Akron, Arizona, Ark_Little_Rock, Baylor, Bel...</td>\n",
       "    </tr>\n",
       "    <tr>\n",
       "      <th rowspan=\"2\" valign=\"top\">2017</th>\n",
       "      <th rowspan=\"2\" valign=\"top\">days_to_subtract=7</th>\n",
       "      <th rowspan=\"2\" valign=\"top\">0</th>\n",
       "      <th rowspan=\"2\" valign=\"top\">0</th>\n",
       "      <th rowspan=\"2\" valign=\"top\">0.1</th>\n",
       "      <th rowspan=\"2\" valign=\"top\">madness</th>\n",
       "      <th>Colley</th>\n",
       "      <td>[[Arizona, Arkansas, Baylor, Bucknell, Butler,...</td>\n",
       "    </tr>\n",
       "    <tr>\n",
       "      <th>Massey</th>\n",
       "      <td>[[Arizona, Arkansas, Baylor, Bucknell, Butler,...</td>\n",
       "    </tr>\n",
       "    <tr>\n",
       "      <th rowspan=\"2\" valign=\"top\">2018</th>\n",
       "      <th rowspan=\"2\" valign=\"top\">days_to_subtract=7</th>\n",
       "      <th rowspan=\"2\" valign=\"top\">0</th>\n",
       "      <th rowspan=\"2\" valign=\"top\">0</th>\n",
       "      <th rowspan=\"2\" valign=\"top\">0.1</th>\n",
       "      <th rowspan=\"2\" valign=\"top\">madness</th>\n",
       "      <th>Colley</th>\n",
       "      <td>[[Alabama, Arizona, Arkansas, Auburn, Bucknell...</td>\n",
       "    </tr>\n",
       "    <tr>\n",
       "      <th>Massey</th>\n",
       "      <td>[[Alabama, Arizona, Arkansas, Auburn, Bucknell...</td>\n",
       "    </tr>\n",
       "  </tbody>\n",
       "</table>\n",
       "<p>170 rows × 1 columns</p>\n",
       "</div>"
      ],
      "text/plain": [
       "                                                                                                                                    D\n",
       "Year days_to_subtract_key direct_thres spread_thres weight_indirect range   Method                                                   \n",
       "2002 days_to_subtract=35  0            0            0.1             madness Colley  [[Alabama, Alcorn_St, Arizona, Boston_College,...\n",
       "                                                                            Massey  [[Alabama, Alcorn_St, Arizona, Boston_College,...\n",
       "2003 days_to_subtract=35  0            0            0.1             madness Colley  [[Alabama, Arizona, Arizona_St, Auburn, Austin...\n",
       "                                                                            Massey  [[Alabama, Arizona, Arizona_St, Auburn, Austin...\n",
       "2004 days_to_subtract=35  0            0            0.1             madness Colley  [[Air_Force, Alabama, Alabama_St, Arizona, BYU...\n",
       "...                                                                                                                               ...\n",
       "2016 days_to_subtract=7   0            0            0.1             madness Massey  [[Akron, Arizona, Ark_Little_Rock, Baylor, Bel...\n",
       "2017 days_to_subtract=7   0            0            0.1             madness Colley  [[Arizona, Arkansas, Baylor, Bucknell, Butler,...\n",
       "                                                                            Massey  [[Arizona, Arkansas, Baylor, Bucknell, Butler,...\n",
       "2018 days_to_subtract=7   0            0            0.1             madness Colley  [[Alabama, Arizona, Arkansas, Auburn, Bucknell...\n",
       "                                                                            Massey  [[Alabama, Arizona, Arkansas, Auburn, Bucknell...\n",
       "\n",
       "[170 rows x 1 columns]"
      ]
     },
     "execution_count": 81,
     "metadata": {},
     "output_type": "execute_result"
    }
   ],
   "source": [
    "Ds"
   ]
  },
  {
   "cell_type": "code",
   "execution_count": 82,
   "metadata": {},
   "outputs": [
    {
     "data": {
      "text/html": [
       "<div>\n",
       "<style scoped>\n",
       "    .dataframe tbody tr th:only-of-type {\n",
       "        vertical-align: middle;\n",
       "    }\n",
       "\n",
       "    .dataframe tbody tr th {\n",
       "        vertical-align: top;\n",
       "    }\n",
       "\n",
       "    .dataframe thead th {\n",
       "        text-align: right;\n",
       "    }\n",
       "</style>\n",
       "<table border=\"1\" class=\"dataframe\">\n",
       "  <thead>\n",
       "    <tr style=\"text-align: right;\">\n",
       "      <th></th>\n",
       "      <th></th>\n",
       "      <th></th>\n",
       "      <th></th>\n",
       "      <th></th>\n",
       "      <th></th>\n",
       "      <th></th>\n",
       "      <th>D</th>\n",
       "    </tr>\n",
       "    <tr>\n",
       "      <th>Year</th>\n",
       "      <th>days_to_subtract_key</th>\n",
       "      <th>direct_thres</th>\n",
       "      <th>spread_thres</th>\n",
       "      <th>weight_indirect</th>\n",
       "      <th>range</th>\n",
       "      <th>Method</th>\n",
       "      <th></th>\n",
       "    </tr>\n",
       "  </thead>\n",
       "  <tbody>\n",
       "    <tr>\n",
       "      <th>2002</th>\n",
       "      <th>days_to_subtract=35</th>\n",
       "      <th>0</th>\n",
       "      <th>0</th>\n",
       "      <th>0.1</th>\n",
       "      <th>madness</th>\n",
       "      <th>Colley</th>\n",
       "      <td>[[Alabama, Alcorn_St, Arizona, Boston_College,...</td>\n",
       "    </tr>\n",
       "    <tr>\n",
       "      <th>2018</th>\n",
       "      <th>days_to_subtract=7</th>\n",
       "      <th>0</th>\n",
       "      <th>0</th>\n",
       "      <th>0.1</th>\n",
       "      <th>madness</th>\n",
       "      <th>Massey</th>\n",
       "      <td>[[Alabama, Arizona, Arkansas, Auburn, Bucknell...</td>\n",
       "    </tr>\n",
       "  </tbody>\n",
       "</table>\n",
       "</div>"
      ],
      "text/plain": [
       "                                                                                                                                    D\n",
       "Year days_to_subtract_key direct_thres spread_thres weight_indirect range   Method                                                   \n",
       "2002 days_to_subtract=35  0            0            0.1             madness Colley  [[Alabama, Alcorn_St, Arizona, Boston_College,...\n",
       "2018 days_to_subtract=7   0            0            0.1             madness Massey  [[Alabama, Arizona, Arkansas, Auburn, Bucknell..."
      ]
     },
     "execution_count": 82,
     "metadata": {},
     "output_type": "execute_result"
    }
   ],
   "source": [
    "Ds.iloc[[0,-1]]"
   ]
  },
  {
   "cell_type": "code",
   "execution_count": 83,
   "metadata": {},
   "outputs": [
    {
     "name": "stderr",
     "output_type": "stream",
     "text": [
      "/opt/tljh/user/lib/python3.7/site-packages/ipykernel_launcher.py:1: PerformanceWarning: indexing past lexsort depth may impact performance.\n",
      "  \"\"\"Entry point for launching an IPython kernel.\n"
     ]
    },
    {
     "data": {
      "text/html": [
       "<div>\n",
       "<style scoped>\n",
       "    .dataframe tbody tr th:only-of-type {\n",
       "        vertical-align: middle;\n",
       "    }\n",
       "\n",
       "    .dataframe tbody tr th {\n",
       "        vertical-align: top;\n",
       "    }\n",
       "\n",
       "    .dataframe thead th {\n",
       "        text-align: right;\n",
       "    }\n",
       "</style>\n",
       "<table border=\"1\" class=\"dataframe\">\n",
       "  <thead>\n",
       "    <tr style=\"text-align: right;\">\n",
       "      <th>team2</th>\n",
       "      <th>Alabama</th>\n",
       "      <th>Alcorn_St</th>\n",
       "      <th>Arizona</th>\n",
       "      <th>Boston_College</th>\n",
       "      <th>Boston_Univ</th>\n",
       "      <th>California</th>\n",
       "      <th>Central_Conn</th>\n",
       "      <th>Charlotte</th>\n",
       "      <th>Cincinnati</th>\n",
       "      <th>Connecticut</th>\n",
       "      <th>...</th>\n",
       "      <th>UNC_Wilmington</th>\n",
       "      <th>USC</th>\n",
       "      <th>Utah</th>\n",
       "      <th>Valparaiso</th>\n",
       "      <th>W_Kentucky</th>\n",
       "      <th>Wake_Forest</th>\n",
       "      <th>Winthrop</th>\n",
       "      <th>Wisconsin</th>\n",
       "      <th>Wyoming</th>\n",
       "      <th>Xavier</th>\n",
       "    </tr>\n",
       "    <tr>\n",
       "      <th>team1</th>\n",
       "      <th></th>\n",
       "      <th></th>\n",
       "      <th></th>\n",
       "      <th></th>\n",
       "      <th></th>\n",
       "      <th></th>\n",
       "      <th></th>\n",
       "      <th></th>\n",
       "      <th></th>\n",
       "      <th></th>\n",
       "      <th></th>\n",
       "      <th></th>\n",
       "      <th></th>\n",
       "      <th></th>\n",
       "      <th></th>\n",
       "      <th></th>\n",
       "      <th></th>\n",
       "      <th></th>\n",
       "      <th></th>\n",
       "      <th></th>\n",
       "      <th></th>\n",
       "    </tr>\n",
       "  </thead>\n",
       "  <tbody>\n",
       "    <tr>\n",
       "      <th>Alabama</th>\n",
       "      <td>NaN</td>\n",
       "      <td>NaN</td>\n",
       "      <td>NaN</td>\n",
       "      <td>NaN</td>\n",
       "      <td>NaN</td>\n",
       "      <td>NaN</td>\n",
       "      <td>NaN</td>\n",
       "      <td>NaN</td>\n",
       "      <td>NaN</td>\n",
       "      <td>NaN</td>\n",
       "      <td>...</td>\n",
       "      <td>NaN</td>\n",
       "      <td>NaN</td>\n",
       "      <td>1.0</td>\n",
       "      <td>NaN</td>\n",
       "      <td>NaN</td>\n",
       "      <td>NaN</td>\n",
       "      <td>NaN</td>\n",
       "      <td>NaN</td>\n",
       "      <td>NaN</td>\n",
       "      <td>NaN</td>\n",
       "    </tr>\n",
       "    <tr>\n",
       "      <th>Alcorn_St</th>\n",
       "      <td>NaN</td>\n",
       "      <td>NaN</td>\n",
       "      <td>NaN</td>\n",
       "      <td>NaN</td>\n",
       "      <td>NaN</td>\n",
       "      <td>NaN</td>\n",
       "      <td>NaN</td>\n",
       "      <td>NaN</td>\n",
       "      <td>NaN</td>\n",
       "      <td>NaN</td>\n",
       "      <td>...</td>\n",
       "      <td>NaN</td>\n",
       "      <td>NaN</td>\n",
       "      <td>NaN</td>\n",
       "      <td>NaN</td>\n",
       "      <td>NaN</td>\n",
       "      <td>NaN</td>\n",
       "      <td>NaN</td>\n",
       "      <td>NaN</td>\n",
       "      <td>NaN</td>\n",
       "      <td>NaN</td>\n",
       "    </tr>\n",
       "    <tr>\n",
       "      <th>Arizona</th>\n",
       "      <td>NaN</td>\n",
       "      <td>NaN</td>\n",
       "      <td>NaN</td>\n",
       "      <td>NaN</td>\n",
       "      <td>NaN</td>\n",
       "      <td>1.0</td>\n",
       "      <td>NaN</td>\n",
       "      <td>NaN</td>\n",
       "      <td>NaN</td>\n",
       "      <td>0.0</td>\n",
       "      <td>...</td>\n",
       "      <td>NaN</td>\n",
       "      <td>1.0</td>\n",
       "      <td>NaN</td>\n",
       "      <td>1.0</td>\n",
       "      <td>NaN</td>\n",
       "      <td>1.0</td>\n",
       "      <td>NaN</td>\n",
       "      <td>NaN</td>\n",
       "      <td>NaN</td>\n",
       "      <td>NaN</td>\n",
       "    </tr>\n",
       "    <tr>\n",
       "      <th>Boston_College</th>\n",
       "      <td>NaN</td>\n",
       "      <td>NaN</td>\n",
       "      <td>NaN</td>\n",
       "      <td>NaN</td>\n",
       "      <td>1.0</td>\n",
       "      <td>NaN</td>\n",
       "      <td>NaN</td>\n",
       "      <td>NaN</td>\n",
       "      <td>NaN</td>\n",
       "      <td>NaN</td>\n",
       "      <td>...</td>\n",
       "      <td>NaN</td>\n",
       "      <td>NaN</td>\n",
       "      <td>NaN</td>\n",
       "      <td>NaN</td>\n",
       "      <td>NaN</td>\n",
       "      <td>NaN</td>\n",
       "      <td>NaN</td>\n",
       "      <td>NaN</td>\n",
       "      <td>NaN</td>\n",
       "      <td>NaN</td>\n",
       "    </tr>\n",
       "    <tr>\n",
       "      <th>Boston_Univ</th>\n",
       "      <td>NaN</td>\n",
       "      <td>NaN</td>\n",
       "      <td>NaN</td>\n",
       "      <td>0.0</td>\n",
       "      <td>NaN</td>\n",
       "      <td>NaN</td>\n",
       "      <td>NaN</td>\n",
       "      <td>NaN</td>\n",
       "      <td>NaN</td>\n",
       "      <td>NaN</td>\n",
       "      <td>...</td>\n",
       "      <td>NaN</td>\n",
       "      <td>NaN</td>\n",
       "      <td>NaN</td>\n",
       "      <td>NaN</td>\n",
       "      <td>NaN</td>\n",
       "      <td>NaN</td>\n",
       "      <td>NaN</td>\n",
       "      <td>NaN</td>\n",
       "      <td>NaN</td>\n",
       "      <td>NaN</td>\n",
       "    </tr>\n",
       "    <tr>\n",
       "      <th>...</th>\n",
       "      <td>...</td>\n",
       "      <td>...</td>\n",
       "      <td>...</td>\n",
       "      <td>...</td>\n",
       "      <td>...</td>\n",
       "      <td>...</td>\n",
       "      <td>...</td>\n",
       "      <td>...</td>\n",
       "      <td>...</td>\n",
       "      <td>...</td>\n",
       "      <td>...</td>\n",
       "      <td>...</td>\n",
       "      <td>...</td>\n",
       "      <td>...</td>\n",
       "      <td>...</td>\n",
       "      <td>...</td>\n",
       "      <td>...</td>\n",
       "      <td>...</td>\n",
       "      <td>...</td>\n",
       "      <td>...</td>\n",
       "      <td>...</td>\n",
       "    </tr>\n",
       "    <tr>\n",
       "      <th>Wake_Forest</th>\n",
       "      <td>NaN</td>\n",
       "      <td>NaN</td>\n",
       "      <td>0.0</td>\n",
       "      <td>NaN</td>\n",
       "      <td>NaN</td>\n",
       "      <td>0.0</td>\n",
       "      <td>NaN</td>\n",
       "      <td>NaN</td>\n",
       "      <td>NaN</td>\n",
       "      <td>NaN</td>\n",
       "      <td>...</td>\n",
       "      <td>NaN</td>\n",
       "      <td>0.0</td>\n",
       "      <td>NaN</td>\n",
       "      <td>NaN</td>\n",
       "      <td>NaN</td>\n",
       "      <td>NaN</td>\n",
       "      <td>NaN</td>\n",
       "      <td>NaN</td>\n",
       "      <td>NaN</td>\n",
       "      <td>NaN</td>\n",
       "    </tr>\n",
       "    <tr>\n",
       "      <th>Winthrop</th>\n",
       "      <td>NaN</td>\n",
       "      <td>NaN</td>\n",
       "      <td>NaN</td>\n",
       "      <td>NaN</td>\n",
       "      <td>NaN</td>\n",
       "      <td>NaN</td>\n",
       "      <td>NaN</td>\n",
       "      <td>NaN</td>\n",
       "      <td>NaN</td>\n",
       "      <td>NaN</td>\n",
       "      <td>...</td>\n",
       "      <td>NaN</td>\n",
       "      <td>NaN</td>\n",
       "      <td>NaN</td>\n",
       "      <td>NaN</td>\n",
       "      <td>NaN</td>\n",
       "      <td>NaN</td>\n",
       "      <td>NaN</td>\n",
       "      <td>NaN</td>\n",
       "      <td>NaN</td>\n",
       "      <td>0.0</td>\n",
       "    </tr>\n",
       "    <tr>\n",
       "      <th>Wisconsin</th>\n",
       "      <td>NaN</td>\n",
       "      <td>NaN</td>\n",
       "      <td>NaN</td>\n",
       "      <td>NaN</td>\n",
       "      <td>NaN</td>\n",
       "      <td>NaN</td>\n",
       "      <td>NaN</td>\n",
       "      <td>NaN</td>\n",
       "      <td>NaN</td>\n",
       "      <td>NaN</td>\n",
       "      <td>...</td>\n",
       "      <td>NaN</td>\n",
       "      <td>NaN</td>\n",
       "      <td>NaN</td>\n",
       "      <td>NaN</td>\n",
       "      <td>NaN</td>\n",
       "      <td>NaN</td>\n",
       "      <td>NaN</td>\n",
       "      <td>NaN</td>\n",
       "      <td>NaN</td>\n",
       "      <td>NaN</td>\n",
       "    </tr>\n",
       "    <tr>\n",
       "      <th>Wyoming</th>\n",
       "      <td>NaN</td>\n",
       "      <td>NaN</td>\n",
       "      <td>NaN</td>\n",
       "      <td>NaN</td>\n",
       "      <td>NaN</td>\n",
       "      <td>NaN</td>\n",
       "      <td>NaN</td>\n",
       "      <td>NaN</td>\n",
       "      <td>NaN</td>\n",
       "      <td>NaN</td>\n",
       "      <td>...</td>\n",
       "      <td>NaN</td>\n",
       "      <td>0.0</td>\n",
       "      <td>NaN</td>\n",
       "      <td>NaN</td>\n",
       "      <td>NaN</td>\n",
       "      <td>NaN</td>\n",
       "      <td>NaN</td>\n",
       "      <td>NaN</td>\n",
       "      <td>NaN</td>\n",
       "      <td>NaN</td>\n",
       "    </tr>\n",
       "    <tr>\n",
       "      <th>Xavier</th>\n",
       "      <td>NaN</td>\n",
       "      <td>NaN</td>\n",
       "      <td>NaN</td>\n",
       "      <td>NaN</td>\n",
       "      <td>NaN</td>\n",
       "      <td>NaN</td>\n",
       "      <td>NaN</td>\n",
       "      <td>NaN</td>\n",
       "      <td>0.0</td>\n",
       "      <td>NaN</td>\n",
       "      <td>...</td>\n",
       "      <td>NaN</td>\n",
       "      <td>NaN</td>\n",
       "      <td>NaN</td>\n",
       "      <td>NaN</td>\n",
       "      <td>NaN</td>\n",
       "      <td>NaN</td>\n",
       "      <td>1.0</td>\n",
       "      <td>NaN</td>\n",
       "      <td>NaN</td>\n",
       "      <td>NaN</td>\n",
       "    </tr>\n",
       "  </tbody>\n",
       "</table>\n",
       "<p>65 rows × 65 columns</p>\n",
       "</div>"
      ],
      "text/plain": [
       "team2           Alabama  Alcorn_St  Arizona  Boston_College  Boston_Univ  \\\n",
       "team1                                                                      \n",
       "Alabama             NaN        NaN      NaN             NaN          NaN   \n",
       "Alcorn_St           NaN        NaN      NaN             NaN          NaN   \n",
       "Arizona             NaN        NaN      NaN             NaN          NaN   \n",
       "Boston_College      NaN        NaN      NaN             NaN          1.0   \n",
       "Boston_Univ         NaN        NaN      NaN             0.0          NaN   \n",
       "...                 ...        ...      ...             ...          ...   \n",
       "Wake_Forest         NaN        NaN      0.0             NaN          NaN   \n",
       "Winthrop            NaN        NaN      NaN             NaN          NaN   \n",
       "Wisconsin           NaN        NaN      NaN             NaN          NaN   \n",
       "Wyoming             NaN        NaN      NaN             NaN          NaN   \n",
       "Xavier              NaN        NaN      NaN             NaN          NaN   \n",
       "\n",
       "team2           California  Central_Conn  Charlotte  Cincinnati  Connecticut  \\\n",
       "team1                                                                          \n",
       "Alabama                NaN           NaN        NaN         NaN          NaN   \n",
       "Alcorn_St              NaN           NaN        NaN         NaN          NaN   \n",
       "Arizona                1.0           NaN        NaN         NaN          0.0   \n",
       "Boston_College         NaN           NaN        NaN         NaN          NaN   \n",
       "Boston_Univ            NaN           NaN        NaN         NaN          NaN   \n",
       "...                    ...           ...        ...         ...          ...   \n",
       "Wake_Forest            0.0           NaN        NaN         NaN          NaN   \n",
       "Winthrop               NaN           NaN        NaN         NaN          NaN   \n",
       "Wisconsin              NaN           NaN        NaN         NaN          NaN   \n",
       "Wyoming                NaN           NaN        NaN         NaN          NaN   \n",
       "Xavier                 NaN           NaN        NaN         0.0          NaN   \n",
       "\n",
       "team2           ...  UNC_Wilmington  USC  Utah  Valparaiso  W_Kentucky  \\\n",
       "team1           ...                                                      \n",
       "Alabama         ...             NaN  NaN   1.0         NaN         NaN   \n",
       "Alcorn_St       ...             NaN  NaN   NaN         NaN         NaN   \n",
       "Arizona         ...             NaN  1.0   NaN         1.0         NaN   \n",
       "Boston_College  ...             NaN  NaN   NaN         NaN         NaN   \n",
       "Boston_Univ     ...             NaN  NaN   NaN         NaN         NaN   \n",
       "...             ...             ...  ...   ...         ...         ...   \n",
       "Wake_Forest     ...             NaN  0.0   NaN         NaN         NaN   \n",
       "Winthrop        ...             NaN  NaN   NaN         NaN         NaN   \n",
       "Wisconsin       ...             NaN  NaN   NaN         NaN         NaN   \n",
       "Wyoming         ...             NaN  0.0   NaN         NaN         NaN   \n",
       "Xavier          ...             NaN  NaN   NaN         NaN         NaN   \n",
       "\n",
       "team2           Wake_Forest  Winthrop  Wisconsin  Wyoming  Xavier  \n",
       "team1                                                              \n",
       "Alabama                 NaN       NaN        NaN      NaN     NaN  \n",
       "Alcorn_St               NaN       NaN        NaN      NaN     NaN  \n",
       "Arizona                 1.0       NaN        NaN      NaN     NaN  \n",
       "Boston_College          NaN       NaN        NaN      NaN     NaN  \n",
       "Boston_Univ             NaN       NaN        NaN      NaN     NaN  \n",
       "...                     ...       ...        ...      ...     ...  \n",
       "Wake_Forest             NaN       NaN        NaN      NaN     NaN  \n",
       "Winthrop                NaN       NaN        NaN      NaN     0.0  \n",
       "Wisconsin               NaN       NaN        NaN      NaN     NaN  \n",
       "Wyoming                 NaN       NaN        NaN      NaN     NaN  \n",
       "Xavier                  NaN       1.0        NaN      NaN     NaN  \n",
       "\n",
       "[65 rows x 65 columns]"
      ]
     },
     "execution_count": 83,
     "metadata": {},
     "output_type": "execute_result"
    }
   ],
   "source": [
    "Ds.loc['2002',\"D\"][0][0]"
   ]
  },
  {
   "cell_type": "code",
   "execution_count": 84,
   "metadata": {},
   "outputs": [
    {
     "name": "stderr",
     "output_type": "stream",
     "text": [
      "/opt/tljh/user/lib/python3.7/site-packages/ipykernel_launcher.py:1: PerformanceWarning: indexing past lexsort depth may impact performance.\n",
      "  \"\"\"Entry point for launching an IPython kernel.\n"
     ]
    },
    {
     "data": {
      "text/html": [
       "<div>\n",
       "<style scoped>\n",
       "    .dataframe tbody tr th:only-of-type {\n",
       "        vertical-align: middle;\n",
       "    }\n",
       "\n",
       "    .dataframe tbody tr th {\n",
       "        vertical-align: top;\n",
       "    }\n",
       "\n",
       "    .dataframe thead th {\n",
       "        text-align: right;\n",
       "    }\n",
       "</style>\n",
       "<table border=\"1\" class=\"dataframe\">\n",
       "  <thead>\n",
       "    <tr style=\"text-align: right;\">\n",
       "      <th>team2</th>\n",
       "      <th>Alabama</th>\n",
       "      <th>Alcorn_St</th>\n",
       "      <th>Arizona</th>\n",
       "      <th>Boston_College</th>\n",
       "      <th>Boston_Univ</th>\n",
       "      <th>California</th>\n",
       "      <th>Central_Conn</th>\n",
       "      <th>Charlotte</th>\n",
       "      <th>Cincinnati</th>\n",
       "      <th>Connecticut</th>\n",
       "      <th>...</th>\n",
       "      <th>UNC_Wilmington</th>\n",
       "      <th>USC</th>\n",
       "      <th>Utah</th>\n",
       "      <th>Valparaiso</th>\n",
       "      <th>W_Kentucky</th>\n",
       "      <th>Wake_Forest</th>\n",
       "      <th>Winthrop</th>\n",
       "      <th>Wisconsin</th>\n",
       "      <th>Wyoming</th>\n",
       "      <th>Xavier</th>\n",
       "    </tr>\n",
       "    <tr>\n",
       "      <th>team1</th>\n",
       "      <th></th>\n",
       "      <th></th>\n",
       "      <th></th>\n",
       "      <th></th>\n",
       "      <th></th>\n",
       "      <th></th>\n",
       "      <th></th>\n",
       "      <th></th>\n",
       "      <th></th>\n",
       "      <th></th>\n",
       "      <th></th>\n",
       "      <th></th>\n",
       "      <th></th>\n",
       "      <th></th>\n",
       "      <th></th>\n",
       "      <th></th>\n",
       "      <th></th>\n",
       "      <th></th>\n",
       "      <th></th>\n",
       "      <th></th>\n",
       "      <th></th>\n",
       "    </tr>\n",
       "  </thead>\n",
       "  <tbody>\n",
       "    <tr>\n",
       "      <th>Alabama</th>\n",
       "      <td>NaN</td>\n",
       "      <td>0.0</td>\n",
       "      <td>0.0</td>\n",
       "      <td>NaN</td>\n",
       "      <td>NaN</td>\n",
       "      <td>0.0</td>\n",
       "      <td>NaN</td>\n",
       "      <td>1.0</td>\n",
       "      <td>0.0</td>\n",
       "      <td>0.0</td>\n",
       "      <td>...</td>\n",
       "      <td>NaN</td>\n",
       "      <td>0.0</td>\n",
       "      <td>NaN</td>\n",
       "      <td>NaN</td>\n",
       "      <td>NaN</td>\n",
       "      <td>0.0</td>\n",
       "      <td>1.0</td>\n",
       "      <td>1.0</td>\n",
       "      <td>NaN</td>\n",
       "      <td>0.0</td>\n",
       "    </tr>\n",
       "    <tr>\n",
       "      <th>Alcorn_St</th>\n",
       "      <td>0.0</td>\n",
       "      <td>NaN</td>\n",
       "      <td>NaN</td>\n",
       "      <td>NaN</td>\n",
       "      <td>NaN</td>\n",
       "      <td>0.0</td>\n",
       "      <td>NaN</td>\n",
       "      <td>0.0</td>\n",
       "      <td>NaN</td>\n",
       "      <td>NaN</td>\n",
       "      <td>...</td>\n",
       "      <td>NaN</td>\n",
       "      <td>NaN</td>\n",
       "      <td>0.0</td>\n",
       "      <td>0.0</td>\n",
       "      <td>NaN</td>\n",
       "      <td>0.0</td>\n",
       "      <td>0.0</td>\n",
       "      <td>0.0</td>\n",
       "      <td>0.0</td>\n",
       "      <td>NaN</td>\n",
       "    </tr>\n",
       "    <tr>\n",
       "      <th>Arizona</th>\n",
       "      <td>1.0</td>\n",
       "      <td>NaN</td>\n",
       "      <td>NaN</td>\n",
       "      <td>NaN</td>\n",
       "      <td>NaN</td>\n",
       "      <td>2.0</td>\n",
       "      <td>NaN</td>\n",
       "      <td>2.0</td>\n",
       "      <td>0.0</td>\n",
       "      <td>1.0</td>\n",
       "      <td>...</td>\n",
       "      <td>NaN</td>\n",
       "      <td>2.0</td>\n",
       "      <td>0.0</td>\n",
       "      <td>1.0</td>\n",
       "      <td>NaN</td>\n",
       "      <td>9.0</td>\n",
       "      <td>1.0</td>\n",
       "      <td>NaN</td>\n",
       "      <td>1.0</td>\n",
       "      <td>1.0</td>\n",
       "    </tr>\n",
       "    <tr>\n",
       "      <th>Boston_College</th>\n",
       "      <td>NaN</td>\n",
       "      <td>NaN</td>\n",
       "      <td>NaN</td>\n",
       "      <td>NaN</td>\n",
       "      <td>0.0</td>\n",
       "      <td>0.0</td>\n",
       "      <td>1.0</td>\n",
       "      <td>1.0</td>\n",
       "      <td>NaN</td>\n",
       "      <td>2.0</td>\n",
       "      <td>...</td>\n",
       "      <td>0.0</td>\n",
       "      <td>0.0</td>\n",
       "      <td>NaN</td>\n",
       "      <td>NaN</td>\n",
       "      <td>NaN</td>\n",
       "      <td>NaN</td>\n",
       "      <td>2.0</td>\n",
       "      <td>0.0</td>\n",
       "      <td>NaN</td>\n",
       "      <td>0.0</td>\n",
       "    </tr>\n",
       "    <tr>\n",
       "      <th>Boston_Univ</th>\n",
       "      <td>NaN</td>\n",
       "      <td>NaN</td>\n",
       "      <td>NaN</td>\n",
       "      <td>0.0</td>\n",
       "      <td>NaN</td>\n",
       "      <td>0.0</td>\n",
       "      <td>0.0</td>\n",
       "      <td>0.0</td>\n",
       "      <td>NaN</td>\n",
       "      <td>0.0</td>\n",
       "      <td>...</td>\n",
       "      <td>NaN</td>\n",
       "      <td>NaN</td>\n",
       "      <td>NaN</td>\n",
       "      <td>0.0</td>\n",
       "      <td>NaN</td>\n",
       "      <td>NaN</td>\n",
       "      <td>0.0</td>\n",
       "      <td>0.0</td>\n",
       "      <td>NaN</td>\n",
       "      <td>0.0</td>\n",
       "    </tr>\n",
       "    <tr>\n",
       "      <th>...</th>\n",
       "      <td>...</td>\n",
       "      <td>...</td>\n",
       "      <td>...</td>\n",
       "      <td>...</td>\n",
       "      <td>...</td>\n",
       "      <td>...</td>\n",
       "      <td>...</td>\n",
       "      <td>...</td>\n",
       "      <td>...</td>\n",
       "      <td>...</td>\n",
       "      <td>...</td>\n",
       "      <td>...</td>\n",
       "      <td>...</td>\n",
       "      <td>...</td>\n",
       "      <td>...</td>\n",
       "      <td>...</td>\n",
       "      <td>...</td>\n",
       "      <td>...</td>\n",
       "      <td>...</td>\n",
       "      <td>...</td>\n",
       "      <td>...</td>\n",
       "    </tr>\n",
       "    <tr>\n",
       "      <th>Wake_Forest</th>\n",
       "      <td>0.0</td>\n",
       "      <td>1.0</td>\n",
       "      <td>3.0</td>\n",
       "      <td>NaN</td>\n",
       "      <td>NaN</td>\n",
       "      <td>1.0</td>\n",
       "      <td>NaN</td>\n",
       "      <td>0.0</td>\n",
       "      <td>0.0</td>\n",
       "      <td>0.0</td>\n",
       "      <td>...</td>\n",
       "      <td>1.0</td>\n",
       "      <td>1.0</td>\n",
       "      <td>1.0</td>\n",
       "      <td>1.0</td>\n",
       "      <td>NaN</td>\n",
       "      <td>NaN</td>\n",
       "      <td>1.0</td>\n",
       "      <td>0.0</td>\n",
       "      <td>0.0</td>\n",
       "      <td>NaN</td>\n",
       "    </tr>\n",
       "    <tr>\n",
       "      <th>Winthrop</th>\n",
       "      <td>0.0</td>\n",
       "      <td>0.0</td>\n",
       "      <td>1.0</td>\n",
       "      <td>0.0</td>\n",
       "      <td>0.0</td>\n",
       "      <td>0.0</td>\n",
       "      <td>NaN</td>\n",
       "      <td>0.0</td>\n",
       "      <td>1.0</td>\n",
       "      <td>NaN</td>\n",
       "      <td>...</td>\n",
       "      <td>0.0</td>\n",
       "      <td>NaN</td>\n",
       "      <td>0.0</td>\n",
       "      <td>1.0</td>\n",
       "      <td>NaN</td>\n",
       "      <td>0.0</td>\n",
       "      <td>NaN</td>\n",
       "      <td>NaN</td>\n",
       "      <td>0.0</td>\n",
       "      <td>1.0</td>\n",
       "    </tr>\n",
       "    <tr>\n",
       "      <th>Wisconsin</th>\n",
       "      <td>0.0</td>\n",
       "      <td>2.0</td>\n",
       "      <td>NaN</td>\n",
       "      <td>0.0</td>\n",
       "      <td>1.0</td>\n",
       "      <td>NaN</td>\n",
       "      <td>NaN</td>\n",
       "      <td>0.0</td>\n",
       "      <td>0.0</td>\n",
       "      <td>0.0</td>\n",
       "      <td>...</td>\n",
       "      <td>NaN</td>\n",
       "      <td>NaN</td>\n",
       "      <td>NaN</td>\n",
       "      <td>1.0</td>\n",
       "      <td>NaN</td>\n",
       "      <td>0.0</td>\n",
       "      <td>NaN</td>\n",
       "      <td>NaN</td>\n",
       "      <td>0.0</td>\n",
       "      <td>0.0</td>\n",
       "    </tr>\n",
       "    <tr>\n",
       "      <th>Wyoming</th>\n",
       "      <td>NaN</td>\n",
       "      <td>1.0</td>\n",
       "      <td>0.0</td>\n",
       "      <td>NaN</td>\n",
       "      <td>NaN</td>\n",
       "      <td>0.0</td>\n",
       "      <td>NaN</td>\n",
       "      <td>NaN</td>\n",
       "      <td>0.0</td>\n",
       "      <td>NaN</td>\n",
       "      <td>...</td>\n",
       "      <td>NaN</td>\n",
       "      <td>NaN</td>\n",
       "      <td>0.0</td>\n",
       "      <td>0.0</td>\n",
       "      <td>NaN</td>\n",
       "      <td>0.0</td>\n",
       "      <td>1.0</td>\n",
       "      <td>0.0</td>\n",
       "      <td>NaN</td>\n",
       "      <td>NaN</td>\n",
       "    </tr>\n",
       "    <tr>\n",
       "      <th>Xavier</th>\n",
       "      <td>0.0</td>\n",
       "      <td>NaN</td>\n",
       "      <td>0.0</td>\n",
       "      <td>1.0</td>\n",
       "      <td>1.0</td>\n",
       "      <td>NaN</td>\n",
       "      <td>NaN</td>\n",
       "      <td>0.0</td>\n",
       "      <td>0.0</td>\n",
       "      <td>0.0</td>\n",
       "      <td>...</td>\n",
       "      <td>0.0</td>\n",
       "      <td>0.0</td>\n",
       "      <td>NaN</td>\n",
       "      <td>0.0</td>\n",
       "      <td>NaN</td>\n",
       "      <td>NaN</td>\n",
       "      <td>0.0</td>\n",
       "      <td>1.0</td>\n",
       "      <td>NaN</td>\n",
       "      <td>NaN</td>\n",
       "    </tr>\n",
       "  </tbody>\n",
       "</table>\n",
       "<p>65 rows × 65 columns</p>\n",
       "</div>"
      ],
      "text/plain": [
       "team2           Alabama  Alcorn_St  Arizona  Boston_College  Boston_Univ  \\\n",
       "team1                                                                      \n",
       "Alabama             NaN        0.0      0.0             NaN          NaN   \n",
       "Alcorn_St           0.0        NaN      NaN             NaN          NaN   \n",
       "Arizona             1.0        NaN      NaN             NaN          NaN   \n",
       "Boston_College      NaN        NaN      NaN             NaN          0.0   \n",
       "Boston_Univ         NaN        NaN      NaN             0.0          NaN   \n",
       "...                 ...        ...      ...             ...          ...   \n",
       "Wake_Forest         0.0        1.0      3.0             NaN          NaN   \n",
       "Winthrop            0.0        0.0      1.0             0.0          0.0   \n",
       "Wisconsin           0.0        2.0      NaN             0.0          1.0   \n",
       "Wyoming             NaN        1.0      0.0             NaN          NaN   \n",
       "Xavier              0.0        NaN      0.0             1.0          1.0   \n",
       "\n",
       "team2           California  Central_Conn  Charlotte  Cincinnati  Connecticut  \\\n",
       "team1                                                                          \n",
       "Alabama                0.0           NaN        1.0         0.0          0.0   \n",
       "Alcorn_St              0.0           NaN        0.0         NaN          NaN   \n",
       "Arizona                2.0           NaN        2.0         0.0          1.0   \n",
       "Boston_College         0.0           1.0        1.0         NaN          2.0   \n",
       "Boston_Univ            0.0           0.0        0.0         NaN          0.0   \n",
       "...                    ...           ...        ...         ...          ...   \n",
       "Wake_Forest            1.0           NaN        0.0         0.0          0.0   \n",
       "Winthrop               0.0           NaN        0.0         1.0          NaN   \n",
       "Wisconsin              NaN           NaN        0.0         0.0          0.0   \n",
       "Wyoming                0.0           NaN        NaN         0.0          NaN   \n",
       "Xavier                 NaN           NaN        0.0         0.0          0.0   \n",
       "\n",
       "team2           ...  UNC_Wilmington  USC  Utah  Valparaiso  W_Kentucky  \\\n",
       "team1           ...                                                      \n",
       "Alabama         ...             NaN  0.0   NaN         NaN         NaN   \n",
       "Alcorn_St       ...             NaN  NaN   0.0         0.0         NaN   \n",
       "Arizona         ...             NaN  2.0   0.0         1.0         NaN   \n",
       "Boston_College  ...             0.0  0.0   NaN         NaN         NaN   \n",
       "Boston_Univ     ...             NaN  NaN   NaN         0.0         NaN   \n",
       "...             ...             ...  ...   ...         ...         ...   \n",
       "Wake_Forest     ...             1.0  1.0   1.0         1.0         NaN   \n",
       "Winthrop        ...             0.0  NaN   0.0         1.0         NaN   \n",
       "Wisconsin       ...             NaN  NaN   NaN         1.0         NaN   \n",
       "Wyoming         ...             NaN  NaN   0.0         0.0         NaN   \n",
       "Xavier          ...             0.0  0.0   NaN         0.0         NaN   \n",
       "\n",
       "team2           Wake_Forest  Winthrop  Wisconsin  Wyoming  Xavier  \n",
       "team1                                                              \n",
       "Alabama                 0.0       1.0        1.0      NaN     0.0  \n",
       "Alcorn_St               0.0       0.0        0.0      0.0     NaN  \n",
       "Arizona                 9.0       1.0        NaN      1.0     1.0  \n",
       "Boston_College          NaN       2.0        0.0      NaN     0.0  \n",
       "Boston_Univ             NaN       0.0        0.0      NaN     0.0  \n",
       "...                     ...       ...        ...      ...     ...  \n",
       "Wake_Forest             NaN       1.0        0.0      0.0     NaN  \n",
       "Winthrop                0.0       NaN        NaN      0.0     1.0  \n",
       "Wisconsin               0.0       NaN        NaN      0.0     0.0  \n",
       "Wyoming                 0.0       1.0        0.0      NaN     NaN  \n",
       "Xavier                  NaN       0.0        1.0      NaN     NaN  \n",
       "\n",
       "[65 rows x 65 columns]"
      ]
     },
     "execution_count": 84,
     "metadata": {},
     "output_type": "execute_result"
    }
   ],
   "source": [
    "Ds.loc['2002',\"D\"][0][1]"
   ]
  },
  {
   "cell_type": "code",
   "execution_count": 85,
   "metadata": {},
   "outputs": [
    {
     "data": {
      "text/plain": [
       "FrozenList(['Year', 'days_to_subtract_key', 'direct_thres', 'spread_thres', 'weight_indirect', 'range', 'Method'])"
      ]
     },
     "execution_count": 85,
     "metadata": {},
     "output_type": "execute_result"
    }
   ],
   "source": [
    "Ds.index.names"
   ]
  },
  {
   "cell_type": "code",
   "execution_count": 112,
   "metadata": {},
   "outputs": [
    {
     "name": "stderr",
     "output_type": "stream",
     "text": [
      "/opt/tljh/user/lib/python3.7/site-packages/ipykernel_launcher.py:4: PerformanceWarning: indexing past lexsort depth may impact performance.\n",
      "  after removing the cwd from sys.path.\n",
      "/opt/tljh/user/lib/python3.7/site-packages/ipykernel_launcher.py:7: PerformanceWarning: indexing past lexsort depth may impact performance.\n",
      "  import sys\n"
     ]
    },
    {
     "data": {
      "text/html": [
       "<div>\n",
       "<style scoped>\n",
       "    .dataframe tbody tr th:only-of-type {\n",
       "        vertical-align: middle;\n",
       "    }\n",
       "\n",
       "    .dataframe tbody tr th {\n",
       "        vertical-align: top;\n",
       "    }\n",
       "\n",
       "    .dataframe thead tr th {\n",
       "        text-align: left;\n",
       "    }\n",
       "</style>\n",
       "<table border=\"1\" class=\"dataframe\">\n",
       "  <thead>\n",
       "    <tr>\n",
       "      <th></th>\n",
       "      <th>35</th>\n",
       "      <th>28</th>\n",
       "      <th>21</th>\n",
       "      <th>14</th>\n",
       "      <th>35</th>\n",
       "      <th>28</th>\n",
       "      <th>21</th>\n",
       "      <th>14</th>\n",
       "      <th>35</th>\n",
       "      <th>28</th>\n",
       "      <th>...</th>\n",
       "      <th colspan=\"10\" halign=\"left\">7</th>\n",
       "    </tr>\n",
       "    <tr>\n",
       "      <th></th>\n",
       "      <th>2002</th>\n",
       "      <th>2002</th>\n",
       "      <th>2002</th>\n",
       "      <th>2002</th>\n",
       "      <th>2003</th>\n",
       "      <th>2003</th>\n",
       "      <th>2003</th>\n",
       "      <th>2003</th>\n",
       "      <th>2004</th>\n",
       "      <th>2004</th>\n",
       "      <th>...</th>\n",
       "      <th>2009</th>\n",
       "      <th>2010</th>\n",
       "      <th>2011</th>\n",
       "      <th>2012</th>\n",
       "      <th>2013</th>\n",
       "      <th>2014</th>\n",
       "      <th>2015</th>\n",
       "      <th>2016</th>\n",
       "      <th>2017</th>\n",
       "      <th>2018</th>\n",
       "    </tr>\n",
       "    <tr>\n",
       "      <th></th>\n",
       "      <th>0</th>\n",
       "      <th>0</th>\n",
       "      <th>0</th>\n",
       "      <th>0</th>\n",
       "      <th>0</th>\n",
       "      <th>0</th>\n",
       "      <th>0</th>\n",
       "      <th>0</th>\n",
       "      <th>0</th>\n",
       "      <th>0</th>\n",
       "      <th>...</th>\n",
       "      <th>0</th>\n",
       "      <th>0</th>\n",
       "      <th>0</th>\n",
       "      <th>0</th>\n",
       "      <th>0</th>\n",
       "      <th>0</th>\n",
       "      <th>0</th>\n",
       "      <th>0</th>\n",
       "      <th>0</th>\n",
       "      <th>0</th>\n",
       "    </tr>\n",
       "    <tr>\n",
       "      <th></th>\n",
       "      <th>0</th>\n",
       "      <th>0</th>\n",
       "      <th>0</th>\n",
       "      <th>0</th>\n",
       "      <th>0</th>\n",
       "      <th>0</th>\n",
       "      <th>0</th>\n",
       "      <th>0</th>\n",
       "      <th>0</th>\n",
       "      <th>0</th>\n",
       "      <th>...</th>\n",
       "      <th>0</th>\n",
       "      <th>0</th>\n",
       "      <th>0</th>\n",
       "      <th>0</th>\n",
       "      <th>0</th>\n",
       "      <th>0</th>\n",
       "      <th>0</th>\n",
       "      <th>0</th>\n",
       "      <th>0</th>\n",
       "      <th>0</th>\n",
       "    </tr>\n",
       "    <tr>\n",
       "      <th></th>\n",
       "      <th>0.1</th>\n",
       "      <th>0.1</th>\n",
       "      <th>0.1</th>\n",
       "      <th>0.1</th>\n",
       "      <th>0.1</th>\n",
       "      <th>0.1</th>\n",
       "      <th>0.1</th>\n",
       "      <th>0.1</th>\n",
       "      <th>0.1</th>\n",
       "      <th>0.1</th>\n",
       "      <th>...</th>\n",
       "      <th>0.1</th>\n",
       "      <th>0.1</th>\n",
       "      <th>0.1</th>\n",
       "      <th>0.1</th>\n",
       "      <th>0.1</th>\n",
       "      <th>0.1</th>\n",
       "      <th>0.1</th>\n",
       "      <th>0.1</th>\n",
       "      <th>0.1</th>\n",
       "      <th>0.1</th>\n",
       "    </tr>\n",
       "    <tr>\n",
       "      <th></th>\n",
       "      <th>madness</th>\n",
       "      <th>madness</th>\n",
       "      <th>madness</th>\n",
       "      <th>madness</th>\n",
       "      <th>madness</th>\n",
       "      <th>madness</th>\n",
       "      <th>madness</th>\n",
       "      <th>madness</th>\n",
       "      <th>madness</th>\n",
       "      <th>madness</th>\n",
       "      <th>...</th>\n",
       "      <th>madness</th>\n",
       "      <th>madness</th>\n",
       "      <th>madness</th>\n",
       "      <th>madness</th>\n",
       "      <th>madness</th>\n",
       "      <th>madness</th>\n",
       "      <th>madness</th>\n",
       "      <th>madness</th>\n",
       "      <th>madness</th>\n",
       "      <th>madness</th>\n",
       "    </tr>\n",
       "    <tr>\n",
       "      <th></th>\n",
       "      <th>Colley</th>\n",
       "      <th>Colley</th>\n",
       "      <th>Colley</th>\n",
       "      <th>Colley</th>\n",
       "      <th>Colley</th>\n",
       "      <th>Colley</th>\n",
       "      <th>Colley</th>\n",
       "      <th>Colley</th>\n",
       "      <th>Colley</th>\n",
       "      <th>Colley</th>\n",
       "      <th>...</th>\n",
       "      <th>Massey</th>\n",
       "      <th>Massey</th>\n",
       "      <th>Massey</th>\n",
       "      <th>Massey</th>\n",
       "      <th>Massey</th>\n",
       "      <th>Massey</th>\n",
       "      <th>Massey</th>\n",
       "      <th>Massey</th>\n",
       "      <th>Massey</th>\n",
       "      <th>Massey</th>\n",
       "    </tr>\n",
       "  </thead>\n",
       "  <tbody>\n",
       "    <tr>\n",
       "      <th>Alabama</th>\n",
       "      <td>6.0</td>\n",
       "      <td>6.0</td>\n",
       "      <td>5.0</td>\n",
       "      <td>6.0</td>\n",
       "      <td>NaN</td>\n",
       "      <td>NaN</td>\n",
       "      <td>NaN</td>\n",
       "      <td>NaN</td>\n",
       "      <td>NaN</td>\n",
       "      <td>NaN</td>\n",
       "      <td>...</td>\n",
       "      <td>NaN</td>\n",
       "      <td>NaN</td>\n",
       "      <td>NaN</td>\n",
       "      <td>NaN</td>\n",
       "      <td>NaN</td>\n",
       "      <td>NaN</td>\n",
       "      <td>NaN</td>\n",
       "      <td>NaN</td>\n",
       "      <td>NaN</td>\n",
       "      <td>NaN</td>\n",
       "    </tr>\n",
       "    <tr>\n",
       "      <th>Arizona</th>\n",
       "      <td>7.0</td>\n",
       "      <td>7.0</td>\n",
       "      <td>9.0</td>\n",
       "      <td>9.0</td>\n",
       "      <td>2.0</td>\n",
       "      <td>3.0</td>\n",
       "      <td>1.0</td>\n",
       "      <td>1.0</td>\n",
       "      <td>NaN</td>\n",
       "      <td>NaN</td>\n",
       "      <td>...</td>\n",
       "      <td>NaN</td>\n",
       "      <td>NaN</td>\n",
       "      <td>NaN</td>\n",
       "      <td>NaN</td>\n",
       "      <td>NaN</td>\n",
       "      <td>2.0</td>\n",
       "      <td>3.0</td>\n",
       "      <td>NaN</td>\n",
       "      <td>NaN</td>\n",
       "      <td>NaN</td>\n",
       "    </tr>\n",
       "    <tr>\n",
       "      <th>Auburn</th>\n",
       "      <td>NaN</td>\n",
       "      <td>NaN</td>\n",
       "      <td>NaN</td>\n",
       "      <td>NaN</td>\n",
       "      <td>NaN</td>\n",
       "      <td>NaN</td>\n",
       "      <td>NaN</td>\n",
       "      <td>NaN</td>\n",
       "      <td>NaN</td>\n",
       "      <td>NaN</td>\n",
       "      <td>...</td>\n",
       "      <td>NaN</td>\n",
       "      <td>NaN</td>\n",
       "      <td>NaN</td>\n",
       "      <td>NaN</td>\n",
       "      <td>NaN</td>\n",
       "      <td>NaN</td>\n",
       "      <td>NaN</td>\n",
       "      <td>NaN</td>\n",
       "      <td>NaN</td>\n",
       "      <td>NaN</td>\n",
       "    </tr>\n",
       "    <tr>\n",
       "      <th>BYU</th>\n",
       "      <td>NaN</td>\n",
       "      <td>NaN</td>\n",
       "      <td>NaN</td>\n",
       "      <td>NaN</td>\n",
       "      <td>NaN</td>\n",
       "      <td>NaN</td>\n",
       "      <td>NaN</td>\n",
       "      <td>NaN</td>\n",
       "      <td>NaN</td>\n",
       "      <td>NaN</td>\n",
       "      <td>...</td>\n",
       "      <td>NaN</td>\n",
       "      <td>5.0</td>\n",
       "      <td>9.0</td>\n",
       "      <td>NaN</td>\n",
       "      <td>NaN</td>\n",
       "      <td>NaN</td>\n",
       "      <td>NaN</td>\n",
       "      <td>NaN</td>\n",
       "      <td>NaN</td>\n",
       "      <td>NaN</td>\n",
       "    </tr>\n",
       "    <tr>\n",
       "      <th>Baylor</th>\n",
       "      <td>NaN</td>\n",
       "      <td>NaN</td>\n",
       "      <td>NaN</td>\n",
       "      <td>NaN</td>\n",
       "      <td>NaN</td>\n",
       "      <td>NaN</td>\n",
       "      <td>NaN</td>\n",
       "      <td>NaN</td>\n",
       "      <td>NaN</td>\n",
       "      <td>NaN</td>\n",
       "      <td>...</td>\n",
       "      <td>NaN</td>\n",
       "      <td>NaN</td>\n",
       "      <td>NaN</td>\n",
       "      <td>NaN</td>\n",
       "      <td>NaN</td>\n",
       "      <td>NaN</td>\n",
       "      <td>NaN</td>\n",
       "      <td>NaN</td>\n",
       "      <td>NaN</td>\n",
       "      <td>NaN</td>\n",
       "    </tr>\n",
       "    <tr>\n",
       "      <th>...</th>\n",
       "      <td>...</td>\n",
       "      <td>...</td>\n",
       "      <td>...</td>\n",
       "      <td>...</td>\n",
       "      <td>...</td>\n",
       "      <td>...</td>\n",
       "      <td>...</td>\n",
       "      <td>...</td>\n",
       "      <td>...</td>\n",
       "      <td>...</td>\n",
       "      <td>...</td>\n",
       "      <td>...</td>\n",
       "      <td>...</td>\n",
       "      <td>...</td>\n",
       "      <td>...</td>\n",
       "      <td>...</td>\n",
       "      <td>...</td>\n",
       "      <td>...</td>\n",
       "      <td>...</td>\n",
       "      <td>...</td>\n",
       "      <td>...</td>\n",
       "    </tr>\n",
       "    <tr>\n",
       "      <th>Washington</th>\n",
       "      <td>NaN</td>\n",
       "      <td>NaN</td>\n",
       "      <td>NaN</td>\n",
       "      <td>NaN</td>\n",
       "      <td>NaN</td>\n",
       "      <td>NaN</td>\n",
       "      <td>NaN</td>\n",
       "      <td>NaN</td>\n",
       "      <td>NaN</td>\n",
       "      <td>NaN</td>\n",
       "      <td>...</td>\n",
       "      <td>NaN</td>\n",
       "      <td>NaN</td>\n",
       "      <td>6.0</td>\n",
       "      <td>NaN</td>\n",
       "      <td>NaN</td>\n",
       "      <td>NaN</td>\n",
       "      <td>NaN</td>\n",
       "      <td>NaN</td>\n",
       "      <td>NaN</td>\n",
       "      <td>NaN</td>\n",
       "    </tr>\n",
       "    <tr>\n",
       "      <th>West_Virginia</th>\n",
       "      <td>NaN</td>\n",
       "      <td>NaN</td>\n",
       "      <td>NaN</td>\n",
       "      <td>NaN</td>\n",
       "      <td>NaN</td>\n",
       "      <td>NaN</td>\n",
       "      <td>NaN</td>\n",
       "      <td>NaN</td>\n",
       "      <td>NaN</td>\n",
       "      <td>NaN</td>\n",
       "      <td>...</td>\n",
       "      <td>NaN</td>\n",
       "      <td>9.0</td>\n",
       "      <td>NaN</td>\n",
       "      <td>NaN</td>\n",
       "      <td>NaN</td>\n",
       "      <td>NaN</td>\n",
       "      <td>NaN</td>\n",
       "      <td>3.0</td>\n",
       "      <td>2.0</td>\n",
       "      <td>9.0</td>\n",
       "    </tr>\n",
       "    <tr>\n",
       "      <th>Wichita_St</th>\n",
       "      <td>NaN</td>\n",
       "      <td>NaN</td>\n",
       "      <td>NaN</td>\n",
       "      <td>NaN</td>\n",
       "      <td>NaN</td>\n",
       "      <td>NaN</td>\n",
       "      <td>NaN</td>\n",
       "      <td>NaN</td>\n",
       "      <td>NaN</td>\n",
       "      <td>NaN</td>\n",
       "      <td>...</td>\n",
       "      <td>NaN</td>\n",
       "      <td>NaN</td>\n",
       "      <td>NaN</td>\n",
       "      <td>NaN</td>\n",
       "      <td>NaN</td>\n",
       "      <td>NaN</td>\n",
       "      <td>NaN</td>\n",
       "      <td>NaN</td>\n",
       "      <td>NaN</td>\n",
       "      <td>NaN</td>\n",
       "    </tr>\n",
       "    <tr>\n",
       "      <th>Wisconsin</th>\n",
       "      <td>NaN</td>\n",
       "      <td>NaN</td>\n",
       "      <td>NaN</td>\n",
       "      <td>NaN</td>\n",
       "      <td>NaN</td>\n",
       "      <td>NaN</td>\n",
       "      <td>NaN</td>\n",
       "      <td>NaN</td>\n",
       "      <td>NaN</td>\n",
       "      <td>NaN</td>\n",
       "      <td>...</td>\n",
       "      <td>NaN</td>\n",
       "      <td>6.0</td>\n",
       "      <td>NaN</td>\n",
       "      <td>9.0</td>\n",
       "      <td>NaN</td>\n",
       "      <td>NaN</td>\n",
       "      <td>2.0</td>\n",
       "      <td>NaN</td>\n",
       "      <td>NaN</td>\n",
       "      <td>NaN</td>\n",
       "    </tr>\n",
       "    <tr>\n",
       "      <th>Xavier</th>\n",
       "      <td>NaN</td>\n",
       "      <td>NaN</td>\n",
       "      <td>NaN</td>\n",
       "      <td>NaN</td>\n",
       "      <td>NaN</td>\n",
       "      <td>NaN</td>\n",
       "      <td>NaN</td>\n",
       "      <td>NaN</td>\n",
       "      <td>NaN</td>\n",
       "      <td>NaN</td>\n",
       "      <td>...</td>\n",
       "      <td>NaN</td>\n",
       "      <td>NaN</td>\n",
       "      <td>NaN</td>\n",
       "      <td>NaN</td>\n",
       "      <td>NaN</td>\n",
       "      <td>NaN</td>\n",
       "      <td>NaN</td>\n",
       "      <td>NaN</td>\n",
       "      <td>NaN</td>\n",
       "      <td>NaN</td>\n",
       "    </tr>\n",
       "  </tbody>\n",
       "</table>\n",
       "<p>64 rows × 170 columns</p>\n",
       "</div>"
      ],
      "text/plain": [
       "                   35      28      21      14      35      28      21      14  \\\n",
       "                 2002    2002    2002    2002    2003    2003    2003    2003   \n",
       "                    0       0       0       0       0       0       0       0   \n",
       "                    0       0       0       0       0       0       0       0   \n",
       "                  0.1     0.1     0.1     0.1     0.1     0.1     0.1     0.1   \n",
       "              madness madness madness madness madness madness madness madness   \n",
       "               Colley  Colley  Colley  Colley  Colley  Colley  Colley  Colley   \n",
       "Alabama           6.0     6.0     5.0     6.0     NaN     NaN     NaN     NaN   \n",
       "Arizona           7.0     7.0     9.0     9.0     2.0     3.0     1.0     1.0   \n",
       "Auburn            NaN     NaN     NaN     NaN     NaN     NaN     NaN     NaN   \n",
       "BYU               NaN     NaN     NaN     NaN     NaN     NaN     NaN     NaN   \n",
       "Baylor            NaN     NaN     NaN     NaN     NaN     NaN     NaN     NaN   \n",
       "..                ...     ...     ...     ...     ...     ...     ...     ...   \n",
       "Washington        NaN     NaN     NaN     NaN     NaN     NaN     NaN     NaN   \n",
       "West_Virginia     NaN     NaN     NaN     NaN     NaN     NaN     NaN     NaN   \n",
       "Wichita_St        NaN     NaN     NaN     NaN     NaN     NaN     NaN     NaN   \n",
       "Wisconsin         NaN     NaN     NaN     NaN     NaN     NaN     NaN     NaN   \n",
       "Xavier            NaN     NaN     NaN     NaN     NaN     NaN     NaN     NaN   \n",
       "\n",
       "                   35      28  ...      7                                   \\\n",
       "                 2004    2004  ...    2009    2010    2011    2012    2013   \n",
       "                    0       0  ...       0       0       0       0       0   \n",
       "                    0       0  ...       0       0       0       0       0   \n",
       "                  0.1     0.1  ...     0.1     0.1     0.1     0.1     0.1   \n",
       "              madness madness  ... madness madness madness madness madness   \n",
       "               Colley  Colley  ...  Massey  Massey  Massey  Massey  Massey   \n",
       "Alabama           NaN     NaN  ...     NaN     NaN     NaN     NaN     NaN   \n",
       "Arizona           NaN     NaN  ...     NaN     NaN     NaN     NaN     NaN   \n",
       "Auburn            NaN     NaN  ...     NaN     NaN     NaN     NaN     NaN   \n",
       "BYU               NaN     NaN  ...     NaN     5.0     9.0     NaN     NaN   \n",
       "Baylor            NaN     NaN  ...     NaN     NaN     NaN     NaN     NaN   \n",
       "..                ...     ...  ...     ...     ...     ...     ...     ...   \n",
       "Washington        NaN     NaN  ...     NaN     NaN     6.0     NaN     NaN   \n",
       "West_Virginia     NaN     NaN  ...     NaN     9.0     NaN     NaN     NaN   \n",
       "Wichita_St        NaN     NaN  ...     NaN     NaN     NaN     NaN     NaN   \n",
       "Wisconsin         NaN     NaN  ...     NaN     6.0     NaN     9.0     NaN   \n",
       "Xavier            NaN     NaN  ...     NaN     NaN     NaN     NaN     NaN   \n",
       "\n",
       "                                                       \n",
       "                 2014    2015    2016    2017    2018  \n",
       "                    0       0       0       0       0  \n",
       "                    0       0       0       0       0  \n",
       "                  0.1     0.1     0.1     0.1     0.1  \n",
       "              madness madness madness madness madness  \n",
       "               Massey  Massey  Massey  Massey  Massey  \n",
       "Alabama           NaN     NaN     NaN     NaN     NaN  \n",
       "Arizona           2.0     3.0     NaN     NaN     NaN  \n",
       "Auburn            NaN     NaN     NaN     NaN     NaN  \n",
       "BYU               NaN     NaN     NaN     NaN     NaN  \n",
       "Baylor            NaN     NaN     NaN     NaN     NaN  \n",
       "..                ...     ...     ...     ...     ...  \n",
       "Washington        NaN     NaN     NaN     NaN     NaN  \n",
       "West_Virginia     NaN     NaN     3.0     2.0     9.0  \n",
       "Wichita_St        NaN     NaN     NaN     NaN     NaN  \n",
       "Wisconsin         NaN     2.0     NaN     NaN     NaN  \n",
       "Xavier            NaN     NaN     NaN     NaN     NaN  \n",
       "\n",
       "[64 rows x 170 columns]"
      ]
     },
     "execution_count": 112,
     "metadata": {},
     "output_type": "execute_result"
    }
   ],
   "source": [
    "rankings = {}\n",
    "dt = target.set_index(['days_to_subtract2','Year','direct_thres','spread_thres','weight_indirect','range','Method'])\n",
    "for index in dt.index:\n",
    "    rankings[index] = dt.loc[index].iloc[0]['rankings2']\n",
    "dt = target.set_index(['days_to_subtract1','Year','direct_thres','spread_thres','weight_indirect','range','Method'])\n",
    "for index in dt.index:\n",
    "    rankings[index] = dt.loc[index].iloc[0]['rankings1']"
   ]
  },
  {
   "cell_type": "code",
   "execution_count": 117,
   "metadata": {},
   "outputs": [],
   "source": [
    "rankings_df = pd.DataFrame(rankings).T"
   ]
  },
  {
   "cell_type": "markdown",
   "metadata": {},
   "source": [
    "### Compute the features"
   ]
  },
  {
   "cell_type": "code",
   "execution_count": 118,
   "metadata": {},
   "outputs": [],
   "source": [
    "feature_columns = [\"delta_lop\",\"delta_hillside\",\"nfrac_xstar_lop\",\"nfrac_xstar_hillside\",\"diameter_lop\",\"diameter_hillside\"]\n",
    "\n",
    "def compute_features(D,rankings,top_k):\n",
    "    top_teams = list(rankings.sort_values().index[:top_k])\n",
    "    D = D.loc[top_teams,top_teams]\n",
    "    delta_lop,details_lop = pyrankability.rank.solve(D.fillna(0),method='lop',cont=True)\n",
    "\n",
    "    x = pd.DataFrame(details_lop['x'],index=D.index,columns=D.columns)\n",
    "    r = x.sum(axis=0)\n",
    "    order = np.argsort(r)\n",
    "    xstar = x.iloc[order,:].iloc[:,order]\n",
    "    xstar.loc[:,:] = pyrankability.common.threshold_x(xstar.values)\n",
    "    inxs = np.triu_indices(len(xstar),k=1)\n",
    "    xstar_upper = xstar.values[inxs[0],inxs[1]]\n",
    "    nfrac_upper_lop = sum((xstar_upper > 0) & (xstar_upper < 1))\n",
    "    \n",
    "    top_teams = xstar.columns[:top_k]\n",
    "    \n",
    "    k_two_distant,details_two_distant = pyrankability.search.solve_pair(D.fillna(0),method='lop',minimize=False,verbose=False)\n",
    "    d_lop = k_two_distant#details_two_distant['tau']\n",
    "    \n",
    "    delta_hillside,details_hillside = pyrankability.rank.solve(D,method='hillside',cont=True)\n",
    "    \n",
    "    x = pd.DataFrame(details_hillside['x'],index=D.index,columns=D.columns)\n",
    "    r = x.sum(axis=0)\n",
    "    order = np.argsort(r)\n",
    "    xstar = x.iloc[order,:].iloc[:,order]\n",
    "    xstar.loc[:,:] = pyrankability.common.threshold_x(xstar.values)\n",
    "    inxs = np.triu_indices(len(xstar),k=1)\n",
    "    xstar_upper = xstar.values[inxs[0],inxs[1]]\n",
    "    nfrac_upper_hillside = sum((xstar_upper > 0) & (xstar_upper < 1))\n",
    "    \n",
    "    top_teams = xstar.columns[:top_k]\n",
    "    \n",
    "    k_two_distant,details_two_distant = pyrankability.search.solve_pair(D,method='hillside',minimize=False,verbose=False)\n",
    "    d_hillside = k_two_distant#details_two_distant['tau']\n",
    "    \n",
    "    features = pd.Series([delta_lop,delta_hillside,2*nfrac_upper_lop,2*nfrac_upper_hillside,d_lop,d_hillside],index=feature_columns)\n",
    "\n",
    "    return features"
   ]
  },
  {
   "cell_type": "code",
   "execution_count": 121,
   "metadata": {},
   "outputs": [],
   "source": [
    "def create_features(Ds,rankings_df,top_k):\n",
    "    index_cols = list(Ds.index.names)+[\"Construction\"]\n",
    "    X = pd.DataFrame(columns=index_cols + feature_columns)\n",
    "    X.set_index(index_cols,inplace=True)\n",
    "    #target = target.set_index(['days_to_subtract2','Year','direct_thres','spread_thres','weight_indirect','range','Method'])\n",
    "    for index,row in tqdm(Ds.iterrows()):\n",
    "        sum_D = None\n",
    "        year,days_to_subtract_key,dt,st,iw,ran,method = index\n",
    "        days_to_subtract = int(days_to_subtract_key.split(\"=\")[1])\n",
    "        print(days_to_subtract,year,dt,st,iw,ran,method)\n",
    "        rankings = rankings_df.loc[days_to_subtract,year,dt,st,iw,ran,method].dropna() #spec_best_pred_df = best_pred_df.set_index(['Year','days_to_subtract_key',\"Method\"]).loc[[(year,days_to_subtract_key,method)]]\n",
    "        for i,D in enumerate(Ds.loc[(year,days_to_subtract_key,dt,st,iw,ran,method),\"D\"]):\n",
    "            if sum_D is None:\n",
    "                sum_D = D\n",
    "            else:\n",
    "                sum_D = sum_D.add(iw*D,fill_value=0)\n",
    "            if i == 0:\n",
    "                construction = \"Direct\"\n",
    "            elif i == 1:\n",
    "                construction = \"Indirect\"\n",
    "            else:\n",
    "                raise Exception(\"Error\")\n",
    "            features = compute_features(D,rankings,top_k)\n",
    "            features.name = tuple(list(index)+[construction])\n",
    "            X = X.append(features)\n",
    "            \n",
    "            if i == 1:\n",
    "                construction = \"Both\"\n",
    "                features = compute_features(sum_D,rankings,top_k)\n",
    "                features.name = tuple(list(index)+[construction])\n",
    "                X = X.append(features)\n",
    "    return X"
   ]
  },
  {
   "cell_type": "code",
   "execution_count": 122,
   "metadata": {},
   "outputs": [
    {
     "name": "stderr",
     "output_type": "stream",
     "text": [
      "\n",
      "\n",
      "\n",
      "\n",
      "0it [00:00, ?it/s]\u001b[A\u001b[A\u001b[A\u001b[A"
     ]
    },
    {
     "name": "stdout",
     "output_type": "stream",
     "text": [
      "35 2002 0 0 0.1 madness Colley\n"
     ]
    },
    {
     "name": "stderr",
     "output_type": "stream",
     "text": [
      "\n",
      "\n",
      "\n",
      "\n",
      "1it [00:00,  3.80it/s]\u001b[A\u001b[A\u001b[A\u001b[A"
     ]
    },
    {
     "name": "stdout",
     "output_type": "stream",
     "text": [
      "35 2002 0 0 0.1 madness Massey\n"
     ]
    },
    {
     "name": "stderr",
     "output_type": "stream",
     "text": [
      "\n",
      "\n",
      "\n",
      "\n",
      "2it [00:00,  3.51it/s]\u001b[A\u001b[A\u001b[A\u001b[A"
     ]
    },
    {
     "name": "stdout",
     "output_type": "stream",
     "text": [
      "35 2003 0 0 0.1 madness Colley\n"
     ]
    },
    {
     "name": "stderr",
     "output_type": "stream",
     "text": [
      "\n",
      "\n",
      "\n",
      "\n",
      "3it [00:00,  3.58it/s]\u001b[A\u001b[A\u001b[A\u001b[A"
     ]
    },
    {
     "name": "stdout",
     "output_type": "stream",
     "text": [
      "35 2003 0 0 0.1 madness Massey\n"
     ]
    },
    {
     "name": "stderr",
     "output_type": "stream",
     "text": [
      "\n",
      "\n",
      "\n",
      "\n",
      "4it [00:01,  3.67it/s]\u001b[A\u001b[A\u001b[A\u001b[A"
     ]
    },
    {
     "name": "stdout",
     "output_type": "stream",
     "text": [
      "35 2004 0 0 0.1 madness Colley\n"
     ]
    },
    {
     "name": "stderr",
     "output_type": "stream",
     "text": [
      "\n",
      "\n",
      "\n",
      "\n",
      "5it [00:01,  3.61it/s]\u001b[A\u001b[A\u001b[A\u001b[A"
     ]
    },
    {
     "name": "stdout",
     "output_type": "stream",
     "text": [
      "35 2004 0 0 0.1 madness Massey\n"
     ]
    },
    {
     "name": "stderr",
     "output_type": "stream",
     "text": [
      "\n",
      "\n",
      "\n",
      "\n",
      "6it [00:01,  3.73it/s]\u001b[A\u001b[A\u001b[A\u001b[A"
     ]
    },
    {
     "name": "stdout",
     "output_type": "stream",
     "text": [
      "35 2005 0 0 0.1 madness Colley\n"
     ]
    },
    {
     "name": "stderr",
     "output_type": "stream",
     "text": [
      "\n",
      "\n",
      "\n",
      "\n",
      "7it [00:01,  3.83it/s]\u001b[A\u001b[A\u001b[A\u001b[A"
     ]
    },
    {
     "name": "stdout",
     "output_type": "stream",
     "text": [
      "35 2005 0 0 0.1 madness Massey\n"
     ]
    },
    {
     "name": "stderr",
     "output_type": "stream",
     "text": [
      "\n",
      "\n",
      "\n",
      "\n",
      "8it [00:02,  3.90it/s]\u001b[A\u001b[A\u001b[A\u001b[A"
     ]
    },
    {
     "name": "stdout",
     "output_type": "stream",
     "text": [
      "35 2006 0 0 0.1 madness Colley\n"
     ]
    },
    {
     "name": "stderr",
     "output_type": "stream",
     "text": [
      "\n",
      "\n",
      "\n",
      "\n",
      "9it [00:02,  3.53it/s]\u001b[A\u001b[A\u001b[A\u001b[A"
     ]
    },
    {
     "name": "stdout",
     "output_type": "stream",
     "text": [
      "35 2006 0 0 0.1 madness Massey\n"
     ]
    },
    {
     "name": "stderr",
     "output_type": "stream",
     "text": [
      "\n",
      "\n",
      "\n",
      "\n",
      "10it [00:02,  3.44it/s]\u001b[A\u001b[A\u001b[A\u001b[A"
     ]
    },
    {
     "name": "stdout",
     "output_type": "stream",
     "text": [
      "35 2007 0 0 0.1 madness Colley\n"
     ]
    },
    {
     "name": "stderr",
     "output_type": "stream",
     "text": [
      "\n",
      "\n",
      "\n",
      "\n",
      "11it [00:03,  3.57it/s]\u001b[A\u001b[A\u001b[A\u001b[A"
     ]
    },
    {
     "name": "stdout",
     "output_type": "stream",
     "text": [
      "35 2007 0 0 0.1 madness Massey\n"
     ]
    },
    {
     "name": "stderr",
     "output_type": "stream",
     "text": [
      "\n",
      "\n",
      "\n",
      "\n",
      "12it [00:03,  3.69it/s]\u001b[A\u001b[A\u001b[A\u001b[A"
     ]
    },
    {
     "name": "stdout",
     "output_type": "stream",
     "text": [
      "35 2008 0 0 0.1 madness Colley\n"
     ]
    },
    {
     "name": "stderr",
     "output_type": "stream",
     "text": [
      "\n",
      "\n",
      "\n",
      "\n",
      "13it [00:03,  3.01it/s]\u001b[A\u001b[A\u001b[A\u001b[A"
     ]
    },
    {
     "name": "stdout",
     "output_type": "stream",
     "text": [
      "35 2008 0 0 0.1 madness Massey\n"
     ]
    },
    {
     "name": "stderr",
     "output_type": "stream",
     "text": [
      "\n",
      "\n",
      "\n",
      "\n",
      "14it [00:04,  3.26it/s]\u001b[A\u001b[A\u001b[A\u001b[A"
     ]
    },
    {
     "name": "stdout",
     "output_type": "stream",
     "text": [
      "35 2009 0 0 0.1 madness Colley\n"
     ]
    },
    {
     "name": "stderr",
     "output_type": "stream",
     "text": [
      "\n",
      "\n",
      "\n",
      "\n",
      "15it [00:04,  3.41it/s]\u001b[A\u001b[A\u001b[A\u001b[A"
     ]
    },
    {
     "name": "stdout",
     "output_type": "stream",
     "text": [
      "35 2009 0 0 0.1 madness Massey\n"
     ]
    },
    {
     "name": "stderr",
     "output_type": "stream",
     "text": [
      "\n",
      "\n",
      "\n",
      "\n",
      "16it [00:04,  3.58it/s]\u001b[A\u001b[A\u001b[A\u001b[A"
     ]
    },
    {
     "name": "stdout",
     "output_type": "stream",
     "text": [
      "35 2010 0 0 0.1 madness Colley\n"
     ]
    },
    {
     "name": "stderr",
     "output_type": "stream",
     "text": [
      "\n",
      "\n",
      "\n",
      "\n",
      "17it [00:04,  3.43it/s]\u001b[A\u001b[A\u001b[A\u001b[A"
     ]
    },
    {
     "name": "stdout",
     "output_type": "stream",
     "text": [
      "35 2010 0 0 0.1 madness Massey\n"
     ]
    },
    {
     "name": "stderr",
     "output_type": "stream",
     "text": [
      "\n",
      "\n",
      "\n",
      "\n",
      "18it [00:05,  3.55it/s]\u001b[A\u001b[A\u001b[A\u001b[A"
     ]
    },
    {
     "name": "stdout",
     "output_type": "stream",
     "text": [
      "35 2011 0 0 0.1 madness Colley\n"
     ]
    },
    {
     "name": "stderr",
     "output_type": "stream",
     "text": [
      "\n",
      "\n",
      "\n",
      "\n",
      "19it [00:05,  3.44it/s]\u001b[A\u001b[A\u001b[A\u001b[A"
     ]
    },
    {
     "name": "stdout",
     "output_type": "stream",
     "text": [
      "35 2011 0 0 0.1 madness Massey\n"
     ]
    },
    {
     "name": "stderr",
     "output_type": "stream",
     "text": [
      "\n",
      "\n",
      "\n",
      "\n",
      "20it [00:05,  3.48it/s]\u001b[A\u001b[A\u001b[A\u001b[A"
     ]
    },
    {
     "name": "stdout",
     "output_type": "stream",
     "text": [
      "35 2012 0 0 0.1 madness Colley\n"
     ]
    },
    {
     "name": "stderr",
     "output_type": "stream",
     "text": [
      "\n",
      "\n",
      "\n",
      "\n",
      "21it [00:05,  3.56it/s]\u001b[A\u001b[A\u001b[A\u001b[A"
     ]
    },
    {
     "name": "stdout",
     "output_type": "stream",
     "text": [
      "35 2012 0 0 0.1 madness Massey\n"
     ]
    },
    {
     "name": "stderr",
     "output_type": "stream",
     "text": [
      "\n",
      "\n",
      "\n",
      "\n",
      "22it [00:06,  3.64it/s]\u001b[A\u001b[A\u001b[A\u001b[A"
     ]
    },
    {
     "name": "stdout",
     "output_type": "stream",
     "text": [
      "35 2013 0 0 0.1 madness Colley\n"
     ]
    },
    {
     "name": "stderr",
     "output_type": "stream",
     "text": [
      "\n",
      "\n",
      "\n",
      "\n",
      "23it [00:06,  3.63it/s]\u001b[A\u001b[A\u001b[A\u001b[A"
     ]
    },
    {
     "name": "stdout",
     "output_type": "stream",
     "text": [
      "35 2013 0 0 0.1 madness Massey\n"
     ]
    },
    {
     "name": "stderr",
     "output_type": "stream",
     "text": [
      "\n",
      "\n",
      "\n",
      "\n",
      "24it [00:06,  3.48it/s]\u001b[A\u001b[A\u001b[A\u001b[A"
     ]
    },
    {
     "name": "stdout",
     "output_type": "stream",
     "text": [
      "35 2014 0 0 0.1 madness Colley\n"
     ]
    },
    {
     "name": "stderr",
     "output_type": "stream",
     "text": [
      "\n",
      "\n",
      "\n",
      "\n",
      "25it [00:07,  3.56it/s]\u001b[A\u001b[A\u001b[A\u001b[A"
     ]
    },
    {
     "name": "stdout",
     "output_type": "stream",
     "text": [
      "35 2014 0 0 0.1 madness Massey\n"
     ]
    },
    {
     "name": "stderr",
     "output_type": "stream",
     "text": [
      "\n",
      "\n",
      "\n",
      "\n",
      "26it [00:07,  3.66it/s]\u001b[A\u001b[A\u001b[A\u001b[A"
     ]
    },
    {
     "name": "stdout",
     "output_type": "stream",
     "text": [
      "35 2015 0 0 0.1 madness Colley\n"
     ]
    },
    {
     "name": "stderr",
     "output_type": "stream",
     "text": [
      "\n",
      "\n",
      "\n",
      "\n",
      "27it [00:07,  3.71it/s]\u001b[A\u001b[A\u001b[A\u001b[A"
     ]
    },
    {
     "name": "stdout",
     "output_type": "stream",
     "text": [
      "35 2015 0 0 0.1 madness Massey\n"
     ]
    },
    {
     "name": "stderr",
     "output_type": "stream",
     "text": [
      "\n",
      "\n",
      "\n",
      "\n",
      "28it [00:07,  3.65it/s]\u001b[A\u001b[A\u001b[A\u001b[A"
     ]
    },
    {
     "name": "stdout",
     "output_type": "stream",
     "text": [
      "35 2016 0 0 0.1 madness Colley\n"
     ]
    },
    {
     "name": "stderr",
     "output_type": "stream",
     "text": [
      "\n",
      "\n",
      "\n",
      "\n",
      "29it [00:08,  3.38it/s]\u001b[A\u001b[A\u001b[A\u001b[A"
     ]
    },
    {
     "name": "stdout",
     "output_type": "stream",
     "text": [
      "35 2016 0 0 0.1 madness Massey\n"
     ]
    },
    {
     "name": "stderr",
     "output_type": "stream",
     "text": [
      "\n",
      "\n",
      "\n",
      "\n",
      "30it [00:08,  3.53it/s]\u001b[A\u001b[A\u001b[A\u001b[A"
     ]
    },
    {
     "name": "stdout",
     "output_type": "stream",
     "text": [
      "35 2017 0 0 0.1 madness Colley\n"
     ]
    },
    {
     "name": "stderr",
     "output_type": "stream",
     "text": [
      "\n",
      "\n",
      "\n",
      "\n",
      "31it [00:08,  3.66it/s]\u001b[A\u001b[A\u001b[A\u001b[A"
     ]
    },
    {
     "name": "stdout",
     "output_type": "stream",
     "text": [
      "35 2017 0 0 0.1 madness Massey\n"
     ]
    },
    {
     "name": "stderr",
     "output_type": "stream",
     "text": [
      "\n",
      "\n",
      "\n",
      "\n",
      "32it [00:09,  3.41it/s]\u001b[A\u001b[A\u001b[A\u001b[A"
     ]
    },
    {
     "name": "stdout",
     "output_type": "stream",
     "text": [
      "35 2018 0 0 0.1 madness Colley\n"
     ]
    },
    {
     "name": "stderr",
     "output_type": "stream",
     "text": [
      "\n",
      "\n",
      "\n",
      "\n",
      "33it [00:09,  3.45it/s]\u001b[A\u001b[A\u001b[A\u001b[A"
     ]
    },
    {
     "name": "stdout",
     "output_type": "stream",
     "text": [
      "35 2018 0 0 0.1 madness Massey\n"
     ]
    },
    {
     "name": "stderr",
     "output_type": "stream",
     "text": [
      "\n",
      "\n",
      "\n",
      "\n",
      "34it [00:09,  3.61it/s]\u001b[A\u001b[A\u001b[A\u001b[A"
     ]
    },
    {
     "name": "stdout",
     "output_type": "stream",
     "text": [
      "28 2002 0 0 0.1 madness Colley\n"
     ]
    },
    {
     "name": "stderr",
     "output_type": "stream",
     "text": [
      "\n",
      "\n",
      "\n",
      "\n",
      "35it [00:09,  3.56it/s]\u001b[A\u001b[A\u001b[A\u001b[A"
     ]
    },
    {
     "name": "stdout",
     "output_type": "stream",
     "text": [
      "28 2002 0 0 0.1 madness Massey\n"
     ]
    },
    {
     "name": "stderr",
     "output_type": "stream",
     "text": [
      "\n",
      "\n",
      "\n",
      "\n",
      "36it [00:10,  3.69it/s]\u001b[A\u001b[A\u001b[A\u001b[A"
     ]
    },
    {
     "name": "stdout",
     "output_type": "stream",
     "text": [
      "28 2003 0 0 0.1 madness Colley\n"
     ]
    },
    {
     "name": "stderr",
     "output_type": "stream",
     "text": [
      "\n",
      "\n",
      "\n",
      "\n",
      "37it [00:10,  3.68it/s]\u001b[A\u001b[A\u001b[A\u001b[A"
     ]
    },
    {
     "name": "stdout",
     "output_type": "stream",
     "text": [
      "28 2003 0 0 0.1 madness Massey\n"
     ]
    },
    {
     "name": "stderr",
     "output_type": "stream",
     "text": [
      "\n",
      "\n",
      "\n",
      "\n",
      "38it [00:10,  3.79it/s]\u001b[A\u001b[A\u001b[A\u001b[A"
     ]
    },
    {
     "name": "stdout",
     "output_type": "stream",
     "text": [
      "28 2004 0 0 0.1 madness Colley\n"
     ]
    },
    {
     "name": "stderr",
     "output_type": "stream",
     "text": [
      "\n",
      "\n",
      "\n",
      "\n",
      "39it [00:10,  3.62it/s]\u001b[A\u001b[A\u001b[A\u001b[A"
     ]
    },
    {
     "name": "stdout",
     "output_type": "stream",
     "text": [
      "28 2004 0 0 0.1 madness Massey\n"
     ]
    },
    {
     "name": "stderr",
     "output_type": "stream",
     "text": [
      "\n",
      "\n",
      "\n",
      "\n",
      "40it [00:11,  3.46it/s]\u001b[A\u001b[A\u001b[A\u001b[A"
     ]
    },
    {
     "name": "stdout",
     "output_type": "stream",
     "text": [
      "28 2005 0 0 0.1 madness Colley\n"
     ]
    },
    {
     "name": "stderr",
     "output_type": "stream",
     "text": [
      "\n",
      "\n",
      "\n",
      "\n",
      "41it [00:11,  3.60it/s]\u001b[A\u001b[A\u001b[A\u001b[A"
     ]
    },
    {
     "name": "stdout",
     "output_type": "stream",
     "text": [
      "28 2005 0 0 0.1 madness Massey\n"
     ]
    },
    {
     "name": "stderr",
     "output_type": "stream",
     "text": [
      "\n",
      "\n",
      "\n",
      "\n",
      "42it [00:11,  3.71it/s]\u001b[A\u001b[A\u001b[A\u001b[A"
     ]
    },
    {
     "name": "stdout",
     "output_type": "stream",
     "text": [
      "28 2006 0 0 0.1 madness Colley\n"
     ]
    },
    {
     "name": "stderr",
     "output_type": "stream",
     "text": [
      "\n",
      "\n",
      "\n",
      "\n",
      "43it [00:12,  3.53it/s]\u001b[A\u001b[A\u001b[A\u001b[A"
     ]
    },
    {
     "name": "stdout",
     "output_type": "stream",
     "text": [
      "28 2006 0 0 0.1 madness Massey\n"
     ]
    },
    {
     "name": "stderr",
     "output_type": "stream",
     "text": [
      "\n",
      "\n",
      "\n",
      "\n",
      "44it [00:12,  3.48it/s]\u001b[A\u001b[A\u001b[A\u001b[A"
     ]
    },
    {
     "name": "stdout",
     "output_type": "stream",
     "text": [
      "28 2007 0 0 0.1 madness Colley\n"
     ]
    },
    {
     "name": "stderr",
     "output_type": "stream",
     "text": [
      "\n",
      "\n",
      "\n",
      "\n",
      "45it [00:12,  3.63it/s]\u001b[A\u001b[A\u001b[A\u001b[A"
     ]
    },
    {
     "name": "stdout",
     "output_type": "stream",
     "text": [
      "28 2007 0 0 0.1 madness Massey\n"
     ]
    },
    {
     "name": "stderr",
     "output_type": "stream",
     "text": [
      "\n",
      "\n",
      "\n",
      "\n",
      "46it [00:12,  3.72it/s]\u001b[A\u001b[A\u001b[A\u001b[A"
     ]
    },
    {
     "name": "stdout",
     "output_type": "stream",
     "text": [
      "28 2008 0 0 0.1 madness Colley\n"
     ]
    },
    {
     "name": "stderr",
     "output_type": "stream",
     "text": [
      "\n",
      "\n",
      "\n",
      "\n",
      "47it [00:13,  3.50it/s]\u001b[A\u001b[A\u001b[A\u001b[A"
     ]
    },
    {
     "name": "stdout",
     "output_type": "stream",
     "text": [
      "28 2008 0 0 0.1 madness Massey\n"
     ]
    },
    {
     "name": "stderr",
     "output_type": "stream",
     "text": [
      "\n",
      "\n",
      "\n",
      "\n",
      "48it [00:13,  3.25it/s]\u001b[A\u001b[A\u001b[A\u001b[A"
     ]
    },
    {
     "name": "stdout",
     "output_type": "stream",
     "text": [
      "28 2009 0 0 0.1 madness Colley\n"
     ]
    },
    {
     "name": "stderr",
     "output_type": "stream",
     "text": [
      "\n",
      "\n",
      "\n",
      "\n",
      "49it [00:13,  3.20it/s]\u001b[A\u001b[A\u001b[A\u001b[A"
     ]
    },
    {
     "name": "stdout",
     "output_type": "stream",
     "text": [
      "28 2009 0 0 0.1 madness Massey\n"
     ]
    },
    {
     "name": "stderr",
     "output_type": "stream",
     "text": [
      "\n",
      "\n",
      "\n",
      "\n",
      "50it [00:14,  3.29it/s]\u001b[A\u001b[A\u001b[A\u001b[A"
     ]
    },
    {
     "name": "stdout",
     "output_type": "stream",
     "text": [
      "28 2010 0 0 0.1 madness Colley\n"
     ]
    },
    {
     "name": "stderr",
     "output_type": "stream",
     "text": [
      "\n",
      "\n",
      "\n",
      "\n",
      "51it [00:14,  3.42it/s]\u001b[A\u001b[A\u001b[A\u001b[A"
     ]
    },
    {
     "name": "stdout",
     "output_type": "stream",
     "text": [
      "28 2010 0 0 0.1 madness Massey\n"
     ]
    },
    {
     "name": "stderr",
     "output_type": "stream",
     "text": [
      "\n",
      "\n",
      "\n",
      "\n",
      "52it [00:14,  3.54it/s]\u001b[A\u001b[A\u001b[A\u001b[A"
     ]
    },
    {
     "name": "stdout",
     "output_type": "stream",
     "text": [
      "28 2011 0 0 0.1 madness Colley\n"
     ]
    },
    {
     "name": "stderr",
     "output_type": "stream",
     "text": [
      "\n",
      "\n",
      "\n",
      "\n",
      "53it [00:15,  3.55it/s]\u001b[A\u001b[A\u001b[A\u001b[A"
     ]
    },
    {
     "name": "stdout",
     "output_type": "stream",
     "text": [
      "28 2011 0 0 0.1 madness Massey\n"
     ]
    },
    {
     "name": "stderr",
     "output_type": "stream",
     "text": [
      "\n",
      "\n",
      "\n",
      "\n",
      "54it [00:15,  3.53it/s]\u001b[A\u001b[A\u001b[A\u001b[A"
     ]
    },
    {
     "name": "stdout",
     "output_type": "stream",
     "text": [
      "28 2012 0 0 0.1 madness Colley\n"
     ]
    },
    {
     "name": "stderr",
     "output_type": "stream",
     "text": [
      "\n",
      "\n",
      "\n",
      "\n",
      "55it [00:15,  3.51it/s]\u001b[A\u001b[A\u001b[A\u001b[A"
     ]
    },
    {
     "name": "stdout",
     "output_type": "stream",
     "text": [
      "28 2012 0 0 0.1 madness Massey\n"
     ]
    },
    {
     "name": "stderr",
     "output_type": "stream",
     "text": [
      "\n",
      "\n",
      "\n",
      "\n",
      "56it [00:15,  3.62it/s]\u001b[A\u001b[A\u001b[A\u001b[A"
     ]
    },
    {
     "name": "stdout",
     "output_type": "stream",
     "text": [
      "28 2013 0 0 0.1 madness Colley\n"
     ]
    },
    {
     "name": "stderr",
     "output_type": "stream",
     "text": [
      "\n",
      "\n",
      "\n",
      "\n",
      "57it [00:16,  3.59it/s]\u001b[A\u001b[A\u001b[A\u001b[A"
     ]
    },
    {
     "name": "stdout",
     "output_type": "stream",
     "text": [
      "28 2013 0 0 0.1 madness Massey\n"
     ]
    },
    {
     "name": "stderr",
     "output_type": "stream",
     "text": [
      "\n",
      "\n",
      "\n",
      "\n",
      "58it [00:16,  3.56it/s]\u001b[A\u001b[A\u001b[A\u001b[A"
     ]
    },
    {
     "name": "stdout",
     "output_type": "stream",
     "text": [
      "28 2014 0 0 0.1 madness Colley\n"
     ]
    },
    {
     "name": "stderr",
     "output_type": "stream",
     "text": [
      "\n",
      "\n",
      "\n",
      "\n",
      "59it [00:16,  3.39it/s]\u001b[A\u001b[A\u001b[A\u001b[A"
     ]
    },
    {
     "name": "stdout",
     "output_type": "stream",
     "text": [
      "28 2014 0 0 0.1 madness Massey\n"
     ]
    },
    {
     "name": "stderr",
     "output_type": "stream",
     "text": [
      "\n",
      "\n",
      "\n",
      "\n",
      "60it [00:16,  3.56it/s]\u001b[A\u001b[A\u001b[A\u001b[A"
     ]
    },
    {
     "name": "stdout",
     "output_type": "stream",
     "text": [
      "28 2015 0 0 0.1 madness Colley\n"
     ]
    },
    {
     "name": "stderr",
     "output_type": "stream",
     "text": [
      "\n",
      "\n",
      "\n",
      "\n",
      "61it [00:17,  3.41it/s]\u001b[A\u001b[A\u001b[A\u001b[A"
     ]
    },
    {
     "name": "stdout",
     "output_type": "stream",
     "text": [
      "28 2015 0 0 0.1 madness Massey\n"
     ]
    },
    {
     "name": "stderr",
     "output_type": "stream",
     "text": [
      "\n",
      "\n",
      "\n",
      "\n",
      "62it [00:17,  3.34it/s]\u001b[A\u001b[A\u001b[A\u001b[A"
     ]
    },
    {
     "name": "stdout",
     "output_type": "stream",
     "text": [
      "28 2016 0 0 0.1 madness Colley\n"
     ]
    },
    {
     "name": "stderr",
     "output_type": "stream",
     "text": [
      "\n",
      "\n",
      "\n",
      "\n",
      "63it [00:17,  3.29it/s]\u001b[A\u001b[A\u001b[A\u001b[A"
     ]
    },
    {
     "name": "stdout",
     "output_type": "stream",
     "text": [
      "28 2016 0 0 0.1 madness Massey\n"
     ]
    },
    {
     "name": "stderr",
     "output_type": "stream",
     "text": [
      "\n",
      "\n",
      "\n",
      "\n",
      "64it [00:18,  3.39it/s]\u001b[A\u001b[A\u001b[A\u001b[A"
     ]
    },
    {
     "name": "stdout",
     "output_type": "stream",
     "text": [
      "28 2017 0 0 0.1 madness Colley\n"
     ]
    },
    {
     "name": "stderr",
     "output_type": "stream",
     "text": [
      "\n",
      "\n",
      "\n",
      "\n",
      "65it [00:18,  3.43it/s]\u001b[A\u001b[A\u001b[A\u001b[A"
     ]
    },
    {
     "name": "stdout",
     "output_type": "stream",
     "text": [
      "28 2017 0 0 0.1 madness Massey\n"
     ]
    },
    {
     "name": "stderr",
     "output_type": "stream",
     "text": [
      "\n",
      "\n",
      "\n",
      "\n",
      "66it [00:18,  3.59it/s]\u001b[A\u001b[A\u001b[A\u001b[A"
     ]
    },
    {
     "name": "stdout",
     "output_type": "stream",
     "text": [
      "28 2018 0 0 0.1 madness Colley\n"
     ]
    },
    {
     "name": "stderr",
     "output_type": "stream",
     "text": [
      "\n",
      "\n",
      "\n",
      "\n",
      "67it [00:18,  3.69it/s]\u001b[A\u001b[A\u001b[A\u001b[A"
     ]
    },
    {
     "name": "stdout",
     "output_type": "stream",
     "text": [
      "28 2018 0 0 0.1 madness Massey\n"
     ]
    },
    {
     "name": "stderr",
     "output_type": "stream",
     "text": [
      "\n",
      "\n",
      "\n",
      "\n",
      "68it [00:19,  3.65it/s]\u001b[A\u001b[A\u001b[A\u001b[A"
     ]
    },
    {
     "name": "stdout",
     "output_type": "stream",
     "text": [
      "21 2002 0 0 0.1 madness Colley\n"
     ]
    },
    {
     "name": "stderr",
     "output_type": "stream",
     "text": [
      "\n",
      "\n",
      "\n",
      "\n",
      "69it [00:19,  3.38it/s]\u001b[A\u001b[A\u001b[A\u001b[A"
     ]
    },
    {
     "name": "stdout",
     "output_type": "stream",
     "text": [
      "21 2002 0 0 0.1 madness Massey\n"
     ]
    },
    {
     "name": "stderr",
     "output_type": "stream",
     "text": [
      "\n",
      "\n",
      "\n",
      "\n",
      "70it [00:19,  3.45it/s]\u001b[A\u001b[A\u001b[A\u001b[A"
     ]
    },
    {
     "name": "stdout",
     "output_type": "stream",
     "text": [
      "21 2003 0 0 0.1 madness Colley\n"
     ]
    },
    {
     "name": "stderr",
     "output_type": "stream",
     "text": [
      "\n",
      "\n",
      "\n",
      "\n",
      "71it [00:20,  3.50it/s]\u001b[A\u001b[A\u001b[A\u001b[A"
     ]
    },
    {
     "name": "stdout",
     "output_type": "stream",
     "text": [
      "21 2003 0 0 0.1 madness Massey\n"
     ]
    },
    {
     "name": "stderr",
     "output_type": "stream",
     "text": [
      "\n",
      "\n",
      "\n",
      "\n",
      "72it [00:20,  3.57it/s]\u001b[A\u001b[A\u001b[A\u001b[A"
     ]
    },
    {
     "name": "stdout",
     "output_type": "stream",
     "text": [
      "21 2004 0 0 0.1 madness Colley\n"
     ]
    },
    {
     "name": "stderr",
     "output_type": "stream",
     "text": [
      "\n",
      "\n",
      "\n",
      "\n",
      "73it [00:20,  3.52it/s]\u001b[A\u001b[A\u001b[A\u001b[A"
     ]
    },
    {
     "name": "stdout",
     "output_type": "stream",
     "text": [
      "21 2004 0 0 0.1 madness Massey\n"
     ]
    },
    {
     "name": "stderr",
     "output_type": "stream",
     "text": [
      "\n",
      "\n",
      "\n",
      "\n",
      "74it [00:20,  3.62it/s]\u001b[A\u001b[A\u001b[A\u001b[A"
     ]
    },
    {
     "name": "stdout",
     "output_type": "stream",
     "text": [
      "21 2005 0 0 0.1 madness Colley\n"
     ]
    },
    {
     "name": "stderr",
     "output_type": "stream",
     "text": [
      "\n",
      "\n",
      "\n",
      "\n",
      "75it [00:21,  3.68it/s]\u001b[A\u001b[A\u001b[A\u001b[A"
     ]
    },
    {
     "name": "stdout",
     "output_type": "stream",
     "text": [
      "21 2005 0 0 0.1 madness Massey\n"
     ]
    },
    {
     "name": "stderr",
     "output_type": "stream",
     "text": [
      "\n",
      "\n",
      "\n",
      "\n",
      "76it [00:21,  3.76it/s]\u001b[A\u001b[A\u001b[A\u001b[A"
     ]
    },
    {
     "name": "stdout",
     "output_type": "stream",
     "text": [
      "21 2006 0 0 0.1 madness Colley\n"
     ]
    },
    {
     "name": "stderr",
     "output_type": "stream",
     "text": [
      "\n",
      "\n",
      "\n",
      "\n",
      "77it [00:21,  3.43it/s]\u001b[A\u001b[A\u001b[A\u001b[A"
     ]
    },
    {
     "name": "stdout",
     "output_type": "stream",
     "text": [
      "21 2006 0 0 0.1 madness Massey\n"
     ]
    },
    {
     "name": "stderr",
     "output_type": "stream",
     "text": [
      "\n",
      "\n",
      "\n",
      "\n",
      "78it [00:22,  3.39it/s]\u001b[A\u001b[A\u001b[A\u001b[A"
     ]
    },
    {
     "name": "stdout",
     "output_type": "stream",
     "text": [
      "21 2007 0 0 0.1 madness Colley\n"
     ]
    },
    {
     "name": "stderr",
     "output_type": "stream",
     "text": [
      "\n",
      "\n",
      "\n",
      "\n",
      "79it [00:22,  3.36it/s]\u001b[A\u001b[A\u001b[A\u001b[A"
     ]
    },
    {
     "name": "stdout",
     "output_type": "stream",
     "text": [
      "21 2007 0 0 0.1 madness Massey\n"
     ]
    },
    {
     "name": "stderr",
     "output_type": "stream",
     "text": [
      "\n",
      "\n",
      "\n",
      "\n",
      "80it [00:22,  3.41it/s]\u001b[A\u001b[A\u001b[A\u001b[A"
     ]
    },
    {
     "name": "stdout",
     "output_type": "stream",
     "text": [
      "21 2008 0 0 0.1 madness Colley\n"
     ]
    },
    {
     "name": "stderr",
     "output_type": "stream",
     "text": [
      "\n",
      "\n",
      "\n",
      "\n",
      "81it [00:23,  3.48it/s]\u001b[A\u001b[A\u001b[A\u001b[A"
     ]
    },
    {
     "name": "stdout",
     "output_type": "stream",
     "text": [
      "21 2008 0 0 0.1 madness Massey\n"
     ]
    },
    {
     "name": "stderr",
     "output_type": "stream",
     "text": [
      "\n",
      "\n",
      "\n",
      "\n",
      "82it [00:23,  3.55it/s]\u001b[A\u001b[A\u001b[A\u001b[A"
     ]
    },
    {
     "name": "stdout",
     "output_type": "stream",
     "text": [
      "21 2009 0 0 0.1 madness Colley\n"
     ]
    },
    {
     "name": "stderr",
     "output_type": "stream",
     "text": [
      "\n",
      "\n",
      "\n",
      "\n",
      "83it [00:23,  3.59it/s]\u001b[A\u001b[A\u001b[A\u001b[A"
     ]
    },
    {
     "name": "stdout",
     "output_type": "stream",
     "text": [
      "21 2009 0 0 0.1 madness Massey\n"
     ]
    },
    {
     "name": "stderr",
     "output_type": "stream",
     "text": [
      "\n",
      "\n",
      "\n",
      "\n",
      "84it [00:23,  3.62it/s]\u001b[A\u001b[A\u001b[A\u001b[A"
     ]
    },
    {
     "name": "stdout",
     "output_type": "stream",
     "text": [
      "21 2010 0 0 0.1 madness Colley\n"
     ]
    },
    {
     "name": "stderr",
     "output_type": "stream",
     "text": [
      "\n",
      "\n",
      "\n",
      "\n",
      "85it [00:24,  3.57it/s]\u001b[A\u001b[A\u001b[A\u001b[A"
     ]
    },
    {
     "name": "stdout",
     "output_type": "stream",
     "text": [
      "21 2010 0 0 0.1 madness Massey\n"
     ]
    },
    {
     "name": "stderr",
     "output_type": "stream",
     "text": [
      "\n",
      "\n",
      "\n",
      "\n",
      "86it [00:24,  3.68it/s]\u001b[A\u001b[A\u001b[A\u001b[A"
     ]
    },
    {
     "name": "stdout",
     "output_type": "stream",
     "text": [
      "21 2011 0 0 0.1 madness Colley\n"
     ]
    },
    {
     "name": "stderr",
     "output_type": "stream",
     "text": [
      "\n",
      "\n",
      "\n",
      "\n",
      "87it [00:24,  3.72it/s]\u001b[A\u001b[A\u001b[A\u001b[A"
     ]
    },
    {
     "name": "stdout",
     "output_type": "stream",
     "text": [
      "21 2011 0 0 0.1 madness Massey\n"
     ]
    },
    {
     "name": "stderr",
     "output_type": "stream",
     "text": [
      "\n",
      "\n",
      "\n",
      "\n",
      "88it [00:24,  3.40it/s]\u001b[A\u001b[A\u001b[A\u001b[A"
     ]
    },
    {
     "name": "stdout",
     "output_type": "stream",
     "text": [
      "21 2012 0 0 0.1 madness Colley\n"
     ]
    },
    {
     "name": "stderr",
     "output_type": "stream",
     "text": [
      "\n",
      "\n",
      "\n",
      "\n",
      "89it [00:25,  3.53it/s]\u001b[A\u001b[A\u001b[A\u001b[A"
     ]
    },
    {
     "name": "stdout",
     "output_type": "stream",
     "text": [
      "21 2012 0 0 0.1 madness Massey\n"
     ]
    },
    {
     "name": "stderr",
     "output_type": "stream",
     "text": [
      "\n",
      "\n",
      "\n",
      "\n",
      "90it [00:25,  3.59it/s]\u001b[A\u001b[A\u001b[A\u001b[A"
     ]
    },
    {
     "name": "stdout",
     "output_type": "stream",
     "text": [
      "21 2013 0 0 0.1 madness Colley\n"
     ]
    },
    {
     "name": "stderr",
     "output_type": "stream",
     "text": [
      "\n",
      "\n",
      "\n",
      "\n",
      "91it [00:25,  3.54it/s]\u001b[A\u001b[A\u001b[A\u001b[A"
     ]
    },
    {
     "name": "stdout",
     "output_type": "stream",
     "text": [
      "21 2013 0 0 0.1 madness Massey\n"
     ]
    },
    {
     "name": "stderr",
     "output_type": "stream",
     "text": [
      "\n",
      "\n",
      "\n",
      "\n",
      "92it [00:26,  3.25it/s]\u001b[A\u001b[A\u001b[A\u001b[A"
     ]
    },
    {
     "name": "stdout",
     "output_type": "stream",
     "text": [
      "21 2014 0 0 0.1 madness Colley\n"
     ]
    },
    {
     "name": "stderr",
     "output_type": "stream",
     "text": [
      "\n",
      "\n",
      "\n",
      "\n",
      "93it [00:26,  3.36it/s]\u001b[A\u001b[A\u001b[A\u001b[A"
     ]
    },
    {
     "name": "stdout",
     "output_type": "stream",
     "text": [
      "21 2014 0 0 0.1 madness Massey\n"
     ]
    },
    {
     "name": "stderr",
     "output_type": "stream",
     "text": [
      "\n",
      "\n",
      "\n",
      "\n",
      "94it [00:26,  3.56it/s]\u001b[A\u001b[A\u001b[A\u001b[A"
     ]
    },
    {
     "name": "stdout",
     "output_type": "stream",
     "text": [
      "21 2015 0 0 0.1 madness Colley\n"
     ]
    },
    {
     "name": "stderr",
     "output_type": "stream",
     "text": [
      "\n",
      "\n",
      "\n",
      "\n",
      "95it [00:27,  3.39it/s]\u001b[A\u001b[A\u001b[A\u001b[A"
     ]
    },
    {
     "name": "stdout",
     "output_type": "stream",
     "text": [
      "21 2015 0 0 0.1 madness Massey\n"
     ]
    },
    {
     "name": "stderr",
     "output_type": "stream",
     "text": [
      "\n",
      "\n",
      "\n",
      "\n",
      "96it [00:27,  3.59it/s]\u001b[A\u001b[A\u001b[A\u001b[A"
     ]
    },
    {
     "name": "stdout",
     "output_type": "stream",
     "text": [
      "21 2016 0 0 0.1 madness Colley\n"
     ]
    },
    {
     "name": "stderr",
     "output_type": "stream",
     "text": [
      "\n",
      "\n",
      "\n",
      "\n",
      "97it [00:27,  3.69it/s]\u001b[A\u001b[A\u001b[A\u001b[A"
     ]
    },
    {
     "name": "stdout",
     "output_type": "stream",
     "text": [
      "21 2016 0 0 0.1 madness Massey\n"
     ]
    },
    {
     "name": "stderr",
     "output_type": "stream",
     "text": [
      "\n",
      "\n",
      "\n",
      "\n",
      "98it [00:27,  3.49it/s]\u001b[A\u001b[A\u001b[A\u001b[A"
     ]
    },
    {
     "name": "stdout",
     "output_type": "stream",
     "text": [
      "21 2017 0 0 0.1 madness Colley\n"
     ]
    },
    {
     "name": "stderr",
     "output_type": "stream",
     "text": [
      "\n",
      "\n",
      "\n",
      "\n",
      "99it [00:28,  3.45it/s]\u001b[A\u001b[A\u001b[A\u001b[A"
     ]
    },
    {
     "name": "stdout",
     "output_type": "stream",
     "text": [
      "21 2017 0 0 0.1 madness Massey\n"
     ]
    },
    {
     "name": "stderr",
     "output_type": "stream",
     "text": [
      "\n",
      "\n",
      "\n",
      "\n",
      "100it [00:28,  3.50it/s]\u001b[A\u001b[A\u001b[A\u001b[A"
     ]
    },
    {
     "name": "stdout",
     "output_type": "stream",
     "text": [
      "21 2018 0 0 0.1 madness Colley\n"
     ]
    },
    {
     "name": "stderr",
     "output_type": "stream",
     "text": [
      "\n",
      "\n",
      "\n",
      "\n",
      "101it [00:28,  3.62it/s]\u001b[A\u001b[A\u001b[A\u001b[A"
     ]
    },
    {
     "name": "stdout",
     "output_type": "stream",
     "text": [
      "21 2018 0 0 0.1 madness Massey\n"
     ]
    },
    {
     "name": "stderr",
     "output_type": "stream",
     "text": [
      "\n",
      "\n",
      "\n",
      "\n",
      "102it [00:28,  3.68it/s]\u001b[A\u001b[A\u001b[A\u001b[A"
     ]
    },
    {
     "name": "stdout",
     "output_type": "stream",
     "text": [
      "14 2002 0 0 0.1 madness Colley\n"
     ]
    },
    {
     "name": "stderr",
     "output_type": "stream",
     "text": [
      "\n",
      "\n",
      "\n",
      "\n",
      "103it [00:29,  3.50it/s]\u001b[A\u001b[A\u001b[A\u001b[A"
     ]
    },
    {
     "name": "stdout",
     "output_type": "stream",
     "text": [
      "14 2002 0 0 0.1 madness Massey\n"
     ]
    },
    {
     "name": "stderr",
     "output_type": "stream",
     "text": [
      "\n",
      "\n",
      "\n",
      "\n",
      "104it [00:29,  3.63it/s]\u001b[A\u001b[A\u001b[A\u001b[A"
     ]
    },
    {
     "name": "stdout",
     "output_type": "stream",
     "text": [
      "14 2003 0 0 0.1 madness Colley\n"
     ]
    },
    {
     "name": "stderr",
     "output_type": "stream",
     "text": [
      "\n",
      "\n",
      "\n",
      "\n",
      "105it [00:29,  3.75it/s]\u001b[A\u001b[A\u001b[A\u001b[A"
     ]
    },
    {
     "name": "stdout",
     "output_type": "stream",
     "text": [
      "14 2003 0 0 0.1 madness Massey\n"
     ]
    },
    {
     "name": "stderr",
     "output_type": "stream",
     "text": [
      "\n",
      "\n",
      "\n",
      "\n",
      "106it [00:29,  3.85it/s]\u001b[A\u001b[A\u001b[A\u001b[A"
     ]
    },
    {
     "name": "stdout",
     "output_type": "stream",
     "text": [
      "14 2004 0 0 0.1 madness Colley\n"
     ]
    },
    {
     "name": "stderr",
     "output_type": "stream",
     "text": [
      "\n",
      "\n",
      "\n",
      "\n",
      "107it [00:30,  3.60it/s]\u001b[A\u001b[A\u001b[A\u001b[A"
     ]
    },
    {
     "name": "stdout",
     "output_type": "stream",
     "text": [
      "14 2004 0 0 0.1 madness Massey\n"
     ]
    },
    {
     "name": "stderr",
     "output_type": "stream",
     "text": [
      "\n",
      "\n",
      "\n",
      "\n",
      "108it [00:30,  3.70it/s]\u001b[A\u001b[A\u001b[A\u001b[A"
     ]
    },
    {
     "name": "stdout",
     "output_type": "stream",
     "text": [
      "14 2005 0 0 0.1 madness Colley\n"
     ]
    },
    {
     "name": "stderr",
     "output_type": "stream",
     "text": [
      "\n",
      "\n",
      "\n",
      "\n",
      "109it [00:30,  3.48it/s]\u001b[A\u001b[A\u001b[A\u001b[A"
     ]
    },
    {
     "name": "stdout",
     "output_type": "stream",
     "text": [
      "14 2005 0 0 0.1 madness Massey\n"
     ]
    },
    {
     "name": "stderr",
     "output_type": "stream",
     "text": [
      "\n",
      "\n",
      "\n",
      "\n",
      "110it [00:31,  3.58it/s]\u001b[A\u001b[A\u001b[A\u001b[A"
     ]
    },
    {
     "name": "stdout",
     "output_type": "stream",
     "text": [
      "14 2006 0 0 0.1 madness Colley\n"
     ]
    },
    {
     "name": "stderr",
     "output_type": "stream",
     "text": [
      "\n",
      "\n",
      "\n",
      "\n",
      "111it [00:31,  3.54it/s]\u001b[A\u001b[A\u001b[A\u001b[A"
     ]
    },
    {
     "name": "stdout",
     "output_type": "stream",
     "text": [
      "14 2006 0 0 0.1 madness Massey\n"
     ]
    },
    {
     "name": "stderr",
     "output_type": "stream",
     "text": [
      "\n",
      "\n",
      "\n",
      "\n",
      "112it [00:31,  3.60it/s]\u001b[A\u001b[A\u001b[A\u001b[A"
     ]
    },
    {
     "name": "stdout",
     "output_type": "stream",
     "text": [
      "14 2007 0 0 0.1 madness Colley\n"
     ]
    },
    {
     "name": "stderr",
     "output_type": "stream",
     "text": [
      "\n",
      "\n",
      "\n",
      "\n",
      "113it [00:31,  3.56it/s]\u001b[A\u001b[A\u001b[A\u001b[A"
     ]
    },
    {
     "name": "stdout",
     "output_type": "stream",
     "text": [
      "14 2007 0 0 0.1 madness Massey\n"
     ]
    },
    {
     "name": "stderr",
     "output_type": "stream",
     "text": [
      "\n",
      "\n",
      "\n",
      "\n",
      "114it [00:32,  3.70it/s]\u001b[A\u001b[A\u001b[A\u001b[A"
     ]
    },
    {
     "name": "stdout",
     "output_type": "stream",
     "text": [
      "14 2008 0 0 0.1 madness Colley\n"
     ]
    },
    {
     "name": "stderr",
     "output_type": "stream",
     "text": [
      "\n",
      "\n",
      "\n",
      "\n",
      "115it [00:32,  3.45it/s]\u001b[A\u001b[A\u001b[A\u001b[A"
     ]
    },
    {
     "name": "stdout",
     "output_type": "stream",
     "text": [
      "14 2008 0 0 0.1 madness Massey\n"
     ]
    },
    {
     "name": "stderr",
     "output_type": "stream",
     "text": [
      "\n",
      "\n",
      "\n",
      "\n",
      "116it [00:32,  3.39it/s]\u001b[A\u001b[A\u001b[A\u001b[A"
     ]
    },
    {
     "name": "stdout",
     "output_type": "stream",
     "text": [
      "14 2009 0 0 0.1 madness Colley\n"
     ]
    },
    {
     "name": "stderr",
     "output_type": "stream",
     "text": [
      "\n",
      "\n",
      "\n",
      "\n",
      "117it [00:33,  3.54it/s]\u001b[A\u001b[A\u001b[A\u001b[A"
     ]
    },
    {
     "name": "stdout",
     "output_type": "stream",
     "text": [
      "14 2009 0 0 0.1 madness Massey\n"
     ]
    },
    {
     "name": "stderr",
     "output_type": "stream",
     "text": [
      "\n",
      "\n",
      "\n",
      "\n",
      "118it [00:33,  3.54it/s]\u001b[A\u001b[A\u001b[A\u001b[A"
     ]
    },
    {
     "name": "stdout",
     "output_type": "stream",
     "text": [
      "14 2010 0 0 0.1 madness Colley\n"
     ]
    },
    {
     "name": "stderr",
     "output_type": "stream",
     "text": [
      "\n",
      "\n",
      "\n",
      "\n",
      "119it [00:33,  3.42it/s]\u001b[A\u001b[A\u001b[A\u001b[A"
     ]
    },
    {
     "name": "stdout",
     "output_type": "stream",
     "text": [
      "14 2010 0 0 0.1 madness Massey\n"
     ]
    },
    {
     "name": "stderr",
     "output_type": "stream",
     "text": [
      "\n",
      "\n",
      "\n",
      "\n",
      "120it [00:33,  3.55it/s]\u001b[A\u001b[A\u001b[A\u001b[A"
     ]
    },
    {
     "name": "stdout",
     "output_type": "stream",
     "text": [
      "14 2011 0 0 0.1 madness Colley\n"
     ]
    },
    {
     "name": "stderr",
     "output_type": "stream",
     "text": [
      "\n",
      "\n",
      "\n",
      "\n",
      "121it [00:34,  3.64it/s]\u001b[A\u001b[A\u001b[A\u001b[A"
     ]
    },
    {
     "name": "stdout",
     "output_type": "stream",
     "text": [
      "14 2011 0 0 0.1 madness Massey\n"
     ]
    },
    {
     "name": "stderr",
     "output_type": "stream",
     "text": [
      "\n",
      "\n",
      "\n",
      "\n",
      "122it [00:34,  3.63it/s]\u001b[A\u001b[A\u001b[A\u001b[A"
     ]
    },
    {
     "name": "stdout",
     "output_type": "stream",
     "text": [
      "14 2012 0 0 0.1 madness Colley\n"
     ]
    },
    {
     "name": "stderr",
     "output_type": "stream",
     "text": [
      "\n",
      "\n",
      "\n",
      "\n",
      "123it [00:34,  3.50it/s]\u001b[A\u001b[A\u001b[A\u001b[A"
     ]
    },
    {
     "name": "stdout",
     "output_type": "stream",
     "text": [
      "14 2012 0 0 0.1 madness Massey\n"
     ]
    },
    {
     "name": "stderr",
     "output_type": "stream",
     "text": [
      "\n",
      "\n",
      "\n",
      "\n",
      "124it [00:35,  3.53it/s]\u001b[A\u001b[A\u001b[A\u001b[A"
     ]
    },
    {
     "name": "stdout",
     "output_type": "stream",
     "text": [
      "14 2013 0 0 0.1 madness Colley\n"
     ]
    },
    {
     "name": "stderr",
     "output_type": "stream",
     "text": [
      "\n",
      "\n",
      "\n",
      "\n",
      "125it [00:35,  3.63it/s]\u001b[A\u001b[A\u001b[A\u001b[A"
     ]
    },
    {
     "name": "stdout",
     "output_type": "stream",
     "text": [
      "14 2013 0 0 0.1 madness Massey\n"
     ]
    },
    {
     "name": "stderr",
     "output_type": "stream",
     "text": [
      "\n",
      "\n",
      "\n",
      "\n",
      "126it [00:35,  3.63it/s]\u001b[A\u001b[A\u001b[A\u001b[A"
     ]
    },
    {
     "name": "stdout",
     "output_type": "stream",
     "text": [
      "14 2014 0 0 0.1 madness Colley\n"
     ]
    },
    {
     "name": "stderr",
     "output_type": "stream",
     "text": [
      "\n",
      "\n",
      "\n",
      "\n",
      "127it [00:35,  3.71it/s]\u001b[A\u001b[A\u001b[A\u001b[A"
     ]
    },
    {
     "name": "stdout",
     "output_type": "stream",
     "text": [
      "14 2014 0 0 0.1 madness Massey\n"
     ]
    },
    {
     "name": "stderr",
     "output_type": "stream",
     "text": [
      "\n",
      "\n",
      "\n",
      "\n",
      "128it [00:36,  3.82it/s]\u001b[A\u001b[A\u001b[A\u001b[A"
     ]
    },
    {
     "name": "stdout",
     "output_type": "stream",
     "text": [
      "14 2015 0 0 0.1 madness Colley\n"
     ]
    },
    {
     "name": "stderr",
     "output_type": "stream",
     "text": [
      "\n",
      "\n",
      "\n",
      "\n",
      "129it [00:36,  3.77it/s]\u001b[A\u001b[A\u001b[A\u001b[A"
     ]
    },
    {
     "name": "stdout",
     "output_type": "stream",
     "text": [
      "14 2015 0 0 0.1 madness Massey\n"
     ]
    },
    {
     "name": "stderr",
     "output_type": "stream",
     "text": [
      "\n",
      "\n",
      "\n",
      "\n",
      "130it [00:36,  3.43it/s]\u001b[A\u001b[A\u001b[A\u001b[A"
     ]
    },
    {
     "name": "stdout",
     "output_type": "stream",
     "text": [
      "14 2016 0 0 0.1 madness Colley\n"
     ]
    },
    {
     "name": "stderr",
     "output_type": "stream",
     "text": [
      "\n",
      "\n",
      "\n",
      "\n",
      "131it [00:37,  3.33it/s]\u001b[A\u001b[A\u001b[A\u001b[A"
     ]
    },
    {
     "name": "stdout",
     "output_type": "stream",
     "text": [
      "14 2016 0 0 0.1 madness Massey\n"
     ]
    },
    {
     "name": "stderr",
     "output_type": "stream",
     "text": [
      "\n",
      "\n",
      "\n",
      "\n",
      "132it [00:37,  3.46it/s]\u001b[A\u001b[A\u001b[A\u001b[A"
     ]
    },
    {
     "name": "stdout",
     "output_type": "stream",
     "text": [
      "14 2017 0 0 0.1 madness Colley\n"
     ]
    },
    {
     "name": "stderr",
     "output_type": "stream",
     "text": [
      "\n",
      "\n",
      "\n",
      "\n",
      "133it [00:37,  3.47it/s]\u001b[A\u001b[A\u001b[A\u001b[A"
     ]
    },
    {
     "name": "stdout",
     "output_type": "stream",
     "text": [
      "14 2017 0 0 0.1 madness Massey\n"
     ]
    },
    {
     "name": "stderr",
     "output_type": "stream",
     "text": [
      "\n",
      "\n",
      "\n",
      "\n",
      "134it [00:37,  3.51it/s]\u001b[A\u001b[A\u001b[A\u001b[A"
     ]
    },
    {
     "name": "stdout",
     "output_type": "stream",
     "text": [
      "14 2018 0 0 0.1 madness Colley\n"
     ]
    },
    {
     "name": "stderr",
     "output_type": "stream",
     "text": [
      "\n",
      "\n",
      "\n",
      "\n",
      "135it [00:38,  3.64it/s]\u001b[A\u001b[A\u001b[A\u001b[A"
     ]
    },
    {
     "name": "stdout",
     "output_type": "stream",
     "text": [
      "14 2018 0 0 0.1 madness Massey\n"
     ]
    },
    {
     "name": "stderr",
     "output_type": "stream",
     "text": [
      "\n",
      "\n",
      "\n",
      "\n",
      "136it [00:38,  3.68it/s]\u001b[A\u001b[A\u001b[A\u001b[A"
     ]
    },
    {
     "name": "stdout",
     "output_type": "stream",
     "text": [
      "7 2002 0 0 0.1 madness Colley\n"
     ]
    },
    {
     "name": "stderr",
     "output_type": "stream",
     "text": [
      "\n",
      "\n",
      "\n",
      "\n",
      "137it [00:38,  3.76it/s]\u001b[A\u001b[A\u001b[A\u001b[A"
     ]
    },
    {
     "name": "stdout",
     "output_type": "stream",
     "text": [
      "7 2002 0 0 0.1 madness Massey\n"
     ]
    },
    {
     "name": "stderr",
     "output_type": "stream",
     "text": [
      "\n",
      "\n",
      "\n",
      "\n",
      "138it [00:38,  3.79it/s]\u001b[A\u001b[A\u001b[A\u001b[A"
     ]
    },
    {
     "name": "stdout",
     "output_type": "stream",
     "text": [
      "7 2003 0 0 0.1 madness Colley\n"
     ]
    },
    {
     "name": "stderr",
     "output_type": "stream",
     "text": [
      "\n",
      "\n",
      "\n",
      "\n",
      "139it [00:39,  3.77it/s]\u001b[A\u001b[A\u001b[A\u001b[A"
     ]
    },
    {
     "name": "stdout",
     "output_type": "stream",
     "text": [
      "7 2003 0 0 0.1 madness Massey\n"
     ]
    },
    {
     "name": "stderr",
     "output_type": "stream",
     "text": [
      "\n",
      "\n",
      "\n",
      "\n",
      "140it [00:39,  3.68it/s]\u001b[A\u001b[A\u001b[A\u001b[A"
     ]
    },
    {
     "name": "stdout",
     "output_type": "stream",
     "text": [
      "7 2004 0 0 0.1 madness Colley\n"
     ]
    },
    {
     "name": "stderr",
     "output_type": "stream",
     "text": [
      "\n",
      "\n",
      "\n",
      "\n",
      "141it [00:39,  3.76it/s]\u001b[A\u001b[A\u001b[A\u001b[A"
     ]
    },
    {
     "name": "stdout",
     "output_type": "stream",
     "text": [
      "7 2004 0 0 0.1 madness Massey\n"
     ]
    },
    {
     "name": "stderr",
     "output_type": "stream",
     "text": [
      "\n",
      "\n",
      "\n",
      "\n",
      "142it [00:39,  3.80it/s]\u001b[A\u001b[A\u001b[A\u001b[A"
     ]
    },
    {
     "name": "stdout",
     "output_type": "stream",
     "text": [
      "7 2005 0 0 0.1 madness Colley\n"
     ]
    },
    {
     "name": "stderr",
     "output_type": "stream",
     "text": [
      "\n",
      "\n",
      "\n",
      "\n",
      "143it [00:40,  3.52it/s]\u001b[A\u001b[A\u001b[A\u001b[A"
     ]
    },
    {
     "name": "stdout",
     "output_type": "stream",
     "text": [
      "7 2005 0 0 0.1 madness Massey\n"
     ]
    },
    {
     "name": "stderr",
     "output_type": "stream",
     "text": [
      "\n",
      "\n",
      "\n",
      "\n",
      "144it [00:40,  3.56it/s]\u001b[A\u001b[A\u001b[A\u001b[A"
     ]
    },
    {
     "name": "stdout",
     "output_type": "stream",
     "text": [
      "7 2006 0 0 0.1 madness Colley\n"
     ]
    },
    {
     "name": "stderr",
     "output_type": "stream",
     "text": [
      "\n",
      "\n",
      "\n",
      "\n",
      "145it [00:40,  3.66it/s]\u001b[A\u001b[A\u001b[A\u001b[A"
     ]
    },
    {
     "name": "stdout",
     "output_type": "stream",
     "text": [
      "7 2006 0 0 0.1 madness Massey\n"
     ]
    },
    {
     "name": "stderr",
     "output_type": "stream",
     "text": [
      "\n",
      "\n",
      "\n",
      "\n",
      "146it [00:41,  3.66it/s]\u001b[A\u001b[A\u001b[A\u001b[A"
     ]
    },
    {
     "name": "stdout",
     "output_type": "stream",
     "text": [
      "7 2007 0 0 0.1 madness Colley\n"
     ]
    },
    {
     "name": "stderr",
     "output_type": "stream",
     "text": [
      "\n",
      "\n",
      "\n",
      "\n",
      "147it [00:41,  3.68it/s]\u001b[A\u001b[A\u001b[A\u001b[A"
     ]
    },
    {
     "name": "stdout",
     "output_type": "stream",
     "text": [
      "7 2007 0 0 0.1 madness Massey\n"
     ]
    },
    {
     "name": "stderr",
     "output_type": "stream",
     "text": [
      "\n",
      "\n",
      "\n",
      "\n",
      "148it [00:41,  3.80it/s]\u001b[A\u001b[A\u001b[A\u001b[A"
     ]
    },
    {
     "name": "stdout",
     "output_type": "stream",
     "text": [
      "7 2008 0 0 0.1 madness Colley\n"
     ]
    },
    {
     "name": "stderr",
     "output_type": "stream",
     "text": [
      "\n",
      "\n",
      "\n",
      "\n",
      "149it [00:41,  3.67it/s]\u001b[A\u001b[A\u001b[A\u001b[A"
     ]
    },
    {
     "name": "stdout",
     "output_type": "stream",
     "text": [
      "7 2008 0 0 0.1 madness Massey\n"
     ]
    },
    {
     "name": "stderr",
     "output_type": "stream",
     "text": [
      "\n",
      "\n",
      "\n",
      "\n",
      "150it [00:42,  3.50it/s]\u001b[A\u001b[A\u001b[A\u001b[A"
     ]
    },
    {
     "name": "stdout",
     "output_type": "stream",
     "text": [
      "7 2009 0 0 0.1 madness Colley\n"
     ]
    },
    {
     "name": "stderr",
     "output_type": "stream",
     "text": [
      "\n",
      "\n",
      "\n",
      "\n",
      "151it [00:42,  3.41it/s]\u001b[A\u001b[A\u001b[A\u001b[A"
     ]
    },
    {
     "name": "stdout",
     "output_type": "stream",
     "text": [
      "7 2009 0 0 0.1 madness Massey\n"
     ]
    },
    {
     "name": "stderr",
     "output_type": "stream",
     "text": [
      "\n",
      "\n",
      "\n",
      "\n",
      "152it [00:42,  3.54it/s]\u001b[A\u001b[A\u001b[A\u001b[A"
     ]
    },
    {
     "name": "stdout",
     "output_type": "stream",
     "text": [
      "7 2010 0 0 0.1 madness Colley\n"
     ]
    },
    {
     "name": "stderr",
     "output_type": "stream",
     "text": [
      "\n",
      "\n",
      "\n",
      "\n",
      "153it [00:43,  3.67it/s]\u001b[A\u001b[A\u001b[A\u001b[A"
     ]
    },
    {
     "name": "stdout",
     "output_type": "stream",
     "text": [
      "7 2010 0 0 0.1 madness Massey\n"
     ]
    },
    {
     "name": "stderr",
     "output_type": "stream",
     "text": [
      "\n",
      "\n",
      "\n",
      "\n",
      "154it [00:43,  3.53it/s]\u001b[A\u001b[A\u001b[A\u001b[A"
     ]
    },
    {
     "name": "stdout",
     "output_type": "stream",
     "text": [
      "7 2011 0 0 0.1 madness Colley\n"
     ]
    },
    {
     "name": "stderr",
     "output_type": "stream",
     "text": [
      "\n",
      "\n",
      "\n",
      "\n",
      "155it [00:43,  3.62it/s]\u001b[A\u001b[A\u001b[A\u001b[A"
     ]
    },
    {
     "name": "stdout",
     "output_type": "stream",
     "text": [
      "7 2011 0 0 0.1 madness Massey\n"
     ]
    },
    {
     "name": "stderr",
     "output_type": "stream",
     "text": [
      "\n",
      "\n",
      "\n",
      "\n",
      "156it [00:43,  3.73it/s]\u001b[A\u001b[A\u001b[A\u001b[A"
     ]
    },
    {
     "name": "stdout",
     "output_type": "stream",
     "text": [
      "7 2012 0 0 0.1 madness Colley\n"
     ]
    },
    {
     "name": "stderr",
     "output_type": "stream",
     "text": [
      "\n",
      "\n",
      "\n",
      "\n",
      "157it [00:44,  3.79it/s]\u001b[A\u001b[A\u001b[A\u001b[A"
     ]
    },
    {
     "name": "stdout",
     "output_type": "stream",
     "text": [
      "7 2012 0 0 0.1 madness Massey\n"
     ]
    },
    {
     "name": "stderr",
     "output_type": "stream",
     "text": [
      "\n",
      "\n",
      "\n",
      "\n",
      "158it [00:44,  3.70it/s]\u001b[A\u001b[A\u001b[A\u001b[A"
     ]
    },
    {
     "name": "stdout",
     "output_type": "stream",
     "text": [
      "7 2013 0 0 0.1 madness Colley\n"
     ]
    },
    {
     "name": "stderr",
     "output_type": "stream",
     "text": [
      "\n",
      "\n",
      "\n",
      "\n",
      "159it [00:44,  3.49it/s]\u001b[A\u001b[A\u001b[A\u001b[A"
     ]
    },
    {
     "name": "stdout",
     "output_type": "stream",
     "text": [
      "7 2013 0 0 0.1 madness Massey\n"
     ]
    },
    {
     "name": "stderr",
     "output_type": "stream",
     "text": [
      "\n",
      "\n",
      "\n",
      "\n",
      "160it [00:45,  3.39it/s]\u001b[A\u001b[A\u001b[A\u001b[A"
     ]
    },
    {
     "name": "stdout",
     "output_type": "stream",
     "text": [
      "7 2014 0 0 0.1 madness Colley\n"
     ]
    },
    {
     "name": "stderr",
     "output_type": "stream",
     "text": [
      "\n",
      "\n",
      "\n",
      "\n",
      "161it [00:45,  3.49it/s]\u001b[A\u001b[A\u001b[A\u001b[A"
     ]
    },
    {
     "name": "stdout",
     "output_type": "stream",
     "text": [
      "7 2014 0 0 0.1 madness Massey\n"
     ]
    },
    {
     "name": "stderr",
     "output_type": "stream",
     "text": [
      "\n",
      "\n",
      "\n",
      "\n",
      "162it [00:45,  3.52it/s]\u001b[A\u001b[A\u001b[A\u001b[A"
     ]
    },
    {
     "name": "stdout",
     "output_type": "stream",
     "text": [
      "7 2015 0 0 0.1 madness Colley\n"
     ]
    },
    {
     "name": "stderr",
     "output_type": "stream",
     "text": [
      "\n",
      "\n",
      "\n",
      "\n",
      "163it [00:45,  3.65it/s]\u001b[A\u001b[A\u001b[A\u001b[A"
     ]
    },
    {
     "name": "stdout",
     "output_type": "stream",
     "text": [
      "7 2015 0 0 0.1 madness Massey\n"
     ]
    },
    {
     "name": "stderr",
     "output_type": "stream",
     "text": [
      "\n",
      "\n",
      "\n",
      "\n",
      "164it [00:46,  3.56it/s]\u001b[A\u001b[A\u001b[A\u001b[A"
     ]
    },
    {
     "name": "stdout",
     "output_type": "stream",
     "text": [
      "7 2016 0 0 0.1 madness Colley\n"
     ]
    },
    {
     "name": "stderr",
     "output_type": "stream",
     "text": [
      "\n",
      "\n",
      "\n",
      "\n",
      "165it [00:46,  3.67it/s]\u001b[A\u001b[A\u001b[A\u001b[A"
     ]
    },
    {
     "name": "stdout",
     "output_type": "stream",
     "text": [
      "7 2016 0 0 0.1 madness Massey\n"
     ]
    },
    {
     "name": "stderr",
     "output_type": "stream",
     "text": [
      "\n",
      "\n",
      "\n",
      "\n",
      "166it [00:46,  3.44it/s]\u001b[A\u001b[A\u001b[A\u001b[A"
     ]
    },
    {
     "name": "stdout",
     "output_type": "stream",
     "text": [
      "7 2017 0 0 0.1 madness Colley\n"
     ]
    },
    {
     "name": "stderr",
     "output_type": "stream",
     "text": [
      "\n",
      "\n",
      "\n",
      "\n",
      "167it [00:47,  3.49it/s]\u001b[A\u001b[A\u001b[A\u001b[A"
     ]
    },
    {
     "name": "stdout",
     "output_type": "stream",
     "text": [
      "7 2017 0 0 0.1 madness Massey\n"
     ]
    },
    {
     "name": "stderr",
     "output_type": "stream",
     "text": [
      "\n",
      "\n",
      "\n",
      "\n",
      "168it [00:47,  3.63it/s]\u001b[A\u001b[A\u001b[A\u001b[A"
     ]
    },
    {
     "name": "stdout",
     "output_type": "stream",
     "text": [
      "7 2018 0 0 0.1 madness Colley\n"
     ]
    },
    {
     "name": "stderr",
     "output_type": "stream",
     "text": [
      "\n",
      "\n",
      "\n",
      "\n",
      "169it [00:47,  3.59it/s]\u001b[A\u001b[A\u001b[A\u001b[A"
     ]
    },
    {
     "name": "stdout",
     "output_type": "stream",
     "text": [
      "7 2018 0 0 0.1 madness Massey\n"
     ]
    },
    {
     "name": "stderr",
     "output_type": "stream",
     "text": [
      "\n",
      "\n",
      "\n",
      "\n",
      "170it [00:47,  3.45it/s]\u001b[A\u001b[A\u001b[A\u001b[A"
     ]
    }
   ],
   "source": [
    "X = create_features(Ds,rankings_df,top_k)"
   ]
  },
  {
   "cell_type": "code",
   "execution_count": 124,
   "metadata": {},
   "outputs": [
    {
     "data": {
      "text/html": [
       "<div>\n",
       "<style scoped>\n",
       "    .dataframe tbody tr th:only-of-type {\n",
       "        vertical-align: middle;\n",
       "    }\n",
       "\n",
       "    .dataframe tbody tr th {\n",
       "        vertical-align: top;\n",
       "    }\n",
       "\n",
       "    .dataframe thead th {\n",
       "        text-align: right;\n",
       "    }\n",
       "</style>\n",
       "<table border=\"1\" class=\"dataframe\">\n",
       "  <thead>\n",
       "    <tr style=\"text-align: right;\">\n",
       "      <th></th>\n",
       "      <th></th>\n",
       "      <th></th>\n",
       "      <th></th>\n",
       "      <th></th>\n",
       "      <th></th>\n",
       "      <th></th>\n",
       "      <th></th>\n",
       "      <th>delta_lop</th>\n",
       "      <th>delta_hillside</th>\n",
       "      <th>nfrac_xstar_lop</th>\n",
       "      <th>nfrac_xstar_hillside</th>\n",
       "      <th>diameter_lop</th>\n",
       "      <th>diameter_hillside</th>\n",
       "    </tr>\n",
       "    <tr>\n",
       "      <th>Year</th>\n",
       "      <th>days_to_subtract_key</th>\n",
       "      <th>direct_thres</th>\n",
       "      <th>spread_thres</th>\n",
       "      <th>weight_indirect</th>\n",
       "      <th>range</th>\n",
       "      <th>Method</th>\n",
       "      <th>Construction</th>\n",
       "      <th></th>\n",
       "      <th></th>\n",
       "      <th></th>\n",
       "      <th></th>\n",
       "      <th></th>\n",
       "      <th></th>\n",
       "    </tr>\n",
       "  </thead>\n",
       "  <tbody>\n",
       "    <tr>\n",
       "      <th rowspan=\"5\" valign=\"top\">2002</th>\n",
       "      <th rowspan=\"5\" valign=\"top\">days_to_subtract=35</th>\n",
       "      <th rowspan=\"5\" valign=\"top\">0</th>\n",
       "      <th rowspan=\"5\" valign=\"top\">0</th>\n",
       "      <th rowspan=\"5\" valign=\"top\">0.1</th>\n",
       "      <th rowspan=\"5\" valign=\"top\">madness</th>\n",
       "      <th rowspan=\"3\" valign=\"top\">Colley</th>\n",
       "      <th>Direct</th>\n",
       "      <td>0.0</td>\n",
       "      <td>0.0</td>\n",
       "      <td>56.0</td>\n",
       "      <td>70.0</td>\n",
       "      <td>28.0</td>\n",
       "      <td>35.0</td>\n",
       "    </tr>\n",
       "    <tr>\n",
       "      <th>Indirect</th>\n",
       "      <td>4.0</td>\n",
       "      <td>48.0</td>\n",
       "      <td>38.0</td>\n",
       "      <td>6.0</td>\n",
       "      <td>18.0</td>\n",
       "      <td>3.0</td>\n",
       "    </tr>\n",
       "    <tr>\n",
       "      <th>Both</th>\n",
       "      <td>0.4</td>\n",
       "      <td>56.0</td>\n",
       "      <td>12.0</td>\n",
       "      <td>8.0</td>\n",
       "      <td>6.0</td>\n",
       "      <td>4.0</td>\n",
       "    </tr>\n",
       "    <tr>\n",
       "      <th rowspan=\"2\" valign=\"top\">Massey</th>\n",
       "      <th>Direct</th>\n",
       "      <td>0.0</td>\n",
       "      <td>0.0</td>\n",
       "      <td>56.0</td>\n",
       "      <td>68.0</td>\n",
       "      <td>28.0</td>\n",
       "      <td>34.0</td>\n",
       "    </tr>\n",
       "    <tr>\n",
       "      <th>Indirect</th>\n",
       "      <td>7.0</td>\n",
       "      <td>62.0</td>\n",
       "      <td>30.0</td>\n",
       "      <td>8.0</td>\n",
       "      <td>15.0</td>\n",
       "      <td>4.0</td>\n",
       "    </tr>\n",
       "    <tr>\n",
       "      <th>...</th>\n",
       "      <th>...</th>\n",
       "      <th>...</th>\n",
       "      <th>...</th>\n",
       "      <th>...</th>\n",
       "      <th>...</th>\n",
       "      <th>...</th>\n",
       "      <th>...</th>\n",
       "      <td>...</td>\n",
       "      <td>...</td>\n",
       "      <td>...</td>\n",
       "      <td>...</td>\n",
       "      <td>...</td>\n",
       "      <td>...</td>\n",
       "    </tr>\n",
       "    <tr>\n",
       "      <th rowspan=\"5\" valign=\"top\">2018</th>\n",
       "      <th rowspan=\"5\" valign=\"top\">days_to_subtract=7</th>\n",
       "      <th rowspan=\"5\" valign=\"top\">0</th>\n",
       "      <th rowspan=\"5\" valign=\"top\">0</th>\n",
       "      <th rowspan=\"5\" valign=\"top\">0.1</th>\n",
       "      <th rowspan=\"5\" valign=\"top\">madness</th>\n",
       "      <th rowspan=\"2\" valign=\"top\">Colley</th>\n",
       "      <th>Indirect</th>\n",
       "      <td>8.0</td>\n",
       "      <td>62.0</td>\n",
       "      <td>14.0</td>\n",
       "      <td>6.0</td>\n",
       "      <td>7.0</td>\n",
       "      <td>3.0</td>\n",
       "    </tr>\n",
       "    <tr>\n",
       "      <th>Both</th>\n",
       "      <td>1.5</td>\n",
       "      <td>78.0</td>\n",
       "      <td>4.0</td>\n",
       "      <td>12.0</td>\n",
       "      <td>2.0</td>\n",
       "      <td>4.0</td>\n",
       "    </tr>\n",
       "    <tr>\n",
       "      <th rowspan=\"3\" valign=\"top\">Massey</th>\n",
       "      <th>Direct</th>\n",
       "      <td>1.0</td>\n",
       "      <td>1.0</td>\n",
       "      <td>32.0</td>\n",
       "      <td>44.0</td>\n",
       "      <td>16.0</td>\n",
       "      <td>22.0</td>\n",
       "    </tr>\n",
       "    <tr>\n",
       "      <th>Indirect</th>\n",
       "      <td>16.0</td>\n",
       "      <td>80.0</td>\n",
       "      <td>18.0</td>\n",
       "      <td>6.0</td>\n",
       "      <td>9.0</td>\n",
       "      <td>3.0</td>\n",
       "    </tr>\n",
       "    <tr>\n",
       "      <th>Both</th>\n",
       "      <td>3.1</td>\n",
       "      <td>90.0</td>\n",
       "      <td>12.0</td>\n",
       "      <td>8.0</td>\n",
       "      <td>6.0</td>\n",
       "      <td>4.0</td>\n",
       "    </tr>\n",
       "  </tbody>\n",
       "</table>\n",
       "<p>510 rows × 6 columns</p>\n",
       "</div>"
      ],
      "text/plain": [
       "                                                                                                 delta_lop  \\\n",
       "Year days_to_subtract_key direct_thres spread_thres weight_indirect range   Method Construction              \n",
       "2002 days_to_subtract=35  0            0            0.1             madness Colley Direct              0.0   \n",
       "                                                                                   Indirect            4.0   \n",
       "                                                                                   Both                0.4   \n",
       "                                                                            Massey Direct              0.0   \n",
       "                                                                                   Indirect            7.0   \n",
       "...                                                                                                    ...   \n",
       "2018 days_to_subtract=7   0            0            0.1             madness Colley Indirect            8.0   \n",
       "                                                                                   Both                1.5   \n",
       "                                                                            Massey Direct              1.0   \n",
       "                                                                                   Indirect           16.0   \n",
       "                                                                                   Both                3.1   \n",
       "\n",
       "                                                                                                 delta_hillside  \\\n",
       "Year days_to_subtract_key direct_thres spread_thres weight_indirect range   Method Construction                   \n",
       "2002 days_to_subtract=35  0            0            0.1             madness Colley Direct                   0.0   \n",
       "                                                                                   Indirect                48.0   \n",
       "                                                                                   Both                    56.0   \n",
       "                                                                            Massey Direct                   0.0   \n",
       "                                                                                   Indirect                62.0   \n",
       "...                                                                                                         ...   \n",
       "2018 days_to_subtract=7   0            0            0.1             madness Colley Indirect                62.0   \n",
       "                                                                                   Both                    78.0   \n",
       "                                                                            Massey Direct                   1.0   \n",
       "                                                                                   Indirect                80.0   \n",
       "                                                                                   Both                    90.0   \n",
       "\n",
       "                                                                                                 nfrac_xstar_lop  \\\n",
       "Year days_to_subtract_key direct_thres spread_thres weight_indirect range   Method Construction                    \n",
       "2002 days_to_subtract=35  0            0            0.1             madness Colley Direct                   56.0   \n",
       "                                                                                   Indirect                 38.0   \n",
       "                                                                                   Both                     12.0   \n",
       "                                                                            Massey Direct                   56.0   \n",
       "                                                                                   Indirect                 30.0   \n",
       "...                                                                                                          ...   \n",
       "2018 days_to_subtract=7   0            0            0.1             madness Colley Indirect                 14.0   \n",
       "                                                                                   Both                      4.0   \n",
       "                                                                            Massey Direct                   32.0   \n",
       "                                                                                   Indirect                 18.0   \n",
       "                                                                                   Both                     12.0   \n",
       "\n",
       "                                                                                                 nfrac_xstar_hillside  \\\n",
       "Year days_to_subtract_key direct_thres spread_thres weight_indirect range   Method Construction                         \n",
       "2002 days_to_subtract=35  0            0            0.1             madness Colley Direct                        70.0   \n",
       "                                                                                   Indirect                       6.0   \n",
       "                                                                                   Both                           8.0   \n",
       "                                                                            Massey Direct                        68.0   \n",
       "                                                                                   Indirect                       8.0   \n",
       "...                                                                                                               ...   \n",
       "2018 days_to_subtract=7   0            0            0.1             madness Colley Indirect                       6.0   \n",
       "                                                                                   Both                          12.0   \n",
       "                                                                            Massey Direct                        44.0   \n",
       "                                                                                   Indirect                       6.0   \n",
       "                                                                                   Both                           8.0   \n",
       "\n",
       "                                                                                                 diameter_lop  \\\n",
       "Year days_to_subtract_key direct_thres spread_thres weight_indirect range   Method Construction                 \n",
       "2002 days_to_subtract=35  0            0            0.1             madness Colley Direct                28.0   \n",
       "                                                                                   Indirect              18.0   \n",
       "                                                                                   Both                   6.0   \n",
       "                                                                            Massey Direct                28.0   \n",
       "                                                                                   Indirect              15.0   \n",
       "...                                                                                                       ...   \n",
       "2018 days_to_subtract=7   0            0            0.1             madness Colley Indirect               7.0   \n",
       "                                                                                   Both                   2.0   \n",
       "                                                                            Massey Direct                16.0   \n",
       "                                                                                   Indirect               9.0   \n",
       "                                                                                   Both                   6.0   \n",
       "\n",
       "                                                                                                 diameter_hillside  \n",
       "Year days_to_subtract_key direct_thres spread_thres weight_indirect range   Method Construction                     \n",
       "2002 days_to_subtract=35  0            0            0.1             madness Colley Direct                     35.0  \n",
       "                                                                                   Indirect                    3.0  \n",
       "                                                                                   Both                        4.0  \n",
       "                                                                            Massey Direct                     34.0  \n",
       "                                                                                   Indirect                    4.0  \n",
       "...                                                                                                            ...  \n",
       "2018 days_to_subtract=7   0            0            0.1             madness Colley Indirect                    3.0  \n",
       "                                                                                   Both                        4.0  \n",
       "                                                                            Massey Direct                     22.0  \n",
       "                                                                                   Indirect                    3.0  \n",
       "                                                                                   Both                        4.0  \n",
       "\n",
       "[510 rows x 6 columns]"
      ]
     },
     "execution_count": 124,
     "metadata": {},
     "output_type": "execute_result"
    }
   ],
   "source": [
    "X"
   ]
  },
  {
   "cell_type": "markdown",
   "metadata": {},
   "source": [
    "## Refine the target dataset"
   ]
  },
  {
   "cell_type": "code",
   "execution_count": 125,
   "metadata": {},
   "outputs": [
    {
     "data": {
      "text/html": [
       "<div>\n",
       "<style scoped>\n",
       "    .dataframe tbody tr th:only-of-type {\n",
       "        vertical-align: middle;\n",
       "    }\n",
       "\n",
       "    .dataframe tbody tr th {\n",
       "        vertical-align: top;\n",
       "    }\n",
       "\n",
       "    .dataframe thead th {\n",
       "        text-align: right;\n",
       "    }\n",
       "</style>\n",
       "<table border=\"1\" class=\"dataframe\">\n",
       "  <thead>\n",
       "    <tr style=\"text-align: right;\">\n",
       "      <th></th>\n",
       "      <th></th>\n",
       "      <th></th>\n",
       "      <th></th>\n",
       "      <th></th>\n",
       "      <th></th>\n",
       "      <th></th>\n",
       "      <th>top10_jaccard</th>\n",
       "      <th>top10_tau</th>\n",
       "    </tr>\n",
       "    <tr>\n",
       "      <th>days_to_subtract1</th>\n",
       "      <th>days_to_subtract2</th>\n",
       "      <th>Method</th>\n",
       "      <th>Year</th>\n",
       "      <th>direct_thres</th>\n",
       "      <th>spread_thres</th>\n",
       "      <th>weight_indirect</th>\n",
       "      <th></th>\n",
       "      <th></th>\n",
       "    </tr>\n",
       "  </thead>\n",
       "  <tbody>\n",
       "    <tr>\n",
       "      <th rowspan=\"5\" valign=\"top\">7</th>\n",
       "      <th rowspan=\"5\" valign=\"top\">14</th>\n",
       "      <th rowspan=\"5\" valign=\"top\">Colley</th>\n",
       "      <th>2002</th>\n",
       "      <th>0</th>\n",
       "      <th>0</th>\n",
       "      <th>0.1</th>\n",
       "      <td>0.800000</td>\n",
       "      <td>0.277778</td>\n",
       "    </tr>\n",
       "    <tr>\n",
       "      <th>2003</th>\n",
       "      <th>0</th>\n",
       "      <th>0</th>\n",
       "      <th>0.1</th>\n",
       "      <td>0.800000</td>\n",
       "      <td>-0.111111</td>\n",
       "    </tr>\n",
       "    <tr>\n",
       "      <th>2004</th>\n",
       "      <th>0</th>\n",
       "      <th>0</th>\n",
       "      <th>0.1</th>\n",
       "      <td>0.636364</td>\n",
       "      <td>0.055556</td>\n",
       "    </tr>\n",
       "    <tr>\n",
       "      <th>2005</th>\n",
       "      <th>0</th>\n",
       "      <th>0</th>\n",
       "      <th>0.1</th>\n",
       "      <td>1.000000</td>\n",
       "      <td>-0.555556</td>\n",
       "    </tr>\n",
       "    <tr>\n",
       "      <th>2006</th>\n",
       "      <th>0</th>\n",
       "      <th>0</th>\n",
       "      <th>0.1</th>\n",
       "      <td>0.636364</td>\n",
       "      <td>-0.444444</td>\n",
       "    </tr>\n",
       "    <tr>\n",
       "      <th>...</th>\n",
       "      <th>...</th>\n",
       "      <th>...</th>\n",
       "      <th>...</th>\n",
       "      <th>...</th>\n",
       "      <th>...</th>\n",
       "      <th>...</th>\n",
       "      <td>...</td>\n",
       "      <td>...</td>\n",
       "    </tr>\n",
       "    <tr>\n",
       "      <th rowspan=\"5\" valign=\"top\">28</th>\n",
       "      <th rowspan=\"5\" valign=\"top\">35</th>\n",
       "      <th rowspan=\"5\" valign=\"top\">Massey</th>\n",
       "      <th>2014</th>\n",
       "      <th>0</th>\n",
       "      <th>0</th>\n",
       "      <th>0.1</th>\n",
       "      <td>0.636364</td>\n",
       "      <td>0.111111</td>\n",
       "    </tr>\n",
       "    <tr>\n",
       "      <th>2015</th>\n",
       "      <th>0</th>\n",
       "      <th>0</th>\n",
       "      <th>0.1</th>\n",
       "      <td>0.800000</td>\n",
       "      <td>-0.222222</td>\n",
       "    </tr>\n",
       "    <tr>\n",
       "      <th>2016</th>\n",
       "      <th>0</th>\n",
       "      <th>0</th>\n",
       "      <th>0.1</th>\n",
       "      <td>0.800000</td>\n",
       "      <td>0.166667</td>\n",
       "    </tr>\n",
       "    <tr>\n",
       "      <th>2017</th>\n",
       "      <th>0</th>\n",
       "      <th>0</th>\n",
       "      <th>0.1</th>\n",
       "      <td>1.000000</td>\n",
       "      <td>0.111111</td>\n",
       "    </tr>\n",
       "    <tr>\n",
       "      <th>2018</th>\n",
       "      <th>0</th>\n",
       "      <th>0</th>\n",
       "      <th>0.1</th>\n",
       "      <td>0.636364</td>\n",
       "      <td>0.055556</td>\n",
       "    </tr>\n",
       "  </tbody>\n",
       "</table>\n",
       "<p>340 rows × 2 columns</p>\n",
       "</div>"
      ],
      "text/plain": [
       "                                                                                           top10_jaccard  \\\n",
       "days_to_subtract1 days_to_subtract2 Method Year direct_thres spread_thres weight_indirect                  \n",
       "7                 14                Colley 2002 0            0            0.1                   0.800000   \n",
       "                                           2003 0            0            0.1                   0.800000   \n",
       "                                           2004 0            0            0.1                   0.636364   \n",
       "                                           2005 0            0            0.1                   1.000000   \n",
       "                                           2006 0            0            0.1                   0.636364   \n",
       "...                                                                                                  ...   \n",
       "28                35                Massey 2014 0            0            0.1                   0.636364   \n",
       "                                           2015 0            0            0.1                   0.800000   \n",
       "                                           2016 0            0            0.1                   0.800000   \n",
       "                                           2017 0            0            0.1                   1.000000   \n",
       "                                           2018 0            0            0.1                   0.636364   \n",
       "\n",
       "                                                                                           top10_tau  \n",
       "days_to_subtract1 days_to_subtract2 Method Year direct_thres spread_thres weight_indirect             \n",
       "7                 14                Colley 2002 0            0            0.1               0.277778  \n",
       "                                           2003 0            0            0.1              -0.111111  \n",
       "                                           2004 0            0            0.1               0.055556  \n",
       "                                           2005 0            0            0.1              -0.555556  \n",
       "                                           2006 0            0            0.1              -0.444444  \n",
       "...                                                                                              ...  \n",
       "28                35                Massey 2014 0            0            0.1               0.111111  \n",
       "                                           2015 0            0            0.1              -0.222222  \n",
       "                                           2016 0            0            0.1               0.166667  \n",
       "                                           2017 0            0            0.1               0.111111  \n",
       "                                           2018 0            0            0.1               0.055556  \n",
       "\n",
       "[340 rows x 2 columns]"
      ]
     },
     "execution_count": 125,
     "metadata": {},
     "output_type": "execute_result"
    }
   ],
   "source": [
    "target = problem['target'].groupby(['days_to_subtract1','days_to_subtract2','Method','Year','direct_thres','spread_thres','weight_indirect'])[feature_names].mean()\n",
    "target"
   ]
  },
  {
   "cell_type": "code",
   "execution_count": 126,
   "metadata": {},
   "outputs": [
    {
     "data": {
      "text/html": [
       "<div>\n",
       "<style scoped>\n",
       "    .dataframe tbody tr th:only-of-type {\n",
       "        vertical-align: middle;\n",
       "    }\n",
       "\n",
       "    .dataframe tbody tr th {\n",
       "        vertical-align: top;\n",
       "    }\n",
       "\n",
       "    .dataframe thead th {\n",
       "        text-align: right;\n",
       "    }\n",
       "</style>\n",
       "<table border=\"1\" class=\"dataframe\">\n",
       "  <thead>\n",
       "    <tr style=\"text-align: right;\">\n",
       "      <th></th>\n",
       "      <th>top10_jaccard</th>\n",
       "      <th>top10_tau</th>\n",
       "    </tr>\n",
       "  </thead>\n",
       "  <tbody>\n",
       "    <tr>\n",
       "      <th>top10_jaccard</th>\n",
       "      <td>1.000000</td>\n",
       "      <td>0.025604</td>\n",
       "    </tr>\n",
       "    <tr>\n",
       "      <th>top10_tau</th>\n",
       "      <td>0.025604</td>\n",
       "      <td>1.000000</td>\n",
       "    </tr>\n",
       "  </tbody>\n",
       "</table>\n",
       "</div>"
      ],
      "text/plain": [
       "               top10_jaccard  top10_tau\n",
       "top10_jaccard       1.000000   0.025604\n",
       "top10_tau           0.025604   1.000000"
      ]
     },
     "execution_count": 126,
     "metadata": {},
     "output_type": "execute_result"
    }
   ],
   "source": [
    "target.corr()"
   ]
  },
  {
   "cell_type": "code",
   "execution_count": 130,
   "metadata": {},
   "outputs": [
    {
     "data": {
      "text/html": [
       "<div>\n",
       "<style scoped>\n",
       "    .dataframe tbody tr th:only-of-type {\n",
       "        vertical-align: middle;\n",
       "    }\n",
       "\n",
       "    .dataframe tbody tr th {\n",
       "        vertical-align: top;\n",
       "    }\n",
       "\n",
       "    .dataframe thead th {\n",
       "        text-align: right;\n",
       "    }\n",
       "</style>\n",
       "<table border=\"1\" class=\"dataframe\">\n",
       "  <thead>\n",
       "    <tr style=\"text-align: right;\">\n",
       "      <th></th>\n",
       "      <th>Year</th>\n",
       "      <th>days_to_subtract_key</th>\n",
       "      <th>direct_thres</th>\n",
       "      <th>spread_thres</th>\n",
       "      <th>weight_indirect</th>\n",
       "      <th>range</th>\n",
       "      <th>Method</th>\n",
       "      <th>Construction</th>\n",
       "      <th>delta_lop</th>\n",
       "      <th>delta_hillside</th>\n",
       "      <th>nfrac_xstar_lop</th>\n",
       "      <th>nfrac_xstar_hillside</th>\n",
       "      <th>diameter_lop</th>\n",
       "      <th>diameter_hillside</th>\n",
       "      <th>days_to_subtract1</th>\n",
       "    </tr>\n",
       "  </thead>\n",
       "  <tbody>\n",
       "    <tr>\n",
       "      <th>0</th>\n",
       "      <td>2002</td>\n",
       "      <td>days_to_subtract=35</td>\n",
       "      <td>0</td>\n",
       "      <td>0</td>\n",
       "      <td>0.1</td>\n",
       "      <td>madness</td>\n",
       "      <td>Colley</td>\n",
       "      <td>Direct</td>\n",
       "      <td>0.0</td>\n",
       "      <td>0.0</td>\n",
       "      <td>56.0</td>\n",
       "      <td>70.0</td>\n",
       "      <td>28.0</td>\n",
       "      <td>35.0</td>\n",
       "      <td>35.0</td>\n",
       "    </tr>\n",
       "    <tr>\n",
       "      <th>1</th>\n",
       "      <td>2002</td>\n",
       "      <td>days_to_subtract=35</td>\n",
       "      <td>0</td>\n",
       "      <td>0</td>\n",
       "      <td>0.1</td>\n",
       "      <td>madness</td>\n",
       "      <td>Colley</td>\n",
       "      <td>Indirect</td>\n",
       "      <td>4.0</td>\n",
       "      <td>48.0</td>\n",
       "      <td>38.0</td>\n",
       "      <td>6.0</td>\n",
       "      <td>18.0</td>\n",
       "      <td>3.0</td>\n",
       "      <td>35.0</td>\n",
       "    </tr>\n",
       "    <tr>\n",
       "      <th>2</th>\n",
       "      <td>2002</td>\n",
       "      <td>days_to_subtract=35</td>\n",
       "      <td>0</td>\n",
       "      <td>0</td>\n",
       "      <td>0.1</td>\n",
       "      <td>madness</td>\n",
       "      <td>Colley</td>\n",
       "      <td>Both</td>\n",
       "      <td>0.4</td>\n",
       "      <td>56.0</td>\n",
       "      <td>12.0</td>\n",
       "      <td>8.0</td>\n",
       "      <td>6.0</td>\n",
       "      <td>4.0</td>\n",
       "      <td>35.0</td>\n",
       "    </tr>\n",
       "    <tr>\n",
       "      <th>3</th>\n",
       "      <td>2002</td>\n",
       "      <td>days_to_subtract=35</td>\n",
       "      <td>0</td>\n",
       "      <td>0</td>\n",
       "      <td>0.1</td>\n",
       "      <td>madness</td>\n",
       "      <td>Massey</td>\n",
       "      <td>Direct</td>\n",
       "      <td>0.0</td>\n",
       "      <td>0.0</td>\n",
       "      <td>56.0</td>\n",
       "      <td>68.0</td>\n",
       "      <td>28.0</td>\n",
       "      <td>34.0</td>\n",
       "      <td>35.0</td>\n",
       "    </tr>\n",
       "    <tr>\n",
       "      <th>4</th>\n",
       "      <td>2002</td>\n",
       "      <td>days_to_subtract=35</td>\n",
       "      <td>0</td>\n",
       "      <td>0</td>\n",
       "      <td>0.1</td>\n",
       "      <td>madness</td>\n",
       "      <td>Massey</td>\n",
       "      <td>Indirect</td>\n",
       "      <td>7.0</td>\n",
       "      <td>62.0</td>\n",
       "      <td>30.0</td>\n",
       "      <td>8.0</td>\n",
       "      <td>15.0</td>\n",
       "      <td>4.0</td>\n",
       "      <td>35.0</td>\n",
       "    </tr>\n",
       "    <tr>\n",
       "      <th>...</th>\n",
       "      <td>...</td>\n",
       "      <td>...</td>\n",
       "      <td>...</td>\n",
       "      <td>...</td>\n",
       "      <td>...</td>\n",
       "      <td>...</td>\n",
       "      <td>...</td>\n",
       "      <td>...</td>\n",
       "      <td>...</td>\n",
       "      <td>...</td>\n",
       "      <td>...</td>\n",
       "      <td>...</td>\n",
       "      <td>...</td>\n",
       "      <td>...</td>\n",
       "      <td>...</td>\n",
       "    </tr>\n",
       "    <tr>\n",
       "      <th>505</th>\n",
       "      <td>2018</td>\n",
       "      <td>days_to_subtract=7</td>\n",
       "      <td>0</td>\n",
       "      <td>0</td>\n",
       "      <td>0.1</td>\n",
       "      <td>madness</td>\n",
       "      <td>Colley</td>\n",
       "      <td>Indirect</td>\n",
       "      <td>8.0</td>\n",
       "      <td>62.0</td>\n",
       "      <td>14.0</td>\n",
       "      <td>6.0</td>\n",
       "      <td>7.0</td>\n",
       "      <td>3.0</td>\n",
       "      <td>7.0</td>\n",
       "    </tr>\n",
       "    <tr>\n",
       "      <th>506</th>\n",
       "      <td>2018</td>\n",
       "      <td>days_to_subtract=7</td>\n",
       "      <td>0</td>\n",
       "      <td>0</td>\n",
       "      <td>0.1</td>\n",
       "      <td>madness</td>\n",
       "      <td>Colley</td>\n",
       "      <td>Both</td>\n",
       "      <td>1.5</td>\n",
       "      <td>78.0</td>\n",
       "      <td>4.0</td>\n",
       "      <td>12.0</td>\n",
       "      <td>2.0</td>\n",
       "      <td>4.0</td>\n",
       "      <td>7.0</td>\n",
       "    </tr>\n",
       "    <tr>\n",
       "      <th>507</th>\n",
       "      <td>2018</td>\n",
       "      <td>days_to_subtract=7</td>\n",
       "      <td>0</td>\n",
       "      <td>0</td>\n",
       "      <td>0.1</td>\n",
       "      <td>madness</td>\n",
       "      <td>Massey</td>\n",
       "      <td>Direct</td>\n",
       "      <td>1.0</td>\n",
       "      <td>1.0</td>\n",
       "      <td>32.0</td>\n",
       "      <td>44.0</td>\n",
       "      <td>16.0</td>\n",
       "      <td>22.0</td>\n",
       "      <td>7.0</td>\n",
       "    </tr>\n",
       "    <tr>\n",
       "      <th>508</th>\n",
       "      <td>2018</td>\n",
       "      <td>days_to_subtract=7</td>\n",
       "      <td>0</td>\n",
       "      <td>0</td>\n",
       "      <td>0.1</td>\n",
       "      <td>madness</td>\n",
       "      <td>Massey</td>\n",
       "      <td>Indirect</td>\n",
       "      <td>16.0</td>\n",
       "      <td>80.0</td>\n",
       "      <td>18.0</td>\n",
       "      <td>6.0</td>\n",
       "      <td>9.0</td>\n",
       "      <td>3.0</td>\n",
       "      <td>7.0</td>\n",
       "    </tr>\n",
       "    <tr>\n",
       "      <th>509</th>\n",
       "      <td>2018</td>\n",
       "      <td>days_to_subtract=7</td>\n",
       "      <td>0</td>\n",
       "      <td>0</td>\n",
       "      <td>0.1</td>\n",
       "      <td>madness</td>\n",
       "      <td>Massey</td>\n",
       "      <td>Both</td>\n",
       "      <td>3.1</td>\n",
       "      <td>90.0</td>\n",
       "      <td>12.0</td>\n",
       "      <td>8.0</td>\n",
       "      <td>6.0</td>\n",
       "      <td>4.0</td>\n",
       "      <td>7.0</td>\n",
       "    </tr>\n",
       "  </tbody>\n",
       "</table>\n",
       "<p>510 rows × 15 columns</p>\n",
       "</div>"
      ],
      "text/plain": [
       "     Year days_to_subtract_key  direct_thres  spread_thres  weight_indirect  \\\n",
       "0    2002  days_to_subtract=35             0             0              0.1   \n",
       "1    2002  days_to_subtract=35             0             0              0.1   \n",
       "2    2002  days_to_subtract=35             0             0              0.1   \n",
       "3    2002  days_to_subtract=35             0             0              0.1   \n",
       "4    2002  days_to_subtract=35             0             0              0.1   \n",
       "..    ...                  ...           ...           ...              ...   \n",
       "505  2018   days_to_subtract=7             0             0              0.1   \n",
       "506  2018   days_to_subtract=7             0             0              0.1   \n",
       "507  2018   days_to_subtract=7             0             0              0.1   \n",
       "508  2018   days_to_subtract=7             0             0              0.1   \n",
       "509  2018   days_to_subtract=7             0             0              0.1   \n",
       "\n",
       "       range  Method Construction  delta_lop  delta_hillside  nfrac_xstar_lop  \\\n",
       "0    madness  Colley       Direct        0.0             0.0             56.0   \n",
       "1    madness  Colley     Indirect        4.0            48.0             38.0   \n",
       "2    madness  Colley         Both        0.4            56.0             12.0   \n",
       "3    madness  Massey       Direct        0.0             0.0             56.0   \n",
       "4    madness  Massey     Indirect        7.0            62.0             30.0   \n",
       "..       ...     ...          ...        ...             ...              ...   \n",
       "505  madness  Colley     Indirect        8.0            62.0             14.0   \n",
       "506  madness  Colley         Both        1.5            78.0              4.0   \n",
       "507  madness  Massey       Direct        1.0             1.0             32.0   \n",
       "508  madness  Massey     Indirect       16.0            80.0             18.0   \n",
       "509  madness  Massey         Both        3.1            90.0             12.0   \n",
       "\n",
       "     nfrac_xstar_hillside  diameter_lop  diameter_hillside  days_to_subtract1  \n",
       "0                    70.0          28.0               35.0               35.0  \n",
       "1                     6.0          18.0                3.0               35.0  \n",
       "2                     8.0           6.0                4.0               35.0  \n",
       "3                    68.0          28.0               34.0               35.0  \n",
       "4                     8.0          15.0                4.0               35.0  \n",
       "..                    ...           ...                ...                ...  \n",
       "505                   6.0           7.0                3.0                7.0  \n",
       "506                  12.0           2.0                4.0                7.0  \n",
       "507                  44.0          16.0               22.0                7.0  \n",
       "508                   6.0           9.0                3.0                7.0  \n",
       "509                   8.0           6.0                4.0                7.0  \n",
       "\n",
       "[510 rows x 15 columns]"
      ]
     },
     "execution_count": 130,
     "metadata": {},
     "output_type": "execute_result"
    }
   ],
   "source": [
    "X_for_join = X.copy().reset_index()\n",
    "X_for_join['days_to_subtract1']= X_for_join['days_to_subtract_key'].str.replace(\"days_to_subtract=\",\"\").astype(float)\n",
    "X_for_join.weight_indirect=0.1\n",
    "X_for_join"
   ]
  },
  {
   "cell_type": "code",
   "execution_count": 131,
   "metadata": {},
   "outputs": [
    {
     "data": {
      "text/html": [
       "<div>\n",
       "<style scoped>\n",
       "    .dataframe tbody tr th:only-of-type {\n",
       "        vertical-align: middle;\n",
       "    }\n",
       "\n",
       "    .dataframe tbody tr th {\n",
       "        vertical-align: top;\n",
       "    }\n",
       "\n",
       "    .dataframe thead th {\n",
       "        text-align: right;\n",
       "    }\n",
       "</style>\n",
       "<table border=\"1\" class=\"dataframe\">\n",
       "  <thead>\n",
       "    <tr style=\"text-align: right;\">\n",
       "      <th></th>\n",
       "      <th></th>\n",
       "      <th></th>\n",
       "      <th></th>\n",
       "      <th></th>\n",
       "      <th></th>\n",
       "      <th></th>\n",
       "      <th>top10_jaccard</th>\n",
       "      <th>top10_tau</th>\n",
       "    </tr>\n",
       "    <tr>\n",
       "      <th>days_to_subtract1</th>\n",
       "      <th>days_to_subtract2</th>\n",
       "      <th>Method</th>\n",
       "      <th>Year</th>\n",
       "      <th>direct_thres</th>\n",
       "      <th>spread_thres</th>\n",
       "      <th>weight_indirect</th>\n",
       "      <th></th>\n",
       "      <th></th>\n",
       "    </tr>\n",
       "  </thead>\n",
       "  <tbody>\n",
       "    <tr>\n",
       "      <th rowspan=\"5\" valign=\"top\">7</th>\n",
       "      <th rowspan=\"5\" valign=\"top\">14</th>\n",
       "      <th rowspan=\"5\" valign=\"top\">Colley</th>\n",
       "      <th>2002</th>\n",
       "      <th>0</th>\n",
       "      <th>0</th>\n",
       "      <th>0.1</th>\n",
       "      <td>0.800000</td>\n",
       "      <td>0.277778</td>\n",
       "    </tr>\n",
       "    <tr>\n",
       "      <th>2003</th>\n",
       "      <th>0</th>\n",
       "      <th>0</th>\n",
       "      <th>0.1</th>\n",
       "      <td>0.800000</td>\n",
       "      <td>-0.111111</td>\n",
       "    </tr>\n",
       "    <tr>\n",
       "      <th>2004</th>\n",
       "      <th>0</th>\n",
       "      <th>0</th>\n",
       "      <th>0.1</th>\n",
       "      <td>0.636364</td>\n",
       "      <td>0.055556</td>\n",
       "    </tr>\n",
       "    <tr>\n",
       "      <th>2005</th>\n",
       "      <th>0</th>\n",
       "      <th>0</th>\n",
       "      <th>0.1</th>\n",
       "      <td>1.000000</td>\n",
       "      <td>-0.555556</td>\n",
       "    </tr>\n",
       "    <tr>\n",
       "      <th>2006</th>\n",
       "      <th>0</th>\n",
       "      <th>0</th>\n",
       "      <th>0.1</th>\n",
       "      <td>0.636364</td>\n",
       "      <td>-0.444444</td>\n",
       "    </tr>\n",
       "    <tr>\n",
       "      <th>...</th>\n",
       "      <th>...</th>\n",
       "      <th>...</th>\n",
       "      <th>...</th>\n",
       "      <th>...</th>\n",
       "      <th>...</th>\n",
       "      <th>...</th>\n",
       "      <td>...</td>\n",
       "      <td>...</td>\n",
       "    </tr>\n",
       "    <tr>\n",
       "      <th rowspan=\"5\" valign=\"top\">28</th>\n",
       "      <th rowspan=\"5\" valign=\"top\">35</th>\n",
       "      <th rowspan=\"5\" valign=\"top\">Massey</th>\n",
       "      <th>2014</th>\n",
       "      <th>0</th>\n",
       "      <th>0</th>\n",
       "      <th>0.1</th>\n",
       "      <td>0.636364</td>\n",
       "      <td>0.111111</td>\n",
       "    </tr>\n",
       "    <tr>\n",
       "      <th>2015</th>\n",
       "      <th>0</th>\n",
       "      <th>0</th>\n",
       "      <th>0.1</th>\n",
       "      <td>0.800000</td>\n",
       "      <td>-0.222222</td>\n",
       "    </tr>\n",
       "    <tr>\n",
       "      <th>2016</th>\n",
       "      <th>0</th>\n",
       "      <th>0</th>\n",
       "      <th>0.1</th>\n",
       "      <td>0.800000</td>\n",
       "      <td>0.166667</td>\n",
       "    </tr>\n",
       "    <tr>\n",
       "      <th>2017</th>\n",
       "      <th>0</th>\n",
       "      <th>0</th>\n",
       "      <th>0.1</th>\n",
       "      <td>1.000000</td>\n",
       "      <td>0.111111</td>\n",
       "    </tr>\n",
       "    <tr>\n",
       "      <th>2018</th>\n",
       "      <th>0</th>\n",
       "      <th>0</th>\n",
       "      <th>0.1</th>\n",
       "      <td>0.636364</td>\n",
       "      <td>0.055556</td>\n",
       "    </tr>\n",
       "  </tbody>\n",
       "</table>\n",
       "<p>340 rows × 2 columns</p>\n",
       "</div>"
      ],
      "text/plain": [
       "                                                                                           top10_jaccard  \\\n",
       "days_to_subtract1 days_to_subtract2 Method Year direct_thres spread_thres weight_indirect                  \n",
       "7                 14                Colley 2002 0            0            0.1                   0.800000   \n",
       "                                           2003 0            0            0.1                   0.800000   \n",
       "                                           2004 0            0            0.1                   0.636364   \n",
       "                                           2005 0            0            0.1                   1.000000   \n",
       "                                           2006 0            0            0.1                   0.636364   \n",
       "...                                                                                                  ...   \n",
       "28                35                Massey 2014 0            0            0.1                   0.636364   \n",
       "                                           2015 0            0            0.1                   0.800000   \n",
       "                                           2016 0            0            0.1                   0.800000   \n",
       "                                           2017 0            0            0.1                   1.000000   \n",
       "                                           2018 0            0            0.1                   0.636364   \n",
       "\n",
       "                                                                                           top10_tau  \n",
       "days_to_subtract1 days_to_subtract2 Method Year direct_thres spread_thres weight_indirect             \n",
       "7                 14                Colley 2002 0            0            0.1               0.277778  \n",
       "                                           2003 0            0            0.1              -0.111111  \n",
       "                                           2004 0            0            0.1               0.055556  \n",
       "                                           2005 0            0            0.1              -0.555556  \n",
       "                                           2006 0            0            0.1              -0.444444  \n",
       "...                                                                                              ...  \n",
       "28                35                Massey 2014 0            0            0.1               0.111111  \n",
       "                                           2015 0            0            0.1              -0.222222  \n",
       "                                           2016 0            0            0.1               0.166667  \n",
       "                                           2017 0            0            0.1               0.111111  \n",
       "                                           2018 0            0            0.1               0.055556  \n",
       "\n",
       "[340 rows x 2 columns]"
      ]
     },
     "execution_count": 131,
     "metadata": {},
     "output_type": "execute_result"
    }
   ],
   "source": [
    "target"
   ]
  },
  {
   "cell_type": "code",
   "execution_count": 132,
   "metadata": {},
   "outputs": [
    {
     "data": {
      "text/html": [
       "<div>\n",
       "<style scoped>\n",
       "    .dataframe tbody tr th:only-of-type {\n",
       "        vertical-align: middle;\n",
       "    }\n",
       "\n",
       "    .dataframe tbody tr th {\n",
       "        vertical-align: top;\n",
       "    }\n",
       "\n",
       "    .dataframe thead th {\n",
       "        text-align: right;\n",
       "    }\n",
       "</style>\n",
       "<table border=\"1\" class=\"dataframe\">\n",
       "  <thead>\n",
       "    <tr style=\"text-align: right;\">\n",
       "      <th></th>\n",
       "      <th>Method</th>\n",
       "      <th>days_to_subtract1</th>\n",
       "      <th>Year</th>\n",
       "      <th>direct_thres</th>\n",
       "      <th>spread_thres</th>\n",
       "      <th>weight_indirect</th>\n",
       "      <th>days_to_subtract2</th>\n",
       "      <th>top10_jaccard</th>\n",
       "      <th>top10_tau</th>\n",
       "      <th>days_to_subtract_key</th>\n",
       "      <th>range</th>\n",
       "      <th>Construction</th>\n",
       "      <th>delta_lop</th>\n",
       "      <th>delta_hillside</th>\n",
       "      <th>nfrac_xstar_lop</th>\n",
       "      <th>nfrac_xstar_hillside</th>\n",
       "      <th>diameter_lop</th>\n",
       "      <th>diameter_hillside</th>\n",
       "    </tr>\n",
       "  </thead>\n",
       "  <tbody>\n",
       "    <tr>\n",
       "      <th>0</th>\n",
       "      <td>Colley</td>\n",
       "      <td>7</td>\n",
       "      <td>2002</td>\n",
       "      <td>0</td>\n",
       "      <td>0</td>\n",
       "      <td>0.1</td>\n",
       "      <td>14</td>\n",
       "      <td>0.800000</td>\n",
       "      <td>0.277778</td>\n",
       "      <td>days_to_subtract=7</td>\n",
       "      <td>madness</td>\n",
       "      <td>Direct</td>\n",
       "      <td>1.0</td>\n",
       "      <td>0.0</td>\n",
       "      <td>50.0</td>\n",
       "      <td>54.0</td>\n",
       "      <td>25.0</td>\n",
       "      <td>27.0</td>\n",
       "    </tr>\n",
       "    <tr>\n",
       "      <th>1</th>\n",
       "      <td>Colley</td>\n",
       "      <td>7</td>\n",
       "      <td>2002</td>\n",
       "      <td>0</td>\n",
       "      <td>0</td>\n",
       "      <td>0.1</td>\n",
       "      <td>14</td>\n",
       "      <td>0.800000</td>\n",
       "      <td>0.277778</td>\n",
       "      <td>days_to_subtract=7</td>\n",
       "      <td>madness</td>\n",
       "      <td>Indirect</td>\n",
       "      <td>9.0</td>\n",
       "      <td>87.0</td>\n",
       "      <td>8.0</td>\n",
       "      <td>10.0</td>\n",
       "      <td>4.0</td>\n",
       "      <td>5.0</td>\n",
       "    </tr>\n",
       "    <tr>\n",
       "      <th>2</th>\n",
       "      <td>Colley</td>\n",
       "      <td>7</td>\n",
       "      <td>2002</td>\n",
       "      <td>0</td>\n",
       "      <td>0</td>\n",
       "      <td>0.1</td>\n",
       "      <td>14</td>\n",
       "      <td>0.800000</td>\n",
       "      <td>0.277778</td>\n",
       "      <td>days_to_subtract=7</td>\n",
       "      <td>madness</td>\n",
       "      <td>Both</td>\n",
       "      <td>2.0</td>\n",
       "      <td>104.0</td>\n",
       "      <td>6.0</td>\n",
       "      <td>10.0</td>\n",
       "      <td>3.0</td>\n",
       "      <td>5.0</td>\n",
       "    </tr>\n",
       "    <tr>\n",
       "      <th>3</th>\n",
       "      <td>Colley</td>\n",
       "      <td>7</td>\n",
       "      <td>2002</td>\n",
       "      <td>0</td>\n",
       "      <td>0</td>\n",
       "      <td>0.1</td>\n",
       "      <td>21</td>\n",
       "      <td>0.636364</td>\n",
       "      <td>-0.555556</td>\n",
       "      <td>days_to_subtract=7</td>\n",
       "      <td>madness</td>\n",
       "      <td>Direct</td>\n",
       "      <td>1.0</td>\n",
       "      <td>0.0</td>\n",
       "      <td>50.0</td>\n",
       "      <td>54.0</td>\n",
       "      <td>25.0</td>\n",
       "      <td>27.0</td>\n",
       "    </tr>\n",
       "    <tr>\n",
       "      <th>4</th>\n",
       "      <td>Colley</td>\n",
       "      <td>7</td>\n",
       "      <td>2002</td>\n",
       "      <td>0</td>\n",
       "      <td>0</td>\n",
       "      <td>0.1</td>\n",
       "      <td>21</td>\n",
       "      <td>0.636364</td>\n",
       "      <td>-0.555556</td>\n",
       "      <td>days_to_subtract=7</td>\n",
       "      <td>madness</td>\n",
       "      <td>Indirect</td>\n",
       "      <td>9.0</td>\n",
       "      <td>87.0</td>\n",
       "      <td>8.0</td>\n",
       "      <td>10.0</td>\n",
       "      <td>4.0</td>\n",
       "      <td>5.0</td>\n",
       "    </tr>\n",
       "    <tr>\n",
       "      <th>...</th>\n",
       "      <td>...</td>\n",
       "      <td>...</td>\n",
       "      <td>...</td>\n",
       "      <td>...</td>\n",
       "      <td>...</td>\n",
       "      <td>...</td>\n",
       "      <td>...</td>\n",
       "      <td>...</td>\n",
       "      <td>...</td>\n",
       "      <td>...</td>\n",
       "      <td>...</td>\n",
       "      <td>...</td>\n",
       "      <td>...</td>\n",
       "      <td>...</td>\n",
       "      <td>...</td>\n",
       "      <td>...</td>\n",
       "      <td>...</td>\n",
       "      <td>...</td>\n",
       "    </tr>\n",
       "    <tr>\n",
       "      <th>1015</th>\n",
       "      <td>Massey</td>\n",
       "      <td>28</td>\n",
       "      <td>2017</td>\n",
       "      <td>0</td>\n",
       "      <td>0</td>\n",
       "      <td>0.1</td>\n",
       "      <td>35</td>\n",
       "      <td>1.000000</td>\n",
       "      <td>0.111111</td>\n",
       "      <td>days_to_subtract=28</td>\n",
       "      <td>madness</td>\n",
       "      <td>Indirect</td>\n",
       "      <td>11.0</td>\n",
       "      <td>80.0</td>\n",
       "      <td>16.0</td>\n",
       "      <td>10.0</td>\n",
       "      <td>8.0</td>\n",
       "      <td>5.0</td>\n",
       "    </tr>\n",
       "    <tr>\n",
       "      <th>1016</th>\n",
       "      <td>Massey</td>\n",
       "      <td>28</td>\n",
       "      <td>2017</td>\n",
       "      <td>0</td>\n",
       "      <td>0</td>\n",
       "      <td>0.1</td>\n",
       "      <td>35</td>\n",
       "      <td>1.000000</td>\n",
       "      <td>0.111111</td>\n",
       "      <td>days_to_subtract=28</td>\n",
       "      <td>madness</td>\n",
       "      <td>Both</td>\n",
       "      <td>2.1</td>\n",
       "      <td>92.0</td>\n",
       "      <td>12.0</td>\n",
       "      <td>0.0</td>\n",
       "      <td>6.0</td>\n",
       "      <td>-0.0</td>\n",
       "    </tr>\n",
       "    <tr>\n",
       "      <th>1017</th>\n",
       "      <td>Massey</td>\n",
       "      <td>28</td>\n",
       "      <td>2018</td>\n",
       "      <td>0</td>\n",
       "      <td>0</td>\n",
       "      <td>0.1</td>\n",
       "      <td>35</td>\n",
       "      <td>0.636364</td>\n",
       "      <td>0.055556</td>\n",
       "      <td>days_to_subtract=28</td>\n",
       "      <td>madness</td>\n",
       "      <td>Direct</td>\n",
       "      <td>2.0</td>\n",
       "      <td>2.0</td>\n",
       "      <td>64.0</td>\n",
       "      <td>64.0</td>\n",
       "      <td>31.0</td>\n",
       "      <td>31.0</td>\n",
       "    </tr>\n",
       "    <tr>\n",
       "      <th>1018</th>\n",
       "      <td>Massey</td>\n",
       "      <td>28</td>\n",
       "      <td>2018</td>\n",
       "      <td>0</td>\n",
       "      <td>0</td>\n",
       "      <td>0.1</td>\n",
       "      <td>35</td>\n",
       "      <td>0.636364</td>\n",
       "      <td>0.055556</td>\n",
       "      <td>days_to_subtract=28</td>\n",
       "      <td>madness</td>\n",
       "      <td>Indirect</td>\n",
       "      <td>7.0</td>\n",
       "      <td>84.0</td>\n",
       "      <td>16.0</td>\n",
       "      <td>2.0</td>\n",
       "      <td>8.0</td>\n",
       "      <td>1.0</td>\n",
       "    </tr>\n",
       "    <tr>\n",
       "      <th>1019</th>\n",
       "      <td>Massey</td>\n",
       "      <td>28</td>\n",
       "      <td>2018</td>\n",
       "      <td>0</td>\n",
       "      <td>0</td>\n",
       "      <td>0.1</td>\n",
       "      <td>35</td>\n",
       "      <td>0.636364</td>\n",
       "      <td>0.055556</td>\n",
       "      <td>days_to_subtract=28</td>\n",
       "      <td>madness</td>\n",
       "      <td>Both</td>\n",
       "      <td>1.9</td>\n",
       "      <td>97.0</td>\n",
       "      <td>4.0</td>\n",
       "      <td>8.0</td>\n",
       "      <td>2.0</td>\n",
       "      <td>4.0</td>\n",
       "    </tr>\n",
       "  </tbody>\n",
       "</table>\n",
       "<p>1020 rows × 18 columns</p>\n",
       "</div>"
      ],
      "text/plain": [
       "      Method  days_to_subtract1  Year  direct_thres  spread_thres  \\\n",
       "0     Colley                  7  2002             0             0   \n",
       "1     Colley                  7  2002             0             0   \n",
       "2     Colley                  7  2002             0             0   \n",
       "3     Colley                  7  2002             0             0   \n",
       "4     Colley                  7  2002             0             0   \n",
       "...      ...                ...   ...           ...           ...   \n",
       "1015  Massey                 28  2017             0             0   \n",
       "1016  Massey                 28  2017             0             0   \n",
       "1017  Massey                 28  2018             0             0   \n",
       "1018  Massey                 28  2018             0             0   \n",
       "1019  Massey                 28  2018             0             0   \n",
       "\n",
       "      weight_indirect  days_to_subtract2  top10_jaccard  top10_tau  \\\n",
       "0                 0.1                 14       0.800000   0.277778   \n",
       "1                 0.1                 14       0.800000   0.277778   \n",
       "2                 0.1                 14       0.800000   0.277778   \n",
       "3                 0.1                 21       0.636364  -0.555556   \n",
       "4                 0.1                 21       0.636364  -0.555556   \n",
       "...               ...                ...            ...        ...   \n",
       "1015              0.1                 35       1.000000   0.111111   \n",
       "1016              0.1                 35       1.000000   0.111111   \n",
       "1017              0.1                 35       0.636364   0.055556   \n",
       "1018              0.1                 35       0.636364   0.055556   \n",
       "1019              0.1                 35       0.636364   0.055556   \n",
       "\n",
       "     days_to_subtract_key    range Construction  delta_lop  delta_hillside  \\\n",
       "0      days_to_subtract=7  madness       Direct        1.0             0.0   \n",
       "1      days_to_subtract=7  madness     Indirect        9.0            87.0   \n",
       "2      days_to_subtract=7  madness         Both        2.0           104.0   \n",
       "3      days_to_subtract=7  madness       Direct        1.0             0.0   \n",
       "4      days_to_subtract=7  madness     Indirect        9.0            87.0   \n",
       "...                   ...      ...          ...        ...             ...   \n",
       "1015  days_to_subtract=28  madness     Indirect       11.0            80.0   \n",
       "1016  days_to_subtract=28  madness         Both        2.1            92.0   \n",
       "1017  days_to_subtract=28  madness       Direct        2.0             2.0   \n",
       "1018  days_to_subtract=28  madness     Indirect        7.0            84.0   \n",
       "1019  days_to_subtract=28  madness         Both        1.9            97.0   \n",
       "\n",
       "      nfrac_xstar_lop  nfrac_xstar_hillside  diameter_lop  diameter_hillside  \n",
       "0                50.0                  54.0          25.0               27.0  \n",
       "1                 8.0                  10.0           4.0                5.0  \n",
       "2                 6.0                  10.0           3.0                5.0  \n",
       "3                50.0                  54.0          25.0               27.0  \n",
       "4                 8.0                  10.0           4.0                5.0  \n",
       "...               ...                   ...           ...                ...  \n",
       "1015             16.0                  10.0           8.0                5.0  \n",
       "1016             12.0                   0.0           6.0               -0.0  \n",
       "1017             64.0                  64.0          31.0               31.0  \n",
       "1018             16.0                   2.0           8.0                1.0  \n",
       "1019              4.0                   8.0           2.0                4.0  \n",
       "\n",
       "[1020 rows x 18 columns]"
      ]
     },
     "execution_count": 132,
     "metadata": {},
     "output_type": "execute_result"
    }
   ],
   "source": [
    "Xy = target.reset_index().set_index(['Method','days_to_subtract1','Year','direct_thres','spread_thres','weight_indirect']).join(X_for_join.set_index(['Method','days_to_subtract1','Year','direct_thres','spread_thres','weight_indirect'])).dropna()\n",
    "Xy = Xy.reset_index()\n",
    "Xy"
   ]
  },
  {
   "cell_type": "markdown",
   "metadata": {},
   "source": [
    "## Process results"
   ]
  },
  {
   "cell_type": "code",
   "execution_count": 133,
   "metadata": {},
   "outputs": [],
   "source": [
    "pairs_by_width = {}\n",
    "for f1,f2 in itertools.combinations(X_for_join['days_to_subtract1'].unique().astype(int),2):\n",
    "    if f2 < f1:\n",
    "        f1,f2 = f2,f1\n",
    "    width = f2-f1#round(100*(f2-f1))\n",
    "    if width not in pairs_by_width:\n",
    "        pairs_by_width[width] = []\n",
    "    pairs_by_width[width].append((f1,f2))"
   ]
  },
  {
   "cell_type": "code",
   "execution_count": 134,
   "metadata": {},
   "outputs": [
    {
     "data": {
      "text/plain": [
       "{7: [(28, 35), (21, 28), (14, 21), (7, 14)],\n",
       " 14: [(21, 35), (14, 28), (7, 21)],\n",
       " 21: [(14, 35), (7, 28)],\n",
       " 28: [(7, 35)]}"
      ]
     },
     "execution_count": 134,
     "metadata": {},
     "output_type": "execute_result"
    }
   ],
   "source": [
    "pairs_by_width"
   ]
  },
  {
   "cell_type": "code",
   "execution_count": 135,
   "metadata": {},
   "outputs": [
    {
     "data": {
      "text/plain": [
       "['days_to_subtract1',\n",
       " 'days_to_subtract2',\n",
       " 'Method',\n",
       " 'Construction',\n",
       " 'delta_lop',\n",
       " 'delta_hillside',\n",
       " 'nfrac_xstar_lop',\n",
       " 'nfrac_xstar_hillside',\n",
       " 'diameter_lop',\n",
       " 'diameter_hillside']"
      ]
     },
     "execution_count": 135,
     "metadata": {},
     "output_type": "execute_result"
    }
   ],
   "source": [
    "[\"days_to_subtract1\",\"days_to_subtract2\",\"Method\",\"Construction\"]+feature_columns"
   ]
  },
  {
   "cell_type": "code",
   "execution_count": 136,
   "metadata": {},
   "outputs": [],
   "source": [
    "#!sudo pip install pandas --upgrade"
   ]
  },
  {
   "cell_type": "code",
   "execution_count": 137,
   "metadata": {
    "scrolled": true
   },
   "outputs": [
    {
     "name": "stderr",
     "output_type": "stream",
     "text": [
      "/opt/tljh/user/lib/python3.7/site-packages/ipykernel_launcher.py:11: PerformanceWarning: indexing past lexsort depth may impact performance.\n",
      "  # This is added back by InteractiveShellApp.init_path()\n",
      "/opt/tljh/user/lib/python3.7/site-packages/ipykernel_launcher.py:16: PerformanceWarning: indexing past lexsort depth may impact performance.\n",
      "  app.launch_new_instance()\n"
     ]
    }
   ],
   "source": [
    "import altair as alt\n",
    "\n",
    "index_cols = ['Method', 'Construction', 'days_to_subtract1', 'days_to_subtract2','width']\n",
    "graph_dfs = {}\n",
    "for target_column in feature_names:\n",
    "    graph_df = pd.DataFrame(columns=index_cols+feature_columns).set_index(index_cols)\n",
    "\n",
    "    for width in pairs_by_width.keys():\n",
    "        summary = None\n",
    "        for pair in pairs_by_width[width]:\n",
    "            data = Xy.set_index(['days_to_subtract1','days_to_subtract2']).loc[pair].reset_index()\n",
    "            for_corr = data.set_index(['Method','Construction',\"days_to_subtract1\",\"days_to_subtract2\"])\n",
    "            if summary is None:\n",
    "                summary = pd.DataFrame(columns=[\"days_to_subtract1\",\"days_to_subtract2\",\"Method\",\"Construction\"]+feature_columns).set_index(list(for_corr.index.names))\n",
    "            for ix in for_corr.index.unique():\n",
    "                corr_results = for_corr.loc[ix][[target_column]+feature_columns].corr()\n",
    "                target_corr_results = corr_results.loc[target_column].drop(target_column)\n",
    "                target_corr_results.name = ix\n",
    "                summary = summary.append(target_corr_results)\n",
    "\n",
    "        graph_df1 = summary.reset_index()\n",
    "        graph_df1['width'] = width\n",
    "        graph_df1 = graph_df1.set_index(index_cols)\n",
    "        graph_df = graph_df.append(graph_df1)\n",
    "    graph_dfs[target_column]=graph_df"
   ]
  },
  {
   "cell_type": "code",
   "execution_count": 138,
   "metadata": {},
   "outputs": [],
   "source": [
    "for key in graph_dfs.keys():\n",
    "    graph_dfs[key] = graph_dfs[key].reset_index()"
   ]
  },
  {
   "cell_type": "code",
   "execution_count": 139,
   "metadata": {},
   "outputs": [
    {
     "data": {
      "text/html": [
       "<div>\n",
       "<style scoped>\n",
       "    .dataframe tbody tr th:only-of-type {\n",
       "        vertical-align: middle;\n",
       "    }\n",
       "\n",
       "    .dataframe tbody tr th {\n",
       "        vertical-align: top;\n",
       "    }\n",
       "\n",
       "    .dataframe thead th {\n",
       "        text-align: right;\n",
       "    }\n",
       "</style>\n",
       "<table border=\"1\" class=\"dataframe\">\n",
       "  <thead>\n",
       "    <tr style=\"text-align: right;\">\n",
       "      <th></th>\n",
       "      <th>Method</th>\n",
       "      <th>Construction</th>\n",
       "      <th>days_to_subtract1</th>\n",
       "      <th>days_to_subtract2</th>\n",
       "      <th>width</th>\n",
       "      <th>delta_lop</th>\n",
       "      <th>delta_hillside</th>\n",
       "      <th>nfrac_xstar_lop</th>\n",
       "      <th>nfrac_xstar_hillside</th>\n",
       "      <th>diameter_lop</th>\n",
       "      <th>diameter_hillside</th>\n",
       "    </tr>\n",
       "  </thead>\n",
       "  <tbody>\n",
       "    <tr>\n",
       "      <th>0</th>\n",
       "      <td>Colley</td>\n",
       "      <td>Direct</td>\n",
       "      <td>28</td>\n",
       "      <td>35</td>\n",
       "      <td>7</td>\n",
       "      <td>0.089558</td>\n",
       "      <td>0.276910</td>\n",
       "      <td>-0.005222</td>\n",
       "      <td>0.243950</td>\n",
       "      <td>0.007466</td>\n",
       "      <td>-0.026597</td>\n",
       "    </tr>\n",
       "    <tr>\n",
       "      <th>1</th>\n",
       "      <td>Colley</td>\n",
       "      <td>Indirect</td>\n",
       "      <td>28</td>\n",
       "      <td>35</td>\n",
       "      <td>7</td>\n",
       "      <td>0.277504</td>\n",
       "      <td>0.159061</td>\n",
       "      <td>0.245822</td>\n",
       "      <td>-0.395223</td>\n",
       "      <td>0.301307</td>\n",
       "      <td>-0.345514</td>\n",
       "    </tr>\n",
       "    <tr>\n",
       "      <th>2</th>\n",
       "      <td>Colley</td>\n",
       "      <td>Both</td>\n",
       "      <td>28</td>\n",
       "      <td>35</td>\n",
       "      <td>7</td>\n",
       "      <td>0.255392</td>\n",
       "      <td>0.249144</td>\n",
       "      <td>0.158624</td>\n",
       "      <td>0.065713</td>\n",
       "      <td>0.197243</td>\n",
       "      <td>-0.018779</td>\n",
       "    </tr>\n",
       "    <tr>\n",
       "      <th>3</th>\n",
       "      <td>Massey</td>\n",
       "      <td>Direct</td>\n",
       "      <td>28</td>\n",
       "      <td>35</td>\n",
       "      <td>7</td>\n",
       "      <td>0.178955</td>\n",
       "      <td>0.373124</td>\n",
       "      <td>-0.018475</td>\n",
       "      <td>0.348866</td>\n",
       "      <td>-0.226361</td>\n",
       "      <td>-0.237737</td>\n",
       "    </tr>\n",
       "    <tr>\n",
       "      <th>4</th>\n",
       "      <td>Massey</td>\n",
       "      <td>Indirect</td>\n",
       "      <td>28</td>\n",
       "      <td>35</td>\n",
       "      <td>7</td>\n",
       "      <td>0.195509</td>\n",
       "      <td>0.208005</td>\n",
       "      <td>0.172273</td>\n",
       "      <td>0.324947</td>\n",
       "      <td>0.147121</td>\n",
       "      <td>0.244718</td>\n",
       "    </tr>\n",
       "  </tbody>\n",
       "</table>\n",
       "</div>"
      ],
      "text/plain": [
       "   Method Construction  days_to_subtract1  days_to_subtract2  width  \\\n",
       "0  Colley       Direct                 28                 35      7   \n",
       "1  Colley     Indirect                 28                 35      7   \n",
       "2  Colley         Both                 28                 35      7   \n",
       "3  Massey       Direct                 28                 35      7   \n",
       "4  Massey     Indirect                 28                 35      7   \n",
       "\n",
       "   delta_lop  delta_hillside  nfrac_xstar_lop  nfrac_xstar_hillside  \\\n",
       "0   0.089558        0.276910        -0.005222              0.243950   \n",
       "1   0.277504        0.159061         0.245822             -0.395223   \n",
       "2   0.255392        0.249144         0.158624              0.065713   \n",
       "3   0.178955        0.373124        -0.018475              0.348866   \n",
       "4   0.195509        0.208005         0.172273              0.324947   \n",
       "\n",
       "   diameter_lop  diameter_hillside  \n",
       "0      0.007466          -0.026597  \n",
       "1      0.301307          -0.345514  \n",
       "2      0.197243          -0.018779  \n",
       "3     -0.226361          -0.237737  \n",
       "4      0.147121           0.244718  "
      ]
     },
     "execution_count": 139,
     "metadata": {},
     "output_type": "execute_result"
    }
   ],
   "source": [
    "graph_dfs[key].head()"
   ]
  },
  {
   "cell_type": "code",
   "execution_count": 141,
   "metadata": {},
   "outputs": [
    {
     "data": {
      "text/markdown": [
       "## top10_jaccard"
      ],
      "text/plain": [
       "<IPython.core.display.Markdown object>"
      ]
     },
     "metadata": {},
     "output_type": "display_data"
    },
    {
     "data": {
      "text/markdown": [
       "### Colley"
      ],
      "text/plain": [
       "<IPython.core.display.Markdown object>"
      ]
     },
     "metadata": {},
     "output_type": "display_data"
    },
    {
     "data": {
      "text/html": [
       "\n",
       "<div id=\"altair-viz-0e188a6368974412906505cd381eda81\"></div>\n",
       "<script type=\"text/javascript\">\n",
       "  (function(spec, embedOpt){\n",
       "    let outputDiv = document.currentScript.previousElementSibling;\n",
       "    if (outputDiv.id !== \"altair-viz-0e188a6368974412906505cd381eda81\") {\n",
       "      outputDiv = document.getElementById(\"altair-viz-0e188a6368974412906505cd381eda81\");\n",
       "    }\n",
       "    const paths = {\n",
       "      \"vega\": \"https://cdn.jsdelivr.net/npm//vega@5?noext\",\n",
       "      \"vega-lib\": \"https://cdn.jsdelivr.net/npm//vega-lib?noext\",\n",
       "      \"vega-lite\": \"https://cdn.jsdelivr.net/npm//vega-lite@4.8.1?noext\",\n",
       "      \"vega-embed\": \"https://cdn.jsdelivr.net/npm//vega-embed@6?noext\",\n",
       "    };\n",
       "\n",
       "    function loadScript(lib) {\n",
       "      return new Promise(function(resolve, reject) {\n",
       "        var s = document.createElement('script');\n",
       "        s.src = paths[lib];\n",
       "        s.async = true;\n",
       "        s.onload = () => resolve(paths[lib]);\n",
       "        s.onerror = () => reject(`Error loading script: ${paths[lib]}`);\n",
       "        document.getElementsByTagName(\"head\")[0].appendChild(s);\n",
       "      });\n",
       "    }\n",
       "\n",
       "    function showError(err) {\n",
       "      outputDiv.innerHTML = `<div class=\"error\" style=\"color:red;\">${err}</div>`;\n",
       "      throw err;\n",
       "    }\n",
       "\n",
       "    function displayChart(vegaEmbed) {\n",
       "      vegaEmbed(outputDiv, spec, embedOpt)\n",
       "        .catch(err => showError(`Javascript Error: ${err.message}<br>This usually means there's a typo in your chart specification. See the javascript console for the full traceback.`));\n",
       "    }\n",
       "\n",
       "    if(typeof define === \"function\" && define.amd) {\n",
       "      requirejs.config({paths});\n",
       "      require([\"vega-embed\"], displayChart, err => showError(`Error loading script: ${err.message}`));\n",
       "    } else if (typeof vegaEmbed === \"function\") {\n",
       "      displayChart(vegaEmbed);\n",
       "    } else {\n",
       "      loadScript(\"vega\")\n",
       "        .then(() => loadScript(\"vega-lite\"))\n",
       "        .then(() => loadScript(\"vega-embed\"))\n",
       "        .catch(showError)\n",
       "        .then(() => displayChart(vegaEmbed));\n",
       "    }\n",
       "  })({\"config\": {\"view\": {\"continuousWidth\": 400, \"continuousHeight\": 300}}, \"data\": {\"name\": \"data-393645c57d289c544c2b2337c90c2963\"}, \"mark\": \"bar\", \"encoding\": {\"color\": {\"type\": \"nominal\", \"field\": \"Construction\"}, \"column\": {\"type\": \"nominal\", \"field\": \"Construction\"}, \"row\": {\"type\": \"nominal\", \"field\": \"Feature\"}, \"x\": {\"type\": \"nominal\", \"field\": \"width\"}, \"y\": {\"type\": \"quantitative\", \"aggregate\": \"average\", \"field\": \"Value\", \"scale\": {\"domain\": [-0.6, 0.6]}}}, \"$schema\": \"https://vega.github.io/schema/vega-lite/v4.8.1.json\", \"datasets\": {\"data-393645c57d289c544c2b2337c90c2963\": [{\"Construction\": \"Direct\", \"days_to_subtract1\": 28, \"days_to_subtract2\": 35, \"width\": 7, \"Feature\": \"delta_lop\", \"Value\": -0.2686881235411964}, {\"Construction\": \"Indirect\", \"days_to_subtract1\": 28, \"days_to_subtract2\": 35, \"width\": 7, \"Feature\": \"delta_lop\", \"Value\": -0.07576781146884394}, {\"Construction\": \"Both\", \"days_to_subtract1\": 28, \"days_to_subtract2\": 35, \"width\": 7, \"Feature\": \"delta_lop\", \"Value\": -0.20819409011749646}, {\"Construction\": \"Direct\", \"days_to_subtract1\": 21, \"days_to_subtract2\": 28, \"width\": 7, \"Feature\": \"delta_lop\", \"Value\": -0.1463120757314811}, {\"Construction\": \"Indirect\", \"days_to_subtract1\": 21, \"days_to_subtract2\": 28, \"width\": 7, \"Feature\": \"delta_lop\", \"Value\": -0.27166605803869226}, {\"Construction\": \"Both\", \"days_to_subtract1\": 21, \"days_to_subtract2\": 28, \"width\": 7, \"Feature\": \"delta_lop\", \"Value\": -0.23215088351188262}, {\"Construction\": \"Direct\", \"days_to_subtract1\": 14, \"days_to_subtract2\": 21, \"width\": 7, \"Feature\": \"delta_lop\", \"Value\": -0.1888615900621286}, {\"Construction\": \"Indirect\", \"days_to_subtract1\": 14, \"days_to_subtract2\": 21, \"width\": 7, \"Feature\": \"delta_lop\", \"Value\": -0.2136566398778118}, {\"Construction\": \"Both\", \"days_to_subtract1\": 14, \"days_to_subtract2\": 21, \"width\": 7, \"Feature\": \"delta_lop\", \"Value\": -0.13055368115939714}, {\"Construction\": \"Direct\", \"days_to_subtract1\": 7, \"days_to_subtract2\": 14, \"width\": 7, \"Feature\": \"delta_lop\", \"Value\": -0.20654854509578907}, {\"Construction\": \"Indirect\", \"days_to_subtract1\": 7, \"days_to_subtract2\": 14, \"width\": 7, \"Feature\": \"delta_lop\", \"Value\": 0.17828356469617018}, {\"Construction\": \"Both\", \"days_to_subtract1\": 7, \"days_to_subtract2\": 14, \"width\": 7, \"Feature\": \"delta_lop\", \"Value\": -0.04780819207396485}, {\"Construction\": \"Direct\", \"days_to_subtract1\": 21, \"days_to_subtract2\": 35, \"width\": 14, \"Feature\": \"delta_lop\", \"Value\": 0.285510258838631}, {\"Construction\": \"Indirect\", \"days_to_subtract1\": 21, \"days_to_subtract2\": 35, \"width\": 14, \"Feature\": \"delta_lop\", \"Value\": -0.052645822488327686}, {\"Construction\": \"Both\", \"days_to_subtract1\": 21, \"days_to_subtract2\": 35, \"width\": 14, \"Feature\": \"delta_lop\", \"Value\": 0.12654954875232335}, {\"Construction\": \"Direct\", \"days_to_subtract1\": 14, \"days_to_subtract2\": 28, \"width\": 14, \"Feature\": \"delta_lop\", \"Value\": -0.0756989072524564}, {\"Construction\": \"Indirect\", \"days_to_subtract1\": 14, \"days_to_subtract2\": 28, \"width\": 14, \"Feature\": \"delta_lop\", \"Value\": -0.03847162714580221}, {\"Construction\": \"Both\", \"days_to_subtract1\": 14, \"days_to_subtract2\": 28, \"width\": 14, \"Feature\": \"delta_lop\", \"Value\": -0.10366212647112732}, {\"Construction\": \"Direct\", \"days_to_subtract1\": 7, \"days_to_subtract2\": 21, \"width\": 14, \"Feature\": \"delta_lop\", \"Value\": 0.30200294358384955}, {\"Construction\": \"Indirect\", \"days_to_subtract1\": 7, \"days_to_subtract2\": 21, \"width\": 14, \"Feature\": \"delta_lop\", \"Value\": -0.05317151989916424}, {\"Construction\": \"Both\", \"days_to_subtract1\": 7, \"days_to_subtract2\": 21, \"width\": 14, \"Feature\": \"delta_lop\", \"Value\": 0.10812053897773957}, {\"Construction\": \"Direct\", \"days_to_subtract1\": 14, \"days_to_subtract2\": 35, \"width\": 21, \"Feature\": \"delta_lop\", \"Value\": -0.25615001536881155}, {\"Construction\": \"Indirect\", \"days_to_subtract1\": 14, \"days_to_subtract2\": 35, \"width\": 21, \"Feature\": \"delta_lop\", \"Value\": -0.30080636072427597}, {\"Construction\": \"Both\", \"days_to_subtract1\": 14, \"days_to_subtract2\": 35, \"width\": 21, \"Feature\": \"delta_lop\", \"Value\": -0.24794183897081143}, {\"Construction\": \"Direct\", \"days_to_subtract1\": 7, \"days_to_subtract2\": 28, \"width\": 21, \"Feature\": \"delta_lop\", \"Value\": 0.092605092715176}, {\"Construction\": \"Indirect\", \"days_to_subtract1\": 7, \"days_to_subtract2\": 28, \"width\": 21, \"Feature\": \"delta_lop\", \"Value\": -0.2581303182710197}, {\"Construction\": \"Both\", \"days_to_subtract1\": 7, \"days_to_subtract2\": 28, \"width\": 21, \"Feature\": \"delta_lop\", \"Value\": -0.14034003986837537}, {\"Construction\": \"Direct\", \"days_to_subtract1\": 7, \"days_to_subtract2\": 35, \"width\": 28, \"Feature\": \"delta_lop\", \"Value\": -0.04294203684585601}, {\"Construction\": \"Indirect\", \"days_to_subtract1\": 7, \"days_to_subtract2\": 35, \"width\": 28, \"Feature\": \"delta_lop\", \"Value\": -0.4786872524868136}, {\"Construction\": \"Both\", \"days_to_subtract1\": 7, \"days_to_subtract2\": 35, \"width\": 28, \"Feature\": \"delta_lop\", \"Value\": -0.2865658440981263}, {\"Construction\": \"Direct\", \"days_to_subtract1\": 28, \"days_to_subtract2\": 35, \"width\": 7, \"Feature\": \"delta_hillside\", \"Value\": -0.015302146497820211}, {\"Construction\": \"Indirect\", \"days_to_subtract1\": 28, \"days_to_subtract2\": 35, \"width\": 7, \"Feature\": \"delta_hillside\", \"Value\": -0.17331487136619042}, {\"Construction\": \"Both\", \"days_to_subtract1\": 28, \"days_to_subtract2\": 35, \"width\": 7, \"Feature\": \"delta_hillside\", \"Value\": -0.29657734264358476}, {\"Construction\": \"Direct\", \"days_to_subtract1\": 21, \"days_to_subtract2\": 28, \"width\": 7, \"Feature\": \"delta_hillside\", \"Value\": -0.034697266281869435}, {\"Construction\": \"Indirect\", \"days_to_subtract1\": 21, \"days_to_subtract2\": 28, \"width\": 7, \"Feature\": \"delta_hillside\", \"Value\": -0.3218743258854267}, {\"Construction\": \"Both\", \"days_to_subtract1\": 21, \"days_to_subtract2\": 28, \"width\": 7, \"Feature\": \"delta_hillside\", \"Value\": -0.21234962182658}, {\"Construction\": \"Direct\", \"days_to_subtract1\": 14, \"days_to_subtract2\": 21, \"width\": 7, \"Feature\": \"delta_hillside\", \"Value\": 0.06347957248670832}, {\"Construction\": \"Indirect\", \"days_to_subtract1\": 14, \"days_to_subtract2\": 21, \"width\": 7, \"Feature\": \"delta_hillside\", \"Value\": -0.010661228480714753}, {\"Construction\": \"Both\", \"days_to_subtract1\": 14, \"days_to_subtract2\": 21, \"width\": 7, \"Feature\": \"delta_hillside\", \"Value\": 0.0836978723767815}, {\"Construction\": \"Direct\", \"days_to_subtract1\": 7, \"days_to_subtract2\": 14, \"width\": 7, \"Feature\": \"delta_hillside\", \"Value\": -0.21823684648822325}, {\"Construction\": \"Indirect\", \"days_to_subtract1\": 7, \"days_to_subtract2\": 14, \"width\": 7, \"Feature\": \"delta_hillside\", \"Value\": 0.05557774049354312}, {\"Construction\": \"Both\", \"days_to_subtract1\": 7, \"days_to_subtract2\": 14, \"width\": 7, \"Feature\": \"delta_hillside\", \"Value\": -0.10151910880161193}, {\"Construction\": \"Direct\", \"days_to_subtract1\": 21, \"days_to_subtract2\": 35, \"width\": 14, \"Feature\": \"delta_hillside\", \"Value\": -0.0657032378346592}, {\"Construction\": \"Indirect\", \"days_to_subtract1\": 21, \"days_to_subtract2\": 35, \"width\": 14, \"Feature\": \"delta_hillside\", \"Value\": -0.06353067795018888}, {\"Construction\": \"Both\", \"days_to_subtract1\": 21, \"days_to_subtract2\": 35, \"width\": 14, \"Feature\": \"delta_hillside\", \"Value\": -0.15491555527908213}, {\"Construction\": \"Direct\", \"days_to_subtract1\": 14, \"days_to_subtract2\": 28, \"width\": 14, \"Feature\": \"delta_hillside\", \"Value\": -0.04267253446309861}, {\"Construction\": \"Indirect\", \"days_to_subtract1\": 14, \"days_to_subtract2\": 28, \"width\": 14, \"Feature\": \"delta_hillside\", \"Value\": 0.1640580960492734}, {\"Construction\": \"Both\", \"days_to_subtract1\": 14, \"days_to_subtract2\": 28, \"width\": 14, \"Feature\": \"delta_hillside\", \"Value\": 0.3422706864537189}, {\"Construction\": \"Direct\", \"days_to_subtract1\": 7, \"days_to_subtract2\": 21, \"width\": 14, \"Feature\": \"delta_hillside\", \"Value\": 0.2249663994491891}, {\"Construction\": \"Indirect\", \"days_to_subtract1\": 7, \"days_to_subtract2\": 21, \"width\": 14, \"Feature\": \"delta_hillside\", \"Value\": 0.048095249246172186}, {\"Construction\": \"Both\", \"days_to_subtract1\": 7, \"days_to_subtract2\": 21, \"width\": 14, \"Feature\": \"delta_hillside\", \"Value\": 0.019200339882284777}, {\"Construction\": \"Direct\", \"days_to_subtract1\": 14, \"days_to_subtract2\": 35, \"width\": 21, \"Feature\": \"delta_hillside\", \"Value\": -0.23398169909187896}, {\"Construction\": \"Indirect\", \"days_to_subtract1\": 14, \"days_to_subtract2\": 35, \"width\": 21, \"Feature\": \"delta_hillside\", \"Value\": -0.11296781094455821}, {\"Construction\": \"Both\", \"days_to_subtract1\": 14, \"days_to_subtract2\": 35, \"width\": 21, \"Feature\": \"delta_hillside\", \"Value\": -0.16772038677532833}, {\"Construction\": \"Direct\", \"days_to_subtract1\": 7, \"days_to_subtract2\": 28, \"width\": 21, \"Feature\": \"delta_hillside\", \"Value\": 0.051807608287252005}, {\"Construction\": \"Indirect\", \"days_to_subtract1\": 7, \"days_to_subtract2\": 28, \"width\": 21, \"Feature\": \"delta_hillside\", \"Value\": -0.15296320571476624}, {\"Construction\": \"Both\", \"days_to_subtract1\": 7, \"days_to_subtract2\": 28, \"width\": 21, \"Feature\": \"delta_hillside\", \"Value\": -0.17741343744224908}, {\"Construction\": \"Direct\", \"days_to_subtract1\": 7, \"days_to_subtract2\": 35, \"width\": 28, \"Feature\": \"delta_hillside\", \"Value\": -0.1511824935898229}, {\"Construction\": \"Indirect\", \"days_to_subtract1\": 7, \"days_to_subtract2\": 35, \"width\": 28, \"Feature\": \"delta_hillside\", \"Value\": -0.28040268762095394}, {\"Construction\": \"Both\", \"days_to_subtract1\": 7, \"days_to_subtract2\": 35, \"width\": 28, \"Feature\": \"delta_hillside\", \"Value\": -0.3431730490900374}, {\"Construction\": \"Direct\", \"days_to_subtract1\": 28, \"days_to_subtract2\": 35, \"width\": 7, \"Feature\": \"nfrac_xstar_lop\", \"Value\": 0.2517788223522355}, {\"Construction\": \"Indirect\", \"days_to_subtract1\": 28, \"days_to_subtract2\": 35, \"width\": 7, \"Feature\": \"nfrac_xstar_lop\", \"Value\": 0.14475420410282844}, {\"Construction\": \"Both\", \"days_to_subtract1\": 28, \"days_to_subtract2\": 35, \"width\": 7, \"Feature\": \"nfrac_xstar_lop\", \"Value\": -0.05576478075646789}, {\"Construction\": \"Direct\", \"days_to_subtract1\": 21, \"days_to_subtract2\": 28, \"width\": 7, \"Feature\": \"nfrac_xstar_lop\", \"Value\": -0.15846549291312778}, {\"Construction\": \"Indirect\", \"days_to_subtract1\": 21, \"days_to_subtract2\": 28, \"width\": 7, \"Feature\": \"nfrac_xstar_lop\", \"Value\": 0.10059752455410896}, {\"Construction\": \"Both\", \"days_to_subtract1\": 21, \"days_to_subtract2\": 28, \"width\": 7, \"Feature\": \"nfrac_xstar_lop\", \"Value\": 0.09351399221327363}, {\"Construction\": \"Direct\", \"days_to_subtract1\": 14, \"days_to_subtract2\": 21, \"width\": 7, \"Feature\": \"nfrac_xstar_lop\", \"Value\": 0.07491010189485584}, {\"Construction\": \"Indirect\", \"days_to_subtract1\": 14, \"days_to_subtract2\": 21, \"width\": 7, \"Feature\": \"nfrac_xstar_lop\", \"Value\": -0.20992143758939}, {\"Construction\": \"Both\", \"days_to_subtract1\": 14, \"days_to_subtract2\": 21, \"width\": 7, \"Feature\": \"nfrac_xstar_lop\", \"Value\": -0.1736666472596614}, {\"Construction\": \"Direct\", \"days_to_subtract1\": 7, \"days_to_subtract2\": 14, \"width\": 7, \"Feature\": \"nfrac_xstar_lop\", \"Value\": -0.05147840453008051}, {\"Construction\": \"Indirect\", \"days_to_subtract1\": 7, \"days_to_subtract2\": 14, \"width\": 7, \"Feature\": \"nfrac_xstar_lop\", \"Value\": -0.06304579790100194}, {\"Construction\": \"Both\", \"days_to_subtract1\": 7, \"days_to_subtract2\": 14, \"width\": 7, \"Feature\": \"nfrac_xstar_lop\", \"Value\": 0.14005807051528713}, {\"Construction\": \"Direct\", \"days_to_subtract1\": 21, \"days_to_subtract2\": 35, \"width\": 14, \"Feature\": \"nfrac_xstar_lop\", \"Value\": 0.2062548497113692}, {\"Construction\": \"Indirect\", \"days_to_subtract1\": 21, \"days_to_subtract2\": 35, \"width\": 14, \"Feature\": \"nfrac_xstar_lop\", \"Value\": -0.18831067831407908}, {\"Construction\": \"Both\", \"days_to_subtract1\": 21, \"days_to_subtract2\": 35, \"width\": 14, \"Feature\": \"nfrac_xstar_lop\", \"Value\": 0.10053589634803663}, {\"Construction\": \"Direct\", \"days_to_subtract1\": 14, \"days_to_subtract2\": 28, \"width\": 14, \"Feature\": \"nfrac_xstar_lop\", \"Value\": -0.3074786762285745}, {\"Construction\": \"Indirect\", \"days_to_subtract1\": 14, \"days_to_subtract2\": 28, \"width\": 14, \"Feature\": \"nfrac_xstar_lop\", \"Value\": -0.0306332104174483}, {\"Construction\": \"Both\", \"days_to_subtract1\": 14, \"days_to_subtract2\": 28, \"width\": 14, \"Feature\": \"nfrac_xstar_lop\", \"Value\": -0.22794571514610237}, {\"Construction\": \"Direct\", \"days_to_subtract1\": 7, \"days_to_subtract2\": 21, \"width\": 14, \"Feature\": \"nfrac_xstar_lop\", \"Value\": 0.17895624186495918}, {\"Construction\": \"Indirect\", \"days_to_subtract1\": 7, \"days_to_subtract2\": 21, \"width\": 14, \"Feature\": \"nfrac_xstar_lop\", \"Value\": -0.25609497470350906}, {\"Construction\": \"Both\", \"days_to_subtract1\": 7, \"days_to_subtract2\": 21, \"width\": 14, \"Feature\": \"nfrac_xstar_lop\", \"Value\": 0.06914838625943798}, {\"Construction\": \"Direct\", \"days_to_subtract1\": 14, \"days_to_subtract2\": 35, \"width\": 21, \"Feature\": \"nfrac_xstar_lop\", \"Value\": 0.05027867039650612}, {\"Construction\": \"Indirect\", \"days_to_subtract1\": 14, \"days_to_subtract2\": 35, \"width\": 21, \"Feature\": \"nfrac_xstar_lop\", \"Value\": -0.11175033093952828}, {\"Construction\": \"Both\", \"days_to_subtract1\": 14, \"days_to_subtract2\": 35, \"width\": 21, \"Feature\": \"nfrac_xstar_lop\", \"Value\": -0.10889272575261678}, {\"Construction\": \"Direct\", \"days_to_subtract1\": 7, \"days_to_subtract2\": 28, \"width\": 21, \"Feature\": \"nfrac_xstar_lop\", \"Value\": -0.10919038637647024}, {\"Construction\": \"Indirect\", \"days_to_subtract1\": 7, \"days_to_subtract2\": 28, \"width\": 21, \"Feature\": \"nfrac_xstar_lop\", \"Value\": -0.06876756755035153}, {\"Construction\": \"Both\", \"days_to_subtract1\": 7, \"days_to_subtract2\": 28, \"width\": 21, \"Feature\": \"nfrac_xstar_lop\", \"Value\": 0.11881040640220132}, {\"Construction\": \"Direct\", \"days_to_subtract1\": 7, \"days_to_subtract2\": 35, \"width\": 28, \"Feature\": \"nfrac_xstar_lop\", \"Value\": 0.09755283008048873}, {\"Construction\": \"Indirect\", \"days_to_subtract1\": 7, \"days_to_subtract2\": 35, \"width\": 28, \"Feature\": \"nfrac_xstar_lop\", \"Value\": -0.1391167659893814}, {\"Construction\": \"Both\", \"days_to_subtract1\": 7, \"days_to_subtract2\": 35, \"width\": 28, \"Feature\": \"nfrac_xstar_lop\", \"Value\": 0.1820900717669601}, {\"Construction\": \"Direct\", \"days_to_subtract1\": 28, \"days_to_subtract2\": 35, \"width\": 7, \"Feature\": \"nfrac_xstar_hillside\", \"Value\": -0.28199294054749957}, {\"Construction\": \"Indirect\", \"days_to_subtract1\": 28, \"days_to_subtract2\": 35, \"width\": 7, \"Feature\": \"nfrac_xstar_hillside\", \"Value\": 0.09857091184591633}, {\"Construction\": \"Both\", \"days_to_subtract1\": 28, \"days_to_subtract2\": 35, \"width\": 7, \"Feature\": \"nfrac_xstar_hillside\", \"Value\": 0.03933065326007996}, {\"Construction\": \"Direct\", \"days_to_subtract1\": 21, \"days_to_subtract2\": 28, \"width\": 7, \"Feature\": \"nfrac_xstar_hillside\", \"Value\": 0.03828718164628572}, {\"Construction\": \"Indirect\", \"days_to_subtract1\": 21, \"days_to_subtract2\": 28, \"width\": 7, \"Feature\": \"nfrac_xstar_hillside\", \"Value\": -0.16575239096582087}, {\"Construction\": \"Both\", \"days_to_subtract1\": 21, \"days_to_subtract2\": 28, \"width\": 7, \"Feature\": \"nfrac_xstar_hillside\", \"Value\": 0.14316333473152967}, {\"Construction\": \"Direct\", \"days_to_subtract1\": 14, \"days_to_subtract2\": 21, \"width\": 7, \"Feature\": \"nfrac_xstar_hillside\", \"Value\": -0.08341978770259513}, {\"Construction\": \"Indirect\", \"days_to_subtract1\": 14, \"days_to_subtract2\": 21, \"width\": 7, \"Feature\": \"nfrac_xstar_hillside\", \"Value\": -0.08025327992179504}, {\"Construction\": \"Both\", \"days_to_subtract1\": 14, \"days_to_subtract2\": 21, \"width\": 7, \"Feature\": \"nfrac_xstar_hillside\", \"Value\": -0.28369561062944054}, {\"Construction\": \"Direct\", \"days_to_subtract1\": 7, \"days_to_subtract2\": 14, \"width\": 7, \"Feature\": \"nfrac_xstar_hillside\", \"Value\": 0.48909841902755047}, {\"Construction\": \"Indirect\", \"days_to_subtract1\": 7, \"days_to_subtract2\": 14, \"width\": 7, \"Feature\": \"nfrac_xstar_hillside\", \"Value\": -0.009470297741960822}, {\"Construction\": \"Both\", \"days_to_subtract1\": 7, \"days_to_subtract2\": 14, \"width\": 7, \"Feature\": \"nfrac_xstar_hillside\", \"Value\": 0.10392898668861413}, {\"Construction\": \"Direct\", \"days_to_subtract1\": 21, \"days_to_subtract2\": 35, \"width\": 14, \"Feature\": \"nfrac_xstar_hillside\", \"Value\": 0.13333890616736996}, {\"Construction\": \"Indirect\", \"days_to_subtract1\": 21, \"days_to_subtract2\": 35, \"width\": 14, \"Feature\": \"nfrac_xstar_hillside\", \"Value\": -0.5231242529967407}, {\"Construction\": \"Both\", \"days_to_subtract1\": 21, \"days_to_subtract2\": 35, \"width\": 14, \"Feature\": \"nfrac_xstar_hillside\", \"Value\": 0.3393549481953183}, {\"Construction\": \"Direct\", \"days_to_subtract1\": 14, \"days_to_subtract2\": 28, \"width\": 14, \"Feature\": \"nfrac_xstar_hillside\", \"Value\": -0.4423268321342567}, {\"Construction\": \"Indirect\", \"days_to_subtract1\": 14, \"days_to_subtract2\": 28, \"width\": 14, \"Feature\": \"nfrac_xstar_hillside\", \"Value\": 0.3329250104143662}, {\"Construction\": \"Both\", \"days_to_subtract1\": 14, \"days_to_subtract2\": 28, \"width\": 14, \"Feature\": \"nfrac_xstar_hillside\", \"Value\": -0.3675229429942736}, {\"Construction\": \"Direct\", \"days_to_subtract1\": 7, \"days_to_subtract2\": 21, \"width\": 14, \"Feature\": \"nfrac_xstar_hillside\", \"Value\": -0.05573289014821211}, {\"Construction\": \"Indirect\", \"days_to_subtract1\": 7, \"days_to_subtract2\": 21, \"width\": 14, \"Feature\": \"nfrac_xstar_hillside\", \"Value\": -0.46314868111063134}, {\"Construction\": \"Both\", \"days_to_subtract1\": 7, \"days_to_subtract2\": 21, \"width\": 14, \"Feature\": \"nfrac_xstar_hillside\", \"Value\": -0.0404060448094932}, {\"Construction\": \"Direct\", \"days_to_subtract1\": 14, \"days_to_subtract2\": 35, \"width\": 21, \"Feature\": \"nfrac_xstar_hillside\", \"Value\": 0.0864331803911681}, {\"Construction\": \"Indirect\", \"days_to_subtract1\": 14, \"days_to_subtract2\": 35, \"width\": 21, \"Feature\": \"nfrac_xstar_hillside\", \"Value\": 0.26569574051973105}, {\"Construction\": \"Both\", \"days_to_subtract1\": 14, \"days_to_subtract2\": 35, \"width\": 21, \"Feature\": \"nfrac_xstar_hillside\", \"Value\": -0.02964754258833249}, {\"Construction\": \"Direct\", \"days_to_subtract1\": 7, \"days_to_subtract2\": 28, \"width\": 21, \"Feature\": \"nfrac_xstar_hillside\", \"Value\": -0.12292076670543388}, {\"Construction\": \"Indirect\", \"days_to_subtract1\": 7, \"days_to_subtract2\": 28, \"width\": 21, \"Feature\": \"nfrac_xstar_hillside\", \"Value\": -0.06743985433881908}, {\"Construction\": \"Both\", \"days_to_subtract1\": 7, \"days_to_subtract2\": 28, \"width\": 21, \"Feature\": \"nfrac_xstar_hillside\", \"Value\": 0.07656788843022011}, {\"Construction\": \"Direct\", \"days_to_subtract1\": 7, \"days_to_subtract2\": 35, \"width\": 28, \"Feature\": \"nfrac_xstar_hillside\", \"Value\": -0.1273775749336335}, {\"Construction\": \"Indirect\", \"days_to_subtract1\": 7, \"days_to_subtract2\": 35, \"width\": 28, \"Feature\": \"nfrac_xstar_hillside\", \"Value\": -0.2561778679129673}, {\"Construction\": \"Both\", \"days_to_subtract1\": 7, \"days_to_subtract2\": 35, \"width\": 28, \"Feature\": \"nfrac_xstar_hillside\", \"Value\": 0.01566666690498644}, {\"Construction\": \"Direct\", \"days_to_subtract1\": 28, \"days_to_subtract2\": 35, \"width\": 7, \"Feature\": \"diameter_lop\", \"Value\": 0.3010774652144996}, {\"Construction\": \"Indirect\", \"days_to_subtract1\": 28, \"days_to_subtract2\": 35, \"width\": 7, \"Feature\": \"diameter_lop\", \"Value\": 0.12468662873886373}, {\"Construction\": \"Both\", \"days_to_subtract1\": 28, \"days_to_subtract2\": 35, \"width\": 7, \"Feature\": \"diameter_lop\", \"Value\": 0.009700683894740965}, {\"Construction\": \"Direct\", \"days_to_subtract1\": 21, \"days_to_subtract2\": 28, \"width\": 7, \"Feature\": \"diameter_lop\", \"Value\": -0.14496175085454735}, {\"Construction\": \"Indirect\", \"days_to_subtract1\": 21, \"days_to_subtract2\": 28, \"width\": 7, \"Feature\": \"diameter_lop\", \"Value\": 0.1619158031576188}, {\"Construction\": \"Both\", \"days_to_subtract1\": 21, \"days_to_subtract2\": 28, \"width\": 7, \"Feature\": \"diameter_lop\", \"Value\": 0.13613013155453554}, {\"Construction\": \"Direct\", \"days_to_subtract1\": 14, \"days_to_subtract2\": 21, \"width\": 7, \"Feature\": \"diameter_lop\", \"Value\": 0.0716996638755603}, {\"Construction\": \"Indirect\", \"days_to_subtract1\": 14, \"days_to_subtract2\": 21, \"width\": 7, \"Feature\": \"diameter_lop\", \"Value\": -0.21316736843046255}, {\"Construction\": \"Both\", \"days_to_subtract1\": 14, \"days_to_subtract2\": 21, \"width\": 7, \"Feature\": \"diameter_lop\", \"Value\": -0.20060527013869858}, {\"Construction\": \"Direct\", \"days_to_subtract1\": 7, \"days_to_subtract2\": 14, \"width\": 7, \"Feature\": \"diameter_lop\", \"Value\": -0.020900332291795633}, {\"Construction\": \"Indirect\", \"days_to_subtract1\": 7, \"days_to_subtract2\": 14, \"width\": 7, \"Feature\": \"diameter_lop\", \"Value\": -0.06566005330991506}, {\"Construction\": \"Both\", \"days_to_subtract1\": 7, \"days_to_subtract2\": 14, \"width\": 7, \"Feature\": \"diameter_lop\", \"Value\": 0.14005807051528713}, {\"Construction\": \"Direct\", \"days_to_subtract1\": 21, \"days_to_subtract2\": 35, \"width\": 14, \"Feature\": \"diameter_lop\", \"Value\": 0.20917910322202413}, {\"Construction\": \"Indirect\", \"days_to_subtract1\": 21, \"days_to_subtract2\": 35, \"width\": 14, \"Feature\": \"diameter_lop\", \"Value\": -0.2116382821024335}, {\"Construction\": \"Both\", \"days_to_subtract1\": 21, \"days_to_subtract2\": 35, \"width\": 14, \"Feature\": \"diameter_lop\", \"Value\": 0.09880490793366584}, {\"Construction\": \"Direct\", \"days_to_subtract1\": 14, \"days_to_subtract2\": 28, \"width\": 14, \"Feature\": \"diameter_lop\", \"Value\": -0.3474420621346847}, {\"Construction\": \"Indirect\", \"days_to_subtract1\": 14, \"days_to_subtract2\": 28, \"width\": 14, \"Feature\": \"diameter_lop\", \"Value\": -0.06787090711157133}, {\"Construction\": \"Both\", \"days_to_subtract1\": 14, \"days_to_subtract2\": 28, \"width\": 14, \"Feature\": \"diameter_lop\", \"Value\": -0.2446518420751497}, {\"Construction\": \"Direct\", \"days_to_subtract1\": 7, \"days_to_subtract2\": 21, \"width\": 14, \"Feature\": \"diameter_lop\", \"Value\": 0.14471134893577303}, {\"Construction\": \"Indirect\", \"days_to_subtract1\": 7, \"days_to_subtract2\": 21, \"width\": 14, \"Feature\": \"diameter_lop\", \"Value\": -0.2525824307799693}, {\"Construction\": \"Both\", \"days_to_subtract1\": 7, \"days_to_subtract2\": 21, \"width\": 14, \"Feature\": \"diameter_lop\", \"Value\": 0.06914838625943798}, {\"Construction\": \"Direct\", \"days_to_subtract1\": 14, \"days_to_subtract2\": 35, \"width\": 21, \"Feature\": \"diameter_lop\", \"Value\": 0.0822888590534749}, {\"Construction\": \"Indirect\", \"days_to_subtract1\": 14, \"days_to_subtract2\": 35, \"width\": 21, \"Feature\": \"diameter_lop\", \"Value\": -0.0542957263274098}, {\"Construction\": \"Both\", \"days_to_subtract1\": 14, \"days_to_subtract2\": 35, \"width\": 21, \"Feature\": \"diameter_lop\", \"Value\": -0.08094955684789626}, {\"Construction\": \"Direct\", \"days_to_subtract1\": 7, \"days_to_subtract2\": 28, \"width\": 21, \"Feature\": \"diameter_lop\", \"Value\": -0.15968591980679142}, {\"Construction\": \"Indirect\", \"days_to_subtract1\": 7, \"days_to_subtract2\": 28, \"width\": 21, \"Feature\": \"diameter_lop\", \"Value\": -0.09690158259081262}, {\"Construction\": \"Both\", \"days_to_subtract1\": 7, \"days_to_subtract2\": 28, \"width\": 21, \"Feature\": \"diameter_lop\", \"Value\": 0.11881040640220132}, {\"Construction\": \"Direct\", \"days_to_subtract1\": 7, \"days_to_subtract2\": 35, \"width\": 28, \"Feature\": \"diameter_lop\", \"Value\": 0.0862188178955762}, {\"Construction\": \"Indirect\", \"days_to_subtract1\": 7, \"days_to_subtract2\": 35, \"width\": 28, \"Feature\": \"diameter_lop\", \"Value\": -0.15135828832606446}, {\"Construction\": \"Both\", \"days_to_subtract1\": 7, \"days_to_subtract2\": 35, \"width\": 28, \"Feature\": \"diameter_lop\", \"Value\": 0.1820900717669601}, {\"Construction\": \"Direct\", \"days_to_subtract1\": 28, \"days_to_subtract2\": 35, \"width\": 7, \"Feature\": \"diameter_hillside\", \"Value\": 0.19449232040943898}, {\"Construction\": \"Indirect\", \"days_to_subtract1\": 28, \"days_to_subtract2\": 35, \"width\": 7, \"Feature\": \"diameter_hillside\", \"Value\": 0.08929378890394675}, {\"Construction\": \"Both\", \"days_to_subtract1\": 28, \"days_to_subtract2\": 35, \"width\": 7, \"Feature\": \"diameter_hillside\", \"Value\": 0.08811369883339139}, {\"Construction\": \"Direct\", \"days_to_subtract1\": 21, \"days_to_subtract2\": 28, \"width\": 7, \"Feature\": \"diameter_hillside\", \"Value\": -0.02993011501569019}, {\"Construction\": \"Indirect\", \"days_to_subtract1\": 21, \"days_to_subtract2\": 28, \"width\": 7, \"Feature\": \"diameter_hillside\", \"Value\": -0.1662161198665167}, {\"Construction\": \"Both\", \"days_to_subtract1\": 21, \"days_to_subtract2\": 28, \"width\": 7, \"Feature\": \"diameter_hillside\", \"Value\": 0.15366587908239698}, {\"Construction\": \"Direct\", \"days_to_subtract1\": 14, \"days_to_subtract2\": 21, \"width\": 7, \"Feature\": \"diameter_hillside\", \"Value\": -0.08739966315813458}, {\"Construction\": \"Indirect\", \"days_to_subtract1\": 14, \"days_to_subtract2\": 21, \"width\": 7, \"Feature\": \"diameter_hillside\", \"Value\": -0.12691886447368333}, {\"Construction\": \"Both\", \"days_to_subtract1\": 14, \"days_to_subtract2\": 21, \"width\": 7, \"Feature\": \"diameter_hillside\", \"Value\": -0.28369561062944054}, {\"Construction\": \"Direct\", \"days_to_subtract1\": 7, \"days_to_subtract2\": 14, \"width\": 7, \"Feature\": \"diameter_hillside\", \"Value\": 0.20284162982439155}, {\"Construction\": \"Indirect\", \"days_to_subtract1\": 7, \"days_to_subtract2\": 14, \"width\": 7, \"Feature\": \"diameter_hillside\", \"Value\": -0.009412776163390108}, {\"Construction\": \"Both\", \"days_to_subtract1\": 7, \"days_to_subtract2\": 14, \"width\": 7, \"Feature\": \"diameter_hillside\", \"Value\": 0.16224501517931536}, {\"Construction\": \"Direct\", \"days_to_subtract1\": 21, \"days_to_subtract2\": 35, \"width\": 14, \"Feature\": \"diameter_hillside\", \"Value\": 0.04889459642035236}, {\"Construction\": \"Indirect\", \"days_to_subtract1\": 21, \"days_to_subtract2\": 35, \"width\": 14, \"Feature\": \"diameter_hillside\", \"Value\": -0.5336681315563839}, {\"Construction\": \"Both\", \"days_to_subtract1\": 21, \"days_to_subtract2\": 35, \"width\": 14, \"Feature\": \"diameter_hillside\", \"Value\": 0.37273217973812184}, {\"Construction\": \"Direct\", \"days_to_subtract1\": 14, \"days_to_subtract2\": 28, \"width\": 14, \"Feature\": \"diameter_hillside\", \"Value\": -0.4231427673696261}, {\"Construction\": \"Indirect\", \"days_to_subtract1\": 14, \"days_to_subtract2\": 28, \"width\": 14, \"Feature\": \"diameter_hillside\", \"Value\": 0.2962788015591574}, {\"Construction\": \"Both\", \"days_to_subtract1\": 14, \"days_to_subtract2\": 28, \"width\": 14, \"Feature\": \"diameter_hillside\", \"Value\": -0.3675229429942736}, {\"Construction\": \"Direct\", \"days_to_subtract1\": 7, \"days_to_subtract2\": 21, \"width\": 14, \"Feature\": \"diameter_hillside\", \"Value\": 0.035821941135985066}, {\"Construction\": \"Indirect\", \"days_to_subtract1\": 7, \"days_to_subtract2\": 21, \"width\": 14, \"Feature\": \"diameter_hillside\", \"Value\": -0.479350436459746}, {\"Construction\": \"Both\", \"days_to_subtract1\": 7, \"days_to_subtract2\": 21, \"width\": 14, \"Feature\": \"diameter_hillside\", \"Value\": -0.013818567329648698}, {\"Construction\": \"Direct\", \"days_to_subtract1\": 14, \"days_to_subtract2\": 35, \"width\": 21, \"Feature\": \"diameter_hillside\", \"Value\": 0.1150058674510057}, {\"Construction\": \"Indirect\", \"days_to_subtract1\": 14, \"days_to_subtract2\": 35, \"width\": 21, \"Feature\": \"diameter_hillside\", \"Value\": 0.20509890183494844}, {\"Construction\": \"Both\", \"days_to_subtract1\": 14, \"days_to_subtract2\": 35, \"width\": 21, \"Feature\": \"diameter_hillside\", \"Value\": -0.02964754258833249}, {\"Construction\": \"Direct\", \"days_to_subtract1\": 7, \"days_to_subtract2\": 28, \"width\": 21, \"Feature\": \"diameter_hillside\", \"Value\": 0.03130290579538092}, {\"Construction\": \"Indirect\", \"days_to_subtract1\": 7, \"days_to_subtract2\": 28, \"width\": 21, \"Feature\": \"diameter_hillside\", \"Value\": -0.012899368474246074}, {\"Construction\": \"Both\", \"days_to_subtract1\": 7, \"days_to_subtract2\": 28, \"width\": 21, \"Feature\": \"diameter_hillside\", \"Value\": 0.10411399271028127}, {\"Construction\": \"Direct\", \"days_to_subtract1\": 7, \"days_to_subtract2\": 35, \"width\": 28, \"Feature\": \"diameter_hillside\", \"Value\": 0.21946348778067826}, {\"Construction\": \"Indirect\", \"days_to_subtract1\": 7, \"days_to_subtract2\": 35, \"width\": 28, \"Feature\": \"diameter_hillside\", \"Value\": -0.19312387994124128}, {\"Construction\": \"Both\", \"days_to_subtract1\": 7, \"days_to_subtract2\": 35, \"width\": 28, \"Feature\": \"diameter_hillside\", \"Value\": 0.01778901153224182}]}}, {\"mode\": \"vega-lite\"});\n",
       "</script>"
      ],
      "text/plain": [
       "alt.Chart(...)"
      ]
     },
     "metadata": {},
     "output_type": "display_data"
    },
    {
     "data": {
      "text/markdown": [
       "### Massey"
      ],
      "text/plain": [
       "<IPython.core.display.Markdown object>"
      ]
     },
     "metadata": {},
     "output_type": "display_data"
    },
    {
     "data": {
      "text/html": [
       "\n",
       "<div id=\"altair-viz-89f523ab325c4fd88f58367db6fe8d9a\"></div>\n",
       "<script type=\"text/javascript\">\n",
       "  (function(spec, embedOpt){\n",
       "    let outputDiv = document.currentScript.previousElementSibling;\n",
       "    if (outputDiv.id !== \"altair-viz-89f523ab325c4fd88f58367db6fe8d9a\") {\n",
       "      outputDiv = document.getElementById(\"altair-viz-89f523ab325c4fd88f58367db6fe8d9a\");\n",
       "    }\n",
       "    const paths = {\n",
       "      \"vega\": \"https://cdn.jsdelivr.net/npm//vega@5?noext\",\n",
       "      \"vega-lib\": \"https://cdn.jsdelivr.net/npm//vega-lib?noext\",\n",
       "      \"vega-lite\": \"https://cdn.jsdelivr.net/npm//vega-lite@4.8.1?noext\",\n",
       "      \"vega-embed\": \"https://cdn.jsdelivr.net/npm//vega-embed@6?noext\",\n",
       "    };\n",
       "\n",
       "    function loadScript(lib) {\n",
       "      return new Promise(function(resolve, reject) {\n",
       "        var s = document.createElement('script');\n",
       "        s.src = paths[lib];\n",
       "        s.async = true;\n",
       "        s.onload = () => resolve(paths[lib]);\n",
       "        s.onerror = () => reject(`Error loading script: ${paths[lib]}`);\n",
       "        document.getElementsByTagName(\"head\")[0].appendChild(s);\n",
       "      });\n",
       "    }\n",
       "\n",
       "    function showError(err) {\n",
       "      outputDiv.innerHTML = `<div class=\"error\" style=\"color:red;\">${err}</div>`;\n",
       "      throw err;\n",
       "    }\n",
       "\n",
       "    function displayChart(vegaEmbed) {\n",
       "      vegaEmbed(outputDiv, spec, embedOpt)\n",
       "        .catch(err => showError(`Javascript Error: ${err.message}<br>This usually means there's a typo in your chart specification. See the javascript console for the full traceback.`));\n",
       "    }\n",
       "\n",
       "    if(typeof define === \"function\" && define.amd) {\n",
       "      requirejs.config({paths});\n",
       "      require([\"vega-embed\"], displayChart, err => showError(`Error loading script: ${err.message}`));\n",
       "    } else if (typeof vegaEmbed === \"function\") {\n",
       "      displayChart(vegaEmbed);\n",
       "    } else {\n",
       "      loadScript(\"vega\")\n",
       "        .then(() => loadScript(\"vega-lite\"))\n",
       "        .then(() => loadScript(\"vega-embed\"))\n",
       "        .catch(showError)\n",
       "        .then(() => displayChart(vegaEmbed));\n",
       "    }\n",
       "  })({\"config\": {\"view\": {\"continuousWidth\": 400, \"continuousHeight\": 300}}, \"data\": {\"name\": \"data-04253804f9ec913e5a55f47c979265d9\"}, \"mark\": \"bar\", \"encoding\": {\"color\": {\"type\": \"nominal\", \"field\": \"Construction\"}, \"column\": {\"type\": \"nominal\", \"field\": \"Construction\"}, \"row\": {\"type\": \"nominal\", \"field\": \"Feature\"}, \"x\": {\"type\": \"nominal\", \"field\": \"width\"}, \"y\": {\"type\": \"quantitative\", \"aggregate\": \"average\", \"field\": \"Value\", \"scale\": {\"domain\": [-0.6, 0.6]}}}, \"$schema\": \"https://vega.github.io/schema/vega-lite/v4.8.1.json\", \"datasets\": {\"data-04253804f9ec913e5a55f47c979265d9\": [{\"Construction\": \"Direct\", \"days_to_subtract1\": 28, \"days_to_subtract2\": 35, \"width\": 7, \"Feature\": \"delta_lop\", \"Value\": -0.08336776766852842}, {\"Construction\": \"Indirect\", \"days_to_subtract1\": 28, \"days_to_subtract2\": 35, \"width\": 7, \"Feature\": \"delta_lop\", \"Value\": 0.2205447540531643}, {\"Construction\": \"Both\", \"days_to_subtract1\": 28, \"days_to_subtract2\": 35, \"width\": 7, \"Feature\": \"delta_lop\", \"Value\": 0.15426557392769993}, {\"Construction\": \"Direct\", \"days_to_subtract1\": 21, \"days_to_subtract2\": 28, \"width\": 7, \"Feature\": \"delta_lop\", \"Value\": -0.02151657414559648}, {\"Construction\": \"Indirect\", \"days_to_subtract1\": 21, \"days_to_subtract2\": 28, \"width\": 7, \"Feature\": \"delta_lop\", \"Value\": -0.14972578075718104}, {\"Construction\": \"Both\", \"days_to_subtract1\": 21, \"days_to_subtract2\": 28, \"width\": 7, \"Feature\": \"delta_lop\", \"Value\": -0.14164245894921565}, {\"Construction\": \"Direct\", \"days_to_subtract1\": 14, \"days_to_subtract2\": 21, \"width\": 7, \"Feature\": \"delta_lop\", \"Value\": 0.26271313860506945}, {\"Construction\": \"Indirect\", \"days_to_subtract1\": 14, \"days_to_subtract2\": 21, \"width\": 7, \"Feature\": \"delta_lop\", \"Value\": 0.12984258926517775}, {\"Construction\": \"Both\", \"days_to_subtract1\": 14, \"days_to_subtract2\": 21, \"width\": 7, \"Feature\": \"delta_lop\", \"Value\": 0.265764605970301}, {\"Construction\": \"Direct\", \"days_to_subtract1\": 7, \"days_to_subtract2\": 14, \"width\": 7, \"Feature\": \"delta_lop\", \"Value\": -0.08585612216223805}, {\"Construction\": \"Indirect\", \"days_to_subtract1\": 7, \"days_to_subtract2\": 14, \"width\": 7, \"Feature\": \"delta_lop\", \"Value\": 0.014715016138551326}, {\"Construction\": \"Both\", \"days_to_subtract1\": 7, \"days_to_subtract2\": 14, \"width\": 7, \"Feature\": \"delta_lop\", \"Value\": 0.05094545346305078}, {\"Construction\": \"Direct\", \"days_to_subtract1\": 21, \"days_to_subtract2\": 35, \"width\": 14, \"Feature\": \"delta_lop\", \"Value\": -0.16354107882224408}, {\"Construction\": \"Indirect\", \"days_to_subtract1\": 21, \"days_to_subtract2\": 35, \"width\": 14, \"Feature\": \"delta_lop\", \"Value\": -0.22838233993698234}, {\"Construction\": \"Both\", \"days_to_subtract1\": 21, \"days_to_subtract2\": 35, \"width\": 14, \"Feature\": \"delta_lop\", \"Value\": -0.23928495648753115}, {\"Construction\": \"Direct\", \"days_to_subtract1\": 14, \"days_to_subtract2\": 28, \"width\": 14, \"Feature\": \"delta_lop\", \"Value\": 0.20487172472829937}, {\"Construction\": \"Indirect\", \"days_to_subtract1\": 14, \"days_to_subtract2\": 28, \"width\": 14, \"Feature\": \"delta_lop\", \"Value\": 0.3994797922112349}, {\"Construction\": \"Both\", \"days_to_subtract1\": 14, \"days_to_subtract2\": 28, \"width\": 14, \"Feature\": \"delta_lop\", \"Value\": 0.3725923241326396}, {\"Construction\": \"Direct\", \"days_to_subtract1\": 7, \"days_to_subtract2\": 21, \"width\": 14, \"Feature\": \"delta_lop\", \"Value\": -0.06900985024878749}, {\"Construction\": \"Indirect\", \"days_to_subtract1\": 7, \"days_to_subtract2\": 21, \"width\": 14, \"Feature\": \"delta_lop\", \"Value\": -0.09116945655142566}, {\"Construction\": \"Both\", \"days_to_subtract1\": 7, \"days_to_subtract2\": 21, \"width\": 14, \"Feature\": \"delta_lop\", \"Value\": -0.06089107873753832}, {\"Construction\": \"Direct\", \"days_to_subtract1\": 14, \"days_to_subtract2\": 35, \"width\": 21, \"Feature\": \"delta_lop\", \"Value\": 0.4026307820561102}, {\"Construction\": \"Indirect\", \"days_to_subtract1\": 14, \"days_to_subtract2\": 35, \"width\": 21, \"Feature\": \"delta_lop\", \"Value\": 0.26736221163412566}, {\"Construction\": \"Both\", \"days_to_subtract1\": 14, \"days_to_subtract2\": 35, \"width\": 21, \"Feature\": \"delta_lop\", \"Value\": 0.36906230714539384}, {\"Construction\": \"Direct\", \"days_to_subtract1\": 7, \"days_to_subtract2\": 28, \"width\": 21, \"Feature\": \"delta_lop\", \"Value\": 0.35762407970658916}, {\"Construction\": \"Indirect\", \"days_to_subtract1\": 7, \"days_to_subtract2\": 28, \"width\": 21, \"Feature\": \"delta_lop\", \"Value\": 0.5605813644855794}, {\"Construction\": \"Both\", \"days_to_subtract1\": 7, \"days_to_subtract2\": 28, \"width\": 21, \"Feature\": \"delta_lop\", \"Value\": 0.5196308046989417}, {\"Construction\": \"Direct\", \"days_to_subtract1\": 7, \"days_to_subtract2\": 35, \"width\": 28, \"Feature\": \"delta_lop\", \"Value\": 0.3186127500698022}, {\"Construction\": \"Indirect\", \"days_to_subtract1\": 7, \"days_to_subtract2\": 35, \"width\": 28, \"Feature\": \"delta_lop\", \"Value\": 0.2691884306809423}, {\"Construction\": \"Both\", \"days_to_subtract1\": 7, \"days_to_subtract2\": 35, \"width\": 28, \"Feature\": \"delta_lop\", \"Value\": 0.29804644690396487}, {\"Construction\": \"Direct\", \"days_to_subtract1\": 28, \"days_to_subtract2\": 35, \"width\": 7, \"Feature\": \"delta_hillside\", \"Value\": 0.16116935709431932}, {\"Construction\": \"Indirect\", \"days_to_subtract1\": 28, \"days_to_subtract2\": 35, \"width\": 7, \"Feature\": \"delta_hillside\", \"Value\": 0.06614217139459651}, {\"Construction\": \"Both\", \"days_to_subtract1\": 28, \"days_to_subtract2\": 35, \"width\": 7, \"Feature\": \"delta_hillside\", \"Value\": 0.09618769503452088}, {\"Construction\": \"Direct\", \"days_to_subtract1\": 21, \"days_to_subtract2\": 28, \"width\": 7, \"Feature\": \"delta_hillside\", \"Value\": -0.05264373264316558}, {\"Construction\": \"Indirect\", \"days_to_subtract1\": 21, \"days_to_subtract2\": 28, \"width\": 7, \"Feature\": \"delta_hillside\", \"Value\": 0.00033305811899620965}, {\"Construction\": \"Both\", \"days_to_subtract1\": 21, \"days_to_subtract2\": 28, \"width\": 7, \"Feature\": \"delta_hillside\", \"Value\": -0.049414419584371594}, {\"Construction\": \"Direct\", \"days_to_subtract1\": 14, \"days_to_subtract2\": 21, \"width\": 7, \"Feature\": \"delta_hillside\", \"Value\": 0.25815148156741125}, {\"Construction\": \"Indirect\", \"days_to_subtract1\": 14, \"days_to_subtract2\": 21, \"width\": 7, \"Feature\": \"delta_hillside\", \"Value\": 0.1914459795221557}, {\"Construction\": \"Both\", \"days_to_subtract1\": 14, \"days_to_subtract2\": 21, \"width\": 7, \"Feature\": \"delta_hillside\", \"Value\": 0.2262641127694915}, {\"Construction\": \"Direct\", \"days_to_subtract1\": 7, \"days_to_subtract2\": 14, \"width\": 7, \"Feature\": \"delta_hillside\", \"Value\": -0.01532276647129301}, {\"Construction\": \"Indirect\", \"days_to_subtract1\": 7, \"days_to_subtract2\": 14, \"width\": 7, \"Feature\": \"delta_hillside\", \"Value\": 0.31279087589424354}, {\"Construction\": \"Both\", \"days_to_subtract1\": 7, \"days_to_subtract2\": 14, \"width\": 7, \"Feature\": \"delta_hillside\", \"Value\": 0.2608902401444701}, {\"Construction\": \"Direct\", \"days_to_subtract1\": 21, \"days_to_subtract2\": 35, \"width\": 14, \"Feature\": \"delta_hillside\", \"Value\": -0.1713558427645264}, {\"Construction\": \"Indirect\", \"days_to_subtract1\": 21, \"days_to_subtract2\": 35, \"width\": 14, \"Feature\": \"delta_hillside\", \"Value\": -0.3010299192352103}, {\"Construction\": \"Both\", \"days_to_subtract1\": 21, \"days_to_subtract2\": 35, \"width\": 14, \"Feature\": \"delta_hillside\", \"Value\": -0.31244709981461244}, {\"Construction\": \"Direct\", \"days_to_subtract1\": 14, \"days_to_subtract2\": 28, \"width\": 14, \"Feature\": \"delta_hillside\", \"Value\": 0.09862310120124733}, {\"Construction\": \"Indirect\", \"days_to_subtract1\": 14, \"days_to_subtract2\": 28, \"width\": 14, \"Feature\": \"delta_hillside\", \"Value\": 0.30851057264066084}, {\"Construction\": \"Both\", \"days_to_subtract1\": 14, \"days_to_subtract2\": 28, \"width\": 14, \"Feature\": \"delta_hillside\", \"Value\": 0.2238507133824565}, {\"Construction\": \"Direct\", \"days_to_subtract1\": 7, \"days_to_subtract2\": 21, \"width\": 14, \"Feature\": \"delta_hillside\", \"Value\": 0.07892176775269288}, {\"Construction\": \"Indirect\", \"days_to_subtract1\": 7, \"days_to_subtract2\": 21, \"width\": 14, \"Feature\": \"delta_hillside\", \"Value\": 0.07278170414235748}, {\"Construction\": \"Both\", \"days_to_subtract1\": 7, \"days_to_subtract2\": 21, \"width\": 14, \"Feature\": \"delta_hillside\", \"Value\": 0.017004933867392186}, {\"Construction\": \"Direct\", \"days_to_subtract1\": 14, \"days_to_subtract2\": 35, \"width\": 21, \"Feature\": \"delta_hillside\", \"Value\": 0.19900862832826183}, {\"Construction\": \"Indirect\", \"days_to_subtract1\": 14, \"days_to_subtract2\": 35, \"width\": 21, \"Feature\": \"delta_hillside\", \"Value\": 0.23752418846950807}, {\"Construction\": \"Both\", \"days_to_subtract1\": 14, \"days_to_subtract2\": 35, \"width\": 21, \"Feature\": \"delta_hillside\", \"Value\": 0.19556685051685646}, {\"Construction\": \"Direct\", \"days_to_subtract1\": 7, \"days_to_subtract2\": 28, \"width\": 21, \"Feature\": \"delta_hillside\", \"Value\": 0.44540016502831703}, {\"Construction\": \"Indirect\", \"days_to_subtract1\": 7, \"days_to_subtract2\": 28, \"width\": 21, \"Feature\": \"delta_hillside\", \"Value\": 0.6118270190174772}, {\"Construction\": \"Both\", \"days_to_subtract1\": 7, \"days_to_subtract2\": 28, \"width\": 21, \"Feature\": \"delta_hillside\", \"Value\": 0.5103496114758224}, {\"Construction\": \"Direct\", \"days_to_subtract1\": 7, \"days_to_subtract2\": 35, \"width\": 28, \"Feature\": \"delta_hillside\", \"Value\": 0.41617941884899}, {\"Construction\": \"Indirect\", \"days_to_subtract1\": 7, \"days_to_subtract2\": 35, \"width\": 28, \"Feature\": \"delta_hillside\", \"Value\": 0.33361423518028294}, {\"Construction\": \"Both\", \"days_to_subtract1\": 7, \"days_to_subtract2\": 35, \"width\": 28, \"Feature\": \"delta_hillside\", \"Value\": 0.28213811853464943}, {\"Construction\": \"Direct\", \"days_to_subtract1\": 28, \"days_to_subtract2\": 35, \"width\": 7, \"Feature\": \"nfrac_xstar_lop\", \"Value\": -0.3751076169154514}, {\"Construction\": \"Indirect\", \"days_to_subtract1\": 28, \"days_to_subtract2\": 35, \"width\": 7, \"Feature\": \"nfrac_xstar_lop\", \"Value\": 0.24854515557498696}, {\"Construction\": \"Both\", \"days_to_subtract1\": 28, \"days_to_subtract2\": 35, \"width\": 7, \"Feature\": \"nfrac_xstar_lop\", \"Value\": 0.22576480280781186}, {\"Construction\": \"Direct\", \"days_to_subtract1\": 21, \"days_to_subtract2\": 28, \"width\": 7, \"Feature\": \"nfrac_xstar_lop\", \"Value\": 0.2947564117573096}, {\"Construction\": \"Indirect\", \"days_to_subtract1\": 21, \"days_to_subtract2\": 28, \"width\": 7, \"Feature\": \"nfrac_xstar_lop\", \"Value\": 0.09485962433390469}, {\"Construction\": \"Both\", \"days_to_subtract1\": 21, \"days_to_subtract2\": 28, \"width\": 7, \"Feature\": \"nfrac_xstar_lop\", \"Value\": -0.18592445034090552}, {\"Construction\": \"Direct\", \"days_to_subtract1\": 14, \"days_to_subtract2\": 21, \"width\": 7, \"Feature\": \"nfrac_xstar_lop\", \"Value\": -0.28175514256375894}, {\"Construction\": \"Indirect\", \"days_to_subtract1\": 14, \"days_to_subtract2\": 21, \"width\": 7, \"Feature\": \"nfrac_xstar_lop\", \"Value\": -0.09146865183538508}, {\"Construction\": \"Both\", \"days_to_subtract1\": 14, \"days_to_subtract2\": 21, \"width\": 7, \"Feature\": \"nfrac_xstar_lop\", \"Value\": -0.4080727522346454}, {\"Construction\": \"Direct\", \"days_to_subtract1\": 7, \"days_to_subtract2\": 14, \"width\": 7, \"Feature\": \"nfrac_xstar_lop\", \"Value\": -0.4120584750021493}, {\"Construction\": \"Indirect\", \"days_to_subtract1\": 7, \"days_to_subtract2\": 14, \"width\": 7, \"Feature\": \"nfrac_xstar_lop\", \"Value\": -0.2849666982996423}, {\"Construction\": \"Both\", \"days_to_subtract1\": 7, \"days_to_subtract2\": 14, \"width\": 7, \"Feature\": \"nfrac_xstar_lop\", \"Value\": -0.04427691425976122}, {\"Construction\": \"Direct\", \"days_to_subtract1\": 21, \"days_to_subtract2\": 35, \"width\": 14, \"Feature\": \"nfrac_xstar_lop\", \"Value\": -0.06086576077189434}, {\"Construction\": \"Indirect\", \"days_to_subtract1\": 21, \"days_to_subtract2\": 35, \"width\": 14, \"Feature\": \"nfrac_xstar_lop\", \"Value\": 0.1912907324823611}, {\"Construction\": \"Both\", \"days_to_subtract1\": 21, \"days_to_subtract2\": 35, \"width\": 14, \"Feature\": \"nfrac_xstar_lop\", \"Value\": 0.4605658781033859}, {\"Construction\": \"Direct\", \"days_to_subtract1\": 14, \"days_to_subtract2\": 28, \"width\": 14, \"Feature\": \"nfrac_xstar_lop\", \"Value\": 0.07785920586399321}, {\"Construction\": \"Indirect\", \"days_to_subtract1\": 14, \"days_to_subtract2\": 28, \"width\": 14, \"Feature\": \"nfrac_xstar_lop\", \"Value\": 0.1085268490895646}, {\"Construction\": \"Both\", \"days_to_subtract1\": 14, \"days_to_subtract2\": 28, \"width\": 14, \"Feature\": \"nfrac_xstar_lop\", \"Value\": -0.13358221165224696}, {\"Construction\": \"Direct\", \"days_to_subtract1\": 7, \"days_to_subtract2\": 21, \"width\": 14, \"Feature\": \"nfrac_xstar_lop\", \"Value\": 0.08182553238394925}, {\"Construction\": \"Indirect\", \"days_to_subtract1\": 7, \"days_to_subtract2\": 21, \"width\": 14, \"Feature\": \"nfrac_xstar_lop\", \"Value\": -0.339268640435999}, {\"Construction\": \"Both\", \"days_to_subtract1\": 7, \"days_to_subtract2\": 21, \"width\": 14, \"Feature\": \"nfrac_xstar_lop\", \"Value\": 0.024965497090624192}, {\"Construction\": \"Direct\", \"days_to_subtract1\": 14, \"days_to_subtract2\": 35, \"width\": 21, \"Feature\": \"nfrac_xstar_lop\", \"Value\": 0.07948657011389434}, {\"Construction\": \"Indirect\", \"days_to_subtract1\": 14, \"days_to_subtract2\": 35, \"width\": 21, \"Feature\": \"nfrac_xstar_lop\", \"Value\": -0.10383246698892948}, {\"Construction\": \"Both\", \"days_to_subtract1\": 14, \"days_to_subtract2\": 35, \"width\": 21, \"Feature\": \"nfrac_xstar_lop\", \"Value\": -0.4143912216970061}, {\"Construction\": \"Direct\", \"days_to_subtract1\": 7, \"days_to_subtract2\": 28, \"width\": 21, \"Feature\": \"nfrac_xstar_lop\", \"Value\": -0.08613337053056468}, {\"Construction\": \"Indirect\", \"days_to_subtract1\": 7, \"days_to_subtract2\": 28, \"width\": 21, \"Feature\": \"nfrac_xstar_lop\", \"Value\": -0.5009413039754558}, {\"Construction\": \"Both\", \"days_to_subtract1\": 7, \"days_to_subtract2\": 28, \"width\": 21, \"Feature\": \"nfrac_xstar_lop\", \"Value\": -0.05601341589389984}, {\"Construction\": \"Direct\", \"days_to_subtract1\": 7, \"days_to_subtract2\": 35, \"width\": 28, \"Feature\": \"nfrac_xstar_lop\", \"Value\": 0.24332921230203583}, {\"Construction\": \"Indirect\", \"days_to_subtract1\": 7, \"days_to_subtract2\": 35, \"width\": 28, \"Feature\": \"nfrac_xstar_lop\", \"Value\": -0.5125705478204453}, {\"Construction\": \"Both\", \"days_to_subtract1\": 7, \"days_to_subtract2\": 35, \"width\": 28, \"Feature\": \"nfrac_xstar_lop\", \"Value\": -0.2342476343923569}, {\"Construction\": \"Direct\", \"days_to_subtract1\": 28, \"days_to_subtract2\": 35, \"width\": 7, \"Feature\": \"nfrac_xstar_hillside\", \"Value\": 0.1501682792220065}, {\"Construction\": \"Indirect\", \"days_to_subtract1\": 28, \"days_to_subtract2\": 35, \"width\": 7, \"Feature\": \"nfrac_xstar_hillside\", \"Value\": 0.09330843959418335}, {\"Construction\": \"Both\", \"days_to_subtract1\": 28, \"days_to_subtract2\": 35, \"width\": 7, \"Feature\": \"nfrac_xstar_hillside\", \"Value\": -0.26109497846292307}, {\"Construction\": \"Direct\", \"days_to_subtract1\": 21, \"days_to_subtract2\": 28, \"width\": 7, \"Feature\": \"nfrac_xstar_hillside\", \"Value\": 0.3060469201755312}, {\"Construction\": \"Indirect\", \"days_to_subtract1\": 21, \"days_to_subtract2\": 28, \"width\": 7, \"Feature\": \"nfrac_xstar_hillside\", \"Value\": -0.2197899923806136}, {\"Construction\": \"Both\", \"days_to_subtract1\": 21, \"days_to_subtract2\": 28, \"width\": 7, \"Feature\": \"nfrac_xstar_hillside\", \"Value\": -0.017425375883932805}, {\"Construction\": \"Direct\", \"days_to_subtract1\": 14, \"days_to_subtract2\": 21, \"width\": 7, \"Feature\": \"nfrac_xstar_hillside\", \"Value\": -0.28212750741297715}, {\"Construction\": \"Indirect\", \"days_to_subtract1\": 14, \"days_to_subtract2\": 21, \"width\": 7, \"Feature\": \"nfrac_xstar_hillside\", \"Value\": -0.021885145352052878}, {\"Construction\": \"Both\", \"days_to_subtract1\": 14, \"days_to_subtract2\": 21, \"width\": 7, \"Feature\": \"nfrac_xstar_hillside\", \"Value\": 0.03660774431946581}, {\"Construction\": \"Direct\", \"days_to_subtract1\": 7, \"days_to_subtract2\": 14, \"width\": 7, \"Feature\": \"nfrac_xstar_hillside\", \"Value\": -0.396954519289145}, {\"Construction\": \"Indirect\", \"days_to_subtract1\": 7, \"days_to_subtract2\": 14, \"width\": 7, \"Feature\": \"nfrac_xstar_hillside\", \"Value\": 0.05066632205737223}, {\"Construction\": \"Both\", \"days_to_subtract1\": 7, \"days_to_subtract2\": 14, \"width\": 7, \"Feature\": \"nfrac_xstar_hillside\", \"Value\": 0.08858835541145706}, {\"Construction\": \"Direct\", \"days_to_subtract1\": 21, \"days_to_subtract2\": 35, \"width\": 14, \"Feature\": \"nfrac_xstar_hillside\", \"Value\": 0.27174160483047116}, {\"Construction\": \"Indirect\", \"days_to_subtract1\": 21, \"days_to_subtract2\": 35, \"width\": 14, \"Feature\": \"nfrac_xstar_hillside\", \"Value\": 0.10826126688972434}, {\"Construction\": \"Both\", \"days_to_subtract1\": 21, \"days_to_subtract2\": 35, \"width\": 14, \"Feature\": \"nfrac_xstar_hillside\", \"Value\": -0.051671405939002865}, {\"Construction\": \"Direct\", \"days_to_subtract1\": 14, \"days_to_subtract2\": 28, \"width\": 14, \"Feature\": \"nfrac_xstar_hillside\", \"Value\": -0.30001817340660614}, {\"Construction\": \"Indirect\", \"days_to_subtract1\": 14, \"days_to_subtract2\": 28, \"width\": 14, \"Feature\": \"nfrac_xstar_hillside\", \"Value\": 0.09855420841111105}, {\"Construction\": \"Both\", \"days_to_subtract1\": 14, \"days_to_subtract2\": 28, \"width\": 14, \"Feature\": \"nfrac_xstar_hillside\", \"Value\": -0.22314509733069196}, {\"Construction\": \"Direct\", \"days_to_subtract1\": 7, \"days_to_subtract2\": 21, \"width\": 14, \"Feature\": \"nfrac_xstar_hillside\", \"Value\": -0.3839420976116605}, {\"Construction\": \"Indirect\", \"days_to_subtract1\": 7, \"days_to_subtract2\": 21, \"width\": 14, \"Feature\": \"nfrac_xstar_hillside\", \"Value\": 0.2924082746133485}, {\"Construction\": \"Both\", \"days_to_subtract1\": 7, \"days_to_subtract2\": 21, \"width\": 14, \"Feature\": \"nfrac_xstar_hillside\", \"Value\": -0.12006145896053458}, {\"Construction\": \"Direct\", \"days_to_subtract1\": 14, \"days_to_subtract2\": 35, \"width\": 21, \"Feature\": \"nfrac_xstar_hillside\", \"Value\": -0.08676642846937298}, {\"Construction\": \"Indirect\", \"days_to_subtract1\": 14, \"days_to_subtract2\": 35, \"width\": 21, \"Feature\": \"nfrac_xstar_hillside\", \"Value\": 0.04058563502287745}, {\"Construction\": \"Both\", \"days_to_subtract1\": 14, \"days_to_subtract2\": 35, \"width\": 21, \"Feature\": \"nfrac_xstar_hillside\", \"Value\": -0.14520897743353914}, {\"Construction\": \"Direct\", \"days_to_subtract1\": 7, \"days_to_subtract2\": 28, \"width\": 21, \"Feature\": \"nfrac_xstar_hillside\", \"Value\": -0.26281093238962533}, {\"Construction\": \"Indirect\", \"days_to_subtract1\": 7, \"days_to_subtract2\": 28, \"width\": 21, \"Feature\": \"nfrac_xstar_hillside\", \"Value\": 0.14887861175036204}, {\"Construction\": \"Both\", \"days_to_subtract1\": 7, \"days_to_subtract2\": 28, \"width\": 21, \"Feature\": \"nfrac_xstar_hillside\", \"Value\": -0.060666268209712125}, {\"Construction\": \"Direct\", \"days_to_subtract1\": 7, \"days_to_subtract2\": 35, \"width\": 28, \"Feature\": \"nfrac_xstar_hillside\", \"Value\": -0.06881130359671768}, {\"Construction\": \"Indirect\", \"days_to_subtract1\": 7, \"days_to_subtract2\": 35, \"width\": 28, \"Feature\": \"nfrac_xstar_hillside\", \"Value\": 0.12319221097131425}, {\"Construction\": \"Both\", \"days_to_subtract1\": 7, \"days_to_subtract2\": 35, \"width\": 28, \"Feature\": \"nfrac_xstar_hillside\", \"Value\": -0.20095761471670057}, {\"Construction\": \"Direct\", \"days_to_subtract1\": 28, \"days_to_subtract2\": 35, \"width\": 7, \"Feature\": \"diameter_lop\", \"Value\": -0.22022841008068875}, {\"Construction\": \"Indirect\", \"days_to_subtract1\": 28, \"days_to_subtract2\": 35, \"width\": 7, \"Feature\": \"diameter_lop\", \"Value\": 0.24956710427180437}, {\"Construction\": \"Both\", \"days_to_subtract1\": 28, \"days_to_subtract2\": 35, \"width\": 7, \"Feature\": \"diameter_lop\", \"Value\": 0.26276597104448296}, {\"Construction\": \"Direct\", \"days_to_subtract1\": 21, \"days_to_subtract2\": 28, \"width\": 7, \"Feature\": \"diameter_lop\", \"Value\": 0.203550058296349}, {\"Construction\": \"Indirect\", \"days_to_subtract1\": 21, \"days_to_subtract2\": 28, \"width\": 7, \"Feature\": \"diameter_lop\", \"Value\": 0.06413637951510028}, {\"Construction\": \"Both\", \"days_to_subtract1\": 21, \"days_to_subtract2\": 28, \"width\": 7, \"Feature\": \"diameter_lop\", \"Value\": -0.17833333333333326}, {\"Construction\": \"Direct\", \"days_to_subtract1\": 14, \"days_to_subtract2\": 21, \"width\": 7, \"Feature\": \"diameter_lop\", \"Value\": 0.08613988559747403}, {\"Construction\": \"Indirect\", \"days_to_subtract1\": 14, \"days_to_subtract2\": 21, \"width\": 7, \"Feature\": \"diameter_lop\", \"Value\": -0.0982978628445551}, {\"Construction\": \"Both\", \"days_to_subtract1\": 14, \"days_to_subtract2\": 21, \"width\": 7, \"Feature\": \"diameter_lop\", \"Value\": -0.40014225544821996}, {\"Construction\": \"Direct\", \"days_to_subtract1\": 7, \"days_to_subtract2\": 14, \"width\": 7, \"Feature\": \"diameter_lop\", \"Value\": -0.4094739229282712}, {\"Construction\": \"Indirect\", \"days_to_subtract1\": 7, \"days_to_subtract2\": 14, \"width\": 7, \"Feature\": \"diameter_lop\", \"Value\": -0.2806057025470821}, {\"Construction\": \"Both\", \"days_to_subtract1\": 7, \"days_to_subtract2\": 14, \"width\": 7, \"Feature\": \"diameter_lop\", \"Value\": -0.06541150224948121}, {\"Construction\": \"Direct\", \"days_to_subtract1\": 21, \"days_to_subtract2\": 35, \"width\": 14, \"Feature\": \"diameter_lop\", \"Value\": -0.04646694646317045}, {\"Construction\": \"Indirect\", \"days_to_subtract1\": 21, \"days_to_subtract2\": 35, \"width\": 14, \"Feature\": \"diameter_lop\", \"Value\": 0.21965690540271984}, {\"Construction\": \"Both\", \"days_to_subtract1\": 21, \"days_to_subtract2\": 35, \"width\": 14, \"Feature\": \"diameter_lop\", \"Value\": 0.46104111704572937}, {\"Construction\": \"Direct\", \"days_to_subtract1\": 14, \"days_to_subtract2\": 28, \"width\": 14, \"Feature\": \"diameter_lop\", \"Value\": -0.032381751762188715}, {\"Construction\": \"Indirect\", \"days_to_subtract1\": 14, \"days_to_subtract2\": 28, \"width\": 14, \"Feature\": \"diameter_lop\", \"Value\": 0.22290651452222524}, {\"Construction\": \"Both\", \"days_to_subtract1\": 14, \"days_to_subtract2\": 28, \"width\": 14, \"Feature\": \"diameter_lop\", \"Value\": -0.11389727151073184}, {\"Construction\": \"Direct\", \"days_to_subtract1\": 7, \"days_to_subtract2\": 21, \"width\": 14, \"Feature\": \"diameter_lop\", \"Value\": 0.07642473943105159}, {\"Construction\": \"Indirect\", \"days_to_subtract1\": 7, \"days_to_subtract2\": 21, \"width\": 14, \"Feature\": \"diameter_lop\", \"Value\": -0.34619619037456756}, {\"Construction\": \"Both\", \"days_to_subtract1\": 7, \"days_to_subtract2\": 21, \"width\": 14, \"Feature\": \"diameter_lop\", \"Value\": 0.023109670299341856}, {\"Construction\": \"Direct\", \"days_to_subtract1\": 14, \"days_to_subtract2\": 35, \"width\": 21, \"Feature\": \"diameter_lop\", \"Value\": 0.12341806186458762}, {\"Construction\": \"Indirect\", \"days_to_subtract1\": 14, \"days_to_subtract2\": 35, \"width\": 21, \"Feature\": \"diameter_lop\", \"Value\": -0.022898227605639122}, {\"Construction\": \"Both\", \"days_to_subtract1\": 14, \"days_to_subtract2\": 35, \"width\": 21, \"Feature\": \"diameter_lop\", \"Value\": -0.39793259163960637}, {\"Construction\": \"Direct\", \"days_to_subtract1\": 7, \"days_to_subtract2\": 28, \"width\": 21, \"Feature\": \"diameter_lop\", \"Value\": -0.1526696267377752}, {\"Construction\": \"Indirect\", \"days_to_subtract1\": 7, \"days_to_subtract2\": 28, \"width\": 21, \"Feature\": \"diameter_lop\", \"Value\": -0.4849340089692609}, {\"Construction\": \"Both\", \"days_to_subtract1\": 7, \"days_to_subtract2\": 28, \"width\": 21, \"Feature\": \"diameter_lop\", \"Value\": -0.08209600720308953}, {\"Construction\": \"Direct\", \"days_to_subtract1\": 7, \"days_to_subtract2\": 35, \"width\": 28, \"Feature\": \"diameter_lop\", \"Value\": 0.18352294808796243}, {\"Construction\": \"Indirect\", \"days_to_subtract1\": 7, \"days_to_subtract2\": 35, \"width\": 28, \"Feature\": \"diameter_lop\", \"Value\": -0.49951017351563226}, {\"Construction\": \"Both\", \"days_to_subtract1\": 7, \"days_to_subtract2\": 35, \"width\": 28, \"Feature\": \"diameter_lop\", \"Value\": -0.23650097505436832}, {\"Construction\": \"Direct\", \"days_to_subtract1\": 28, \"days_to_subtract2\": 35, \"width\": 7, \"Feature\": \"diameter_hillside\", \"Value\": -0.1386405999738907}, {\"Construction\": \"Indirect\", \"days_to_subtract1\": 28, \"days_to_subtract2\": 35, \"width\": 7, \"Feature\": \"diameter_hillside\", \"Value\": 0.1080038285153038}, {\"Construction\": \"Both\", \"days_to_subtract1\": 28, \"days_to_subtract2\": 35, \"width\": 7, \"Feature\": \"diameter_hillside\", \"Value\": -0.25371970701438096}, {\"Construction\": \"Direct\", \"days_to_subtract1\": 21, \"days_to_subtract2\": 28, \"width\": 7, \"Feature\": \"diameter_hillside\", \"Value\": 0.1558387444947961}, {\"Construction\": \"Indirect\", \"days_to_subtract1\": 21, \"days_to_subtract2\": 28, \"width\": 7, \"Feature\": \"diameter_hillside\", \"Value\": -0.2198626287721192}, {\"Construction\": \"Both\", \"days_to_subtract1\": 21, \"days_to_subtract2\": 28, \"width\": 7, \"Feature\": \"diameter_hillside\", \"Value\": -0.017425375883932805}, {\"Construction\": \"Direct\", \"days_to_subtract1\": 14, \"days_to_subtract2\": 21, \"width\": 7, \"Feature\": \"diameter_hillside\", \"Value\": -0.07059514515770818}, {\"Construction\": \"Indirect\", \"days_to_subtract1\": 14, \"days_to_subtract2\": 21, \"width\": 7, \"Feature\": \"diameter_hillside\", \"Value\": -0.03796577093740655}, {\"Construction\": \"Both\", \"days_to_subtract1\": 14, \"days_to_subtract2\": 21, \"width\": 7, \"Feature\": \"diameter_hillside\", \"Value\": 0.04050271276416718}, {\"Construction\": \"Direct\", \"days_to_subtract1\": 7, \"days_to_subtract2\": 14, \"width\": 7, \"Feature\": \"diameter_hillside\", \"Value\": -0.16688293377598268}, {\"Construction\": \"Indirect\", \"days_to_subtract1\": 7, \"days_to_subtract2\": 14, \"width\": 7, \"Feature\": \"diameter_hillside\", \"Value\": 0.04597001079898857}, {\"Construction\": \"Both\", \"days_to_subtract1\": 7, \"days_to_subtract2\": 14, \"width\": 7, \"Feature\": \"diameter_hillside\", \"Value\": 0.11113089791350445}, {\"Construction\": \"Direct\", \"days_to_subtract1\": 21, \"days_to_subtract2\": 35, \"width\": 14, \"Feature\": \"diameter_hillside\", \"Value\": 0.20538136977680213}, {\"Construction\": \"Indirect\", \"days_to_subtract1\": 21, \"days_to_subtract2\": 35, \"width\": 14, \"Feature\": \"diameter_hillside\", \"Value\": 0.11240653125817837}, {\"Construction\": \"Both\", \"days_to_subtract1\": 21, \"days_to_subtract2\": 35, \"width\": 14, \"Feature\": \"diameter_hillside\", \"Value\": -0.051671405939002865}, {\"Construction\": \"Direct\", \"days_to_subtract1\": 14, \"days_to_subtract2\": 28, \"width\": 14, \"Feature\": \"diameter_hillside\", \"Value\": -0.23550701127835266}, {\"Construction\": \"Indirect\", \"days_to_subtract1\": 14, \"days_to_subtract2\": 28, \"width\": 14, \"Feature\": \"diameter_hillside\", \"Value\": 0.11936969306277367}, {\"Construction\": \"Both\", \"days_to_subtract1\": 14, \"days_to_subtract2\": 28, \"width\": 14, \"Feature\": \"diameter_hillside\", \"Value\": -0.2539954181424369}, {\"Construction\": \"Direct\", \"days_to_subtract1\": 7, \"days_to_subtract2\": 21, \"width\": 14, \"Feature\": \"diameter_hillside\", \"Value\": 0.13407414006901852}, {\"Construction\": \"Indirect\", \"days_to_subtract1\": 7, \"days_to_subtract2\": 21, \"width\": 14, \"Feature\": \"diameter_hillside\", \"Value\": 0.27492442340522166}, {\"Construction\": \"Both\", \"days_to_subtract1\": 7, \"days_to_subtract2\": 21, \"width\": 14, \"Feature\": \"diameter_hillside\", \"Value\": -0.14127389519450434}, {\"Construction\": \"Direct\", \"days_to_subtract1\": 14, \"days_to_subtract2\": 35, \"width\": 21, \"Feature\": \"diameter_hillside\", \"Value\": -0.16508900067605103}, {\"Construction\": \"Indirect\", \"days_to_subtract1\": 14, \"days_to_subtract2\": 35, \"width\": 21, \"Feature\": \"diameter_hillside\", \"Value\": 0.04699472807005142}, {\"Construction\": \"Both\", \"days_to_subtract1\": 14, \"days_to_subtract2\": 35, \"width\": 21, \"Feature\": \"diameter_hillside\", \"Value\": -0.14577408385645788}, {\"Construction\": \"Direct\", \"days_to_subtract1\": 7, \"days_to_subtract2\": 28, \"width\": 21, \"Feature\": \"diameter_hillside\", \"Value\": -0.4426816345294688}, {\"Construction\": \"Indirect\", \"days_to_subtract1\": 7, \"days_to_subtract2\": 28, \"width\": 21, \"Feature\": \"diameter_hillside\", \"Value\": 0.17042302491154732}, {\"Construction\": \"Both\", \"days_to_subtract1\": 7, \"days_to_subtract2\": 28, \"width\": 21, \"Feature\": \"diameter_hillside\", \"Value\": -0.07264855902463929}, {\"Construction\": \"Direct\", \"days_to_subtract1\": 7, \"days_to_subtract2\": 35, \"width\": 28, \"Feature\": \"diameter_hillside\", \"Value\": -0.16653744635831283}, {\"Construction\": \"Indirect\", \"days_to_subtract1\": 7, \"days_to_subtract2\": 35, \"width\": 28, \"Feature\": \"diameter_hillside\", \"Value\": 0.13955489970049698}, {\"Construction\": \"Both\", \"days_to_subtract1\": 7, \"days_to_subtract2\": 35, \"width\": 28, \"Feature\": \"diameter_hillside\", \"Value\": -0.20149703755724735}]}}, {\"mode\": \"vega-lite\"});\n",
       "</script>"
      ],
      "text/plain": [
       "alt.Chart(...)"
      ]
     },
     "metadata": {},
     "output_type": "display_data"
    },
    {
     "data": {
      "text/markdown": [
       "## top10_tau"
      ],
      "text/plain": [
       "<IPython.core.display.Markdown object>"
      ]
     },
     "metadata": {},
     "output_type": "display_data"
    },
    {
     "data": {
      "text/markdown": [
       "### Colley"
      ],
      "text/plain": [
       "<IPython.core.display.Markdown object>"
      ]
     },
     "metadata": {},
     "output_type": "display_data"
    },
    {
     "data": {
      "text/html": [
       "\n",
       "<div id=\"altair-viz-03d2b50561604d56a586d6c65611101a\"></div>\n",
       "<script type=\"text/javascript\">\n",
       "  (function(spec, embedOpt){\n",
       "    let outputDiv = document.currentScript.previousElementSibling;\n",
       "    if (outputDiv.id !== \"altair-viz-03d2b50561604d56a586d6c65611101a\") {\n",
       "      outputDiv = document.getElementById(\"altair-viz-03d2b50561604d56a586d6c65611101a\");\n",
       "    }\n",
       "    const paths = {\n",
       "      \"vega\": \"https://cdn.jsdelivr.net/npm//vega@5?noext\",\n",
       "      \"vega-lib\": \"https://cdn.jsdelivr.net/npm//vega-lib?noext\",\n",
       "      \"vega-lite\": \"https://cdn.jsdelivr.net/npm//vega-lite@4.8.1?noext\",\n",
       "      \"vega-embed\": \"https://cdn.jsdelivr.net/npm//vega-embed@6?noext\",\n",
       "    };\n",
       "\n",
       "    function loadScript(lib) {\n",
       "      return new Promise(function(resolve, reject) {\n",
       "        var s = document.createElement('script');\n",
       "        s.src = paths[lib];\n",
       "        s.async = true;\n",
       "        s.onload = () => resolve(paths[lib]);\n",
       "        s.onerror = () => reject(`Error loading script: ${paths[lib]}`);\n",
       "        document.getElementsByTagName(\"head\")[0].appendChild(s);\n",
       "      });\n",
       "    }\n",
       "\n",
       "    function showError(err) {\n",
       "      outputDiv.innerHTML = `<div class=\"error\" style=\"color:red;\">${err}</div>`;\n",
       "      throw err;\n",
       "    }\n",
       "\n",
       "    function displayChart(vegaEmbed) {\n",
       "      vegaEmbed(outputDiv, spec, embedOpt)\n",
       "        .catch(err => showError(`Javascript Error: ${err.message}<br>This usually means there's a typo in your chart specification. See the javascript console for the full traceback.`));\n",
       "    }\n",
       "\n",
       "    if(typeof define === \"function\" && define.amd) {\n",
       "      requirejs.config({paths});\n",
       "      require([\"vega-embed\"], displayChart, err => showError(`Error loading script: ${err.message}`));\n",
       "    } else if (typeof vegaEmbed === \"function\") {\n",
       "      displayChart(vegaEmbed);\n",
       "    } else {\n",
       "      loadScript(\"vega\")\n",
       "        .then(() => loadScript(\"vega-lite\"))\n",
       "        .then(() => loadScript(\"vega-embed\"))\n",
       "        .catch(showError)\n",
       "        .then(() => displayChart(vegaEmbed));\n",
       "    }\n",
       "  })({\"config\": {\"view\": {\"continuousWidth\": 400, \"continuousHeight\": 300}}, \"data\": {\"name\": \"data-7d4ca2a3052d6faba8f1e0ed95c86257\"}, \"mark\": \"bar\", \"encoding\": {\"color\": {\"type\": \"nominal\", \"field\": \"Construction\"}, \"column\": {\"type\": \"nominal\", \"field\": \"Construction\"}, \"row\": {\"type\": \"nominal\", \"field\": \"Feature\"}, \"x\": {\"type\": \"nominal\", \"field\": \"width\"}, \"y\": {\"type\": \"quantitative\", \"aggregate\": \"average\", \"field\": \"Value\", \"scale\": {\"domain\": [-0.6, 0.6]}}}, \"$schema\": \"https://vega.github.io/schema/vega-lite/v4.8.1.json\", \"datasets\": {\"data-7d4ca2a3052d6faba8f1e0ed95c86257\": [{\"Construction\": \"Direct\", \"days_to_subtract1\": 28, \"days_to_subtract2\": 35, \"width\": 7, \"Feature\": \"delta_lop\", \"Value\": 0.08955841421637208}, {\"Construction\": \"Indirect\", \"days_to_subtract1\": 28, \"days_to_subtract2\": 35, \"width\": 7, \"Feature\": \"delta_lop\", \"Value\": 0.27750359930332696}, {\"Construction\": \"Both\", \"days_to_subtract1\": 28, \"days_to_subtract2\": 35, \"width\": 7, \"Feature\": \"delta_lop\", \"Value\": 0.2553916868554862}, {\"Construction\": \"Direct\", \"days_to_subtract1\": 21, \"days_to_subtract2\": 28, \"width\": 7, \"Feature\": \"delta_lop\", \"Value\": 0.1743590077801018}, {\"Construction\": \"Indirect\", \"days_to_subtract1\": 21, \"days_to_subtract2\": 28, \"width\": 7, \"Feature\": \"delta_lop\", \"Value\": -0.4001858735368913}, {\"Construction\": \"Both\", \"days_to_subtract1\": 21, \"days_to_subtract2\": 28, \"width\": 7, \"Feature\": \"delta_lop\", \"Value\": -0.08258427824598263}, {\"Construction\": \"Direct\", \"days_to_subtract1\": 14, \"days_to_subtract2\": 21, \"width\": 7, \"Feature\": \"delta_lop\", \"Value\": -0.07295889803712598}, {\"Construction\": \"Indirect\", \"days_to_subtract1\": 14, \"days_to_subtract2\": 21, \"width\": 7, \"Feature\": \"delta_lop\", \"Value\": -0.40727618032411067}, {\"Construction\": \"Both\", \"days_to_subtract1\": 14, \"days_to_subtract2\": 21, \"width\": 7, \"Feature\": \"delta_lop\", \"Value\": -0.13284426322381415}, {\"Construction\": \"Direct\", \"days_to_subtract1\": 7, \"days_to_subtract2\": 14, \"width\": 7, \"Feature\": \"delta_lop\", \"Value\": -0.44790380362997645}, {\"Construction\": \"Indirect\", \"days_to_subtract1\": 7, \"days_to_subtract2\": 14, \"width\": 7, \"Feature\": \"delta_lop\", \"Value\": 0.0665616385549295}, {\"Construction\": \"Both\", \"days_to_subtract1\": 7, \"days_to_subtract2\": 14, \"width\": 7, \"Feature\": \"delta_lop\", \"Value\": -0.26779075928676155}, {\"Construction\": \"Direct\", \"days_to_subtract1\": 21, \"days_to_subtract2\": 35, \"width\": 14, \"Feature\": \"delta_lop\", \"Value\": 0.2948381335448968}, {\"Construction\": \"Indirect\", \"days_to_subtract1\": 21, \"days_to_subtract2\": 35, \"width\": 14, \"Feature\": \"delta_lop\", \"Value\": 0.17760274330720635}, {\"Construction\": \"Both\", \"days_to_subtract1\": 21, \"days_to_subtract2\": 35, \"width\": 14, \"Feature\": \"delta_lop\", \"Value\": 0.34665532106792446}, {\"Construction\": \"Direct\", \"days_to_subtract1\": 14, \"days_to_subtract2\": 28, \"width\": 14, \"Feature\": \"delta_lop\", \"Value\": -0.12043001315214724}, {\"Construction\": \"Indirect\", \"days_to_subtract1\": 14, \"days_to_subtract2\": 28, \"width\": 14, \"Feature\": \"delta_lop\", \"Value\": -0.4704914450260906}, {\"Construction\": \"Both\", \"days_to_subtract1\": 14, \"days_to_subtract2\": 28, \"width\": 14, \"Feature\": \"delta_lop\", \"Value\": -0.2810418658561358}, {\"Construction\": \"Direct\", \"days_to_subtract1\": 7, \"days_to_subtract2\": 21, \"width\": 14, \"Feature\": \"delta_lop\", \"Value\": 0.06557910708991091}, {\"Construction\": \"Indirect\", \"days_to_subtract1\": 7, \"days_to_subtract2\": 21, \"width\": 14, \"Feature\": \"delta_lop\", \"Value\": -0.02980616238662602}, {\"Construction\": \"Both\", \"days_to_subtract1\": 7, \"days_to_subtract2\": 21, \"width\": 14, \"Feature\": \"delta_lop\", \"Value\": 0.08315658121067422}, {\"Construction\": \"Direct\", \"days_to_subtract1\": 14, \"days_to_subtract2\": 35, \"width\": 21, \"Feature\": \"delta_lop\", \"Value\": -0.4568481490775559}, {\"Construction\": \"Indirect\", \"days_to_subtract1\": 14, \"days_to_subtract2\": 35, \"width\": 21, \"Feature\": \"delta_lop\", \"Value\": -0.08707919489333536}, {\"Construction\": \"Both\", \"days_to_subtract1\": 14, \"days_to_subtract2\": 35, \"width\": 21, \"Feature\": \"delta_lop\", \"Value\": -0.3003832661172578}, {\"Construction\": \"Direct\", \"days_to_subtract1\": 7, \"days_to_subtract2\": 28, \"width\": 21, \"Feature\": \"delta_lop\", \"Value\": -0.25000759116226945}, {\"Construction\": \"Indirect\", \"days_to_subtract1\": 7, \"days_to_subtract2\": 28, \"width\": 21, \"Feature\": \"delta_lop\", \"Value\": -0.22075666478609487}, {\"Construction\": \"Both\", \"days_to_subtract1\": 7, \"days_to_subtract2\": 28, \"width\": 21, \"Feature\": \"delta_lop\", \"Value\": -0.1808995645070444}, {\"Construction\": \"Direct\", \"days_to_subtract1\": 7, \"days_to_subtract2\": 35, \"width\": 28, \"Feature\": \"delta_lop\", \"Value\": -0.08717225973288416}, {\"Construction\": \"Indirect\", \"days_to_subtract1\": 7, \"days_to_subtract2\": 35, \"width\": 28, \"Feature\": \"delta_lop\", \"Value\": -0.12085959648723248}, {\"Construction\": \"Both\", \"days_to_subtract1\": 7, \"days_to_subtract2\": 35, \"width\": 28, \"Feature\": \"delta_lop\", \"Value\": 0.040515234466601775}, {\"Construction\": \"Direct\", \"days_to_subtract1\": 28, \"days_to_subtract2\": 35, \"width\": 7, \"Feature\": \"delta_hillside\", \"Value\": 0.2769102056702392}, {\"Construction\": \"Indirect\", \"days_to_subtract1\": 28, \"days_to_subtract2\": 35, \"width\": 7, \"Feature\": \"delta_hillside\", \"Value\": 0.15906107600690036}, {\"Construction\": \"Both\", \"days_to_subtract1\": 28, \"days_to_subtract2\": 35, \"width\": 7, \"Feature\": \"delta_hillside\", \"Value\": 0.24914421459655242}, {\"Construction\": \"Direct\", \"days_to_subtract1\": 21, \"days_to_subtract2\": 28, \"width\": 7, \"Feature\": \"delta_hillside\", \"Value\": 0.22993785018172647}, {\"Construction\": \"Indirect\", \"days_to_subtract1\": 21, \"days_to_subtract2\": 28, \"width\": 7, \"Feature\": \"delta_hillside\", \"Value\": -0.43584497928255556}, {\"Construction\": \"Both\", \"days_to_subtract1\": 21, \"days_to_subtract2\": 28, \"width\": 7, \"Feature\": \"delta_hillside\", \"Value\": -0.3652684760040557}, {\"Construction\": \"Direct\", \"days_to_subtract1\": 14, \"days_to_subtract2\": 21, \"width\": 7, \"Feature\": \"delta_hillside\", \"Value\": -0.01450762055832402}, {\"Construction\": \"Indirect\", \"days_to_subtract1\": 14, \"days_to_subtract2\": 21, \"width\": 7, \"Feature\": \"delta_hillside\", \"Value\": -0.39187591324118537}, {\"Construction\": \"Both\", \"days_to_subtract1\": 14, \"days_to_subtract2\": 21, \"width\": 7, \"Feature\": \"delta_hillside\", \"Value\": -0.35736988054379004}, {\"Construction\": \"Direct\", \"days_to_subtract1\": 7, \"days_to_subtract2\": 14, \"width\": 7, \"Feature\": \"delta_hillside\", \"Value\": -0.12348134831617863}, {\"Construction\": \"Indirect\", \"days_to_subtract1\": 7, \"days_to_subtract2\": 14, \"width\": 7, \"Feature\": \"delta_hillside\", \"Value\": -0.1223235486100941}, {\"Construction\": \"Both\", \"days_to_subtract1\": 7, \"days_to_subtract2\": 14, \"width\": 7, \"Feature\": \"delta_hillside\", \"Value\": -0.1118437465635203}, {\"Construction\": \"Direct\", \"days_to_subtract1\": 21, \"days_to_subtract2\": 35, \"width\": 14, \"Feature\": \"delta_hillside\", \"Value\": 0.12324237565276315}, {\"Construction\": \"Indirect\", \"days_to_subtract1\": 21, \"days_to_subtract2\": 35, \"width\": 14, \"Feature\": \"delta_hillside\", \"Value\": 0.15388486261091744}, {\"Construction\": \"Both\", \"days_to_subtract1\": 21, \"days_to_subtract2\": 35, \"width\": 14, \"Feature\": \"delta_hillside\", \"Value\": 0.21262318942847697}, {\"Construction\": \"Direct\", \"days_to_subtract1\": 14, \"days_to_subtract2\": 28, \"width\": 14, \"Feature\": \"delta_hillside\", \"Value\": 0.25307392813691515}, {\"Construction\": \"Indirect\", \"days_to_subtract1\": 14, \"days_to_subtract2\": 28, \"width\": 14, \"Feature\": \"delta_hillside\", \"Value\": -0.461929829262717}, {\"Construction\": \"Both\", \"days_to_subtract1\": 14, \"days_to_subtract2\": 28, \"width\": 14, \"Feature\": \"delta_hillside\", \"Value\": -0.17633972956501914}, {\"Construction\": \"Direct\", \"days_to_subtract1\": 7, \"days_to_subtract2\": 21, \"width\": 14, \"Feature\": \"delta_hillside\", \"Value\": 0.3701072645400021}, {\"Construction\": \"Indirect\", \"days_to_subtract1\": 7, \"days_to_subtract2\": 21, \"width\": 14, \"Feature\": \"delta_hillside\", \"Value\": 0.015637221245005575}, {\"Construction\": \"Both\", \"days_to_subtract1\": 7, \"days_to_subtract2\": 21, \"width\": 14, \"Feature\": \"delta_hillside\", \"Value\": 0.028323701299845586}, {\"Construction\": \"Direct\", \"days_to_subtract1\": 14, \"days_to_subtract2\": 35, \"width\": 21, \"Feature\": \"delta_hillside\", \"Value\": -0.1599178909076232}, {\"Construction\": \"Indirect\", \"days_to_subtract1\": 14, \"days_to_subtract2\": 35, \"width\": 21, \"Feature\": \"delta_hillside\", \"Value\": -0.10483548296190372}, {\"Construction\": \"Both\", \"days_to_subtract1\": 14, \"days_to_subtract2\": 35, \"width\": 21, \"Feature\": \"delta_hillside\", \"Value\": -0.19437108174065712}, {\"Construction\": \"Direct\", \"days_to_subtract1\": 7, \"days_to_subtract2\": 28, \"width\": 21, \"Feature\": \"delta_hillside\", \"Value\": -0.23248037035880795}, {\"Construction\": \"Indirect\", \"days_to_subtract1\": 7, \"days_to_subtract2\": 28, \"width\": 21, \"Feature\": \"delta_hillside\", \"Value\": -0.023665067274754294}, {\"Construction\": \"Both\", \"days_to_subtract1\": 7, \"days_to_subtract2\": 28, \"width\": 21, \"Feature\": \"delta_hillside\", \"Value\": -0.019265561338996262}, {\"Construction\": \"Direct\", \"days_to_subtract1\": 7, \"days_to_subtract2\": 35, \"width\": 28, \"Feature\": \"delta_hillside\", \"Value\": -0.11869953876518217}, {\"Construction\": \"Indirect\", \"days_to_subtract1\": 7, \"days_to_subtract2\": 35, \"width\": 28, \"Feature\": \"delta_hillside\", \"Value\": 0.07250001913124629}, {\"Construction\": \"Both\", \"days_to_subtract1\": 7, \"days_to_subtract2\": 35, \"width\": 28, \"Feature\": \"delta_hillside\", \"Value\": 0.24486204748880036}, {\"Construction\": \"Direct\", \"days_to_subtract1\": 28, \"days_to_subtract2\": 35, \"width\": 7, \"Feature\": \"nfrac_xstar_lop\", \"Value\": -0.005222049341642413}, {\"Construction\": \"Indirect\", \"days_to_subtract1\": 28, \"days_to_subtract2\": 35, \"width\": 7, \"Feature\": \"nfrac_xstar_lop\", \"Value\": 0.24582173647855865}, {\"Construction\": \"Both\", \"days_to_subtract1\": 28, \"days_to_subtract2\": 35, \"width\": 7, \"Feature\": \"nfrac_xstar_lop\", \"Value\": 0.15862388317849122}, {\"Construction\": \"Direct\", \"days_to_subtract1\": 21, \"days_to_subtract2\": 28, \"width\": 7, \"Feature\": \"nfrac_xstar_lop\", \"Value\": 0.2621508367734193}, {\"Construction\": \"Indirect\", \"days_to_subtract1\": 21, \"days_to_subtract2\": 28, \"width\": 7, \"Feature\": \"nfrac_xstar_lop\", \"Value\": 0.35106954275731217}, {\"Construction\": \"Both\", \"days_to_subtract1\": 21, \"days_to_subtract2\": 28, \"width\": 7, \"Feature\": \"nfrac_xstar_lop\", \"Value\": 0.06544722629763695}, {\"Construction\": \"Direct\", \"days_to_subtract1\": 14, \"days_to_subtract2\": 21, \"width\": 7, \"Feature\": \"nfrac_xstar_lop\", \"Value\": 0.11460622072357772}, {\"Construction\": \"Indirect\", \"days_to_subtract1\": 14, \"days_to_subtract2\": 21, \"width\": 7, \"Feature\": \"nfrac_xstar_lop\", \"Value\": 0.14464224199478068}, {\"Construction\": \"Both\", \"days_to_subtract1\": 14, \"days_to_subtract2\": 21, \"width\": 7, \"Feature\": \"nfrac_xstar_lop\", \"Value\": 0.19357291069346955}, {\"Construction\": \"Direct\", \"days_to_subtract1\": 7, \"days_to_subtract2\": 14, \"width\": 7, \"Feature\": \"nfrac_xstar_lop\", \"Value\": 0.017186051632483924}, {\"Construction\": \"Indirect\", \"days_to_subtract1\": 7, \"days_to_subtract2\": 14, \"width\": 7, \"Feature\": \"nfrac_xstar_lop\", \"Value\": 0.18876820790593074}, {\"Construction\": \"Both\", \"days_to_subtract1\": 7, \"days_to_subtract2\": 14, \"width\": 7, \"Feature\": \"nfrac_xstar_lop\", \"Value\": 0.053732886618843664}, {\"Construction\": \"Direct\", \"days_to_subtract1\": 21, \"days_to_subtract2\": 35, \"width\": 14, \"Feature\": \"nfrac_xstar_lop\", \"Value\": 0.1268100767552347}, {\"Construction\": \"Indirect\", \"days_to_subtract1\": 21, \"days_to_subtract2\": 35, \"width\": 14, \"Feature\": \"nfrac_xstar_lop\", \"Value\": -0.01996585159378096}, {\"Construction\": \"Both\", \"days_to_subtract1\": 21, \"days_to_subtract2\": 35, \"width\": 14, \"Feature\": \"nfrac_xstar_lop\", \"Value\": -0.23020360465892328}, {\"Construction\": \"Direct\", \"days_to_subtract1\": 14, \"days_to_subtract2\": 28, \"width\": 14, \"Feature\": \"nfrac_xstar_lop\", \"Value\": 0.12373797599857601}, {\"Construction\": \"Indirect\", \"days_to_subtract1\": 14, \"days_to_subtract2\": 28, \"width\": 14, \"Feature\": \"nfrac_xstar_lop\", \"Value\": 0.522340893824672}, {\"Construction\": \"Both\", \"days_to_subtract1\": 14, \"days_to_subtract2\": 28, \"width\": 14, \"Feature\": \"nfrac_xstar_lop\", \"Value\": 0.24580240446237797}, {\"Construction\": \"Direct\", \"days_to_subtract1\": 7, \"days_to_subtract2\": 21, \"width\": 14, \"Feature\": \"nfrac_xstar_lop\", \"Value\": 0.4740025754302691}, {\"Construction\": \"Indirect\", \"days_to_subtract1\": 7, \"days_to_subtract2\": 21, \"width\": 14, \"Feature\": \"nfrac_xstar_lop\", \"Value\": -0.3547950995879263}, {\"Construction\": \"Both\", \"days_to_subtract1\": 7, \"days_to_subtract2\": 21, \"width\": 14, \"Feature\": \"nfrac_xstar_lop\", \"Value\": 0.038250933248811736}, {\"Construction\": \"Direct\", \"days_to_subtract1\": 14, \"days_to_subtract2\": 35, \"width\": 21, \"Feature\": \"nfrac_xstar_lop\", \"Value\": 0.009454600463290082}, {\"Construction\": \"Indirect\", \"days_to_subtract1\": 14, \"days_to_subtract2\": 35, \"width\": 21, \"Feature\": \"nfrac_xstar_lop\", \"Value\": -0.048129287686023633}, {\"Construction\": \"Both\", \"days_to_subtract1\": 14, \"days_to_subtract2\": 35, \"width\": 21, \"Feature\": \"nfrac_xstar_lop\", \"Value\": 0.18633214348921956}, {\"Construction\": \"Direct\", \"days_to_subtract1\": 7, \"days_to_subtract2\": 28, \"width\": 21, \"Feature\": \"nfrac_xstar_lop\", \"Value\": 0.11732660323838928}, {\"Construction\": \"Indirect\", \"days_to_subtract1\": 7, \"days_to_subtract2\": 28, \"width\": 21, \"Feature\": \"nfrac_xstar_lop\", \"Value\": 0.05063115905581283}, {\"Construction\": \"Both\", \"days_to_subtract1\": 7, \"days_to_subtract2\": 28, \"width\": 21, \"Feature\": \"nfrac_xstar_lop\", \"Value\": -0.23810135534376023}, {\"Construction\": \"Direct\", \"days_to_subtract1\": 7, \"days_to_subtract2\": 35, \"width\": 28, \"Feature\": \"nfrac_xstar_lop\", \"Value\": 0.08670931599726586}, {\"Construction\": \"Indirect\", \"days_to_subtract1\": 7, \"days_to_subtract2\": 35, \"width\": 28, \"Feature\": \"nfrac_xstar_lop\", \"Value\": -0.11471473335840714}, {\"Construction\": \"Both\", \"days_to_subtract1\": 7, \"days_to_subtract2\": 35, \"width\": 28, \"Feature\": \"nfrac_xstar_lop\", \"Value\": -0.1638798324590201}, {\"Construction\": \"Direct\", \"days_to_subtract1\": 28, \"days_to_subtract2\": 35, \"width\": 7, \"Feature\": \"nfrac_xstar_hillside\", \"Value\": 0.24395016578128148}, {\"Construction\": \"Indirect\", \"days_to_subtract1\": 28, \"days_to_subtract2\": 35, \"width\": 7, \"Feature\": \"nfrac_xstar_hillside\", \"Value\": -0.39522322925306863}, {\"Construction\": \"Both\", \"days_to_subtract1\": 28, \"days_to_subtract2\": 35, \"width\": 7, \"Feature\": \"nfrac_xstar_hillside\", \"Value\": 0.06571295052163056}, {\"Construction\": \"Direct\", \"days_to_subtract1\": 21, \"days_to_subtract2\": 28, \"width\": 7, \"Feature\": \"nfrac_xstar_hillside\", \"Value\": -0.27681284150712965}, {\"Construction\": \"Indirect\", \"days_to_subtract1\": 21, \"days_to_subtract2\": 28, \"width\": 7, \"Feature\": \"nfrac_xstar_hillside\", \"Value\": 0.3287789001881328}, {\"Construction\": \"Both\", \"days_to_subtract1\": 21, \"days_to_subtract2\": 28, \"width\": 7, \"Feature\": \"nfrac_xstar_hillside\", \"Value\": -0.0507614328888286}, {\"Construction\": \"Direct\", \"days_to_subtract1\": 14, \"days_to_subtract2\": 21, \"width\": 7, \"Feature\": \"nfrac_xstar_hillside\", \"Value\": 0.18109037946764828}, {\"Construction\": \"Indirect\", \"days_to_subtract1\": 14, \"days_to_subtract2\": 21, \"width\": 7, \"Feature\": \"nfrac_xstar_hillside\", \"Value\": 0.03481458291421074}, {\"Construction\": \"Both\", \"days_to_subtract1\": 14, \"days_to_subtract2\": 21, \"width\": 7, \"Feature\": \"nfrac_xstar_hillside\", \"Value\": -0.03500621994937075}, {\"Construction\": \"Direct\", \"days_to_subtract1\": 7, \"days_to_subtract2\": 14, \"width\": 7, \"Feature\": \"nfrac_xstar_hillside\", \"Value\": 0.29633142677102775}, {\"Construction\": \"Indirect\", \"days_to_subtract1\": 7, \"days_to_subtract2\": 14, \"width\": 7, \"Feature\": \"nfrac_xstar_hillside\", \"Value\": 0.49754787023565766}, {\"Construction\": \"Both\", \"days_to_subtract1\": 7, \"days_to_subtract2\": 14, \"width\": 7, \"Feature\": \"nfrac_xstar_hillside\", \"Value\": 0.4618564739357619}, {\"Construction\": \"Direct\", \"days_to_subtract1\": 21, \"days_to_subtract2\": 35, \"width\": 14, \"Feature\": \"nfrac_xstar_hillside\", \"Value\": 0.13742181424291378}, {\"Construction\": \"Indirect\", \"days_to_subtract1\": 21, \"days_to_subtract2\": 35, \"width\": 14, \"Feature\": \"nfrac_xstar_hillside\", \"Value\": 0.06502687191458519}, {\"Construction\": \"Both\", \"days_to_subtract1\": 21, \"days_to_subtract2\": 35, \"width\": 14, \"Feature\": \"nfrac_xstar_hillside\", \"Value\": -0.3023667846524593}, {\"Construction\": \"Direct\", \"days_to_subtract1\": 14, \"days_to_subtract2\": 28, \"width\": 14, \"Feature\": \"nfrac_xstar_hillside\", \"Value\": 0.1960593412088947}, {\"Construction\": \"Indirect\", \"days_to_subtract1\": 14, \"days_to_subtract2\": 28, \"width\": 14, \"Feature\": \"nfrac_xstar_hillside\", \"Value\": -0.28854886137590663}, {\"Construction\": \"Both\", \"days_to_subtract1\": 14, \"days_to_subtract2\": 28, \"width\": 14, \"Feature\": \"nfrac_xstar_hillside\", \"Value\": 0.13463099503092474}, {\"Construction\": \"Direct\", \"days_to_subtract1\": 7, \"days_to_subtract2\": 21, \"width\": 14, \"Feature\": \"nfrac_xstar_hillside\", \"Value\": 0.31980530964771237}, {\"Construction\": \"Indirect\", \"days_to_subtract1\": 7, \"days_to_subtract2\": 21, \"width\": 14, \"Feature\": \"nfrac_xstar_hillside\", \"Value\": -0.2608285981001828}, {\"Construction\": \"Both\", \"days_to_subtract1\": 7, \"days_to_subtract2\": 21, \"width\": 14, \"Feature\": \"nfrac_xstar_hillside\", \"Value\": -0.003702143486732559}, {\"Construction\": \"Direct\", \"days_to_subtract1\": 14, \"days_to_subtract2\": 35, \"width\": 21, \"Feature\": \"nfrac_xstar_hillside\", \"Value\": 0.41403802893447916}, {\"Construction\": \"Indirect\", \"days_to_subtract1\": 14, \"days_to_subtract2\": 35, \"width\": 21, \"Feature\": \"nfrac_xstar_hillside\", \"Value\": -0.45520132896683374}, {\"Construction\": \"Both\", \"days_to_subtract1\": 14, \"days_to_subtract2\": 35, \"width\": 21, \"Feature\": \"nfrac_xstar_hillside\", \"Value\": 0.0782302052882909}, {\"Construction\": \"Direct\", \"days_to_subtract1\": 7, \"days_to_subtract2\": 28, \"width\": 21, \"Feature\": \"nfrac_xstar_hillside\", \"Value\": 0.2837892470971106}, {\"Construction\": \"Indirect\", \"days_to_subtract1\": 7, \"days_to_subtract2\": 28, \"width\": 21, \"Feature\": \"nfrac_xstar_hillside\", \"Value\": 0.19828475392312786}, {\"Construction\": \"Both\", \"days_to_subtract1\": 7, \"days_to_subtract2\": 28, \"width\": 21, \"Feature\": \"nfrac_xstar_hillside\", \"Value\": 0.35983195638772053}, {\"Construction\": \"Direct\", \"days_to_subtract1\": 7, \"days_to_subtract2\": 35, \"width\": 28, \"Feature\": \"nfrac_xstar_hillside\", \"Value\": 0.05048461266757336}, {\"Construction\": \"Indirect\", \"days_to_subtract1\": 7, \"days_to_subtract2\": 35, \"width\": 28, \"Feature\": \"nfrac_xstar_hillside\", \"Value\": 0.05926000682376627}, {\"Construction\": \"Both\", \"days_to_subtract1\": 7, \"days_to_subtract2\": 35, \"width\": 28, \"Feature\": \"nfrac_xstar_hillside\", \"Value\": 0.021599404692118837}, {\"Construction\": \"Direct\", \"days_to_subtract1\": 28, \"days_to_subtract2\": 35, \"width\": 7, \"Feature\": \"diameter_lop\", \"Value\": 0.007466055491184977}, {\"Construction\": \"Indirect\", \"days_to_subtract1\": 28, \"days_to_subtract2\": 35, \"width\": 7, \"Feature\": \"diameter_lop\", \"Value\": 0.30130714317468765}, {\"Construction\": \"Both\", \"days_to_subtract1\": 28, \"days_to_subtract2\": 35, \"width\": 7, \"Feature\": \"diameter_lop\", \"Value\": 0.19724334841574753}, {\"Construction\": \"Direct\", \"days_to_subtract1\": 21, \"days_to_subtract2\": 28, \"width\": 7, \"Feature\": \"diameter_lop\", \"Value\": 0.2614182513721292}, {\"Construction\": \"Indirect\", \"days_to_subtract1\": 21, \"days_to_subtract2\": 28, \"width\": 7, \"Feature\": \"diameter_lop\", \"Value\": 0.41600471148222284}, {\"Construction\": \"Both\", \"days_to_subtract1\": 21, \"days_to_subtract2\": 28, \"width\": 7, \"Feature\": \"diameter_lop\", \"Value\": 0.16102586852378056}, {\"Construction\": \"Direct\", \"days_to_subtract1\": 14, \"days_to_subtract2\": 21, \"width\": 7, \"Feature\": \"diameter_lop\", \"Value\": 0.14110775654185773}, {\"Construction\": \"Indirect\", \"days_to_subtract1\": 14, \"days_to_subtract2\": 21, \"width\": 7, \"Feature\": \"diameter_lop\", \"Value\": 0.18677404021249025}, {\"Construction\": \"Both\", \"days_to_subtract1\": 14, \"days_to_subtract2\": 21, \"width\": 7, \"Feature\": \"diameter_lop\", \"Value\": 0.1838727431180887}, {\"Construction\": \"Direct\", \"days_to_subtract1\": 7, \"days_to_subtract2\": 14, \"width\": 7, \"Feature\": \"diameter_lop\", \"Value\": 0.010454720140133869}, {\"Construction\": \"Indirect\", \"days_to_subtract1\": 7, \"days_to_subtract2\": 14, \"width\": 7, \"Feature\": \"diameter_lop\", \"Value\": 0.20189401795432313}, {\"Construction\": \"Both\", \"days_to_subtract1\": 7, \"days_to_subtract2\": 14, \"width\": 7, \"Feature\": \"diameter_lop\", \"Value\": 0.053732886618843664}, {\"Construction\": \"Direct\", \"days_to_subtract1\": 21, \"days_to_subtract2\": 35, \"width\": 14, \"Feature\": \"diameter_lop\", \"Value\": 0.11636870508698316}, {\"Construction\": \"Indirect\", \"days_to_subtract1\": 21, \"days_to_subtract2\": 35, \"width\": 14, \"Feature\": \"diameter_lop\", \"Value\": -0.04538468319520975}, {\"Construction\": \"Both\", \"days_to_subtract1\": 21, \"days_to_subtract2\": 35, \"width\": 14, \"Feature\": \"diameter_lop\", \"Value\": -0.23574756515274928}, {\"Construction\": \"Direct\", \"days_to_subtract1\": 14, \"days_to_subtract2\": 28, \"width\": 14, \"Feature\": \"diameter_lop\", \"Value\": 0.067846340284808}, {\"Construction\": \"Indirect\", \"days_to_subtract1\": 14, \"days_to_subtract2\": 28, \"width\": 14, \"Feature\": \"diameter_lop\", \"Value\": 0.494307529925107}, {\"Construction\": \"Both\", \"days_to_subtract1\": 14, \"days_to_subtract2\": 28, \"width\": 14, \"Feature\": \"diameter_lop\", \"Value\": 0.2682362587394204}, {\"Construction\": \"Direct\", \"days_to_subtract1\": 7, \"days_to_subtract2\": 21, \"width\": 14, \"Feature\": \"diameter_lop\", \"Value\": 0.43914836549555225}, {\"Construction\": \"Indirect\", \"days_to_subtract1\": 7, \"days_to_subtract2\": 21, \"width\": 14, \"Feature\": \"diameter_lop\", \"Value\": -0.30054852938735604}, {\"Construction\": \"Both\", \"days_to_subtract1\": 7, \"days_to_subtract2\": 21, \"width\": 14, \"Feature\": \"diameter_lop\", \"Value\": 0.038250933248811736}, {\"Construction\": \"Direct\", \"days_to_subtract1\": 14, \"days_to_subtract2\": 35, \"width\": 21, \"Feature\": \"diameter_lop\", \"Value\": 0.03275380182116706}, {\"Construction\": \"Indirect\", \"days_to_subtract1\": 14, \"days_to_subtract2\": 35, \"width\": 21, \"Feature\": \"diameter_lop\", \"Value\": -0.03580085606245775}, {\"Construction\": \"Both\", \"days_to_subtract1\": 14, \"days_to_subtract2\": 35, \"width\": 21, \"Feature\": \"diameter_lop\", \"Value\": 0.17244093604670283}, {\"Construction\": \"Direct\", \"days_to_subtract1\": 7, \"days_to_subtract2\": 28, \"width\": 21, \"Feature\": \"diameter_lop\", \"Value\": 0.13107898404256227}, {\"Construction\": \"Indirect\", \"days_to_subtract1\": 7, \"days_to_subtract2\": 28, \"width\": 21, \"Feature\": \"diameter_lop\", \"Value\": 0.02710770574799408}, {\"Construction\": \"Both\", \"days_to_subtract1\": 7, \"days_to_subtract2\": 28, \"width\": 21, \"Feature\": \"diameter_lop\", \"Value\": -0.23810135534376023}, {\"Construction\": \"Direct\", \"days_to_subtract1\": 7, \"days_to_subtract2\": 35, \"width\": 28, \"Feature\": \"diameter_lop\", \"Value\": 0.09373617064975107}, {\"Construction\": \"Indirect\", \"days_to_subtract1\": 7, \"days_to_subtract2\": 35, \"width\": 28, \"Feature\": \"diameter_lop\", \"Value\": -0.10012221818544653}, {\"Construction\": \"Both\", \"days_to_subtract1\": 7, \"days_to_subtract2\": 35, \"width\": 28, \"Feature\": \"diameter_lop\", \"Value\": -0.1638798324590201}, {\"Construction\": \"Direct\", \"days_to_subtract1\": 28, \"days_to_subtract2\": 35, \"width\": 7, \"Feature\": \"diameter_hillside\", \"Value\": -0.026597294727253366}, {\"Construction\": \"Indirect\", \"days_to_subtract1\": 28, \"days_to_subtract2\": 35, \"width\": 7, \"Feature\": \"diameter_hillside\", \"Value\": -0.34551355273710804}, {\"Construction\": \"Both\", \"days_to_subtract1\": 28, \"days_to_subtract2\": 35, \"width\": 7, \"Feature\": \"diameter_hillside\", \"Value\": -0.018779274692868893}, {\"Construction\": \"Direct\", \"days_to_subtract1\": 21, \"days_to_subtract2\": 28, \"width\": 7, \"Feature\": \"diameter_hillside\", \"Value\": 0.1736531332036801}, {\"Construction\": \"Indirect\", \"days_to_subtract1\": 21, \"days_to_subtract2\": 28, \"width\": 7, \"Feature\": \"diameter_hillside\", \"Value\": 0.34423930230451627}, {\"Construction\": \"Both\", \"days_to_subtract1\": 21, \"days_to_subtract2\": 28, \"width\": 7, \"Feature\": \"diameter_hillside\", \"Value\": 0.047561742663876506}, {\"Construction\": \"Direct\", \"days_to_subtract1\": 14, \"days_to_subtract2\": 21, \"width\": 7, \"Feature\": \"diameter_hillside\", \"Value\": 0.1928508098983125}, {\"Construction\": \"Indirect\", \"days_to_subtract1\": 14, \"days_to_subtract2\": 21, \"width\": 7, \"Feature\": \"diameter_hillside\", \"Value\": 0.03718287203276339}, {\"Construction\": \"Both\", \"days_to_subtract1\": 14, \"days_to_subtract2\": 21, \"width\": 7, \"Feature\": \"diameter_hillside\", \"Value\": -0.03500621994937075}, {\"Construction\": \"Direct\", \"days_to_subtract1\": 7, \"days_to_subtract2\": 14, \"width\": 7, \"Feature\": \"diameter_hillside\", \"Value\": 0.3808609148141094}, {\"Construction\": \"Indirect\", \"days_to_subtract1\": 7, \"days_to_subtract2\": 14, \"width\": 7, \"Feature\": \"diameter_hillside\", \"Value\": 0.5243573247552084}, {\"Construction\": \"Both\", \"days_to_subtract1\": 7, \"days_to_subtract2\": 14, \"width\": 7, \"Feature\": \"diameter_hillside\", \"Value\": 0.4173178757098242}, {\"Construction\": \"Direct\", \"days_to_subtract1\": 21, \"days_to_subtract2\": 35, \"width\": 14, \"Feature\": \"diameter_hillside\", \"Value\": -0.12637903335374873}, {\"Construction\": \"Indirect\", \"days_to_subtract1\": 21, \"days_to_subtract2\": 35, \"width\": 14, \"Feature\": \"diameter_hillside\", \"Value\": 0.07390562100984051}, {\"Construction\": \"Both\", \"days_to_subtract1\": 21, \"days_to_subtract2\": 35, \"width\": 14, \"Feature\": \"diameter_hillside\", \"Value\": -0.29467645592777647}, {\"Construction\": \"Direct\", \"days_to_subtract1\": 14, \"days_to_subtract2\": 28, \"width\": 14, \"Feature\": \"diameter_hillside\", \"Value\": 0.18074065153220206}, {\"Construction\": \"Indirect\", \"days_to_subtract1\": 14, \"days_to_subtract2\": 28, \"width\": 14, \"Feature\": \"diameter_hillside\", \"Value\": -0.257047593363404}, {\"Construction\": \"Both\", \"days_to_subtract1\": 14, \"days_to_subtract2\": 28, \"width\": 14, \"Feature\": \"diameter_hillside\", \"Value\": 0.13463099503092474}, {\"Construction\": \"Direct\", \"days_to_subtract1\": 7, \"days_to_subtract2\": 21, \"width\": 14, \"Feature\": \"diameter_hillside\", \"Value\": 0.23107514450510888}, {\"Construction\": \"Indirect\", \"days_to_subtract1\": 7, \"days_to_subtract2\": 21, \"width\": 14, \"Feature\": \"diameter_hillside\", \"Value\": -0.29880170148949253}, {\"Construction\": \"Both\", \"days_to_subtract1\": 7, \"days_to_subtract2\": 21, \"width\": 14, \"Feature\": \"diameter_hillside\", \"Value\": -0.03764703334919017}, {\"Construction\": \"Direct\", \"days_to_subtract1\": 14, \"days_to_subtract2\": 35, \"width\": 21, \"Feature\": \"diameter_hillside\", \"Value\": 0.40735288619424376}, {\"Construction\": \"Indirect\", \"days_to_subtract1\": 14, \"days_to_subtract2\": 35, \"width\": 21, \"Feature\": \"diameter_hillside\", \"Value\": -0.4474890035242427}, {\"Construction\": \"Both\", \"days_to_subtract1\": 14, \"days_to_subtract2\": 35, \"width\": 21, \"Feature\": \"diameter_hillside\", \"Value\": 0.0782302052882909}, {\"Construction\": \"Direct\", \"days_to_subtract1\": 7, \"days_to_subtract2\": 28, \"width\": 21, \"Feature\": \"diameter_hillside\", \"Value\": 0.33360746131496977}, {\"Construction\": \"Indirect\", \"days_to_subtract1\": 7, \"days_to_subtract2\": 28, \"width\": 21, \"Feature\": \"diameter_hillside\", \"Value\": 0.3181202678195712}, {\"Construction\": \"Both\", \"days_to_subtract1\": 7, \"days_to_subtract2\": 28, \"width\": 21, \"Feature\": \"diameter_hillside\", \"Value\": 0.3490335017562561}, {\"Construction\": \"Direct\", \"days_to_subtract1\": 7, \"days_to_subtract2\": 35, \"width\": 28, \"Feature\": \"diameter_hillside\", \"Value\": -0.1653597760278483}, {\"Construction\": \"Indirect\", \"days_to_subtract1\": 7, \"days_to_subtract2\": 35, \"width\": 28, \"Feature\": \"diameter_hillside\", \"Value\": 0.08586254223733371}, {\"Construction\": \"Both\", \"days_to_subtract1\": 7, \"days_to_subtract2\": 35, \"width\": 28, \"Feature\": \"diameter_hillside\", \"Value\": -0.026250133511063246}]}}, {\"mode\": \"vega-lite\"});\n",
       "</script>"
      ],
      "text/plain": [
       "alt.Chart(...)"
      ]
     },
     "metadata": {},
     "output_type": "display_data"
    },
    {
     "data": {
      "text/markdown": [
       "### Massey"
      ],
      "text/plain": [
       "<IPython.core.display.Markdown object>"
      ]
     },
     "metadata": {},
     "output_type": "display_data"
    },
    {
     "data": {
      "text/html": [
       "\n",
       "<div id=\"altair-viz-3fbed065168e457bb783e2935cddbb57\"></div>\n",
       "<script type=\"text/javascript\">\n",
       "  (function(spec, embedOpt){\n",
       "    let outputDiv = document.currentScript.previousElementSibling;\n",
       "    if (outputDiv.id !== \"altair-viz-3fbed065168e457bb783e2935cddbb57\") {\n",
       "      outputDiv = document.getElementById(\"altair-viz-3fbed065168e457bb783e2935cddbb57\");\n",
       "    }\n",
       "    const paths = {\n",
       "      \"vega\": \"https://cdn.jsdelivr.net/npm//vega@5?noext\",\n",
       "      \"vega-lib\": \"https://cdn.jsdelivr.net/npm//vega-lib?noext\",\n",
       "      \"vega-lite\": \"https://cdn.jsdelivr.net/npm//vega-lite@4.8.1?noext\",\n",
       "      \"vega-embed\": \"https://cdn.jsdelivr.net/npm//vega-embed@6?noext\",\n",
       "    };\n",
       "\n",
       "    function loadScript(lib) {\n",
       "      return new Promise(function(resolve, reject) {\n",
       "        var s = document.createElement('script');\n",
       "        s.src = paths[lib];\n",
       "        s.async = true;\n",
       "        s.onload = () => resolve(paths[lib]);\n",
       "        s.onerror = () => reject(`Error loading script: ${paths[lib]}`);\n",
       "        document.getElementsByTagName(\"head\")[0].appendChild(s);\n",
       "      });\n",
       "    }\n",
       "\n",
       "    function showError(err) {\n",
       "      outputDiv.innerHTML = `<div class=\"error\" style=\"color:red;\">${err}</div>`;\n",
       "      throw err;\n",
       "    }\n",
       "\n",
       "    function displayChart(vegaEmbed) {\n",
       "      vegaEmbed(outputDiv, spec, embedOpt)\n",
       "        .catch(err => showError(`Javascript Error: ${err.message}<br>This usually means there's a typo in your chart specification. See the javascript console for the full traceback.`));\n",
       "    }\n",
       "\n",
       "    if(typeof define === \"function\" && define.amd) {\n",
       "      requirejs.config({paths});\n",
       "      require([\"vega-embed\"], displayChart, err => showError(`Error loading script: ${err.message}`));\n",
       "    } else if (typeof vegaEmbed === \"function\") {\n",
       "      displayChart(vegaEmbed);\n",
       "    } else {\n",
       "      loadScript(\"vega\")\n",
       "        .then(() => loadScript(\"vega-lite\"))\n",
       "        .then(() => loadScript(\"vega-embed\"))\n",
       "        .catch(showError)\n",
       "        .then(() => displayChart(vegaEmbed));\n",
       "    }\n",
       "  })({\"config\": {\"view\": {\"continuousWidth\": 400, \"continuousHeight\": 300}}, \"data\": {\"name\": \"data-017b538da08ddd333e5c3602d2ccc113\"}, \"mark\": \"bar\", \"encoding\": {\"color\": {\"type\": \"nominal\", \"field\": \"Construction\"}, \"column\": {\"type\": \"nominal\", \"field\": \"Construction\"}, \"row\": {\"type\": \"nominal\", \"field\": \"Feature\"}, \"x\": {\"type\": \"nominal\", \"field\": \"width\"}, \"y\": {\"type\": \"quantitative\", \"aggregate\": \"average\", \"field\": \"Value\", \"scale\": {\"domain\": [-0.6, 0.6]}}}, \"$schema\": \"https://vega.github.io/schema/vega-lite/v4.8.1.json\", \"datasets\": {\"data-017b538da08ddd333e5c3602d2ccc113\": [{\"Construction\": \"Direct\", \"days_to_subtract1\": 28, \"days_to_subtract2\": 35, \"width\": 7, \"Feature\": \"delta_lop\", \"Value\": 0.17895524562245868}, {\"Construction\": \"Indirect\", \"days_to_subtract1\": 28, \"days_to_subtract2\": 35, \"width\": 7, \"Feature\": \"delta_lop\", \"Value\": 0.19550871967237765}, {\"Construction\": \"Both\", \"days_to_subtract1\": 28, \"days_to_subtract2\": 35, \"width\": 7, \"Feature\": \"delta_lop\", \"Value\": 0.2144899530675672}, {\"Construction\": \"Direct\", \"days_to_subtract1\": 21, \"days_to_subtract2\": 28, \"width\": 7, \"Feature\": \"delta_lop\", \"Value\": -0.08978765024429589}, {\"Construction\": \"Indirect\", \"days_to_subtract1\": 21, \"days_to_subtract2\": 28, \"width\": 7, \"Feature\": \"delta_lop\", \"Value\": -0.30016154558376357}, {\"Construction\": \"Both\", \"days_to_subtract1\": 21, \"days_to_subtract2\": 28, \"width\": 7, \"Feature\": \"delta_lop\", \"Value\": -0.22209963285172718}, {\"Construction\": \"Direct\", \"days_to_subtract1\": 14, \"days_to_subtract2\": 21, \"width\": 7, \"Feature\": \"delta_lop\", \"Value\": 0.23119880934753922}, {\"Construction\": \"Indirect\", \"days_to_subtract1\": 14, \"days_to_subtract2\": 21, \"width\": 7, \"Feature\": \"delta_lop\", \"Value\": -0.15077467895304958}, {\"Construction\": \"Both\", \"days_to_subtract1\": 14, \"days_to_subtract2\": 21, \"width\": 7, \"Feature\": \"delta_lop\", \"Value\": 0.023872794390401054}, {\"Construction\": \"Direct\", \"days_to_subtract1\": 7, \"days_to_subtract2\": 14, \"width\": 7, \"Feature\": \"delta_lop\", \"Value\": -0.3426255484932739}, {\"Construction\": \"Indirect\", \"days_to_subtract1\": 7, \"days_to_subtract2\": 14, \"width\": 7, \"Feature\": \"delta_lop\", \"Value\": -0.024404418884700598}, {\"Construction\": \"Both\", \"days_to_subtract1\": 7, \"days_to_subtract2\": 14, \"width\": 7, \"Feature\": \"delta_lop\", \"Value\": -0.1440511283716253}, {\"Construction\": \"Direct\", \"days_to_subtract1\": 21, \"days_to_subtract2\": 35, \"width\": 14, \"Feature\": \"delta_lop\", \"Value\": -0.02805088927306488}, {\"Construction\": \"Indirect\", \"days_to_subtract1\": 21, \"days_to_subtract2\": 35, \"width\": 14, \"Feature\": \"delta_lop\", \"Value\": 0.08998325390448285}, {\"Construction\": \"Both\", \"days_to_subtract1\": 21, \"days_to_subtract2\": 35, \"width\": 14, \"Feature\": \"delta_lop\", \"Value\": 0.10356128764057704}, {\"Construction\": \"Direct\", \"days_to_subtract1\": 14, \"days_to_subtract2\": 28, \"width\": 14, \"Feature\": \"delta_lop\", \"Value\": -0.11036865429038364}, {\"Construction\": \"Indirect\", \"days_to_subtract1\": 14, \"days_to_subtract2\": 28, \"width\": 14, \"Feature\": \"delta_lop\", \"Value\": -0.23046703128506393}, {\"Construction\": \"Both\", \"days_to_subtract1\": 14, \"days_to_subtract2\": 28, \"width\": 14, \"Feature\": \"delta_lop\", \"Value\": -0.28913391253929394}, {\"Construction\": \"Direct\", \"days_to_subtract1\": 7, \"days_to_subtract2\": 21, \"width\": 14, \"Feature\": \"delta_lop\", \"Value\": -0.28323723940723833}, {\"Construction\": \"Indirect\", \"days_to_subtract1\": 7, \"days_to_subtract2\": 21, \"width\": 14, \"Feature\": \"delta_lop\", \"Value\": -0.21465009337345092}, {\"Construction\": \"Both\", \"days_to_subtract1\": 7, \"days_to_subtract2\": 21, \"width\": 14, \"Feature\": \"delta_lop\", \"Value\": -0.23755740316339757}, {\"Construction\": \"Direct\", \"days_to_subtract1\": 14, \"days_to_subtract2\": 35, \"width\": 21, \"Feature\": \"delta_lop\", \"Value\": -0.03436528345068845}, {\"Construction\": \"Indirect\", \"days_to_subtract1\": 14, \"days_to_subtract2\": 35, \"width\": 21, \"Feature\": \"delta_lop\", \"Value\": -0.32293829315252787}, {\"Construction\": \"Both\", \"days_to_subtract1\": 14, \"days_to_subtract2\": 35, \"width\": 21, \"Feature\": \"delta_lop\", \"Value\": -0.26220428328754064}, {\"Construction\": \"Direct\", \"days_to_subtract1\": 7, \"days_to_subtract2\": 28, \"width\": 21, \"Feature\": \"delta_lop\", \"Value\": -0.32628964611587735}, {\"Construction\": \"Indirect\", \"days_to_subtract1\": 7, \"days_to_subtract2\": 28, \"width\": 21, \"Feature\": \"delta_lop\", \"Value\": -0.47661445198116753}, {\"Construction\": \"Both\", \"days_to_subtract1\": 7, \"days_to_subtract2\": 28, \"width\": 21, \"Feature\": \"delta_lop\", \"Value\": -0.44725237942587215}, {\"Construction\": \"Direct\", \"days_to_subtract1\": 7, \"days_to_subtract2\": 35, \"width\": 28, \"Feature\": \"delta_lop\", \"Value\": -0.3475875753240089}, {\"Construction\": \"Indirect\", \"days_to_subtract1\": 7, \"days_to_subtract2\": 35, \"width\": 28, \"Feature\": \"delta_lop\", \"Value\": -0.5124682043754534}, {\"Construction\": \"Both\", \"days_to_subtract1\": 7, \"days_to_subtract2\": 35, \"width\": 28, \"Feature\": \"delta_lop\", \"Value\": -0.40140011708891526}, {\"Construction\": \"Direct\", \"days_to_subtract1\": 28, \"days_to_subtract2\": 35, \"width\": 7, \"Feature\": \"delta_hillside\", \"Value\": 0.3731237092692918}, {\"Construction\": \"Indirect\", \"days_to_subtract1\": 28, \"days_to_subtract2\": 35, \"width\": 7, \"Feature\": \"delta_hillside\", \"Value\": 0.20800485775293404}, {\"Construction\": \"Both\", \"days_to_subtract1\": 28, \"days_to_subtract2\": 35, \"width\": 7, \"Feature\": \"delta_hillside\", \"Value\": 0.2236770158817837}, {\"Construction\": \"Direct\", \"days_to_subtract1\": 21, \"days_to_subtract2\": 28, \"width\": 7, \"Feature\": \"delta_hillside\", \"Value\": -0.1926178098793581}, {\"Construction\": \"Indirect\", \"days_to_subtract1\": 21, \"days_to_subtract2\": 28, \"width\": 7, \"Feature\": \"delta_hillside\", \"Value\": -0.01853920155140617}, {\"Construction\": \"Both\", \"days_to_subtract1\": 21, \"days_to_subtract2\": 28, \"width\": 7, \"Feature\": \"delta_hillside\", \"Value\": -0.12765340710198986}, {\"Construction\": \"Direct\", \"days_to_subtract1\": 14, \"days_to_subtract2\": 21, \"width\": 7, \"Feature\": \"delta_hillside\", \"Value\": 0.09049483119753197}, {\"Construction\": \"Indirect\", \"days_to_subtract1\": 14, \"days_to_subtract2\": 21, \"width\": 7, \"Feature\": \"delta_hillside\", \"Value\": -0.11394094177959421}, {\"Construction\": \"Both\", \"days_to_subtract1\": 14, \"days_to_subtract2\": 21, \"width\": 7, \"Feature\": \"delta_hillside\", \"Value\": -0.06909164235622142}, {\"Construction\": \"Direct\", \"days_to_subtract1\": 7, \"days_to_subtract2\": 14, \"width\": 7, \"Feature\": \"delta_hillside\", \"Value\": -0.42883348775147984}, {\"Construction\": \"Indirect\", \"days_to_subtract1\": 7, \"days_to_subtract2\": 14, \"width\": 7, \"Feature\": \"delta_hillside\", \"Value\": -0.012702983916420479}, {\"Construction\": \"Both\", \"days_to_subtract1\": 7, \"days_to_subtract2\": 14, \"width\": 7, \"Feature\": \"delta_hillside\", \"Value\": -0.0778011912997333}, {\"Construction\": \"Direct\", \"days_to_subtract1\": 21, \"days_to_subtract2\": 35, \"width\": 14, \"Feature\": \"delta_hillside\", \"Value\": -0.14641275192372857}, {\"Construction\": \"Indirect\", \"days_to_subtract1\": 21, \"days_to_subtract2\": 35, \"width\": 14, \"Feature\": \"delta_hillside\", \"Value\": 0.2487466239663661}, {\"Construction\": \"Both\", \"days_to_subtract1\": 21, \"days_to_subtract2\": 35, \"width\": 14, \"Feature\": \"delta_hillside\", \"Value\": 0.1540486909182433}, {\"Construction\": \"Direct\", \"days_to_subtract1\": 14, \"days_to_subtract2\": 28, \"width\": 14, \"Feature\": \"delta_hillside\", \"Value\": -0.17761290650147857}, {\"Construction\": \"Indirect\", \"days_to_subtract1\": 14, \"days_to_subtract2\": 28, \"width\": 14, \"Feature\": \"delta_hillside\", \"Value\": -0.17665825750517933}, {\"Construction\": \"Both\", \"days_to_subtract1\": 14, \"days_to_subtract2\": 28, \"width\": 14, \"Feature\": \"delta_hillside\", \"Value\": -0.2490783247233021}, {\"Construction\": \"Direct\", \"days_to_subtract1\": 7, \"days_to_subtract2\": 21, \"width\": 14, \"Feature\": \"delta_hillside\", \"Value\": -0.49936345793905235}, {\"Construction\": \"Indirect\", \"days_to_subtract1\": 7, \"days_to_subtract2\": 21, \"width\": 14, \"Feature\": \"delta_hillside\", \"Value\": -0.3084720479560664}, {\"Construction\": \"Both\", \"days_to_subtract1\": 7, \"days_to_subtract2\": 21, \"width\": 14, \"Feature\": \"delta_hillside\", \"Value\": -0.3805257368557901}, {\"Construction\": \"Direct\", \"days_to_subtract1\": 14, \"days_to_subtract2\": 35, \"width\": 21, \"Feature\": \"delta_hillside\", \"Value\": -0.1707313805695514}, {\"Construction\": \"Indirect\", \"days_to_subtract1\": 14, \"days_to_subtract2\": 35, \"width\": 21, \"Feature\": \"delta_hillside\", \"Value\": -0.2787310474142714}, {\"Construction\": \"Both\", \"days_to_subtract1\": 14, \"days_to_subtract2\": 35, \"width\": 21, \"Feature\": \"delta_hillside\", \"Value\": -0.3202103683457883}, {\"Construction\": \"Direct\", \"days_to_subtract1\": 7, \"days_to_subtract2\": 28, \"width\": 21, \"Feature\": \"delta_hillside\", \"Value\": -0.5068491520666184}, {\"Construction\": \"Indirect\", \"days_to_subtract1\": 7, \"days_to_subtract2\": 28, \"width\": 21, \"Feature\": \"delta_hillside\", \"Value\": -0.42507919848338255}, {\"Construction\": \"Both\", \"days_to_subtract1\": 7, \"days_to_subtract2\": 28, \"width\": 21, \"Feature\": \"delta_hillside\", \"Value\": -0.44859014046468526}, {\"Construction\": \"Direct\", \"days_to_subtract1\": 7, \"days_to_subtract2\": 35, \"width\": 28, \"Feature\": \"delta_hillside\", \"Value\": -0.5963728290959377}, {\"Construction\": \"Indirect\", \"days_to_subtract1\": 7, \"days_to_subtract2\": 35, \"width\": 28, \"Feature\": \"delta_hillside\", \"Value\": -0.41157706505946523}, {\"Construction\": \"Both\", \"days_to_subtract1\": 7, \"days_to_subtract2\": 35, \"width\": 28, \"Feature\": \"delta_hillside\", \"Value\": -0.4274972856268848}, {\"Construction\": \"Direct\", \"days_to_subtract1\": 28, \"days_to_subtract2\": 35, \"width\": 7, \"Feature\": \"nfrac_xstar_lop\", \"Value\": -0.018474722539235676}, {\"Construction\": \"Indirect\", \"days_to_subtract1\": 28, \"days_to_subtract2\": 35, \"width\": 7, \"Feature\": \"nfrac_xstar_lop\", \"Value\": 0.17227253700888528}, {\"Construction\": \"Both\", \"days_to_subtract1\": 28, \"days_to_subtract2\": 35, \"width\": 7, \"Feature\": \"nfrac_xstar_lop\", \"Value\": 0.2148006547814218}, {\"Construction\": \"Direct\", \"days_to_subtract1\": 21, \"days_to_subtract2\": 28, \"width\": 7, \"Feature\": \"nfrac_xstar_lop\", \"Value\": 0.3314970102408127}, {\"Construction\": \"Indirect\", \"days_to_subtract1\": 21, \"days_to_subtract2\": 28, \"width\": 7, \"Feature\": \"nfrac_xstar_lop\", \"Value\": -0.5732089098735464}, {\"Construction\": \"Both\", \"days_to_subtract1\": 21, \"days_to_subtract2\": 28, \"width\": 7, \"Feature\": \"nfrac_xstar_lop\", \"Value\": -0.2535982315975699}, {\"Construction\": \"Direct\", \"days_to_subtract1\": 14, \"days_to_subtract2\": 21, \"width\": 7, \"Feature\": \"nfrac_xstar_lop\", \"Value\": -0.16779284168486344}, {\"Construction\": \"Indirect\", \"days_to_subtract1\": 14, \"days_to_subtract2\": 21, \"width\": 7, \"Feature\": \"nfrac_xstar_lop\", \"Value\": 0.006140070908157364}, {\"Construction\": \"Both\", \"days_to_subtract1\": 14, \"days_to_subtract2\": 21, \"width\": 7, \"Feature\": \"nfrac_xstar_lop\", \"Value\": 0.005515357801557036}, {\"Construction\": \"Direct\", \"days_to_subtract1\": 7, \"days_to_subtract2\": 14, \"width\": 7, \"Feature\": \"nfrac_xstar_lop\", \"Value\": -0.15853342177150775}, {\"Construction\": \"Indirect\", \"days_to_subtract1\": 7, \"days_to_subtract2\": 14, \"width\": 7, \"Feature\": \"nfrac_xstar_lop\", \"Value\": 0.11902741096803111}, {\"Construction\": \"Both\", \"days_to_subtract1\": 7, \"days_to_subtract2\": 14, \"width\": 7, \"Feature\": \"nfrac_xstar_lop\", \"Value\": 0.07572670076293606}, {\"Construction\": \"Direct\", \"days_to_subtract1\": 21, \"days_to_subtract2\": 35, \"width\": 14, \"Feature\": \"nfrac_xstar_lop\", \"Value\": 0.051701816346602765}, {\"Construction\": \"Indirect\", \"days_to_subtract1\": 21, \"days_to_subtract2\": 35, \"width\": 14, \"Feature\": \"nfrac_xstar_lop\", \"Value\": -0.344855123902329}, {\"Construction\": \"Both\", \"days_to_subtract1\": 21, \"days_to_subtract2\": 35, \"width\": 14, \"Feature\": \"nfrac_xstar_lop\", \"Value\": 0.06371325583215456}, {\"Construction\": \"Direct\", \"days_to_subtract1\": 14, \"days_to_subtract2\": 28, \"width\": 14, \"Feature\": \"nfrac_xstar_lop\", \"Value\": 0.1996791171862494}, {\"Construction\": \"Indirect\", \"days_to_subtract1\": 14, \"days_to_subtract2\": 28, \"width\": 14, \"Feature\": \"nfrac_xstar_lop\", \"Value\": 0.03836176306118334}, {\"Construction\": \"Both\", \"days_to_subtract1\": 14, \"days_to_subtract2\": 28, \"width\": 14, \"Feature\": \"nfrac_xstar_lop\", \"Value\": 0.4289935608689964}, {\"Construction\": \"Direct\", \"days_to_subtract1\": 7, \"days_to_subtract2\": 21, \"width\": 14, \"Feature\": \"nfrac_xstar_lop\", \"Value\": 0.11404904132608387}, {\"Construction\": \"Indirect\", \"days_to_subtract1\": 7, \"days_to_subtract2\": 21, \"width\": 14, \"Feature\": \"nfrac_xstar_lop\", \"Value\": 0.09843560765935472}, {\"Construction\": \"Both\", \"days_to_subtract1\": 7, \"days_to_subtract2\": 21, \"width\": 14, \"Feature\": \"nfrac_xstar_lop\", \"Value\": 0.02917895379587441}, {\"Construction\": \"Direct\", \"days_to_subtract1\": 14, \"days_to_subtract2\": 35, \"width\": 21, \"Feature\": \"nfrac_xstar_lop\", \"Value\": 0.2364399140298994}, {\"Construction\": \"Indirect\", \"days_to_subtract1\": 14, \"days_to_subtract2\": 35, \"width\": 21, \"Feature\": \"nfrac_xstar_lop\", \"Value\": 0.30279385714952567}, {\"Construction\": \"Both\", \"days_to_subtract1\": 14, \"days_to_subtract2\": 35, \"width\": 21, \"Feature\": \"nfrac_xstar_lop\", \"Value\": 0.46039282510936996}, {\"Construction\": \"Direct\", \"days_to_subtract1\": 7, \"days_to_subtract2\": 28, \"width\": 21, \"Feature\": \"nfrac_xstar_lop\", \"Value\": 0.33848357916949584}, {\"Construction\": \"Indirect\", \"days_to_subtract1\": 7, \"days_to_subtract2\": 28, \"width\": 21, \"Feature\": \"nfrac_xstar_lop\", \"Value\": 0.1935987910763368}, {\"Construction\": \"Both\", \"days_to_subtract1\": 7, \"days_to_subtract2\": 28, \"width\": 21, \"Feature\": \"nfrac_xstar_lop\", \"Value\": -0.006415024860258532}, {\"Construction\": \"Direct\", \"days_to_subtract1\": 7, \"days_to_subtract2\": 35, \"width\": 28, \"Feature\": \"nfrac_xstar_lop\", \"Value\": 0.17061282075699166}, {\"Construction\": \"Indirect\", \"days_to_subtract1\": 7, \"days_to_subtract2\": 35, \"width\": 28, \"Feature\": \"nfrac_xstar_lop\", \"Value\": -0.0623455805066056}, {\"Construction\": \"Both\", \"days_to_subtract1\": 7, \"days_to_subtract2\": 35, \"width\": 28, \"Feature\": \"nfrac_xstar_lop\", \"Value\": -0.20064293862096022}, {\"Construction\": \"Direct\", \"days_to_subtract1\": 28, \"days_to_subtract2\": 35, \"width\": 7, \"Feature\": \"nfrac_xstar_hillside\", \"Value\": 0.34886646316274883}, {\"Construction\": \"Indirect\", \"days_to_subtract1\": 28, \"days_to_subtract2\": 35, \"width\": 7, \"Feature\": \"nfrac_xstar_hillside\", \"Value\": 0.32494680351171107}, {\"Construction\": \"Both\", \"days_to_subtract1\": 28, \"days_to_subtract2\": 35, \"width\": 7, \"Feature\": \"nfrac_xstar_hillside\", \"Value\": -0.034978145486473565}, {\"Construction\": \"Direct\", \"days_to_subtract1\": 21, \"days_to_subtract2\": 28, \"width\": 7, \"Feature\": \"nfrac_xstar_hillside\", \"Value\": 0.1548101031348028}, {\"Construction\": \"Indirect\", \"days_to_subtract1\": 21, \"days_to_subtract2\": 28, \"width\": 7, \"Feature\": \"nfrac_xstar_hillside\", \"Value\": -0.14304301423185614}, {\"Construction\": \"Both\", \"days_to_subtract1\": 21, \"days_to_subtract2\": 28, \"width\": 7, \"Feature\": \"nfrac_xstar_hillside\", \"Value\": 0.0885229406033009}, {\"Construction\": \"Direct\", \"days_to_subtract1\": 14, \"days_to_subtract2\": 21, \"width\": 7, \"Feature\": \"nfrac_xstar_hillside\", \"Value\": -0.2906216582279419}, {\"Construction\": \"Indirect\", \"days_to_subtract1\": 14, \"days_to_subtract2\": 21, \"width\": 7, \"Feature\": \"nfrac_xstar_hillside\", \"Value\": -0.13486312697228026}, {\"Construction\": \"Both\", \"days_to_subtract1\": 14, \"days_to_subtract2\": 21, \"width\": 7, \"Feature\": \"nfrac_xstar_hillside\", \"Value\": 0.03450638665060608}, {\"Construction\": \"Direct\", \"days_to_subtract1\": 7, \"days_to_subtract2\": 14, \"width\": 7, \"Feature\": \"nfrac_xstar_hillside\", \"Value\": -0.03846264264861647}, {\"Construction\": \"Indirect\", \"days_to_subtract1\": 7, \"days_to_subtract2\": 14, \"width\": 7, \"Feature\": \"nfrac_xstar_hillside\", \"Value\": 0.016805719208093036}, {\"Construction\": \"Both\", \"days_to_subtract1\": 7, \"days_to_subtract2\": 14, \"width\": 7, \"Feature\": \"nfrac_xstar_hillside\", \"Value\": 0.4207287945152082}, {\"Construction\": \"Direct\", \"days_to_subtract1\": 21, \"days_to_subtract2\": 35, \"width\": 14, \"Feature\": \"nfrac_xstar_hillside\", \"Value\": -0.013606095307838599}, {\"Construction\": \"Indirect\", \"days_to_subtract1\": 21, \"days_to_subtract2\": 35, \"width\": 14, \"Feature\": \"nfrac_xstar_hillside\", \"Value\": 0.1932433352599571}, {\"Construction\": \"Both\", \"days_to_subtract1\": 21, \"days_to_subtract2\": 35, \"width\": 14, \"Feature\": \"nfrac_xstar_hillside\", \"Value\": -0.03816497183701416}, {\"Construction\": \"Direct\", \"days_to_subtract1\": 14, \"days_to_subtract2\": 28, \"width\": 14, \"Feature\": \"nfrac_xstar_hillside\", \"Value\": 0.25670228479260215}, {\"Construction\": \"Indirect\", \"days_to_subtract1\": 14, \"days_to_subtract2\": 28, \"width\": 14, \"Feature\": \"nfrac_xstar_hillside\", \"Value\": -0.40853421195246575}, {\"Construction\": \"Both\", \"days_to_subtract1\": 14, \"days_to_subtract2\": 28, \"width\": 14, \"Feature\": \"nfrac_xstar_hillside\", \"Value\": 0.03418300237294919}, {\"Construction\": \"Direct\", \"days_to_subtract1\": 7, \"days_to_subtract2\": 21, \"width\": 14, \"Feature\": \"nfrac_xstar_hillside\", \"Value\": 0.05788447751255736}, {\"Construction\": \"Indirect\", \"days_to_subtract1\": 7, \"days_to_subtract2\": 21, \"width\": 14, \"Feature\": \"nfrac_xstar_hillside\", \"Value\": -0.07743216738845989}, {\"Construction\": \"Both\", \"days_to_subtract1\": 7, \"days_to_subtract2\": 21, \"width\": 14, \"Feature\": \"nfrac_xstar_hillside\", \"Value\": 0.2567738171289064}, {\"Construction\": \"Direct\", \"days_to_subtract1\": 14, \"days_to_subtract2\": 35, \"width\": 21, \"Feature\": \"nfrac_xstar_hillside\", \"Value\": 0.149638187388048}, {\"Construction\": \"Indirect\", \"days_to_subtract1\": 14, \"days_to_subtract2\": 35, \"width\": 21, \"Feature\": \"nfrac_xstar_hillside\", \"Value\": -0.6980303927399798}, {\"Construction\": \"Both\", \"days_to_subtract1\": 14, \"days_to_subtract2\": 35, \"width\": 21, \"Feature\": \"nfrac_xstar_hillside\", \"Value\": -0.1110607512855398}, {\"Construction\": \"Direct\", \"days_to_subtract1\": 7, \"days_to_subtract2\": 28, \"width\": 21, \"Feature\": \"nfrac_xstar_hillside\", \"Value\": 0.38937905435514863}, {\"Construction\": \"Indirect\", \"days_to_subtract1\": 7, \"days_to_subtract2\": 28, \"width\": 21, \"Feature\": \"nfrac_xstar_hillside\", \"Value\": -0.05149817783774096}, {\"Construction\": \"Both\", \"days_to_subtract1\": 7, \"days_to_subtract2\": 28, \"width\": 21, \"Feature\": \"nfrac_xstar_hillside\", \"Value\": -0.007818710849332715}, {\"Construction\": \"Direct\", \"days_to_subtract1\": 7, \"days_to_subtract2\": 35, \"width\": 28, \"Feature\": \"nfrac_xstar_hillside\", \"Value\": -0.14867742951754315}, {\"Construction\": \"Indirect\", \"days_to_subtract1\": 7, \"days_to_subtract2\": 35, \"width\": 28, \"Feature\": \"nfrac_xstar_hillside\", \"Value\": -0.1305322155007622}, {\"Construction\": \"Both\", \"days_to_subtract1\": 7, \"days_to_subtract2\": 35, \"width\": 28, \"Feature\": \"nfrac_xstar_hillside\", \"Value\": -0.18500557500765558}, {\"Construction\": \"Direct\", \"days_to_subtract1\": 28, \"days_to_subtract2\": 35, \"width\": 7, \"Feature\": \"diameter_lop\", \"Value\": -0.22636126592896852}, {\"Construction\": \"Indirect\", \"days_to_subtract1\": 28, \"days_to_subtract2\": 35, \"width\": 7, \"Feature\": \"diameter_lop\", \"Value\": 0.1471206042439311}, {\"Construction\": \"Both\", \"days_to_subtract1\": 28, \"days_to_subtract2\": 35, \"width\": 7, \"Feature\": \"diameter_lop\", \"Value\": 0.16184118355681837}, {\"Construction\": \"Direct\", \"days_to_subtract1\": 21, \"days_to_subtract2\": 28, \"width\": 7, \"Feature\": \"diameter_lop\", \"Value\": 0.3831625849220623}, {\"Construction\": \"Indirect\", \"days_to_subtract1\": 21, \"days_to_subtract2\": 28, \"width\": 7, \"Feature\": \"diameter_lop\", \"Value\": -0.5386467350463785}, {\"Construction\": \"Both\", \"days_to_subtract1\": 21, \"days_to_subtract2\": 28, \"width\": 7, \"Feature\": \"diameter_lop\", \"Value\": -0.2496514424084692}, {\"Construction\": \"Direct\", \"days_to_subtract1\": 14, \"days_to_subtract2\": 21, \"width\": 7, \"Feature\": \"diameter_lop\", \"Value\": 0.10190153739175767}, {\"Construction\": \"Indirect\", \"days_to_subtract1\": 14, \"days_to_subtract2\": 21, \"width\": 7, \"Feature\": \"diameter_lop\", \"Value\": 0.03425936106384549}, {\"Construction\": \"Both\", \"days_to_subtract1\": 14, \"days_to_subtract2\": 21, \"width\": 7, \"Feature\": \"diameter_lop\", \"Value\": 0.024607674990931132}, {\"Construction\": \"Direct\", \"days_to_subtract1\": 7, \"days_to_subtract2\": 14, \"width\": 7, \"Feature\": \"diameter_lop\", \"Value\": -0.10170858313446053}, {\"Construction\": \"Indirect\", \"days_to_subtract1\": 7, \"days_to_subtract2\": 14, \"width\": 7, \"Feature\": \"diameter_lop\", \"Value\": 0.13144214842732332}, {\"Construction\": \"Both\", \"days_to_subtract1\": 7, \"days_to_subtract2\": 14, \"width\": 7, \"Feature\": \"diameter_lop\", \"Value\": 0.061316501500071695}, {\"Construction\": \"Direct\", \"days_to_subtract1\": 21, \"days_to_subtract2\": 35, \"width\": 14, \"Feature\": \"diameter_lop\", \"Value\": 0.09330997565745157}, {\"Construction\": \"Indirect\", \"days_to_subtract1\": 21, \"days_to_subtract2\": 35, \"width\": 14, \"Feature\": \"diameter_lop\", \"Value\": -0.333993873731044}, {\"Construction\": \"Both\", \"days_to_subtract1\": 21, \"days_to_subtract2\": 35, \"width\": 14, \"Feature\": \"diameter_lop\", \"Value\": 0.06448907618772762}, {\"Construction\": \"Direct\", \"days_to_subtract1\": 14, \"days_to_subtract2\": 28, \"width\": 14, \"Feature\": \"diameter_lop\", \"Value\": 0.25002814632412823}, {\"Construction\": \"Indirect\", \"days_to_subtract1\": 14, \"days_to_subtract2\": 28, \"width\": 14, \"Feature\": \"diameter_lop\", \"Value\": -0.0031904135548085385}, {\"Construction\": \"Both\", \"days_to_subtract1\": 14, \"days_to_subtract2\": 28, \"width\": 14, \"Feature\": \"diameter_lop\", \"Value\": 0.42350744972418947}, {\"Construction\": \"Direct\", \"days_to_subtract1\": 7, \"days_to_subtract2\": 21, \"width\": 14, \"Feature\": \"diameter_lop\", \"Value\": 0.1846357102345057}, {\"Construction\": \"Indirect\", \"days_to_subtract1\": 7, \"days_to_subtract2\": 21, \"width\": 14, \"Feature\": \"diameter_lop\", \"Value\": 0.10109882505123702}, {\"Construction\": \"Both\", \"days_to_subtract1\": 7, \"days_to_subtract2\": 21, \"width\": 14, \"Feature\": \"diameter_lop\", \"Value\": 0.034628293354484016}, {\"Construction\": \"Direct\", \"days_to_subtract1\": 14, \"days_to_subtract2\": 35, \"width\": 21, \"Feature\": \"diameter_lop\", \"Value\": 0.6400196963714101}, {\"Construction\": \"Indirect\", \"days_to_subtract1\": 14, \"days_to_subtract2\": 35, \"width\": 21, \"Feature\": \"diameter_lop\", \"Value\": 0.2561545281811538}, {\"Construction\": \"Both\", \"days_to_subtract1\": 14, \"days_to_subtract2\": 35, \"width\": 21, \"Feature\": \"diameter_lop\", \"Value\": 0.44887855306093016}, {\"Construction\": \"Direct\", \"days_to_subtract1\": 7, \"days_to_subtract2\": 28, \"width\": 21, \"Feature\": \"diameter_lop\", \"Value\": 0.40950076859231455}, {\"Construction\": \"Indirect\", \"days_to_subtract1\": 7, \"days_to_subtract2\": 28, \"width\": 21, \"Feature\": \"diameter_lop\", \"Value\": 0.18525270716490258}, {\"Construction\": \"Both\", \"days_to_subtract1\": 7, \"days_to_subtract2\": 28, \"width\": 21, \"Feature\": \"diameter_lop\", \"Value\": 0.024511543649498518}, {\"Construction\": \"Direct\", \"days_to_subtract1\": 7, \"days_to_subtract2\": 35, \"width\": 28, \"Feature\": \"diameter_lop\", \"Value\": 0.25418381325236705}, {\"Construction\": \"Indirect\", \"days_to_subtract1\": 7, \"days_to_subtract2\": 35, \"width\": 28, \"Feature\": \"diameter_lop\", \"Value\": -0.0646456548681831}, {\"Construction\": \"Both\", \"days_to_subtract1\": 7, \"days_to_subtract2\": 35, \"width\": 28, \"Feature\": \"diameter_lop\", \"Value\": -0.1857911122170456}, {\"Construction\": \"Direct\", \"days_to_subtract1\": 28, \"days_to_subtract2\": 35, \"width\": 7, \"Feature\": \"diameter_hillside\", \"Value\": -0.23773686467041644}, {\"Construction\": \"Indirect\", \"days_to_subtract1\": 28, \"days_to_subtract2\": 35, \"width\": 7, \"Feature\": \"diameter_hillside\", \"Value\": 0.24471788505777062}, {\"Construction\": \"Both\", \"days_to_subtract1\": 28, \"days_to_subtract2\": 35, \"width\": 7, \"Feature\": \"diameter_hillside\", \"Value\": -0.078060600798378}, {\"Construction\": \"Direct\", \"days_to_subtract1\": 21, \"days_to_subtract2\": 28, \"width\": 7, \"Feature\": \"diameter_hillside\", \"Value\": 0.3298662444570674}, {\"Construction\": \"Indirect\", \"days_to_subtract1\": 21, \"days_to_subtract2\": 28, \"width\": 7, \"Feature\": \"diameter_hillside\", \"Value\": -0.1437863199224009}, {\"Construction\": \"Both\", \"days_to_subtract1\": 21, \"days_to_subtract2\": 28, \"width\": 7, \"Feature\": \"diameter_hillside\", \"Value\": 0.0885229406033009}, {\"Construction\": \"Direct\", \"days_to_subtract1\": 14, \"days_to_subtract2\": 21, \"width\": 7, \"Feature\": \"diameter_hillside\", \"Value\": 0.005865609855848924}, {\"Construction\": \"Indirect\", \"days_to_subtract1\": 14, \"days_to_subtract2\": 21, \"width\": 7, \"Feature\": \"diameter_hillside\", \"Value\": -0.07616471168467594}, {\"Construction\": \"Both\", \"days_to_subtract1\": 14, \"days_to_subtract2\": 21, \"width\": 7, \"Feature\": \"diameter_hillside\", \"Value\": 0.06991328130118096}, {\"Construction\": \"Direct\", \"days_to_subtract1\": 7, \"days_to_subtract2\": 14, \"width\": 7, \"Feature\": \"diameter_hillside\", \"Value\": 0.08664117120390159}, {\"Construction\": \"Indirect\", \"days_to_subtract1\": 7, \"days_to_subtract2\": 14, \"width\": 7, \"Feature\": \"diameter_hillside\", \"Value\": -0.00448470016298348}, {\"Construction\": \"Both\", \"days_to_subtract1\": 7, \"days_to_subtract2\": 14, \"width\": 7, \"Feature\": \"diameter_hillside\", \"Value\": 0.3952906696617902}, {\"Construction\": \"Direct\", \"days_to_subtract1\": 21, \"days_to_subtract2\": 35, \"width\": 14, \"Feature\": \"diameter_hillside\", \"Value\": 0.10835468104285391}, {\"Construction\": \"Indirect\", \"days_to_subtract1\": 21, \"days_to_subtract2\": 35, \"width\": 14, \"Feature\": \"diameter_hillside\", \"Value\": 0.1917829766082097}, {\"Construction\": \"Both\", \"days_to_subtract1\": 21, \"days_to_subtract2\": 35, \"width\": 14, \"Feature\": \"diameter_hillside\", \"Value\": -0.03816497183701416}, {\"Construction\": \"Direct\", \"days_to_subtract1\": 14, \"days_to_subtract2\": 28, \"width\": 14, \"Feature\": \"diameter_hillside\", \"Value\": 0.3099217562687815}, {\"Construction\": \"Indirect\", \"days_to_subtract1\": 14, \"days_to_subtract2\": 28, \"width\": 14, \"Feature\": \"diameter_hillside\", \"Value\": -0.42453253514258776}, {\"Construction\": \"Both\", \"days_to_subtract1\": 14, \"days_to_subtract2\": 28, \"width\": 14, \"Feature\": \"diameter_hillside\", \"Value\": 0.08278494471082311}, {\"Construction\": \"Direct\", \"days_to_subtract1\": 7, \"days_to_subtract2\": 21, \"width\": 14, \"Feature\": \"diameter_hillside\", \"Value\": 0.21339755785072345}, {\"Construction\": \"Indirect\", \"days_to_subtract1\": 7, \"days_to_subtract2\": 21, \"width\": 14, \"Feature\": \"diameter_hillside\", \"Value\": -0.10845001422736915}, {\"Construction\": \"Both\", \"days_to_subtract1\": 7, \"days_to_subtract2\": 21, \"width\": 14, \"Feature\": \"diameter_hillside\", \"Value\": 0.24265304897823442}, {\"Construction\": \"Direct\", \"days_to_subtract1\": 14, \"days_to_subtract2\": 35, \"width\": 21, \"Feature\": \"diameter_hillside\", \"Value\": 0.6559360380339562}, {\"Construction\": \"Indirect\", \"days_to_subtract1\": 14, \"days_to_subtract2\": 35, \"width\": 21, \"Feature\": \"diameter_hillside\", \"Value\": -0.7303006667999002}, {\"Construction\": \"Both\", \"days_to_subtract1\": 14, \"days_to_subtract2\": 35, \"width\": 21, \"Feature\": \"diameter_hillside\", \"Value\": -0.06634734791835815}, {\"Construction\": \"Direct\", \"days_to_subtract1\": 7, \"days_to_subtract2\": 28, \"width\": 21, \"Feature\": \"diameter_hillside\", \"Value\": 0.4194640329711255}, {\"Construction\": \"Indirect\", \"days_to_subtract1\": 7, \"days_to_subtract2\": 28, \"width\": 21, \"Feature\": \"diameter_hillside\", \"Value\": -0.06139958280174617}, {\"Construction\": \"Both\", \"days_to_subtract1\": 7, \"days_to_subtract2\": 28, \"width\": 21, \"Feature\": \"diameter_hillside\", \"Value\": 0.007127077090032631}, {\"Construction\": \"Direct\", \"days_to_subtract1\": 7, \"days_to_subtract2\": 35, \"width\": 28, \"Feature\": \"diameter_hillside\", \"Value\": 0.30977214933559954}, {\"Construction\": \"Indirect\", \"days_to_subtract1\": 7, \"days_to_subtract2\": 35, \"width\": 28, \"Feature\": \"diameter_hillside\", \"Value\": -0.16396509219843663}, {\"Construction\": \"Both\", \"days_to_subtract1\": 7, \"days_to_subtract2\": 35, \"width\": 28, \"Feature\": \"diameter_hillside\", \"Value\": -0.17248429377533392}]}}, {\"mode\": \"vega-lite\"});\n",
       "</script>"
      ],
      "text/plain": [
       "alt.Chart(...)"
      ]
     },
     "metadata": {},
     "output_type": "display_data"
    }
   ],
   "source": [
    "for key in graph_dfs.keys():\n",
    "    display(Markdown(f'## {key}'))\n",
    "    graph_df = graph_dfs[key].melt(value_vars=feature_columns,id_vars=index_cols,value_name='Value',var_name='Feature')\n",
    "\n",
    "    display(Markdown('### Colley'))\n",
    "    g = alt.Chart(graph_df.set_index('Method').loc['Colley']).mark_bar().encode(\n",
    "        x='width:N',\n",
    "        y=alt.Y('average(Value)',scale=alt.Scale(domain=[-.6, .6])),\n",
    "        row='Feature:N',\n",
    "        color='Construction:N',\n",
    "        column='Construction:N'\n",
    "    )\n",
    "    display(g)\n",
    "    \n",
    "    display(Markdown('### Massey'))\n",
    "    g = alt.Chart(graph_df.set_index('Method').loc['Massey']).mark_bar().encode(\n",
    "        x='width:N',\n",
    "        y=alt.Y('average(Value)',scale=alt.Scale(domain=[-.6, .6])),\n",
    "        row='Feature:N',\n",
    "        color='Construction:N',\n",
    "        column='Construction:N'\n",
    "    )\n",
    "    display(g)"
   ]
  },
  {
   "cell_type": "markdown",
   "metadata": {},
   "source": [
    "### Old below this line"
   ]
  },
  {
   "cell_type": "markdown",
   "metadata": {},
   "source": [
    "### Colley"
   ]
  },
  {
   "cell_type": "code",
   "execution_count": 77,
   "metadata": {},
   "outputs": [
    {
     "data": {
      "text/html": [
       "\n",
       "<div id=\"altair-viz-0ba571a0dd254e459f73f0378eac82d0\"></div>\n",
       "<script type=\"text/javascript\">\n",
       "  (function(spec, embedOpt){\n",
       "    let outputDiv = document.currentScript.previousElementSibling;\n",
       "    if (outputDiv.id !== \"altair-viz-0ba571a0dd254e459f73f0378eac82d0\") {\n",
       "      outputDiv = document.getElementById(\"altair-viz-0ba571a0dd254e459f73f0378eac82d0\");\n",
       "    }\n",
       "    const paths = {\n",
       "      \"vega\": \"https://cdn.jsdelivr.net/npm//vega@5?noext\",\n",
       "      \"vega-lib\": \"https://cdn.jsdelivr.net/npm//vega-lib?noext\",\n",
       "      \"vega-lite\": \"https://cdn.jsdelivr.net/npm//vega-lite@4.8.1?noext\",\n",
       "      \"vega-embed\": \"https://cdn.jsdelivr.net/npm//vega-embed@6?noext\",\n",
       "    };\n",
       "\n",
       "    function loadScript(lib) {\n",
       "      return new Promise(function(resolve, reject) {\n",
       "        var s = document.createElement('script');\n",
       "        s.src = paths[lib];\n",
       "        s.async = true;\n",
       "        s.onload = () => resolve(paths[lib]);\n",
       "        s.onerror = () => reject(`Error loading script: ${paths[lib]}`);\n",
       "        document.getElementsByTagName(\"head\")[0].appendChild(s);\n",
       "      });\n",
       "    }\n",
       "\n",
       "    function showError(err) {\n",
       "      outputDiv.innerHTML = `<div class=\"error\" style=\"color:red;\">${err}</div>`;\n",
       "      throw err;\n",
       "    }\n",
       "\n",
       "    function displayChart(vegaEmbed) {\n",
       "      vegaEmbed(outputDiv, spec, embedOpt)\n",
       "        .catch(err => showError(`Javascript Error: ${err.message}<br>This usually means there's a typo in your chart specification. See the javascript console for the full traceback.`));\n",
       "    }\n",
       "\n",
       "    if(typeof define === \"function\" && define.amd) {\n",
       "      requirejs.config({paths});\n",
       "      require([\"vega-embed\"], displayChart, err => showError(`Error loading script: ${err.message}`));\n",
       "    } else if (typeof vegaEmbed === \"function\") {\n",
       "      displayChart(vegaEmbed);\n",
       "    } else {\n",
       "      loadScript(\"vega\")\n",
       "        .then(() => loadScript(\"vega-lite\"))\n",
       "        .then(() => loadScript(\"vega-embed\"))\n",
       "        .catch(showError)\n",
       "        .then(() => displayChart(vegaEmbed));\n",
       "    }\n",
       "  })({\"config\": {\"view\": {\"continuousWidth\": 400, \"continuousHeight\": 300}}, \"data\": {\"name\": \"data-4943d35189fbff8dd73bb7c4af4c69da\"}, \"mark\": \"bar\", \"encoding\": {\"color\": {\"type\": \"nominal\", \"field\": \"Construction\"}, \"column\": {\"type\": \"nominal\", \"field\": \"Construction\"}, \"row\": {\"type\": \"nominal\", \"field\": \"Feature\"}, \"x\": {\"type\": \"nominal\", \"field\": \"width\"}, \"y\": {\"type\": \"quantitative\", \"aggregate\": \"average\", \"field\": \"Value\", \"scale\": {\"domain\": [-0.6, 0.6]}}}, \"$schema\": \"https://vega.github.io/schema/vega-lite/v4.8.1.json\", \"datasets\": {\"data-4943d35189fbff8dd73bb7c4af4c69da\": [{\"Construction\": \"Direct\", \"days_to_subtract1\": 28, \"days_to_subtract2\": 35, \"width\": 7, \"Feature\": \"delta_lop\", \"Value\": -0.23402690050724176}, {\"Construction\": \"Indirect\", \"days_to_subtract1\": 28, \"days_to_subtract2\": 35, \"width\": 7, \"Feature\": \"delta_lop\", \"Value\": -0.31896083769255035}, {\"Construction\": \"Both\", \"days_to_subtract1\": 28, \"days_to_subtract2\": 35, \"width\": 7, \"Feature\": \"delta_lop\", \"Value\": -0.24590050774139063}, {\"Construction\": \"Direct\", \"days_to_subtract1\": 21, \"days_to_subtract2\": 28, \"width\": 7, \"Feature\": \"delta_lop\", \"Value\": -0.10404531282094255}, {\"Construction\": \"Indirect\", \"days_to_subtract1\": 21, \"days_to_subtract2\": 28, \"width\": 7, \"Feature\": \"delta_lop\", \"Value\": -0.0816473162895884}, {\"Construction\": \"Both\", \"days_to_subtract1\": 21, \"days_to_subtract2\": 28, \"width\": 7, \"Feature\": \"delta_lop\", \"Value\": -0.14550398872635545}, {\"Construction\": \"Direct\", \"days_to_subtract1\": 14, \"days_to_subtract2\": 21, \"width\": 7, \"Feature\": \"delta_lop\", \"Value\": -0.6552137498384448}, {\"Construction\": \"Indirect\", \"days_to_subtract1\": 14, \"days_to_subtract2\": 21, \"width\": 7, \"Feature\": \"delta_lop\", \"Value\": -0.2798904239467404}, {\"Construction\": \"Both\", \"days_to_subtract1\": 14, \"days_to_subtract2\": 21, \"width\": 7, \"Feature\": \"delta_lop\", \"Value\": -0.35320811265189606}, {\"Construction\": \"Direct\", \"days_to_subtract1\": 7, \"days_to_subtract2\": 14, \"width\": 7, \"Feature\": \"delta_lop\", \"Value\": -0.13558608897979113}, {\"Construction\": \"Indirect\", \"days_to_subtract1\": 7, \"days_to_subtract2\": 14, \"width\": 7, \"Feature\": \"delta_lop\", \"Value\": 0.26087433519273584}, {\"Construction\": \"Both\", \"days_to_subtract1\": 7, \"days_to_subtract2\": 14, \"width\": 7, \"Feature\": \"delta_lop\", \"Value\": 0.209659767951806}, {\"Construction\": \"Direct\", \"days_to_subtract1\": 21, \"days_to_subtract2\": 35, \"width\": 14, \"Feature\": \"delta_lop\", \"Value\": -0.2685414501555333}, {\"Construction\": \"Indirect\", \"days_to_subtract1\": 21, \"days_to_subtract2\": 35, \"width\": 14, \"Feature\": \"delta_lop\", \"Value\": -0.261037103432673}, {\"Construction\": \"Both\", \"days_to_subtract1\": 21, \"days_to_subtract2\": 35, \"width\": 14, \"Feature\": \"delta_lop\", \"Value\": -0.3454134352089244}, {\"Construction\": \"Direct\", \"days_to_subtract1\": 14, \"days_to_subtract2\": 28, \"width\": 14, \"Feature\": \"delta_lop\", \"Value\": 0.2221730811846724}, {\"Construction\": \"Indirect\", \"days_to_subtract1\": 14, \"days_to_subtract2\": 28, \"width\": 14, \"Feature\": \"delta_lop\", \"Value\": -0.22053409076786112}, {\"Construction\": \"Both\", \"days_to_subtract1\": 14, \"days_to_subtract2\": 28, \"width\": 14, \"Feature\": \"delta_lop\", \"Value\": -0.259462378100337}, {\"Construction\": \"Direct\", \"days_to_subtract1\": 7, \"days_to_subtract2\": 21, \"width\": 14, \"Feature\": \"delta_lop\", \"Value\": -0.14258266638266692}, {\"Construction\": \"Indirect\", \"days_to_subtract1\": 7, \"days_to_subtract2\": 21, \"width\": 14, \"Feature\": \"delta_lop\", \"Value\": 0.07203317872492508}, {\"Construction\": \"Both\", \"days_to_subtract1\": 7, \"days_to_subtract2\": 21, \"width\": 14, \"Feature\": \"delta_lop\", \"Value\": -0.011460143626010924}, {\"Construction\": \"Direct\", \"days_to_subtract1\": 14, \"days_to_subtract2\": 35, \"width\": 21, \"Feature\": \"delta_lop\", \"Value\": -0.3107965199122023}, {\"Construction\": \"Indirect\", \"days_to_subtract1\": 14, \"days_to_subtract2\": 35, \"width\": 21, \"Feature\": \"delta_lop\", \"Value\": -0.336953841616011}, {\"Construction\": \"Both\", \"days_to_subtract1\": 14, \"days_to_subtract2\": 35, \"width\": 21, \"Feature\": \"delta_lop\", \"Value\": -0.392986035265131}, {\"Construction\": \"Direct\", \"days_to_subtract1\": 7, \"days_to_subtract2\": 28, \"width\": 21, \"Feature\": \"delta_lop\", \"Value\": 0.014794240601030639}, {\"Construction\": \"Indirect\", \"days_to_subtract1\": 7, \"days_to_subtract2\": 28, \"width\": 21, \"Feature\": \"delta_lop\", \"Value\": -0.15194018374365428}, {\"Construction\": \"Both\", \"days_to_subtract1\": 7, \"days_to_subtract2\": 28, \"width\": 21, \"Feature\": \"delta_lop\", \"Value\": -0.15665509606901878}, {\"Construction\": \"Direct\", \"days_to_subtract1\": 7, \"days_to_subtract2\": 35, \"width\": 28, \"Feature\": \"delta_lop\", \"Value\": -0.10804107985895295}, {\"Construction\": \"Indirect\", \"days_to_subtract1\": 7, \"days_to_subtract2\": 35, \"width\": 28, \"Feature\": \"delta_lop\", \"Value\": -0.22544511926153787}, {\"Construction\": \"Both\", \"days_to_subtract1\": 7, \"days_to_subtract2\": 35, \"width\": 28, \"Feature\": \"delta_lop\", \"Value\": -0.2655692135111095}, {\"Construction\": \"Direct\", \"days_to_subtract1\": 28, \"days_to_subtract2\": 35, \"width\": 7, \"Feature\": \"delta_hillside\", \"Value\": -0.34022913658002263}, {\"Construction\": \"Indirect\", \"days_to_subtract1\": 28, \"days_to_subtract2\": 35, \"width\": 7, \"Feature\": \"delta_hillside\", \"Value\": -0.2998195513360301}, {\"Construction\": \"Both\", \"days_to_subtract1\": 28, \"days_to_subtract2\": 35, \"width\": 7, \"Feature\": \"delta_hillside\", \"Value\": -0.2959765126644985}, {\"Construction\": \"Direct\", \"days_to_subtract1\": 21, \"days_to_subtract2\": 28, \"width\": 7, \"Feature\": \"delta_hillside\", \"Value\": 0.004106431400051547}, {\"Construction\": \"Indirect\", \"days_to_subtract1\": 21, \"days_to_subtract2\": 28, \"width\": 7, \"Feature\": \"delta_hillside\", \"Value\": -0.10534298639964416}, {\"Construction\": \"Both\", \"days_to_subtract1\": 21, \"days_to_subtract2\": 28, \"width\": 7, \"Feature\": \"delta_hillside\", \"Value\": -0.13516018936523605}, {\"Construction\": \"Direct\", \"days_to_subtract1\": 14, \"days_to_subtract2\": 21, \"width\": 7, \"Feature\": \"delta_hillside\", \"Value\": -0.43632712053890294}, {\"Construction\": \"Indirect\", \"days_to_subtract1\": 14, \"days_to_subtract2\": 21, \"width\": 7, \"Feature\": \"delta_hillside\", \"Value\": -0.20477375527344435}, {\"Construction\": \"Both\", \"days_to_subtract1\": 14, \"days_to_subtract2\": 21, \"width\": 7, \"Feature\": \"delta_hillside\", \"Value\": -0.16961177825013202}, {\"Construction\": \"Direct\", \"days_to_subtract1\": 7, \"days_to_subtract2\": 14, \"width\": 7, \"Feature\": \"delta_hillside\", \"Value\": -0.011328806489526241}, {\"Construction\": \"Indirect\", \"days_to_subtract1\": 7, \"days_to_subtract2\": 14, \"width\": 7, \"Feature\": \"delta_hillside\", \"Value\": 0.10781955735553626}, {\"Construction\": \"Both\", \"days_to_subtract1\": 7, \"days_to_subtract2\": 14, \"width\": 7, \"Feature\": \"delta_hillside\", \"Value\": 0.044723286239353406}, {\"Construction\": \"Direct\", \"days_to_subtract1\": 21, \"days_to_subtract2\": 35, \"width\": 14, \"Feature\": \"delta_hillside\", \"Value\": -0.18839905203934612}, {\"Construction\": \"Indirect\", \"days_to_subtract1\": 21, \"days_to_subtract2\": 35, \"width\": 14, \"Feature\": \"delta_hillside\", \"Value\": -0.3487780493434521}, {\"Construction\": \"Both\", \"days_to_subtract1\": 21, \"days_to_subtract2\": 35, \"width\": 14, \"Feature\": \"delta_hillside\", \"Value\": -0.33552034023709454}, {\"Construction\": \"Direct\", \"days_to_subtract1\": 14, \"days_to_subtract2\": 28, \"width\": 14, \"Feature\": \"delta_hillside\", \"Value\": -0.1281190927804534}, {\"Construction\": \"Indirect\", \"days_to_subtract1\": 14, \"days_to_subtract2\": 28, \"width\": 14, \"Feature\": \"delta_hillside\", \"Value\": -0.31353304600571824}, {\"Construction\": \"Both\", \"days_to_subtract1\": 14, \"days_to_subtract2\": 28, \"width\": 14, \"Feature\": \"delta_hillside\", \"Value\": -0.3496897857962115}, {\"Construction\": \"Direct\", \"days_to_subtract1\": 7, \"days_to_subtract2\": 21, \"width\": 14, \"Feature\": \"delta_hillside\", \"Value\": -0.17441874081206485}, {\"Construction\": \"Indirect\", \"days_to_subtract1\": 7, \"days_to_subtract2\": 21, \"width\": 14, \"Feature\": \"delta_hillside\", \"Value\": -0.05137713807732798}, {\"Construction\": \"Both\", \"days_to_subtract1\": 7, \"days_to_subtract2\": 21, \"width\": 14, \"Feature\": \"delta_hillside\", \"Value\": -0.08349213998071359}, {\"Construction\": \"Direct\", \"days_to_subtract1\": 14, \"days_to_subtract2\": 35, \"width\": 21, \"Feature\": \"delta_hillside\", \"Value\": -0.3855822241669603}, {\"Construction\": \"Indirect\", \"days_to_subtract1\": 14, \"days_to_subtract2\": 35, \"width\": 21, \"Feature\": \"delta_hillside\", \"Value\": -0.5030536153496123}, {\"Construction\": \"Both\", \"days_to_subtract1\": 14, \"days_to_subtract2\": 35, \"width\": 21, \"Feature\": \"delta_hillside\", \"Value\": -0.559870896375153}, {\"Construction\": \"Direct\", \"days_to_subtract1\": 7, \"days_to_subtract2\": 28, \"width\": 21, \"Feature\": \"delta_hillside\", \"Value\": -0.10437093789250682}, {\"Construction\": \"Indirect\", \"days_to_subtract1\": 7, \"days_to_subtract2\": 28, \"width\": 21, \"Feature\": \"delta_hillside\", \"Value\": -0.19263355946457927}, {\"Construction\": \"Both\", \"days_to_subtract1\": 7, \"days_to_subtract2\": 28, \"width\": 21, \"Feature\": \"delta_hillside\", \"Value\": -0.227686427951217}, {\"Construction\": \"Direct\", \"days_to_subtract1\": 7, \"days_to_subtract2\": 35, \"width\": 28, \"Feature\": \"delta_hillside\", \"Value\": -0.18357538683135827}, {\"Construction\": \"Indirect\", \"days_to_subtract1\": 7, \"days_to_subtract2\": 35, \"width\": 28, \"Feature\": \"delta_hillside\", \"Value\": -0.35008024747030053}, {\"Construction\": \"Both\", \"days_to_subtract1\": 7, \"days_to_subtract2\": 35, \"width\": 28, \"Feature\": \"delta_hillside\", \"Value\": -0.3938277494075528}, {\"Construction\": \"Direct\", \"days_to_subtract1\": 28, \"days_to_subtract2\": 35, \"width\": 7, \"Feature\": \"nfrac_xstar_lop\", \"Value\": 0.0034409050907162784}, {\"Construction\": \"Indirect\", \"days_to_subtract1\": 28, \"days_to_subtract2\": 35, \"width\": 7, \"Feature\": \"nfrac_xstar_lop\", \"Value\": 0.12438646972659567}, {\"Construction\": \"Both\", \"days_to_subtract1\": 28, \"days_to_subtract2\": 35, \"width\": 7, \"Feature\": \"nfrac_xstar_lop\", \"Value\": 0.05878642168163191}, {\"Construction\": \"Direct\", \"days_to_subtract1\": 21, \"days_to_subtract2\": 28, \"width\": 7, \"Feature\": \"nfrac_xstar_lop\", \"Value\": -0.6447568906595229}, {\"Construction\": \"Indirect\", \"days_to_subtract1\": 21, \"days_to_subtract2\": 28, \"width\": 7, \"Feature\": \"nfrac_xstar_lop\", \"Value\": 0.2374367856329915}, {\"Construction\": \"Both\", \"days_to_subtract1\": 21, \"days_to_subtract2\": 28, \"width\": 7, \"Feature\": \"nfrac_xstar_lop\", \"Value\": -0.5023569850168389}, {\"Construction\": \"Direct\", \"days_to_subtract1\": 14, \"days_to_subtract2\": 21, \"width\": 7, \"Feature\": \"nfrac_xstar_lop\", \"Value\": 0.03937947075431838}, {\"Construction\": \"Indirect\", \"days_to_subtract1\": 14, \"days_to_subtract2\": 21, \"width\": 7, \"Feature\": \"nfrac_xstar_lop\", \"Value\": 0.14739390880572129}, {\"Construction\": \"Both\", \"days_to_subtract1\": 14, \"days_to_subtract2\": 21, \"width\": 7, \"Feature\": \"nfrac_xstar_lop\", \"Value\": -0.3142266712161121}, {\"Construction\": \"Direct\", \"days_to_subtract1\": 7, \"days_to_subtract2\": 14, \"width\": 7, \"Feature\": \"nfrac_xstar_lop\", \"Value\": -0.415014786862337}, {\"Construction\": \"Indirect\", \"days_to_subtract1\": 7, \"days_to_subtract2\": 14, \"width\": 7, \"Feature\": \"nfrac_xstar_lop\", \"Value\": 0.2828144887774483}, {\"Construction\": \"Both\", \"days_to_subtract1\": 7, \"days_to_subtract2\": 14, \"width\": 7, \"Feature\": \"nfrac_xstar_lop\", \"Value\": 0.2396227521427374}, {\"Construction\": \"Direct\", \"days_to_subtract1\": 21, \"days_to_subtract2\": 35, \"width\": 14, \"Feature\": \"nfrac_xstar_lop\", \"Value\": -0.27343184954291716}, {\"Construction\": \"Indirect\", \"days_to_subtract1\": 21, \"days_to_subtract2\": 35, \"width\": 14, \"Feature\": \"nfrac_xstar_lop\", \"Value\": 0.5357022925862687}, {\"Construction\": \"Both\", \"days_to_subtract1\": 21, \"days_to_subtract2\": 35, \"width\": 14, \"Feature\": \"nfrac_xstar_lop\", \"Value\": -0.17426610406824253}, {\"Construction\": \"Direct\", \"days_to_subtract1\": 14, \"days_to_subtract2\": 28, \"width\": 14, \"Feature\": \"nfrac_xstar_lop\", \"Value\": 0.5673494186961487}, {\"Construction\": \"Indirect\", \"days_to_subtract1\": 14, \"days_to_subtract2\": 28, \"width\": 14, \"Feature\": \"nfrac_xstar_lop\", \"Value\": 0.2250904119539932}, {\"Construction\": \"Both\", \"days_to_subtract1\": 14, \"days_to_subtract2\": 28, \"width\": 14, \"Feature\": \"nfrac_xstar_lop\", \"Value\": -0.10357182911640553}, {\"Construction\": \"Direct\", \"days_to_subtract1\": 7, \"days_to_subtract2\": 21, \"width\": 14, \"Feature\": \"nfrac_xstar_lop\", \"Value\": 0.0697528046304943}, {\"Construction\": \"Indirect\", \"days_to_subtract1\": 7, \"days_to_subtract2\": 21, \"width\": 14, \"Feature\": \"nfrac_xstar_lop\", \"Value\": 0.22183640358388101}, {\"Construction\": \"Both\", \"days_to_subtract1\": 7, \"days_to_subtract2\": 21, \"width\": 14, \"Feature\": \"nfrac_xstar_lop\", \"Value\": 0.12062696937905813}, {\"Construction\": \"Direct\", \"days_to_subtract1\": 14, \"days_to_subtract2\": 35, \"width\": 21, \"Feature\": \"nfrac_xstar_lop\", \"Value\": 0.06381336501007027}, {\"Construction\": \"Indirect\", \"days_to_subtract1\": 14, \"days_to_subtract2\": 35, \"width\": 21, \"Feature\": \"nfrac_xstar_lop\", \"Value\": 0.009466215383650264}, {\"Construction\": \"Both\", \"days_to_subtract1\": 14, \"days_to_subtract2\": 35, \"width\": 21, \"Feature\": \"nfrac_xstar_lop\", \"Value\": -0.45611089054514353}, {\"Construction\": \"Direct\", \"days_to_subtract1\": 7, \"days_to_subtract2\": 28, \"width\": 21, \"Feature\": \"nfrac_xstar_lop\", \"Value\": 0.23289631856074744}, {\"Construction\": \"Indirect\", \"days_to_subtract1\": 7, \"days_to_subtract2\": 28, \"width\": 21, \"Feature\": \"nfrac_xstar_lop\", \"Value\": 0.33679898459200824}, {\"Construction\": \"Both\", \"days_to_subtract1\": 7, \"days_to_subtract2\": 28, \"width\": 21, \"Feature\": \"nfrac_xstar_lop\", \"Value\": -0.012237154350287523}, {\"Construction\": \"Direct\", \"days_to_subtract1\": 7, \"days_to_subtract2\": 35, \"width\": 28, \"Feature\": \"nfrac_xstar_lop\", \"Value\": 0.11098039834472906}, {\"Construction\": \"Indirect\", \"days_to_subtract1\": 7, \"days_to_subtract2\": 35, \"width\": 28, \"Feature\": \"nfrac_xstar_lop\", \"Value\": 0.3616737114355304}, {\"Construction\": \"Both\", \"days_to_subtract1\": 7, \"days_to_subtract2\": 35, \"width\": 28, \"Feature\": \"nfrac_xstar_lop\", \"Value\": -0.12388328433467244}, {\"Construction\": \"Direct\", \"days_to_subtract1\": 28, \"days_to_subtract2\": 35, \"width\": 7, \"Feature\": \"nfrac_xstar_hillside\", \"Value\": 0.34573036623921655}, {\"Construction\": \"Indirect\", \"days_to_subtract1\": 28, \"days_to_subtract2\": 35, \"width\": 7, \"Feature\": \"nfrac_xstar_hillside\", \"Value\": -0.09040352105460993}, {\"Construction\": \"Both\", \"days_to_subtract1\": 28, \"days_to_subtract2\": 35, \"width\": 7, \"Feature\": \"nfrac_xstar_hillside\", \"Value\": 0.15187834325091867}, {\"Construction\": \"Direct\", \"days_to_subtract1\": 21, \"days_to_subtract2\": 28, \"width\": 7, \"Feature\": \"nfrac_xstar_hillside\", \"Value\": -0.5378238925608628}, {\"Construction\": \"Indirect\", \"days_to_subtract1\": 21, \"days_to_subtract2\": 28, \"width\": 7, \"Feature\": \"nfrac_xstar_hillside\", \"Value\": 0.13707986175358663}, {\"Construction\": \"Both\", \"days_to_subtract1\": 21, \"days_to_subtract2\": 28, \"width\": 7, \"Feature\": \"nfrac_xstar_hillside\", \"Value\": -0.2596051089238779}, {\"Construction\": \"Direct\", \"days_to_subtract1\": 14, \"days_to_subtract2\": 21, \"width\": 7, \"Feature\": \"nfrac_xstar_hillside\", \"Value\": 0.5124767671822531}, {\"Construction\": \"Indirect\", \"days_to_subtract1\": 14, \"days_to_subtract2\": 21, \"width\": 7, \"Feature\": \"nfrac_xstar_hillside\", \"Value\": -0.14872096547199157}, {\"Construction\": \"Both\", \"days_to_subtract1\": 14, \"days_to_subtract2\": 21, \"width\": 7, \"Feature\": \"nfrac_xstar_hillside\", \"Value\": 0.18059393008303015}, {\"Construction\": \"Direct\", \"days_to_subtract1\": 7, \"days_to_subtract2\": 14, \"width\": 7, \"Feature\": \"nfrac_xstar_hillside\", \"Value\": -0.3416697167224344}, {\"Construction\": \"Indirect\", \"days_to_subtract1\": 7, \"days_to_subtract2\": 14, \"width\": 7, \"Feature\": \"nfrac_xstar_hillside\", \"Value\": 0.2211789800871183}, {\"Construction\": \"Both\", \"days_to_subtract1\": 7, \"days_to_subtract2\": 14, \"width\": 7, \"Feature\": \"nfrac_xstar_hillside\", \"Value\": 0.04578323330272183}, {\"Construction\": \"Direct\", \"days_to_subtract1\": 21, \"days_to_subtract2\": 35, \"width\": 14, \"Feature\": \"nfrac_xstar_hillside\", \"Value\": -0.12973622135373727}, {\"Construction\": \"Indirect\", \"days_to_subtract1\": 21, \"days_to_subtract2\": 35, \"width\": 14, \"Feature\": \"nfrac_xstar_hillside\", \"Value\": 0.15015002951651404}, {\"Construction\": \"Both\", \"days_to_subtract1\": 21, \"days_to_subtract2\": 35, \"width\": 14, \"Feature\": \"nfrac_xstar_hillside\", \"Value\": 0.22145084380929525}, {\"Construction\": \"Direct\", \"days_to_subtract1\": 14, \"days_to_subtract2\": 28, \"width\": 14, \"Feature\": \"nfrac_xstar_hillside\", \"Value\": 0.11301735654856006}, {\"Construction\": \"Indirect\", \"days_to_subtract1\": 14, \"days_to_subtract2\": 28, \"width\": 14, \"Feature\": \"nfrac_xstar_hillside\", \"Value\": -0.18922584139297488}, {\"Construction\": \"Both\", \"days_to_subtract1\": 14, \"days_to_subtract2\": 28, \"width\": 14, \"Feature\": \"nfrac_xstar_hillside\", \"Value\": -0.09907525205818513}, {\"Construction\": \"Direct\", \"days_to_subtract1\": 7, \"days_to_subtract2\": 21, \"width\": 14, \"Feature\": \"nfrac_xstar_hillside\", \"Value\": 0.009788089599532892}, {\"Construction\": \"Indirect\", \"days_to_subtract1\": 7, \"days_to_subtract2\": 21, \"width\": 14, \"Feature\": \"nfrac_xstar_hillside\", \"Value\": -0.06711422209231817}, {\"Construction\": \"Both\", \"days_to_subtract1\": 7, \"days_to_subtract2\": 21, \"width\": 14, \"Feature\": \"nfrac_xstar_hillside\", \"Value\": -0.206369873366716}, {\"Construction\": \"Direct\", \"days_to_subtract1\": 14, \"days_to_subtract2\": 35, \"width\": 21, \"Feature\": \"nfrac_xstar_hillside\", \"Value\": 0.014148462742075605}, {\"Construction\": \"Indirect\", \"days_to_subtract1\": 14, \"days_to_subtract2\": 35, \"width\": 21, \"Feature\": \"nfrac_xstar_hillside\", \"Value\": -0.046888874037871786}, {\"Construction\": \"Both\", \"days_to_subtract1\": 14, \"days_to_subtract2\": 35, \"width\": 21, \"Feature\": \"nfrac_xstar_hillside\", \"Value\": -0.0478544145109471}, {\"Construction\": \"Direct\", \"days_to_subtract1\": 7, \"days_to_subtract2\": 28, \"width\": 21, \"Feature\": \"nfrac_xstar_hillside\", \"Value\": 0.05719172719801642}, {\"Construction\": \"Indirect\", \"days_to_subtract1\": 7, \"days_to_subtract2\": 28, \"width\": 21, \"Feature\": \"nfrac_xstar_hillside\", \"Value\": -0.01901799776469275}, {\"Construction\": \"Both\", \"days_to_subtract1\": 7, \"days_to_subtract2\": 28, \"width\": 21, \"Feature\": \"nfrac_xstar_hillside\", \"Value\": -0.08955515675562406}, {\"Construction\": \"Direct\", \"days_to_subtract1\": 7, \"days_to_subtract2\": 35, \"width\": 28, \"Feature\": \"nfrac_xstar_hillside\", \"Value\": 0.11236310303742227}, {\"Construction\": \"Indirect\", \"days_to_subtract1\": 7, \"days_to_subtract2\": 35, \"width\": 28, \"Feature\": \"nfrac_xstar_hillside\", \"Value\": -0.20466704649277753}, {\"Construction\": \"Both\", \"days_to_subtract1\": 7, \"days_to_subtract2\": 35, \"width\": 28, \"Feature\": \"nfrac_xstar_hillside\", \"Value\": -0.10937188142381121}, {\"Construction\": \"Direct\", \"days_to_subtract1\": 28, \"days_to_subtract2\": 35, \"width\": 7, \"Feature\": \"diameter_lop\", \"Value\": -0.1262097900512819}, {\"Construction\": \"Indirect\", \"days_to_subtract1\": 28, \"days_to_subtract2\": 35, \"width\": 7, \"Feature\": \"diameter_lop\", \"Value\": -0.11293519999350177}, {\"Construction\": \"Both\", \"days_to_subtract1\": 28, \"days_to_subtract2\": 35, \"width\": 7, \"Feature\": \"diameter_lop\", \"Value\": -0.03394092467337969}, {\"Construction\": \"Direct\", \"days_to_subtract1\": 21, \"days_to_subtract2\": 28, \"width\": 7, \"Feature\": \"diameter_lop\", \"Value\": 0.6937567529084512}, {\"Construction\": \"Indirect\", \"days_to_subtract1\": 21, \"days_to_subtract2\": 28, \"width\": 7, \"Feature\": \"diameter_lop\", \"Value\": -0.24493973396863042}, {\"Construction\": \"Both\", \"days_to_subtract1\": 21, \"days_to_subtract2\": 28, \"width\": 7, \"Feature\": \"diameter_lop\", \"Value\": 0.44516868838217544}, {\"Construction\": \"Direct\", \"days_to_subtract1\": 14, \"days_to_subtract2\": 21, \"width\": 7, \"Feature\": \"diameter_lop\", \"Value\": -0.053370319785528364}, {\"Construction\": \"Indirect\", \"days_to_subtract1\": 14, \"days_to_subtract2\": 21, \"width\": 7, \"Feature\": \"diameter_lop\", \"Value\": -0.05231628946186641}, {\"Construction\": \"Both\", \"days_to_subtract1\": 14, \"days_to_subtract2\": 21, \"width\": 7, \"Feature\": \"diameter_lop\", \"Value\": 0.32948513709016186}, {\"Construction\": \"Direct\", \"days_to_subtract1\": 7, \"days_to_subtract2\": 14, \"width\": 7, \"Feature\": \"diameter_lop\", \"Value\": 0.48149258103378567}, {\"Construction\": \"Indirect\", \"days_to_subtract1\": 7, \"days_to_subtract2\": 14, \"width\": 7, \"Feature\": \"diameter_lop\", \"Value\": -0.2666208000817707}, {\"Construction\": \"Both\", \"days_to_subtract1\": 7, \"days_to_subtract2\": 14, \"width\": 7, \"Feature\": \"diameter_lop\", \"Value\": -0.19523824979011908}, {\"Construction\": \"Direct\", \"days_to_subtract1\": 21, \"days_to_subtract2\": 35, \"width\": 14, \"Feature\": \"diameter_lop\", \"Value\": 0.2203589435721053}, {\"Construction\": \"Indirect\", \"days_to_subtract1\": 21, \"days_to_subtract2\": 35, \"width\": 14, \"Feature\": \"diameter_lop\", \"Value\": -0.6128038602188217}, {\"Construction\": \"Both\", \"days_to_subtract1\": 21, \"days_to_subtract2\": 35, \"width\": 14, \"Feature\": \"diameter_lop\", \"Value\": 0.159302035649745}, {\"Construction\": \"Direct\", \"days_to_subtract1\": 14, \"days_to_subtract2\": 28, \"width\": 14, \"Feature\": \"diameter_lop\", \"Value\": -0.5286026878095715}, {\"Construction\": \"Indirect\", \"days_to_subtract1\": 14, \"days_to_subtract2\": 28, \"width\": 14, \"Feature\": \"diameter_lop\", \"Value\": -0.17239118338362572}, {\"Construction\": \"Both\", \"days_to_subtract1\": 14, \"days_to_subtract2\": 28, \"width\": 14, \"Feature\": \"diameter_lop\", \"Value\": 0.11624528688580288}, {\"Construction\": \"Direct\", \"days_to_subtract1\": 7, \"days_to_subtract2\": 21, \"width\": 14, \"Feature\": \"diameter_lop\", \"Value\": 0.01309356778077826}, {\"Construction\": \"Indirect\", \"days_to_subtract1\": 7, \"days_to_subtract2\": 21, \"width\": 14, \"Feature\": \"diameter_lop\", \"Value\": -0.26592870596499457}, {\"Construction\": \"Both\", \"days_to_subtract1\": 7, \"days_to_subtract2\": 21, \"width\": 14, \"Feature\": \"diameter_lop\", \"Value\": -0.2611060155831145}, {\"Construction\": \"Direct\", \"days_to_subtract1\": 14, \"days_to_subtract2\": 35, \"width\": 21, \"Feature\": \"diameter_lop\", \"Value\": -0.08324459686230955}, {\"Construction\": \"Indirect\", \"days_to_subtract1\": 14, \"days_to_subtract2\": 35, \"width\": 21, \"Feature\": \"diameter_lop\", \"Value\": 0.073274307787071}, {\"Construction\": \"Both\", \"days_to_subtract1\": 14, \"days_to_subtract2\": 35, \"width\": 21, \"Feature\": \"diameter_lop\", \"Value\": 0.4457808387152233}, {\"Construction\": \"Direct\", \"days_to_subtract1\": 7, \"days_to_subtract2\": 28, \"width\": 21, \"Feature\": \"diameter_lop\", \"Value\": -0.18745601580012503}, {\"Construction\": \"Indirect\", \"days_to_subtract1\": 7, \"days_to_subtract2\": 28, \"width\": 21, \"Feature\": \"diameter_lop\", \"Value\": -0.2863657344678059}, {\"Construction\": \"Both\", \"days_to_subtract1\": 7, \"days_to_subtract2\": 28, \"width\": 21, \"Feature\": \"diameter_lop\", \"Value\": -0.0014476490858091478}, {\"Construction\": \"Direct\", \"days_to_subtract1\": 7, \"days_to_subtract2\": 35, \"width\": 28, \"Feature\": \"diameter_lop\", \"Value\": -0.08979423995837198}, {\"Construction\": \"Indirect\", \"days_to_subtract1\": 7, \"days_to_subtract2\": 35, \"width\": 28, \"Feature\": \"diameter_lop\", \"Value\": -0.3645472284526979}, {\"Construction\": \"Both\", \"days_to_subtract1\": 7, \"days_to_subtract2\": 35, \"width\": 28, \"Feature\": \"diameter_lop\", \"Value\": 0.10638479360378088}, {\"Construction\": \"Direct\", \"days_to_subtract1\": 28, \"days_to_subtract2\": 35, \"width\": 7, \"Feature\": \"diameter_hillside\", \"Value\": -0.43495737196701817}, {\"Construction\": \"Indirect\", \"days_to_subtract1\": 28, \"days_to_subtract2\": 35, \"width\": 7, \"Feature\": \"diameter_hillside\", \"Value\": 0.07785147588358009}, {\"Construction\": \"Both\", \"days_to_subtract1\": 28, \"days_to_subtract2\": 35, \"width\": 7, \"Feature\": \"diameter_hillside\", \"Value\": -0.11451430228750172}, {\"Construction\": \"Direct\", \"days_to_subtract1\": 21, \"days_to_subtract2\": 28, \"width\": 7, \"Feature\": \"diameter_hillside\", \"Value\": 0.5465500779798708}, {\"Construction\": \"Indirect\", \"days_to_subtract1\": 21, \"days_to_subtract2\": 28, \"width\": 7, \"Feature\": \"diameter_hillside\", \"Value\": -0.1920081646217355}, {\"Construction\": \"Both\", \"days_to_subtract1\": 21, \"days_to_subtract2\": 28, \"width\": 7, \"Feature\": \"diameter_hillside\", \"Value\": 0.24335954093945616}, {\"Construction\": \"Direct\", \"days_to_subtract1\": 14, \"days_to_subtract2\": 21, \"width\": 7, \"Feature\": \"diameter_hillside\", \"Value\": -0.5323612306999045}, {\"Construction\": \"Indirect\", \"days_to_subtract1\": 14, \"days_to_subtract2\": 21, \"width\": 7, \"Feature\": \"diameter_hillside\", \"Value\": 0.16055213279072872}, {\"Construction\": \"Both\", \"days_to_subtract1\": 14, \"days_to_subtract2\": 21, \"width\": 7, \"Feature\": \"diameter_hillside\", \"Value\": -0.1489584113330304}, {\"Construction\": \"Direct\", \"days_to_subtract1\": 7, \"days_to_subtract2\": 14, \"width\": 7, \"Feature\": \"diameter_hillside\", \"Value\": 0.3598251743769652}, {\"Construction\": \"Indirect\", \"days_to_subtract1\": 7, \"days_to_subtract2\": 14, \"width\": 7, \"Feature\": \"diameter_hillside\", \"Value\": -0.23900082441074577}, {\"Construction\": \"Both\", \"days_to_subtract1\": 7, \"days_to_subtract2\": 14, \"width\": 7, \"Feature\": \"diameter_hillside\", \"Value\": -0.04578323330272261}, {\"Construction\": \"Direct\", \"days_to_subtract1\": 21, \"days_to_subtract2\": 35, \"width\": 14, \"Feature\": \"diameter_hillside\", \"Value\": 0.11038489762545972}, {\"Construction\": \"Indirect\", \"days_to_subtract1\": 21, \"days_to_subtract2\": 35, \"width\": 14, \"Feature\": \"diameter_hillside\", \"Value\": -0.13673020671639385}, {\"Construction\": \"Both\", \"days_to_subtract1\": 21, \"days_to_subtract2\": 35, \"width\": 14, \"Feature\": \"diameter_hillside\", \"Value\": -0.22874769585338733}, {\"Construction\": \"Direct\", \"days_to_subtract1\": 14, \"days_to_subtract2\": 28, \"width\": 14, \"Feature\": \"diameter_hillside\", \"Value\": -0.07668519154958378}, {\"Construction\": \"Indirect\", \"days_to_subtract1\": 14, \"days_to_subtract2\": 28, \"width\": 14, \"Feature\": \"diameter_hillside\", \"Value\": 0.21523869911818547}, {\"Construction\": \"Both\", \"days_to_subtract1\": 14, \"days_to_subtract2\": 28, \"width\": 14, \"Feature\": \"diameter_hillside\", \"Value\": 0.12971196553357967}, {\"Construction\": \"Direct\", \"days_to_subtract1\": 7, \"days_to_subtract2\": 21, \"width\": 14, \"Feature\": \"diameter_hillside\", \"Value\": 0.009044171512392913}, {\"Construction\": \"Indirect\", \"days_to_subtract1\": 7, \"days_to_subtract2\": 21, \"width\": 14, \"Feature\": \"diameter_hillside\", \"Value\": 0.029191127220828658}, {\"Construction\": \"Both\", \"days_to_subtract1\": 7, \"days_to_subtract2\": 21, \"width\": 14, \"Feature\": \"diameter_hillside\", \"Value\": 0.20636987336671545}, {\"Construction\": \"Direct\", \"days_to_subtract1\": 14, \"days_to_subtract2\": 35, \"width\": 21, \"Feature\": \"diameter_hillside\", \"Value\": -0.06176894618591378}, {\"Construction\": \"Indirect\", \"days_to_subtract1\": 14, \"days_to_subtract2\": 35, \"width\": 21, \"Feature\": \"diameter_hillside\", \"Value\": 0.053013640215485255}, {\"Construction\": \"Both\", \"days_to_subtract1\": 14, \"days_to_subtract2\": 35, \"width\": 21, \"Feature\": \"diameter_hillside\", \"Value\": 0.08041919699934318}, {\"Construction\": \"Direct\", \"days_to_subtract1\": 7, \"days_to_subtract2\": 28, \"width\": 21, \"Feature\": \"diameter_hillside\", \"Value\": -0.0671143768064216}, {\"Construction\": \"Indirect\", \"days_to_subtract1\": 7, \"days_to_subtract2\": 28, \"width\": 21, \"Feature\": \"diameter_hillside\", \"Value\": 0.0015095999247583657}, {\"Construction\": \"Both\", \"days_to_subtract1\": 7, \"days_to_subtract2\": 28, \"width\": 21, \"Feature\": \"diameter_hillside\", \"Value\": 0.08955515675562362}, {\"Construction\": \"Direct\", \"days_to_subtract1\": 7, \"days_to_subtract2\": 35, \"width\": 28, \"Feature\": \"diameter_hillside\", \"Value\": -0.11658615133208425}, {\"Construction\": \"Indirect\", \"days_to_subtract1\": 7, \"days_to_subtract2\": 35, \"width\": 28, \"Feature\": \"diameter_hillside\", \"Value\": 0.18951994267183933}, {\"Construction\": \"Both\", \"days_to_subtract1\": 7, \"days_to_subtract2\": 35, \"width\": 28, \"Feature\": \"diameter_hillside\", \"Value\": 0.10937188142381095}]}}, {\"mode\": \"vega-lite\"});\n",
       "</script>"
      ],
      "text/plain": [
       "alt.Chart(...)"
      ]
     },
     "execution_count": 77,
     "metadata": {},
     "output_type": "execute_result"
    }
   ],
   "source": []
  },
  {
   "cell_type": "code",
   "execution_count": 78,
   "metadata": {},
   "outputs": [],
   "source": [
    "g = alt.Chart(graph_df.set_index('Method').loc['Massey']).mark_bar().encode(\n",
    "    x='width:N',\n",
    "    y=alt.Y('average(Value)',scale=alt.Scale(domain=[-.6, .6])),\n",
    "    row='Feature:N',\n",
    "    color='Construction:N',\n",
    "    column='Construction:N'\n",
    ")"
   ]
  },
  {
   "cell_type": "markdown",
   "metadata": {},
   "source": [
    "### Massey"
   ]
  },
  {
   "cell_type": "code",
   "execution_count": 79,
   "metadata": {},
   "outputs": [
    {
     "data": {
      "text/html": [
       "\n",
       "<div id=\"altair-viz-a41795de17ad4e16aa268b428d8c7446\"></div>\n",
       "<script type=\"text/javascript\">\n",
       "  (function(spec, embedOpt){\n",
       "    let outputDiv = document.currentScript.previousElementSibling;\n",
       "    if (outputDiv.id !== \"altair-viz-a41795de17ad4e16aa268b428d8c7446\") {\n",
       "      outputDiv = document.getElementById(\"altair-viz-a41795de17ad4e16aa268b428d8c7446\");\n",
       "    }\n",
       "    const paths = {\n",
       "      \"vega\": \"https://cdn.jsdelivr.net/npm//vega@5?noext\",\n",
       "      \"vega-lib\": \"https://cdn.jsdelivr.net/npm//vega-lib?noext\",\n",
       "      \"vega-lite\": \"https://cdn.jsdelivr.net/npm//vega-lite@4.8.1?noext\",\n",
       "      \"vega-embed\": \"https://cdn.jsdelivr.net/npm//vega-embed@6?noext\",\n",
       "    };\n",
       "\n",
       "    function loadScript(lib) {\n",
       "      return new Promise(function(resolve, reject) {\n",
       "        var s = document.createElement('script');\n",
       "        s.src = paths[lib];\n",
       "        s.async = true;\n",
       "        s.onload = () => resolve(paths[lib]);\n",
       "        s.onerror = () => reject(`Error loading script: ${paths[lib]}`);\n",
       "        document.getElementsByTagName(\"head\")[0].appendChild(s);\n",
       "      });\n",
       "    }\n",
       "\n",
       "    function showError(err) {\n",
       "      outputDiv.innerHTML = `<div class=\"error\" style=\"color:red;\">${err}</div>`;\n",
       "      throw err;\n",
       "    }\n",
       "\n",
       "    function displayChart(vegaEmbed) {\n",
       "      vegaEmbed(outputDiv, spec, embedOpt)\n",
       "        .catch(err => showError(`Javascript Error: ${err.message}<br>This usually means there's a typo in your chart specification. See the javascript console for the full traceback.`));\n",
       "    }\n",
       "\n",
       "    if(typeof define === \"function\" && define.amd) {\n",
       "      requirejs.config({paths});\n",
       "      require([\"vega-embed\"], displayChart, err => showError(`Error loading script: ${err.message}`));\n",
       "    } else if (typeof vegaEmbed === \"function\") {\n",
       "      displayChart(vegaEmbed);\n",
       "    } else {\n",
       "      loadScript(\"vega\")\n",
       "        .then(() => loadScript(\"vega-lite\"))\n",
       "        .then(() => loadScript(\"vega-embed\"))\n",
       "        .catch(showError)\n",
       "        .then(() => displayChart(vegaEmbed));\n",
       "    }\n",
       "  })({\"config\": {\"view\": {\"continuousWidth\": 400, \"continuousHeight\": 300}}, \"data\": {\"name\": \"data-5c3e71b6dcd2ccabdc9bd7733f6d7d3f\"}, \"mark\": \"bar\", \"encoding\": {\"color\": {\"type\": \"nominal\", \"field\": \"Construction\"}, \"column\": {\"type\": \"nominal\", \"field\": \"Construction\"}, \"row\": {\"type\": \"nominal\", \"field\": \"Feature\"}, \"x\": {\"type\": \"nominal\", \"field\": \"width\"}, \"y\": {\"type\": \"quantitative\", \"aggregate\": \"average\", \"field\": \"Value\", \"scale\": {\"domain\": [-0.6, 0.6]}}}, \"$schema\": \"https://vega.github.io/schema/vega-lite/v4.8.1.json\", \"datasets\": {\"data-5c3e71b6dcd2ccabdc9bd7733f6d7d3f\": [{\"Construction\": \"Direct\", \"days_to_subtract1\": 28, \"days_to_subtract2\": 35, \"width\": 7, \"Feature\": \"delta_lop\", \"Value\": -0.12226976101134845}, {\"Construction\": \"Indirect\", \"days_to_subtract1\": 28, \"days_to_subtract2\": 35, \"width\": 7, \"Feature\": \"delta_lop\", \"Value\": -0.14992462136510298}, {\"Construction\": \"Both\", \"days_to_subtract1\": 28, \"days_to_subtract2\": 35, \"width\": 7, \"Feature\": \"delta_lop\", \"Value\": -0.15054558636344978}, {\"Construction\": \"Direct\", \"days_to_subtract1\": 21, \"days_to_subtract2\": 28, \"width\": 7, \"Feature\": \"delta_lop\", \"Value\": -0.4892523031033722}, {\"Construction\": \"Indirect\", \"days_to_subtract1\": 21, \"days_to_subtract2\": 28, \"width\": 7, \"Feature\": \"delta_lop\", \"Value\": 0.05849158172782343}, {\"Construction\": \"Both\", \"days_to_subtract1\": 21, \"days_to_subtract2\": 28, \"width\": 7, \"Feature\": \"delta_lop\", \"Value\": 0.03792652218192743}, {\"Construction\": \"Direct\", \"days_to_subtract1\": 14, \"days_to_subtract2\": 21, \"width\": 7, \"Feature\": \"delta_lop\", \"Value\": -0.14796630535780741}, {\"Construction\": \"Indirect\", \"days_to_subtract1\": 14, \"days_to_subtract2\": 21, \"width\": 7, \"Feature\": \"delta_lop\", \"Value\": -0.17553083288489638}, {\"Construction\": \"Both\", \"days_to_subtract1\": 14, \"days_to_subtract2\": 21, \"width\": 7, \"Feature\": \"delta_lop\", \"Value\": -0.18361408238588933}, {\"Construction\": \"Direct\", \"days_to_subtract1\": 7, \"days_to_subtract2\": 14, \"width\": 7, \"Feature\": \"delta_lop\", \"Value\": 0.11222078557355063}, {\"Construction\": \"Indirect\", \"days_to_subtract1\": 7, \"days_to_subtract2\": 14, \"width\": 7, \"Feature\": \"delta_lop\", \"Value\": 0.3213049956099922}, {\"Construction\": \"Both\", \"days_to_subtract1\": 7, \"days_to_subtract2\": 14, \"width\": 7, \"Feature\": \"delta_lop\", \"Value\": 0.26611382474311357}, {\"Construction\": \"Direct\", \"days_to_subtract1\": 21, \"days_to_subtract2\": 35, \"width\": 14, \"Feature\": \"delta_lop\", \"Value\": -0.2763386927491063}, {\"Construction\": \"Indirect\", \"days_to_subtract1\": 21, \"days_to_subtract2\": 35, \"width\": 14, \"Feature\": \"delta_lop\", \"Value\": -0.2453088379263362}, {\"Construction\": \"Both\", \"days_to_subtract1\": 21, \"days_to_subtract2\": 35, \"width\": 14, \"Feature\": \"delta_lop\", \"Value\": -0.32365039953983954}, {\"Construction\": \"Direct\", \"days_to_subtract1\": 14, \"days_to_subtract2\": 28, \"width\": 14, \"Feature\": \"delta_lop\", \"Value\": 0.38386580415635047}, {\"Construction\": \"Indirect\", \"days_to_subtract1\": 14, \"days_to_subtract2\": 28, \"width\": 14, \"Feature\": \"delta_lop\", \"Value\": 0.6246791387927662}, {\"Construction\": \"Both\", \"days_to_subtract1\": 14, \"days_to_subtract2\": 28, \"width\": 14, \"Feature\": \"delta_lop\", \"Value\": 0.550491489434204}, {\"Construction\": \"Direct\", \"days_to_subtract1\": 7, \"days_to_subtract2\": 21, \"width\": 14, \"Feature\": \"delta_lop\", \"Value\": -0.12134552093958634}, {\"Construction\": \"Indirect\", \"days_to_subtract1\": 7, \"days_to_subtract2\": 21, \"width\": 14, \"Feature\": \"delta_lop\", \"Value\": -0.1585471693425777}, {\"Construction\": \"Both\", \"days_to_subtract1\": 7, \"days_to_subtract2\": 21, \"width\": 14, \"Feature\": \"delta_lop\", \"Value\": -0.19481863144176362}, {\"Construction\": \"Direct\", \"days_to_subtract1\": 14, \"days_to_subtract2\": 35, \"width\": 21, \"Feature\": \"delta_lop\", \"Value\": 0.2843929621558678}, {\"Construction\": \"Indirect\", \"days_to_subtract1\": 14, \"days_to_subtract2\": 35, \"width\": 21, \"Feature\": \"delta_lop\", \"Value\": 0.3148596935742426}, {\"Construction\": \"Both\", \"days_to_subtract1\": 14, \"days_to_subtract2\": 35, \"width\": 21, \"Feature\": \"delta_lop\", \"Value\": 0.23514961887576175}, {\"Construction\": \"Direct\", \"days_to_subtract1\": 7, \"days_to_subtract2\": 28, \"width\": 21, \"Feature\": \"delta_lop\", \"Value\": 0.5345280175162413}, {\"Construction\": \"Indirect\", \"days_to_subtract1\": 7, \"days_to_subtract2\": 28, \"width\": 21, \"Feature\": \"delta_lop\", \"Value\": 0.4310340095457269}, {\"Construction\": \"Both\", \"days_to_subtract1\": 7, \"days_to_subtract2\": 28, \"width\": 21, \"Feature\": \"delta_lop\", \"Value\": 0.34362305896261935}, {\"Construction\": \"Direct\", \"days_to_subtract1\": 7, \"days_to_subtract2\": 35, \"width\": 28, \"Feature\": \"delta_lop\", \"Value\": 0.15782394955591467}, {\"Construction\": \"Indirect\", \"days_to_subtract1\": 7, \"days_to_subtract2\": 35, \"width\": 28, \"Feature\": \"delta_lop\", \"Value\": 0.07499304497677872}, {\"Construction\": \"Both\", \"days_to_subtract1\": 7, \"days_to_subtract2\": 35, \"width\": 28, \"Feature\": \"delta_lop\", \"Value\": 0.02013785788028993}, {\"Construction\": \"Direct\", \"days_to_subtract1\": 28, \"days_to_subtract2\": 35, \"width\": 7, \"Feature\": \"delta_hillside\", \"Value\": 0.07272694057624234}, {\"Construction\": \"Indirect\", \"days_to_subtract1\": 28, \"days_to_subtract2\": 35, \"width\": 7, \"Feature\": \"delta_hillside\", \"Value\": 0.0034883897329815164}, {\"Construction\": \"Both\", \"days_to_subtract1\": 28, \"days_to_subtract2\": 35, \"width\": 7, \"Feature\": \"delta_hillside\", \"Value\": 0.049228228124220036}, {\"Construction\": \"Direct\", \"days_to_subtract1\": 21, \"days_to_subtract2\": 28, \"width\": 7, \"Feature\": \"delta_hillside\", \"Value\": -0.26995662112099855}, {\"Construction\": \"Indirect\", \"days_to_subtract1\": 21, \"days_to_subtract2\": 28, \"width\": 7, \"Feature\": \"delta_hillside\", \"Value\": -0.045102806766783764}, {\"Construction\": \"Both\", \"days_to_subtract1\": 21, \"days_to_subtract2\": 28, \"width\": 7, \"Feature\": \"delta_hillside\", \"Value\": -0.008675908519544789}, {\"Construction\": \"Direct\", \"days_to_subtract1\": 14, \"days_to_subtract2\": 21, \"width\": 7, \"Feature\": \"delta_hillside\", \"Value\": 0.1573687342589572}, {\"Construction\": \"Indirect\", \"days_to_subtract1\": 14, \"days_to_subtract2\": 21, \"width\": 7, \"Feature\": \"delta_hillside\", \"Value\": -0.04061500317844419}, {\"Construction\": \"Both\", \"days_to_subtract1\": 14, \"days_to_subtract2\": 21, \"width\": 7, \"Feature\": \"delta_hillside\", \"Value\": -0.02283155237396926}, {\"Construction\": \"Direct\", \"days_to_subtract1\": 7, \"days_to_subtract2\": 14, \"width\": 7, \"Feature\": \"delta_hillside\", \"Value\": 0.1541398876193407}, {\"Construction\": \"Indirect\", \"days_to_subtract1\": 7, \"days_to_subtract2\": 14, \"width\": 7, \"Feature\": \"delta_hillside\", \"Value\": 0.5971592023961825}, {\"Construction\": \"Both\", \"days_to_subtract1\": 7, \"days_to_subtract2\": 14, \"width\": 7, \"Feature\": \"delta_hillside\", \"Value\": 0.5522376886873352}, {\"Construction\": \"Direct\", \"days_to_subtract1\": 21, \"days_to_subtract2\": 35, \"width\": 14, \"Feature\": \"delta_hillside\", \"Value\": -0.3800938023104789}, {\"Construction\": \"Indirect\", \"days_to_subtract1\": 21, \"days_to_subtract2\": 35, \"width\": 14, \"Feature\": \"delta_hillside\", \"Value\": -0.3399534739478084}, {\"Construction\": \"Both\", \"days_to_subtract1\": 21, \"days_to_subtract2\": 35, \"width\": 14, \"Feature\": \"delta_hillside\", \"Value\": -0.35436969541394975}, {\"Construction\": \"Direct\", \"days_to_subtract1\": 14, \"days_to_subtract2\": 28, \"width\": 14, \"Feature\": \"delta_hillside\", \"Value\": 0.412296634335467}, {\"Construction\": \"Indirect\", \"days_to_subtract1\": 14, \"days_to_subtract2\": 28, \"width\": 14, \"Feature\": \"delta_hillside\", \"Value\": 0.4302704346660871}, {\"Construction\": \"Both\", \"days_to_subtract1\": 14, \"days_to_subtract2\": 28, \"width\": 14, \"Feature\": \"delta_hillside\", \"Value\": 0.40402288921397433}, {\"Construction\": \"Direct\", \"days_to_subtract1\": 7, \"days_to_subtract2\": 21, \"width\": 14, \"Feature\": \"delta_hillside\", \"Value\": -0.25350897197250144}, {\"Construction\": \"Indirect\", \"days_to_subtract1\": 7, \"days_to_subtract2\": 21, \"width\": 14, \"Feature\": \"delta_hillside\", \"Value\": 0.14297490123129586}, {\"Construction\": \"Both\", \"days_to_subtract1\": 7, \"days_to_subtract2\": 21, \"width\": 14, \"Feature\": \"delta_hillside\", \"Value\": 0.06984608565031396}, {\"Construction\": \"Direct\", \"days_to_subtract1\": 14, \"days_to_subtract2\": 35, \"width\": 21, \"Feature\": \"delta_hillside\", \"Value\": 0.1570844260004237}, {\"Construction\": \"Indirect\", \"days_to_subtract1\": 14, \"days_to_subtract2\": 35, \"width\": 21, \"Feature\": \"delta_hillside\", \"Value\": 0.3006296986707738}, {\"Construction\": \"Both\", \"days_to_subtract1\": 14, \"days_to_subtract2\": 35, \"width\": 21, \"Feature\": \"delta_hillside\", \"Value\": 0.2818428903903591}, {\"Construction\": \"Direct\", \"days_to_subtract1\": 7, \"days_to_subtract2\": 28, \"width\": 21, \"Feature\": \"delta_hillside\", \"Value\": 0.1960657131974772}, {\"Construction\": \"Indirect\", \"days_to_subtract1\": 7, \"days_to_subtract2\": 28, \"width\": 21, \"Feature\": \"delta_hillside\", \"Value\": 0.4824161896391022}, {\"Construction\": \"Both\", \"days_to_subtract1\": 7, \"days_to_subtract2\": 28, \"width\": 21, \"Feature\": \"delta_hillside\", \"Value\": 0.3402814694078678}, {\"Construction\": \"Direct\", \"days_to_subtract1\": 7, \"days_to_subtract2\": 35, \"width\": 28, \"Feature\": \"delta_hillside\", \"Value\": -0.07810637643679705}, {\"Construction\": \"Indirect\", \"days_to_subtract1\": 7, \"days_to_subtract2\": 35, \"width\": 28, \"Feature\": \"delta_hillside\", \"Value\": 0.08673522942664566}, {\"Construction\": \"Both\", \"days_to_subtract1\": 7, \"days_to_subtract2\": 35, \"width\": 28, \"Feature\": \"delta_hillside\", \"Value\": -0.045185661125246156}, {\"Construction\": \"Direct\", \"days_to_subtract1\": 28, \"days_to_subtract2\": 35, \"width\": 7, \"Feature\": \"nfrac_xstar_lop\", \"Value\": 0.2504366477349672}, {\"Construction\": \"Indirect\", \"days_to_subtract1\": 28, \"days_to_subtract2\": 35, \"width\": 7, \"Feature\": \"nfrac_xstar_lop\", \"Value\": 0.252716471693714}, {\"Construction\": \"Both\", \"days_to_subtract1\": 28, \"days_to_subtract2\": 35, \"width\": 7, \"Feature\": \"nfrac_xstar_lop\", \"Value\": 0.21585721118274245}, {\"Construction\": \"Direct\", \"days_to_subtract1\": 21, \"days_to_subtract2\": 28, \"width\": 7, \"Feature\": \"nfrac_xstar_lop\", \"Value\": -0.0007377833897624494}, {\"Construction\": \"Indirect\", \"days_to_subtract1\": 21, \"days_to_subtract2\": 28, \"width\": 7, \"Feature\": \"nfrac_xstar_lop\", \"Value\": 0.1447712725146054}, {\"Construction\": \"Both\", \"days_to_subtract1\": 21, \"days_to_subtract2\": 28, \"width\": 7, \"Feature\": \"nfrac_xstar_lop\", \"Value\": 0.05533298354318608}, {\"Construction\": \"Direct\", \"days_to_subtract1\": 14, \"days_to_subtract2\": 21, \"width\": 7, \"Feature\": \"nfrac_xstar_lop\", \"Value\": -0.28256468739629853}, {\"Construction\": \"Indirect\", \"days_to_subtract1\": 14, \"days_to_subtract2\": 21, \"width\": 7, \"Feature\": \"nfrac_xstar_lop\", \"Value\": 0.041824307656707055}, {\"Construction\": \"Both\", \"days_to_subtract1\": 14, \"days_to_subtract2\": 21, \"width\": 7, \"Feature\": \"nfrac_xstar_lop\", \"Value\": -0.46470079280682475}, {\"Construction\": \"Direct\", \"days_to_subtract1\": 7, \"days_to_subtract2\": 14, \"width\": 7, \"Feature\": \"nfrac_xstar_lop\", \"Value\": 0.2313551861211002}, {\"Construction\": \"Indirect\", \"days_to_subtract1\": 7, \"days_to_subtract2\": 14, \"width\": 7, \"Feature\": \"nfrac_xstar_lop\", \"Value\": -0.34765528813176505}, {\"Construction\": \"Both\", \"days_to_subtract1\": 7, \"days_to_subtract2\": 14, \"width\": 7, \"Feature\": \"nfrac_xstar_lop\", \"Value\": -0.17232541332977155}, {\"Construction\": \"Direct\", \"days_to_subtract1\": 21, \"days_to_subtract2\": 35, \"width\": 14, \"Feature\": \"nfrac_xstar_lop\", \"Value\": 0.03329398115393245}, {\"Construction\": \"Indirect\", \"days_to_subtract1\": 21, \"days_to_subtract2\": 35, \"width\": 14, \"Feature\": \"nfrac_xstar_lop\", \"Value\": 0.3104537915425112}, {\"Construction\": \"Both\", \"days_to_subtract1\": 21, \"days_to_subtract2\": 35, \"width\": 14, \"Feature\": \"nfrac_xstar_lop\", \"Value\": -0.014710504304781548}, {\"Construction\": \"Direct\", \"days_to_subtract1\": 14, \"days_to_subtract2\": 28, \"width\": 14, \"Feature\": \"nfrac_xstar_lop\", \"Value\": -0.20983092210617033}, {\"Construction\": \"Indirect\", \"days_to_subtract1\": 14, \"days_to_subtract2\": 28, \"width\": 14, \"Feature\": \"nfrac_xstar_lop\", \"Value\": -0.057297107221583876}, {\"Construction\": \"Both\", \"days_to_subtract1\": 14, \"days_to_subtract2\": 28, \"width\": 14, \"Feature\": \"nfrac_xstar_lop\", \"Value\": -0.3173839731170567}, {\"Construction\": \"Direct\", \"days_to_subtract1\": 7, \"days_to_subtract2\": 21, \"width\": 14, \"Feature\": \"nfrac_xstar_lop\", \"Value\": -0.04710864829914866}, {\"Construction\": \"Indirect\", \"days_to_subtract1\": 7, \"days_to_subtract2\": 21, \"width\": 14, \"Feature\": \"nfrac_xstar_lop\", \"Value\": -0.17566735756678103}, {\"Construction\": \"Both\", \"days_to_subtract1\": 7, \"days_to_subtract2\": 21, \"width\": 14, \"Feature\": \"nfrac_xstar_lop\", \"Value\": -0.2921432840149917}, {\"Construction\": \"Direct\", \"days_to_subtract1\": 14, \"days_to_subtract2\": 35, \"width\": 21, \"Feature\": \"nfrac_xstar_lop\", \"Value\": -0.061260813231238}, {\"Construction\": \"Indirect\", \"days_to_subtract1\": 14, \"days_to_subtract2\": 35, \"width\": 21, \"Feature\": \"nfrac_xstar_lop\", \"Value\": -0.27675305778975995}, {\"Construction\": \"Both\", \"days_to_subtract1\": 14, \"days_to_subtract2\": 35, \"width\": 21, \"Feature\": \"nfrac_xstar_lop\", \"Value\": -0.5667642662517264}, {\"Construction\": \"Direct\", \"days_to_subtract1\": 7, \"days_to_subtract2\": 28, \"width\": 21, \"Feature\": \"nfrac_xstar_lop\", \"Value\": 0.4426170956580358}, {\"Construction\": \"Indirect\", \"days_to_subtract1\": 7, \"days_to_subtract2\": 28, \"width\": 21, \"Feature\": \"nfrac_xstar_lop\", \"Value\": 0.01480436245873802}, {\"Construction\": \"Both\", \"days_to_subtract1\": 7, \"days_to_subtract2\": 28, \"width\": 21, \"Feature\": \"nfrac_xstar_lop\", \"Value\": -0.5275539228334323}, {\"Construction\": \"Direct\", \"days_to_subtract1\": 7, \"days_to_subtract2\": 35, \"width\": 28, \"Feature\": \"nfrac_xstar_lop\", \"Value\": 0.2664321703035332}, {\"Construction\": \"Indirect\", \"days_to_subtract1\": 7, \"days_to_subtract2\": 35, \"width\": 28, \"Feature\": \"nfrac_xstar_lop\", \"Value\": -0.07668671696603059}, {\"Construction\": \"Both\", \"days_to_subtract1\": 7, \"days_to_subtract2\": 35, \"width\": 28, \"Feature\": \"nfrac_xstar_lop\", \"Value\": -0.4499251691381336}, {\"Construction\": \"Direct\", \"days_to_subtract1\": 28, \"days_to_subtract2\": 35, \"width\": 7, \"Feature\": \"nfrac_xstar_hillside\", \"Value\": 0.06575348675412751}, {\"Construction\": \"Indirect\", \"days_to_subtract1\": 28, \"days_to_subtract2\": 35, \"width\": 7, \"Feature\": \"nfrac_xstar_hillside\", \"Value\": 0.4461328879471776}, {\"Construction\": \"Both\", \"days_to_subtract1\": 28, \"days_to_subtract2\": 35, \"width\": 7, \"Feature\": \"nfrac_xstar_hillside\", \"Value\": -0.06351262595485949}, {\"Construction\": \"Direct\", \"days_to_subtract1\": 21, \"days_to_subtract2\": 28, \"width\": 7, \"Feature\": \"nfrac_xstar_hillside\", \"Value\": 0.09450570591266669}, {\"Construction\": \"Indirect\", \"days_to_subtract1\": 21, \"days_to_subtract2\": 28, \"width\": 7, \"Feature\": \"nfrac_xstar_hillside\", \"Value\": -0.2740283947277098}, {\"Construction\": \"Both\", \"days_to_subtract1\": 21, \"days_to_subtract2\": 28, \"width\": 7, \"Feature\": \"nfrac_xstar_hillside\", \"Value\": -0.279576740182785}, {\"Construction\": \"Direct\", \"days_to_subtract1\": 14, \"days_to_subtract2\": 21, \"width\": 7, \"Feature\": \"nfrac_xstar_hillside\", \"Value\": -0.20592787777532348}, {\"Construction\": \"Indirect\", \"days_to_subtract1\": 14, \"days_to_subtract2\": 21, \"width\": 7, \"Feature\": \"nfrac_xstar_hillside\", \"Value\": -0.44302128387015544}, {\"Construction\": \"Both\", \"days_to_subtract1\": 14, \"days_to_subtract2\": 21, \"width\": 7, \"Feature\": \"nfrac_xstar_hillside\", \"Value\": -0.12174801411496747}, {\"Construction\": \"Direct\", \"days_to_subtract1\": 7, \"days_to_subtract2\": 14, \"width\": 7, \"Feature\": \"nfrac_xstar_hillside\", \"Value\": -0.1788367941150353}, {\"Construction\": \"Indirect\", \"days_to_subtract1\": 7, \"days_to_subtract2\": 14, \"width\": 7, \"Feature\": \"nfrac_xstar_hillside\", \"Value\": -0.03285386816850102}, {\"Construction\": \"Both\", \"days_to_subtract1\": 7, \"days_to_subtract2\": 14, \"width\": 7, \"Feature\": \"nfrac_xstar_hillside\", \"Value\": -0.12080072816828026}, {\"Construction\": \"Direct\", \"days_to_subtract1\": 21, \"days_to_subtract2\": 35, \"width\": 14, \"Feature\": \"nfrac_xstar_hillside\", \"Value\": -0.0504417773102542}, {\"Construction\": \"Indirect\", \"days_to_subtract1\": 21, \"days_to_subtract2\": 35, \"width\": 14, \"Feature\": \"nfrac_xstar_hillside\", \"Value\": -0.02521401478808149}, {\"Construction\": \"Both\", \"days_to_subtract1\": 21, \"days_to_subtract2\": 35, \"width\": 14, \"Feature\": \"nfrac_xstar_hillside\", \"Value\": -0.18452834113833197}, {\"Construction\": \"Direct\", \"days_to_subtract1\": 14, \"days_to_subtract2\": 28, \"width\": 14, \"Feature\": \"nfrac_xstar_hillside\", \"Value\": -0.5530346477143374}, {\"Construction\": \"Indirect\", \"days_to_subtract1\": 14, \"days_to_subtract2\": 28, \"width\": 14, \"Feature\": \"nfrac_xstar_hillside\", \"Value\": -0.2188417499838409}, {\"Construction\": \"Both\", \"days_to_subtract1\": 14, \"days_to_subtract2\": 28, \"width\": 14, \"Feature\": \"nfrac_xstar_hillside\", \"Value\": -0.2407001012884956}, {\"Construction\": \"Direct\", \"days_to_subtract1\": 7, \"days_to_subtract2\": 21, \"width\": 14, \"Feature\": \"nfrac_xstar_hillside\", \"Value\": 0.1576346956495112}, {\"Construction\": \"Indirect\", \"days_to_subtract1\": 7, \"days_to_subtract2\": 21, \"width\": 14, \"Feature\": \"nfrac_xstar_hillside\", \"Value\": -0.18974819648425081}, {\"Construction\": \"Both\", \"days_to_subtract1\": 7, \"days_to_subtract2\": 21, \"width\": 14, \"Feature\": \"nfrac_xstar_hillside\", \"Value\": 0.0622628205401775}, {\"Construction\": \"Direct\", \"days_to_subtract1\": 14, \"days_to_subtract2\": 35, \"width\": 21, \"Feature\": \"nfrac_xstar_hillside\", \"Value\": -0.5197981778478936}, {\"Construction\": \"Indirect\", \"days_to_subtract1\": 14, \"days_to_subtract2\": 35, \"width\": 21, \"Feature\": \"nfrac_xstar_hillside\", \"Value\": -0.4151923881517941}, {\"Construction\": \"Both\", \"days_to_subtract1\": 14, \"days_to_subtract2\": 35, \"width\": 21, \"Feature\": \"nfrac_xstar_hillside\", \"Value\": -0.11521963395402642}, {\"Construction\": \"Direct\", \"days_to_subtract1\": 7, \"days_to_subtract2\": 28, \"width\": 21, \"Feature\": \"nfrac_xstar_hillside\", \"Value\": -0.004014864631502834}, {\"Construction\": \"Indirect\", \"days_to_subtract1\": 7, \"days_to_subtract2\": 28, \"width\": 21, \"Feature\": \"nfrac_xstar_hillside\", \"Value\": 0.039295414668840706}, {\"Construction\": \"Both\", \"days_to_subtract1\": 7, \"days_to_subtract2\": 28, \"width\": 21, \"Feature\": \"nfrac_xstar_hillside\", \"Value\": -0.05721155870027621}, {\"Construction\": \"Direct\", \"days_to_subtract1\": 7, \"days_to_subtract2\": 35, \"width\": 28, \"Feature\": \"nfrac_xstar_hillside\", \"Value\": 0.22753227297993073}, {\"Construction\": \"Indirect\", \"days_to_subtract1\": 7, \"days_to_subtract2\": 35, \"width\": 28, \"Feature\": \"nfrac_xstar_hillside\", \"Value\": 0.034260228231082296}, {\"Construction\": \"Both\", \"days_to_subtract1\": 7, \"days_to_subtract2\": 35, \"width\": 28, \"Feature\": \"nfrac_xstar_hillside\", \"Value\": 0.27279604895057225}, {\"Construction\": \"Direct\", \"days_to_subtract1\": 28, \"days_to_subtract2\": 35, \"width\": 7, \"Feature\": \"diameter_lop\", \"Value\": -0.23401525098065665}, {\"Construction\": \"Indirect\", \"days_to_subtract1\": 28, \"days_to_subtract2\": 35, \"width\": 7, \"Feature\": \"diameter_lop\", \"Value\": -0.24125273103720887}, {\"Construction\": \"Both\", \"days_to_subtract1\": 28, \"days_to_subtract2\": 35, \"width\": 7, \"Feature\": \"diameter_lop\", \"Value\": -0.16496207550017097}, {\"Construction\": \"Direct\", \"days_to_subtract1\": 21, \"days_to_subtract2\": 28, \"width\": 7, \"Feature\": \"diameter_lop\", \"Value\": -0.07060949201547566}, {\"Construction\": \"Indirect\", \"days_to_subtract1\": 21, \"days_to_subtract2\": 28, \"width\": 7, \"Feature\": \"diameter_lop\", \"Value\": -0.2694124149195771}, {\"Construction\": \"Both\", \"days_to_subtract1\": 21, \"days_to_subtract2\": 28, \"width\": 7, \"Feature\": \"diameter_lop\", \"Value\": -0.13456216637585594}, {\"Construction\": \"Direct\", \"days_to_subtract1\": 14, \"days_to_subtract2\": 21, \"width\": 7, \"Feature\": \"diameter_lop\", \"Value\": 0.20841148090448947}, {\"Construction\": \"Indirect\", \"days_to_subtract1\": 14, \"days_to_subtract2\": 21, \"width\": 7, \"Feature\": \"diameter_lop\", \"Value\": -0.10452887867372636}, {\"Construction\": \"Both\", \"days_to_subtract1\": 14, \"days_to_subtract2\": 21, \"width\": 7, \"Feature\": \"diameter_lop\", \"Value\": 0.3364544368043227}, {\"Construction\": \"Direct\", \"days_to_subtract1\": 7, \"days_to_subtract2\": 14, \"width\": 7, \"Feature\": \"diameter_lop\", \"Value\": -0.21973306566639822}, {\"Construction\": \"Indirect\", \"days_to_subtract1\": 7, \"days_to_subtract2\": 14, \"width\": 7, \"Feature\": \"diameter_lop\", \"Value\": 0.3617879576677228}, {\"Construction\": \"Both\", \"days_to_subtract1\": 7, \"days_to_subtract2\": 14, \"width\": 7, \"Feature\": \"diameter_lop\", \"Value\": 0.17612534971143137}, {\"Construction\": \"Direct\", \"days_to_subtract1\": 21, \"days_to_subtract2\": 35, \"width\": 14, \"Feature\": \"diameter_lop\", \"Value\": -0.11771233762732666}, {\"Construction\": \"Indirect\", \"days_to_subtract1\": 21, \"days_to_subtract2\": 35, \"width\": 14, \"Feature\": \"diameter_lop\", \"Value\": -0.5506735150257521}, {\"Construction\": \"Both\", \"days_to_subtract1\": 21, \"days_to_subtract2\": 35, \"width\": 14, \"Feature\": \"diameter_lop\", \"Value\": -0.12954565810460003}, {\"Construction\": \"Direct\", \"days_to_subtract1\": 14, \"days_to_subtract2\": 28, \"width\": 14, \"Feature\": \"diameter_lop\", \"Value\": 0.18930536348502183}, {\"Construction\": \"Indirect\", \"days_to_subtract1\": 14, \"days_to_subtract2\": 28, \"width\": 14, \"Feature\": \"diameter_lop\", \"Value\": 0.01910313885031018}, {\"Construction\": \"Both\", \"days_to_subtract1\": 14, \"days_to_subtract2\": 28, \"width\": 14, \"Feature\": \"diameter_lop\", \"Value\": 0.15370453958825922}, {\"Construction\": \"Direct\", \"days_to_subtract1\": 7, \"days_to_subtract2\": 21, \"width\": 14, \"Feature\": \"diameter_lop\", \"Value\": -0.0988077270603924}, {\"Construction\": \"Indirect\", \"days_to_subtract1\": 7, \"days_to_subtract2\": 21, \"width\": 14, \"Feature\": \"diameter_lop\", \"Value\": 0.1844722396634513}, {\"Construction\": \"Both\", \"days_to_subtract1\": 7, \"days_to_subtract2\": 21, \"width\": 14, \"Feature\": \"diameter_lop\", \"Value\": 0.250376823993179}, {\"Construction\": \"Direct\", \"days_to_subtract1\": 14, \"days_to_subtract2\": 35, \"width\": 21, \"Feature\": \"diameter_lop\", \"Value\": 0.006091710413790059}, {\"Construction\": \"Indirect\", \"days_to_subtract1\": 14, \"days_to_subtract2\": 35, \"width\": 21, \"Feature\": \"diameter_lop\", \"Value\": 0.21335935585044719}, {\"Construction\": \"Both\", \"days_to_subtract1\": 14, \"days_to_subtract2\": 35, \"width\": 21, \"Feature\": \"diameter_lop\", \"Value\": 0.4633603743563443}, {\"Construction\": \"Direct\", \"days_to_subtract1\": 7, \"days_to_subtract2\": 28, \"width\": 21, \"Feature\": \"diameter_lop\", \"Value\": -0.48661278912400896}, {\"Construction\": \"Indirect\", \"days_to_subtract1\": 7, \"days_to_subtract2\": 28, \"width\": 21, \"Feature\": \"diameter_lop\", \"Value\": 0.00837770504919386}, {\"Construction\": \"Both\", \"days_to_subtract1\": 7, \"days_to_subtract2\": 28, \"width\": 21, \"Feature\": \"diameter_lop\", \"Value\": 0.527104477404566}, {\"Construction\": \"Direct\", \"days_to_subtract1\": 7, \"days_to_subtract2\": 35, \"width\": 28, \"Feature\": \"diameter_lop\", \"Value\": -0.3698959362093421}, {\"Construction\": \"Indirect\", \"days_to_subtract1\": 7, \"days_to_subtract2\": 35, \"width\": 28, \"Feature\": \"diameter_lop\", \"Value\": 0.12068463132124602}, {\"Construction\": \"Both\", \"days_to_subtract1\": 7, \"days_to_subtract2\": 35, \"width\": 28, \"Feature\": \"diameter_lop\", \"Value\": 0.4496206399930723}, {\"Construction\": \"Direct\", \"days_to_subtract1\": 28, \"days_to_subtract2\": 35, \"width\": 7, \"Feature\": \"diameter_hillside\", \"Value\": 0.038928186437485114}, {\"Construction\": \"Indirect\", \"days_to_subtract1\": 28, \"days_to_subtract2\": 35, \"width\": 7, \"Feature\": \"diameter_hillside\", \"Value\": -0.42157861376976197}, {\"Construction\": \"Both\", \"days_to_subtract1\": 28, \"days_to_subtract2\": 35, \"width\": 7, \"Feature\": \"diameter_hillside\", \"Value\": 0.050874489413844586}, {\"Construction\": \"Direct\", \"days_to_subtract1\": 21, \"days_to_subtract2\": 28, \"width\": 7, \"Feature\": \"diameter_hillside\", \"Value\": -0.11591014243193765}, {\"Construction\": \"Indirect\", \"days_to_subtract1\": 21, \"days_to_subtract2\": 28, \"width\": 7, \"Feature\": \"diameter_hillside\", \"Value\": 0.286468117578318}, {\"Construction\": \"Both\", \"days_to_subtract1\": 21, \"days_to_subtract2\": 28, \"width\": 7, \"Feature\": \"diameter_hillside\", \"Value\": 0.32334583033787295}, {\"Construction\": \"Direct\", \"days_to_subtract1\": 14, \"days_to_subtract2\": 21, \"width\": 7, \"Feature\": \"diameter_hillside\", \"Value\": 0.13091852853440497}, {\"Construction\": \"Indirect\", \"days_to_subtract1\": 14, \"days_to_subtract2\": 21, \"width\": 7, \"Feature\": \"diameter_hillside\", \"Value\": 0.44182067127605157}, {\"Construction\": \"Both\", \"days_to_subtract1\": 14, \"days_to_subtract2\": 21, \"width\": 7, \"Feature\": \"diameter_hillside\", \"Value\": 0.15037428333897554}, {\"Construction\": \"Direct\", \"days_to_subtract1\": 7, \"days_to_subtract2\": 14, \"width\": 7, \"Feature\": \"diameter_hillside\", \"Value\": 0.18081227799742222}, {\"Construction\": \"Indirect\", \"days_to_subtract1\": 7, \"days_to_subtract2\": 14, \"width\": 7, \"Feature\": \"diameter_hillside\", \"Value\": 0.00735622764903191}, {\"Construction\": \"Both\", \"days_to_subtract1\": 7, \"days_to_subtract2\": 14, \"width\": 7, \"Feature\": \"diameter_hillside\", \"Value\": 0.11889586347127949}, {\"Construction\": \"Direct\", \"days_to_subtract1\": 21, \"days_to_subtract2\": 35, \"width\": 14, \"Feature\": \"diameter_hillside\", \"Value\": 0.05772194386438877}, {\"Construction\": \"Indirect\", \"days_to_subtract1\": 21, \"days_to_subtract2\": 35, \"width\": 14, \"Feature\": \"diameter_hillside\", \"Value\": 0.025704143456262218}, {\"Construction\": \"Both\", \"days_to_subtract1\": 21, \"days_to_subtract2\": 35, \"width\": 14, \"Feature\": \"diameter_hillside\", \"Value\": 0.19944860571400566}, {\"Construction\": \"Direct\", \"days_to_subtract1\": 14, \"days_to_subtract2\": 28, \"width\": 14, \"Feature\": \"diameter_hillside\", \"Value\": 0.5113930851589072}, {\"Construction\": \"Indirect\", \"days_to_subtract1\": 14, \"days_to_subtract2\": 28, \"width\": 14, \"Feature\": \"diameter_hillside\", \"Value\": 0.2504034900530356}, {\"Construction\": \"Both\", \"days_to_subtract1\": 14, \"days_to_subtract2\": 28, \"width\": 14, \"Feature\": \"diameter_hillside\", \"Value\": 0.24132988814040582}, {\"Construction\": \"Direct\", \"days_to_subtract1\": 7, \"days_to_subtract2\": 21, \"width\": 14, \"Feature\": \"diameter_hillside\", \"Value\": -0.14818546430442572}, {\"Construction\": \"Indirect\", \"days_to_subtract1\": 7, \"days_to_subtract2\": 21, \"width\": 14, \"Feature\": \"diameter_hillside\", \"Value\": 0.1470067370395856}, {\"Construction\": \"Both\", \"days_to_subtract1\": 7, \"days_to_subtract2\": 21, \"width\": 14, \"Feature\": \"diameter_hillside\", \"Value\": -0.03900250124826313}, {\"Construction\": \"Direct\", \"days_to_subtract1\": 14, \"days_to_subtract2\": 35, \"width\": 21, \"Feature\": \"diameter_hillside\", \"Value\": 0.4342011555597802}, {\"Construction\": \"Indirect\", \"days_to_subtract1\": 14, \"days_to_subtract2\": 35, \"width\": 21, \"Feature\": \"diameter_hillside\", \"Value\": 0.41501700575479683}, {\"Construction\": \"Both\", \"days_to_subtract1\": 14, \"days_to_subtract2\": 35, \"width\": 21, \"Feature\": \"diameter_hillside\", \"Value\": 0.13023661111453855}, {\"Construction\": \"Direct\", \"days_to_subtract1\": 7, \"days_to_subtract2\": 28, \"width\": 21, \"Feature\": \"diameter_hillside\", \"Value\": -0.0010299197409369396}, {\"Construction\": \"Indirect\", \"days_to_subtract1\": 7, \"days_to_subtract2\": 28, \"width\": 21, \"Feature\": \"diameter_hillside\", \"Value\": -0.12436395416481964}, {\"Construction\": \"Both\", \"days_to_subtract1\": 7, \"days_to_subtract2\": 28, \"width\": 21, \"Feature\": \"diameter_hillside\", \"Value\": 0.0645706550937431}, {\"Construction\": \"Direct\", \"days_to_subtract1\": 7, \"days_to_subtract2\": 35, \"width\": 28, \"Feature\": \"diameter_hillside\", \"Value\": -0.2291332439453409}, {\"Construction\": \"Indirect\", \"days_to_subtract1\": 7, \"days_to_subtract2\": 35, \"width\": 28, \"Feature\": \"diameter_hillside\", \"Value\": -0.10919607652293364}, {\"Construction\": \"Both\", \"days_to_subtract1\": 7, \"days_to_subtract2\": 35, \"width\": 28, \"Feature\": \"diameter_hillside\", \"Value\": -0.2458019248990122}]}}, {\"mode\": \"vega-lite\"});\n",
       "</script>"
      ],
      "text/plain": [
       "alt.Chart(...)"
      ]
     },
     "execution_count": 79,
     "metadata": {},
     "output_type": "execute_result"
    }
   ],
   "source": [
    "g"
   ]
  },
  {
   "cell_type": "markdown",
   "metadata": {},
   "source": [
    "## old below"
   ]
  },
  {
   "cell_type": "markdown",
   "metadata": {},
   "source": [
    "## 0.6 to 0.7"
   ]
  },
  {
   "cell_type": "code",
   "execution_count": null,
   "metadata": {},
   "outputs": [],
   "source": []
  },
  {
   "cell_type": "code",
   "execution_count": 57,
   "metadata": {},
   "outputs": [
    {
     "name": "stderr",
     "output_type": "stream",
     "text": [
      "/opt/tljh/user/lib/python3.7/site-packages/ipykernel_launcher.py:1: PerformanceWarning: indexing past lexsort depth may impact performance.\n",
      "  \"\"\"Entry point for launching an IPython kernel.\n"
     ]
    },
    {
     "data": {
      "text/plain": [
       "Method          Colley\n",
       "Construction    Direct\n",
       "dtype: object"
      ]
     },
     "metadata": {},
     "output_type": "display_data"
    },
    {
     "name": "stderr",
     "output_type": "stream",
     "text": [
      "/opt/tljh/user/lib/python3.7/site-packages/ipykernel_launcher.py:5: PerformanceWarning: indexing past lexsort depth may impact performance.\n",
      "  \"\"\"\n"
     ]
    },
    {
     "data": {
      "text/html": [
       "<div>\n",
       "<style scoped>\n",
       "    .dataframe tbody tr th:only-of-type {\n",
       "        vertical-align: middle;\n",
       "    }\n",
       "\n",
       "    .dataframe tbody tr th {\n",
       "        vertical-align: top;\n",
       "    }\n",
       "\n",
       "    .dataframe thead th {\n",
       "        text-align: right;\n",
       "    }\n",
       "</style>\n",
       "<table border=\"1\" class=\"dataframe\">\n",
       "  <thead>\n",
       "    <tr style=\"text-align: right;\">\n",
       "      <th></th>\n",
       "      <th>top15_intersection</th>\n",
       "      <th>delta_lop</th>\n",
       "      <th>delta_hillside</th>\n",
       "      <th>nfrac_xstar_lop</th>\n",
       "      <th>nfrac_xstar_hillside</th>\n",
       "      <th>diameter_lop</th>\n",
       "      <th>diameter_hillside</th>\n",
       "    </tr>\n",
       "  </thead>\n",
       "  <tbody>\n",
       "    <tr>\n",
       "      <th>top15_intersection</th>\n",
       "      <td>1.000000</td>\n",
       "      <td>-0.033692</td>\n",
       "      <td>0.034758</td>\n",
       "      <td>-0.124823</td>\n",
       "      <td>0.229806</td>\n",
       "      <td>0.275894</td>\n",
       "      <td>-0.168381</td>\n",
       "    </tr>\n",
       "    <tr>\n",
       "      <th>delta_lop</th>\n",
       "      <td>-0.033692</td>\n",
       "      <td>1.000000</td>\n",
       "      <td>0.735085</td>\n",
       "      <td>0.279614</td>\n",
       "      <td>-0.197032</td>\n",
       "      <td>-0.099624</td>\n",
       "      <td>0.292868</td>\n",
       "    </tr>\n",
       "    <tr>\n",
       "      <th>delta_hillside</th>\n",
       "      <td>0.034758</td>\n",
       "      <td>0.735085</td>\n",
       "      <td>1.000000</td>\n",
       "      <td>0.341162</td>\n",
       "      <td>-0.555433</td>\n",
       "      <td>-0.315206</td>\n",
       "      <td>0.610122</td>\n",
       "    </tr>\n",
       "    <tr>\n",
       "      <th>nfrac_xstar_lop</th>\n",
       "      <td>-0.124823</td>\n",
       "      <td>0.279614</td>\n",
       "      <td>0.341162</td>\n",
       "      <td>1.000000</td>\n",
       "      <td>0.070455</td>\n",
       "      <td>-0.931563</td>\n",
       "      <td>-0.051844</td>\n",
       "    </tr>\n",
       "    <tr>\n",
       "      <th>nfrac_xstar_hillside</th>\n",
       "      <td>0.229806</td>\n",
       "      <td>-0.197032</td>\n",
       "      <td>-0.555433</td>\n",
       "      <td>0.070455</td>\n",
       "      <td>1.000000</td>\n",
       "      <td>0.066163</td>\n",
       "      <td>-0.973198</td>\n",
       "    </tr>\n",
       "    <tr>\n",
       "      <th>diameter_lop</th>\n",
       "      <td>0.275894</td>\n",
       "      <td>-0.099624</td>\n",
       "      <td>-0.315206</td>\n",
       "      <td>-0.931563</td>\n",
       "      <td>0.066163</td>\n",
       "      <td>1.000000</td>\n",
       "      <td>-0.045087</td>\n",
       "    </tr>\n",
       "    <tr>\n",
       "      <th>diameter_hillside</th>\n",
       "      <td>-0.168381</td>\n",
       "      <td>0.292868</td>\n",
       "      <td>0.610122</td>\n",
       "      <td>-0.051844</td>\n",
       "      <td>-0.973198</td>\n",
       "      <td>-0.045087</td>\n",
       "      <td>1.000000</td>\n",
       "    </tr>\n",
       "  </tbody>\n",
       "</table>\n",
       "</div>"
      ],
      "text/plain": [
       "                      top15_intersection  delta_lop  delta_hillside  \\\n",
       "top15_intersection              1.000000  -0.033692        0.034758   \n",
       "delta_lop                      -0.033692   1.000000        0.735085   \n",
       "delta_hillside                  0.034758   0.735085        1.000000   \n",
       "nfrac_xstar_lop                -0.124823   0.279614        0.341162   \n",
       "nfrac_xstar_hillside            0.229806  -0.197032       -0.555433   \n",
       "diameter_lop                    0.275894  -0.099624       -0.315206   \n",
       "diameter_hillside              -0.168381   0.292868        0.610122   \n",
       "\n",
       "                      nfrac_xstar_lop  nfrac_xstar_hillside  diameter_lop  \\\n",
       "top15_intersection          -0.124823              0.229806      0.275894   \n",
       "delta_lop                    0.279614             -0.197032     -0.099624   \n",
       "delta_hillside               0.341162             -0.555433     -0.315206   \n",
       "nfrac_xstar_lop              1.000000              0.070455     -0.931563   \n",
       "nfrac_xstar_hillside         0.070455              1.000000      0.066163   \n",
       "diameter_lop                -0.931563              0.066163      1.000000   \n",
       "diameter_hillside           -0.051844             -0.973198     -0.045087   \n",
       "\n",
       "                      diameter_hillside  \n",
       "top15_intersection            -0.168381  \n",
       "delta_lop                      0.292868  \n",
       "delta_hillside                 0.610122  \n",
       "nfrac_xstar_lop               -0.051844  \n",
       "nfrac_xstar_hillside          -0.973198  \n",
       "diameter_lop                  -0.045087  \n",
       "diameter_hillside              1.000000  "
      ]
     },
     "metadata": {},
     "output_type": "display_data"
    },
    {
     "data": {
      "text/plain": [
       "Method            Colley\n",
       "Construction    Indirect\n",
       "dtype: object"
      ]
     },
     "metadata": {},
     "output_type": "display_data"
    },
    {
     "name": "stderr",
     "output_type": "stream",
     "text": [
      "/opt/tljh/user/lib/python3.7/site-packages/ipykernel_launcher.py:5: PerformanceWarning: indexing past lexsort depth may impact performance.\n",
      "  \"\"\"\n"
     ]
    },
    {
     "data": {
      "text/html": [
       "<div>\n",
       "<style scoped>\n",
       "    .dataframe tbody tr th:only-of-type {\n",
       "        vertical-align: middle;\n",
       "    }\n",
       "\n",
       "    .dataframe tbody tr th {\n",
       "        vertical-align: top;\n",
       "    }\n",
       "\n",
       "    .dataframe thead th {\n",
       "        text-align: right;\n",
       "    }\n",
       "</style>\n",
       "<table border=\"1\" class=\"dataframe\">\n",
       "  <thead>\n",
       "    <tr style=\"text-align: right;\">\n",
       "      <th></th>\n",
       "      <th>top15_intersection</th>\n",
       "      <th>delta_lop</th>\n",
       "      <th>delta_hillside</th>\n",
       "      <th>nfrac_xstar_lop</th>\n",
       "      <th>nfrac_xstar_hillside</th>\n",
       "      <th>diameter_lop</th>\n",
       "      <th>diameter_hillside</th>\n",
       "    </tr>\n",
       "  </thead>\n",
       "  <tbody>\n",
       "    <tr>\n",
       "      <th>top15_intersection</th>\n",
       "      <td>1.000000</td>\n",
       "      <td>0.040460</td>\n",
       "      <td>-0.067101</td>\n",
       "      <td>0.399105</td>\n",
       "      <td>-0.124068</td>\n",
       "      <td>-0.511588</td>\n",
       "      <td>0.136769</td>\n",
       "    </tr>\n",
       "    <tr>\n",
       "      <th>delta_lop</th>\n",
       "      <td>0.040460</td>\n",
       "      <td>1.000000</td>\n",
       "      <td>0.933609</td>\n",
       "      <td>0.448464</td>\n",
       "      <td>0.053871</td>\n",
       "      <td>-0.334884</td>\n",
       "      <td>-0.045194</td>\n",
       "    </tr>\n",
       "    <tr>\n",
       "      <th>delta_hillside</th>\n",
       "      <td>-0.067101</td>\n",
       "      <td>0.933609</td>\n",
       "      <td>1.000000</td>\n",
       "      <td>0.301852</td>\n",
       "      <td>-0.101378</td>\n",
       "      <td>-0.190484</td>\n",
       "      <td>0.113999</td>\n",
       "    </tr>\n",
       "    <tr>\n",
       "      <th>nfrac_xstar_lop</th>\n",
       "      <td>0.399105</td>\n",
       "      <td>0.448464</td>\n",
       "      <td>0.301852</td>\n",
       "      <td>1.000000</td>\n",
       "      <td>0.271442</td>\n",
       "      <td>-0.951606</td>\n",
       "      <td>-0.221158</td>\n",
       "    </tr>\n",
       "    <tr>\n",
       "      <th>nfrac_xstar_hillside</th>\n",
       "      <td>-0.124068</td>\n",
       "      <td>0.053871</td>\n",
       "      <td>-0.101378</td>\n",
       "      <td>0.271442</td>\n",
       "      <td>1.000000</td>\n",
       "      <td>-0.240039</td>\n",
       "      <td>-0.995307</td>\n",
       "    </tr>\n",
       "    <tr>\n",
       "      <th>diameter_lop</th>\n",
       "      <td>-0.511588</td>\n",
       "      <td>-0.334884</td>\n",
       "      <td>-0.190484</td>\n",
       "      <td>-0.951606</td>\n",
       "      <td>-0.240039</td>\n",
       "      <td>1.000000</td>\n",
       "      <td>0.192296</td>\n",
       "    </tr>\n",
       "    <tr>\n",
       "      <th>diameter_hillside</th>\n",
       "      <td>0.136769</td>\n",
       "      <td>-0.045194</td>\n",
       "      <td>0.113999</td>\n",
       "      <td>-0.221158</td>\n",
       "      <td>-0.995307</td>\n",
       "      <td>0.192296</td>\n",
       "      <td>1.000000</td>\n",
       "    </tr>\n",
       "  </tbody>\n",
       "</table>\n",
       "</div>"
      ],
      "text/plain": [
       "                      top15_intersection  delta_lop  delta_hillside  \\\n",
       "top15_intersection              1.000000   0.040460       -0.067101   \n",
       "delta_lop                       0.040460   1.000000        0.933609   \n",
       "delta_hillside                 -0.067101   0.933609        1.000000   \n",
       "nfrac_xstar_lop                 0.399105   0.448464        0.301852   \n",
       "nfrac_xstar_hillside           -0.124068   0.053871       -0.101378   \n",
       "diameter_lop                   -0.511588  -0.334884       -0.190484   \n",
       "diameter_hillside               0.136769  -0.045194        0.113999   \n",
       "\n",
       "                      nfrac_xstar_lop  nfrac_xstar_hillside  diameter_lop  \\\n",
       "top15_intersection           0.399105             -0.124068     -0.511588   \n",
       "delta_lop                    0.448464              0.053871     -0.334884   \n",
       "delta_hillside               0.301852             -0.101378     -0.190484   \n",
       "nfrac_xstar_lop              1.000000              0.271442     -0.951606   \n",
       "nfrac_xstar_hillside         0.271442              1.000000     -0.240039   \n",
       "diameter_lop                -0.951606             -0.240039      1.000000   \n",
       "diameter_hillside           -0.221158             -0.995307      0.192296   \n",
       "\n",
       "                      diameter_hillside  \n",
       "top15_intersection             0.136769  \n",
       "delta_lop                     -0.045194  \n",
       "delta_hillside                 0.113999  \n",
       "nfrac_xstar_lop               -0.221158  \n",
       "nfrac_xstar_hillside          -0.995307  \n",
       "diameter_lop                   0.192296  \n",
       "diameter_hillside              1.000000  "
      ]
     },
     "metadata": {},
     "output_type": "display_data"
    },
    {
     "data": {
      "text/plain": [
       "Method          Colley\n",
       "Construction      Both\n",
       "dtype: object"
      ]
     },
     "metadata": {},
     "output_type": "display_data"
    },
    {
     "name": "stderr",
     "output_type": "stream",
     "text": [
      "/opt/tljh/user/lib/python3.7/site-packages/ipykernel_launcher.py:5: PerformanceWarning: indexing past lexsort depth may impact performance.\n",
      "  \"\"\"\n"
     ]
    },
    {
     "data": {
      "text/html": [
       "<div>\n",
       "<style scoped>\n",
       "    .dataframe tbody tr th:only-of-type {\n",
       "        vertical-align: middle;\n",
       "    }\n",
       "\n",
       "    .dataframe tbody tr th {\n",
       "        vertical-align: top;\n",
       "    }\n",
       "\n",
       "    .dataframe thead th {\n",
       "        text-align: right;\n",
       "    }\n",
       "</style>\n",
       "<table border=\"1\" class=\"dataframe\">\n",
       "  <thead>\n",
       "    <tr style=\"text-align: right;\">\n",
       "      <th></th>\n",
       "      <th>top15_intersection</th>\n",
       "      <th>delta_lop</th>\n",
       "      <th>delta_hillside</th>\n",
       "      <th>nfrac_xstar_lop</th>\n",
       "      <th>nfrac_xstar_hillside</th>\n",
       "      <th>diameter_lop</th>\n",
       "      <th>diameter_hillside</th>\n",
       "    </tr>\n",
       "  </thead>\n",
       "  <tbody>\n",
       "    <tr>\n",
       "      <th>top15_intersection</th>\n",
       "      <td>1.000000</td>\n",
       "      <td>-0.157214</td>\n",
       "      <td>-0.046902</td>\n",
       "      <td>-0.078490</td>\n",
       "      <td>-0.249868</td>\n",
       "      <td>0.083512</td>\n",
       "      <td>0.251700</td>\n",
       "    </tr>\n",
       "    <tr>\n",
       "      <th>delta_lop</th>\n",
       "      <td>-0.157214</td>\n",
       "      <td>1.000000</td>\n",
       "      <td>0.906945</td>\n",
       "      <td>0.444305</td>\n",
       "      <td>-0.569154</td>\n",
       "      <td>-0.234295</td>\n",
       "      <td>0.573210</td>\n",
       "    </tr>\n",
       "    <tr>\n",
       "      <th>delta_hillside</th>\n",
       "      <td>-0.046902</td>\n",
       "      <td>0.906945</td>\n",
       "      <td>1.000000</td>\n",
       "      <td>0.200477</td>\n",
       "      <td>-0.495748</td>\n",
       "      <td>0.045845</td>\n",
       "      <td>0.474313</td>\n",
       "    </tr>\n",
       "    <tr>\n",
       "      <th>nfrac_xstar_lop</th>\n",
       "      <td>-0.078490</td>\n",
       "      <td>0.444305</td>\n",
       "      <td>0.200477</td>\n",
       "      <td>1.000000</td>\n",
       "      <td>-0.346656</td>\n",
       "      <td>-0.917743</td>\n",
       "      <td>0.378526</td>\n",
       "    </tr>\n",
       "    <tr>\n",
       "      <th>nfrac_xstar_hillside</th>\n",
       "      <td>-0.249868</td>\n",
       "      <td>-0.569154</td>\n",
       "      <td>-0.495748</td>\n",
       "      <td>-0.346656</td>\n",
       "      <td>1.000000</td>\n",
       "      <td>0.260130</td>\n",
       "      <td>-0.990913</td>\n",
       "    </tr>\n",
       "    <tr>\n",
       "      <th>diameter_lop</th>\n",
       "      <td>0.083512</td>\n",
       "      <td>-0.234295</td>\n",
       "      <td>0.045845</td>\n",
       "      <td>-0.917743</td>\n",
       "      <td>0.260130</td>\n",
       "      <td>1.000000</td>\n",
       "      <td>-0.300622</td>\n",
       "    </tr>\n",
       "    <tr>\n",
       "      <th>diameter_hillside</th>\n",
       "      <td>0.251700</td>\n",
       "      <td>0.573210</td>\n",
       "      <td>0.474313</td>\n",
       "      <td>0.378526</td>\n",
       "      <td>-0.990913</td>\n",
       "      <td>-0.300622</td>\n",
       "      <td>1.000000</td>\n",
       "    </tr>\n",
       "  </tbody>\n",
       "</table>\n",
       "</div>"
      ],
      "text/plain": [
       "                      top15_intersection  delta_lop  delta_hillside  \\\n",
       "top15_intersection              1.000000  -0.157214       -0.046902   \n",
       "delta_lop                      -0.157214   1.000000        0.906945   \n",
       "delta_hillside                 -0.046902   0.906945        1.000000   \n",
       "nfrac_xstar_lop                -0.078490   0.444305        0.200477   \n",
       "nfrac_xstar_hillside           -0.249868  -0.569154       -0.495748   \n",
       "diameter_lop                    0.083512  -0.234295        0.045845   \n",
       "diameter_hillside               0.251700   0.573210        0.474313   \n",
       "\n",
       "                      nfrac_xstar_lop  nfrac_xstar_hillside  diameter_lop  \\\n",
       "top15_intersection          -0.078490             -0.249868      0.083512   \n",
       "delta_lop                    0.444305             -0.569154     -0.234295   \n",
       "delta_hillside               0.200477             -0.495748      0.045845   \n",
       "nfrac_xstar_lop              1.000000             -0.346656     -0.917743   \n",
       "nfrac_xstar_hillside        -0.346656              1.000000      0.260130   \n",
       "diameter_lop                -0.917743              0.260130      1.000000   \n",
       "diameter_hillside            0.378526             -0.990913     -0.300622   \n",
       "\n",
       "                      diameter_hillside  \n",
       "top15_intersection             0.251700  \n",
       "delta_lop                      0.573210  \n",
       "delta_hillside                 0.474313  \n",
       "nfrac_xstar_lop                0.378526  \n",
       "nfrac_xstar_hillside          -0.990913  \n",
       "diameter_lop                  -0.300622  \n",
       "diameter_hillside              1.000000  "
      ]
     },
     "metadata": {},
     "output_type": "display_data"
    },
    {
     "data": {
      "text/plain": [
       "Method          Massey\n",
       "Construction    Direct\n",
       "dtype: object"
      ]
     },
     "metadata": {},
     "output_type": "display_data"
    },
    {
     "name": "stderr",
     "output_type": "stream",
     "text": [
      "/opt/tljh/user/lib/python3.7/site-packages/ipykernel_launcher.py:5: PerformanceWarning: indexing past lexsort depth may impact performance.\n",
      "  \"\"\"\n"
     ]
    },
    {
     "data": {
      "text/html": [
       "<div>\n",
       "<style scoped>\n",
       "    .dataframe tbody tr th:only-of-type {\n",
       "        vertical-align: middle;\n",
       "    }\n",
       "\n",
       "    .dataframe tbody tr th {\n",
       "        vertical-align: top;\n",
       "    }\n",
       "\n",
       "    .dataframe thead th {\n",
       "        text-align: right;\n",
       "    }\n",
       "</style>\n",
       "<table border=\"1\" class=\"dataframe\">\n",
       "  <thead>\n",
       "    <tr style=\"text-align: right;\">\n",
       "      <th></th>\n",
       "      <th>top15_intersection</th>\n",
       "      <th>delta_lop</th>\n",
       "      <th>delta_hillside</th>\n",
       "      <th>nfrac_xstar_lop</th>\n",
       "      <th>nfrac_xstar_hillside</th>\n",
       "      <th>diameter_lop</th>\n",
       "      <th>diameter_hillside</th>\n",
       "    </tr>\n",
       "  </thead>\n",
       "  <tbody>\n",
       "    <tr>\n",
       "      <th>top15_intersection</th>\n",
       "      <td>1.000000</td>\n",
       "      <td>0.051682</td>\n",
       "      <td>0.070177</td>\n",
       "      <td>0.323252</td>\n",
       "      <td>0.000470</td>\n",
       "      <td>-0.328800</td>\n",
       "      <td>-0.114328</td>\n",
       "    </tr>\n",
       "    <tr>\n",
       "      <th>delta_lop</th>\n",
       "      <td>0.051682</td>\n",
       "      <td>1.000000</td>\n",
       "      <td>0.682160</td>\n",
       "      <td>0.546261</td>\n",
       "      <td>-0.311122</td>\n",
       "      <td>-0.566135</td>\n",
       "      <td>0.339730</td>\n",
       "    </tr>\n",
       "    <tr>\n",
       "      <th>delta_hillside</th>\n",
       "      <td>0.070177</td>\n",
       "      <td>0.682160</td>\n",
       "      <td>1.000000</td>\n",
       "      <td>0.059334</td>\n",
       "      <td>-0.608424</td>\n",
       "      <td>-0.139715</td>\n",
       "      <td>0.611381</td>\n",
       "    </tr>\n",
       "    <tr>\n",
       "      <th>nfrac_xstar_lop</th>\n",
       "      <td>0.323252</td>\n",
       "      <td>0.546261</td>\n",
       "      <td>0.059334</td>\n",
       "      <td>1.000000</td>\n",
       "      <td>0.420533</td>\n",
       "      <td>-0.978047</td>\n",
       "      <td>-0.422727</td>\n",
       "    </tr>\n",
       "    <tr>\n",
       "      <th>nfrac_xstar_hillside</th>\n",
       "      <td>0.000470</td>\n",
       "      <td>-0.311122</td>\n",
       "      <td>-0.608424</td>\n",
       "      <td>0.420533</td>\n",
       "      <td>1.000000</td>\n",
       "      <td>-0.426080</td>\n",
       "      <td>-0.979986</td>\n",
       "    </tr>\n",
       "    <tr>\n",
       "      <th>diameter_lop</th>\n",
       "      <td>-0.328800</td>\n",
       "      <td>-0.566135</td>\n",
       "      <td>-0.139715</td>\n",
       "      <td>-0.978047</td>\n",
       "      <td>-0.426080</td>\n",
       "      <td>1.000000</td>\n",
       "      <td>0.431566</td>\n",
       "    </tr>\n",
       "    <tr>\n",
       "      <th>diameter_hillside</th>\n",
       "      <td>-0.114328</td>\n",
       "      <td>0.339730</td>\n",
       "      <td>0.611381</td>\n",
       "      <td>-0.422727</td>\n",
       "      <td>-0.979986</td>\n",
       "      <td>0.431566</td>\n",
       "      <td>1.000000</td>\n",
       "    </tr>\n",
       "  </tbody>\n",
       "</table>\n",
       "</div>"
      ],
      "text/plain": [
       "                      top15_intersection  delta_lop  delta_hillside  \\\n",
       "top15_intersection              1.000000   0.051682        0.070177   \n",
       "delta_lop                       0.051682   1.000000        0.682160   \n",
       "delta_hillside                  0.070177   0.682160        1.000000   \n",
       "nfrac_xstar_lop                 0.323252   0.546261        0.059334   \n",
       "nfrac_xstar_hillside            0.000470  -0.311122       -0.608424   \n",
       "diameter_lop                   -0.328800  -0.566135       -0.139715   \n",
       "diameter_hillside              -0.114328   0.339730        0.611381   \n",
       "\n",
       "                      nfrac_xstar_lop  nfrac_xstar_hillside  diameter_lop  \\\n",
       "top15_intersection           0.323252              0.000470     -0.328800   \n",
       "delta_lop                    0.546261             -0.311122     -0.566135   \n",
       "delta_hillside               0.059334             -0.608424     -0.139715   \n",
       "nfrac_xstar_lop              1.000000              0.420533     -0.978047   \n",
       "nfrac_xstar_hillside         0.420533              1.000000     -0.426080   \n",
       "diameter_lop                -0.978047             -0.426080      1.000000   \n",
       "diameter_hillside           -0.422727             -0.979986      0.431566   \n",
       "\n",
       "                      diameter_hillside  \n",
       "top15_intersection            -0.114328  \n",
       "delta_lop                      0.339730  \n",
       "delta_hillside                 0.611381  \n",
       "nfrac_xstar_lop               -0.422727  \n",
       "nfrac_xstar_hillside          -0.979986  \n",
       "diameter_lop                   0.431566  \n",
       "diameter_hillside              1.000000  "
      ]
     },
     "metadata": {},
     "output_type": "display_data"
    },
    {
     "data": {
      "text/plain": [
       "Method          Massey\n",
       "Construction      Both\n",
       "dtype: object"
      ]
     },
     "metadata": {},
     "output_type": "display_data"
    },
    {
     "name": "stderr",
     "output_type": "stream",
     "text": [
      "/opt/tljh/user/lib/python3.7/site-packages/ipykernel_launcher.py:5: PerformanceWarning: indexing past lexsort depth may impact performance.\n",
      "  \"\"\"\n"
     ]
    },
    {
     "data": {
      "text/html": [
       "<div>\n",
       "<style scoped>\n",
       "    .dataframe tbody tr th:only-of-type {\n",
       "        vertical-align: middle;\n",
       "    }\n",
       "\n",
       "    .dataframe tbody tr th {\n",
       "        vertical-align: top;\n",
       "    }\n",
       "\n",
       "    .dataframe thead th {\n",
       "        text-align: right;\n",
       "    }\n",
       "</style>\n",
       "<table border=\"1\" class=\"dataframe\">\n",
       "  <thead>\n",
       "    <tr style=\"text-align: right;\">\n",
       "      <th></th>\n",
       "      <th>top15_intersection</th>\n",
       "      <th>delta_lop</th>\n",
       "      <th>delta_hillside</th>\n",
       "      <th>nfrac_xstar_lop</th>\n",
       "      <th>nfrac_xstar_hillside</th>\n",
       "      <th>diameter_lop</th>\n",
       "      <th>diameter_hillside</th>\n",
       "    </tr>\n",
       "  </thead>\n",
       "  <tbody>\n",
       "    <tr>\n",
       "      <th>top15_intersection</th>\n",
       "      <td>1.000000</td>\n",
       "      <td>0.051682</td>\n",
       "      <td>0.070177</td>\n",
       "      <td>0.323252</td>\n",
       "      <td>0.000470</td>\n",
       "      <td>-0.328800</td>\n",
       "      <td>-0.114328</td>\n",
       "    </tr>\n",
       "    <tr>\n",
       "      <th>delta_lop</th>\n",
       "      <td>0.051682</td>\n",
       "      <td>1.000000</td>\n",
       "      <td>0.682160</td>\n",
       "      <td>0.546261</td>\n",
       "      <td>-0.311122</td>\n",
       "      <td>-0.566135</td>\n",
       "      <td>0.339730</td>\n",
       "    </tr>\n",
       "    <tr>\n",
       "      <th>delta_hillside</th>\n",
       "      <td>0.070177</td>\n",
       "      <td>0.682160</td>\n",
       "      <td>1.000000</td>\n",
       "      <td>0.059334</td>\n",
       "      <td>-0.608424</td>\n",
       "      <td>-0.139715</td>\n",
       "      <td>0.611381</td>\n",
       "    </tr>\n",
       "    <tr>\n",
       "      <th>nfrac_xstar_lop</th>\n",
       "      <td>0.323252</td>\n",
       "      <td>0.546261</td>\n",
       "      <td>0.059334</td>\n",
       "      <td>1.000000</td>\n",
       "      <td>0.420533</td>\n",
       "      <td>-0.978047</td>\n",
       "      <td>-0.422727</td>\n",
       "    </tr>\n",
       "    <tr>\n",
       "      <th>nfrac_xstar_hillside</th>\n",
       "      <td>0.000470</td>\n",
       "      <td>-0.311122</td>\n",
       "      <td>-0.608424</td>\n",
       "      <td>0.420533</td>\n",
       "      <td>1.000000</td>\n",
       "      <td>-0.426080</td>\n",
       "      <td>-0.979986</td>\n",
       "    </tr>\n",
       "    <tr>\n",
       "      <th>diameter_lop</th>\n",
       "      <td>-0.328800</td>\n",
       "      <td>-0.566135</td>\n",
       "      <td>-0.139715</td>\n",
       "      <td>-0.978047</td>\n",
       "      <td>-0.426080</td>\n",
       "      <td>1.000000</td>\n",
       "      <td>0.431566</td>\n",
       "    </tr>\n",
       "    <tr>\n",
       "      <th>diameter_hillside</th>\n",
       "      <td>-0.114328</td>\n",
       "      <td>0.339730</td>\n",
       "      <td>0.611381</td>\n",
       "      <td>-0.422727</td>\n",
       "      <td>-0.979986</td>\n",
       "      <td>0.431566</td>\n",
       "      <td>1.000000</td>\n",
       "    </tr>\n",
       "  </tbody>\n",
       "</table>\n",
       "</div>"
      ],
      "text/plain": [
       "                      top15_intersection  delta_lop  delta_hillside  \\\n",
       "top15_intersection              1.000000   0.051682        0.070177   \n",
       "delta_lop                       0.051682   1.000000        0.682160   \n",
       "delta_hillside                  0.070177   0.682160        1.000000   \n",
       "nfrac_xstar_lop                 0.323252   0.546261        0.059334   \n",
       "nfrac_xstar_hillside            0.000470  -0.311122       -0.608424   \n",
       "diameter_lop                   -0.328800  -0.566135       -0.139715   \n",
       "diameter_hillside              -0.114328   0.339730        0.611381   \n",
       "\n",
       "                      nfrac_xstar_lop  nfrac_xstar_hillside  diameter_lop  \\\n",
       "top15_intersection           0.323252              0.000470     -0.328800   \n",
       "delta_lop                    0.546261             -0.311122     -0.566135   \n",
       "delta_hillside               0.059334             -0.608424     -0.139715   \n",
       "nfrac_xstar_lop              1.000000              0.420533     -0.978047   \n",
       "nfrac_xstar_hillside         0.420533              1.000000     -0.426080   \n",
       "diameter_lop                -0.978047             -0.426080      1.000000   \n",
       "diameter_hillside           -0.422727             -0.979986      0.431566   \n",
       "\n",
       "                      diameter_hillside  \n",
       "top15_intersection            -0.114328  \n",
       "delta_lop                      0.339730  \n",
       "delta_hillside                 0.611381  \n",
       "nfrac_xstar_lop               -0.422727  \n",
       "nfrac_xstar_hillside          -0.979986  \n",
       "diameter_lop                   0.431566  \n",
       "diameter_hillside              1.000000  "
      ]
     },
     "metadata": {},
     "output_type": "display_data"
    }
   ],
   "source": [
    "data = Xy.set_index(['frac1','frac2']).loc[(0.6,0.7)].reset_index()\n",
    "for_corr = data.set_index(['Method','Construction'])\n",
    "for ix in for_corr.index.unique():\n",
    "    display(pd.Series(ix,index=for_corr.index.names))\n",
    "    display(for_corr.loc[ix][[target_column]+feature_columns].corr())"
   ]
  },
  {
   "cell_type": "markdown",
   "metadata": {},
   "source": [
    "### 0.7 to 0.8"
   ]
  },
  {
   "cell_type": "code",
   "execution_count": 58,
   "metadata": {},
   "outputs": [
    {
     "name": "stderr",
     "output_type": "stream",
     "text": [
      "/opt/tljh/user/lib/python3.7/site-packages/ipykernel_launcher.py:1: PerformanceWarning: indexing past lexsort depth may impact performance.\n",
      "  \"\"\"Entry point for launching an IPython kernel.\n"
     ]
    },
    {
     "data": {
      "text/plain": [
       "Method    Colley\n",
       "dtype: object"
      ]
     },
     "metadata": {},
     "output_type": "display_data"
    },
    {
     "data": {
      "text/html": [
       "<div>\n",
       "<style scoped>\n",
       "    .dataframe tbody tr th:only-of-type {\n",
       "        vertical-align: middle;\n",
       "    }\n",
       "\n",
       "    .dataframe tbody tr th {\n",
       "        vertical-align: top;\n",
       "    }\n",
       "\n",
       "    .dataframe thead th {\n",
       "        text-align: right;\n",
       "    }\n",
       "</style>\n",
       "<table border=\"1\" class=\"dataframe\">\n",
       "  <thead>\n",
       "    <tr style=\"text-align: right;\">\n",
       "      <th></th>\n",
       "      <th>top15_intersection</th>\n",
       "      <th>delta_lop</th>\n",
       "      <th>delta_hillside</th>\n",
       "      <th>nfrac_xstar_lop</th>\n",
       "      <th>nfrac_xstar_hillside</th>\n",
       "      <th>diameter_lop</th>\n",
       "      <th>diameter_hillside</th>\n",
       "    </tr>\n",
       "  </thead>\n",
       "  <tbody>\n",
       "    <tr>\n",
       "      <th>top15_intersection</th>\n",
       "      <td>1.000000</td>\n",
       "      <td>0.022290</td>\n",
       "      <td>0.023643</td>\n",
       "      <td>-0.145952</td>\n",
       "      <td>-0.019798</td>\n",
       "      <td>0.131875</td>\n",
       "      <td>0.013795</td>\n",
       "    </tr>\n",
       "    <tr>\n",
       "      <th>delta_lop</th>\n",
       "      <td>0.022290</td>\n",
       "      <td>1.000000</td>\n",
       "      <td>0.856411</td>\n",
       "      <td>-0.600197</td>\n",
       "      <td>-0.833061</td>\n",
       "      <td>0.699814</td>\n",
       "      <td>0.840072</td>\n",
       "    </tr>\n",
       "    <tr>\n",
       "      <th>delta_hillside</th>\n",
       "      <td>0.023643</td>\n",
       "      <td>0.856411</td>\n",
       "      <td>1.000000</td>\n",
       "      <td>-0.823404</td>\n",
       "      <td>-0.923045</td>\n",
       "      <td>0.869911</td>\n",
       "      <td>0.929844</td>\n",
       "    </tr>\n",
       "    <tr>\n",
       "      <th>nfrac_xstar_lop</th>\n",
       "      <td>-0.145952</td>\n",
       "      <td>-0.600197</td>\n",
       "      <td>-0.823404</td>\n",
       "      <td>1.000000</td>\n",
       "      <td>0.778909</td>\n",
       "      <td>-0.974619</td>\n",
       "      <td>-0.795137</td>\n",
       "    </tr>\n",
       "    <tr>\n",
       "      <th>nfrac_xstar_hillside</th>\n",
       "      <td>-0.019798</td>\n",
       "      <td>-0.833061</td>\n",
       "      <td>-0.923045</td>\n",
       "      <td>0.778909</td>\n",
       "      <td>1.000000</td>\n",
       "      <td>-0.854231</td>\n",
       "      <td>-0.996746</td>\n",
       "    </tr>\n",
       "    <tr>\n",
       "      <th>diameter_lop</th>\n",
       "      <td>0.131875</td>\n",
       "      <td>0.699814</td>\n",
       "      <td>0.869911</td>\n",
       "      <td>-0.974619</td>\n",
       "      <td>-0.854231</td>\n",
       "      <td>1.000000</td>\n",
       "      <td>0.869986</td>\n",
       "    </tr>\n",
       "    <tr>\n",
       "      <th>diameter_hillside</th>\n",
       "      <td>0.013795</td>\n",
       "      <td>0.840072</td>\n",
       "      <td>0.929844</td>\n",
       "      <td>-0.795137</td>\n",
       "      <td>-0.996746</td>\n",
       "      <td>0.869986</td>\n",
       "      <td>1.000000</td>\n",
       "    </tr>\n",
       "  </tbody>\n",
       "</table>\n",
       "</div>"
      ],
      "text/plain": [
       "                      top15_intersection  delta_lop  delta_hillside  \\\n",
       "top15_intersection              1.000000   0.022290        0.023643   \n",
       "delta_lop                       0.022290   1.000000        0.856411   \n",
       "delta_hillside                  0.023643   0.856411        1.000000   \n",
       "nfrac_xstar_lop                -0.145952  -0.600197       -0.823404   \n",
       "nfrac_xstar_hillside           -0.019798  -0.833061       -0.923045   \n",
       "diameter_lop                    0.131875   0.699814        0.869911   \n",
       "diameter_hillside               0.013795   0.840072        0.929844   \n",
       "\n",
       "                      nfrac_xstar_lop  nfrac_xstar_hillside  diameter_lop  \\\n",
       "top15_intersection          -0.145952             -0.019798      0.131875   \n",
       "delta_lop                   -0.600197             -0.833061      0.699814   \n",
       "delta_hillside              -0.823404             -0.923045      0.869911   \n",
       "nfrac_xstar_lop              1.000000              0.778909     -0.974619   \n",
       "nfrac_xstar_hillside         0.778909              1.000000     -0.854231   \n",
       "diameter_lop                -0.974619             -0.854231      1.000000   \n",
       "diameter_hillside           -0.795137             -0.996746      0.869986   \n",
       "\n",
       "                      diameter_hillside  \n",
       "top15_intersection             0.013795  \n",
       "delta_lop                      0.840072  \n",
       "delta_hillside                 0.929844  \n",
       "nfrac_xstar_lop               -0.795137  \n",
       "nfrac_xstar_hillside          -0.996746  \n",
       "diameter_lop                   0.869986  \n",
       "diameter_hillside              1.000000  "
      ]
     },
     "metadata": {},
     "output_type": "display_data"
    },
    {
     "data": {
      "text/plain": [
       "Method    Massey\n",
       "dtype: object"
      ]
     },
     "metadata": {},
     "output_type": "display_data"
    },
    {
     "data": {
      "text/html": [
       "<div>\n",
       "<style scoped>\n",
       "    .dataframe tbody tr th:only-of-type {\n",
       "        vertical-align: middle;\n",
       "    }\n",
       "\n",
       "    .dataframe tbody tr th {\n",
       "        vertical-align: top;\n",
       "    }\n",
       "\n",
       "    .dataframe thead th {\n",
       "        text-align: right;\n",
       "    }\n",
       "</style>\n",
       "<table border=\"1\" class=\"dataframe\">\n",
       "  <thead>\n",
       "    <tr style=\"text-align: right;\">\n",
       "      <th></th>\n",
       "      <th>top15_intersection</th>\n",
       "      <th>delta_lop</th>\n",
       "      <th>delta_hillside</th>\n",
       "      <th>nfrac_xstar_lop</th>\n",
       "      <th>nfrac_xstar_hillside</th>\n",
       "      <th>diameter_lop</th>\n",
       "      <th>diameter_hillside</th>\n",
       "    </tr>\n",
       "  </thead>\n",
       "  <tbody>\n",
       "    <tr>\n",
       "      <th>top15_intersection</th>\n",
       "      <td>1.000000</td>\n",
       "      <td>0.244961</td>\n",
       "      <td>0.302184</td>\n",
       "      <td>-0.191937</td>\n",
       "      <td>-0.126197</td>\n",
       "      <td>0.204923</td>\n",
       "      <td>0.362996</td>\n",
       "    </tr>\n",
       "    <tr>\n",
       "      <th>delta_lop</th>\n",
       "      <td>0.244961</td>\n",
       "      <td>1.000000</td>\n",
       "      <td>0.569115</td>\n",
       "      <td>0.359219</td>\n",
       "      <td>-0.127186</td>\n",
       "      <td>-0.413252</td>\n",
       "      <td>0.369689</td>\n",
       "    </tr>\n",
       "    <tr>\n",
       "      <th>delta_hillside</th>\n",
       "      <td>0.302184</td>\n",
       "      <td>0.569115</td>\n",
       "      <td>1.000000</td>\n",
       "      <td>0.049907</td>\n",
       "      <td>-0.061282</td>\n",
       "      <td>-0.080169</td>\n",
       "      <td>0.456502</td>\n",
       "    </tr>\n",
       "    <tr>\n",
       "      <th>nfrac_xstar_lop</th>\n",
       "      <td>-0.191937</td>\n",
       "      <td>0.359219</td>\n",
       "      <td>0.049907</td>\n",
       "      <td>1.000000</td>\n",
       "      <td>0.306418</td>\n",
       "      <td>-0.966973</td>\n",
       "      <td>-0.333667</td>\n",
       "    </tr>\n",
       "    <tr>\n",
       "      <th>nfrac_xstar_hillside</th>\n",
       "      <td>-0.126197</td>\n",
       "      <td>-0.127186</td>\n",
       "      <td>-0.061282</td>\n",
       "      <td>0.306418</td>\n",
       "      <td>1.000000</td>\n",
       "      <td>-0.301968</td>\n",
       "      <td>-0.789993</td>\n",
       "    </tr>\n",
       "    <tr>\n",
       "      <th>diameter_lop</th>\n",
       "      <td>0.204923</td>\n",
       "      <td>-0.413252</td>\n",
       "      <td>-0.080169</td>\n",
       "      <td>-0.966973</td>\n",
       "      <td>-0.301968</td>\n",
       "      <td>1.000000</td>\n",
       "      <td>0.373802</td>\n",
       "    </tr>\n",
       "    <tr>\n",
       "      <th>diameter_hillside</th>\n",
       "      <td>0.362996</td>\n",
       "      <td>0.369689</td>\n",
       "      <td>0.456502</td>\n",
       "      <td>-0.333667</td>\n",
       "      <td>-0.789993</td>\n",
       "      <td>0.373802</td>\n",
       "      <td>1.000000</td>\n",
       "    </tr>\n",
       "  </tbody>\n",
       "</table>\n",
       "</div>"
      ],
      "text/plain": [
       "                      top15_intersection  delta_lop  delta_hillside  \\\n",
       "top15_intersection              1.000000   0.244961        0.302184   \n",
       "delta_lop                       0.244961   1.000000        0.569115   \n",
       "delta_hillside                  0.302184   0.569115        1.000000   \n",
       "nfrac_xstar_lop                -0.191937   0.359219        0.049907   \n",
       "nfrac_xstar_hillside           -0.126197  -0.127186       -0.061282   \n",
       "diameter_lop                    0.204923  -0.413252       -0.080169   \n",
       "diameter_hillside               0.362996   0.369689        0.456502   \n",
       "\n",
       "                      nfrac_xstar_lop  nfrac_xstar_hillside  diameter_lop  \\\n",
       "top15_intersection          -0.191937             -0.126197      0.204923   \n",
       "delta_lop                    0.359219             -0.127186     -0.413252   \n",
       "delta_hillside               0.049907             -0.061282     -0.080169   \n",
       "nfrac_xstar_lop              1.000000              0.306418     -0.966973   \n",
       "nfrac_xstar_hillside         0.306418              1.000000     -0.301968   \n",
       "diameter_lop                -0.966973             -0.301968      1.000000   \n",
       "diameter_hillside           -0.333667             -0.789993      0.373802   \n",
       "\n",
       "                      diameter_hillside  \n",
       "top15_intersection             0.362996  \n",
       "delta_lop                      0.369689  \n",
       "delta_hillside                 0.456502  \n",
       "nfrac_xstar_lop               -0.333667  \n",
       "nfrac_xstar_hillside          -0.789993  \n",
       "diameter_lop                   0.373802  \n",
       "diameter_hillside              1.000000  "
      ]
     },
     "metadata": {},
     "output_type": "display_data"
    }
   ],
   "source": [
    "data = Xy.set_index(['frac1','frac2']).loc[(0.7,0.8)].reset_index()\n",
    "for_corr = data.set_index(['Method'])\n",
    "for ix in for_corr.index.unique():\n",
    "    display(pd.Series(ix,index=for_corr.index.names))\n",
    "    display(for_corr.loc[ix][[target_column]+feature_columns].corr())"
   ]
  },
  {
   "cell_type": "markdown",
   "metadata": {},
   "source": [
    "### 0.8 to 0.9"
   ]
  },
  {
   "cell_type": "code",
   "execution_count": 59,
   "metadata": {},
   "outputs": [
    {
     "name": "stderr",
     "output_type": "stream",
     "text": [
      "/opt/tljh/user/lib/python3.7/site-packages/ipykernel_launcher.py:1: PerformanceWarning: indexing past lexsort depth may impact performance.\n",
      "  \"\"\"Entry point for launching an IPython kernel.\n"
     ]
    },
    {
     "data": {
      "text/plain": [
       "Method    Colley\n",
       "dtype: object"
      ]
     },
     "metadata": {},
     "output_type": "display_data"
    },
    {
     "data": {
      "text/html": [
       "<div>\n",
       "<style scoped>\n",
       "    .dataframe tbody tr th:only-of-type {\n",
       "        vertical-align: middle;\n",
       "    }\n",
       "\n",
       "    .dataframe tbody tr th {\n",
       "        vertical-align: top;\n",
       "    }\n",
       "\n",
       "    .dataframe thead th {\n",
       "        text-align: right;\n",
       "    }\n",
       "</style>\n",
       "<table border=\"1\" class=\"dataframe\">\n",
       "  <thead>\n",
       "    <tr style=\"text-align: right;\">\n",
       "      <th></th>\n",
       "      <th>top15_intersection</th>\n",
       "      <th>delta_lop</th>\n",
       "      <th>delta_hillside</th>\n",
       "      <th>nfrac_xstar_lop</th>\n",
       "      <th>nfrac_xstar_hillside</th>\n",
       "      <th>diameter_lop</th>\n",
       "      <th>diameter_hillside</th>\n",
       "    </tr>\n",
       "  </thead>\n",
       "  <tbody>\n",
       "    <tr>\n",
       "      <th>top15_intersection</th>\n",
       "      <td>1.000000</td>\n",
       "      <td>-0.063546</td>\n",
       "      <td>-0.046630</td>\n",
       "      <td>0.021394</td>\n",
       "      <td>0.072194</td>\n",
       "      <td>-0.033096</td>\n",
       "      <td>-0.069062</td>\n",
       "    </tr>\n",
       "    <tr>\n",
       "      <th>delta_lop</th>\n",
       "      <td>-0.063546</td>\n",
       "      <td>1.000000</td>\n",
       "      <td>0.865985</td>\n",
       "      <td>-0.624501</td>\n",
       "      <td>-0.781810</td>\n",
       "      <td>0.731686</td>\n",
       "      <td>0.801398</td>\n",
       "    </tr>\n",
       "    <tr>\n",
       "      <th>delta_hillside</th>\n",
       "      <td>-0.046630</td>\n",
       "      <td>0.865985</td>\n",
       "      <td>1.000000</td>\n",
       "      <td>-0.833724</td>\n",
       "      <td>-0.913166</td>\n",
       "      <td>0.884851</td>\n",
       "      <td>0.928728</td>\n",
       "    </tr>\n",
       "    <tr>\n",
       "      <th>nfrac_xstar_lop</th>\n",
       "      <td>0.021394</td>\n",
       "      <td>-0.624501</td>\n",
       "      <td>-0.833724</td>\n",
       "      <td>1.000000</td>\n",
       "      <td>0.778140</td>\n",
       "      <td>-0.964683</td>\n",
       "      <td>-0.805747</td>\n",
       "    </tr>\n",
       "    <tr>\n",
       "      <th>nfrac_xstar_hillside</th>\n",
       "      <td>0.072194</td>\n",
       "      <td>-0.781810</td>\n",
       "      <td>-0.913166</td>\n",
       "      <td>0.778140</td>\n",
       "      <td>1.000000</td>\n",
       "      <td>-0.836519</td>\n",
       "      <td>-0.987047</td>\n",
       "    </tr>\n",
       "    <tr>\n",
       "      <th>diameter_lop</th>\n",
       "      <td>-0.033096</td>\n",
       "      <td>0.731686</td>\n",
       "      <td>0.884851</td>\n",
       "      <td>-0.964683</td>\n",
       "      <td>-0.836519</td>\n",
       "      <td>1.000000</td>\n",
       "      <td>0.868255</td>\n",
       "    </tr>\n",
       "    <tr>\n",
       "      <th>diameter_hillside</th>\n",
       "      <td>-0.069062</td>\n",
       "      <td>0.801398</td>\n",
       "      <td>0.928728</td>\n",
       "      <td>-0.805747</td>\n",
       "      <td>-0.987047</td>\n",
       "      <td>0.868255</td>\n",
       "      <td>1.000000</td>\n",
       "    </tr>\n",
       "  </tbody>\n",
       "</table>\n",
       "</div>"
      ],
      "text/plain": [
       "                      top15_intersection  delta_lop  delta_hillside  \\\n",
       "top15_intersection              1.000000  -0.063546       -0.046630   \n",
       "delta_lop                      -0.063546   1.000000        0.865985   \n",
       "delta_hillside                 -0.046630   0.865985        1.000000   \n",
       "nfrac_xstar_lop                 0.021394  -0.624501       -0.833724   \n",
       "nfrac_xstar_hillside            0.072194  -0.781810       -0.913166   \n",
       "diameter_lop                   -0.033096   0.731686        0.884851   \n",
       "diameter_hillside              -0.069062   0.801398        0.928728   \n",
       "\n",
       "                      nfrac_xstar_lop  nfrac_xstar_hillside  diameter_lop  \\\n",
       "top15_intersection           0.021394              0.072194     -0.033096   \n",
       "delta_lop                   -0.624501             -0.781810      0.731686   \n",
       "delta_hillside              -0.833724             -0.913166      0.884851   \n",
       "nfrac_xstar_lop              1.000000              0.778140     -0.964683   \n",
       "nfrac_xstar_hillside         0.778140              1.000000     -0.836519   \n",
       "diameter_lop                -0.964683             -0.836519      1.000000   \n",
       "diameter_hillside           -0.805747             -0.987047      0.868255   \n",
       "\n",
       "                      diameter_hillside  \n",
       "top15_intersection            -0.069062  \n",
       "delta_lop                      0.801398  \n",
       "delta_hillside                 0.928728  \n",
       "nfrac_xstar_lop               -0.805747  \n",
       "nfrac_xstar_hillside          -0.987047  \n",
       "diameter_lop                   0.868255  \n",
       "diameter_hillside              1.000000  "
      ]
     },
     "metadata": {},
     "output_type": "display_data"
    },
    {
     "data": {
      "text/plain": [
       "Method    Massey\n",
       "dtype: object"
      ]
     },
     "metadata": {},
     "output_type": "display_data"
    },
    {
     "data": {
      "text/html": [
       "<div>\n",
       "<style scoped>\n",
       "    .dataframe tbody tr th:only-of-type {\n",
       "        vertical-align: middle;\n",
       "    }\n",
       "\n",
       "    .dataframe tbody tr th {\n",
       "        vertical-align: top;\n",
       "    }\n",
       "\n",
       "    .dataframe thead th {\n",
       "        text-align: right;\n",
       "    }\n",
       "</style>\n",
       "<table border=\"1\" class=\"dataframe\">\n",
       "  <thead>\n",
       "    <tr style=\"text-align: right;\">\n",
       "      <th></th>\n",
       "      <th>top15_intersection</th>\n",
       "      <th>delta_lop</th>\n",
       "      <th>delta_hillside</th>\n",
       "      <th>nfrac_xstar_lop</th>\n",
       "      <th>nfrac_xstar_hillside</th>\n",
       "      <th>diameter_lop</th>\n",
       "      <th>diameter_hillside</th>\n",
       "    </tr>\n",
       "  </thead>\n",
       "  <tbody>\n",
       "    <tr>\n",
       "      <th>top15_intersection</th>\n",
       "      <td>1.000000</td>\n",
       "      <td>-0.200329</td>\n",
       "      <td>-0.081585</td>\n",
       "      <td>0.151543</td>\n",
       "      <td>-0.029163</td>\n",
       "      <td>-0.148642</td>\n",
       "      <td>0.088628</td>\n",
       "    </tr>\n",
       "    <tr>\n",
       "      <th>delta_lop</th>\n",
       "      <td>-0.200329</td>\n",
       "      <td>1.000000</td>\n",
       "      <td>0.410175</td>\n",
       "      <td>0.611958</td>\n",
       "      <td>-0.035864</td>\n",
       "      <td>-0.526587</td>\n",
       "      <td>-0.072341</td>\n",
       "    </tr>\n",
       "    <tr>\n",
       "      <th>delta_hillside</th>\n",
       "      <td>-0.081585</td>\n",
       "      <td>0.410175</td>\n",
       "      <td>1.000000</td>\n",
       "      <td>0.046915</td>\n",
       "      <td>-0.104072</td>\n",
       "      <td>-0.051227</td>\n",
       "      <td>0.012704</td>\n",
       "    </tr>\n",
       "    <tr>\n",
       "      <th>nfrac_xstar_lop</th>\n",
       "      <td>0.151543</td>\n",
       "      <td>0.611958</td>\n",
       "      <td>0.046915</td>\n",
       "      <td>1.000000</td>\n",
       "      <td>0.295671</td>\n",
       "      <td>-0.974192</td>\n",
       "      <td>-0.275981</td>\n",
       "    </tr>\n",
       "    <tr>\n",
       "      <th>nfrac_xstar_hillside</th>\n",
       "      <td>-0.029163</td>\n",
       "      <td>-0.035864</td>\n",
       "      <td>-0.104072</td>\n",
       "      <td>0.295671</td>\n",
       "      <td>1.000000</td>\n",
       "      <td>-0.361536</td>\n",
       "      <td>-0.901983</td>\n",
       "    </tr>\n",
       "    <tr>\n",
       "      <th>diameter_lop</th>\n",
       "      <td>-0.148642</td>\n",
       "      <td>-0.526587</td>\n",
       "      <td>-0.051227</td>\n",
       "      <td>-0.974192</td>\n",
       "      <td>-0.361536</td>\n",
       "      <td>1.000000</td>\n",
       "      <td>0.351146</td>\n",
       "    </tr>\n",
       "    <tr>\n",
       "      <th>diameter_hillside</th>\n",
       "      <td>0.088628</td>\n",
       "      <td>-0.072341</td>\n",
       "      <td>0.012704</td>\n",
       "      <td>-0.275981</td>\n",
       "      <td>-0.901983</td>\n",
       "      <td>0.351146</td>\n",
       "      <td>1.000000</td>\n",
       "    </tr>\n",
       "  </tbody>\n",
       "</table>\n",
       "</div>"
      ],
      "text/plain": [
       "                      top15_intersection  delta_lop  delta_hillside  \\\n",
       "top15_intersection              1.000000  -0.200329       -0.081585   \n",
       "delta_lop                      -0.200329   1.000000        0.410175   \n",
       "delta_hillside                 -0.081585   0.410175        1.000000   \n",
       "nfrac_xstar_lop                 0.151543   0.611958        0.046915   \n",
       "nfrac_xstar_hillside           -0.029163  -0.035864       -0.104072   \n",
       "diameter_lop                   -0.148642  -0.526587       -0.051227   \n",
       "diameter_hillside               0.088628  -0.072341        0.012704   \n",
       "\n",
       "                      nfrac_xstar_lop  nfrac_xstar_hillside  diameter_lop  \\\n",
       "top15_intersection           0.151543             -0.029163     -0.148642   \n",
       "delta_lop                    0.611958             -0.035864     -0.526587   \n",
       "delta_hillside               0.046915             -0.104072     -0.051227   \n",
       "nfrac_xstar_lop              1.000000              0.295671     -0.974192   \n",
       "nfrac_xstar_hillside         0.295671              1.000000     -0.361536   \n",
       "diameter_lop                -0.974192             -0.361536      1.000000   \n",
       "diameter_hillside           -0.275981             -0.901983      0.351146   \n",
       "\n",
       "                      diameter_hillside  \n",
       "top15_intersection             0.088628  \n",
       "delta_lop                     -0.072341  \n",
       "delta_hillside                 0.012704  \n",
       "nfrac_xstar_lop               -0.275981  \n",
       "nfrac_xstar_hillside          -0.901983  \n",
       "diameter_lop                   0.351146  \n",
       "diameter_hillside              1.000000  "
      ]
     },
     "metadata": {},
     "output_type": "display_data"
    }
   ],
   "source": [
    "data = Xy.set_index(['frac1','frac2']).loc[(0.8,0.9)].reset_index()\n",
    "for_corr = data.set_index(['Method'])\n",
    "for ix in for_corr.index.unique():\n",
    "    display(pd.Series(ix,index=for_corr.index.names))\n",
    "    display(for_corr.loc[ix][[target_column]+feature_columns].corr())"
   ]
  },
  {
   "cell_type": "markdown",
   "metadata": {},
   "source": [
    "### 0.9 to 1."
   ]
  },
  {
   "cell_type": "code",
   "execution_count": 60,
   "metadata": {},
   "outputs": [
    {
     "name": "stderr",
     "output_type": "stream",
     "text": [
      "/opt/tljh/user/lib/python3.7/site-packages/ipykernel_launcher.py:1: PerformanceWarning: indexing past lexsort depth may impact performance.\n",
      "  \"\"\"Entry point for launching an IPython kernel.\n"
     ]
    },
    {
     "data": {
      "text/plain": [
       "Method    Colley\n",
       "dtype: object"
      ]
     },
     "metadata": {},
     "output_type": "display_data"
    },
    {
     "data": {
      "text/html": [
       "<div>\n",
       "<style scoped>\n",
       "    .dataframe tbody tr th:only-of-type {\n",
       "        vertical-align: middle;\n",
       "    }\n",
       "\n",
       "    .dataframe tbody tr th {\n",
       "        vertical-align: top;\n",
       "    }\n",
       "\n",
       "    .dataframe thead th {\n",
       "        text-align: right;\n",
       "    }\n",
       "</style>\n",
       "<table border=\"1\" class=\"dataframe\">\n",
       "  <thead>\n",
       "    <tr style=\"text-align: right;\">\n",
       "      <th></th>\n",
       "      <th>top15_intersection</th>\n",
       "      <th>delta_lop</th>\n",
       "      <th>delta_hillside</th>\n",
       "      <th>nfrac_xstar_lop</th>\n",
       "      <th>nfrac_xstar_hillside</th>\n",
       "      <th>diameter_lop</th>\n",
       "      <th>diameter_hillside</th>\n",
       "    </tr>\n",
       "  </thead>\n",
       "  <tbody>\n",
       "    <tr>\n",
       "      <th>top15_intersection</th>\n",
       "      <td>1.000000</td>\n",
       "      <td>0.080682</td>\n",
       "      <td>0.101705</td>\n",
       "      <td>-0.090726</td>\n",
       "      <td>-0.104757</td>\n",
       "      <td>0.084122</td>\n",
       "      <td>0.138211</td>\n",
       "    </tr>\n",
       "    <tr>\n",
       "      <th>delta_lop</th>\n",
       "      <td>0.080682</td>\n",
       "      <td>1.000000</td>\n",
       "      <td>0.865931</td>\n",
       "      <td>-0.664981</td>\n",
       "      <td>-0.747569</td>\n",
       "      <td>0.736892</td>\n",
       "      <td>0.760151</td>\n",
       "    </tr>\n",
       "    <tr>\n",
       "      <th>delta_hillside</th>\n",
       "      <td>0.101705</td>\n",
       "      <td>0.865931</td>\n",
       "      <td>1.000000</td>\n",
       "      <td>-0.839537</td>\n",
       "      <td>-0.861560</td>\n",
       "      <td>0.889460</td>\n",
       "      <td>0.879020</td>\n",
       "    </tr>\n",
       "    <tr>\n",
       "      <th>nfrac_xstar_lop</th>\n",
       "      <td>-0.090726</td>\n",
       "      <td>-0.664981</td>\n",
       "      <td>-0.839537</td>\n",
       "      <td>1.000000</td>\n",
       "      <td>0.751581</td>\n",
       "      <td>-0.973630</td>\n",
       "      <td>-0.806614</td>\n",
       "    </tr>\n",
       "    <tr>\n",
       "      <th>nfrac_xstar_hillside</th>\n",
       "      <td>-0.104757</td>\n",
       "      <td>-0.747569</td>\n",
       "      <td>-0.861560</td>\n",
       "      <td>0.751581</td>\n",
       "      <td>1.000000</td>\n",
       "      <td>-0.811210</td>\n",
       "      <td>-0.926384</td>\n",
       "    </tr>\n",
       "    <tr>\n",
       "      <th>diameter_lop</th>\n",
       "      <td>0.084122</td>\n",
       "      <td>0.736892</td>\n",
       "      <td>0.889460</td>\n",
       "      <td>-0.973630</td>\n",
       "      <td>-0.811210</td>\n",
       "      <td>1.000000</td>\n",
       "      <td>0.875447</td>\n",
       "    </tr>\n",
       "    <tr>\n",
       "      <th>diameter_hillside</th>\n",
       "      <td>0.138211</td>\n",
       "      <td>0.760151</td>\n",
       "      <td>0.879020</td>\n",
       "      <td>-0.806614</td>\n",
       "      <td>-0.926384</td>\n",
       "      <td>0.875447</td>\n",
       "      <td>1.000000</td>\n",
       "    </tr>\n",
       "  </tbody>\n",
       "</table>\n",
       "</div>"
      ],
      "text/plain": [
       "                      top15_intersection  delta_lop  delta_hillside  \\\n",
       "top15_intersection              1.000000   0.080682        0.101705   \n",
       "delta_lop                       0.080682   1.000000        0.865931   \n",
       "delta_hillside                  0.101705   0.865931        1.000000   \n",
       "nfrac_xstar_lop                -0.090726  -0.664981       -0.839537   \n",
       "nfrac_xstar_hillside           -0.104757  -0.747569       -0.861560   \n",
       "diameter_lop                    0.084122   0.736892        0.889460   \n",
       "diameter_hillside               0.138211   0.760151        0.879020   \n",
       "\n",
       "                      nfrac_xstar_lop  nfrac_xstar_hillside  diameter_lop  \\\n",
       "top15_intersection          -0.090726             -0.104757      0.084122   \n",
       "delta_lop                   -0.664981             -0.747569      0.736892   \n",
       "delta_hillside              -0.839537             -0.861560      0.889460   \n",
       "nfrac_xstar_lop              1.000000              0.751581     -0.973630   \n",
       "nfrac_xstar_hillside         0.751581              1.000000     -0.811210   \n",
       "diameter_lop                -0.973630             -0.811210      1.000000   \n",
       "diameter_hillside           -0.806614             -0.926384      0.875447   \n",
       "\n",
       "                      diameter_hillside  \n",
       "top15_intersection             0.138211  \n",
       "delta_lop                      0.760151  \n",
       "delta_hillside                 0.879020  \n",
       "nfrac_xstar_lop               -0.806614  \n",
       "nfrac_xstar_hillside          -0.926384  \n",
       "diameter_lop                   0.875447  \n",
       "diameter_hillside              1.000000  "
      ]
     },
     "metadata": {},
     "output_type": "display_data"
    },
    {
     "data": {
      "text/plain": [
       "Method    Massey\n",
       "dtype: object"
      ]
     },
     "metadata": {},
     "output_type": "display_data"
    },
    {
     "data": {
      "text/html": [
       "<div>\n",
       "<style scoped>\n",
       "    .dataframe tbody tr th:only-of-type {\n",
       "        vertical-align: middle;\n",
       "    }\n",
       "\n",
       "    .dataframe tbody tr th {\n",
       "        vertical-align: top;\n",
       "    }\n",
       "\n",
       "    .dataframe thead th {\n",
       "        text-align: right;\n",
       "    }\n",
       "</style>\n",
       "<table border=\"1\" class=\"dataframe\">\n",
       "  <thead>\n",
       "    <tr style=\"text-align: right;\">\n",
       "      <th></th>\n",
       "      <th>top15_intersection</th>\n",
       "      <th>delta_lop</th>\n",
       "      <th>delta_hillside</th>\n",
       "      <th>nfrac_xstar_lop</th>\n",
       "      <th>nfrac_xstar_hillside</th>\n",
       "      <th>diameter_lop</th>\n",
       "      <th>diameter_hillside</th>\n",
       "    </tr>\n",
       "  </thead>\n",
       "  <tbody>\n",
       "    <tr>\n",
       "      <th>top15_intersection</th>\n",
       "      <td>1.000000</td>\n",
       "      <td>0.060080</td>\n",
       "      <td>0.144706</td>\n",
       "      <td>-0.271090</td>\n",
       "      <td>-0.074017</td>\n",
       "      <td>0.379677</td>\n",
       "      <td>0.254621</td>\n",
       "    </tr>\n",
       "    <tr>\n",
       "      <th>delta_lop</th>\n",
       "      <td>0.060080</td>\n",
       "      <td>1.000000</td>\n",
       "      <td>0.530237</td>\n",
       "      <td>0.151979</td>\n",
       "      <td>0.074900</td>\n",
       "      <td>0.052209</td>\n",
       "      <td>0.195383</td>\n",
       "    </tr>\n",
       "    <tr>\n",
       "      <th>delta_hillside</th>\n",
       "      <td>0.144706</td>\n",
       "      <td>0.530237</td>\n",
       "      <td>1.000000</td>\n",
       "      <td>-0.453008</td>\n",
       "      <td>-0.129820</td>\n",
       "      <td>0.488829</td>\n",
       "      <td>0.367424</td>\n",
       "    </tr>\n",
       "    <tr>\n",
       "      <th>nfrac_xstar_lop</th>\n",
       "      <td>-0.271090</td>\n",
       "      <td>0.151979</td>\n",
       "      <td>-0.453008</td>\n",
       "      <td>1.000000</td>\n",
       "      <td>0.181947</td>\n",
       "      <td>-0.909558</td>\n",
       "      <td>-0.203733</td>\n",
       "    </tr>\n",
       "    <tr>\n",
       "      <th>nfrac_xstar_hillside</th>\n",
       "      <td>-0.074017</td>\n",
       "      <td>0.074900</td>\n",
       "      <td>-0.129820</td>\n",
       "      <td>0.181947</td>\n",
       "      <td>1.000000</td>\n",
       "      <td>-0.157968</td>\n",
       "      <td>-0.883072</td>\n",
       "    </tr>\n",
       "    <tr>\n",
       "      <th>diameter_lop</th>\n",
       "      <td>0.379677</td>\n",
       "      <td>0.052209</td>\n",
       "      <td>0.488829</td>\n",
       "      <td>-0.909558</td>\n",
       "      <td>-0.157968</td>\n",
       "      <td>1.000000</td>\n",
       "      <td>0.297851</td>\n",
       "    </tr>\n",
       "    <tr>\n",
       "      <th>diameter_hillside</th>\n",
       "      <td>0.254621</td>\n",
       "      <td>0.195383</td>\n",
       "      <td>0.367424</td>\n",
       "      <td>-0.203733</td>\n",
       "      <td>-0.883072</td>\n",
       "      <td>0.297851</td>\n",
       "      <td>1.000000</td>\n",
       "    </tr>\n",
       "  </tbody>\n",
       "</table>\n",
       "</div>"
      ],
      "text/plain": [
       "                      top15_intersection  delta_lop  delta_hillside  \\\n",
       "top15_intersection              1.000000   0.060080        0.144706   \n",
       "delta_lop                       0.060080   1.000000        0.530237   \n",
       "delta_hillside                  0.144706   0.530237        1.000000   \n",
       "nfrac_xstar_lop                -0.271090   0.151979       -0.453008   \n",
       "nfrac_xstar_hillside           -0.074017   0.074900       -0.129820   \n",
       "diameter_lop                    0.379677   0.052209        0.488829   \n",
       "diameter_hillside               0.254621   0.195383        0.367424   \n",
       "\n",
       "                      nfrac_xstar_lop  nfrac_xstar_hillside  diameter_lop  \\\n",
       "top15_intersection          -0.271090             -0.074017      0.379677   \n",
       "delta_lop                    0.151979              0.074900      0.052209   \n",
       "delta_hillside              -0.453008             -0.129820      0.488829   \n",
       "nfrac_xstar_lop              1.000000              0.181947     -0.909558   \n",
       "nfrac_xstar_hillside         0.181947              1.000000     -0.157968   \n",
       "diameter_lop                -0.909558             -0.157968      1.000000   \n",
       "diameter_hillside           -0.203733             -0.883072      0.297851   \n",
       "\n",
       "                      diameter_hillside  \n",
       "top15_intersection             0.254621  \n",
       "delta_lop                      0.195383  \n",
       "delta_hillside                 0.367424  \n",
       "nfrac_xstar_lop               -0.203733  \n",
       "nfrac_xstar_hillside          -0.883072  \n",
       "diameter_lop                   0.297851  \n",
       "diameter_hillside              1.000000  "
      ]
     },
     "metadata": {},
     "output_type": "display_data"
    }
   ],
   "source": [
    "data = Xy.set_index(['frac1','frac2']).loc[(0.9,1.)].reset_index()\n",
    "for_corr = data.set_index(['Method'])\n",
    "for ix in for_corr.index.unique():\n",
    "    display(pd.Series(ix,index=for_corr.index.names))\n",
    "    display(for_corr.loc[ix][[target_column]+feature_columns].corr())"
   ]
  },
  {
   "cell_type": "code",
   "execution_count": null,
   "metadata": {},
   "outputs": [],
   "source": []
  },
  {
   "cell_type": "code",
   "execution_count": 72,
   "metadata": {},
   "outputs": [
    {
     "name": "stderr",
     "output_type": "stream",
     "text": [
      "/opt/tljh/user/lib/python3.7/site-packages/ipykernel_launcher.py:5: PerformanceWarning: indexing past lexsort depth may impact performance.\n",
      "  \"\"\"\n"
     ]
    }
   ],
   "source": [
    "for_corr = data.set_index(['Method','direct_thres','spread_thres','weight_indirect'])\n",
    "for_display = pd.DataFrame(columns=feature_columns+list(for_corr.index.names))\n",
    "for_display.set_index(list(for_corr.index.names),inplace=True)\n",
    "for ix in for_corr.index.unique():\n",
    "    dt = for_corr.loc[ix][[target_column]+feature_columns].corr().loc[target_column,feature_columns]\n",
    "    dt.name = ix\n",
    "    for_display = for_display.append(dt)"
   ]
  },
  {
   "cell_type": "code",
   "execution_count": 77,
   "metadata": {},
   "outputs": [
    {
     "data": {
      "text/html": [
       "<div>\n",
       "<style scoped>\n",
       "    .dataframe tbody tr th:only-of-type {\n",
       "        vertical-align: middle;\n",
       "    }\n",
       "\n",
       "    .dataframe tbody tr th {\n",
       "        vertical-align: top;\n",
       "    }\n",
       "\n",
       "    .dataframe thead tr th {\n",
       "        text-align: left;\n",
       "    }\n",
       "</style>\n",
       "<table border=\"1\" class=\"dataframe\">\n",
       "  <thead>\n",
       "    <tr>\n",
       "      <th>Method</th>\n",
       "      <th>Massey</th>\n",
       "      <th>Colley</th>\n",
       "    </tr>\n",
       "    <tr>\n",
       "      <th>direct_thres</th>\n",
       "      <th>0.0</th>\n",
       "      <th>3.0</th>\n",
       "    </tr>\n",
       "    <tr>\n",
       "      <th>spread_thres</th>\n",
       "      <th>3.0</th>\n",
       "      <th>3.0</th>\n",
       "    </tr>\n",
       "    <tr>\n",
       "      <th>weight_indirect</th>\n",
       "      <th>0.25</th>\n",
       "      <th>0.00</th>\n",
       "    </tr>\n",
       "  </thead>\n",
       "  <tbody>\n",
       "    <tr>\n",
       "      <th>delta_lop</th>\n",
       "      <td>-0.181122</td>\n",
       "      <td>-0.045966</td>\n",
       "    </tr>\n",
       "    <tr>\n",
       "      <th>delta_hillside</th>\n",
       "      <td>-0.118407</td>\n",
       "      <td>0.284547</td>\n",
       "    </tr>\n",
       "    <tr>\n",
       "      <th>nfrac_xstar_lop</th>\n",
       "      <td>0.067466</td>\n",
       "      <td>-0.065937</td>\n",
       "    </tr>\n",
       "    <tr>\n",
       "      <th>nfrac_xstar_hillside</th>\n",
       "      <td>-0.087980</td>\n",
       "      <td>0.058396</td>\n",
       "    </tr>\n",
       "    <tr>\n",
       "      <th>diameter_lop</th>\n",
       "      <td>-0.079867</td>\n",
       "      <td>0.376589</td>\n",
       "    </tr>\n",
       "    <tr>\n",
       "      <th>diameter_hillside</th>\n",
       "      <td>0.421510</td>\n",
       "      <td>0.102595</td>\n",
       "    </tr>\n",
       "  </tbody>\n",
       "</table>\n",
       "</div>"
      ],
      "text/plain": [
       "Method                  Massey    Colley\n",
       "direct_thres               0.0       3.0\n",
       "spread_thres               3.0       3.0\n",
       "weight_indirect           0.25      0.00\n",
       "delta_lop            -0.181122 -0.045966\n",
       "delta_hillside       -0.118407  0.284547\n",
       "nfrac_xstar_lop       0.067466 -0.065937\n",
       "nfrac_xstar_hillside -0.087980  0.058396\n",
       "diameter_lop         -0.079867  0.376589\n",
       "diameter_hillside     0.421510  0.102595"
      ]
     },
     "execution_count": 77,
     "metadata": {},
     "output_type": "execute_result"
    }
   ],
   "source": [
    "for_display.T"
   ]
  },
  {
   "cell_type": "code",
   "execution_count": 76,
   "metadata": {},
   "outputs": [
    {
     "name": "stdout",
     "output_type": "stream",
     "text": [
      "\\begin{tabular}{lrr}\n",
      "\\toprule\n",
      "Method &    Massey &    Colley \\\\\n",
      "direct\\_thres &       0.0 &       3.0 \\\\\n",
      "spread\\_thres &       3.0 &       3.0 \\\\\n",
      "weight\\_indirect &      0.25 &      0.00 \\\\\n",
      "\\midrule\n",
      "delta\\_lop            & -0.181122 & -0.045966 \\\\\n",
      "delta\\_hillside       & -0.118407 &  0.284547 \\\\\n",
      "nfrac\\_xstar\\_lop      &  0.067466 & -0.065937 \\\\\n",
      "nfrac\\_xstar\\_hillside & -0.087980 &  0.058396 \\\\\n",
      "diameter\\_lop         & -0.079867 &  0.376589 \\\\\n",
      "diameter\\_hillside    &  0.421510 &  0.102595 \\\\\n",
      "\\bottomrule\n",
      "\\end{tabular}\n",
      "\n"
     ]
    }
   ],
   "source": [
    "print(for_display.T.to_latex())"
   ]
  },
  {
   "cell_type": "code",
   "execution_count": null,
   "metadata": {},
   "outputs": [],
   "source": []
  }
 ],
 "metadata": {
  "kernelspec": {
   "display_name": "Python 3",
   "language": "python",
   "name": "python3"
  },
  "language_info": {
   "codemirror_mode": {
    "name": "ipython",
    "version": 3
   },
   "file_extension": ".py",
   "mimetype": "text/x-python",
   "name": "python",
   "nbconvert_exporter": "python",
   "pygments_lexer": "ipython3",
   "version": "3.7.3"
  }
 },
 "nbformat": 4,
 "nbformat_minor": 4
}
