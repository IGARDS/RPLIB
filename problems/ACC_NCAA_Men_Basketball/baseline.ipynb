{
 "cells": [
  {
   "cell_type": "markdown",
   "metadata": {},
   "source": [
    "# RPLib Problem 0001 - Baseline\n",
    "\n",
    "Provides the baseline version to rankability problem 0001. "
   ]
  },
  {
   "cell_type": "code",
   "execution_count": 1,
   "metadata": {},
   "outputs": [],
   "source": [
    "%load_ext autoreload\n",
    "%autoreload 2\n",
    "%matplotlib inline"
   ]
  },
  {
   "cell_type": "code",
   "execution_count": 2,
   "metadata": {},
   "outputs": [],
   "source": [
    "import copy\n",
    "import os\n",
    "\n",
    "import pandas as pd\n",
    "import numpy as np\n",
    "\n",
    "from scipy.stats import pearsonr\n",
    "\n",
    "from tqdm import tqdm\n",
    "#import matplotlib.pyplot as plt\n",
    "from joblib import Parallel, delayed\n",
    "import joblib\n",
    "import itertools\n",
    "from pathlib import Path\n",
    "from sklearn.pipeline import Pipeline\n",
    "\n",
    "from IPython.display import display, Markdown, Latex"
   ]
  },
  {
   "cell_type": "markdown",
   "metadata": {},
   "source": [
    "**All packages are relative to the home directory of the user**"
   ]
  },
  {
   "cell_type": "code",
   "execution_count": 3,
   "metadata": {},
   "outputs": [],
   "source": [
    "home = str(Path.home())"
   ]
  },
  {
   "cell_type": "markdown",
   "metadata": {},
   "source": [
    "**Import the main rankability package**"
   ]
  },
  {
   "cell_type": "code",
   "execution_count": 4,
   "metadata": {},
   "outputs": [],
   "source": [
    "import sys\n",
    "sys.path.insert(0,\"%s/rankability_toolbox_dev\"%home)\n",
    "import pyrankability"
   ]
  },
  {
   "cell_type": "code",
   "execution_count": 5,
   "metadata": {},
   "outputs": [],
   "source": [
    "sys.path.insert(0,\"%s/RPLib\"%home)\n",
    "import pyrplib"
   ]
  },
  {
   "cell_type": "markdown",
   "metadata": {},
   "source": [
    "**Load the problem information**"
   ]
  },
  {
   "cell_type": "code",
   "execution_count": 6,
   "metadata": {},
   "outputs": [],
   "source": [
    "problem = joblib.load(\"generate.joblib.z\")"
   ]
  },
  {
   "cell_type": "markdown",
   "metadata": {},
   "source": [
    "## Explore and setup the problem"
   ]
  },
  {
   "cell_type": "code",
   "execution_count": 7,
   "metadata": {},
   "outputs": [
    {
     "data": {
      "text/plain": [
       "dict_keys(['description', 'target', 'data', 'other'])"
      ]
     },
     "execution_count": 7,
     "metadata": {},
     "output_type": "execute_result"
    }
   ],
   "source": [
    "problem.keys()"
   ]
  },
  {
   "cell_type": "code",
   "execution_count": 8,
   "metadata": {},
   "outputs": [
    {
     "name": "stdout",
     "output_type": "stream",
     "text": [
      "First representative example for the rankability library. Built around the study of NCAA Men's Basketball league.\n"
     ]
    }
   ],
   "source": [
    "print(problem[\"description\"])"
   ]
  },
  {
   "cell_type": "code",
   "execution_count": 9,
   "metadata": {},
   "outputs": [
    {
     "data": {
      "text/html": [
       "<div>\n",
       "<style scoped>\n",
       "    .dataframe tbody tr th:only-of-type {\n",
       "        vertical-align: middle;\n",
       "    }\n",
       "\n",
       "    .dataframe tbody tr th {\n",
       "        vertical-align: top;\n",
       "    }\n",
       "\n",
       "    .dataframe thead th {\n",
       "        text-align: right;\n",
       "    }\n",
       "</style>\n",
       "<table border=\"1\" class=\"dataframe\">\n",
       "  <thead>\n",
       "    <tr style=\"text-align: right;\">\n",
       "      <th></th>\n",
       "      <th>days_to_subtract1</th>\n",
       "      <th>days_to_subtract2</th>\n",
       "      <th>domain</th>\n",
       "      <th>range</th>\n",
       "      <th>direct_thres</th>\n",
       "      <th>spread_thres</th>\n",
       "      <th>weight_indirect</th>\n",
       "      <th>Method</th>\n",
       "      <th>Year</th>\n",
       "      <th>rankings1</th>\n",
       "      <th>rankings2</th>\n",
       "      <th>top10_jaccard</th>\n",
       "      <th>top10_tau</th>\n",
       "      <th>days_diff</th>\n",
       "    </tr>\n",
       "  </thead>\n",
       "  <tbody>\n",
       "    <tr>\n",
       "      <th>0</th>\n",
       "      <td>28</td>\n",
       "      <td>35</td>\n",
       "      <td>all</td>\n",
       "      <td>madness</td>\n",
       "      <td>0</td>\n",
       "      <td>0</td>\n",
       "      <td>0.1</td>\n",
       "      <td>Colley</td>\n",
       "      <td>2002</td>\n",
       "      <td>Alabama       6.0\n",
       "Arizona       7.0\n",
       "Cincinnati...</td>\n",
       "      <td>Alabama       6.0\n",
       "Arizona       7.0\n",
       "Cincinnati...</td>\n",
       "      <td>0.800000</td>\n",
       "      <td>0.388889</td>\n",
       "      <td>7</td>\n",
       "    </tr>\n",
       "    <tr>\n",
       "      <th>1</th>\n",
       "      <td>21</td>\n",
       "      <td>35</td>\n",
       "      <td>all</td>\n",
       "      <td>madness</td>\n",
       "      <td>0</td>\n",
       "      <td>0</td>\n",
       "      <td>0.1</td>\n",
       "      <td>Colley</td>\n",
       "      <td>2002</td>\n",
       "      <td>Alabama       5.0\n",
       "Arizona       9.0\n",
       "Cincinnati...</td>\n",
       "      <td>Alabama       6.0\n",
       "Arizona       7.0\n",
       "Cincinnati...</td>\n",
       "      <td>0.636364</td>\n",
       "      <td>-0.111111</td>\n",
       "      <td>14</td>\n",
       "    </tr>\n",
       "    <tr>\n",
       "      <th>2</th>\n",
       "      <td>14</td>\n",
       "      <td>35</td>\n",
       "      <td>all</td>\n",
       "      <td>madness</td>\n",
       "      <td>0</td>\n",
       "      <td>0</td>\n",
       "      <td>0.1</td>\n",
       "      <td>Colley</td>\n",
       "      <td>2002</td>\n",
       "      <td>Alabama       6.0\n",
       "Arizona       9.0\n",
       "Cincinnati...</td>\n",
       "      <td>Alabama       6.0\n",
       "Arizona       7.0\n",
       "Cincinnati...</td>\n",
       "      <td>0.800000</td>\n",
       "      <td>-0.055556</td>\n",
       "      <td>21</td>\n",
       "    </tr>\n",
       "    <tr>\n",
       "      <th>3</th>\n",
       "      <td>7</td>\n",
       "      <td>35</td>\n",
       "      <td>all</td>\n",
       "      <td>madness</td>\n",
       "      <td>0</td>\n",
       "      <td>0</td>\n",
       "      <td>0.1</td>\n",
       "      <td>Colley</td>\n",
       "      <td>2002</td>\n",
       "      <td>Alabama       6.0\n",
       "Arizona       7.0\n",
       "Cincinnati...</td>\n",
       "      <td>Alabama       6.0\n",
       "Arizona       7.0\n",
       "Cincinnati...</td>\n",
       "      <td>0.800000</td>\n",
       "      <td>0.000000</td>\n",
       "      <td>28</td>\n",
       "    </tr>\n",
       "    <tr>\n",
       "      <th>4</th>\n",
       "      <td>21</td>\n",
       "      <td>28</td>\n",
       "      <td>all</td>\n",
       "      <td>madness</td>\n",
       "      <td>0</td>\n",
       "      <td>0</td>\n",
       "      <td>0.1</td>\n",
       "      <td>Colley</td>\n",
       "      <td>2002</td>\n",
       "      <td>Alabama       5.0\n",
       "Arizona       9.0\n",
       "Cincinnati...</td>\n",
       "      <td>Alabama       6.0\n",
       "Arizona       7.0\n",
       "Cincinnati...</td>\n",
       "      <td>0.800000</td>\n",
       "      <td>-0.722222</td>\n",
       "      <td>7</td>\n",
       "    </tr>\n",
       "    <tr>\n",
       "      <th>...</th>\n",
       "      <td>...</td>\n",
       "      <td>...</td>\n",
       "      <td>...</td>\n",
       "      <td>...</td>\n",
       "      <td>...</td>\n",
       "      <td>...</td>\n",
       "      <td>...</td>\n",
       "      <td>...</td>\n",
       "      <td>...</td>\n",
       "      <td>...</td>\n",
       "      <td>...</td>\n",
       "      <td>...</td>\n",
       "      <td>...</td>\n",
       "      <td>...</td>\n",
       "    </tr>\n",
       "    <tr>\n",
       "      <th>1695</th>\n",
       "      <td>14</td>\n",
       "      <td>28</td>\n",
       "      <td>all</td>\n",
       "      <td>madness</td>\n",
       "      <td>0</td>\n",
       "      <td>0</td>\n",
       "      <td>0.1</td>\n",
       "      <td>Massey</td>\n",
       "      <td>2018</td>\n",
       "      <td>Cincinnati        8.0\n",
       "Duke              2.0\n",
       "Ka...</td>\n",
       "      <td>Cincinnati        6.0\n",
       "Duke              4.0\n",
       "Ka...</td>\n",
       "      <td>0.800000</td>\n",
       "      <td>0.222222</td>\n",
       "      <td>14</td>\n",
       "    </tr>\n",
       "    <tr>\n",
       "      <th>1696</th>\n",
       "      <td>7</td>\n",
       "      <td>28</td>\n",
       "      <td>all</td>\n",
       "      <td>madness</td>\n",
       "      <td>0</td>\n",
       "      <td>0</td>\n",
       "      <td>0.1</td>\n",
       "      <td>Massey</td>\n",
       "      <td>2018</td>\n",
       "      <td>Cincinnati        7.0\n",
       "Duke              2.0\n",
       "Ka...</td>\n",
       "      <td>Cincinnati        6.0\n",
       "Duke              4.0\n",
       "Ka...</td>\n",
       "      <td>0.800000</td>\n",
       "      <td>-0.111111</td>\n",
       "      <td>21</td>\n",
       "    </tr>\n",
       "    <tr>\n",
       "      <th>1697</th>\n",
       "      <td>14</td>\n",
       "      <td>21</td>\n",
       "      <td>all</td>\n",
       "      <td>madness</td>\n",
       "      <td>0</td>\n",
       "      <td>0</td>\n",
       "      <td>0.1</td>\n",
       "      <td>Massey</td>\n",
       "      <td>2018</td>\n",
       "      <td>Cincinnati        8.0\n",
       "Duke              2.0\n",
       "Ka...</td>\n",
       "      <td>Cincinnati        7.0\n",
       "Duke              3.0\n",
       "Ka...</td>\n",
       "      <td>0.800000</td>\n",
       "      <td>0.222222</td>\n",
       "      <td>7</td>\n",
       "    </tr>\n",
       "    <tr>\n",
       "      <th>1698</th>\n",
       "      <td>7</td>\n",
       "      <td>21</td>\n",
       "      <td>all</td>\n",
       "      <td>madness</td>\n",
       "      <td>0</td>\n",
       "      <td>0</td>\n",
       "      <td>0.1</td>\n",
       "      <td>Massey</td>\n",
       "      <td>2018</td>\n",
       "      <td>Cincinnati        7.0\n",
       "Duke              2.0\n",
       "Ka...</td>\n",
       "      <td>Cincinnati        7.0\n",
       "Duke              3.0\n",
       "Ka...</td>\n",
       "      <td>0.800000</td>\n",
       "      <td>0.222222</td>\n",
       "      <td>14</td>\n",
       "    </tr>\n",
       "    <tr>\n",
       "      <th>1699</th>\n",
       "      <td>7</td>\n",
       "      <td>14</td>\n",
       "      <td>all</td>\n",
       "      <td>madness</td>\n",
       "      <td>0</td>\n",
       "      <td>0</td>\n",
       "      <td>0.1</td>\n",
       "      <td>Massey</td>\n",
       "      <td>2018</td>\n",
       "      <td>Cincinnati        7.0\n",
       "Duke              2.0\n",
       "Ka...</td>\n",
       "      <td>Cincinnati        8.0\n",
       "Duke              2.0\n",
       "Ka...</td>\n",
       "      <td>1.000000</td>\n",
       "      <td>0.333333</td>\n",
       "      <td>7</td>\n",
       "    </tr>\n",
       "  </tbody>\n",
       "</table>\n",
       "<p>1700 rows × 14 columns</p>\n",
       "</div>"
      ],
      "text/plain": [
       "     days_to_subtract1 days_to_subtract2 domain    range direct_thres  \\\n",
       "0                   28                35    all  madness            0   \n",
       "1                   21                35    all  madness            0   \n",
       "2                   14                35    all  madness            0   \n",
       "3                    7                35    all  madness            0   \n",
       "4                   21                28    all  madness            0   \n",
       "...                ...               ...    ...      ...          ...   \n",
       "1695                14                28    all  madness            0   \n",
       "1696                 7                28    all  madness            0   \n",
       "1697                14                21    all  madness            0   \n",
       "1698                 7                21    all  madness            0   \n",
       "1699                 7                14    all  madness            0   \n",
       "\n",
       "     spread_thres  weight_indirect  Method  Year  \\\n",
       "0               0              0.1  Colley  2002   \n",
       "1               0              0.1  Colley  2002   \n",
       "2               0              0.1  Colley  2002   \n",
       "3               0              0.1  Colley  2002   \n",
       "4               0              0.1  Colley  2002   \n",
       "...           ...              ...     ...   ...   \n",
       "1695            0              0.1  Massey  2018   \n",
       "1696            0              0.1  Massey  2018   \n",
       "1697            0              0.1  Massey  2018   \n",
       "1698            0              0.1  Massey  2018   \n",
       "1699            0              0.1  Massey  2018   \n",
       "\n",
       "                                              rankings1  \\\n",
       "0     Alabama       6.0\n",
       "Arizona       7.0\n",
       "Cincinnati...   \n",
       "1     Alabama       5.0\n",
       "Arizona       9.0\n",
       "Cincinnati...   \n",
       "2     Alabama       6.0\n",
       "Arizona       9.0\n",
       "Cincinnati...   \n",
       "3     Alabama       6.0\n",
       "Arizona       7.0\n",
       "Cincinnati...   \n",
       "4     Alabama       5.0\n",
       "Arizona       9.0\n",
       "Cincinnati...   \n",
       "...                                                 ...   \n",
       "1695  Cincinnati        8.0\n",
       "Duke              2.0\n",
       "Ka...   \n",
       "1696  Cincinnati        7.0\n",
       "Duke              2.0\n",
       "Ka...   \n",
       "1697  Cincinnati        8.0\n",
       "Duke              2.0\n",
       "Ka...   \n",
       "1698  Cincinnati        7.0\n",
       "Duke              2.0\n",
       "Ka...   \n",
       "1699  Cincinnati        7.0\n",
       "Duke              2.0\n",
       "Ka...   \n",
       "\n",
       "                                              rankings2  top10_jaccard  \\\n",
       "0     Alabama       6.0\n",
       "Arizona       7.0\n",
       "Cincinnati...       0.800000   \n",
       "1     Alabama       6.0\n",
       "Arizona       7.0\n",
       "Cincinnati...       0.636364   \n",
       "2     Alabama       6.0\n",
       "Arizona       7.0\n",
       "Cincinnati...       0.800000   \n",
       "3     Alabama       6.0\n",
       "Arizona       7.0\n",
       "Cincinnati...       0.800000   \n",
       "4     Alabama       6.0\n",
       "Arizona       7.0\n",
       "Cincinnati...       0.800000   \n",
       "...                                                 ...            ...   \n",
       "1695  Cincinnati        6.0\n",
       "Duke              4.0\n",
       "Ka...       0.800000   \n",
       "1696  Cincinnati        6.0\n",
       "Duke              4.0\n",
       "Ka...       0.800000   \n",
       "1697  Cincinnati        7.0\n",
       "Duke              3.0\n",
       "Ka...       0.800000   \n",
       "1698  Cincinnati        7.0\n",
       "Duke              3.0\n",
       "Ka...       0.800000   \n",
       "1699  Cincinnati        8.0\n",
       "Duke              2.0\n",
       "Ka...       1.000000   \n",
       "\n",
       "      top10_tau days_diff  \n",
       "0      0.388889         7  \n",
       "1     -0.111111        14  \n",
       "2     -0.055556        21  \n",
       "3      0.000000        28  \n",
       "4     -0.722222         7  \n",
       "...         ...       ...  \n",
       "1695   0.222222        14  \n",
       "1696  -0.111111        21  \n",
       "1697   0.222222         7  \n",
       "1698   0.222222        14  \n",
       "1699   0.333333         7  \n",
       "\n",
       "[1700 rows x 14 columns]"
      ]
     },
     "execution_count": 9,
     "metadata": {},
     "output_type": "execute_result"
    }
   ],
   "source": [
    "problem['target']"
   ]
  },
  {
   "cell_type": "code",
   "execution_count": 10,
   "metadata": {},
   "outputs": [
    {
     "data": {
      "text/plain": [
       "dict_keys(['2002', '2003', '2004', '2005', '2006', '2007', '2008', '2009', '2010', '2011', '2012', '2013', '2014', '2015', '2016', '2017', '2018'])"
      ]
     },
     "execution_count": 10,
     "metadata": {},
     "output_type": "execute_result"
    }
   ],
   "source": [
    "problem['data'].keys()"
   ]
  },
  {
   "cell_type": "code",
   "execution_count": 11,
   "metadata": {},
   "outputs": [
    {
     "data": {
      "text/plain": [
       "dict_keys(['days_to_subtract=35', 'days_to_subtract=28', 'days_to_subtract=21', 'days_to_subtract=14', 'days_to_subtract=7'])"
      ]
     },
     "execution_count": 11,
     "metadata": {},
     "output_type": "execute_result"
    }
   ],
   "source": [
    "problem['data']['2002'].keys()"
   ]
  },
  {
   "cell_type": "markdown",
   "metadata": {},
   "source": [
    "**Create easier to reference variables**"
   ]
  },
  {
   "cell_type": "code",
   "execution_count": 12,
   "metadata": {},
   "outputs": [],
   "source": [
    "years = list(problem['data'].keys())\n",
    "days_to_subtract_keys = list(problem['data'][years[0]].keys())\n",
    "remaining_games = problem['other']['remaining_games']\n",
    "madness_teams = problem['other']['madness_teams']\n",
    "best_df = problem['other']['best_df']\n",
    "top_k = problem['other']['top_k']\n",
    "#target_column = f\"top{top_k}_intersection\"\n",
    "feature_names = problem['other']['feature_names']"
   ]
  },
  {
   "cell_type": "code",
   "execution_count": 13,
   "metadata": {},
   "outputs": [
    {
     "data": {
      "text/plain": [
       "['days_to_subtract=35',\n",
       " 'days_to_subtract=28',\n",
       " 'days_to_subtract=21',\n",
       " 'days_to_subtract=14',\n",
       " 'days_to_subtract=7']"
      ]
     },
     "execution_count": 13,
     "metadata": {},
     "output_type": "execute_result"
    }
   ],
   "source": [
    "days_to_subtract_keys"
   ]
  },
  {
   "cell_type": "code",
   "execution_count": 14,
   "metadata": {},
   "outputs": [],
   "source": [
    "target = problem['target']"
   ]
  },
  {
   "cell_type": "code",
   "execution_count": 15,
   "metadata": {},
   "outputs": [
    {
     "data": {
      "text/html": [
       "<div>\n",
       "<style scoped>\n",
       "    .dataframe tbody tr th:only-of-type {\n",
       "        vertical-align: middle;\n",
       "    }\n",
       "\n",
       "    .dataframe tbody tr th {\n",
       "        vertical-align: top;\n",
       "    }\n",
       "\n",
       "    .dataframe thead th {\n",
       "        text-align: right;\n",
       "    }\n",
       "</style>\n",
       "<table border=\"1\" class=\"dataframe\">\n",
       "  <thead>\n",
       "    <tr style=\"text-align: right;\">\n",
       "      <th></th>\n",
       "      <th>days_to_subtract1</th>\n",
       "      <th>days_to_subtract2</th>\n",
       "      <th>domain</th>\n",
       "      <th>range</th>\n",
       "      <th>direct_thres</th>\n",
       "      <th>spread_thres</th>\n",
       "      <th>weight_indirect</th>\n",
       "      <th>Method</th>\n",
       "      <th>Year</th>\n",
       "      <th>rankings1</th>\n",
       "      <th>rankings2</th>\n",
       "      <th>top10_jaccard</th>\n",
       "      <th>top10_tau</th>\n",
       "      <th>days_diff</th>\n",
       "    </tr>\n",
       "  </thead>\n",
       "  <tbody>\n",
       "    <tr>\n",
       "      <th>0</th>\n",
       "      <td>28</td>\n",
       "      <td>35</td>\n",
       "      <td>all</td>\n",
       "      <td>madness</td>\n",
       "      <td>0</td>\n",
       "      <td>0</td>\n",
       "      <td>0.1</td>\n",
       "      <td>Colley</td>\n",
       "      <td>2002</td>\n",
       "      <td>Alabama       6.0\n",
       "Arizona       7.0\n",
       "Cincinnati...</td>\n",
       "      <td>Alabama       6.0\n",
       "Arizona       7.0\n",
       "Cincinnati...</td>\n",
       "      <td>0.800000</td>\n",
       "      <td>0.388889</td>\n",
       "      <td>7</td>\n",
       "    </tr>\n",
       "    <tr>\n",
       "      <th>1</th>\n",
       "      <td>21</td>\n",
       "      <td>35</td>\n",
       "      <td>all</td>\n",
       "      <td>madness</td>\n",
       "      <td>0</td>\n",
       "      <td>0</td>\n",
       "      <td>0.1</td>\n",
       "      <td>Colley</td>\n",
       "      <td>2002</td>\n",
       "      <td>Alabama       5.0\n",
       "Arizona       9.0\n",
       "Cincinnati...</td>\n",
       "      <td>Alabama       6.0\n",
       "Arizona       7.0\n",
       "Cincinnati...</td>\n",
       "      <td>0.636364</td>\n",
       "      <td>-0.111111</td>\n",
       "      <td>14</td>\n",
       "    </tr>\n",
       "    <tr>\n",
       "      <th>2</th>\n",
       "      <td>14</td>\n",
       "      <td>35</td>\n",
       "      <td>all</td>\n",
       "      <td>madness</td>\n",
       "      <td>0</td>\n",
       "      <td>0</td>\n",
       "      <td>0.1</td>\n",
       "      <td>Colley</td>\n",
       "      <td>2002</td>\n",
       "      <td>Alabama       6.0\n",
       "Arizona       9.0\n",
       "Cincinnati...</td>\n",
       "      <td>Alabama       6.0\n",
       "Arizona       7.0\n",
       "Cincinnati...</td>\n",
       "      <td>0.800000</td>\n",
       "      <td>-0.055556</td>\n",
       "      <td>21</td>\n",
       "    </tr>\n",
       "    <tr>\n",
       "      <th>3</th>\n",
       "      <td>7</td>\n",
       "      <td>35</td>\n",
       "      <td>all</td>\n",
       "      <td>madness</td>\n",
       "      <td>0</td>\n",
       "      <td>0</td>\n",
       "      <td>0.1</td>\n",
       "      <td>Colley</td>\n",
       "      <td>2002</td>\n",
       "      <td>Alabama       6.0\n",
       "Arizona       7.0\n",
       "Cincinnati...</td>\n",
       "      <td>Alabama       6.0\n",
       "Arizona       7.0\n",
       "Cincinnati...</td>\n",
       "      <td>0.800000</td>\n",
       "      <td>0.000000</td>\n",
       "      <td>28</td>\n",
       "    </tr>\n",
       "    <tr>\n",
       "      <th>4</th>\n",
       "      <td>21</td>\n",
       "      <td>28</td>\n",
       "      <td>all</td>\n",
       "      <td>madness</td>\n",
       "      <td>0</td>\n",
       "      <td>0</td>\n",
       "      <td>0.1</td>\n",
       "      <td>Colley</td>\n",
       "      <td>2002</td>\n",
       "      <td>Alabama       5.0\n",
       "Arizona       9.0\n",
       "Cincinnati...</td>\n",
       "      <td>Alabama       6.0\n",
       "Arizona       7.0\n",
       "Cincinnati...</td>\n",
       "      <td>0.800000</td>\n",
       "      <td>-0.722222</td>\n",
       "      <td>7</td>\n",
       "    </tr>\n",
       "    <tr>\n",
       "      <th>...</th>\n",
       "      <td>...</td>\n",
       "      <td>...</td>\n",
       "      <td>...</td>\n",
       "      <td>...</td>\n",
       "      <td>...</td>\n",
       "      <td>...</td>\n",
       "      <td>...</td>\n",
       "      <td>...</td>\n",
       "      <td>...</td>\n",
       "      <td>...</td>\n",
       "      <td>...</td>\n",
       "      <td>...</td>\n",
       "      <td>...</td>\n",
       "      <td>...</td>\n",
       "    </tr>\n",
       "    <tr>\n",
       "      <th>1695</th>\n",
       "      <td>14</td>\n",
       "      <td>28</td>\n",
       "      <td>all</td>\n",
       "      <td>madness</td>\n",
       "      <td>0</td>\n",
       "      <td>0</td>\n",
       "      <td>0.1</td>\n",
       "      <td>Massey</td>\n",
       "      <td>2018</td>\n",
       "      <td>Cincinnati        8.0\n",
       "Duke              2.0\n",
       "Ka...</td>\n",
       "      <td>Cincinnati        6.0\n",
       "Duke              4.0\n",
       "Ka...</td>\n",
       "      <td>0.800000</td>\n",
       "      <td>0.222222</td>\n",
       "      <td>14</td>\n",
       "    </tr>\n",
       "    <tr>\n",
       "      <th>1696</th>\n",
       "      <td>7</td>\n",
       "      <td>28</td>\n",
       "      <td>all</td>\n",
       "      <td>madness</td>\n",
       "      <td>0</td>\n",
       "      <td>0</td>\n",
       "      <td>0.1</td>\n",
       "      <td>Massey</td>\n",
       "      <td>2018</td>\n",
       "      <td>Cincinnati        7.0\n",
       "Duke              2.0\n",
       "Ka...</td>\n",
       "      <td>Cincinnati        6.0\n",
       "Duke              4.0\n",
       "Ka...</td>\n",
       "      <td>0.800000</td>\n",
       "      <td>-0.111111</td>\n",
       "      <td>21</td>\n",
       "    </tr>\n",
       "    <tr>\n",
       "      <th>1697</th>\n",
       "      <td>14</td>\n",
       "      <td>21</td>\n",
       "      <td>all</td>\n",
       "      <td>madness</td>\n",
       "      <td>0</td>\n",
       "      <td>0</td>\n",
       "      <td>0.1</td>\n",
       "      <td>Massey</td>\n",
       "      <td>2018</td>\n",
       "      <td>Cincinnati        8.0\n",
       "Duke              2.0\n",
       "Ka...</td>\n",
       "      <td>Cincinnati        7.0\n",
       "Duke              3.0\n",
       "Ka...</td>\n",
       "      <td>0.800000</td>\n",
       "      <td>0.222222</td>\n",
       "      <td>7</td>\n",
       "    </tr>\n",
       "    <tr>\n",
       "      <th>1698</th>\n",
       "      <td>7</td>\n",
       "      <td>21</td>\n",
       "      <td>all</td>\n",
       "      <td>madness</td>\n",
       "      <td>0</td>\n",
       "      <td>0</td>\n",
       "      <td>0.1</td>\n",
       "      <td>Massey</td>\n",
       "      <td>2018</td>\n",
       "      <td>Cincinnati        7.0\n",
       "Duke              2.0\n",
       "Ka...</td>\n",
       "      <td>Cincinnati        7.0\n",
       "Duke              3.0\n",
       "Ka...</td>\n",
       "      <td>0.800000</td>\n",
       "      <td>0.222222</td>\n",
       "      <td>14</td>\n",
       "    </tr>\n",
       "    <tr>\n",
       "      <th>1699</th>\n",
       "      <td>7</td>\n",
       "      <td>14</td>\n",
       "      <td>all</td>\n",
       "      <td>madness</td>\n",
       "      <td>0</td>\n",
       "      <td>0</td>\n",
       "      <td>0.1</td>\n",
       "      <td>Massey</td>\n",
       "      <td>2018</td>\n",
       "      <td>Cincinnati        7.0\n",
       "Duke              2.0\n",
       "Ka...</td>\n",
       "      <td>Cincinnati        8.0\n",
       "Duke              2.0\n",
       "Ka...</td>\n",
       "      <td>1.000000</td>\n",
       "      <td>0.333333</td>\n",
       "      <td>7</td>\n",
       "    </tr>\n",
       "  </tbody>\n",
       "</table>\n",
       "<p>1700 rows × 14 columns</p>\n",
       "</div>"
      ],
      "text/plain": [
       "     days_to_subtract1 days_to_subtract2 domain    range direct_thres  \\\n",
       "0                   28                35    all  madness            0   \n",
       "1                   21                35    all  madness            0   \n",
       "2                   14                35    all  madness            0   \n",
       "3                    7                35    all  madness            0   \n",
       "4                   21                28    all  madness            0   \n",
       "...                ...               ...    ...      ...          ...   \n",
       "1695                14                28    all  madness            0   \n",
       "1696                 7                28    all  madness            0   \n",
       "1697                14                21    all  madness            0   \n",
       "1698                 7                21    all  madness            0   \n",
       "1699                 7                14    all  madness            0   \n",
       "\n",
       "     spread_thres  weight_indirect  Method  Year  \\\n",
       "0               0              0.1  Colley  2002   \n",
       "1               0              0.1  Colley  2002   \n",
       "2               0              0.1  Colley  2002   \n",
       "3               0              0.1  Colley  2002   \n",
       "4               0              0.1  Colley  2002   \n",
       "...           ...              ...     ...   ...   \n",
       "1695            0              0.1  Massey  2018   \n",
       "1696            0              0.1  Massey  2018   \n",
       "1697            0              0.1  Massey  2018   \n",
       "1698            0              0.1  Massey  2018   \n",
       "1699            0              0.1  Massey  2018   \n",
       "\n",
       "                                              rankings1  \\\n",
       "0     Alabama       6.0\n",
       "Arizona       7.0\n",
       "Cincinnati...   \n",
       "1     Alabama       5.0\n",
       "Arizona       9.0\n",
       "Cincinnati...   \n",
       "2     Alabama       6.0\n",
       "Arizona       9.0\n",
       "Cincinnati...   \n",
       "3     Alabama       6.0\n",
       "Arizona       7.0\n",
       "Cincinnati...   \n",
       "4     Alabama       5.0\n",
       "Arizona       9.0\n",
       "Cincinnati...   \n",
       "...                                                 ...   \n",
       "1695  Cincinnati        8.0\n",
       "Duke              2.0\n",
       "Ka...   \n",
       "1696  Cincinnati        7.0\n",
       "Duke              2.0\n",
       "Ka...   \n",
       "1697  Cincinnati        8.0\n",
       "Duke              2.0\n",
       "Ka...   \n",
       "1698  Cincinnati        7.0\n",
       "Duke              2.0\n",
       "Ka...   \n",
       "1699  Cincinnati        7.0\n",
       "Duke              2.0\n",
       "Ka...   \n",
       "\n",
       "                                              rankings2  top10_jaccard  \\\n",
       "0     Alabama       6.0\n",
       "Arizona       7.0\n",
       "Cincinnati...       0.800000   \n",
       "1     Alabama       6.0\n",
       "Arizona       7.0\n",
       "Cincinnati...       0.636364   \n",
       "2     Alabama       6.0\n",
       "Arizona       7.0\n",
       "Cincinnati...       0.800000   \n",
       "3     Alabama       6.0\n",
       "Arizona       7.0\n",
       "Cincinnati...       0.800000   \n",
       "4     Alabama       6.0\n",
       "Arizona       7.0\n",
       "Cincinnati...       0.800000   \n",
       "...                                                 ...            ...   \n",
       "1695  Cincinnati        6.0\n",
       "Duke              4.0\n",
       "Ka...       0.800000   \n",
       "1696  Cincinnati        6.0\n",
       "Duke              4.0\n",
       "Ka...       0.800000   \n",
       "1697  Cincinnati        7.0\n",
       "Duke              3.0\n",
       "Ka...       0.800000   \n",
       "1698  Cincinnati        7.0\n",
       "Duke              3.0\n",
       "Ka...       0.800000   \n",
       "1699  Cincinnati        8.0\n",
       "Duke              2.0\n",
       "Ka...       1.000000   \n",
       "\n",
       "      top10_tau days_diff  \n",
       "0      0.388889         7  \n",
       "1     -0.111111        14  \n",
       "2     -0.055556        21  \n",
       "3      0.000000        28  \n",
       "4     -0.722222         7  \n",
       "...         ...       ...  \n",
       "1695   0.222222        14  \n",
       "1696  -0.111111        21  \n",
       "1697   0.222222         7  \n",
       "1698   0.222222        14  \n",
       "1699   0.333333         7  \n",
       "\n",
       "[1700 rows x 14 columns]"
      ]
     },
     "execution_count": 15,
     "metadata": {},
     "output_type": "execute_result"
    }
   ],
   "source": [
    "target"
   ]
  },
  {
   "cell_type": "markdown",
   "metadata": {},
   "source": [
    "## Define helper functions"
   ]
  },
  {
   "cell_type": "markdown",
   "metadata": {},
   "source": [
    "**Function to compute a D matrix from games using hyperparameters**"
   ]
  },
  {
   "cell_type": "code",
   "execution_count": 16,
   "metadata": {},
   "outputs": [],
   "source": [
    "#def compute_D(game_df,team_range,direct_thres,spread_thres):\n",
    "#    map_func = lambda linked: pyrankability.construct.support_map_vectorized_direct_indirect(linked,direct_thres=direct_thres,spread_thres=spread_thres)\n",
    "#    Ds = pyrankability.construct.V_count_vectorized(game_df,map_func)\n",
    "#    for i in range(len(Ds)):\n",
    "#        Ds[i] = Ds[i].reindex(index=team_range,columns=team_range)\n",
    "#    return Ds"
   ]
  },
  {
   "cell_type": "code",
   "execution_count": 17,
   "metadata": {},
   "outputs": [],
   "source": [
    "#def process(data,target,best_df_all):\n",
    "#    index_cols = [\"Year\",\"days_to_subtract_key\",\"direct_thres\",\"spread_thres\",\"weight_indirect\",\"range\",\"Method\"]\n",
    "#    Ds = pd.DataFrame(columns=[\"D\"]+index_cols)\n",
    "#    Ds.set_index(index_cols,inplace=True)\n",
    "#    for days_to_subtract_key,year in tqdm(itertools.product(days_to_subtract_keys,years)):\n",
    "#        days_to_subtract = float(days_to_subtract_key.split(\"=\")[1])\n",
    "#        best_df = best_df_all.set_index('days_to_subtract').loc[days_to_subtract]\n",
    "#        for index,row in best_df.iterrows():\n",
    "#            dom,ran,dt,st,iw,method = row.loc['domain'],row.loc['range'],row.loc['direct_thres'],row.loc['spread_thres'],row.loc['weight_indirect'],row.loc['Method']\n",
    "#            iw = .1 # Set this so we get both direct and indirect D matrices\n",
    "#            # set the team_range\n",
    "#            team_range = None\n",
    "#            if ran == 'madness':\n",
    "#                team_range = madness_teams[year]\n",
    "#            elif ran == 'all':\n",
    "#                team_range = all_teams[year]\n",
    "#            else:\n",
    "#                raise Exception(f\"range={ran} not supported\")\n",
    "#            name = (year,days_to_subtract_key,dt,st,iw,ran,method)\n",
    "#            if iw == 0:\n",
    "#                st = np.Inf\n",
    "#            pipe = Pipeline([('compute_D', pyrplib.transformers.ComputeDTransformer(team_range, dt, st))])\n",
    "#            X = data[year][days_to_subtract_key]\n",
    "#            pipe.fit(X)\n",
    "#            D = pipe.transform(X)\n",
    "#            #D = compute_D(data[year][days_to_subtract_key],team_range,dt,st)\n",
    "#            Ds = Ds.append(pd.Series([D],index=[\"D\"],name=name)) \n",
    "#    return Ds"
   ]
  },
  {
   "cell_type": "code",
   "execution_count": 19,
   "metadata": {},
   "outputs": [
    {
     "ename": "TypeError",
     "evalue": "ProcessTransformer() takes 3 positional arguments but 6 were given",
     "output_type": "error",
     "traceback": [
      "\u001b[0;31m---------------------------------------------------------------------------\u001b[0m",
      "\u001b[0;31mTypeError\u001b[0m                                 Traceback (most recent call last)",
      "\u001b[0;32m<ipython-input-19-c7ce760f409d>\u001b[0m in \u001b[0;36m<module>\u001b[0;34m\u001b[0m\n\u001b[1;32m      1\u001b[0m \u001b[0mindex_cols\u001b[0m \u001b[0;34m=\u001b[0m \u001b[0;34m[\u001b[0m\u001b[0;34m\"Year\"\u001b[0m\u001b[0;34m,\u001b[0m\u001b[0;34m\"days_to_subtract_key\"\u001b[0m\u001b[0;34m,\u001b[0m\u001b[0;34m\"direct_thres\"\u001b[0m\u001b[0;34m,\u001b[0m\u001b[0;34m\"spread_thres\"\u001b[0m\u001b[0;34m,\u001b[0m\u001b[0;34m\"weight_indirect\"\u001b[0m\u001b[0;34m,\u001b[0m\u001b[0;34m\"range\"\u001b[0m\u001b[0;34m,\u001b[0m\u001b[0;34m\"Method\"\u001b[0m\u001b[0;34m]\u001b[0m\u001b[0;34m\u001b[0m\u001b[0;34m\u001b[0m\u001b[0m\n\u001b[0;32m----> 2\u001b[0;31m \u001b[0mprocess_pipe\u001b[0m \u001b[0;34m=\u001b[0m \u001b[0mPipeline\u001b[0m\u001b[0;34m(\u001b[0m\u001b[0;34m[\u001b[0m\u001b[0;34m(\u001b[0m\u001b[0;34m'process_Ds'\u001b[0m\u001b[0;34m,\u001b[0m \u001b[0mpyrplib\u001b[0m\u001b[0;34m.\u001b[0m\u001b[0mtransformers\u001b[0m\u001b[0;34m.\u001b[0m\u001b[0mProcessTransformer\u001b[0m\u001b[0;34m(\u001b[0m\u001b[0mindex_cols\u001b[0m\u001b[0;34m,\u001b[0m \u001b[0mdays_to_subtract_keys\u001b[0m\u001b[0;34m,\u001b[0m \u001b[0myears\u001b[0m\u001b[0;34m,\u001b[0m \u001b[0;34m'madness'\u001b[0m\u001b[0;34m,\u001b[0m \u001b[0mmadness_teams\u001b[0m\u001b[0;34m,\u001b[0m \u001b[0mbest_df\u001b[0m\u001b[0;34m)\u001b[0m\u001b[0;34m)\u001b[0m\u001b[0;34m]\u001b[0m\u001b[0;34m)\u001b[0m\u001b[0;34m\u001b[0m\u001b[0;34m\u001b[0m\u001b[0m\n\u001b[0m",
      "\u001b[0;31mTypeError\u001b[0m: ProcessTransformer() takes 3 positional arguments but 6 were given"
     ]
    }
   ],
   "source": [
    "index_cols = [\"Year\",\"days_to_subtract_key\",\"direct_thres\",\"spread_thres\",\"weight_indirect\",\"range\",\"Method\"]\n",
    "process_pipe = Pipeline([('process_Ds', pyrplib.transformers.ProcessTransformer(index_cols, days_to_subtract_keys, years, 'madness', madness_teams, best_df))])"
   ]
  },
  {
   "cell_type": "markdown",
   "metadata": {},
   "source": [
    "## Create D matrices"
   ]
  },
  {
   "cell_type": "code",
   "execution_count": null,
   "metadata": {},
   "outputs": [],
   "source": [
    "best_df"
   ]
  },
  {
   "cell_type": "code",
   "execution_count": null,
   "metadata": {},
   "outputs": [],
   "source": [
    "process_pipe.fit(problem['data'])\n",
    "Ds = process_pipe.transform(problem['data'])\n",
    "#Ds = process(problem['data'],problem['target'],best_df)"
   ]
  },
  {
   "cell_type": "code",
   "execution_count": null,
   "metadata": {},
   "outputs": [],
   "source": [
    "Ds"
   ]
  },
  {
   "cell_type": "code",
   "execution_count": null,
   "metadata": {},
   "outputs": [],
   "source": [
    "Ds.iloc[[0,-1]]"
   ]
  },
  {
   "cell_type": "code",
   "execution_count": null,
   "metadata": {},
   "outputs": [],
   "source": [
    "Ds.loc['2002',\"D\"][0][0]"
   ]
  },
  {
   "cell_type": "code",
   "execution_count": null,
   "metadata": {},
   "outputs": [],
   "source": [
    "Ds.loc['2002',\"D\"][0][1]"
   ]
  },
  {
   "cell_type": "code",
   "execution_count": null,
   "metadata": {},
   "outputs": [],
   "source": [
    "Ds.index.names"
   ]
  },
  {
   "cell_type": "code",
   "execution_count": null,
   "metadata": {},
   "outputs": [],
   "source": [
    "rankings = {}\n",
    "dt = target.set_index(['days_to_subtract2','Year','direct_thres','spread_thres','weight_indirect','range','Method'])\n",
    "for index in dt.index:\n",
    "    rankings[index] = dt.loc[index].iloc[0]['rankings2']\n",
    "dt = target.set_index(['days_to_subtract1','Year','direct_thres','spread_thres','weight_indirect','range','Method'])\n",
    "for index in dt.index:\n",
    "    rankings[index] = dt.loc[index].iloc[0]['rankings1']"
   ]
  },
  {
   "cell_type": "code",
   "execution_count": null,
   "metadata": {},
   "outputs": [],
   "source": [
    "rankings_df = pd.DataFrame(rankings).T"
   ]
  },
  {
   "cell_type": "markdown",
   "metadata": {},
   "source": [
    "### Compute the features"
   ]
  },
  {
   "cell_type": "code",
   "execution_count": null,
   "metadata": {},
   "outputs": [],
   "source": [
    "feature_columns = [\"delta_lop\",\"delta_hillside\",\"nfrac_xstar_lop\",\"nfrac_xstar_hillside\",\"diameter_lop\",\"diameter_hillside\"]\n",
    "\n",
    "#def compute_features(D,rankings,top_k):\n",
    "#    top_teams = list(rankings.sort_values().index[:top_k])\n",
    "#    D = D.loc[top_teams,top_teams]\n",
    "#    delta_lop,details_lop = pyrankability.rank.solve(D.fillna(0),method='lop',cont=True)\n",
    "#\n",
    "#    x = pd.DataFrame(details_lop['x'],index=D.index,columns=D.columns)\n",
    "#    r = x.sum(axis=0)\n",
    "#    order = np.argsort(r)\n",
    "#    xstar = x.iloc[order,:].iloc[:,order]\n",
    "#    xstar.loc[:,:] = pyrankability.common.threshold_x(xstar.values)\n",
    "#    inxs = np.triu_indices(len(xstar),k=1)\n",
    "#    xstar_upper = xstar.values[inxs[0],inxs[1]]\n",
    "#    nfrac_upper_lop = sum((xstar_upper > 0) & (xstar_upper < 1))\n",
    "#    \n",
    "#    top_teams = xstar.columns[:top_k]\n",
    "#    \n",
    "#    k_two_distant,details_two_distant = pyrankability.search.solve_pair(D.fillna(0),method='lop',minimize=False,verbose=False)\n",
    "#    d_lop = k_two_distant#details_two_distant['tau']\n",
    "#    \n",
    "#    delta_hillside,details_hillside = pyrankability.rank.solve(D,method='hillside',cont=True)\n",
    "#    \n",
    "#    x = pd.DataFrame(details_hillside['x'],index=D.index,columns=D.columns)\n",
    "#    r = x.sum(axis=0)\n",
    "#    order = np.argsort(r)\n",
    "#    xstar = x.iloc[order,:].iloc[:,order]\n",
    "#    xstar.loc[:,:] = pyrankability.common.threshold_x(xstar.values)\n",
    "#    inxs = np.triu_indices(len(xstar),k=1)\n",
    "#    xstar_upper = xstar.values[inxs[0],inxs[1]]\n",
    "#    nfrac_upper_hillside = sum((xstar_upper > 0) & (xstar_upper < 1))\n",
    "#    \n",
    "#    top_teams = xstar.columns[:top_k]\n",
    "#    \n",
    "#    k_two_distant,details_two_distant = pyrankability.search.solve_pair(D,method='hillside',minimize=False,verbose=False)\n",
    "#    d_hillside = k_two_distant#details_two_distant['tau']\n",
    "#    \n",
    "#    features = pd.Series([delta_lop,delta_hillside,2*nfrac_upper_lop,2*nfrac_upper_hillside,d_lop,d_hillside],index=feature_columns)\n",
    "#\n",
    "#    return features"
   ]
  },
  {
   "cell_type": "code",
   "execution_count": null,
   "metadata": {},
   "outputs": [],
   "source": [
    "def create_features(Ds,rankings_df,top_k):\n",
    "    index_cols = list(Ds.index.names)+[\"Construction\"]\n",
    "    X = pd.DataFrame(columns=index_cols + feature_columns)\n",
    "    X.set_index(index_cols,inplace=True)\n",
    "    #target = target.set_index(['days_to_subtract2','Year','direct_thres','spread_thres','weight_indirect','range','Method'])\n",
    "    for index,row in tqdm(Ds.iterrows()):\n",
    "        sum_D = None\n",
    "        year,days_to_subtract_key,dt,st,iw,ran,method = index\n",
    "        days_to_subtract = int(days_to_subtract_key.split(\"=\")[1])\n",
    "        print(days_to_subtract,year,dt,st,iw,ran,method)\n",
    "        rankings = rankings_df.loc[days_to_subtract,year,dt,st,iw,ran,method].dropna() #spec_best_pred_df = best_pred_df.set_index(['Year','days_to_subtract_key',\"Method\"]).loc[[(year,days_to_subtract_key,method)]]\n",
    "        for i,D in enumerate(Ds.loc[(year,days_to_subtract_key,dt,st,iw,ran,method),\"D\"]):\n",
    "            if sum_D is None:\n",
    "                sum_D = D\n",
    "            else:\n",
    "                sum_D = sum_D.add(iw*D,fill_value=0)\n",
    "            if i == 0:\n",
    "                construction = \"Direct\"\n",
    "            elif i == 1:\n",
    "                construction = \"Indirect\"\n",
    "            else:\n",
    "                raise Exception(\"Error\")\n",
    "            features = pyrplib.utils.compute_features(D,rankings,top_k,feature_columns)\n",
    "            features.name = tuple(list(index)+[construction])\n",
    "            X = X.append(features)\n",
    "            \n",
    "            if i == 1:\n",
    "                construction = \"Both\"\n",
    "                features = pyrplib.utils.compute_features(sum_D,rankings,top_k,feature_columns)\n",
    "                features.name = tuple(list(index)+[construction])\n",
    "                X = X.append(features)\n",
    "    return X"
   ]
  },
  {
   "cell_type": "code",
   "execution_count": null,
   "metadata": {},
   "outputs": [],
   "source": [
    "X = create_features(Ds,rankings_df,top_k)"
   ]
  },
  {
   "cell_type": "code",
   "execution_count": null,
   "metadata": {},
   "outputs": [],
   "source": [
    "X"
   ]
  },
  {
   "cell_type": "markdown",
   "metadata": {},
   "source": [
    "## Refine the target dataset"
   ]
  },
  {
   "cell_type": "code",
   "execution_count": null,
   "metadata": {},
   "outputs": [],
   "source": [
    "target = problem['target'].groupby(['days_to_subtract1','days_to_subtract2','Method','Year','direct_thres','spread_thres','weight_indirect'])[feature_names].mean()\n",
    "target"
   ]
  },
  {
   "cell_type": "code",
   "execution_count": null,
   "metadata": {},
   "outputs": [],
   "source": [
    "target.corr()"
   ]
  },
  {
   "cell_type": "code",
   "execution_count": null,
   "metadata": {},
   "outputs": [],
   "source": [
    "X_for_join = X.copy().reset_index()\n",
    "X_for_join['days_to_subtract1']= X_for_join['days_to_subtract_key'].str.replace(\"days_to_subtract=\",\"\").astype(float)\n",
    "X_for_join.weight_indirect=0.1\n",
    "X_for_join"
   ]
  },
  {
   "cell_type": "code",
   "execution_count": null,
   "metadata": {},
   "outputs": [],
   "source": [
    "target"
   ]
  },
  {
   "cell_type": "code",
   "execution_count": null,
   "metadata": {},
   "outputs": [],
   "source": [
    "Xy = target.reset_index().set_index(['Method','days_to_subtract1','Year','direct_thres','spread_thres','weight_indirect']).join(X_for_join.set_index(['Method','days_to_subtract1','Year','direct_thres','spread_thres','weight_indirect'])).dropna()\n",
    "Xy = Xy.reset_index()\n",
    "Xy"
   ]
  },
  {
   "cell_type": "markdown",
   "metadata": {},
   "source": [
    "## Process results"
   ]
  },
  {
   "cell_type": "code",
   "execution_count": null,
   "metadata": {},
   "outputs": [],
   "source": [
    "pairs_by_width = {}\n",
    "for f1,f2 in itertools.combinations(X_for_join['days_to_subtract1'].unique().astype(int),2):\n",
    "    if f2 < f1:\n",
    "        f1,f2 = f2,f1\n",
    "    width = f2-f1#round(100*(f2-f1))\n",
    "    if width not in pairs_by_width:\n",
    "        pairs_by_width[width] = []\n",
    "    pairs_by_width[width].append((f1,f2))"
   ]
  },
  {
   "cell_type": "code",
   "execution_count": null,
   "metadata": {},
   "outputs": [],
   "source": [
    "pairs_by_width"
   ]
  },
  {
   "cell_type": "code",
   "execution_count": null,
   "metadata": {},
   "outputs": [],
   "source": [
    "[\"days_to_subtract1\",\"days_to_subtract2\",\"Method\",\"Construction\"]+feature_columns"
   ]
  },
  {
   "cell_type": "code",
   "execution_count": null,
   "metadata": {},
   "outputs": [],
   "source": [
    "#!sudo pip install pandas --upgrade"
   ]
  },
  {
   "cell_type": "code",
   "execution_count": null,
   "metadata": {
    "scrolled": true
   },
   "outputs": [],
   "source": [
    "import altair as alt\n",
    "\n",
    "index_cols = ['Method', 'Construction', 'days_to_subtract1', 'days_to_subtract2','width']\n",
    "graph_dfs = {}\n",
    "for target_column in feature_names:\n",
    "    graph_df = pd.DataFrame(columns=index_cols+feature_columns).set_index(index_cols)\n",
    "\n",
    "    for width in pairs_by_width.keys():\n",
    "        summary = None\n",
    "        for pair in pairs_by_width[width]:\n",
    "            data = Xy.set_index(['days_to_subtract1','days_to_subtract2']).loc[pair].reset_index()\n",
    "            for_corr = data.set_index(['Method','Construction',\"days_to_subtract1\",\"days_to_subtract2\"])\n",
    "            if summary is None:\n",
    "                summary = pd.DataFrame(columns=[\"days_to_subtract1\",\"days_to_subtract2\",\"Method\",\"Construction\"]+feature_columns).set_index(list(for_corr.index.names))\n",
    "            for ix in for_corr.index.unique():\n",
    "                corr_results = for_corr.loc[ix][[target_column]+feature_columns].corr()\n",
    "                target_corr_results = corr_results.loc[target_column].drop(target_column)\n",
    "                target_corr_results.name = ix\n",
    "                summary = summary.append(target_corr_results)\n",
    "\n",
    "        graph_df1 = summary.reset_index()\n",
    "        graph_df1['width'] = width\n",
    "        graph_df1 = graph_df1.set_index(index_cols)\n",
    "        graph_df = graph_df.append(graph_df1)\n",
    "    graph_dfs[target_column]=graph_df"
   ]
  },
  {
   "cell_type": "code",
   "execution_count": null,
   "metadata": {},
   "outputs": [],
   "source": [
    "for key in graph_dfs.keys():\n",
    "    graph_dfs[key] = graph_dfs[key].reset_index()"
   ]
  },
  {
   "cell_type": "code",
   "execution_count": null,
   "metadata": {},
   "outputs": [],
   "source": [
    "graph_dfs[key].head()"
   ]
  },
  {
   "cell_type": "code",
   "execution_count": null,
   "metadata": {},
   "outputs": [],
   "source": [
    "for key in graph_dfs.keys():\n",
    "    display(Markdown(f'## {key}'))\n",
    "    graph_df = graph_dfs[key].melt(value_vars=feature_columns,id_vars=index_cols,value_name='Value',var_name='Feature')\n",
    "\n",
    "    display(Markdown('### Colley'))\n",
    "    g = alt.Chart(graph_df.set_index('Method').loc['Colley']).mark_bar().encode(\n",
    "        x='width:N',\n",
    "        y=alt.Y('average(Value)',scale=alt.Scale(domain=[-.6, .6])),\n",
    "        row='Feature:N',\n",
    "        color='Construction:N',\n",
    "        column='Construction:N'\n",
    "    )\n",
    "    display(g)\n",
    "    \n",
    "    display(Markdown('### Massey'))\n",
    "    g = alt.Chart(graph_df.set_index('Method').loc['Massey']).mark_bar().encode(\n",
    "        x='width:N',\n",
    "        y=alt.Y('average(Value)',scale=alt.Scale(domain=[-.6, .6])),\n",
    "        row='Feature:N',\n",
    "        color='Construction:N',\n",
    "        column='Construction:N'\n",
    "    )\n",
    "    display(g)"
   ]
  },
  {
   "cell_type": "markdown",
   "metadata": {},
   "source": [
    "### Old below this line"
   ]
  },
  {
   "cell_type": "markdown",
   "metadata": {},
   "source": [
    "### Colley"
   ]
  },
  {
   "cell_type": "code",
   "execution_count": null,
   "metadata": {},
   "outputs": [],
   "source": []
  },
  {
   "cell_type": "code",
   "execution_count": null,
   "metadata": {},
   "outputs": [],
   "source": [
    "g = alt.Chart(graph_df.set_index('Method').loc['Massey']).mark_bar().encode(\n",
    "    x='width:N',\n",
    "    y=alt.Y('average(Value)',scale=alt.Scale(domain=[-.6, .6])),\n",
    "    row='Feature:N',\n",
    "    color='Construction:N',\n",
    "    column='Construction:N'\n",
    ")"
   ]
  },
  {
   "cell_type": "markdown",
   "metadata": {},
   "source": [
    "### Massey"
   ]
  },
  {
   "cell_type": "code",
   "execution_count": null,
   "metadata": {},
   "outputs": [],
   "source": [
    "g"
   ]
  },
  {
   "cell_type": "markdown",
   "metadata": {},
   "source": [
    "## old below"
   ]
  },
  {
   "cell_type": "markdown",
   "metadata": {},
   "source": [
    "## 0.6 to 0.7"
   ]
  },
  {
   "cell_type": "markdown",
   "metadata": {},
   "source": [
    "(this was already broken)"
   ]
  },
  {
   "cell_type": "code",
   "execution_count": null,
   "metadata": {},
   "outputs": [],
   "source": [
    "data = Xy.set_index(['frac1','frac2']).loc[(0.6,0.7)].reset_index()\n",
    "for_corr = data.set_index(['Method','Construction'])\n",
    "for ix in for_corr.index.unique():\n",
    "    display(pd.Series(ix,index=for_corr.index.names))\n",
    "    display(for_corr.loc[ix][[target_column]+feature_columns].corr())"
   ]
  },
  {
   "cell_type": "markdown",
   "metadata": {},
   "source": [
    "### 0.7 to 0.8"
   ]
  },
  {
   "cell_type": "code",
   "execution_count": null,
   "metadata": {},
   "outputs": [],
   "source": [
    "data = Xy.set_index(['frac1','frac2']).loc[(0.7,0.8)].reset_index()\n",
    "for_corr = data.set_index(['Method'])\n",
    "for ix in for_corr.index.unique():\n",
    "    display(pd.Series(ix,index=for_corr.index.names))\n",
    "    display(for_corr.loc[ix][[target_column]+feature_columns].corr())"
   ]
  },
  {
   "cell_type": "markdown",
   "metadata": {},
   "source": [
    "### 0.8 to 0.9"
   ]
  },
  {
   "cell_type": "code",
   "execution_count": null,
   "metadata": {},
   "outputs": [],
   "source": [
    "data = Xy.set_index(['frac1','frac2']).loc[(0.8,0.9)].reset_index()\n",
    "for_corr = data.set_index(['Method'])\n",
    "for ix in for_corr.index.unique():\n",
    "    display(pd.Series(ix,index=for_corr.index.names))\n",
    "    display(for_corr.loc[ix][[target_column]+feature_columns].corr())"
   ]
  },
  {
   "cell_type": "markdown",
   "metadata": {},
   "source": [
    "### 0.9 to 1."
   ]
  },
  {
   "cell_type": "code",
   "execution_count": null,
   "metadata": {},
   "outputs": [],
   "source": [
    "data = Xy.set_index(['frac1','frac2']).loc[(0.9,1.)].reset_index()\n",
    "for_corr = data.set_index(['Method'])\n",
    "for ix in for_corr.index.unique():\n",
    "    display(pd.Series(ix,index=for_corr.index.names))\n",
    "    display(for_corr.loc[ix][[target_column]+feature_columns].corr())"
   ]
  },
  {
   "cell_type": "code",
   "execution_count": null,
   "metadata": {},
   "outputs": [],
   "source": []
  },
  {
   "cell_type": "code",
   "execution_count": null,
   "metadata": {},
   "outputs": [],
   "source": [
    "for_corr = data.set_index(['Method','direct_thres','spread_thres','weight_indirect'])\n",
    "for_display = pd.DataFrame(columns=feature_columns+list(for_corr.index.names))\n",
    "for_display.set_index(list(for_corr.index.names),inplace=True)\n",
    "for ix in for_corr.index.unique():\n",
    "    dt = for_corr.loc[ix][[target_column]+feature_columns].corr().loc[target_column,feature_columns]\n",
    "    dt.name = ix\n",
    "    for_display = for_display.append(dt)"
   ]
  },
  {
   "cell_type": "code",
   "execution_count": null,
   "metadata": {},
   "outputs": [],
   "source": [
    "for_display.T"
   ]
  },
  {
   "cell_type": "code",
   "execution_count": null,
   "metadata": {},
   "outputs": [],
   "source": [
    "print(for_display.T.to_latex())"
   ]
  },
  {
   "cell_type": "code",
   "execution_count": null,
   "metadata": {},
   "outputs": [],
   "source": []
  }
 ],
 "metadata": {
  "kernelspec": {
   "display_name": "Python 3",
   "language": "python",
   "name": "python3"
  },
  "language_info": {
   "codemirror_mode": {
    "name": "ipython",
    "version": 3
   },
   "file_extension": ".py",
   "mimetype": "text/x-python",
   "name": "python",
   "nbconvert_exporter": "python",
   "pygments_lexer": "ipython3",
   "version": "3.7.3"
  }
 },
 "nbformat": 4,
 "nbformat_minor": 4
}
