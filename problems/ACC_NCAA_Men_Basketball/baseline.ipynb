{
 "cells": [
  {
   "cell_type": "markdown",
   "metadata": {},
   "source": [
    "# RPLib Problem 0001 - Baseline\n",
    "\n",
    "Provides the baseline version to rankability problem 0001. "
   ]
  },
  {
   "cell_type": "code",
   "execution_count": 1,
   "metadata": {},
   "outputs": [],
   "source": [
    "%load_ext autoreload\n",
    "%autoreload 2\n",
    "%matplotlib inline"
   ]
  },
  {
   "cell_type": "code",
   "execution_count": 2,
   "metadata": {},
   "outputs": [],
   "source": [
    "import copy\n",
    "import os\n",
    "\n",
    "import pandas as pd\n",
    "import numpy as np\n",
    "\n",
    "from scipy.stats import pearsonr\n",
    "\n",
    "from tqdm import tqdm\n",
    "from joblib import Parallel, delayed\n",
    "import joblib\n",
    "import itertools\n",
    "from pathlib import Path\n",
    "from sklearn.pipeline import Pipeline\n",
    "\n",
    "from IPython.display import display, Markdown, Latex"
   ]
  },
  {
   "cell_type": "markdown",
   "metadata": {},
   "source": [
    "**All packages are relative to the home directory of the user**"
   ]
  },
  {
   "cell_type": "code",
   "execution_count": 3,
   "metadata": {},
   "outputs": [],
   "source": [
    "home = str(Path.home())"
   ]
  },
  {
   "cell_type": "markdown",
   "metadata": {},
   "source": [
    "**Import the main rankability package**"
   ]
  },
  {
   "cell_type": "code",
   "execution_count": 4,
   "metadata": {},
   "outputs": [],
   "source": [
    "import sys\n",
    "sys.path.insert(0,\"%s/rankability_toolbox_dev\"%home)\n",
    "import pyrankability"
   ]
  },
  {
   "cell_type": "code",
   "execution_count": 5,
   "metadata": {},
   "outputs": [],
   "source": [
    "sys.path.insert(0,\"%s/RPLib\"%home)\n",
    "import pyrplib"
   ]
  },
  {
   "cell_type": "markdown",
   "metadata": {},
   "source": [
    "**Load the problem information**"
   ]
  },
  {
   "cell_type": "code",
   "execution_count": 6,
   "metadata": {},
   "outputs": [],
   "source": [
    "problem = joblib.load(\"generate.joblib.z\")"
   ]
  },
  {
   "cell_type": "markdown",
   "metadata": {},
   "source": [
    "## Explore and setup the problem"
   ]
  },
  {
   "cell_type": "code",
   "execution_count": 7,
   "metadata": {},
   "outputs": [
    {
     "data": {
      "text/plain": [
       "dict_keys(['description', 'target', 'data', 'other'])"
      ]
     },
     "execution_count": 7,
     "metadata": {},
     "output_type": "execute_result"
    }
   ],
   "source": [
    "problem.keys()"
   ]
  },
  {
   "cell_type": "code",
   "execution_count": 8,
   "metadata": {},
   "outputs": [
    {
     "name": "stdout",
     "output_type": "stream",
     "text": [
      "First representative example for the rankability library. Built around the study of NCAA Men's Basketball league.\n"
     ]
    }
   ],
   "source": [
    "print(problem[\"description\"])"
   ]
  },
  {
   "cell_type": "code",
   "execution_count": 9,
   "metadata": {},
   "outputs": [
    {
     "data": {
      "text/html": [
       "<div>\n",
       "<style scoped>\n",
       "    .dataframe tbody tr th:only-of-type {\n",
       "        vertical-align: middle;\n",
       "    }\n",
       "\n",
       "    .dataframe tbody tr th {\n",
       "        vertical-align: top;\n",
       "    }\n",
       "\n",
       "    .dataframe thead th {\n",
       "        text-align: right;\n",
       "    }\n",
       "</style>\n",
       "<table border=\"1\" class=\"dataframe\">\n",
       "  <thead>\n",
       "    <tr style=\"text-align: right;\">\n",
       "      <th></th>\n",
       "      <th>days_to_subtract1</th>\n",
       "      <th>days_to_subtract2</th>\n",
       "      <th>domain</th>\n",
       "      <th>range</th>\n",
       "      <th>direct_thres</th>\n",
       "      <th>spread_thres</th>\n",
       "      <th>weight_indirect</th>\n",
       "      <th>Method</th>\n",
       "      <th>Year</th>\n",
       "      <th>rankings1</th>\n",
       "      <th>rankings2</th>\n",
       "      <th>top10_jaccard</th>\n",
       "      <th>top10_tau</th>\n",
       "      <th>days_diff</th>\n",
       "    </tr>\n",
       "  </thead>\n",
       "  <tbody>\n",
       "    <tr>\n",
       "      <th>0</th>\n",
       "      <td>28</td>\n",
       "      <td>35</td>\n",
       "      <td>all</td>\n",
       "      <td>madness</td>\n",
       "      <td>0</td>\n",
       "      <td>0</td>\n",
       "      <td>0.1</td>\n",
       "      <td>Colley</td>\n",
       "      <td>2002</td>\n",
       "      <td>Alabama       6.0\n",
       "Arizona       7.0\n",
       "Cincinnati...</td>\n",
       "      <td>Alabama       6.0\n",
       "Arizona       7.0\n",
       "Cincinnati...</td>\n",
       "      <td>0.800000</td>\n",
       "      <td>0.388889</td>\n",
       "      <td>7</td>\n",
       "    </tr>\n",
       "    <tr>\n",
       "      <th>1</th>\n",
       "      <td>21</td>\n",
       "      <td>35</td>\n",
       "      <td>all</td>\n",
       "      <td>madness</td>\n",
       "      <td>0</td>\n",
       "      <td>0</td>\n",
       "      <td>0.1</td>\n",
       "      <td>Colley</td>\n",
       "      <td>2002</td>\n",
       "      <td>Alabama       5.0\n",
       "Arizona       9.0\n",
       "Cincinnati...</td>\n",
       "      <td>Alabama       6.0\n",
       "Arizona       7.0\n",
       "Cincinnati...</td>\n",
       "      <td>0.636364</td>\n",
       "      <td>-0.111111</td>\n",
       "      <td>14</td>\n",
       "    </tr>\n",
       "    <tr>\n",
       "      <th>2</th>\n",
       "      <td>14</td>\n",
       "      <td>35</td>\n",
       "      <td>all</td>\n",
       "      <td>madness</td>\n",
       "      <td>0</td>\n",
       "      <td>0</td>\n",
       "      <td>0.1</td>\n",
       "      <td>Colley</td>\n",
       "      <td>2002</td>\n",
       "      <td>Alabama       6.0\n",
       "Arizona       9.0\n",
       "Cincinnati...</td>\n",
       "      <td>Alabama       6.0\n",
       "Arizona       7.0\n",
       "Cincinnati...</td>\n",
       "      <td>0.800000</td>\n",
       "      <td>-0.055556</td>\n",
       "      <td>21</td>\n",
       "    </tr>\n",
       "    <tr>\n",
       "      <th>3</th>\n",
       "      <td>7</td>\n",
       "      <td>35</td>\n",
       "      <td>all</td>\n",
       "      <td>madness</td>\n",
       "      <td>0</td>\n",
       "      <td>0</td>\n",
       "      <td>0.1</td>\n",
       "      <td>Colley</td>\n",
       "      <td>2002</td>\n",
       "      <td>Alabama       6.0\n",
       "Arizona       7.0\n",
       "Cincinnati...</td>\n",
       "      <td>Alabama       6.0\n",
       "Arizona       7.0\n",
       "Cincinnati...</td>\n",
       "      <td>0.800000</td>\n",
       "      <td>0.000000</td>\n",
       "      <td>28</td>\n",
       "    </tr>\n",
       "    <tr>\n",
       "      <th>4</th>\n",
       "      <td>21</td>\n",
       "      <td>28</td>\n",
       "      <td>all</td>\n",
       "      <td>madness</td>\n",
       "      <td>0</td>\n",
       "      <td>0</td>\n",
       "      <td>0.1</td>\n",
       "      <td>Colley</td>\n",
       "      <td>2002</td>\n",
       "      <td>Alabama       5.0\n",
       "Arizona       9.0\n",
       "Cincinnati...</td>\n",
       "      <td>Alabama       6.0\n",
       "Arizona       7.0\n",
       "Cincinnati...</td>\n",
       "      <td>0.800000</td>\n",
       "      <td>-0.722222</td>\n",
       "      <td>7</td>\n",
       "    </tr>\n",
       "    <tr>\n",
       "      <th>...</th>\n",
       "      <td>...</td>\n",
       "      <td>...</td>\n",
       "      <td>...</td>\n",
       "      <td>...</td>\n",
       "      <td>...</td>\n",
       "      <td>...</td>\n",
       "      <td>...</td>\n",
       "      <td>...</td>\n",
       "      <td>...</td>\n",
       "      <td>...</td>\n",
       "      <td>...</td>\n",
       "      <td>...</td>\n",
       "      <td>...</td>\n",
       "      <td>...</td>\n",
       "    </tr>\n",
       "    <tr>\n",
       "      <th>1695</th>\n",
       "      <td>14</td>\n",
       "      <td>28</td>\n",
       "      <td>all</td>\n",
       "      <td>madness</td>\n",
       "      <td>0</td>\n",
       "      <td>0</td>\n",
       "      <td>0.1</td>\n",
       "      <td>Massey</td>\n",
       "      <td>2018</td>\n",
       "      <td>Cincinnati        8.0\n",
       "Duke              2.0\n",
       "Ka...</td>\n",
       "      <td>Cincinnati        6.0\n",
       "Duke              4.0\n",
       "Ka...</td>\n",
       "      <td>0.800000</td>\n",
       "      <td>0.222222</td>\n",
       "      <td>14</td>\n",
       "    </tr>\n",
       "    <tr>\n",
       "      <th>1696</th>\n",
       "      <td>7</td>\n",
       "      <td>28</td>\n",
       "      <td>all</td>\n",
       "      <td>madness</td>\n",
       "      <td>0</td>\n",
       "      <td>0</td>\n",
       "      <td>0.1</td>\n",
       "      <td>Massey</td>\n",
       "      <td>2018</td>\n",
       "      <td>Cincinnati        7.0\n",
       "Duke              2.0\n",
       "Ka...</td>\n",
       "      <td>Cincinnati        6.0\n",
       "Duke              4.0\n",
       "Ka...</td>\n",
       "      <td>0.800000</td>\n",
       "      <td>-0.111111</td>\n",
       "      <td>21</td>\n",
       "    </tr>\n",
       "    <tr>\n",
       "      <th>1697</th>\n",
       "      <td>14</td>\n",
       "      <td>21</td>\n",
       "      <td>all</td>\n",
       "      <td>madness</td>\n",
       "      <td>0</td>\n",
       "      <td>0</td>\n",
       "      <td>0.1</td>\n",
       "      <td>Massey</td>\n",
       "      <td>2018</td>\n",
       "      <td>Cincinnati        8.0\n",
       "Duke              2.0\n",
       "Ka...</td>\n",
       "      <td>Cincinnati        7.0\n",
       "Duke              3.0\n",
       "Ka...</td>\n",
       "      <td>0.800000</td>\n",
       "      <td>0.222222</td>\n",
       "      <td>7</td>\n",
       "    </tr>\n",
       "    <tr>\n",
       "      <th>1698</th>\n",
       "      <td>7</td>\n",
       "      <td>21</td>\n",
       "      <td>all</td>\n",
       "      <td>madness</td>\n",
       "      <td>0</td>\n",
       "      <td>0</td>\n",
       "      <td>0.1</td>\n",
       "      <td>Massey</td>\n",
       "      <td>2018</td>\n",
       "      <td>Cincinnati        7.0\n",
       "Duke              2.0\n",
       "Ka...</td>\n",
       "      <td>Cincinnati        7.0\n",
       "Duke              3.0\n",
       "Ka...</td>\n",
       "      <td>0.800000</td>\n",
       "      <td>0.222222</td>\n",
       "      <td>14</td>\n",
       "    </tr>\n",
       "    <tr>\n",
       "      <th>1699</th>\n",
       "      <td>7</td>\n",
       "      <td>14</td>\n",
       "      <td>all</td>\n",
       "      <td>madness</td>\n",
       "      <td>0</td>\n",
       "      <td>0</td>\n",
       "      <td>0.1</td>\n",
       "      <td>Massey</td>\n",
       "      <td>2018</td>\n",
       "      <td>Cincinnati        7.0\n",
       "Duke              2.0\n",
       "Ka...</td>\n",
       "      <td>Cincinnati        8.0\n",
       "Duke              2.0\n",
       "Ka...</td>\n",
       "      <td>1.000000</td>\n",
       "      <td>0.333333</td>\n",
       "      <td>7</td>\n",
       "    </tr>\n",
       "  </tbody>\n",
       "</table>\n",
       "<p>1700 rows × 14 columns</p>\n",
       "</div>"
      ],
      "text/plain": [
       "     days_to_subtract1 days_to_subtract2 domain    range direct_thres  \\\n",
       "0                   28                35    all  madness            0   \n",
       "1                   21                35    all  madness            0   \n",
       "2                   14                35    all  madness            0   \n",
       "3                    7                35    all  madness            0   \n",
       "4                   21                28    all  madness            0   \n",
       "...                ...               ...    ...      ...          ...   \n",
       "1695                14                28    all  madness            0   \n",
       "1696                 7                28    all  madness            0   \n",
       "1697                14                21    all  madness            0   \n",
       "1698                 7                21    all  madness            0   \n",
       "1699                 7                14    all  madness            0   \n",
       "\n",
       "     spread_thres  weight_indirect  Method  Year  \\\n",
       "0               0              0.1  Colley  2002   \n",
       "1               0              0.1  Colley  2002   \n",
       "2               0              0.1  Colley  2002   \n",
       "3               0              0.1  Colley  2002   \n",
       "4               0              0.1  Colley  2002   \n",
       "...           ...              ...     ...   ...   \n",
       "1695            0              0.1  Massey  2018   \n",
       "1696            0              0.1  Massey  2018   \n",
       "1697            0              0.1  Massey  2018   \n",
       "1698            0              0.1  Massey  2018   \n",
       "1699            0              0.1  Massey  2018   \n",
       "\n",
       "                                              rankings1  \\\n",
       "0     Alabama       6.0\n",
       "Arizona       7.0\n",
       "Cincinnati...   \n",
       "1     Alabama       5.0\n",
       "Arizona       9.0\n",
       "Cincinnati...   \n",
       "2     Alabama       6.0\n",
       "Arizona       9.0\n",
       "Cincinnati...   \n",
       "3     Alabama       6.0\n",
       "Arizona       7.0\n",
       "Cincinnati...   \n",
       "4     Alabama       5.0\n",
       "Arizona       9.0\n",
       "Cincinnati...   \n",
       "...                                                 ...   \n",
       "1695  Cincinnati        8.0\n",
       "Duke              2.0\n",
       "Ka...   \n",
       "1696  Cincinnati        7.0\n",
       "Duke              2.0\n",
       "Ka...   \n",
       "1697  Cincinnati        8.0\n",
       "Duke              2.0\n",
       "Ka...   \n",
       "1698  Cincinnati        7.0\n",
       "Duke              2.0\n",
       "Ka...   \n",
       "1699  Cincinnati        7.0\n",
       "Duke              2.0\n",
       "Ka...   \n",
       "\n",
       "                                              rankings2  top10_jaccard  \\\n",
       "0     Alabama       6.0\n",
       "Arizona       7.0\n",
       "Cincinnati...       0.800000   \n",
       "1     Alabama       6.0\n",
       "Arizona       7.0\n",
       "Cincinnati...       0.636364   \n",
       "2     Alabama       6.0\n",
       "Arizona       7.0\n",
       "Cincinnati...       0.800000   \n",
       "3     Alabama       6.0\n",
       "Arizona       7.0\n",
       "Cincinnati...       0.800000   \n",
       "4     Alabama       6.0\n",
       "Arizona       7.0\n",
       "Cincinnati...       0.800000   \n",
       "...                                                 ...            ...   \n",
       "1695  Cincinnati        6.0\n",
       "Duke              4.0\n",
       "Ka...       0.800000   \n",
       "1696  Cincinnati        6.0\n",
       "Duke              4.0\n",
       "Ka...       0.800000   \n",
       "1697  Cincinnati        7.0\n",
       "Duke              3.0\n",
       "Ka...       0.800000   \n",
       "1698  Cincinnati        7.0\n",
       "Duke              3.0\n",
       "Ka...       0.800000   \n",
       "1699  Cincinnati        8.0\n",
       "Duke              2.0\n",
       "Ka...       1.000000   \n",
       "\n",
       "      top10_tau days_diff  \n",
       "0      0.388889         7  \n",
       "1     -0.111111        14  \n",
       "2     -0.055556        21  \n",
       "3      0.000000        28  \n",
       "4     -0.722222         7  \n",
       "...         ...       ...  \n",
       "1695   0.222222        14  \n",
       "1696  -0.111111        21  \n",
       "1697   0.222222         7  \n",
       "1698   0.222222        14  \n",
       "1699   0.333333         7  \n",
       "\n",
       "[1700 rows x 14 columns]"
      ]
     },
     "execution_count": 9,
     "metadata": {},
     "output_type": "execute_result"
    }
   ],
   "source": [
    "problem['target']"
   ]
  },
  {
   "cell_type": "code",
   "execution_count": 10,
   "metadata": {},
   "outputs": [
    {
     "data": {
      "text/plain": [
       "dict_keys(['2002', '2003', '2004', '2005', '2006', '2007', '2008', '2009', '2010', '2011', '2012', '2013', '2014', '2015', '2016', '2017', '2018'])"
      ]
     },
     "execution_count": 10,
     "metadata": {},
     "output_type": "execute_result"
    }
   ],
   "source": [
    "problem['data'].keys()"
   ]
  },
  {
   "cell_type": "code",
   "execution_count": 11,
   "metadata": {},
   "outputs": [
    {
     "data": {
      "text/plain": [
       "dict_keys(['days_to_subtract=35', 'days_to_subtract=28', 'days_to_subtract=21', 'days_to_subtract=14', 'days_to_subtract=7'])"
      ]
     },
     "execution_count": 11,
     "metadata": {},
     "output_type": "execute_result"
    }
   ],
   "source": [
    "problem['data']['2002'].keys()"
   ]
  },
  {
   "cell_type": "markdown",
   "metadata": {},
   "source": [
    "**Create easier to reference variables**"
   ]
  },
  {
   "cell_type": "code",
   "execution_count": 12,
   "metadata": {},
   "outputs": [],
   "source": [
    "years = list(problem['data'].keys())\n",
    "days_to_subtract_keys = list(problem['data'][years[0]].keys())\n",
    "remaining_games = problem['other']['remaining_games']\n",
    "madness_teams = problem['other']['madness_teams']\n",
    "best_df = problem['other']['best_df']\n",
    "top_k = problem['other']['top_k']\n",
    "#target_column = f\"top{top_k}_intersection\"\n",
    "feature_names = problem['other']['feature_names']"
   ]
  },
  {
   "cell_type": "code",
   "execution_count": 13,
   "metadata": {},
   "outputs": [
    {
     "data": {
      "text/plain": [
       "['days_to_subtract=35',\n",
       " 'days_to_subtract=28',\n",
       " 'days_to_subtract=21',\n",
       " 'days_to_subtract=14',\n",
       " 'days_to_subtract=7']"
      ]
     },
     "execution_count": 13,
     "metadata": {},
     "output_type": "execute_result"
    }
   ],
   "source": [
    "days_to_subtract_keys"
   ]
  },
  {
   "cell_type": "code",
   "execution_count": 14,
   "metadata": {},
   "outputs": [],
   "source": [
    "target = problem['target']"
   ]
  },
  {
   "cell_type": "code",
   "execution_count": 15,
   "metadata": {},
   "outputs": [
    {
     "data": {
      "text/html": [
       "<div>\n",
       "<style scoped>\n",
       "    .dataframe tbody tr th:only-of-type {\n",
       "        vertical-align: middle;\n",
       "    }\n",
       "\n",
       "    .dataframe tbody tr th {\n",
       "        vertical-align: top;\n",
       "    }\n",
       "\n",
       "    .dataframe thead th {\n",
       "        text-align: right;\n",
       "    }\n",
       "</style>\n",
       "<table border=\"1\" class=\"dataframe\">\n",
       "  <thead>\n",
       "    <tr style=\"text-align: right;\">\n",
       "      <th></th>\n",
       "      <th>days_to_subtract1</th>\n",
       "      <th>days_to_subtract2</th>\n",
       "      <th>domain</th>\n",
       "      <th>range</th>\n",
       "      <th>direct_thres</th>\n",
       "      <th>spread_thres</th>\n",
       "      <th>weight_indirect</th>\n",
       "      <th>Method</th>\n",
       "      <th>Year</th>\n",
       "      <th>rankings1</th>\n",
       "      <th>rankings2</th>\n",
       "      <th>top10_jaccard</th>\n",
       "      <th>top10_tau</th>\n",
       "      <th>days_diff</th>\n",
       "    </tr>\n",
       "  </thead>\n",
       "  <tbody>\n",
       "    <tr>\n",
       "      <th>0</th>\n",
       "      <td>28</td>\n",
       "      <td>35</td>\n",
       "      <td>all</td>\n",
       "      <td>madness</td>\n",
       "      <td>0</td>\n",
       "      <td>0</td>\n",
       "      <td>0.1</td>\n",
       "      <td>Colley</td>\n",
       "      <td>2002</td>\n",
       "      <td>Alabama       6.0\n",
       "Arizona       7.0\n",
       "Cincinnati...</td>\n",
       "      <td>Alabama       6.0\n",
       "Arizona       7.0\n",
       "Cincinnati...</td>\n",
       "      <td>0.800000</td>\n",
       "      <td>0.388889</td>\n",
       "      <td>7</td>\n",
       "    </tr>\n",
       "    <tr>\n",
       "      <th>1</th>\n",
       "      <td>21</td>\n",
       "      <td>35</td>\n",
       "      <td>all</td>\n",
       "      <td>madness</td>\n",
       "      <td>0</td>\n",
       "      <td>0</td>\n",
       "      <td>0.1</td>\n",
       "      <td>Colley</td>\n",
       "      <td>2002</td>\n",
       "      <td>Alabama       5.0\n",
       "Arizona       9.0\n",
       "Cincinnati...</td>\n",
       "      <td>Alabama       6.0\n",
       "Arizona       7.0\n",
       "Cincinnati...</td>\n",
       "      <td>0.636364</td>\n",
       "      <td>-0.111111</td>\n",
       "      <td>14</td>\n",
       "    </tr>\n",
       "    <tr>\n",
       "      <th>2</th>\n",
       "      <td>14</td>\n",
       "      <td>35</td>\n",
       "      <td>all</td>\n",
       "      <td>madness</td>\n",
       "      <td>0</td>\n",
       "      <td>0</td>\n",
       "      <td>0.1</td>\n",
       "      <td>Colley</td>\n",
       "      <td>2002</td>\n",
       "      <td>Alabama       6.0\n",
       "Arizona       9.0\n",
       "Cincinnati...</td>\n",
       "      <td>Alabama       6.0\n",
       "Arizona       7.0\n",
       "Cincinnati...</td>\n",
       "      <td>0.800000</td>\n",
       "      <td>-0.055556</td>\n",
       "      <td>21</td>\n",
       "    </tr>\n",
       "    <tr>\n",
       "      <th>3</th>\n",
       "      <td>7</td>\n",
       "      <td>35</td>\n",
       "      <td>all</td>\n",
       "      <td>madness</td>\n",
       "      <td>0</td>\n",
       "      <td>0</td>\n",
       "      <td>0.1</td>\n",
       "      <td>Colley</td>\n",
       "      <td>2002</td>\n",
       "      <td>Alabama       6.0\n",
       "Arizona       7.0\n",
       "Cincinnati...</td>\n",
       "      <td>Alabama       6.0\n",
       "Arizona       7.0\n",
       "Cincinnati...</td>\n",
       "      <td>0.800000</td>\n",
       "      <td>0.000000</td>\n",
       "      <td>28</td>\n",
       "    </tr>\n",
       "    <tr>\n",
       "      <th>4</th>\n",
       "      <td>21</td>\n",
       "      <td>28</td>\n",
       "      <td>all</td>\n",
       "      <td>madness</td>\n",
       "      <td>0</td>\n",
       "      <td>0</td>\n",
       "      <td>0.1</td>\n",
       "      <td>Colley</td>\n",
       "      <td>2002</td>\n",
       "      <td>Alabama       5.0\n",
       "Arizona       9.0\n",
       "Cincinnati...</td>\n",
       "      <td>Alabama       6.0\n",
       "Arizona       7.0\n",
       "Cincinnati...</td>\n",
       "      <td>0.800000</td>\n",
       "      <td>-0.722222</td>\n",
       "      <td>7</td>\n",
       "    </tr>\n",
       "    <tr>\n",
       "      <th>...</th>\n",
       "      <td>...</td>\n",
       "      <td>...</td>\n",
       "      <td>...</td>\n",
       "      <td>...</td>\n",
       "      <td>...</td>\n",
       "      <td>...</td>\n",
       "      <td>...</td>\n",
       "      <td>...</td>\n",
       "      <td>...</td>\n",
       "      <td>...</td>\n",
       "      <td>...</td>\n",
       "      <td>...</td>\n",
       "      <td>...</td>\n",
       "      <td>...</td>\n",
       "    </tr>\n",
       "    <tr>\n",
       "      <th>1695</th>\n",
       "      <td>14</td>\n",
       "      <td>28</td>\n",
       "      <td>all</td>\n",
       "      <td>madness</td>\n",
       "      <td>0</td>\n",
       "      <td>0</td>\n",
       "      <td>0.1</td>\n",
       "      <td>Massey</td>\n",
       "      <td>2018</td>\n",
       "      <td>Cincinnati        8.0\n",
       "Duke              2.0\n",
       "Ka...</td>\n",
       "      <td>Cincinnati        6.0\n",
       "Duke              4.0\n",
       "Ka...</td>\n",
       "      <td>0.800000</td>\n",
       "      <td>0.222222</td>\n",
       "      <td>14</td>\n",
       "    </tr>\n",
       "    <tr>\n",
       "      <th>1696</th>\n",
       "      <td>7</td>\n",
       "      <td>28</td>\n",
       "      <td>all</td>\n",
       "      <td>madness</td>\n",
       "      <td>0</td>\n",
       "      <td>0</td>\n",
       "      <td>0.1</td>\n",
       "      <td>Massey</td>\n",
       "      <td>2018</td>\n",
       "      <td>Cincinnati        7.0\n",
       "Duke              2.0\n",
       "Ka...</td>\n",
       "      <td>Cincinnati        6.0\n",
       "Duke              4.0\n",
       "Ka...</td>\n",
       "      <td>0.800000</td>\n",
       "      <td>-0.111111</td>\n",
       "      <td>21</td>\n",
       "    </tr>\n",
       "    <tr>\n",
       "      <th>1697</th>\n",
       "      <td>14</td>\n",
       "      <td>21</td>\n",
       "      <td>all</td>\n",
       "      <td>madness</td>\n",
       "      <td>0</td>\n",
       "      <td>0</td>\n",
       "      <td>0.1</td>\n",
       "      <td>Massey</td>\n",
       "      <td>2018</td>\n",
       "      <td>Cincinnati        8.0\n",
       "Duke              2.0\n",
       "Ka...</td>\n",
       "      <td>Cincinnati        7.0\n",
       "Duke              3.0\n",
       "Ka...</td>\n",
       "      <td>0.800000</td>\n",
       "      <td>0.222222</td>\n",
       "      <td>7</td>\n",
       "    </tr>\n",
       "    <tr>\n",
       "      <th>1698</th>\n",
       "      <td>7</td>\n",
       "      <td>21</td>\n",
       "      <td>all</td>\n",
       "      <td>madness</td>\n",
       "      <td>0</td>\n",
       "      <td>0</td>\n",
       "      <td>0.1</td>\n",
       "      <td>Massey</td>\n",
       "      <td>2018</td>\n",
       "      <td>Cincinnati        7.0\n",
       "Duke              2.0\n",
       "Ka...</td>\n",
       "      <td>Cincinnati        7.0\n",
       "Duke              3.0\n",
       "Ka...</td>\n",
       "      <td>0.800000</td>\n",
       "      <td>0.222222</td>\n",
       "      <td>14</td>\n",
       "    </tr>\n",
       "    <tr>\n",
       "      <th>1699</th>\n",
       "      <td>7</td>\n",
       "      <td>14</td>\n",
       "      <td>all</td>\n",
       "      <td>madness</td>\n",
       "      <td>0</td>\n",
       "      <td>0</td>\n",
       "      <td>0.1</td>\n",
       "      <td>Massey</td>\n",
       "      <td>2018</td>\n",
       "      <td>Cincinnati        7.0\n",
       "Duke              2.0\n",
       "Ka...</td>\n",
       "      <td>Cincinnati        8.0\n",
       "Duke              2.0\n",
       "Ka...</td>\n",
       "      <td>1.000000</td>\n",
       "      <td>0.333333</td>\n",
       "      <td>7</td>\n",
       "    </tr>\n",
       "  </tbody>\n",
       "</table>\n",
       "<p>1700 rows × 14 columns</p>\n",
       "</div>"
      ],
      "text/plain": [
       "     days_to_subtract1 days_to_subtract2 domain    range direct_thres  \\\n",
       "0                   28                35    all  madness            0   \n",
       "1                   21                35    all  madness            0   \n",
       "2                   14                35    all  madness            0   \n",
       "3                    7                35    all  madness            0   \n",
       "4                   21                28    all  madness            0   \n",
       "...                ...               ...    ...      ...          ...   \n",
       "1695                14                28    all  madness            0   \n",
       "1696                 7                28    all  madness            0   \n",
       "1697                14                21    all  madness            0   \n",
       "1698                 7                21    all  madness            0   \n",
       "1699                 7                14    all  madness            0   \n",
       "\n",
       "     spread_thres  weight_indirect  Method  Year  \\\n",
       "0               0              0.1  Colley  2002   \n",
       "1               0              0.1  Colley  2002   \n",
       "2               0              0.1  Colley  2002   \n",
       "3               0              0.1  Colley  2002   \n",
       "4               0              0.1  Colley  2002   \n",
       "...           ...              ...     ...   ...   \n",
       "1695            0              0.1  Massey  2018   \n",
       "1696            0              0.1  Massey  2018   \n",
       "1697            0              0.1  Massey  2018   \n",
       "1698            0              0.1  Massey  2018   \n",
       "1699            0              0.1  Massey  2018   \n",
       "\n",
       "                                              rankings1  \\\n",
       "0     Alabama       6.0\n",
       "Arizona       7.0\n",
       "Cincinnati...   \n",
       "1     Alabama       5.0\n",
       "Arizona       9.0\n",
       "Cincinnati...   \n",
       "2     Alabama       6.0\n",
       "Arizona       9.0\n",
       "Cincinnati...   \n",
       "3     Alabama       6.0\n",
       "Arizona       7.0\n",
       "Cincinnati...   \n",
       "4     Alabama       5.0\n",
       "Arizona       9.0\n",
       "Cincinnati...   \n",
       "...                                                 ...   \n",
       "1695  Cincinnati        8.0\n",
       "Duke              2.0\n",
       "Ka...   \n",
       "1696  Cincinnati        7.0\n",
       "Duke              2.0\n",
       "Ka...   \n",
       "1697  Cincinnati        8.0\n",
       "Duke              2.0\n",
       "Ka...   \n",
       "1698  Cincinnati        7.0\n",
       "Duke              2.0\n",
       "Ka...   \n",
       "1699  Cincinnati        7.0\n",
       "Duke              2.0\n",
       "Ka...   \n",
       "\n",
       "                                              rankings2  top10_jaccard  \\\n",
       "0     Alabama       6.0\n",
       "Arizona       7.0\n",
       "Cincinnati...       0.800000   \n",
       "1     Alabama       6.0\n",
       "Arizona       7.0\n",
       "Cincinnati...       0.636364   \n",
       "2     Alabama       6.0\n",
       "Arizona       7.0\n",
       "Cincinnati...       0.800000   \n",
       "3     Alabama       6.0\n",
       "Arizona       7.0\n",
       "Cincinnati...       0.800000   \n",
       "4     Alabama       6.0\n",
       "Arizona       7.0\n",
       "Cincinnati...       0.800000   \n",
       "...                                                 ...            ...   \n",
       "1695  Cincinnati        6.0\n",
       "Duke              4.0\n",
       "Ka...       0.800000   \n",
       "1696  Cincinnati        6.0\n",
       "Duke              4.0\n",
       "Ka...       0.800000   \n",
       "1697  Cincinnati        7.0\n",
       "Duke              3.0\n",
       "Ka...       0.800000   \n",
       "1698  Cincinnati        7.0\n",
       "Duke              3.0\n",
       "Ka...       0.800000   \n",
       "1699  Cincinnati        8.0\n",
       "Duke              2.0\n",
       "Ka...       1.000000   \n",
       "\n",
       "      top10_tau days_diff  \n",
       "0      0.388889         7  \n",
       "1     -0.111111        14  \n",
       "2     -0.055556        21  \n",
       "3      0.000000        28  \n",
       "4     -0.722222         7  \n",
       "...         ...       ...  \n",
       "1695   0.222222        14  \n",
       "1696  -0.111111        21  \n",
       "1697   0.222222         7  \n",
       "1698   0.222222        14  \n",
       "1699   0.333333         7  \n",
       "\n",
       "[1700 rows x 14 columns]"
      ]
     },
     "execution_count": 15,
     "metadata": {},
     "output_type": "execute_result"
    }
   ],
   "source": [
    "target"
   ]
  },
  {
   "cell_type": "markdown",
   "metadata": {},
   "source": [
    "## Create D matrices"
   ]
  },
  {
   "cell_type": "code",
   "execution_count": 18,
   "metadata": {},
   "outputs": [
    {
     "data": {
      "text/html": [
       "<div>\n",
       "<style scoped>\n",
       "    .dataframe tbody tr th:only-of-type {\n",
       "        vertical-align: middle;\n",
       "    }\n",
       "\n",
       "    .dataframe tbody tr th {\n",
       "        vertical-align: top;\n",
       "    }\n",
       "\n",
       "    .dataframe thead th {\n",
       "        text-align: right;\n",
       "    }\n",
       "</style>\n",
       "<table border=\"1\" class=\"dataframe\">\n",
       "  <thead>\n",
       "    <tr style=\"text-align: right;\">\n",
       "      <th></th>\n",
       "      <th>days_to_subtract</th>\n",
       "      <th>Method</th>\n",
       "      <th>domain</th>\n",
       "      <th>range</th>\n",
       "      <th>direct_thres</th>\n",
       "      <th>spread_thres</th>\n",
       "      <th>weight_indirect</th>\n",
       "    </tr>\n",
       "  </thead>\n",
       "  <tbody>\n",
       "    <tr>\n",
       "      <th>0</th>\n",
       "      <td>7</td>\n",
       "      <td>Colley</td>\n",
       "      <td>all</td>\n",
       "      <td>madness</td>\n",
       "      <td>0</td>\n",
       "      <td>0</td>\n",
       "      <td>0.1</td>\n",
       "    </tr>\n",
       "    <tr>\n",
       "      <th>1</th>\n",
       "      <td>7</td>\n",
       "      <td>Massey</td>\n",
       "      <td>all</td>\n",
       "      <td>madness</td>\n",
       "      <td>0</td>\n",
       "      <td>0</td>\n",
       "      <td>0.1</td>\n",
       "    </tr>\n",
       "    <tr>\n",
       "      <th>2</th>\n",
       "      <td>14</td>\n",
       "      <td>Colley</td>\n",
       "      <td>all</td>\n",
       "      <td>madness</td>\n",
       "      <td>0</td>\n",
       "      <td>0</td>\n",
       "      <td>0.1</td>\n",
       "    </tr>\n",
       "    <tr>\n",
       "      <th>3</th>\n",
       "      <td>14</td>\n",
       "      <td>Massey</td>\n",
       "      <td>all</td>\n",
       "      <td>madness</td>\n",
       "      <td>0</td>\n",
       "      <td>0</td>\n",
       "      <td>0.1</td>\n",
       "    </tr>\n",
       "    <tr>\n",
       "      <th>4</th>\n",
       "      <td>21</td>\n",
       "      <td>Colley</td>\n",
       "      <td>all</td>\n",
       "      <td>madness</td>\n",
       "      <td>0</td>\n",
       "      <td>0</td>\n",
       "      <td>0.1</td>\n",
       "    </tr>\n",
       "    <tr>\n",
       "      <th>5</th>\n",
       "      <td>21</td>\n",
       "      <td>Massey</td>\n",
       "      <td>all</td>\n",
       "      <td>madness</td>\n",
       "      <td>0</td>\n",
       "      <td>0</td>\n",
       "      <td>0.1</td>\n",
       "    </tr>\n",
       "    <tr>\n",
       "      <th>6</th>\n",
       "      <td>28</td>\n",
       "      <td>Colley</td>\n",
       "      <td>all</td>\n",
       "      <td>madness</td>\n",
       "      <td>0</td>\n",
       "      <td>0</td>\n",
       "      <td>0.1</td>\n",
       "    </tr>\n",
       "    <tr>\n",
       "      <th>7</th>\n",
       "      <td>28</td>\n",
       "      <td>Massey</td>\n",
       "      <td>all</td>\n",
       "      <td>madness</td>\n",
       "      <td>0</td>\n",
       "      <td>0</td>\n",
       "      <td>0.1</td>\n",
       "    </tr>\n",
       "    <tr>\n",
       "      <th>8</th>\n",
       "      <td>35</td>\n",
       "      <td>Colley</td>\n",
       "      <td>all</td>\n",
       "      <td>madness</td>\n",
       "      <td>0</td>\n",
       "      <td>0</td>\n",
       "      <td>0.1</td>\n",
       "    </tr>\n",
       "    <tr>\n",
       "      <th>9</th>\n",
       "      <td>35</td>\n",
       "      <td>Massey</td>\n",
       "      <td>all</td>\n",
       "      <td>madness</td>\n",
       "      <td>0</td>\n",
       "      <td>0</td>\n",
       "      <td>0.1</td>\n",
       "    </tr>\n",
       "  </tbody>\n",
       "</table>\n",
       "</div>"
      ],
      "text/plain": [
       "   days_to_subtract  Method domain    range  direct_thres  spread_thres  \\\n",
       "0                 7  Colley    all  madness             0             0   \n",
       "1                 7  Massey    all  madness             0             0   \n",
       "2                14  Colley    all  madness             0             0   \n",
       "3                14  Massey    all  madness             0             0   \n",
       "4                21  Colley    all  madness             0             0   \n",
       "5                21  Massey    all  madness             0             0   \n",
       "6                28  Colley    all  madness             0             0   \n",
       "7                28  Massey    all  madness             0             0   \n",
       "8                35  Colley    all  madness             0             0   \n",
       "9                35  Massey    all  madness             0             0   \n",
       "\n",
       "   weight_indirect  \n",
       "0              0.1  \n",
       "1              0.1  \n",
       "2              0.1  \n",
       "3              0.1  \n",
       "4              0.1  \n",
       "5              0.1  \n",
       "6              0.1  \n",
       "7              0.1  \n",
       "8              0.1  \n",
       "9              0.1  "
      ]
     },
     "execution_count": 18,
     "metadata": {},
     "output_type": "execute_result"
    }
   ],
   "source": [
    "best_df"
   ]
  },
  {
   "cell_type": "code",
   "execution_count": 19,
   "metadata": {},
   "outputs": [
    {
     "name": "stderr",
     "output_type": "stream",
     "text": [
      "85it [03:51,  3.81s/it]\n"
     ]
    }
   ],
   "source": [
    "index_cols = [\"Year\",\"days_to_subtract_key\",\"direct_thres\",\"spread_thres\",\"weight_indirect\",\"range\",\"Method\"]\n",
    "process_pipe = Pipeline([('compute_D', pyrplib.transformers.ProcessTransformer(index_cols, days_to_subtract_keys, years, 'madness', madness_teams, best_df))])\n",
    "process_pipe.fit(problem['data'])\n",
    "Ds = process_pipe.transform(problem['data'])\n",
    "# Ds = process(problem['data'],problem['target'],best_df)"
   ]
  },
  {
   "cell_type": "code",
   "execution_count": 20,
   "metadata": {},
   "outputs": [
    {
     "data": {
      "text/html": [
       "<div>\n",
       "<style scoped>\n",
       "    .dataframe tbody tr th:only-of-type {\n",
       "        vertical-align: middle;\n",
       "    }\n",
       "\n",
       "    .dataframe tbody tr th {\n",
       "        vertical-align: top;\n",
       "    }\n",
       "\n",
       "    .dataframe thead th {\n",
       "        text-align: right;\n",
       "    }\n",
       "</style>\n",
       "<table border=\"1\" class=\"dataframe\">\n",
       "  <thead>\n",
       "    <tr style=\"text-align: right;\">\n",
       "      <th></th>\n",
       "      <th></th>\n",
       "      <th></th>\n",
       "      <th></th>\n",
       "      <th></th>\n",
       "      <th></th>\n",
       "      <th></th>\n",
       "      <th>D</th>\n",
       "    </tr>\n",
       "    <tr>\n",
       "      <th>Year</th>\n",
       "      <th>days_to_subtract_key</th>\n",
       "      <th>direct_thres</th>\n",
       "      <th>spread_thres</th>\n",
       "      <th>weight_indirect</th>\n",
       "      <th>range</th>\n",
       "      <th>Method</th>\n",
       "      <th></th>\n",
       "    </tr>\n",
       "  </thead>\n",
       "  <tbody>\n",
       "    <tr>\n",
       "      <th rowspan=\"2\" valign=\"top\">2002</th>\n",
       "      <th rowspan=\"2\" valign=\"top\">days_to_subtract=35</th>\n",
       "      <th rowspan=\"2\" valign=\"top\">0</th>\n",
       "      <th rowspan=\"2\" valign=\"top\">0</th>\n",
       "      <th rowspan=\"2\" valign=\"top\">0.1</th>\n",
       "      <th rowspan=\"2\" valign=\"top\">madness</th>\n",
       "      <th>Colley</th>\n",
       "      <td>[[Alabama, Alcorn_St, Arizona, Boston_College,...</td>\n",
       "    </tr>\n",
       "    <tr>\n",
       "      <th>Massey</th>\n",
       "      <td>[[Alabama, Alcorn_St, Arizona, Boston_College,...</td>\n",
       "    </tr>\n",
       "    <tr>\n",
       "      <th rowspan=\"2\" valign=\"top\">2003</th>\n",
       "      <th rowspan=\"2\" valign=\"top\">days_to_subtract=35</th>\n",
       "      <th rowspan=\"2\" valign=\"top\">0</th>\n",
       "      <th rowspan=\"2\" valign=\"top\">0</th>\n",
       "      <th rowspan=\"2\" valign=\"top\">0.1</th>\n",
       "      <th rowspan=\"2\" valign=\"top\">madness</th>\n",
       "      <th>Colley</th>\n",
       "      <td>[[Alabama, Arizona, Arizona_St, Auburn, Austin...</td>\n",
       "    </tr>\n",
       "    <tr>\n",
       "      <th>Massey</th>\n",
       "      <td>[[Alabama, Arizona, Arizona_St, Auburn, Austin...</td>\n",
       "    </tr>\n",
       "    <tr>\n",
       "      <th>2004</th>\n",
       "      <th>days_to_subtract=35</th>\n",
       "      <th>0</th>\n",
       "      <th>0</th>\n",
       "      <th>0.1</th>\n",
       "      <th>madness</th>\n",
       "      <th>Colley</th>\n",
       "      <td>[[Air_Force, Alabama, Alabama_St, Arizona, BYU...</td>\n",
       "    </tr>\n",
       "    <tr>\n",
       "      <th>...</th>\n",
       "      <th>...</th>\n",
       "      <th>...</th>\n",
       "      <th>...</th>\n",
       "      <th>...</th>\n",
       "      <th>...</th>\n",
       "      <th>...</th>\n",
       "      <td>...</td>\n",
       "    </tr>\n",
       "    <tr>\n",
       "      <th>2016</th>\n",
       "      <th>days_to_subtract=7</th>\n",
       "      <th>0</th>\n",
       "      <th>0</th>\n",
       "      <th>0.1</th>\n",
       "      <th>madness</th>\n",
       "      <th>Massey</th>\n",
       "      <td>[[Akron, Arizona, Ark_Little_Rock, Baylor, Bel...</td>\n",
       "    </tr>\n",
       "    <tr>\n",
       "      <th rowspan=\"2\" valign=\"top\">2017</th>\n",
       "      <th rowspan=\"2\" valign=\"top\">days_to_subtract=7</th>\n",
       "      <th rowspan=\"2\" valign=\"top\">0</th>\n",
       "      <th rowspan=\"2\" valign=\"top\">0</th>\n",
       "      <th rowspan=\"2\" valign=\"top\">0.1</th>\n",
       "      <th rowspan=\"2\" valign=\"top\">madness</th>\n",
       "      <th>Colley</th>\n",
       "      <td>[[Arizona, Arkansas, Baylor, Bucknell, Butler,...</td>\n",
       "    </tr>\n",
       "    <tr>\n",
       "      <th>Massey</th>\n",
       "      <td>[[Arizona, Arkansas, Baylor, Bucknell, Butler,...</td>\n",
       "    </tr>\n",
       "    <tr>\n",
       "      <th rowspan=\"2\" valign=\"top\">2018</th>\n",
       "      <th rowspan=\"2\" valign=\"top\">days_to_subtract=7</th>\n",
       "      <th rowspan=\"2\" valign=\"top\">0</th>\n",
       "      <th rowspan=\"2\" valign=\"top\">0</th>\n",
       "      <th rowspan=\"2\" valign=\"top\">0.1</th>\n",
       "      <th rowspan=\"2\" valign=\"top\">madness</th>\n",
       "      <th>Colley</th>\n",
       "      <td>[[Alabama, Arizona, Arkansas, Auburn, Bucknell...</td>\n",
       "    </tr>\n",
       "    <tr>\n",
       "      <th>Massey</th>\n",
       "      <td>[[Alabama, Arizona, Arkansas, Auburn, Bucknell...</td>\n",
       "    </tr>\n",
       "  </tbody>\n",
       "</table>\n",
       "<p>170 rows × 1 columns</p>\n",
       "</div>"
      ],
      "text/plain": [
       "                                                                                                                                    D\n",
       "Year days_to_subtract_key direct_thres spread_thres weight_indirect range   Method                                                   \n",
       "2002 days_to_subtract=35  0            0            0.1             madness Colley  [[Alabama, Alcorn_St, Arizona, Boston_College,...\n",
       "                                                                            Massey  [[Alabama, Alcorn_St, Arizona, Boston_College,...\n",
       "2003 days_to_subtract=35  0            0            0.1             madness Colley  [[Alabama, Arizona, Arizona_St, Auburn, Austin...\n",
       "                                                                            Massey  [[Alabama, Arizona, Arizona_St, Auburn, Austin...\n",
       "2004 days_to_subtract=35  0            0            0.1             madness Colley  [[Air_Force, Alabama, Alabama_St, Arizona, BYU...\n",
       "...                                                                                                                               ...\n",
       "2016 days_to_subtract=7   0            0            0.1             madness Massey  [[Akron, Arizona, Ark_Little_Rock, Baylor, Bel...\n",
       "2017 days_to_subtract=7   0            0            0.1             madness Colley  [[Arizona, Arkansas, Baylor, Bucknell, Butler,...\n",
       "                                                                            Massey  [[Arizona, Arkansas, Baylor, Bucknell, Butler,...\n",
       "2018 days_to_subtract=7   0            0            0.1             madness Colley  [[Alabama, Arizona, Arkansas, Auburn, Bucknell...\n",
       "                                                                            Massey  [[Alabama, Arizona, Arkansas, Auburn, Bucknell...\n",
       "\n",
       "[170 rows x 1 columns]"
      ]
     },
     "execution_count": 20,
     "metadata": {},
     "output_type": "execute_result"
    }
   ],
   "source": [
    "Ds"
   ]
  },
  {
   "cell_type": "code",
   "execution_count": 21,
   "metadata": {},
   "outputs": [
    {
     "data": {
      "text/html": [
       "<div>\n",
       "<style scoped>\n",
       "    .dataframe tbody tr th:only-of-type {\n",
       "        vertical-align: middle;\n",
       "    }\n",
       "\n",
       "    .dataframe tbody tr th {\n",
       "        vertical-align: top;\n",
       "    }\n",
       "\n",
       "    .dataframe thead th {\n",
       "        text-align: right;\n",
       "    }\n",
       "</style>\n",
       "<table border=\"1\" class=\"dataframe\">\n",
       "  <thead>\n",
       "    <tr style=\"text-align: right;\">\n",
       "      <th></th>\n",
       "      <th></th>\n",
       "      <th></th>\n",
       "      <th></th>\n",
       "      <th></th>\n",
       "      <th></th>\n",
       "      <th></th>\n",
       "      <th>D</th>\n",
       "    </tr>\n",
       "    <tr>\n",
       "      <th>Year</th>\n",
       "      <th>days_to_subtract_key</th>\n",
       "      <th>direct_thres</th>\n",
       "      <th>spread_thres</th>\n",
       "      <th>weight_indirect</th>\n",
       "      <th>range</th>\n",
       "      <th>Method</th>\n",
       "      <th></th>\n",
       "    </tr>\n",
       "  </thead>\n",
       "  <tbody>\n",
       "    <tr>\n",
       "      <th>2002</th>\n",
       "      <th>days_to_subtract=35</th>\n",
       "      <th>0</th>\n",
       "      <th>0</th>\n",
       "      <th>0.1</th>\n",
       "      <th>madness</th>\n",
       "      <th>Colley</th>\n",
       "      <td>[[Alabama, Alcorn_St, Arizona, Boston_College,...</td>\n",
       "    </tr>\n",
       "    <tr>\n",
       "      <th>2018</th>\n",
       "      <th>days_to_subtract=7</th>\n",
       "      <th>0</th>\n",
       "      <th>0</th>\n",
       "      <th>0.1</th>\n",
       "      <th>madness</th>\n",
       "      <th>Massey</th>\n",
       "      <td>[[Alabama, Arizona, Arkansas, Auburn, Bucknell...</td>\n",
       "    </tr>\n",
       "  </tbody>\n",
       "</table>\n",
       "</div>"
      ],
      "text/plain": [
       "                                                                                                                                    D\n",
       "Year days_to_subtract_key direct_thres spread_thres weight_indirect range   Method                                                   \n",
       "2002 days_to_subtract=35  0            0            0.1             madness Colley  [[Alabama, Alcorn_St, Arizona, Boston_College,...\n",
       "2018 days_to_subtract=7   0            0            0.1             madness Massey  [[Alabama, Arizona, Arkansas, Auburn, Bucknell..."
      ]
     },
     "execution_count": 21,
     "metadata": {},
     "output_type": "execute_result"
    }
   ],
   "source": [
    "Ds.iloc[[0,-1]]"
   ]
  },
  {
   "cell_type": "code",
   "execution_count": 22,
   "metadata": {},
   "outputs": [
    {
     "name": "stderr",
     "output_type": "stream",
     "text": [
      "/opt/tljh/user/lib/python3.7/site-packages/ipykernel_launcher.py:1: PerformanceWarning: indexing past lexsort depth may impact performance.\n",
      "  \"\"\"Entry point for launching an IPython kernel.\n"
     ]
    },
    {
     "data": {
      "text/html": [
       "<div>\n",
       "<style scoped>\n",
       "    .dataframe tbody tr th:only-of-type {\n",
       "        vertical-align: middle;\n",
       "    }\n",
       "\n",
       "    .dataframe tbody tr th {\n",
       "        vertical-align: top;\n",
       "    }\n",
       "\n",
       "    .dataframe thead th {\n",
       "        text-align: right;\n",
       "    }\n",
       "</style>\n",
       "<table border=\"1\" class=\"dataframe\">\n",
       "  <thead>\n",
       "    <tr style=\"text-align: right;\">\n",
       "      <th>team2</th>\n",
       "      <th>Alabama</th>\n",
       "      <th>Alcorn_St</th>\n",
       "      <th>Arizona</th>\n",
       "      <th>Boston_College</th>\n",
       "      <th>Boston_Univ</th>\n",
       "      <th>California</th>\n",
       "      <th>Central_Conn</th>\n",
       "      <th>Charlotte</th>\n",
       "      <th>Cincinnati</th>\n",
       "      <th>Connecticut</th>\n",
       "      <th>...</th>\n",
       "      <th>UNC_Wilmington</th>\n",
       "      <th>USC</th>\n",
       "      <th>Utah</th>\n",
       "      <th>Valparaiso</th>\n",
       "      <th>W_Kentucky</th>\n",
       "      <th>Wake_Forest</th>\n",
       "      <th>Winthrop</th>\n",
       "      <th>Wisconsin</th>\n",
       "      <th>Wyoming</th>\n",
       "      <th>Xavier</th>\n",
       "    </tr>\n",
       "    <tr>\n",
       "      <th>team1</th>\n",
       "      <th></th>\n",
       "      <th></th>\n",
       "      <th></th>\n",
       "      <th></th>\n",
       "      <th></th>\n",
       "      <th></th>\n",
       "      <th></th>\n",
       "      <th></th>\n",
       "      <th></th>\n",
       "      <th></th>\n",
       "      <th></th>\n",
       "      <th></th>\n",
       "      <th></th>\n",
       "      <th></th>\n",
       "      <th></th>\n",
       "      <th></th>\n",
       "      <th></th>\n",
       "      <th></th>\n",
       "      <th></th>\n",
       "      <th></th>\n",
       "      <th></th>\n",
       "    </tr>\n",
       "  </thead>\n",
       "  <tbody>\n",
       "    <tr>\n",
       "      <th>Alabama</th>\n",
       "      <td>NaN</td>\n",
       "      <td>NaN</td>\n",
       "      <td>NaN</td>\n",
       "      <td>NaN</td>\n",
       "      <td>NaN</td>\n",
       "      <td>NaN</td>\n",
       "      <td>NaN</td>\n",
       "      <td>NaN</td>\n",
       "      <td>NaN</td>\n",
       "      <td>NaN</td>\n",
       "      <td>...</td>\n",
       "      <td>NaN</td>\n",
       "      <td>NaN</td>\n",
       "      <td>1.0</td>\n",
       "      <td>NaN</td>\n",
       "      <td>NaN</td>\n",
       "      <td>NaN</td>\n",
       "      <td>NaN</td>\n",
       "      <td>NaN</td>\n",
       "      <td>NaN</td>\n",
       "      <td>NaN</td>\n",
       "    </tr>\n",
       "    <tr>\n",
       "      <th>Alcorn_St</th>\n",
       "      <td>NaN</td>\n",
       "      <td>NaN</td>\n",
       "      <td>NaN</td>\n",
       "      <td>NaN</td>\n",
       "      <td>NaN</td>\n",
       "      <td>NaN</td>\n",
       "      <td>NaN</td>\n",
       "      <td>NaN</td>\n",
       "      <td>NaN</td>\n",
       "      <td>NaN</td>\n",
       "      <td>...</td>\n",
       "      <td>NaN</td>\n",
       "      <td>NaN</td>\n",
       "      <td>NaN</td>\n",
       "      <td>NaN</td>\n",
       "      <td>NaN</td>\n",
       "      <td>NaN</td>\n",
       "      <td>NaN</td>\n",
       "      <td>NaN</td>\n",
       "      <td>NaN</td>\n",
       "      <td>NaN</td>\n",
       "    </tr>\n",
       "    <tr>\n",
       "      <th>Arizona</th>\n",
       "      <td>NaN</td>\n",
       "      <td>NaN</td>\n",
       "      <td>NaN</td>\n",
       "      <td>NaN</td>\n",
       "      <td>NaN</td>\n",
       "      <td>1.0</td>\n",
       "      <td>NaN</td>\n",
       "      <td>NaN</td>\n",
       "      <td>NaN</td>\n",
       "      <td>0.0</td>\n",
       "      <td>...</td>\n",
       "      <td>NaN</td>\n",
       "      <td>1.0</td>\n",
       "      <td>NaN</td>\n",
       "      <td>1.0</td>\n",
       "      <td>NaN</td>\n",
       "      <td>1.0</td>\n",
       "      <td>NaN</td>\n",
       "      <td>NaN</td>\n",
       "      <td>NaN</td>\n",
       "      <td>NaN</td>\n",
       "    </tr>\n",
       "    <tr>\n",
       "      <th>Boston_College</th>\n",
       "      <td>NaN</td>\n",
       "      <td>NaN</td>\n",
       "      <td>NaN</td>\n",
       "      <td>NaN</td>\n",
       "      <td>1.0</td>\n",
       "      <td>NaN</td>\n",
       "      <td>NaN</td>\n",
       "      <td>NaN</td>\n",
       "      <td>NaN</td>\n",
       "      <td>NaN</td>\n",
       "      <td>...</td>\n",
       "      <td>NaN</td>\n",
       "      <td>NaN</td>\n",
       "      <td>NaN</td>\n",
       "      <td>NaN</td>\n",
       "      <td>NaN</td>\n",
       "      <td>NaN</td>\n",
       "      <td>NaN</td>\n",
       "      <td>NaN</td>\n",
       "      <td>NaN</td>\n",
       "      <td>NaN</td>\n",
       "    </tr>\n",
       "    <tr>\n",
       "      <th>Boston_Univ</th>\n",
       "      <td>NaN</td>\n",
       "      <td>NaN</td>\n",
       "      <td>NaN</td>\n",
       "      <td>0.0</td>\n",
       "      <td>NaN</td>\n",
       "      <td>NaN</td>\n",
       "      <td>NaN</td>\n",
       "      <td>NaN</td>\n",
       "      <td>NaN</td>\n",
       "      <td>NaN</td>\n",
       "      <td>...</td>\n",
       "      <td>NaN</td>\n",
       "      <td>NaN</td>\n",
       "      <td>NaN</td>\n",
       "      <td>NaN</td>\n",
       "      <td>NaN</td>\n",
       "      <td>NaN</td>\n",
       "      <td>NaN</td>\n",
       "      <td>NaN</td>\n",
       "      <td>NaN</td>\n",
       "      <td>NaN</td>\n",
       "    </tr>\n",
       "    <tr>\n",
       "      <th>...</th>\n",
       "      <td>...</td>\n",
       "      <td>...</td>\n",
       "      <td>...</td>\n",
       "      <td>...</td>\n",
       "      <td>...</td>\n",
       "      <td>...</td>\n",
       "      <td>...</td>\n",
       "      <td>...</td>\n",
       "      <td>...</td>\n",
       "      <td>...</td>\n",
       "      <td>...</td>\n",
       "      <td>...</td>\n",
       "      <td>...</td>\n",
       "      <td>...</td>\n",
       "      <td>...</td>\n",
       "      <td>...</td>\n",
       "      <td>...</td>\n",
       "      <td>...</td>\n",
       "      <td>...</td>\n",
       "      <td>...</td>\n",
       "      <td>...</td>\n",
       "    </tr>\n",
       "    <tr>\n",
       "      <th>Wake_Forest</th>\n",
       "      <td>NaN</td>\n",
       "      <td>NaN</td>\n",
       "      <td>0.0</td>\n",
       "      <td>NaN</td>\n",
       "      <td>NaN</td>\n",
       "      <td>0.0</td>\n",
       "      <td>NaN</td>\n",
       "      <td>NaN</td>\n",
       "      <td>NaN</td>\n",
       "      <td>NaN</td>\n",
       "      <td>...</td>\n",
       "      <td>NaN</td>\n",
       "      <td>0.0</td>\n",
       "      <td>NaN</td>\n",
       "      <td>NaN</td>\n",
       "      <td>NaN</td>\n",
       "      <td>NaN</td>\n",
       "      <td>NaN</td>\n",
       "      <td>NaN</td>\n",
       "      <td>NaN</td>\n",
       "      <td>NaN</td>\n",
       "    </tr>\n",
       "    <tr>\n",
       "      <th>Winthrop</th>\n",
       "      <td>NaN</td>\n",
       "      <td>NaN</td>\n",
       "      <td>NaN</td>\n",
       "      <td>NaN</td>\n",
       "      <td>NaN</td>\n",
       "      <td>NaN</td>\n",
       "      <td>NaN</td>\n",
       "      <td>NaN</td>\n",
       "      <td>NaN</td>\n",
       "      <td>NaN</td>\n",
       "      <td>...</td>\n",
       "      <td>NaN</td>\n",
       "      <td>NaN</td>\n",
       "      <td>NaN</td>\n",
       "      <td>NaN</td>\n",
       "      <td>NaN</td>\n",
       "      <td>NaN</td>\n",
       "      <td>NaN</td>\n",
       "      <td>NaN</td>\n",
       "      <td>NaN</td>\n",
       "      <td>0.0</td>\n",
       "    </tr>\n",
       "    <tr>\n",
       "      <th>Wisconsin</th>\n",
       "      <td>NaN</td>\n",
       "      <td>NaN</td>\n",
       "      <td>NaN</td>\n",
       "      <td>NaN</td>\n",
       "      <td>NaN</td>\n",
       "      <td>NaN</td>\n",
       "      <td>NaN</td>\n",
       "      <td>NaN</td>\n",
       "      <td>NaN</td>\n",
       "      <td>NaN</td>\n",
       "      <td>...</td>\n",
       "      <td>NaN</td>\n",
       "      <td>NaN</td>\n",
       "      <td>NaN</td>\n",
       "      <td>NaN</td>\n",
       "      <td>NaN</td>\n",
       "      <td>NaN</td>\n",
       "      <td>NaN</td>\n",
       "      <td>NaN</td>\n",
       "      <td>NaN</td>\n",
       "      <td>NaN</td>\n",
       "    </tr>\n",
       "    <tr>\n",
       "      <th>Wyoming</th>\n",
       "      <td>NaN</td>\n",
       "      <td>NaN</td>\n",
       "      <td>NaN</td>\n",
       "      <td>NaN</td>\n",
       "      <td>NaN</td>\n",
       "      <td>NaN</td>\n",
       "      <td>NaN</td>\n",
       "      <td>NaN</td>\n",
       "      <td>NaN</td>\n",
       "      <td>NaN</td>\n",
       "      <td>...</td>\n",
       "      <td>NaN</td>\n",
       "      <td>0.0</td>\n",
       "      <td>NaN</td>\n",
       "      <td>NaN</td>\n",
       "      <td>NaN</td>\n",
       "      <td>NaN</td>\n",
       "      <td>NaN</td>\n",
       "      <td>NaN</td>\n",
       "      <td>NaN</td>\n",
       "      <td>NaN</td>\n",
       "    </tr>\n",
       "    <tr>\n",
       "      <th>Xavier</th>\n",
       "      <td>NaN</td>\n",
       "      <td>NaN</td>\n",
       "      <td>NaN</td>\n",
       "      <td>NaN</td>\n",
       "      <td>NaN</td>\n",
       "      <td>NaN</td>\n",
       "      <td>NaN</td>\n",
       "      <td>NaN</td>\n",
       "      <td>0.0</td>\n",
       "      <td>NaN</td>\n",
       "      <td>...</td>\n",
       "      <td>NaN</td>\n",
       "      <td>NaN</td>\n",
       "      <td>NaN</td>\n",
       "      <td>NaN</td>\n",
       "      <td>NaN</td>\n",
       "      <td>NaN</td>\n",
       "      <td>1.0</td>\n",
       "      <td>NaN</td>\n",
       "      <td>NaN</td>\n",
       "      <td>NaN</td>\n",
       "    </tr>\n",
       "  </tbody>\n",
       "</table>\n",
       "<p>65 rows × 65 columns</p>\n",
       "</div>"
      ],
      "text/plain": [
       "team2           Alabama  Alcorn_St  Arizona  Boston_College  Boston_Univ  \\\n",
       "team1                                                                      \n",
       "Alabama             NaN        NaN      NaN             NaN          NaN   \n",
       "Alcorn_St           NaN        NaN      NaN             NaN          NaN   \n",
       "Arizona             NaN        NaN      NaN             NaN          NaN   \n",
       "Boston_College      NaN        NaN      NaN             NaN          1.0   \n",
       "Boston_Univ         NaN        NaN      NaN             0.0          NaN   \n",
       "...                 ...        ...      ...             ...          ...   \n",
       "Wake_Forest         NaN        NaN      0.0             NaN          NaN   \n",
       "Winthrop            NaN        NaN      NaN             NaN          NaN   \n",
       "Wisconsin           NaN        NaN      NaN             NaN          NaN   \n",
       "Wyoming             NaN        NaN      NaN             NaN          NaN   \n",
       "Xavier              NaN        NaN      NaN             NaN          NaN   \n",
       "\n",
       "team2           California  Central_Conn  Charlotte  Cincinnati  Connecticut  \\\n",
       "team1                                                                          \n",
       "Alabama                NaN           NaN        NaN         NaN          NaN   \n",
       "Alcorn_St              NaN           NaN        NaN         NaN          NaN   \n",
       "Arizona                1.0           NaN        NaN         NaN          0.0   \n",
       "Boston_College         NaN           NaN        NaN         NaN          NaN   \n",
       "Boston_Univ            NaN           NaN        NaN         NaN          NaN   \n",
       "...                    ...           ...        ...         ...          ...   \n",
       "Wake_Forest            0.0           NaN        NaN         NaN          NaN   \n",
       "Winthrop               NaN           NaN        NaN         NaN          NaN   \n",
       "Wisconsin              NaN           NaN        NaN         NaN          NaN   \n",
       "Wyoming                NaN           NaN        NaN         NaN          NaN   \n",
       "Xavier                 NaN           NaN        NaN         0.0          NaN   \n",
       "\n",
       "team2           ...  UNC_Wilmington  USC  Utah  Valparaiso  W_Kentucky  \\\n",
       "team1           ...                                                      \n",
       "Alabama         ...             NaN  NaN   1.0         NaN         NaN   \n",
       "Alcorn_St       ...             NaN  NaN   NaN         NaN         NaN   \n",
       "Arizona         ...             NaN  1.0   NaN         1.0         NaN   \n",
       "Boston_College  ...             NaN  NaN   NaN         NaN         NaN   \n",
       "Boston_Univ     ...             NaN  NaN   NaN         NaN         NaN   \n",
       "...             ...             ...  ...   ...         ...         ...   \n",
       "Wake_Forest     ...             NaN  0.0   NaN         NaN         NaN   \n",
       "Winthrop        ...             NaN  NaN   NaN         NaN         NaN   \n",
       "Wisconsin       ...             NaN  NaN   NaN         NaN         NaN   \n",
       "Wyoming         ...             NaN  0.0   NaN         NaN         NaN   \n",
       "Xavier          ...             NaN  NaN   NaN         NaN         NaN   \n",
       "\n",
       "team2           Wake_Forest  Winthrop  Wisconsin  Wyoming  Xavier  \n",
       "team1                                                              \n",
       "Alabama                 NaN       NaN        NaN      NaN     NaN  \n",
       "Alcorn_St               NaN       NaN        NaN      NaN     NaN  \n",
       "Arizona                 1.0       NaN        NaN      NaN     NaN  \n",
       "Boston_College          NaN       NaN        NaN      NaN     NaN  \n",
       "Boston_Univ             NaN       NaN        NaN      NaN     NaN  \n",
       "...                     ...       ...        ...      ...     ...  \n",
       "Wake_Forest             NaN       NaN        NaN      NaN     NaN  \n",
       "Winthrop                NaN       NaN        NaN      NaN     0.0  \n",
       "Wisconsin               NaN       NaN        NaN      NaN     NaN  \n",
       "Wyoming                 NaN       NaN        NaN      NaN     NaN  \n",
       "Xavier                  NaN       1.0        NaN      NaN     NaN  \n",
       "\n",
       "[65 rows x 65 columns]"
      ]
     },
     "execution_count": 22,
     "metadata": {},
     "output_type": "execute_result"
    }
   ],
   "source": [
    "Ds.loc['2002',\"D\"][0][0]"
   ]
  },
  {
   "cell_type": "code",
   "execution_count": 23,
   "metadata": {},
   "outputs": [
    {
     "name": "stderr",
     "output_type": "stream",
     "text": [
      "/opt/tljh/user/lib/python3.7/site-packages/ipykernel_launcher.py:1: PerformanceWarning: indexing past lexsort depth may impact performance.\n",
      "  \"\"\"Entry point for launching an IPython kernel.\n"
     ]
    },
    {
     "data": {
      "text/html": [
       "<div>\n",
       "<style scoped>\n",
       "    .dataframe tbody tr th:only-of-type {\n",
       "        vertical-align: middle;\n",
       "    }\n",
       "\n",
       "    .dataframe tbody tr th {\n",
       "        vertical-align: top;\n",
       "    }\n",
       "\n",
       "    .dataframe thead th {\n",
       "        text-align: right;\n",
       "    }\n",
       "</style>\n",
       "<table border=\"1\" class=\"dataframe\">\n",
       "  <thead>\n",
       "    <tr style=\"text-align: right;\">\n",
       "      <th>team2</th>\n",
       "      <th>Alabama</th>\n",
       "      <th>Alcorn_St</th>\n",
       "      <th>Arizona</th>\n",
       "      <th>Boston_College</th>\n",
       "      <th>Boston_Univ</th>\n",
       "      <th>California</th>\n",
       "      <th>Central_Conn</th>\n",
       "      <th>Charlotte</th>\n",
       "      <th>Cincinnati</th>\n",
       "      <th>Connecticut</th>\n",
       "      <th>...</th>\n",
       "      <th>UNC_Wilmington</th>\n",
       "      <th>USC</th>\n",
       "      <th>Utah</th>\n",
       "      <th>Valparaiso</th>\n",
       "      <th>W_Kentucky</th>\n",
       "      <th>Wake_Forest</th>\n",
       "      <th>Winthrop</th>\n",
       "      <th>Wisconsin</th>\n",
       "      <th>Wyoming</th>\n",
       "      <th>Xavier</th>\n",
       "    </tr>\n",
       "    <tr>\n",
       "      <th>team1</th>\n",
       "      <th></th>\n",
       "      <th></th>\n",
       "      <th></th>\n",
       "      <th></th>\n",
       "      <th></th>\n",
       "      <th></th>\n",
       "      <th></th>\n",
       "      <th></th>\n",
       "      <th></th>\n",
       "      <th></th>\n",
       "      <th></th>\n",
       "      <th></th>\n",
       "      <th></th>\n",
       "      <th></th>\n",
       "      <th></th>\n",
       "      <th></th>\n",
       "      <th></th>\n",
       "      <th></th>\n",
       "      <th></th>\n",
       "      <th></th>\n",
       "      <th></th>\n",
       "    </tr>\n",
       "  </thead>\n",
       "  <tbody>\n",
       "    <tr>\n",
       "      <th>Alabama</th>\n",
       "      <td>NaN</td>\n",
       "      <td>0.0</td>\n",
       "      <td>0.0</td>\n",
       "      <td>NaN</td>\n",
       "      <td>NaN</td>\n",
       "      <td>0.0</td>\n",
       "      <td>NaN</td>\n",
       "      <td>1.0</td>\n",
       "      <td>0.0</td>\n",
       "      <td>0.0</td>\n",
       "      <td>...</td>\n",
       "      <td>NaN</td>\n",
       "      <td>0.0</td>\n",
       "      <td>NaN</td>\n",
       "      <td>NaN</td>\n",
       "      <td>NaN</td>\n",
       "      <td>0.0</td>\n",
       "      <td>1.0</td>\n",
       "      <td>1.0</td>\n",
       "      <td>NaN</td>\n",
       "      <td>0.0</td>\n",
       "    </tr>\n",
       "    <tr>\n",
       "      <th>Alcorn_St</th>\n",
       "      <td>0.0</td>\n",
       "      <td>NaN</td>\n",
       "      <td>NaN</td>\n",
       "      <td>NaN</td>\n",
       "      <td>NaN</td>\n",
       "      <td>0.0</td>\n",
       "      <td>NaN</td>\n",
       "      <td>0.0</td>\n",
       "      <td>NaN</td>\n",
       "      <td>NaN</td>\n",
       "      <td>...</td>\n",
       "      <td>NaN</td>\n",
       "      <td>NaN</td>\n",
       "      <td>0.0</td>\n",
       "      <td>0.0</td>\n",
       "      <td>NaN</td>\n",
       "      <td>0.0</td>\n",
       "      <td>0.0</td>\n",
       "      <td>0.0</td>\n",
       "      <td>0.0</td>\n",
       "      <td>NaN</td>\n",
       "    </tr>\n",
       "    <tr>\n",
       "      <th>Arizona</th>\n",
       "      <td>1.0</td>\n",
       "      <td>NaN</td>\n",
       "      <td>NaN</td>\n",
       "      <td>NaN</td>\n",
       "      <td>NaN</td>\n",
       "      <td>2.0</td>\n",
       "      <td>NaN</td>\n",
       "      <td>2.0</td>\n",
       "      <td>0.0</td>\n",
       "      <td>1.0</td>\n",
       "      <td>...</td>\n",
       "      <td>NaN</td>\n",
       "      <td>2.0</td>\n",
       "      <td>0.0</td>\n",
       "      <td>1.0</td>\n",
       "      <td>NaN</td>\n",
       "      <td>9.0</td>\n",
       "      <td>1.0</td>\n",
       "      <td>NaN</td>\n",
       "      <td>1.0</td>\n",
       "      <td>1.0</td>\n",
       "    </tr>\n",
       "    <tr>\n",
       "      <th>Boston_College</th>\n",
       "      <td>NaN</td>\n",
       "      <td>NaN</td>\n",
       "      <td>NaN</td>\n",
       "      <td>NaN</td>\n",
       "      <td>0.0</td>\n",
       "      <td>0.0</td>\n",
       "      <td>1.0</td>\n",
       "      <td>1.0</td>\n",
       "      <td>NaN</td>\n",
       "      <td>2.0</td>\n",
       "      <td>...</td>\n",
       "      <td>0.0</td>\n",
       "      <td>0.0</td>\n",
       "      <td>NaN</td>\n",
       "      <td>NaN</td>\n",
       "      <td>NaN</td>\n",
       "      <td>NaN</td>\n",
       "      <td>2.0</td>\n",
       "      <td>0.0</td>\n",
       "      <td>NaN</td>\n",
       "      <td>0.0</td>\n",
       "    </tr>\n",
       "    <tr>\n",
       "      <th>Boston_Univ</th>\n",
       "      <td>NaN</td>\n",
       "      <td>NaN</td>\n",
       "      <td>NaN</td>\n",
       "      <td>0.0</td>\n",
       "      <td>NaN</td>\n",
       "      <td>0.0</td>\n",
       "      <td>0.0</td>\n",
       "      <td>0.0</td>\n",
       "      <td>NaN</td>\n",
       "      <td>0.0</td>\n",
       "      <td>...</td>\n",
       "      <td>NaN</td>\n",
       "      <td>NaN</td>\n",
       "      <td>NaN</td>\n",
       "      <td>0.0</td>\n",
       "      <td>NaN</td>\n",
       "      <td>NaN</td>\n",
       "      <td>0.0</td>\n",
       "      <td>0.0</td>\n",
       "      <td>NaN</td>\n",
       "      <td>0.0</td>\n",
       "    </tr>\n",
       "    <tr>\n",
       "      <th>...</th>\n",
       "      <td>...</td>\n",
       "      <td>...</td>\n",
       "      <td>...</td>\n",
       "      <td>...</td>\n",
       "      <td>...</td>\n",
       "      <td>...</td>\n",
       "      <td>...</td>\n",
       "      <td>...</td>\n",
       "      <td>...</td>\n",
       "      <td>...</td>\n",
       "      <td>...</td>\n",
       "      <td>...</td>\n",
       "      <td>...</td>\n",
       "      <td>...</td>\n",
       "      <td>...</td>\n",
       "      <td>...</td>\n",
       "      <td>...</td>\n",
       "      <td>...</td>\n",
       "      <td>...</td>\n",
       "      <td>...</td>\n",
       "      <td>...</td>\n",
       "    </tr>\n",
       "    <tr>\n",
       "      <th>Wake_Forest</th>\n",
       "      <td>0.0</td>\n",
       "      <td>1.0</td>\n",
       "      <td>3.0</td>\n",
       "      <td>NaN</td>\n",
       "      <td>NaN</td>\n",
       "      <td>1.0</td>\n",
       "      <td>NaN</td>\n",
       "      <td>0.0</td>\n",
       "      <td>0.0</td>\n",
       "      <td>0.0</td>\n",
       "      <td>...</td>\n",
       "      <td>1.0</td>\n",
       "      <td>1.0</td>\n",
       "      <td>1.0</td>\n",
       "      <td>1.0</td>\n",
       "      <td>NaN</td>\n",
       "      <td>NaN</td>\n",
       "      <td>1.0</td>\n",
       "      <td>0.0</td>\n",
       "      <td>0.0</td>\n",
       "      <td>NaN</td>\n",
       "    </tr>\n",
       "    <tr>\n",
       "      <th>Winthrop</th>\n",
       "      <td>0.0</td>\n",
       "      <td>0.0</td>\n",
       "      <td>1.0</td>\n",
       "      <td>0.0</td>\n",
       "      <td>0.0</td>\n",
       "      <td>0.0</td>\n",
       "      <td>NaN</td>\n",
       "      <td>0.0</td>\n",
       "      <td>1.0</td>\n",
       "      <td>NaN</td>\n",
       "      <td>...</td>\n",
       "      <td>0.0</td>\n",
       "      <td>NaN</td>\n",
       "      <td>0.0</td>\n",
       "      <td>1.0</td>\n",
       "      <td>NaN</td>\n",
       "      <td>0.0</td>\n",
       "      <td>NaN</td>\n",
       "      <td>NaN</td>\n",
       "      <td>0.0</td>\n",
       "      <td>1.0</td>\n",
       "    </tr>\n",
       "    <tr>\n",
       "      <th>Wisconsin</th>\n",
       "      <td>0.0</td>\n",
       "      <td>2.0</td>\n",
       "      <td>NaN</td>\n",
       "      <td>0.0</td>\n",
       "      <td>1.0</td>\n",
       "      <td>NaN</td>\n",
       "      <td>NaN</td>\n",
       "      <td>0.0</td>\n",
       "      <td>0.0</td>\n",
       "      <td>0.0</td>\n",
       "      <td>...</td>\n",
       "      <td>NaN</td>\n",
       "      <td>NaN</td>\n",
       "      <td>NaN</td>\n",
       "      <td>1.0</td>\n",
       "      <td>NaN</td>\n",
       "      <td>0.0</td>\n",
       "      <td>NaN</td>\n",
       "      <td>NaN</td>\n",
       "      <td>0.0</td>\n",
       "      <td>0.0</td>\n",
       "    </tr>\n",
       "    <tr>\n",
       "      <th>Wyoming</th>\n",
       "      <td>NaN</td>\n",
       "      <td>1.0</td>\n",
       "      <td>0.0</td>\n",
       "      <td>NaN</td>\n",
       "      <td>NaN</td>\n",
       "      <td>0.0</td>\n",
       "      <td>NaN</td>\n",
       "      <td>NaN</td>\n",
       "      <td>0.0</td>\n",
       "      <td>NaN</td>\n",
       "      <td>...</td>\n",
       "      <td>NaN</td>\n",
       "      <td>NaN</td>\n",
       "      <td>0.0</td>\n",
       "      <td>0.0</td>\n",
       "      <td>NaN</td>\n",
       "      <td>0.0</td>\n",
       "      <td>1.0</td>\n",
       "      <td>0.0</td>\n",
       "      <td>NaN</td>\n",
       "      <td>NaN</td>\n",
       "    </tr>\n",
       "    <tr>\n",
       "      <th>Xavier</th>\n",
       "      <td>0.0</td>\n",
       "      <td>NaN</td>\n",
       "      <td>0.0</td>\n",
       "      <td>1.0</td>\n",
       "      <td>1.0</td>\n",
       "      <td>NaN</td>\n",
       "      <td>NaN</td>\n",
       "      <td>0.0</td>\n",
       "      <td>0.0</td>\n",
       "      <td>0.0</td>\n",
       "      <td>...</td>\n",
       "      <td>0.0</td>\n",
       "      <td>0.0</td>\n",
       "      <td>NaN</td>\n",
       "      <td>0.0</td>\n",
       "      <td>NaN</td>\n",
       "      <td>NaN</td>\n",
       "      <td>0.0</td>\n",
       "      <td>1.0</td>\n",
       "      <td>NaN</td>\n",
       "      <td>NaN</td>\n",
       "    </tr>\n",
       "  </tbody>\n",
       "</table>\n",
       "<p>65 rows × 65 columns</p>\n",
       "</div>"
      ],
      "text/plain": [
       "team2           Alabama  Alcorn_St  Arizona  Boston_College  Boston_Univ  \\\n",
       "team1                                                                      \n",
       "Alabama             NaN        0.0      0.0             NaN          NaN   \n",
       "Alcorn_St           0.0        NaN      NaN             NaN          NaN   \n",
       "Arizona             1.0        NaN      NaN             NaN          NaN   \n",
       "Boston_College      NaN        NaN      NaN             NaN          0.0   \n",
       "Boston_Univ         NaN        NaN      NaN             0.0          NaN   \n",
       "...                 ...        ...      ...             ...          ...   \n",
       "Wake_Forest         0.0        1.0      3.0             NaN          NaN   \n",
       "Winthrop            0.0        0.0      1.0             0.0          0.0   \n",
       "Wisconsin           0.0        2.0      NaN             0.0          1.0   \n",
       "Wyoming             NaN        1.0      0.0             NaN          NaN   \n",
       "Xavier              0.0        NaN      0.0             1.0          1.0   \n",
       "\n",
       "team2           California  Central_Conn  Charlotte  Cincinnati  Connecticut  \\\n",
       "team1                                                                          \n",
       "Alabama                0.0           NaN        1.0         0.0          0.0   \n",
       "Alcorn_St              0.0           NaN        0.0         NaN          NaN   \n",
       "Arizona                2.0           NaN        2.0         0.0          1.0   \n",
       "Boston_College         0.0           1.0        1.0         NaN          2.0   \n",
       "Boston_Univ            0.0           0.0        0.0         NaN          0.0   \n",
       "...                    ...           ...        ...         ...          ...   \n",
       "Wake_Forest            1.0           NaN        0.0         0.0          0.0   \n",
       "Winthrop               0.0           NaN        0.0         1.0          NaN   \n",
       "Wisconsin              NaN           NaN        0.0         0.0          0.0   \n",
       "Wyoming                0.0           NaN        NaN         0.0          NaN   \n",
       "Xavier                 NaN           NaN        0.0         0.0          0.0   \n",
       "\n",
       "team2           ...  UNC_Wilmington  USC  Utah  Valparaiso  W_Kentucky  \\\n",
       "team1           ...                                                      \n",
       "Alabama         ...             NaN  0.0   NaN         NaN         NaN   \n",
       "Alcorn_St       ...             NaN  NaN   0.0         0.0         NaN   \n",
       "Arizona         ...             NaN  2.0   0.0         1.0         NaN   \n",
       "Boston_College  ...             0.0  0.0   NaN         NaN         NaN   \n",
       "Boston_Univ     ...             NaN  NaN   NaN         0.0         NaN   \n",
       "...             ...             ...  ...   ...         ...         ...   \n",
       "Wake_Forest     ...             1.0  1.0   1.0         1.0         NaN   \n",
       "Winthrop        ...             0.0  NaN   0.0         1.0         NaN   \n",
       "Wisconsin       ...             NaN  NaN   NaN         1.0         NaN   \n",
       "Wyoming         ...             NaN  NaN   0.0         0.0         NaN   \n",
       "Xavier          ...             0.0  0.0   NaN         0.0         NaN   \n",
       "\n",
       "team2           Wake_Forest  Winthrop  Wisconsin  Wyoming  Xavier  \n",
       "team1                                                              \n",
       "Alabama                 0.0       1.0        1.0      NaN     0.0  \n",
       "Alcorn_St               0.0       0.0        0.0      0.0     NaN  \n",
       "Arizona                 9.0       1.0        NaN      1.0     1.0  \n",
       "Boston_College          NaN       2.0        0.0      NaN     0.0  \n",
       "Boston_Univ             NaN       0.0        0.0      NaN     0.0  \n",
       "...                     ...       ...        ...      ...     ...  \n",
       "Wake_Forest             NaN       1.0        0.0      0.0     NaN  \n",
       "Winthrop                0.0       NaN        NaN      0.0     1.0  \n",
       "Wisconsin               0.0       NaN        NaN      0.0     0.0  \n",
       "Wyoming                 0.0       1.0        0.0      NaN     NaN  \n",
       "Xavier                  NaN       0.0        1.0      NaN     NaN  \n",
       "\n",
       "[65 rows x 65 columns]"
      ]
     },
     "execution_count": 23,
     "metadata": {},
     "output_type": "execute_result"
    }
   ],
   "source": [
    "Ds.loc['2002',\"D\"][0][1]"
   ]
  },
  {
   "cell_type": "code",
   "execution_count": 24,
   "metadata": {},
   "outputs": [
    {
     "data": {
      "text/plain": [
       "FrozenList(['Year', 'days_to_subtract_key', 'direct_thres', 'spread_thres', 'weight_indirect', 'range', 'Method'])"
      ]
     },
     "execution_count": 24,
     "metadata": {},
     "output_type": "execute_result"
    }
   ],
   "source": [
    "Ds.index.names"
   ]
  },
  {
   "cell_type": "code",
   "execution_count": 25,
   "metadata": {},
   "outputs": [
    {
     "name": "stderr",
     "output_type": "stream",
     "text": [
      "/opt/tljh/user/lib/python3.7/site-packages/ipykernel_launcher.py:4: PerformanceWarning: indexing past lexsort depth may impact performance.\n",
      "  after removing the cwd from sys.path.\n",
      "/opt/tljh/user/lib/python3.7/site-packages/ipykernel_launcher.py:7: PerformanceWarning: indexing past lexsort depth may impact performance.\n",
      "  import sys\n"
     ]
    }
   ],
   "source": [
    "rankings = {}\n",
    "dt = target.set_index(['days_to_subtract2','Year','direct_thres','spread_thres','weight_indirect','range','Method'])\n",
    "for index in dt.index:\n",
    "    rankings[index] = dt.loc[index].iloc[0]['rankings2']\n",
    "dt = target.set_index(['days_to_subtract1','Year','direct_thres','spread_thres','weight_indirect','range','Method'])\n",
    "for index in dt.index:\n",
    "    rankings[index] = dt.loc[index].iloc[0]['rankings1']"
   ]
  },
  {
   "cell_type": "code",
   "execution_count": 26,
   "metadata": {},
   "outputs": [],
   "source": [
    "rankings_df = pd.DataFrame(rankings).T"
   ]
  },
  {
   "cell_type": "markdown",
   "metadata": {},
   "source": [
    "### Compute the features"
   ]
  },
  {
   "cell_type": "code",
   "execution_count": 30,
   "metadata": {},
   "outputs": [],
   "source": [
    "feature_columns = [\"delta_lop\",\"delta_hillside\",\"nfrac_xstar_lop\",\"nfrac_xstar_hillside\",\"diameter_lop\",\"diameter_hillside\"]\n",
    "\n",
    "def compute_features(D,rankings,top_k):\n",
    "    top_teams = list(rankings.sort_values().index[:top_k])\n",
    "    D = D.loc[top_teams,top_teams]\n",
    "    delta_lop,details_lop = pyrankability.rank.solve(D.fillna(0),method='lop',cont=True)\n",
    "\n",
    "    x = pd.DataFrame(details_lop['x'],index=D.index,columns=D.columns)\n",
    "    r = x.sum(axis=0)\n",
    "    order = np.argsort(r)\n",
    "    xstar = x.iloc[order,:].iloc[:,order]\n",
    "    xstar.loc[:,:] = pyrankability.common.threshold_x(xstar.values)\n",
    "    inxs = np.triu_indices(len(xstar),k=1)\n",
    "    xstar_upper = xstar.values[inxs[0],inxs[1]]\n",
    "    nfrac_upper_lop = sum((xstar_upper > 0) & (xstar_upper < 1))\n",
    "    \n",
    "    top_teams = xstar.columns[:top_k]\n",
    "    \n",
    "    k_two_distant,details_two_distant = pyrankability.search.solve_pair(D.fillna(0),method='lop',minimize=False,verbose=False)\n",
    "    d_lop = k_two_distant#details_two_distant['tau']\n",
    "    \n",
    "    delta_hillside,details_hillside = pyrankability.rank.solve(D,method='hillside',cont=True)\n",
    "    \n",
    "    x = pd.DataFrame(details_hillside['x'],index=D.index,columns=D.columns)\n",
    "    r = x.sum(axis=0)\n",
    "    order = np.argsort(r)\n",
    "    xstar = x.iloc[order,:].iloc[:,order]\n",
    "    xstar.loc[:,:] = pyrankability.common.threshold_x(xstar.values)\n",
    "    inxs = np.triu_indices(len(xstar),k=1)\n",
    "    xstar_upper = xstar.values[inxs[0],inxs[1]]\n",
    "    nfrac_upper_hillside = sum((xstar_upper > 0) & (xstar_upper < 1))\n",
    "    \n",
    "    top_teams = xstar.columns[:top_k]\n",
    "    \n",
    "    k_two_distant,details_two_distant = pyrankability.search.solve_pair(D,method='hillside',minimize=False,verbose=False)\n",
    "    d_hillside = k_two_distant#details_two_distant['tau']\n",
    "    \n",
    "    features = pd.Series([delta_lop,delta_hillside,2*nfrac_upper_lop,2*nfrac_upper_hillside,d_lop,d_hillside],index=feature_columns)\n",
    "\n",
    "    return features"
   ]
  },
  {
   "cell_type": "code",
   "execution_count": 35,
   "metadata": {},
   "outputs": [],
   "source": [
    "def create_features(Ds,rankings_df,top_k):\n",
    "    index_cols = list(Ds.index.names)+[\"Construction\"]\n",
    "    X = pd.DataFrame(columns=index_cols + feature_columns)\n",
    "    X.set_index(index_cols,inplace=True)\n",
    "    #target = target.set_index(['days_to_subtract2','Year','direct_thres','spread_thres','weight_indirect','range','Method'])\n",
    "    for index,row in tqdm(Ds.iterrows()):\n",
    "        sum_D = None\n",
    "        year,days_to_subtract_key,dt,st,iw,ran,method = index\n",
    "        days_to_subtract = int(days_to_subtract_key.split(\"=\")[1])\n",
    "        print(days_to_subtract,year,dt,st,iw,ran,method)\n",
    "        rankings = rankings_df.loc[days_to_subtract,year,dt,st,iw,ran,method].dropna() #spec_best_pred_df = best_pred_df.set_index(['Year','days_to_subtract_key',\"Method\"]).loc[[(year,days_to_subtract_key,method)]]\n",
    "        for i,D in enumerate(Ds.loc[(year,days_to_subtract_key,dt,st,iw,ran,method),\"D\"]):\n",
    "            if sum_D is None:\n",
    "                sum_D = D\n",
    "            else:\n",
    "                sum_D = sum_D.add(iw*D,fill_value=0)\n",
    "            if i == 0:\n",
    "                construction = \"Direct\"\n",
    "            elif i == 1:\n",
    "                construction = \"Indirect\"\n",
    "            else:\n",
    "                raise Exception(\"Error\")\n",
    "            features = compute_features(D,rankings,top_k)\n",
    "            features.name = tuple(list(index)+[construction])\n",
    "            X = X.append(features)\n",
    "            \n",
    "            if i == 1:\n",
    "                construction = \"Both\"\n",
    "                features = compute_features(sum_D,rankings,top_k)\n",
    "                features.name = tuple(list(index)+[construction])\n",
    "                X = X.append(features)\n",
    "    return X"
   ]
  },
  {
   "cell_type": "code",
   "execution_count": 36,
   "metadata": {},
   "outputs": [
    {
     "name": "stderr",
     "output_type": "stream",
     "text": [
      "\r",
      "0it [00:00, ?it/s]"
     ]
    },
    {
     "name": "stdout",
     "output_type": "stream",
     "text": [
      "35 2002 0 0 0.1 madness Colley\n",
      "Restricted license - for non-production use only - expires 2022-01-13\n"
     ]
    },
    {
     "name": "stderr",
     "output_type": "stream",
     "text": [
      "\r",
      "1it [00:00,  3.18it/s]"
     ]
    },
    {
     "name": "stdout",
     "output_type": "stream",
     "text": [
      "35 2002 0 0 0.1 madness Massey\n"
     ]
    },
    {
     "name": "stderr",
     "output_type": "stream",
     "text": [
      "\r",
      "2it [00:00,  3.40it/s]"
     ]
    },
    {
     "name": "stdout",
     "output_type": "stream",
     "text": [
      "35 2003 0 0 0.1 madness Colley\n"
     ]
    },
    {
     "name": "stderr",
     "output_type": "stream",
     "text": [
      "\r",
      "3it [00:00,  3.59it/s]"
     ]
    },
    {
     "name": "stdout",
     "output_type": "stream",
     "text": [
      "35 2003 0 0 0.1 madness Massey\n"
     ]
    },
    {
     "name": "stderr",
     "output_type": "stream",
     "text": [
      "\r",
      "4it [00:01,  3.71it/s]"
     ]
    },
    {
     "name": "stdout",
     "output_type": "stream",
     "text": [
      "35 2004 0 0 0.1 madness Colley\n"
     ]
    },
    {
     "name": "stderr",
     "output_type": "stream",
     "text": [
      "\r",
      "5it [00:01,  3.81it/s]"
     ]
    },
    {
     "name": "stdout",
     "output_type": "stream",
     "text": [
      "35 2004 0 0 0.1 madness Massey\n"
     ]
    },
    {
     "name": "stderr",
     "output_type": "stream",
     "text": [
      "\r",
      "6it [00:01,  3.88it/s]"
     ]
    },
    {
     "name": "stdout",
     "output_type": "stream",
     "text": [
      "35 2005 0 0 0.1 madness Colley\n"
     ]
    },
    {
     "name": "stderr",
     "output_type": "stream",
     "text": [
      "\r",
      "7it [00:01,  3.94it/s]"
     ]
    },
    {
     "name": "stdout",
     "output_type": "stream",
     "text": [
      "35 2005 0 0 0.1 madness Massey\n"
     ]
    },
    {
     "name": "stderr",
     "output_type": "stream",
     "text": [
      "\r",
      "8it [00:02,  3.98it/s]"
     ]
    },
    {
     "name": "stdout",
     "output_type": "stream",
     "text": [
      "35 2006 0 0 0.1 madness Colley\n"
     ]
    },
    {
     "name": "stderr",
     "output_type": "stream",
     "text": [
      "\r",
      "9it [00:02,  3.89it/s]"
     ]
    },
    {
     "name": "stdout",
     "output_type": "stream",
     "text": [
      "35 2006 0 0 0.1 madness Massey\n"
     ]
    },
    {
     "name": "stderr",
     "output_type": "stream",
     "text": [
      "\r",
      "10it [00:02,  3.95it/s]"
     ]
    },
    {
     "name": "stdout",
     "output_type": "stream",
     "text": [
      "35 2007 0 0 0.1 madness Colley\n"
     ]
    },
    {
     "name": "stderr",
     "output_type": "stream",
     "text": [
      "\r",
      "11it [00:02,  3.95it/s]"
     ]
    },
    {
     "name": "stdout",
     "output_type": "stream",
     "text": [
      "35 2007 0 0 0.1 madness Massey\n"
     ]
    },
    {
     "name": "stderr",
     "output_type": "stream",
     "text": [
      "\r",
      "12it [00:03,  3.98it/s]"
     ]
    },
    {
     "name": "stdout",
     "output_type": "stream",
     "text": [
      "35 2008 0 0 0.1 madness Colley\n"
     ]
    },
    {
     "name": "stderr",
     "output_type": "stream",
     "text": [
      "\r",
      "13it [00:03,  3.89it/s]"
     ]
    },
    {
     "name": "stdout",
     "output_type": "stream",
     "text": [
      "35 2008 0 0 0.1 madness Massey\n"
     ]
    },
    {
     "name": "stderr",
     "output_type": "stream",
     "text": [
      "\r",
      "14it [00:03,  3.94it/s]"
     ]
    },
    {
     "name": "stdout",
     "output_type": "stream",
     "text": [
      "35 2009 0 0 0.1 madness Colley\n"
     ]
    },
    {
     "name": "stderr",
     "output_type": "stream",
     "text": [
      "\r",
      "15it [00:03,  3.98it/s]"
     ]
    },
    {
     "name": "stdout",
     "output_type": "stream",
     "text": [
      "35 2009 0 0 0.1 madness Massey\n"
     ]
    },
    {
     "name": "stderr",
     "output_type": "stream",
     "text": [
      "\r",
      "16it [00:04,  4.01it/s]"
     ]
    },
    {
     "name": "stdout",
     "output_type": "stream",
     "text": [
      "35 2010 0 0 0.1 madness Colley\n"
     ]
    },
    {
     "name": "stderr",
     "output_type": "stream",
     "text": [
      "\r",
      "17it [00:04,  3.98it/s]"
     ]
    },
    {
     "name": "stdout",
     "output_type": "stream",
     "text": [
      "35 2010 0 0 0.1 madness Massey\n"
     ]
    },
    {
     "name": "stderr",
     "output_type": "stream",
     "text": [
      "\r",
      "18it [00:04,  3.98it/s]"
     ]
    },
    {
     "name": "stdout",
     "output_type": "stream",
     "text": [
      "35 2011 0 0 0.1 madness Colley\n"
     ]
    },
    {
     "name": "stderr",
     "output_type": "stream",
     "text": [
      "\r",
      "19it [00:04,  3.99it/s]"
     ]
    },
    {
     "name": "stdout",
     "output_type": "stream",
     "text": [
      "35 2011 0 0 0.1 madness Massey\n"
     ]
    },
    {
     "name": "stderr",
     "output_type": "stream",
     "text": [
      "\r",
      "20it [00:05,  4.03it/s]"
     ]
    },
    {
     "name": "stdout",
     "output_type": "stream",
     "text": [
      "35 2012 0 0 0.1 madness Colley\n"
     ]
    },
    {
     "name": "stderr",
     "output_type": "stream",
     "text": [
      "\r",
      "21it [00:05,  3.76it/s]"
     ]
    },
    {
     "name": "stdout",
     "output_type": "stream",
     "text": [
      "35 2012 0 0 0.1 madness Massey\n"
     ]
    },
    {
     "name": "stderr",
     "output_type": "stream",
     "text": [
      "\r",
      "22it [00:05,  3.76it/s]"
     ]
    },
    {
     "name": "stdout",
     "output_type": "stream",
     "text": [
      "35 2013 0 0 0.1 madness Colley\n"
     ]
    },
    {
     "name": "stderr",
     "output_type": "stream",
     "text": [
      "\r",
      "23it [00:05,  3.75it/s]"
     ]
    },
    {
     "name": "stdout",
     "output_type": "stream",
     "text": [
      "35 2013 0 0 0.1 madness Massey\n"
     ]
    },
    {
     "name": "stderr",
     "output_type": "stream",
     "text": [
      "\r",
      "24it [00:06,  3.73it/s]"
     ]
    },
    {
     "name": "stdout",
     "output_type": "stream",
     "text": [
      "35 2014 0 0 0.1 madness Colley\n"
     ]
    },
    {
     "name": "stderr",
     "output_type": "stream",
     "text": [
      "\r",
      "25it [00:06,  3.73it/s]"
     ]
    },
    {
     "name": "stdout",
     "output_type": "stream",
     "text": [
      "35 2014 0 0 0.1 madness Massey\n"
     ]
    },
    {
     "name": "stderr",
     "output_type": "stream",
     "text": [
      "\r",
      "26it [00:06,  3.78it/s]"
     ]
    },
    {
     "name": "stdout",
     "output_type": "stream",
     "text": [
      "35 2015 0 0 0.1 madness Colley\n"
     ]
    },
    {
     "name": "stderr",
     "output_type": "stream",
     "text": [
      "\r",
      "27it [00:06,  3.75it/s]"
     ]
    },
    {
     "name": "stdout",
     "output_type": "stream",
     "text": [
      "35 2015 0 0 0.1 madness Massey\n"
     ]
    },
    {
     "name": "stderr",
     "output_type": "stream",
     "text": [
      "\r",
      "28it [00:07,  3.79it/s]"
     ]
    },
    {
     "name": "stdout",
     "output_type": "stream",
     "text": [
      "35 2016 0 0 0.1 madness Colley\n"
     ]
    },
    {
     "name": "stderr",
     "output_type": "stream",
     "text": [
      "\r",
      "29it [00:07,  3.68it/s]"
     ]
    },
    {
     "name": "stdout",
     "output_type": "stream",
     "text": [
      "35 2016 0 0 0.1 madness Massey\n"
     ]
    },
    {
     "name": "stderr",
     "output_type": "stream",
     "text": [
      "\r",
      "30it [00:07,  3.68it/s]"
     ]
    },
    {
     "name": "stdout",
     "output_type": "stream",
     "text": [
      "35 2017 0 0 0.1 madness Colley\n"
     ]
    },
    {
     "name": "stderr",
     "output_type": "stream",
     "text": [
      "\r",
      "31it [00:08,  3.73it/s]"
     ]
    },
    {
     "name": "stdout",
     "output_type": "stream",
     "text": [
      "35 2017 0 0 0.1 madness Massey\n"
     ]
    },
    {
     "name": "stderr",
     "output_type": "stream",
     "text": [
      "\r",
      "32it [00:08,  3.49it/s]"
     ]
    },
    {
     "name": "stdout",
     "output_type": "stream",
     "text": [
      "35 2018 0 0 0.1 madness Colley\n"
     ]
    },
    {
     "name": "stderr",
     "output_type": "stream",
     "text": [
      "\r",
      "33it [00:08,  3.59it/s]"
     ]
    },
    {
     "name": "stdout",
     "output_type": "stream",
     "text": [
      "35 2018 0 0 0.1 madness Massey\n"
     ]
    },
    {
     "name": "stderr",
     "output_type": "stream",
     "text": [
      "\r",
      "34it [00:08,  3.71it/s]"
     ]
    },
    {
     "name": "stdout",
     "output_type": "stream",
     "text": [
      "28 2002 0 0 0.1 madness Colley\n"
     ]
    },
    {
     "name": "stderr",
     "output_type": "stream",
     "text": [
      "\r",
      "35it [00:09,  3.73it/s]"
     ]
    },
    {
     "name": "stdout",
     "output_type": "stream",
     "text": [
      "28 2002 0 0 0.1 madness Massey\n"
     ]
    },
    {
     "name": "stderr",
     "output_type": "stream",
     "text": [
      "\r",
      "36it [00:09,  3.83it/s]"
     ]
    },
    {
     "name": "stdout",
     "output_type": "stream",
     "text": [
      "28 2003 0 0 0.1 madness Colley\n"
     ]
    },
    {
     "name": "stderr",
     "output_type": "stream",
     "text": [
      "\r",
      "37it [00:09,  3.77it/s]"
     ]
    },
    {
     "name": "stdout",
     "output_type": "stream",
     "text": [
      "28 2003 0 0 0.1 madness Massey\n"
     ]
    },
    {
     "name": "stderr",
     "output_type": "stream",
     "text": [
      "\r",
      "38it [00:09,  3.84it/s]"
     ]
    },
    {
     "name": "stdout",
     "output_type": "stream",
     "text": [
      "28 2004 0 0 0.1 madness Colley\n"
     ]
    },
    {
     "name": "stderr",
     "output_type": "stream",
     "text": [
      "\r",
      "39it [00:10,  3.88it/s]"
     ]
    },
    {
     "name": "stdout",
     "output_type": "stream",
     "text": [
      "28 2004 0 0 0.1 madness Massey\n"
     ]
    },
    {
     "name": "stderr",
     "output_type": "stream",
     "text": [
      "\r",
      "40it [00:10,  3.92it/s]"
     ]
    },
    {
     "name": "stdout",
     "output_type": "stream",
     "text": [
      "28 2005 0 0 0.1 madness Colley\n"
     ]
    },
    {
     "name": "stderr",
     "output_type": "stream",
     "text": [
      "\r",
      "41it [00:10,  3.96it/s]"
     ]
    },
    {
     "name": "stdout",
     "output_type": "stream",
     "text": [
      "28 2005 0 0 0.1 madness Massey\n"
     ]
    },
    {
     "name": "stderr",
     "output_type": "stream",
     "text": [
      "\r",
      "42it [00:10,  3.99it/s]"
     ]
    },
    {
     "name": "stdout",
     "output_type": "stream",
     "text": [
      "28 2006 0 0 0.1 madness Colley\n"
     ]
    },
    {
     "name": "stderr",
     "output_type": "stream",
     "text": [
      "\r",
      "43it [00:11,  3.90it/s]"
     ]
    },
    {
     "name": "stdout",
     "output_type": "stream",
     "text": [
      "28 2006 0 0 0.1 madness Massey\n"
     ]
    },
    {
     "name": "stderr",
     "output_type": "stream",
     "text": [
      "\r",
      "44it [00:11,  3.80it/s]"
     ]
    },
    {
     "name": "stdout",
     "output_type": "stream",
     "text": [
      "28 2007 0 0 0.1 madness Colley\n"
     ]
    },
    {
     "name": "stderr",
     "output_type": "stream",
     "text": [
      "\r",
      "45it [00:11,  3.85it/s]"
     ]
    },
    {
     "name": "stdout",
     "output_type": "stream",
     "text": [
      "28 2007 0 0 0.1 madness Massey\n"
     ]
    },
    {
     "name": "stderr",
     "output_type": "stream",
     "text": [
      "\r",
      "46it [00:11,  3.89it/s]"
     ]
    },
    {
     "name": "stdout",
     "output_type": "stream",
     "text": [
      "28 2008 0 0 0.1 madness Colley\n"
     ]
    },
    {
     "name": "stderr",
     "output_type": "stream",
     "text": [
      "\r",
      "47it [00:12,  3.86it/s]"
     ]
    },
    {
     "name": "stdout",
     "output_type": "stream",
     "text": [
      "28 2008 0 0 0.1 madness Massey\n"
     ]
    },
    {
     "name": "stderr",
     "output_type": "stream",
     "text": [
      "\r",
      "48it [00:12,  3.76it/s]"
     ]
    },
    {
     "name": "stdout",
     "output_type": "stream",
     "text": [
      "28 2009 0 0 0.1 madness Colley\n"
     ]
    },
    {
     "name": "stderr",
     "output_type": "stream",
     "text": [
      "\r",
      "49it [00:12,  3.84it/s]"
     ]
    },
    {
     "name": "stdout",
     "output_type": "stream",
     "text": [
      "28 2009 0 0 0.1 madness Massey\n"
     ]
    },
    {
     "name": "stderr",
     "output_type": "stream",
     "text": [
      "\r",
      "50it [00:13,  3.84it/s]"
     ]
    },
    {
     "name": "stdout",
     "output_type": "stream",
     "text": [
      "28 2010 0 0 0.1 madness Colley\n"
     ]
    },
    {
     "name": "stderr",
     "output_type": "stream",
     "text": [
      "\r",
      "51it [00:13,  3.79it/s]"
     ]
    },
    {
     "name": "stdout",
     "output_type": "stream",
     "text": [
      "28 2010 0 0 0.1 madness Massey\n"
     ]
    },
    {
     "name": "stderr",
     "output_type": "stream",
     "text": [
      "\r",
      "52it [00:13,  3.76it/s]"
     ]
    },
    {
     "name": "stdout",
     "output_type": "stream",
     "text": [
      "28 2011 0 0 0.1 madness Colley\n"
     ]
    },
    {
     "name": "stderr",
     "output_type": "stream",
     "text": [
      "\r",
      "53it [00:13,  3.81it/s]"
     ]
    },
    {
     "name": "stdout",
     "output_type": "stream",
     "text": [
      "28 2011 0 0 0.1 madness Massey\n"
     ]
    },
    {
     "name": "stderr",
     "output_type": "stream",
     "text": [
      "\r",
      "54it [00:14,  3.82it/s]"
     ]
    },
    {
     "name": "stdout",
     "output_type": "stream",
     "text": [
      "28 2012 0 0 0.1 madness Colley\n"
     ]
    },
    {
     "name": "stderr",
     "output_type": "stream",
     "text": [
      "\r",
      "55it [00:14,  3.84it/s]"
     ]
    },
    {
     "name": "stdout",
     "output_type": "stream",
     "text": [
      "28 2012 0 0 0.1 madness Massey\n"
     ]
    },
    {
     "name": "stderr",
     "output_type": "stream",
     "text": [
      "\r",
      "56it [00:14,  3.83it/s]"
     ]
    },
    {
     "name": "stdout",
     "output_type": "stream",
     "text": [
      "28 2013 0 0 0.1 madness Colley\n"
     ]
    },
    {
     "name": "stderr",
     "output_type": "stream",
     "text": [
      "\r",
      "57it [00:14,  3.70it/s]"
     ]
    },
    {
     "name": "stdout",
     "output_type": "stream",
     "text": [
      "28 2013 0 0 0.1 madness Massey\n"
     ]
    },
    {
     "name": "stderr",
     "output_type": "stream",
     "text": [
      "\r",
      "58it [00:15,  3.71it/s]"
     ]
    },
    {
     "name": "stdout",
     "output_type": "stream",
     "text": [
      "28 2014 0 0 0.1 madness Colley\n"
     ]
    },
    {
     "name": "stderr",
     "output_type": "stream",
     "text": [
      "\r",
      "59it [00:15,  3.72it/s]"
     ]
    },
    {
     "name": "stdout",
     "output_type": "stream",
     "text": [
      "28 2014 0 0 0.1 madness Massey\n"
     ]
    },
    {
     "name": "stderr",
     "output_type": "stream",
     "text": [
      "\r",
      "60it [00:15,  3.79it/s]"
     ]
    },
    {
     "name": "stdout",
     "output_type": "stream",
     "text": [
      "28 2015 0 0 0.1 madness Colley\n"
     ]
    },
    {
     "name": "stderr",
     "output_type": "stream",
     "text": [
      "\r",
      "61it [00:15,  3.60it/s]"
     ]
    },
    {
     "name": "stdout",
     "output_type": "stream",
     "text": [
      "28 2015 0 0 0.1 madness Massey\n"
     ]
    },
    {
     "name": "stderr",
     "output_type": "stream",
     "text": [
      "\r",
      "62it [00:16,  3.70it/s]"
     ]
    },
    {
     "name": "stdout",
     "output_type": "stream",
     "text": [
      "28 2016 0 0 0.1 madness Colley\n"
     ]
    },
    {
     "name": "stderr",
     "output_type": "stream",
     "text": [
      "\r",
      "63it [00:16,  3.72it/s]"
     ]
    },
    {
     "name": "stdout",
     "output_type": "stream",
     "text": [
      "28 2016 0 0 0.1 madness Massey\n"
     ]
    },
    {
     "name": "stderr",
     "output_type": "stream",
     "text": [
      "\r",
      "64it [00:16,  3.68it/s]"
     ]
    },
    {
     "name": "stdout",
     "output_type": "stream",
     "text": [
      "28 2017 0 0 0.1 madness Colley\n"
     ]
    },
    {
     "name": "stderr",
     "output_type": "stream",
     "text": [
      "\r",
      "65it [00:17,  3.75it/s]"
     ]
    },
    {
     "name": "stdout",
     "output_type": "stream",
     "text": [
      "28 2017 0 0 0.1 madness Massey\n"
     ]
    },
    {
     "name": "stderr",
     "output_type": "stream",
     "text": [
      "\r",
      "66it [00:17,  3.79it/s]"
     ]
    },
    {
     "name": "stdout",
     "output_type": "stream",
     "text": [
      "28 2018 0 0 0.1 madness Colley\n"
     ]
    },
    {
     "name": "stderr",
     "output_type": "stream",
     "text": [
      "\r",
      "67it [00:17,  3.82it/s]"
     ]
    },
    {
     "name": "stdout",
     "output_type": "stream",
     "text": [
      "28 2018 0 0 0.1 madness Massey\n"
     ]
    },
    {
     "name": "stderr",
     "output_type": "stream",
     "text": [
      "\r",
      "68it [00:17,  3.80it/s]"
     ]
    },
    {
     "name": "stdout",
     "output_type": "stream",
     "text": [
      "21 2002 0 0 0.1 madness Colley\n"
     ]
    },
    {
     "name": "stderr",
     "output_type": "stream",
     "text": [
      "\r",
      "69it [00:18,  3.81it/s]"
     ]
    },
    {
     "name": "stdout",
     "output_type": "stream",
     "text": [
      "21 2002 0 0 0.1 madness Massey\n"
     ]
    },
    {
     "name": "stderr",
     "output_type": "stream",
     "text": [
      "\r",
      "70it [00:18,  3.82it/s]"
     ]
    },
    {
     "name": "stdout",
     "output_type": "stream",
     "text": [
      "21 2003 0 0 0.1 madness Colley\n"
     ]
    },
    {
     "name": "stderr",
     "output_type": "stream",
     "text": [
      "\r",
      "71it [00:18,  3.77it/s]"
     ]
    },
    {
     "name": "stdout",
     "output_type": "stream",
     "text": [
      "21 2003 0 0 0.1 madness Massey\n"
     ]
    },
    {
     "name": "stderr",
     "output_type": "stream",
     "text": [
      "\r",
      "72it [00:18,  3.76it/s]"
     ]
    },
    {
     "name": "stdout",
     "output_type": "stream",
     "text": [
      "21 2004 0 0 0.1 madness Colley\n"
     ]
    },
    {
     "name": "stderr",
     "output_type": "stream",
     "text": [
      "\r",
      "73it [00:19,  3.81it/s]"
     ]
    },
    {
     "name": "stdout",
     "output_type": "stream",
     "text": [
      "21 2004 0 0 0.1 madness Massey\n"
     ]
    },
    {
     "name": "stderr",
     "output_type": "stream",
     "text": [
      "\r",
      "74it [00:19,  3.82it/s]"
     ]
    },
    {
     "name": "stdout",
     "output_type": "stream",
     "text": [
      "21 2005 0 0 0.1 madness Colley\n"
     ]
    },
    {
     "name": "stderr",
     "output_type": "stream",
     "text": [
      "\r",
      "75it [00:19,  3.67it/s]"
     ]
    },
    {
     "name": "stdout",
     "output_type": "stream",
     "text": [
      "21 2005 0 0 0.1 madness Massey\n"
     ]
    },
    {
     "name": "stderr",
     "output_type": "stream",
     "text": [
      "\r",
      "76it [00:19,  3.75it/s]"
     ]
    },
    {
     "name": "stdout",
     "output_type": "stream",
     "text": [
      "21 2006 0 0 0.1 madness Colley\n"
     ]
    },
    {
     "name": "stderr",
     "output_type": "stream",
     "text": [
      "\r",
      "77it [00:20,  3.75it/s]"
     ]
    },
    {
     "name": "stdout",
     "output_type": "stream",
     "text": [
      "21 2006 0 0 0.1 madness Massey\n"
     ]
    },
    {
     "name": "stderr",
     "output_type": "stream",
     "text": [
      "\r",
      "78it [00:20,  3.79it/s]"
     ]
    },
    {
     "name": "stdout",
     "output_type": "stream",
     "text": [
      "21 2007 0 0 0.1 madness Colley\n"
     ]
    },
    {
     "name": "stderr",
     "output_type": "stream",
     "text": [
      "\r",
      "79it [00:20,  3.79it/s]"
     ]
    },
    {
     "name": "stdout",
     "output_type": "stream",
     "text": [
      "21 2007 0 0 0.1 madness Massey\n"
     ]
    },
    {
     "name": "stderr",
     "output_type": "stream",
     "text": [
      "\r",
      "80it [00:20,  3.87it/s]"
     ]
    },
    {
     "name": "stdout",
     "output_type": "stream",
     "text": [
      "21 2008 0 0 0.1 madness Colley\n"
     ]
    },
    {
     "name": "stderr",
     "output_type": "stream",
     "text": [
      "\r",
      "81it [00:21,  3.82it/s]"
     ]
    },
    {
     "name": "stdout",
     "output_type": "stream",
     "text": [
      "21 2008 0 0 0.1 madness Massey\n"
     ]
    },
    {
     "name": "stderr",
     "output_type": "stream",
     "text": [
      "\r",
      "82it [00:21,  3.90it/s]"
     ]
    },
    {
     "name": "stdout",
     "output_type": "stream",
     "text": [
      "21 2009 0 0 0.1 madness Colley\n"
     ]
    },
    {
     "name": "stderr",
     "output_type": "stream",
     "text": [
      "\r",
      "83it [00:21,  3.85it/s]"
     ]
    },
    {
     "name": "stdout",
     "output_type": "stream",
     "text": [
      "21 2009 0 0 0.1 madness Massey\n"
     ]
    },
    {
     "name": "stderr",
     "output_type": "stream",
     "text": [
      "\r",
      "84it [00:21,  3.92it/s]"
     ]
    },
    {
     "name": "stdout",
     "output_type": "stream",
     "text": [
      "21 2010 0 0 0.1 madness Colley\n"
     ]
    },
    {
     "name": "stderr",
     "output_type": "stream",
     "text": [
      "\r",
      "85it [00:22,  3.97it/s]"
     ]
    },
    {
     "name": "stdout",
     "output_type": "stream",
     "text": [
      "21 2010 0 0 0.1 madness Massey\n"
     ]
    },
    {
     "name": "stderr",
     "output_type": "stream",
     "text": [
      "\r",
      "86it [00:22,  3.99it/s]"
     ]
    },
    {
     "name": "stdout",
     "output_type": "stream",
     "text": [
      "21 2011 0 0 0.1 madness Colley\n"
     ]
    },
    {
     "name": "stderr",
     "output_type": "stream",
     "text": [
      "\r",
      "87it [00:22,  3.94it/s]"
     ]
    },
    {
     "name": "stdout",
     "output_type": "stream",
     "text": [
      "21 2011 0 0 0.1 madness Massey\n"
     ]
    },
    {
     "name": "stderr",
     "output_type": "stream",
     "text": [
      "\r",
      "88it [00:23,  3.96it/s]"
     ]
    },
    {
     "name": "stdout",
     "output_type": "stream",
     "text": [
      "21 2012 0 0 0.1 madness Colley\n"
     ]
    },
    {
     "name": "stderr",
     "output_type": "stream",
     "text": [
      "\r",
      "89it [00:23,  3.96it/s]"
     ]
    },
    {
     "name": "stdout",
     "output_type": "stream",
     "text": [
      "21 2012 0 0 0.1 madness Massey\n"
     ]
    },
    {
     "name": "stderr",
     "output_type": "stream",
     "text": [
      "\r",
      "90it [00:23,  3.98it/s]"
     ]
    },
    {
     "name": "stdout",
     "output_type": "stream",
     "text": [
      "21 2013 0 0 0.1 madness Colley\n"
     ]
    },
    {
     "name": "stderr",
     "output_type": "stream",
     "text": [
      "\r",
      "91it [00:23,  3.83it/s]"
     ]
    },
    {
     "name": "stdout",
     "output_type": "stream",
     "text": [
      "21 2013 0 0 0.1 madness Massey\n"
     ]
    },
    {
     "name": "stderr",
     "output_type": "stream",
     "text": [
      "\r",
      "92it [00:24,  3.81it/s]"
     ]
    },
    {
     "name": "stdout",
     "output_type": "stream",
     "text": [
      "21 2014 0 0 0.1 madness Colley\n"
     ]
    },
    {
     "name": "stderr",
     "output_type": "stream",
     "text": [
      "\r",
      "93it [00:24,  3.84it/s]"
     ]
    },
    {
     "name": "stdout",
     "output_type": "stream",
     "text": [
      "21 2014 0 0 0.1 madness Massey\n"
     ]
    },
    {
     "name": "stderr",
     "output_type": "stream",
     "text": [
      "\r",
      "94it [00:24,  3.92it/s]"
     ]
    },
    {
     "name": "stdout",
     "output_type": "stream",
     "text": [
      "21 2015 0 0 0.1 madness Colley\n"
     ]
    },
    {
     "name": "stderr",
     "output_type": "stream",
     "text": [
      "\r",
      "95it [00:24,  3.87it/s]"
     ]
    },
    {
     "name": "stdout",
     "output_type": "stream",
     "text": [
      "21 2015 0 0 0.1 madness Massey\n"
     ]
    },
    {
     "name": "stderr",
     "output_type": "stream",
     "text": [
      "\r",
      "96it [00:25,  3.93it/s]"
     ]
    },
    {
     "name": "stdout",
     "output_type": "stream",
     "text": [
      "21 2016 0 0 0.1 madness Colley\n"
     ]
    },
    {
     "name": "stderr",
     "output_type": "stream",
     "text": [
      "\r",
      "97it [00:25,  3.92it/s]"
     ]
    },
    {
     "name": "stdout",
     "output_type": "stream",
     "text": [
      "21 2016 0 0 0.1 madness Massey\n"
     ]
    },
    {
     "name": "stderr",
     "output_type": "stream",
     "text": [
      "\r",
      "98it [00:25,  3.87it/s]"
     ]
    },
    {
     "name": "stdout",
     "output_type": "stream",
     "text": [
      "21 2017 0 0 0.1 madness Colley\n"
     ]
    },
    {
     "name": "stderr",
     "output_type": "stream",
     "text": [
      "\r",
      "99it [00:25,  3.91it/s]"
     ]
    },
    {
     "name": "stdout",
     "output_type": "stream",
     "text": [
      "21 2017 0 0 0.1 madness Massey\n"
     ]
    },
    {
     "name": "stderr",
     "output_type": "stream",
     "text": [
      "\r",
      "100it [00:26,  3.92it/s]"
     ]
    },
    {
     "name": "stdout",
     "output_type": "stream",
     "text": [
      "21 2018 0 0 0.1 madness Colley\n"
     ]
    },
    {
     "name": "stderr",
     "output_type": "stream",
     "text": [
      "\r",
      "101it [00:26,  3.87it/s]"
     ]
    },
    {
     "name": "stdout",
     "output_type": "stream",
     "text": [
      "21 2018 0 0 0.1 madness Massey\n"
     ]
    },
    {
     "name": "stderr",
     "output_type": "stream",
     "text": [
      "\r",
      "102it [00:26,  3.85it/s]"
     ]
    },
    {
     "name": "stdout",
     "output_type": "stream",
     "text": [
      "14 2002 0 0 0.1 madness Colley\n"
     ]
    },
    {
     "name": "stderr",
     "output_type": "stream",
     "text": [
      "\r",
      "103it [00:26,  3.81it/s]"
     ]
    },
    {
     "name": "stdout",
     "output_type": "stream",
     "text": [
      "14 2002 0 0 0.1 madness Massey\n"
     ]
    },
    {
     "name": "stderr",
     "output_type": "stream",
     "text": [
      "\r",
      "104it [00:27,  3.87it/s]"
     ]
    },
    {
     "name": "stdout",
     "output_type": "stream",
     "text": [
      "14 2003 0 0 0.1 madness Colley\n"
     ]
    },
    {
     "name": "stderr",
     "output_type": "stream",
     "text": [
      "\r",
      "105it [00:27,  3.91it/s]"
     ]
    },
    {
     "name": "stdout",
     "output_type": "stream",
     "text": [
      "14 2003 0 0 0.1 madness Massey\n"
     ]
    },
    {
     "name": "stderr",
     "output_type": "stream",
     "text": [
      "\r",
      "106it [00:27,  3.95it/s]"
     ]
    },
    {
     "name": "stdout",
     "output_type": "stream",
     "text": [
      "14 2004 0 0 0.1 madness Colley\n"
     ]
    },
    {
     "name": "stderr",
     "output_type": "stream",
     "text": [
      "\r",
      "107it [00:27,  3.97it/s]"
     ]
    },
    {
     "name": "stdout",
     "output_type": "stream",
     "text": [
      "14 2004 0 0 0.1 madness Massey\n"
     ]
    },
    {
     "name": "stderr",
     "output_type": "stream",
     "text": [
      "\r",
      "108it [00:28,  3.98it/s]"
     ]
    },
    {
     "name": "stdout",
     "output_type": "stream",
     "text": [
      "14 2005 0 0 0.1 madness Colley\n"
     ]
    },
    {
     "name": "stderr",
     "output_type": "stream",
     "text": [
      "\r",
      "109it [00:28,  3.97it/s]"
     ]
    },
    {
     "name": "stdout",
     "output_type": "stream",
     "text": [
      "14 2005 0 0 0.1 madness Massey\n"
     ]
    },
    {
     "name": "stderr",
     "output_type": "stream",
     "text": [
      "\r",
      "110it [00:28,  3.97it/s]"
     ]
    },
    {
     "name": "stdout",
     "output_type": "stream",
     "text": [
      "14 2006 0 0 0.1 madness Colley\n"
     ]
    },
    {
     "name": "stderr",
     "output_type": "stream",
     "text": [
      "\r",
      "111it [00:28,  3.79it/s]"
     ]
    },
    {
     "name": "stdout",
     "output_type": "stream",
     "text": [
      "14 2006 0 0 0.1 madness Massey\n"
     ]
    },
    {
     "name": "stderr",
     "output_type": "stream",
     "text": [
      "\r",
      "112it [00:29,  3.75it/s]"
     ]
    },
    {
     "name": "stdout",
     "output_type": "stream",
     "text": [
      "14 2007 0 0 0.1 madness Colley\n"
     ]
    },
    {
     "name": "stderr",
     "output_type": "stream",
     "text": [
      "\r",
      "113it [00:29,  3.78it/s]"
     ]
    },
    {
     "name": "stdout",
     "output_type": "stream",
     "text": [
      "14 2007 0 0 0.1 madness Massey\n"
     ]
    },
    {
     "name": "stderr",
     "output_type": "stream",
     "text": [
      "\r",
      "114it [00:29,  3.85it/s]"
     ]
    },
    {
     "name": "stdout",
     "output_type": "stream",
     "text": [
      "14 2008 0 0 0.1 madness Colley\n"
     ]
    },
    {
     "name": "stderr",
     "output_type": "stream",
     "text": [
      "\r",
      "115it [00:29,  3.83it/s]"
     ]
    },
    {
     "name": "stdout",
     "output_type": "stream",
     "text": [
      "14 2008 0 0 0.1 madness Massey\n"
     ]
    },
    {
     "name": "stderr",
     "output_type": "stream",
     "text": [
      "\r",
      "116it [00:30,  3.62it/s]"
     ]
    },
    {
     "name": "stdout",
     "output_type": "stream",
     "text": [
      "14 2009 0 0 0.1 madness Colley\n"
     ]
    },
    {
     "name": "stderr",
     "output_type": "stream",
     "text": [
      "\r",
      "117it [00:30,  3.69it/s]"
     ]
    },
    {
     "name": "stdout",
     "output_type": "stream",
     "text": [
      "14 2009 0 0 0.1 madness Massey\n"
     ]
    },
    {
     "name": "stderr",
     "output_type": "stream",
     "text": [
      "\r",
      "118it [00:30,  3.72it/s]"
     ]
    },
    {
     "name": "stdout",
     "output_type": "stream",
     "text": [
      "14 2010 0 0 0.1 madness Colley\n"
     ]
    },
    {
     "name": "stderr",
     "output_type": "stream",
     "text": [
      "\r",
      "119it [00:31,  3.77it/s]"
     ]
    },
    {
     "name": "stdout",
     "output_type": "stream",
     "text": [
      "14 2010 0 0 0.1 madness Massey\n"
     ]
    },
    {
     "name": "stderr",
     "output_type": "stream",
     "text": [
      "\r",
      "120it [00:31,  3.83it/s]"
     ]
    },
    {
     "name": "stdout",
     "output_type": "stream",
     "text": [
      "14 2011 0 0 0.1 madness Colley\n"
     ]
    },
    {
     "name": "stderr",
     "output_type": "stream",
     "text": [
      "\r",
      "121it [00:31,  3.75it/s]"
     ]
    },
    {
     "name": "stdout",
     "output_type": "stream",
     "text": [
      "14 2011 0 0 0.1 madness Massey\n"
     ]
    },
    {
     "name": "stderr",
     "output_type": "stream",
     "text": [
      "\r",
      "122it [00:31,  3.82it/s]"
     ]
    },
    {
     "name": "stdout",
     "output_type": "stream",
     "text": [
      "14 2012 0 0 0.1 madness Colley\n"
     ]
    },
    {
     "name": "stderr",
     "output_type": "stream",
     "text": [
      "\r",
      "123it [00:32,  3.84it/s]"
     ]
    },
    {
     "name": "stdout",
     "output_type": "stream",
     "text": [
      "14 2012 0 0 0.1 madness Massey\n"
     ]
    },
    {
     "name": "stderr",
     "output_type": "stream",
     "text": [
      "\r",
      "124it [00:32,  3.83it/s]"
     ]
    },
    {
     "name": "stdout",
     "output_type": "stream",
     "text": [
      "14 2013 0 0 0.1 madness Colley\n"
     ]
    },
    {
     "name": "stderr",
     "output_type": "stream",
     "text": [
      "\r",
      "125it [00:32,  3.87it/s]"
     ]
    },
    {
     "name": "stdout",
     "output_type": "stream",
     "text": [
      "14 2013 0 0 0.1 madness Massey\n"
     ]
    },
    {
     "name": "stderr",
     "output_type": "stream",
     "text": [
      "\r",
      "126it [00:32,  3.93it/s]"
     ]
    },
    {
     "name": "stdout",
     "output_type": "stream",
     "text": [
      "14 2014 0 0 0.1 madness Colley\n"
     ]
    },
    {
     "name": "stderr",
     "output_type": "stream",
     "text": [
      "\r",
      "127it [00:33,  3.92it/s]"
     ]
    },
    {
     "name": "stdout",
     "output_type": "stream",
     "text": [
      "14 2014 0 0 0.1 madness Massey\n"
     ]
    },
    {
     "name": "stderr",
     "output_type": "stream",
     "text": [
      "\r",
      "128it [00:33,  3.98it/s]"
     ]
    },
    {
     "name": "stdout",
     "output_type": "stream",
     "text": [
      "14 2015 0 0 0.1 madness Colley\n"
     ]
    },
    {
     "name": "stderr",
     "output_type": "stream",
     "text": [
      "\r",
      "129it [00:33,  3.96it/s]"
     ]
    },
    {
     "name": "stdout",
     "output_type": "stream",
     "text": [
      "14 2015 0 0 0.1 madness Massey\n"
     ]
    },
    {
     "name": "stderr",
     "output_type": "stream",
     "text": [
      "\r",
      "130it [00:33,  3.98it/s]"
     ]
    },
    {
     "name": "stdout",
     "output_type": "stream",
     "text": [
      "14 2016 0 0 0.1 madness Colley\n"
     ]
    },
    {
     "name": "stderr",
     "output_type": "stream",
     "text": [
      "\r",
      "131it [00:34,  3.75it/s]"
     ]
    },
    {
     "name": "stdout",
     "output_type": "stream",
     "text": [
      "14 2016 0 0 0.1 madness Massey\n"
     ]
    },
    {
     "name": "stderr",
     "output_type": "stream",
     "text": [
      "\r",
      "132it [00:34,  3.76it/s]"
     ]
    },
    {
     "name": "stdout",
     "output_type": "stream",
     "text": [
      "14 2017 0 0 0.1 madness Colley\n"
     ]
    },
    {
     "name": "stderr",
     "output_type": "stream",
     "text": [
      "\r",
      "133it [00:34,  3.79it/s]"
     ]
    },
    {
     "name": "stdout",
     "output_type": "stream",
     "text": [
      "14 2017 0 0 0.1 madness Massey\n"
     ]
    },
    {
     "name": "stderr",
     "output_type": "stream",
     "text": [
      "\r",
      "134it [00:34,  3.80it/s]"
     ]
    },
    {
     "name": "stdout",
     "output_type": "stream",
     "text": [
      "14 2018 0 0 0.1 madness Colley\n"
     ]
    },
    {
     "name": "stderr",
     "output_type": "stream",
     "text": [
      "\r",
      "135it [00:35,  3.85it/s]"
     ]
    },
    {
     "name": "stdout",
     "output_type": "stream",
     "text": [
      "14 2018 0 0 0.1 madness Massey\n"
     ]
    },
    {
     "name": "stderr",
     "output_type": "stream",
     "text": [
      "\r",
      "136it [00:35,  3.83it/s]"
     ]
    },
    {
     "name": "stdout",
     "output_type": "stream",
     "text": [
      "7 2002 0 0 0.1 madness Colley\n"
     ]
    },
    {
     "name": "stderr",
     "output_type": "stream",
     "text": [
      "\r",
      "137it [00:35,  3.88it/s]"
     ]
    },
    {
     "name": "stdout",
     "output_type": "stream",
     "text": [
      "7 2002 0 0 0.1 madness Massey\n"
     ]
    },
    {
     "name": "stderr",
     "output_type": "stream",
     "text": [
      "\r",
      "138it [00:35,  3.93it/s]"
     ]
    },
    {
     "name": "stdout",
     "output_type": "stream",
     "text": [
      "7 2003 0 0 0.1 madness Colley\n"
     ]
    },
    {
     "name": "stderr",
     "output_type": "stream",
     "text": [
      "\r",
      "139it [00:36,  3.95it/s]"
     ]
    },
    {
     "name": "stdout",
     "output_type": "stream",
     "text": [
      "7 2003 0 0 0.1 madness Massey\n"
     ]
    },
    {
     "name": "stderr",
     "output_type": "stream",
     "text": [
      "\r",
      "140it [00:36,  3.94it/s]"
     ]
    },
    {
     "name": "stdout",
     "output_type": "stream",
     "text": [
      "7 2004 0 0 0.1 madness Colley\n"
     ]
    },
    {
     "name": "stderr",
     "output_type": "stream",
     "text": [
      "\r",
      "141it [00:36,  3.93it/s]"
     ]
    },
    {
     "name": "stdout",
     "output_type": "stream",
     "text": [
      "7 2004 0 0 0.1 madness Massey\n"
     ]
    },
    {
     "name": "stderr",
     "output_type": "stream",
     "text": [
      "\r",
      "142it [00:36,  3.95it/s]"
     ]
    },
    {
     "name": "stdout",
     "output_type": "stream",
     "text": [
      "7 2005 0 0 0.1 madness Colley\n"
     ]
    },
    {
     "name": "stderr",
     "output_type": "stream",
     "text": [
      "\r",
      "143it [00:37,  3.97it/s]"
     ]
    },
    {
     "name": "stdout",
     "output_type": "stream",
     "text": [
      "7 2005 0 0 0.1 madness Massey\n"
     ]
    },
    {
     "name": "stderr",
     "output_type": "stream",
     "text": [
      "\r",
      "144it [00:37,  4.00it/s]"
     ]
    },
    {
     "name": "stdout",
     "output_type": "stream",
     "text": [
      "7 2006 0 0 0.1 madness Colley\n"
     ]
    },
    {
     "name": "stderr",
     "output_type": "stream",
     "text": [
      "\r",
      "145it [00:37,  3.91it/s]"
     ]
    },
    {
     "name": "stdout",
     "output_type": "stream",
     "text": [
      "7 2006 0 0 0.1 madness Massey\n"
     ]
    },
    {
     "name": "stderr",
     "output_type": "stream",
     "text": [
      "\r",
      "146it [00:37,  3.94it/s]"
     ]
    },
    {
     "name": "stdout",
     "output_type": "stream",
     "text": [
      "7 2007 0 0 0.1 madness Colley\n"
     ]
    },
    {
     "name": "stderr",
     "output_type": "stream",
     "text": [
      "\r",
      "147it [00:38,  3.96it/s]"
     ]
    },
    {
     "name": "stdout",
     "output_type": "stream",
     "text": [
      "7 2007 0 0 0.1 madness Massey\n"
     ]
    },
    {
     "name": "stderr",
     "output_type": "stream",
     "text": [
      "\r",
      "148it [00:38,  3.99it/s]"
     ]
    },
    {
     "name": "stdout",
     "output_type": "stream",
     "text": [
      "7 2008 0 0 0.1 madness Colley\n"
     ]
    },
    {
     "name": "stderr",
     "output_type": "stream",
     "text": [
      "\r",
      "149it [00:38,  3.89it/s]"
     ]
    },
    {
     "name": "stdout",
     "output_type": "stream",
     "text": [
      "7 2008 0 0 0.1 madness Massey\n"
     ]
    },
    {
     "name": "stderr",
     "output_type": "stream",
     "text": [
      "\r",
      "150it [00:39,  3.86it/s]"
     ]
    },
    {
     "name": "stdout",
     "output_type": "stream",
     "text": [
      "7 2009 0 0 0.1 madness Colley\n"
     ]
    },
    {
     "name": "stderr",
     "output_type": "stream",
     "text": [
      "\r",
      "151it [00:39,  3.85it/s]"
     ]
    },
    {
     "name": "stdout",
     "output_type": "stream",
     "text": [
      "7 2009 0 0 0.1 madness Massey\n"
     ]
    },
    {
     "name": "stderr",
     "output_type": "stream",
     "text": [
      "\r",
      "152it [00:39,  3.86it/s]"
     ]
    },
    {
     "name": "stdout",
     "output_type": "stream",
     "text": [
      "7 2010 0 0 0.1 madness Colley\n"
     ]
    },
    {
     "name": "stderr",
     "output_type": "stream",
     "text": [
      "\r",
      "153it [00:39,  3.90it/s]"
     ]
    },
    {
     "name": "stdout",
     "output_type": "stream",
     "text": [
      "7 2010 0 0 0.1 madness Massey\n"
     ]
    },
    {
     "name": "stderr",
     "output_type": "stream",
     "text": [
      "\r",
      "154it [00:40,  3.94it/s]"
     ]
    },
    {
     "name": "stdout",
     "output_type": "stream",
     "text": [
      "7 2011 0 0 0.1 madness Colley\n"
     ]
    },
    {
     "name": "stderr",
     "output_type": "stream",
     "text": [
      "\r",
      "155it [00:40,  3.92it/s]"
     ]
    },
    {
     "name": "stdout",
     "output_type": "stream",
     "text": [
      "7 2011 0 0 0.1 madness Massey\n"
     ]
    },
    {
     "name": "stderr",
     "output_type": "stream",
     "text": [
      "\r",
      "156it [00:40,  3.94it/s]"
     ]
    },
    {
     "name": "stdout",
     "output_type": "stream",
     "text": [
      "7 2012 0 0 0.1 madness Colley\n"
     ]
    },
    {
     "name": "stderr",
     "output_type": "stream",
     "text": [
      "\r",
      "157it [00:40,  3.95it/s]"
     ]
    },
    {
     "name": "stdout",
     "output_type": "stream",
     "text": [
      "7 2012 0 0 0.1 madness Massey\n"
     ]
    },
    {
     "name": "stderr",
     "output_type": "stream",
     "text": [
      "\r",
      "158it [00:41,  3.92it/s]"
     ]
    },
    {
     "name": "stdout",
     "output_type": "stream",
     "text": [
      "7 2013 0 0 0.1 madness Colley\n"
     ]
    },
    {
     "name": "stderr",
     "output_type": "stream",
     "text": [
      "\r",
      "159it [00:41,  3.79it/s]"
     ]
    },
    {
     "name": "stdout",
     "output_type": "stream",
     "text": [
      "7 2013 0 0 0.1 madness Massey\n"
     ]
    },
    {
     "name": "stderr",
     "output_type": "stream",
     "text": [
      "\r",
      "160it [00:41,  3.84it/s]"
     ]
    },
    {
     "name": "stdout",
     "output_type": "stream",
     "text": [
      "7 2014 0 0 0.1 madness Colley\n"
     ]
    },
    {
     "name": "stderr",
     "output_type": "stream",
     "text": [
      "\r",
      "161it [00:41,  3.89it/s]"
     ]
    },
    {
     "name": "stdout",
     "output_type": "stream",
     "text": [
      "7 2014 0 0 0.1 madness Massey\n"
     ]
    },
    {
     "name": "stderr",
     "output_type": "stream",
     "text": [
      "\r",
      "162it [00:42,  3.95it/s]"
     ]
    },
    {
     "name": "stdout",
     "output_type": "stream",
     "text": [
      "7 2015 0 0 0.1 madness Colley\n"
     ]
    },
    {
     "name": "stderr",
     "output_type": "stream",
     "text": [
      "\r",
      "163it [00:42,  3.97it/s]"
     ]
    },
    {
     "name": "stdout",
     "output_type": "stream",
     "text": [
      "7 2015 0 0 0.1 madness Massey\n"
     ]
    },
    {
     "name": "stderr",
     "output_type": "stream",
     "text": [
      "\r",
      "164it [00:42,  3.90it/s]"
     ]
    },
    {
     "name": "stdout",
     "output_type": "stream",
     "text": [
      "7 2016 0 0 0.1 madness Colley\n"
     ]
    },
    {
     "name": "stderr",
     "output_type": "stream",
     "text": [
      "\r",
      "165it [00:42,  3.90it/s]"
     ]
    },
    {
     "name": "stdout",
     "output_type": "stream",
     "text": [
      "7 2016 0 0 0.1 madness Massey\n"
     ]
    },
    {
     "name": "stderr",
     "output_type": "stream",
     "text": [
      "\r",
      "166it [00:43,  3.88it/s]"
     ]
    },
    {
     "name": "stdout",
     "output_type": "stream",
     "text": [
      "7 2017 0 0 0.1 madness Colley\n"
     ]
    },
    {
     "name": "stderr",
     "output_type": "stream",
     "text": [
      "\r",
      "167it [00:43,  3.74it/s]"
     ]
    },
    {
     "name": "stdout",
     "output_type": "stream",
     "text": [
      "7 2017 0 0 0.1 madness Massey\n"
     ]
    },
    {
     "name": "stderr",
     "output_type": "stream",
     "text": [
      "\r",
      "168it [00:43,  3.78it/s]"
     ]
    },
    {
     "name": "stdout",
     "output_type": "stream",
     "text": [
      "7 2018 0 0 0.1 madness Colley\n"
     ]
    },
    {
     "name": "stderr",
     "output_type": "stream",
     "text": [
      "\r",
      "169it [00:43,  3.83it/s]"
     ]
    },
    {
     "name": "stdout",
     "output_type": "stream",
     "text": [
      "7 2018 0 0 0.1 madness Massey\n"
     ]
    },
    {
     "name": "stderr",
     "output_type": "stream",
     "text": [
      "170it [00:44,  3.88it/s]\n"
     ]
    }
   ],
   "source": [
    "X = create_features(Ds,rankings_df,top_k)"
   ]
  },
  {
   "cell_type": "code",
   "execution_count": 37,
   "metadata": {},
   "outputs": [
    {
     "data": {
      "text/html": [
       "<div>\n",
       "<style scoped>\n",
       "    .dataframe tbody tr th:only-of-type {\n",
       "        vertical-align: middle;\n",
       "    }\n",
       "\n",
       "    .dataframe tbody tr th {\n",
       "        vertical-align: top;\n",
       "    }\n",
       "\n",
       "    .dataframe thead th {\n",
       "        text-align: right;\n",
       "    }\n",
       "</style>\n",
       "<table border=\"1\" class=\"dataframe\">\n",
       "  <thead>\n",
       "    <tr style=\"text-align: right;\">\n",
       "      <th></th>\n",
       "      <th></th>\n",
       "      <th></th>\n",
       "      <th></th>\n",
       "      <th></th>\n",
       "      <th></th>\n",
       "      <th></th>\n",
       "      <th></th>\n",
       "      <th>delta_lop</th>\n",
       "      <th>delta_hillside</th>\n",
       "      <th>nfrac_xstar_lop</th>\n",
       "      <th>nfrac_xstar_hillside</th>\n",
       "      <th>diameter_lop</th>\n",
       "      <th>diameter_hillside</th>\n",
       "    </tr>\n",
       "    <tr>\n",
       "      <th>Year</th>\n",
       "      <th>days_to_subtract_key</th>\n",
       "      <th>direct_thres</th>\n",
       "      <th>spread_thres</th>\n",
       "      <th>weight_indirect</th>\n",
       "      <th>range</th>\n",
       "      <th>Method</th>\n",
       "      <th>Construction</th>\n",
       "      <th></th>\n",
       "      <th></th>\n",
       "      <th></th>\n",
       "      <th></th>\n",
       "      <th></th>\n",
       "      <th></th>\n",
       "    </tr>\n",
       "  </thead>\n",
       "  <tbody>\n",
       "    <tr>\n",
       "      <th rowspan=\"5\" valign=\"top\">2002</th>\n",
       "      <th rowspan=\"5\" valign=\"top\">days_to_subtract=35</th>\n",
       "      <th rowspan=\"5\" valign=\"top\">0</th>\n",
       "      <th rowspan=\"5\" valign=\"top\">0</th>\n",
       "      <th rowspan=\"5\" valign=\"top\">0.1</th>\n",
       "      <th rowspan=\"5\" valign=\"top\">madness</th>\n",
       "      <th rowspan=\"3\" valign=\"top\">Colley</th>\n",
       "      <th>Direct</th>\n",
       "      <td>0.0</td>\n",
       "      <td>0.0</td>\n",
       "      <td>56.0</td>\n",
       "      <td>70.0</td>\n",
       "      <td>28.0</td>\n",
       "      <td>35.0</td>\n",
       "    </tr>\n",
       "    <tr>\n",
       "      <th>Indirect</th>\n",
       "      <td>4.0</td>\n",
       "      <td>48.0</td>\n",
       "      <td>38.0</td>\n",
       "      <td>6.0</td>\n",
       "      <td>18.0</td>\n",
       "      <td>3.0</td>\n",
       "    </tr>\n",
       "    <tr>\n",
       "      <th>Both</th>\n",
       "      <td>0.4</td>\n",
       "      <td>56.0</td>\n",
       "      <td>12.0</td>\n",
       "      <td>8.0</td>\n",
       "      <td>6.0</td>\n",
       "      <td>4.0</td>\n",
       "    </tr>\n",
       "    <tr>\n",
       "      <th rowspan=\"2\" valign=\"top\">Massey</th>\n",
       "      <th>Direct</th>\n",
       "      <td>0.0</td>\n",
       "      <td>0.0</td>\n",
       "      <td>56.0</td>\n",
       "      <td>68.0</td>\n",
       "      <td>28.0</td>\n",
       "      <td>34.0</td>\n",
       "    </tr>\n",
       "    <tr>\n",
       "      <th>Indirect</th>\n",
       "      <td>7.0</td>\n",
       "      <td>62.0</td>\n",
       "      <td>30.0</td>\n",
       "      <td>8.0</td>\n",
       "      <td>15.0</td>\n",
       "      <td>4.0</td>\n",
       "    </tr>\n",
       "    <tr>\n",
       "      <th>...</th>\n",
       "      <th>...</th>\n",
       "      <th>...</th>\n",
       "      <th>...</th>\n",
       "      <th>...</th>\n",
       "      <th>...</th>\n",
       "      <th>...</th>\n",
       "      <th>...</th>\n",
       "      <td>...</td>\n",
       "      <td>...</td>\n",
       "      <td>...</td>\n",
       "      <td>...</td>\n",
       "      <td>...</td>\n",
       "      <td>...</td>\n",
       "    </tr>\n",
       "    <tr>\n",
       "      <th rowspan=\"5\" valign=\"top\">2018</th>\n",
       "      <th rowspan=\"5\" valign=\"top\">days_to_subtract=7</th>\n",
       "      <th rowspan=\"5\" valign=\"top\">0</th>\n",
       "      <th rowspan=\"5\" valign=\"top\">0</th>\n",
       "      <th rowspan=\"5\" valign=\"top\">0.1</th>\n",
       "      <th rowspan=\"5\" valign=\"top\">madness</th>\n",
       "      <th rowspan=\"2\" valign=\"top\">Colley</th>\n",
       "      <th>Indirect</th>\n",
       "      <td>8.0</td>\n",
       "      <td>62.0</td>\n",
       "      <td>14.0</td>\n",
       "      <td>6.0</td>\n",
       "      <td>7.0</td>\n",
       "      <td>3.0</td>\n",
       "    </tr>\n",
       "    <tr>\n",
       "      <th>Both</th>\n",
       "      <td>1.5</td>\n",
       "      <td>78.0</td>\n",
       "      <td>4.0</td>\n",
       "      <td>12.0</td>\n",
       "      <td>2.0</td>\n",
       "      <td>4.0</td>\n",
       "    </tr>\n",
       "    <tr>\n",
       "      <th rowspan=\"3\" valign=\"top\">Massey</th>\n",
       "      <th>Direct</th>\n",
       "      <td>1.0</td>\n",
       "      <td>1.0</td>\n",
       "      <td>32.0</td>\n",
       "      <td>44.0</td>\n",
       "      <td>16.0</td>\n",
       "      <td>22.0</td>\n",
       "    </tr>\n",
       "    <tr>\n",
       "      <th>Indirect</th>\n",
       "      <td>16.0</td>\n",
       "      <td>80.0</td>\n",
       "      <td>18.0</td>\n",
       "      <td>6.0</td>\n",
       "      <td>9.0</td>\n",
       "      <td>3.0</td>\n",
       "    </tr>\n",
       "    <tr>\n",
       "      <th>Both</th>\n",
       "      <td>3.1</td>\n",
       "      <td>90.0</td>\n",
       "      <td>12.0</td>\n",
       "      <td>8.0</td>\n",
       "      <td>6.0</td>\n",
       "      <td>4.0</td>\n",
       "    </tr>\n",
       "  </tbody>\n",
       "</table>\n",
       "<p>510 rows × 6 columns</p>\n",
       "</div>"
      ],
      "text/plain": [
       "                                                                                                 delta_lop  \\\n",
       "Year days_to_subtract_key direct_thres spread_thres weight_indirect range   Method Construction              \n",
       "2002 days_to_subtract=35  0            0            0.1             madness Colley Direct              0.0   \n",
       "                                                                                   Indirect            4.0   \n",
       "                                                                                   Both                0.4   \n",
       "                                                                            Massey Direct              0.0   \n",
       "                                                                                   Indirect            7.0   \n",
       "...                                                                                                    ...   \n",
       "2018 days_to_subtract=7   0            0            0.1             madness Colley Indirect            8.0   \n",
       "                                                                                   Both                1.5   \n",
       "                                                                            Massey Direct              1.0   \n",
       "                                                                                   Indirect           16.0   \n",
       "                                                                                   Both                3.1   \n",
       "\n",
       "                                                                                                 delta_hillside  \\\n",
       "Year days_to_subtract_key direct_thres spread_thres weight_indirect range   Method Construction                   \n",
       "2002 days_to_subtract=35  0            0            0.1             madness Colley Direct                   0.0   \n",
       "                                                                                   Indirect                48.0   \n",
       "                                                                                   Both                    56.0   \n",
       "                                                                            Massey Direct                   0.0   \n",
       "                                                                                   Indirect                62.0   \n",
       "...                                                                                                         ...   \n",
       "2018 days_to_subtract=7   0            0            0.1             madness Colley Indirect                62.0   \n",
       "                                                                                   Both                    78.0   \n",
       "                                                                            Massey Direct                   1.0   \n",
       "                                                                                   Indirect                80.0   \n",
       "                                                                                   Both                    90.0   \n",
       "\n",
       "                                                                                                 nfrac_xstar_lop  \\\n",
       "Year days_to_subtract_key direct_thres spread_thres weight_indirect range   Method Construction                    \n",
       "2002 days_to_subtract=35  0            0            0.1             madness Colley Direct                   56.0   \n",
       "                                                                                   Indirect                 38.0   \n",
       "                                                                                   Both                     12.0   \n",
       "                                                                            Massey Direct                   56.0   \n",
       "                                                                                   Indirect                 30.0   \n",
       "...                                                                                                          ...   \n",
       "2018 days_to_subtract=7   0            0            0.1             madness Colley Indirect                 14.0   \n",
       "                                                                                   Both                      4.0   \n",
       "                                                                            Massey Direct                   32.0   \n",
       "                                                                                   Indirect                 18.0   \n",
       "                                                                                   Both                     12.0   \n",
       "\n",
       "                                                                                                 nfrac_xstar_hillside  \\\n",
       "Year days_to_subtract_key direct_thres spread_thres weight_indirect range   Method Construction                         \n",
       "2002 days_to_subtract=35  0            0            0.1             madness Colley Direct                        70.0   \n",
       "                                                                                   Indirect                       6.0   \n",
       "                                                                                   Both                           8.0   \n",
       "                                                                            Massey Direct                        68.0   \n",
       "                                                                                   Indirect                       8.0   \n",
       "...                                                                                                               ...   \n",
       "2018 days_to_subtract=7   0            0            0.1             madness Colley Indirect                       6.0   \n",
       "                                                                                   Both                          12.0   \n",
       "                                                                            Massey Direct                        44.0   \n",
       "                                                                                   Indirect                       6.0   \n",
       "                                                                                   Both                           8.0   \n",
       "\n",
       "                                                                                                 diameter_lop  \\\n",
       "Year days_to_subtract_key direct_thres spread_thres weight_indirect range   Method Construction                 \n",
       "2002 days_to_subtract=35  0            0            0.1             madness Colley Direct                28.0   \n",
       "                                                                                   Indirect              18.0   \n",
       "                                                                                   Both                   6.0   \n",
       "                                                                            Massey Direct                28.0   \n",
       "                                                                                   Indirect              15.0   \n",
       "...                                                                                                       ...   \n",
       "2018 days_to_subtract=7   0            0            0.1             madness Colley Indirect               7.0   \n",
       "                                                                                   Both                   2.0   \n",
       "                                                                            Massey Direct                16.0   \n",
       "                                                                                   Indirect               9.0   \n",
       "                                                                                   Both                   6.0   \n",
       "\n",
       "                                                                                                 diameter_hillside  \n",
       "Year days_to_subtract_key direct_thres spread_thres weight_indirect range   Method Construction                     \n",
       "2002 days_to_subtract=35  0            0            0.1             madness Colley Direct                     35.0  \n",
       "                                                                                   Indirect                    3.0  \n",
       "                                                                                   Both                        4.0  \n",
       "                                                                            Massey Direct                     34.0  \n",
       "                                                                                   Indirect                    4.0  \n",
       "...                                                                                                            ...  \n",
       "2018 days_to_subtract=7   0            0            0.1             madness Colley Indirect                    3.0  \n",
       "                                                                                   Both                        4.0  \n",
       "                                                                            Massey Direct                     22.0  \n",
       "                                                                                   Indirect                    3.0  \n",
       "                                                                                   Both                        4.0  \n",
       "\n",
       "[510 rows x 6 columns]"
      ]
     },
     "execution_count": 37,
     "metadata": {},
     "output_type": "execute_result"
    }
   ],
   "source": [
    "X"
   ]
  },
  {
   "cell_type": "markdown",
   "metadata": {},
   "source": [
    "## Refine the target dataset"
   ]
  },
  {
   "cell_type": "code",
   "execution_count": 38,
   "metadata": {},
   "outputs": [
    {
     "data": {
      "text/html": [
       "<div>\n",
       "<style scoped>\n",
       "    .dataframe tbody tr th:only-of-type {\n",
       "        vertical-align: middle;\n",
       "    }\n",
       "\n",
       "    .dataframe tbody tr th {\n",
       "        vertical-align: top;\n",
       "    }\n",
       "\n",
       "    .dataframe thead th {\n",
       "        text-align: right;\n",
       "    }\n",
       "</style>\n",
       "<table border=\"1\" class=\"dataframe\">\n",
       "  <thead>\n",
       "    <tr style=\"text-align: right;\">\n",
       "      <th></th>\n",
       "      <th></th>\n",
       "      <th></th>\n",
       "      <th></th>\n",
       "      <th></th>\n",
       "      <th></th>\n",
       "      <th></th>\n",
       "      <th>top10_jaccard</th>\n",
       "      <th>top10_tau</th>\n",
       "    </tr>\n",
       "    <tr>\n",
       "      <th>days_to_subtract1</th>\n",
       "      <th>days_to_subtract2</th>\n",
       "      <th>Method</th>\n",
       "      <th>Year</th>\n",
       "      <th>direct_thres</th>\n",
       "      <th>spread_thres</th>\n",
       "      <th>weight_indirect</th>\n",
       "      <th></th>\n",
       "      <th></th>\n",
       "    </tr>\n",
       "  </thead>\n",
       "  <tbody>\n",
       "    <tr>\n",
       "      <th rowspan=\"5\" valign=\"top\">7</th>\n",
       "      <th rowspan=\"5\" valign=\"top\">14</th>\n",
       "      <th rowspan=\"5\" valign=\"top\">Colley</th>\n",
       "      <th>2002</th>\n",
       "      <th>0</th>\n",
       "      <th>0</th>\n",
       "      <th>0.1</th>\n",
       "      <td>0.800000</td>\n",
       "      <td>0.277778</td>\n",
       "    </tr>\n",
       "    <tr>\n",
       "      <th>2003</th>\n",
       "      <th>0</th>\n",
       "      <th>0</th>\n",
       "      <th>0.1</th>\n",
       "      <td>0.800000</td>\n",
       "      <td>-0.111111</td>\n",
       "    </tr>\n",
       "    <tr>\n",
       "      <th>2004</th>\n",
       "      <th>0</th>\n",
       "      <th>0</th>\n",
       "      <th>0.1</th>\n",
       "      <td>0.636364</td>\n",
       "      <td>0.055556</td>\n",
       "    </tr>\n",
       "    <tr>\n",
       "      <th>2005</th>\n",
       "      <th>0</th>\n",
       "      <th>0</th>\n",
       "      <th>0.1</th>\n",
       "      <td>1.000000</td>\n",
       "      <td>-0.555556</td>\n",
       "    </tr>\n",
       "    <tr>\n",
       "      <th>2006</th>\n",
       "      <th>0</th>\n",
       "      <th>0</th>\n",
       "      <th>0.1</th>\n",
       "      <td>0.636364</td>\n",
       "      <td>-0.444444</td>\n",
       "    </tr>\n",
       "    <tr>\n",
       "      <th>...</th>\n",
       "      <th>...</th>\n",
       "      <th>...</th>\n",
       "      <th>...</th>\n",
       "      <th>...</th>\n",
       "      <th>...</th>\n",
       "      <th>...</th>\n",
       "      <td>...</td>\n",
       "      <td>...</td>\n",
       "    </tr>\n",
       "    <tr>\n",
       "      <th rowspan=\"5\" valign=\"top\">28</th>\n",
       "      <th rowspan=\"5\" valign=\"top\">35</th>\n",
       "      <th rowspan=\"5\" valign=\"top\">Massey</th>\n",
       "      <th>2014</th>\n",
       "      <th>0</th>\n",
       "      <th>0</th>\n",
       "      <th>0.1</th>\n",
       "      <td>0.636364</td>\n",
       "      <td>0.111111</td>\n",
       "    </tr>\n",
       "    <tr>\n",
       "      <th>2015</th>\n",
       "      <th>0</th>\n",
       "      <th>0</th>\n",
       "      <th>0.1</th>\n",
       "      <td>0.800000</td>\n",
       "      <td>-0.222222</td>\n",
       "    </tr>\n",
       "    <tr>\n",
       "      <th>2016</th>\n",
       "      <th>0</th>\n",
       "      <th>0</th>\n",
       "      <th>0.1</th>\n",
       "      <td>0.800000</td>\n",
       "      <td>0.166667</td>\n",
       "    </tr>\n",
       "    <tr>\n",
       "      <th>2017</th>\n",
       "      <th>0</th>\n",
       "      <th>0</th>\n",
       "      <th>0.1</th>\n",
       "      <td>1.000000</td>\n",
       "      <td>0.111111</td>\n",
       "    </tr>\n",
       "    <tr>\n",
       "      <th>2018</th>\n",
       "      <th>0</th>\n",
       "      <th>0</th>\n",
       "      <th>0.1</th>\n",
       "      <td>0.636364</td>\n",
       "      <td>0.055556</td>\n",
       "    </tr>\n",
       "  </tbody>\n",
       "</table>\n",
       "<p>340 rows × 2 columns</p>\n",
       "</div>"
      ],
      "text/plain": [
       "                                                                                           top10_jaccard  \\\n",
       "days_to_subtract1 days_to_subtract2 Method Year direct_thres spread_thres weight_indirect                  \n",
       "7                 14                Colley 2002 0            0            0.1                   0.800000   \n",
       "                                           2003 0            0            0.1                   0.800000   \n",
       "                                           2004 0            0            0.1                   0.636364   \n",
       "                                           2005 0            0            0.1                   1.000000   \n",
       "                                           2006 0            0            0.1                   0.636364   \n",
       "...                                                                                                  ...   \n",
       "28                35                Massey 2014 0            0            0.1                   0.636364   \n",
       "                                           2015 0            0            0.1                   0.800000   \n",
       "                                           2016 0            0            0.1                   0.800000   \n",
       "                                           2017 0            0            0.1                   1.000000   \n",
       "                                           2018 0            0            0.1                   0.636364   \n",
       "\n",
       "                                                                                           top10_tau  \n",
       "days_to_subtract1 days_to_subtract2 Method Year direct_thres spread_thres weight_indirect             \n",
       "7                 14                Colley 2002 0            0            0.1               0.277778  \n",
       "                                           2003 0            0            0.1              -0.111111  \n",
       "                                           2004 0            0            0.1               0.055556  \n",
       "                                           2005 0            0            0.1              -0.555556  \n",
       "                                           2006 0            0            0.1              -0.444444  \n",
       "...                                                                                              ...  \n",
       "28                35                Massey 2014 0            0            0.1               0.111111  \n",
       "                                           2015 0            0            0.1              -0.222222  \n",
       "                                           2016 0            0            0.1               0.166667  \n",
       "                                           2017 0            0            0.1               0.111111  \n",
       "                                           2018 0            0            0.1               0.055556  \n",
       "\n",
       "[340 rows x 2 columns]"
      ]
     },
     "execution_count": 38,
     "metadata": {},
     "output_type": "execute_result"
    }
   ],
   "source": [
    "target = problem['target'].groupby(['days_to_subtract1','days_to_subtract2','Method','Year','direct_thres','spread_thres','weight_indirect'])[feature_names].mean()\n",
    "target"
   ]
  },
  {
   "cell_type": "code",
   "execution_count": 39,
   "metadata": {},
   "outputs": [
    {
     "data": {
      "text/html": [
       "<div>\n",
       "<style scoped>\n",
       "    .dataframe tbody tr th:only-of-type {\n",
       "        vertical-align: middle;\n",
       "    }\n",
       "\n",
       "    .dataframe tbody tr th {\n",
       "        vertical-align: top;\n",
       "    }\n",
       "\n",
       "    .dataframe thead th {\n",
       "        text-align: right;\n",
       "    }\n",
       "</style>\n",
       "<table border=\"1\" class=\"dataframe\">\n",
       "  <thead>\n",
       "    <tr style=\"text-align: right;\">\n",
       "      <th></th>\n",
       "      <th>top10_jaccard</th>\n",
       "      <th>top10_tau</th>\n",
       "    </tr>\n",
       "  </thead>\n",
       "  <tbody>\n",
       "    <tr>\n",
       "      <th>top10_jaccard</th>\n",
       "      <td>1.000000</td>\n",
       "      <td>0.025604</td>\n",
       "    </tr>\n",
       "    <tr>\n",
       "      <th>top10_tau</th>\n",
       "      <td>0.025604</td>\n",
       "      <td>1.000000</td>\n",
       "    </tr>\n",
       "  </tbody>\n",
       "</table>\n",
       "</div>"
      ],
      "text/plain": [
       "               top10_jaccard  top10_tau\n",
       "top10_jaccard       1.000000   0.025604\n",
       "top10_tau           0.025604   1.000000"
      ]
     },
     "execution_count": 39,
     "metadata": {},
     "output_type": "execute_result"
    }
   ],
   "source": [
    "target.corr()"
   ]
  },
  {
   "cell_type": "code",
   "execution_count": 40,
   "metadata": {},
   "outputs": [
    {
     "data": {
      "text/html": [
       "<div>\n",
       "<style scoped>\n",
       "    .dataframe tbody tr th:only-of-type {\n",
       "        vertical-align: middle;\n",
       "    }\n",
       "\n",
       "    .dataframe tbody tr th {\n",
       "        vertical-align: top;\n",
       "    }\n",
       "\n",
       "    .dataframe thead th {\n",
       "        text-align: right;\n",
       "    }\n",
       "</style>\n",
       "<table border=\"1\" class=\"dataframe\">\n",
       "  <thead>\n",
       "    <tr style=\"text-align: right;\">\n",
       "      <th></th>\n",
       "      <th>Year</th>\n",
       "      <th>days_to_subtract_key</th>\n",
       "      <th>direct_thres</th>\n",
       "      <th>spread_thres</th>\n",
       "      <th>weight_indirect</th>\n",
       "      <th>range</th>\n",
       "      <th>Method</th>\n",
       "      <th>Construction</th>\n",
       "      <th>delta_lop</th>\n",
       "      <th>delta_hillside</th>\n",
       "      <th>nfrac_xstar_lop</th>\n",
       "      <th>nfrac_xstar_hillside</th>\n",
       "      <th>diameter_lop</th>\n",
       "      <th>diameter_hillside</th>\n",
       "      <th>days_to_subtract1</th>\n",
       "    </tr>\n",
       "  </thead>\n",
       "  <tbody>\n",
       "    <tr>\n",
       "      <th>0</th>\n",
       "      <td>2002</td>\n",
       "      <td>days_to_subtract=35</td>\n",
       "      <td>0</td>\n",
       "      <td>0</td>\n",
       "      <td>0.1</td>\n",
       "      <td>madness</td>\n",
       "      <td>Colley</td>\n",
       "      <td>Direct</td>\n",
       "      <td>0.0</td>\n",
       "      <td>0.0</td>\n",
       "      <td>56.0</td>\n",
       "      <td>70.0</td>\n",
       "      <td>28.0</td>\n",
       "      <td>35.0</td>\n",
       "      <td>35.0</td>\n",
       "    </tr>\n",
       "    <tr>\n",
       "      <th>1</th>\n",
       "      <td>2002</td>\n",
       "      <td>days_to_subtract=35</td>\n",
       "      <td>0</td>\n",
       "      <td>0</td>\n",
       "      <td>0.1</td>\n",
       "      <td>madness</td>\n",
       "      <td>Colley</td>\n",
       "      <td>Indirect</td>\n",
       "      <td>4.0</td>\n",
       "      <td>48.0</td>\n",
       "      <td>38.0</td>\n",
       "      <td>6.0</td>\n",
       "      <td>18.0</td>\n",
       "      <td>3.0</td>\n",
       "      <td>35.0</td>\n",
       "    </tr>\n",
       "    <tr>\n",
       "      <th>2</th>\n",
       "      <td>2002</td>\n",
       "      <td>days_to_subtract=35</td>\n",
       "      <td>0</td>\n",
       "      <td>0</td>\n",
       "      <td>0.1</td>\n",
       "      <td>madness</td>\n",
       "      <td>Colley</td>\n",
       "      <td>Both</td>\n",
       "      <td>0.4</td>\n",
       "      <td>56.0</td>\n",
       "      <td>12.0</td>\n",
       "      <td>8.0</td>\n",
       "      <td>6.0</td>\n",
       "      <td>4.0</td>\n",
       "      <td>35.0</td>\n",
       "    </tr>\n",
       "    <tr>\n",
       "      <th>3</th>\n",
       "      <td>2002</td>\n",
       "      <td>days_to_subtract=35</td>\n",
       "      <td>0</td>\n",
       "      <td>0</td>\n",
       "      <td>0.1</td>\n",
       "      <td>madness</td>\n",
       "      <td>Massey</td>\n",
       "      <td>Direct</td>\n",
       "      <td>0.0</td>\n",
       "      <td>0.0</td>\n",
       "      <td>56.0</td>\n",
       "      <td>68.0</td>\n",
       "      <td>28.0</td>\n",
       "      <td>34.0</td>\n",
       "      <td>35.0</td>\n",
       "    </tr>\n",
       "    <tr>\n",
       "      <th>4</th>\n",
       "      <td>2002</td>\n",
       "      <td>days_to_subtract=35</td>\n",
       "      <td>0</td>\n",
       "      <td>0</td>\n",
       "      <td>0.1</td>\n",
       "      <td>madness</td>\n",
       "      <td>Massey</td>\n",
       "      <td>Indirect</td>\n",
       "      <td>7.0</td>\n",
       "      <td>62.0</td>\n",
       "      <td>30.0</td>\n",
       "      <td>8.0</td>\n",
       "      <td>15.0</td>\n",
       "      <td>4.0</td>\n",
       "      <td>35.0</td>\n",
       "    </tr>\n",
       "    <tr>\n",
       "      <th>...</th>\n",
       "      <td>...</td>\n",
       "      <td>...</td>\n",
       "      <td>...</td>\n",
       "      <td>...</td>\n",
       "      <td>...</td>\n",
       "      <td>...</td>\n",
       "      <td>...</td>\n",
       "      <td>...</td>\n",
       "      <td>...</td>\n",
       "      <td>...</td>\n",
       "      <td>...</td>\n",
       "      <td>...</td>\n",
       "      <td>...</td>\n",
       "      <td>...</td>\n",
       "      <td>...</td>\n",
       "    </tr>\n",
       "    <tr>\n",
       "      <th>505</th>\n",
       "      <td>2018</td>\n",
       "      <td>days_to_subtract=7</td>\n",
       "      <td>0</td>\n",
       "      <td>0</td>\n",
       "      <td>0.1</td>\n",
       "      <td>madness</td>\n",
       "      <td>Colley</td>\n",
       "      <td>Indirect</td>\n",
       "      <td>8.0</td>\n",
       "      <td>62.0</td>\n",
       "      <td>14.0</td>\n",
       "      <td>6.0</td>\n",
       "      <td>7.0</td>\n",
       "      <td>3.0</td>\n",
       "      <td>7.0</td>\n",
       "    </tr>\n",
       "    <tr>\n",
       "      <th>506</th>\n",
       "      <td>2018</td>\n",
       "      <td>days_to_subtract=7</td>\n",
       "      <td>0</td>\n",
       "      <td>0</td>\n",
       "      <td>0.1</td>\n",
       "      <td>madness</td>\n",
       "      <td>Colley</td>\n",
       "      <td>Both</td>\n",
       "      <td>1.5</td>\n",
       "      <td>78.0</td>\n",
       "      <td>4.0</td>\n",
       "      <td>12.0</td>\n",
       "      <td>2.0</td>\n",
       "      <td>4.0</td>\n",
       "      <td>7.0</td>\n",
       "    </tr>\n",
       "    <tr>\n",
       "      <th>507</th>\n",
       "      <td>2018</td>\n",
       "      <td>days_to_subtract=7</td>\n",
       "      <td>0</td>\n",
       "      <td>0</td>\n",
       "      <td>0.1</td>\n",
       "      <td>madness</td>\n",
       "      <td>Massey</td>\n",
       "      <td>Direct</td>\n",
       "      <td>1.0</td>\n",
       "      <td>1.0</td>\n",
       "      <td>32.0</td>\n",
       "      <td>44.0</td>\n",
       "      <td>16.0</td>\n",
       "      <td>22.0</td>\n",
       "      <td>7.0</td>\n",
       "    </tr>\n",
       "    <tr>\n",
       "      <th>508</th>\n",
       "      <td>2018</td>\n",
       "      <td>days_to_subtract=7</td>\n",
       "      <td>0</td>\n",
       "      <td>0</td>\n",
       "      <td>0.1</td>\n",
       "      <td>madness</td>\n",
       "      <td>Massey</td>\n",
       "      <td>Indirect</td>\n",
       "      <td>16.0</td>\n",
       "      <td>80.0</td>\n",
       "      <td>18.0</td>\n",
       "      <td>6.0</td>\n",
       "      <td>9.0</td>\n",
       "      <td>3.0</td>\n",
       "      <td>7.0</td>\n",
       "    </tr>\n",
       "    <tr>\n",
       "      <th>509</th>\n",
       "      <td>2018</td>\n",
       "      <td>days_to_subtract=7</td>\n",
       "      <td>0</td>\n",
       "      <td>0</td>\n",
       "      <td>0.1</td>\n",
       "      <td>madness</td>\n",
       "      <td>Massey</td>\n",
       "      <td>Both</td>\n",
       "      <td>3.1</td>\n",
       "      <td>90.0</td>\n",
       "      <td>12.0</td>\n",
       "      <td>8.0</td>\n",
       "      <td>6.0</td>\n",
       "      <td>4.0</td>\n",
       "      <td>7.0</td>\n",
       "    </tr>\n",
       "  </tbody>\n",
       "</table>\n",
       "<p>510 rows × 15 columns</p>\n",
       "</div>"
      ],
      "text/plain": [
       "     Year days_to_subtract_key  direct_thres  spread_thres  weight_indirect  \\\n",
       "0    2002  days_to_subtract=35             0             0              0.1   \n",
       "1    2002  days_to_subtract=35             0             0              0.1   \n",
       "2    2002  days_to_subtract=35             0             0              0.1   \n",
       "3    2002  days_to_subtract=35             0             0              0.1   \n",
       "4    2002  days_to_subtract=35             0             0              0.1   \n",
       "..    ...                  ...           ...           ...              ...   \n",
       "505  2018   days_to_subtract=7             0             0              0.1   \n",
       "506  2018   days_to_subtract=7             0             0              0.1   \n",
       "507  2018   days_to_subtract=7             0             0              0.1   \n",
       "508  2018   days_to_subtract=7             0             0              0.1   \n",
       "509  2018   days_to_subtract=7             0             0              0.1   \n",
       "\n",
       "       range  Method Construction  delta_lop  delta_hillside  nfrac_xstar_lop  \\\n",
       "0    madness  Colley       Direct        0.0             0.0             56.0   \n",
       "1    madness  Colley     Indirect        4.0            48.0             38.0   \n",
       "2    madness  Colley         Both        0.4            56.0             12.0   \n",
       "3    madness  Massey       Direct        0.0             0.0             56.0   \n",
       "4    madness  Massey     Indirect        7.0            62.0             30.0   \n",
       "..       ...     ...          ...        ...             ...              ...   \n",
       "505  madness  Colley     Indirect        8.0            62.0             14.0   \n",
       "506  madness  Colley         Both        1.5            78.0              4.0   \n",
       "507  madness  Massey       Direct        1.0             1.0             32.0   \n",
       "508  madness  Massey     Indirect       16.0            80.0             18.0   \n",
       "509  madness  Massey         Both        3.1            90.0             12.0   \n",
       "\n",
       "     nfrac_xstar_hillside  diameter_lop  diameter_hillside  days_to_subtract1  \n",
       "0                    70.0          28.0               35.0               35.0  \n",
       "1                     6.0          18.0                3.0               35.0  \n",
       "2                     8.0           6.0                4.0               35.0  \n",
       "3                    68.0          28.0               34.0               35.0  \n",
       "4                     8.0          15.0                4.0               35.0  \n",
       "..                    ...           ...                ...                ...  \n",
       "505                   6.0           7.0                3.0                7.0  \n",
       "506                  12.0           2.0                4.0                7.0  \n",
       "507                  44.0          16.0               22.0                7.0  \n",
       "508                   6.0           9.0                3.0                7.0  \n",
       "509                   8.0           6.0                4.0                7.0  \n",
       "\n",
       "[510 rows x 15 columns]"
      ]
     },
     "execution_count": 40,
     "metadata": {},
     "output_type": "execute_result"
    }
   ],
   "source": [
    "X_for_join = X.copy().reset_index()\n",
    "X_for_join['days_to_subtract1']= X_for_join['days_to_subtract_key'].str.replace(\"days_to_subtract=\",\"\").astype(float)\n",
    "X_for_join.weight_indirect=0.1\n",
    "X_for_join"
   ]
  },
  {
   "cell_type": "code",
   "execution_count": 41,
   "metadata": {},
   "outputs": [
    {
     "data": {
      "text/html": [
       "<div>\n",
       "<style scoped>\n",
       "    .dataframe tbody tr th:only-of-type {\n",
       "        vertical-align: middle;\n",
       "    }\n",
       "\n",
       "    .dataframe tbody tr th {\n",
       "        vertical-align: top;\n",
       "    }\n",
       "\n",
       "    .dataframe thead th {\n",
       "        text-align: right;\n",
       "    }\n",
       "</style>\n",
       "<table border=\"1\" class=\"dataframe\">\n",
       "  <thead>\n",
       "    <tr style=\"text-align: right;\">\n",
       "      <th></th>\n",
       "      <th></th>\n",
       "      <th></th>\n",
       "      <th></th>\n",
       "      <th></th>\n",
       "      <th></th>\n",
       "      <th></th>\n",
       "      <th>top10_jaccard</th>\n",
       "      <th>top10_tau</th>\n",
       "    </tr>\n",
       "    <tr>\n",
       "      <th>days_to_subtract1</th>\n",
       "      <th>days_to_subtract2</th>\n",
       "      <th>Method</th>\n",
       "      <th>Year</th>\n",
       "      <th>direct_thres</th>\n",
       "      <th>spread_thres</th>\n",
       "      <th>weight_indirect</th>\n",
       "      <th></th>\n",
       "      <th></th>\n",
       "    </tr>\n",
       "  </thead>\n",
       "  <tbody>\n",
       "    <tr>\n",
       "      <th rowspan=\"5\" valign=\"top\">7</th>\n",
       "      <th rowspan=\"5\" valign=\"top\">14</th>\n",
       "      <th rowspan=\"5\" valign=\"top\">Colley</th>\n",
       "      <th>2002</th>\n",
       "      <th>0</th>\n",
       "      <th>0</th>\n",
       "      <th>0.1</th>\n",
       "      <td>0.800000</td>\n",
       "      <td>0.277778</td>\n",
       "    </tr>\n",
       "    <tr>\n",
       "      <th>2003</th>\n",
       "      <th>0</th>\n",
       "      <th>0</th>\n",
       "      <th>0.1</th>\n",
       "      <td>0.800000</td>\n",
       "      <td>-0.111111</td>\n",
       "    </tr>\n",
       "    <tr>\n",
       "      <th>2004</th>\n",
       "      <th>0</th>\n",
       "      <th>0</th>\n",
       "      <th>0.1</th>\n",
       "      <td>0.636364</td>\n",
       "      <td>0.055556</td>\n",
       "    </tr>\n",
       "    <tr>\n",
       "      <th>2005</th>\n",
       "      <th>0</th>\n",
       "      <th>0</th>\n",
       "      <th>0.1</th>\n",
       "      <td>1.000000</td>\n",
       "      <td>-0.555556</td>\n",
       "    </tr>\n",
       "    <tr>\n",
       "      <th>2006</th>\n",
       "      <th>0</th>\n",
       "      <th>0</th>\n",
       "      <th>0.1</th>\n",
       "      <td>0.636364</td>\n",
       "      <td>-0.444444</td>\n",
       "    </tr>\n",
       "    <tr>\n",
       "      <th>...</th>\n",
       "      <th>...</th>\n",
       "      <th>...</th>\n",
       "      <th>...</th>\n",
       "      <th>...</th>\n",
       "      <th>...</th>\n",
       "      <th>...</th>\n",
       "      <td>...</td>\n",
       "      <td>...</td>\n",
       "    </tr>\n",
       "    <tr>\n",
       "      <th rowspan=\"5\" valign=\"top\">28</th>\n",
       "      <th rowspan=\"5\" valign=\"top\">35</th>\n",
       "      <th rowspan=\"5\" valign=\"top\">Massey</th>\n",
       "      <th>2014</th>\n",
       "      <th>0</th>\n",
       "      <th>0</th>\n",
       "      <th>0.1</th>\n",
       "      <td>0.636364</td>\n",
       "      <td>0.111111</td>\n",
       "    </tr>\n",
       "    <tr>\n",
       "      <th>2015</th>\n",
       "      <th>0</th>\n",
       "      <th>0</th>\n",
       "      <th>0.1</th>\n",
       "      <td>0.800000</td>\n",
       "      <td>-0.222222</td>\n",
       "    </tr>\n",
       "    <tr>\n",
       "      <th>2016</th>\n",
       "      <th>0</th>\n",
       "      <th>0</th>\n",
       "      <th>0.1</th>\n",
       "      <td>0.800000</td>\n",
       "      <td>0.166667</td>\n",
       "    </tr>\n",
       "    <tr>\n",
       "      <th>2017</th>\n",
       "      <th>0</th>\n",
       "      <th>0</th>\n",
       "      <th>0.1</th>\n",
       "      <td>1.000000</td>\n",
       "      <td>0.111111</td>\n",
       "    </tr>\n",
       "    <tr>\n",
       "      <th>2018</th>\n",
       "      <th>0</th>\n",
       "      <th>0</th>\n",
       "      <th>0.1</th>\n",
       "      <td>0.636364</td>\n",
       "      <td>0.055556</td>\n",
       "    </tr>\n",
       "  </tbody>\n",
       "</table>\n",
       "<p>340 rows × 2 columns</p>\n",
       "</div>"
      ],
      "text/plain": [
       "                                                                                           top10_jaccard  \\\n",
       "days_to_subtract1 days_to_subtract2 Method Year direct_thres spread_thres weight_indirect                  \n",
       "7                 14                Colley 2002 0            0            0.1                   0.800000   \n",
       "                                           2003 0            0            0.1                   0.800000   \n",
       "                                           2004 0            0            0.1                   0.636364   \n",
       "                                           2005 0            0            0.1                   1.000000   \n",
       "                                           2006 0            0            0.1                   0.636364   \n",
       "...                                                                                                  ...   \n",
       "28                35                Massey 2014 0            0            0.1                   0.636364   \n",
       "                                           2015 0            0            0.1                   0.800000   \n",
       "                                           2016 0            0            0.1                   0.800000   \n",
       "                                           2017 0            0            0.1                   1.000000   \n",
       "                                           2018 0            0            0.1                   0.636364   \n",
       "\n",
       "                                                                                           top10_tau  \n",
       "days_to_subtract1 days_to_subtract2 Method Year direct_thres spread_thres weight_indirect             \n",
       "7                 14                Colley 2002 0            0            0.1               0.277778  \n",
       "                                           2003 0            0            0.1              -0.111111  \n",
       "                                           2004 0            0            0.1               0.055556  \n",
       "                                           2005 0            0            0.1              -0.555556  \n",
       "                                           2006 0            0            0.1              -0.444444  \n",
       "...                                                                                              ...  \n",
       "28                35                Massey 2014 0            0            0.1               0.111111  \n",
       "                                           2015 0            0            0.1              -0.222222  \n",
       "                                           2016 0            0            0.1               0.166667  \n",
       "                                           2017 0            0            0.1               0.111111  \n",
       "                                           2018 0            0            0.1               0.055556  \n",
       "\n",
       "[340 rows x 2 columns]"
      ]
     },
     "execution_count": 41,
     "metadata": {},
     "output_type": "execute_result"
    }
   ],
   "source": [
    "target"
   ]
  },
  {
   "cell_type": "code",
   "execution_count": 42,
   "metadata": {},
   "outputs": [
    {
     "data": {
      "text/html": [
       "<div>\n",
       "<style scoped>\n",
       "    .dataframe tbody tr th:only-of-type {\n",
       "        vertical-align: middle;\n",
       "    }\n",
       "\n",
       "    .dataframe tbody tr th {\n",
       "        vertical-align: top;\n",
       "    }\n",
       "\n",
       "    .dataframe thead th {\n",
       "        text-align: right;\n",
       "    }\n",
       "</style>\n",
       "<table border=\"1\" class=\"dataframe\">\n",
       "  <thead>\n",
       "    <tr style=\"text-align: right;\">\n",
       "      <th></th>\n",
       "      <th>Method</th>\n",
       "      <th>days_to_subtract1</th>\n",
       "      <th>Year</th>\n",
       "      <th>direct_thres</th>\n",
       "      <th>spread_thres</th>\n",
       "      <th>weight_indirect</th>\n",
       "      <th>days_to_subtract2</th>\n",
       "      <th>top10_jaccard</th>\n",
       "      <th>top10_tau</th>\n",
       "      <th>days_to_subtract_key</th>\n",
       "      <th>range</th>\n",
       "      <th>Construction</th>\n",
       "      <th>delta_lop</th>\n",
       "      <th>delta_hillside</th>\n",
       "      <th>nfrac_xstar_lop</th>\n",
       "      <th>nfrac_xstar_hillside</th>\n",
       "      <th>diameter_lop</th>\n",
       "      <th>diameter_hillside</th>\n",
       "    </tr>\n",
       "  </thead>\n",
       "  <tbody>\n",
       "    <tr>\n",
       "      <th>0</th>\n",
       "      <td>Colley</td>\n",
       "      <td>7</td>\n",
       "      <td>2002</td>\n",
       "      <td>0</td>\n",
       "      <td>0</td>\n",
       "      <td>0.1</td>\n",
       "      <td>14</td>\n",
       "      <td>0.800000</td>\n",
       "      <td>0.277778</td>\n",
       "      <td>days_to_subtract=7</td>\n",
       "      <td>madness</td>\n",
       "      <td>Direct</td>\n",
       "      <td>1.0</td>\n",
       "      <td>0.0</td>\n",
       "      <td>50.0</td>\n",
       "      <td>54.0</td>\n",
       "      <td>25.0</td>\n",
       "      <td>27.0</td>\n",
       "    </tr>\n",
       "    <tr>\n",
       "      <th>1</th>\n",
       "      <td>Colley</td>\n",
       "      <td>7</td>\n",
       "      <td>2002</td>\n",
       "      <td>0</td>\n",
       "      <td>0</td>\n",
       "      <td>0.1</td>\n",
       "      <td>14</td>\n",
       "      <td>0.800000</td>\n",
       "      <td>0.277778</td>\n",
       "      <td>days_to_subtract=7</td>\n",
       "      <td>madness</td>\n",
       "      <td>Indirect</td>\n",
       "      <td>9.0</td>\n",
       "      <td>87.0</td>\n",
       "      <td>8.0</td>\n",
       "      <td>10.0</td>\n",
       "      <td>4.0</td>\n",
       "      <td>5.0</td>\n",
       "    </tr>\n",
       "    <tr>\n",
       "      <th>2</th>\n",
       "      <td>Colley</td>\n",
       "      <td>7</td>\n",
       "      <td>2002</td>\n",
       "      <td>0</td>\n",
       "      <td>0</td>\n",
       "      <td>0.1</td>\n",
       "      <td>14</td>\n",
       "      <td>0.800000</td>\n",
       "      <td>0.277778</td>\n",
       "      <td>days_to_subtract=7</td>\n",
       "      <td>madness</td>\n",
       "      <td>Both</td>\n",
       "      <td>2.0</td>\n",
       "      <td>104.0</td>\n",
       "      <td>6.0</td>\n",
       "      <td>10.0</td>\n",
       "      <td>3.0</td>\n",
       "      <td>5.0</td>\n",
       "    </tr>\n",
       "    <tr>\n",
       "      <th>3</th>\n",
       "      <td>Colley</td>\n",
       "      <td>7</td>\n",
       "      <td>2002</td>\n",
       "      <td>0</td>\n",
       "      <td>0</td>\n",
       "      <td>0.1</td>\n",
       "      <td>21</td>\n",
       "      <td>0.636364</td>\n",
       "      <td>-0.555556</td>\n",
       "      <td>days_to_subtract=7</td>\n",
       "      <td>madness</td>\n",
       "      <td>Direct</td>\n",
       "      <td>1.0</td>\n",
       "      <td>0.0</td>\n",
       "      <td>50.0</td>\n",
       "      <td>54.0</td>\n",
       "      <td>25.0</td>\n",
       "      <td>27.0</td>\n",
       "    </tr>\n",
       "    <tr>\n",
       "      <th>4</th>\n",
       "      <td>Colley</td>\n",
       "      <td>7</td>\n",
       "      <td>2002</td>\n",
       "      <td>0</td>\n",
       "      <td>0</td>\n",
       "      <td>0.1</td>\n",
       "      <td>21</td>\n",
       "      <td>0.636364</td>\n",
       "      <td>-0.555556</td>\n",
       "      <td>days_to_subtract=7</td>\n",
       "      <td>madness</td>\n",
       "      <td>Indirect</td>\n",
       "      <td>9.0</td>\n",
       "      <td>87.0</td>\n",
       "      <td>8.0</td>\n",
       "      <td>10.0</td>\n",
       "      <td>4.0</td>\n",
       "      <td>5.0</td>\n",
       "    </tr>\n",
       "    <tr>\n",
       "      <th>...</th>\n",
       "      <td>...</td>\n",
       "      <td>...</td>\n",
       "      <td>...</td>\n",
       "      <td>...</td>\n",
       "      <td>...</td>\n",
       "      <td>...</td>\n",
       "      <td>...</td>\n",
       "      <td>...</td>\n",
       "      <td>...</td>\n",
       "      <td>...</td>\n",
       "      <td>...</td>\n",
       "      <td>...</td>\n",
       "      <td>...</td>\n",
       "      <td>...</td>\n",
       "      <td>...</td>\n",
       "      <td>...</td>\n",
       "      <td>...</td>\n",
       "      <td>...</td>\n",
       "    </tr>\n",
       "    <tr>\n",
       "      <th>1015</th>\n",
       "      <td>Massey</td>\n",
       "      <td>28</td>\n",
       "      <td>2017</td>\n",
       "      <td>0</td>\n",
       "      <td>0</td>\n",
       "      <td>0.1</td>\n",
       "      <td>35</td>\n",
       "      <td>1.000000</td>\n",
       "      <td>0.111111</td>\n",
       "      <td>days_to_subtract=28</td>\n",
       "      <td>madness</td>\n",
       "      <td>Indirect</td>\n",
       "      <td>11.0</td>\n",
       "      <td>80.0</td>\n",
       "      <td>16.0</td>\n",
       "      <td>10.0</td>\n",
       "      <td>8.0</td>\n",
       "      <td>5.0</td>\n",
       "    </tr>\n",
       "    <tr>\n",
       "      <th>1016</th>\n",
       "      <td>Massey</td>\n",
       "      <td>28</td>\n",
       "      <td>2017</td>\n",
       "      <td>0</td>\n",
       "      <td>0</td>\n",
       "      <td>0.1</td>\n",
       "      <td>35</td>\n",
       "      <td>1.000000</td>\n",
       "      <td>0.111111</td>\n",
       "      <td>days_to_subtract=28</td>\n",
       "      <td>madness</td>\n",
       "      <td>Both</td>\n",
       "      <td>2.1</td>\n",
       "      <td>92.0</td>\n",
       "      <td>12.0</td>\n",
       "      <td>0.0</td>\n",
       "      <td>6.0</td>\n",
       "      <td>-0.0</td>\n",
       "    </tr>\n",
       "    <tr>\n",
       "      <th>1017</th>\n",
       "      <td>Massey</td>\n",
       "      <td>28</td>\n",
       "      <td>2018</td>\n",
       "      <td>0</td>\n",
       "      <td>0</td>\n",
       "      <td>0.1</td>\n",
       "      <td>35</td>\n",
       "      <td>0.636364</td>\n",
       "      <td>0.055556</td>\n",
       "      <td>days_to_subtract=28</td>\n",
       "      <td>madness</td>\n",
       "      <td>Direct</td>\n",
       "      <td>2.0</td>\n",
       "      <td>2.0</td>\n",
       "      <td>64.0</td>\n",
       "      <td>64.0</td>\n",
       "      <td>31.0</td>\n",
       "      <td>31.0</td>\n",
       "    </tr>\n",
       "    <tr>\n",
       "      <th>1018</th>\n",
       "      <td>Massey</td>\n",
       "      <td>28</td>\n",
       "      <td>2018</td>\n",
       "      <td>0</td>\n",
       "      <td>0</td>\n",
       "      <td>0.1</td>\n",
       "      <td>35</td>\n",
       "      <td>0.636364</td>\n",
       "      <td>0.055556</td>\n",
       "      <td>days_to_subtract=28</td>\n",
       "      <td>madness</td>\n",
       "      <td>Indirect</td>\n",
       "      <td>7.0</td>\n",
       "      <td>84.0</td>\n",
       "      <td>16.0</td>\n",
       "      <td>2.0</td>\n",
       "      <td>8.0</td>\n",
       "      <td>1.0</td>\n",
       "    </tr>\n",
       "    <tr>\n",
       "      <th>1019</th>\n",
       "      <td>Massey</td>\n",
       "      <td>28</td>\n",
       "      <td>2018</td>\n",
       "      <td>0</td>\n",
       "      <td>0</td>\n",
       "      <td>0.1</td>\n",
       "      <td>35</td>\n",
       "      <td>0.636364</td>\n",
       "      <td>0.055556</td>\n",
       "      <td>days_to_subtract=28</td>\n",
       "      <td>madness</td>\n",
       "      <td>Both</td>\n",
       "      <td>1.9</td>\n",
       "      <td>97.0</td>\n",
       "      <td>4.0</td>\n",
       "      <td>8.0</td>\n",
       "      <td>2.0</td>\n",
       "      <td>4.0</td>\n",
       "    </tr>\n",
       "  </tbody>\n",
       "</table>\n",
       "<p>1020 rows × 18 columns</p>\n",
       "</div>"
      ],
      "text/plain": [
       "      Method  days_to_subtract1  Year  direct_thres  spread_thres  \\\n",
       "0     Colley                  7  2002             0             0   \n",
       "1     Colley                  7  2002             0             0   \n",
       "2     Colley                  7  2002             0             0   \n",
       "3     Colley                  7  2002             0             0   \n",
       "4     Colley                  7  2002             0             0   \n",
       "...      ...                ...   ...           ...           ...   \n",
       "1015  Massey                 28  2017             0             0   \n",
       "1016  Massey                 28  2017             0             0   \n",
       "1017  Massey                 28  2018             0             0   \n",
       "1018  Massey                 28  2018             0             0   \n",
       "1019  Massey                 28  2018             0             0   \n",
       "\n",
       "      weight_indirect  days_to_subtract2  top10_jaccard  top10_tau  \\\n",
       "0                 0.1                 14       0.800000   0.277778   \n",
       "1                 0.1                 14       0.800000   0.277778   \n",
       "2                 0.1                 14       0.800000   0.277778   \n",
       "3                 0.1                 21       0.636364  -0.555556   \n",
       "4                 0.1                 21       0.636364  -0.555556   \n",
       "...               ...                ...            ...        ...   \n",
       "1015              0.1                 35       1.000000   0.111111   \n",
       "1016              0.1                 35       1.000000   0.111111   \n",
       "1017              0.1                 35       0.636364   0.055556   \n",
       "1018              0.1                 35       0.636364   0.055556   \n",
       "1019              0.1                 35       0.636364   0.055556   \n",
       "\n",
       "     days_to_subtract_key    range Construction  delta_lop  delta_hillside  \\\n",
       "0      days_to_subtract=7  madness       Direct        1.0             0.0   \n",
       "1      days_to_subtract=7  madness     Indirect        9.0            87.0   \n",
       "2      days_to_subtract=7  madness         Both        2.0           104.0   \n",
       "3      days_to_subtract=7  madness       Direct        1.0             0.0   \n",
       "4      days_to_subtract=7  madness     Indirect        9.0            87.0   \n",
       "...                   ...      ...          ...        ...             ...   \n",
       "1015  days_to_subtract=28  madness     Indirect       11.0            80.0   \n",
       "1016  days_to_subtract=28  madness         Both        2.1            92.0   \n",
       "1017  days_to_subtract=28  madness       Direct        2.0             2.0   \n",
       "1018  days_to_subtract=28  madness     Indirect        7.0            84.0   \n",
       "1019  days_to_subtract=28  madness         Both        1.9            97.0   \n",
       "\n",
       "      nfrac_xstar_lop  nfrac_xstar_hillside  diameter_lop  diameter_hillside  \n",
       "0                50.0                  54.0          25.0               27.0  \n",
       "1                 8.0                  10.0           4.0                5.0  \n",
       "2                 6.0                  10.0           3.0                5.0  \n",
       "3                50.0                  54.0          25.0               27.0  \n",
       "4                 8.0                  10.0           4.0                5.0  \n",
       "...               ...                   ...           ...                ...  \n",
       "1015             16.0                  10.0           8.0                5.0  \n",
       "1016             12.0                   0.0           6.0               -0.0  \n",
       "1017             64.0                  64.0          31.0               31.0  \n",
       "1018             16.0                   2.0           8.0                1.0  \n",
       "1019              4.0                   8.0           2.0                4.0  \n",
       "\n",
       "[1020 rows x 18 columns]"
      ]
     },
     "execution_count": 42,
     "metadata": {},
     "output_type": "execute_result"
    }
   ],
   "source": [
    "Xy = target.reset_index().set_index(['Method','days_to_subtract1','Year','direct_thres','spread_thres','weight_indirect']).join(X_for_join.set_index(['Method','days_to_subtract1','Year','direct_thres','spread_thres','weight_indirect'])).dropna()\n",
    "Xy = Xy.reset_index()\n",
    "Xy"
   ]
  },
  {
   "cell_type": "markdown",
   "metadata": {},
   "source": [
    "## Process results"
   ]
  },
  {
   "cell_type": "code",
   "execution_count": 43,
   "metadata": {},
   "outputs": [],
   "source": [
    "pairs_by_width = {}\n",
    "for f1,f2 in itertools.combinations(X_for_join['days_to_subtract1'].unique().astype(int),2):\n",
    "    if f2 < f1:\n",
    "        f1,f2 = f2,f1\n",
    "    width = f2-f1#round(100*(f2-f1))\n",
    "    if width not in pairs_by_width:\n",
    "        pairs_by_width[width] = []\n",
    "    pairs_by_width[width].append((f1,f2))"
   ]
  },
  {
   "cell_type": "code",
   "execution_count": 44,
   "metadata": {},
   "outputs": [
    {
     "data": {
      "text/plain": [
       "{7: [(28, 35), (21, 28), (14, 21), (7, 14)],\n",
       " 14: [(21, 35), (14, 28), (7, 21)],\n",
       " 21: [(14, 35), (7, 28)],\n",
       " 28: [(7, 35)]}"
      ]
     },
     "execution_count": 44,
     "metadata": {},
     "output_type": "execute_result"
    }
   ],
   "source": [
    "pairs_by_width"
   ]
  },
  {
   "cell_type": "code",
   "execution_count": 45,
   "metadata": {},
   "outputs": [
    {
     "data": {
      "text/plain": [
       "['days_to_subtract1',\n",
       " 'days_to_subtract2',\n",
       " 'Method',\n",
       " 'Construction',\n",
       " 'delta_lop',\n",
       " 'delta_hillside',\n",
       " 'nfrac_xstar_lop',\n",
       " 'nfrac_xstar_hillside',\n",
       " 'diameter_lop',\n",
       " 'diameter_hillside']"
      ]
     },
     "execution_count": 45,
     "metadata": {},
     "output_type": "execute_result"
    }
   ],
   "source": [
    "[\"days_to_subtract1\",\"days_to_subtract2\",\"Method\",\"Construction\"]+feature_columns"
   ]
  },
  {
   "cell_type": "code",
   "execution_count": 46,
   "metadata": {},
   "outputs": [],
   "source": [
    "#!sudo pip install pandas --upgrade"
   ]
  },
  {
   "cell_type": "code",
   "execution_count": 47,
   "metadata": {
    "scrolled": true
   },
   "outputs": [
    {
     "name": "stderr",
     "output_type": "stream",
     "text": [
      "/opt/tljh/user/lib/python3.7/site-packages/ipykernel_launcher.py:11: PerformanceWarning: indexing past lexsort depth may impact performance.\n",
      "  # This is added back by InteractiveShellApp.init_path()\n",
      "/opt/tljh/user/lib/python3.7/site-packages/ipykernel_launcher.py:16: PerformanceWarning: indexing past lexsort depth may impact performance.\n",
      "  app.launch_new_instance()\n"
     ]
    }
   ],
   "source": [
    "import altair as alt\n",
    "\n",
    "index_cols = ['Method', 'Construction', 'days_to_subtract1', 'days_to_subtract2','width']\n",
    "graph_dfs = {}\n",
    "for target_column in feature_names:\n",
    "    graph_df = pd.DataFrame(columns=index_cols+feature_columns).set_index(index_cols)\n",
    "\n",
    "    for width in pairs_by_width.keys():\n",
    "        summary = None\n",
    "        for pair in pairs_by_width[width]:\n",
    "            data = Xy.set_index(['days_to_subtract1','days_to_subtract2']).loc[pair].reset_index()\n",
    "            for_corr = data.set_index(['Method','Construction',\"days_to_subtract1\",\"days_to_subtract2\"])\n",
    "            if summary is None:\n",
    "                summary = pd.DataFrame(columns=[\"days_to_subtract1\",\"days_to_subtract2\",\"Method\",\"Construction\"]+feature_columns).set_index(list(for_corr.index.names))\n",
    "            for ix in for_corr.index.unique():\n",
    "                corr_results = for_corr.loc[ix][[target_column]+feature_columns].corr()\n",
    "                target_corr_results = corr_results.loc[target_column].drop(target_column)\n",
    "                target_corr_results.name = ix\n",
    "                summary = summary.append(target_corr_results)\n",
    "\n",
    "        graph_df1 = summary.reset_index()\n",
    "        graph_df1['width'] = width\n",
    "        graph_df1 = graph_df1.set_index(index_cols)\n",
    "        graph_df = graph_df.append(graph_df1)\n",
    "    graph_dfs[target_column]=graph_df"
   ]
  },
  {
   "cell_type": "code",
   "execution_count": 48,
   "metadata": {},
   "outputs": [],
   "source": [
    "for key in graph_dfs.keys():\n",
    "    graph_dfs[key] = graph_dfs[key].reset_index()"
   ]
  },
  {
   "cell_type": "code",
   "execution_count": 49,
   "metadata": {},
   "outputs": [
    {
     "data": {
      "text/html": [
       "<div>\n",
       "<style scoped>\n",
       "    .dataframe tbody tr th:only-of-type {\n",
       "        vertical-align: middle;\n",
       "    }\n",
       "\n",
       "    .dataframe tbody tr th {\n",
       "        vertical-align: top;\n",
       "    }\n",
       "\n",
       "    .dataframe thead th {\n",
       "        text-align: right;\n",
       "    }\n",
       "</style>\n",
       "<table border=\"1\" class=\"dataframe\">\n",
       "  <thead>\n",
       "    <tr style=\"text-align: right;\">\n",
       "      <th></th>\n",
       "      <th>Method</th>\n",
       "      <th>Construction</th>\n",
       "      <th>days_to_subtract1</th>\n",
       "      <th>days_to_subtract2</th>\n",
       "      <th>width</th>\n",
       "      <th>delta_lop</th>\n",
       "      <th>delta_hillside</th>\n",
       "      <th>nfrac_xstar_lop</th>\n",
       "      <th>nfrac_xstar_hillside</th>\n",
       "      <th>diameter_lop</th>\n",
       "      <th>diameter_hillside</th>\n",
       "    </tr>\n",
       "  </thead>\n",
       "  <tbody>\n",
       "    <tr>\n",
       "      <th>0</th>\n",
       "      <td>Colley</td>\n",
       "      <td>Direct</td>\n",
       "      <td>28</td>\n",
       "      <td>35</td>\n",
       "      <td>7</td>\n",
       "      <td>0.089558</td>\n",
       "      <td>0.276910</td>\n",
       "      <td>-0.005222</td>\n",
       "      <td>0.243950</td>\n",
       "      <td>0.007466</td>\n",
       "      <td>-0.026597</td>\n",
       "    </tr>\n",
       "    <tr>\n",
       "      <th>1</th>\n",
       "      <td>Colley</td>\n",
       "      <td>Indirect</td>\n",
       "      <td>28</td>\n",
       "      <td>35</td>\n",
       "      <td>7</td>\n",
       "      <td>0.277504</td>\n",
       "      <td>0.159061</td>\n",
       "      <td>0.245822</td>\n",
       "      <td>-0.395223</td>\n",
       "      <td>0.301307</td>\n",
       "      <td>-0.345514</td>\n",
       "    </tr>\n",
       "    <tr>\n",
       "      <th>2</th>\n",
       "      <td>Colley</td>\n",
       "      <td>Both</td>\n",
       "      <td>28</td>\n",
       "      <td>35</td>\n",
       "      <td>7</td>\n",
       "      <td>0.255392</td>\n",
       "      <td>0.249144</td>\n",
       "      <td>0.158624</td>\n",
       "      <td>0.065713</td>\n",
       "      <td>0.197243</td>\n",
       "      <td>-0.018779</td>\n",
       "    </tr>\n",
       "    <tr>\n",
       "      <th>3</th>\n",
       "      <td>Massey</td>\n",
       "      <td>Direct</td>\n",
       "      <td>28</td>\n",
       "      <td>35</td>\n",
       "      <td>7</td>\n",
       "      <td>0.178955</td>\n",
       "      <td>0.373124</td>\n",
       "      <td>-0.018475</td>\n",
       "      <td>0.348866</td>\n",
       "      <td>-0.226361</td>\n",
       "      <td>-0.237737</td>\n",
       "    </tr>\n",
       "    <tr>\n",
       "      <th>4</th>\n",
       "      <td>Massey</td>\n",
       "      <td>Indirect</td>\n",
       "      <td>28</td>\n",
       "      <td>35</td>\n",
       "      <td>7</td>\n",
       "      <td>0.195509</td>\n",
       "      <td>0.208005</td>\n",
       "      <td>0.172273</td>\n",
       "      <td>0.324947</td>\n",
       "      <td>0.147121</td>\n",
       "      <td>0.244718</td>\n",
       "    </tr>\n",
       "  </tbody>\n",
       "</table>\n",
       "</div>"
      ],
      "text/plain": [
       "   Method Construction  days_to_subtract1  days_to_subtract2  width  \\\n",
       "0  Colley       Direct                 28                 35      7   \n",
       "1  Colley     Indirect                 28                 35      7   \n",
       "2  Colley         Both                 28                 35      7   \n",
       "3  Massey       Direct                 28                 35      7   \n",
       "4  Massey     Indirect                 28                 35      7   \n",
       "\n",
       "   delta_lop  delta_hillside  nfrac_xstar_lop  nfrac_xstar_hillside  \\\n",
       "0   0.089558        0.276910        -0.005222              0.243950   \n",
       "1   0.277504        0.159061         0.245822             -0.395223   \n",
       "2   0.255392        0.249144         0.158624              0.065713   \n",
       "3   0.178955        0.373124        -0.018475              0.348866   \n",
       "4   0.195509        0.208005         0.172273              0.324947   \n",
       "\n",
       "   diameter_lop  diameter_hillside  \n",
       "0      0.007466          -0.026597  \n",
       "1      0.301307          -0.345514  \n",
       "2      0.197243          -0.018779  \n",
       "3     -0.226361          -0.237737  \n",
       "4      0.147121           0.244718  "
      ]
     },
     "execution_count": 49,
     "metadata": {},
     "output_type": "execute_result"
    }
   ],
   "source": [
    "graph_dfs[key].head()"
   ]
  },
  {
   "cell_type": "code",
   "execution_count": 50,
   "metadata": {},
   "outputs": [
    {
     "data": {
      "text/markdown": [
       "## top10_jaccard"
      ],
      "text/plain": [
       "<IPython.core.display.Markdown object>"
      ]
     },
     "metadata": {},
     "output_type": "display_data"
    },
    {
     "data": {
      "text/markdown": [
       "### Colley"
      ],
      "text/plain": [
       "<IPython.core.display.Markdown object>"
      ]
     },
     "metadata": {},
     "output_type": "display_data"
    },
    {
     "data": {
      "text/html": [
       "\n",
       "<div id=\"altair-viz-e4450e4038bc43818d2e6864db65997a\"></div>\n",
       "<script type=\"text/javascript\">\n",
       "  (function(spec, embedOpt){\n",
       "    let outputDiv = document.currentScript.previousElementSibling;\n",
       "    if (outputDiv.id !== \"altair-viz-e4450e4038bc43818d2e6864db65997a\") {\n",
       "      outputDiv = document.getElementById(\"altair-viz-e4450e4038bc43818d2e6864db65997a\");\n",
       "    }\n",
       "    const paths = {\n",
       "      \"vega\": \"https://cdn.jsdelivr.net/npm//vega@5?noext\",\n",
       "      \"vega-lib\": \"https://cdn.jsdelivr.net/npm//vega-lib?noext\",\n",
       "      \"vega-lite\": \"https://cdn.jsdelivr.net/npm//vega-lite@4.8.1?noext\",\n",
       "      \"vega-embed\": \"https://cdn.jsdelivr.net/npm//vega-embed@6?noext\",\n",
       "    };\n",
       "\n",
       "    function loadScript(lib) {\n",
       "      return new Promise(function(resolve, reject) {\n",
       "        var s = document.createElement('script');\n",
       "        s.src = paths[lib];\n",
       "        s.async = true;\n",
       "        s.onload = () => resolve(paths[lib]);\n",
       "        s.onerror = () => reject(`Error loading script: ${paths[lib]}`);\n",
       "        document.getElementsByTagName(\"head\")[0].appendChild(s);\n",
       "      });\n",
       "    }\n",
       "\n",
       "    function showError(err) {\n",
       "      outputDiv.innerHTML = `<div class=\"error\" style=\"color:red;\">${err}</div>`;\n",
       "      throw err;\n",
       "    }\n",
       "\n",
       "    function displayChart(vegaEmbed) {\n",
       "      vegaEmbed(outputDiv, spec, embedOpt)\n",
       "        .catch(err => showError(`Javascript Error: ${err.message}<br>This usually means there's a typo in your chart specification. See the javascript console for the full traceback.`));\n",
       "    }\n",
       "\n",
       "    if(typeof define === \"function\" && define.amd) {\n",
       "      requirejs.config({paths});\n",
       "      require([\"vega-embed\"], displayChart, err => showError(`Error loading script: ${err.message}`));\n",
       "    } else if (typeof vegaEmbed === \"function\") {\n",
       "      displayChart(vegaEmbed);\n",
       "    } else {\n",
       "      loadScript(\"vega\")\n",
       "        .then(() => loadScript(\"vega-lite\"))\n",
       "        .then(() => loadScript(\"vega-embed\"))\n",
       "        .catch(showError)\n",
       "        .then(() => displayChart(vegaEmbed));\n",
       "    }\n",
       "  })({\"config\": {\"view\": {\"continuousWidth\": 400, \"continuousHeight\": 300}}, \"data\": {\"name\": \"data-393645c57d289c544c2b2337c90c2963\"}, \"mark\": \"bar\", \"encoding\": {\"color\": {\"type\": \"nominal\", \"field\": \"Construction\"}, \"column\": {\"type\": \"nominal\", \"field\": \"Construction\"}, \"row\": {\"type\": \"nominal\", \"field\": \"Feature\"}, \"x\": {\"type\": \"nominal\", \"field\": \"width\"}, \"y\": {\"type\": \"quantitative\", \"aggregate\": \"average\", \"field\": \"Value\", \"scale\": {\"domain\": [-0.6, 0.6]}}}, \"$schema\": \"https://vega.github.io/schema/vega-lite/v4.8.1.json\", \"datasets\": {\"data-393645c57d289c544c2b2337c90c2963\": [{\"Construction\": \"Direct\", \"days_to_subtract1\": 28, \"days_to_subtract2\": 35, \"width\": 7, \"Feature\": \"delta_lop\", \"Value\": -0.2686881235411964}, {\"Construction\": \"Indirect\", \"days_to_subtract1\": 28, \"days_to_subtract2\": 35, \"width\": 7, \"Feature\": \"delta_lop\", \"Value\": -0.07576781146884394}, {\"Construction\": \"Both\", \"days_to_subtract1\": 28, \"days_to_subtract2\": 35, \"width\": 7, \"Feature\": \"delta_lop\", \"Value\": -0.20819409011749646}, {\"Construction\": \"Direct\", \"days_to_subtract1\": 21, \"days_to_subtract2\": 28, \"width\": 7, \"Feature\": \"delta_lop\", \"Value\": -0.1463120757314811}, {\"Construction\": \"Indirect\", \"days_to_subtract1\": 21, \"days_to_subtract2\": 28, \"width\": 7, \"Feature\": \"delta_lop\", \"Value\": -0.27166605803869226}, {\"Construction\": \"Both\", \"days_to_subtract1\": 21, \"days_to_subtract2\": 28, \"width\": 7, \"Feature\": \"delta_lop\", \"Value\": -0.23215088351188262}, {\"Construction\": \"Direct\", \"days_to_subtract1\": 14, \"days_to_subtract2\": 21, \"width\": 7, \"Feature\": \"delta_lop\", \"Value\": -0.1888615900621286}, {\"Construction\": \"Indirect\", \"days_to_subtract1\": 14, \"days_to_subtract2\": 21, \"width\": 7, \"Feature\": \"delta_lop\", \"Value\": -0.2136566398778118}, {\"Construction\": \"Both\", \"days_to_subtract1\": 14, \"days_to_subtract2\": 21, \"width\": 7, \"Feature\": \"delta_lop\", \"Value\": -0.13055368115939714}, {\"Construction\": \"Direct\", \"days_to_subtract1\": 7, \"days_to_subtract2\": 14, \"width\": 7, \"Feature\": \"delta_lop\", \"Value\": -0.20654854509578907}, {\"Construction\": \"Indirect\", \"days_to_subtract1\": 7, \"days_to_subtract2\": 14, \"width\": 7, \"Feature\": \"delta_lop\", \"Value\": 0.17828356469617018}, {\"Construction\": \"Both\", \"days_to_subtract1\": 7, \"days_to_subtract2\": 14, \"width\": 7, \"Feature\": \"delta_lop\", \"Value\": -0.04780819207396485}, {\"Construction\": \"Direct\", \"days_to_subtract1\": 21, \"days_to_subtract2\": 35, \"width\": 14, \"Feature\": \"delta_lop\", \"Value\": 0.285510258838631}, {\"Construction\": \"Indirect\", \"days_to_subtract1\": 21, \"days_to_subtract2\": 35, \"width\": 14, \"Feature\": \"delta_lop\", \"Value\": -0.052645822488327686}, {\"Construction\": \"Both\", \"days_to_subtract1\": 21, \"days_to_subtract2\": 35, \"width\": 14, \"Feature\": \"delta_lop\", \"Value\": 0.12654954875232335}, {\"Construction\": \"Direct\", \"days_to_subtract1\": 14, \"days_to_subtract2\": 28, \"width\": 14, \"Feature\": \"delta_lop\", \"Value\": -0.0756989072524564}, {\"Construction\": \"Indirect\", \"days_to_subtract1\": 14, \"days_to_subtract2\": 28, \"width\": 14, \"Feature\": \"delta_lop\", \"Value\": -0.03847162714580221}, {\"Construction\": \"Both\", \"days_to_subtract1\": 14, \"days_to_subtract2\": 28, \"width\": 14, \"Feature\": \"delta_lop\", \"Value\": -0.10366212647112732}, {\"Construction\": \"Direct\", \"days_to_subtract1\": 7, \"days_to_subtract2\": 21, \"width\": 14, \"Feature\": \"delta_lop\", \"Value\": 0.30200294358384955}, {\"Construction\": \"Indirect\", \"days_to_subtract1\": 7, \"days_to_subtract2\": 21, \"width\": 14, \"Feature\": \"delta_lop\", \"Value\": -0.05317151989916424}, {\"Construction\": \"Both\", \"days_to_subtract1\": 7, \"days_to_subtract2\": 21, \"width\": 14, \"Feature\": \"delta_lop\", \"Value\": 0.10812053897773957}, {\"Construction\": \"Direct\", \"days_to_subtract1\": 14, \"days_to_subtract2\": 35, \"width\": 21, \"Feature\": \"delta_lop\", \"Value\": -0.25615001536881155}, {\"Construction\": \"Indirect\", \"days_to_subtract1\": 14, \"days_to_subtract2\": 35, \"width\": 21, \"Feature\": \"delta_lop\", \"Value\": -0.30080636072427597}, {\"Construction\": \"Both\", \"days_to_subtract1\": 14, \"days_to_subtract2\": 35, \"width\": 21, \"Feature\": \"delta_lop\", \"Value\": -0.24794183897081143}, {\"Construction\": \"Direct\", \"days_to_subtract1\": 7, \"days_to_subtract2\": 28, \"width\": 21, \"Feature\": \"delta_lop\", \"Value\": 0.092605092715176}, {\"Construction\": \"Indirect\", \"days_to_subtract1\": 7, \"days_to_subtract2\": 28, \"width\": 21, \"Feature\": \"delta_lop\", \"Value\": -0.2581303182710197}, {\"Construction\": \"Both\", \"days_to_subtract1\": 7, \"days_to_subtract2\": 28, \"width\": 21, \"Feature\": \"delta_lop\", \"Value\": -0.14034003986837537}, {\"Construction\": \"Direct\", \"days_to_subtract1\": 7, \"days_to_subtract2\": 35, \"width\": 28, \"Feature\": \"delta_lop\", \"Value\": -0.04294203684585601}, {\"Construction\": \"Indirect\", \"days_to_subtract1\": 7, \"days_to_subtract2\": 35, \"width\": 28, \"Feature\": \"delta_lop\", \"Value\": -0.4786872524868136}, {\"Construction\": \"Both\", \"days_to_subtract1\": 7, \"days_to_subtract2\": 35, \"width\": 28, \"Feature\": \"delta_lop\", \"Value\": -0.2865658440981263}, {\"Construction\": \"Direct\", \"days_to_subtract1\": 28, \"days_to_subtract2\": 35, \"width\": 7, \"Feature\": \"delta_hillside\", \"Value\": -0.015302146497820211}, {\"Construction\": \"Indirect\", \"days_to_subtract1\": 28, \"days_to_subtract2\": 35, \"width\": 7, \"Feature\": \"delta_hillside\", \"Value\": -0.17331487136619042}, {\"Construction\": \"Both\", \"days_to_subtract1\": 28, \"days_to_subtract2\": 35, \"width\": 7, \"Feature\": \"delta_hillside\", \"Value\": -0.29657734264358476}, {\"Construction\": \"Direct\", \"days_to_subtract1\": 21, \"days_to_subtract2\": 28, \"width\": 7, \"Feature\": \"delta_hillside\", \"Value\": -0.034697266281869435}, {\"Construction\": \"Indirect\", \"days_to_subtract1\": 21, \"days_to_subtract2\": 28, \"width\": 7, \"Feature\": \"delta_hillside\", \"Value\": -0.3218743258854267}, {\"Construction\": \"Both\", \"days_to_subtract1\": 21, \"days_to_subtract2\": 28, \"width\": 7, \"Feature\": \"delta_hillside\", \"Value\": -0.21234962182658}, {\"Construction\": \"Direct\", \"days_to_subtract1\": 14, \"days_to_subtract2\": 21, \"width\": 7, \"Feature\": \"delta_hillside\", \"Value\": 0.06347957248670832}, {\"Construction\": \"Indirect\", \"days_to_subtract1\": 14, \"days_to_subtract2\": 21, \"width\": 7, \"Feature\": \"delta_hillside\", \"Value\": -0.010661228480714753}, {\"Construction\": \"Both\", \"days_to_subtract1\": 14, \"days_to_subtract2\": 21, \"width\": 7, \"Feature\": \"delta_hillside\", \"Value\": 0.0836978723767815}, {\"Construction\": \"Direct\", \"days_to_subtract1\": 7, \"days_to_subtract2\": 14, \"width\": 7, \"Feature\": \"delta_hillside\", \"Value\": -0.21823684648822325}, {\"Construction\": \"Indirect\", \"days_to_subtract1\": 7, \"days_to_subtract2\": 14, \"width\": 7, \"Feature\": \"delta_hillside\", \"Value\": 0.05557774049354312}, {\"Construction\": \"Both\", \"days_to_subtract1\": 7, \"days_to_subtract2\": 14, \"width\": 7, \"Feature\": \"delta_hillside\", \"Value\": -0.10151910880161193}, {\"Construction\": \"Direct\", \"days_to_subtract1\": 21, \"days_to_subtract2\": 35, \"width\": 14, \"Feature\": \"delta_hillside\", \"Value\": -0.0657032378346592}, {\"Construction\": \"Indirect\", \"days_to_subtract1\": 21, \"days_to_subtract2\": 35, \"width\": 14, \"Feature\": \"delta_hillside\", \"Value\": -0.06353067795018888}, {\"Construction\": \"Both\", \"days_to_subtract1\": 21, \"days_to_subtract2\": 35, \"width\": 14, \"Feature\": \"delta_hillside\", \"Value\": -0.15491555527908213}, {\"Construction\": \"Direct\", \"days_to_subtract1\": 14, \"days_to_subtract2\": 28, \"width\": 14, \"Feature\": \"delta_hillside\", \"Value\": -0.04267253446309861}, {\"Construction\": \"Indirect\", \"days_to_subtract1\": 14, \"days_to_subtract2\": 28, \"width\": 14, \"Feature\": \"delta_hillside\", \"Value\": 0.1640580960492734}, {\"Construction\": \"Both\", \"days_to_subtract1\": 14, \"days_to_subtract2\": 28, \"width\": 14, \"Feature\": \"delta_hillside\", \"Value\": 0.3422706864537189}, {\"Construction\": \"Direct\", \"days_to_subtract1\": 7, \"days_to_subtract2\": 21, \"width\": 14, \"Feature\": \"delta_hillside\", \"Value\": 0.2249663994491891}, {\"Construction\": \"Indirect\", \"days_to_subtract1\": 7, \"days_to_subtract2\": 21, \"width\": 14, \"Feature\": \"delta_hillside\", \"Value\": 0.048095249246172186}, {\"Construction\": \"Both\", \"days_to_subtract1\": 7, \"days_to_subtract2\": 21, \"width\": 14, \"Feature\": \"delta_hillside\", \"Value\": 0.019200339882284777}, {\"Construction\": \"Direct\", \"days_to_subtract1\": 14, \"days_to_subtract2\": 35, \"width\": 21, \"Feature\": \"delta_hillside\", \"Value\": -0.23398169909187896}, {\"Construction\": \"Indirect\", \"days_to_subtract1\": 14, \"days_to_subtract2\": 35, \"width\": 21, \"Feature\": \"delta_hillside\", \"Value\": -0.11296781094455821}, {\"Construction\": \"Both\", \"days_to_subtract1\": 14, \"days_to_subtract2\": 35, \"width\": 21, \"Feature\": \"delta_hillside\", \"Value\": -0.16772038677532833}, {\"Construction\": \"Direct\", \"days_to_subtract1\": 7, \"days_to_subtract2\": 28, \"width\": 21, \"Feature\": \"delta_hillside\", \"Value\": 0.051807608287252005}, {\"Construction\": \"Indirect\", \"days_to_subtract1\": 7, \"days_to_subtract2\": 28, \"width\": 21, \"Feature\": \"delta_hillside\", \"Value\": -0.15296320571476624}, {\"Construction\": \"Both\", \"days_to_subtract1\": 7, \"days_to_subtract2\": 28, \"width\": 21, \"Feature\": \"delta_hillside\", \"Value\": -0.17741343744224908}, {\"Construction\": \"Direct\", \"days_to_subtract1\": 7, \"days_to_subtract2\": 35, \"width\": 28, \"Feature\": \"delta_hillside\", \"Value\": -0.1511824935898229}, {\"Construction\": \"Indirect\", \"days_to_subtract1\": 7, \"days_to_subtract2\": 35, \"width\": 28, \"Feature\": \"delta_hillside\", \"Value\": -0.28040268762095394}, {\"Construction\": \"Both\", \"days_to_subtract1\": 7, \"days_to_subtract2\": 35, \"width\": 28, \"Feature\": \"delta_hillside\", \"Value\": -0.3431730490900374}, {\"Construction\": \"Direct\", \"days_to_subtract1\": 28, \"days_to_subtract2\": 35, \"width\": 7, \"Feature\": \"nfrac_xstar_lop\", \"Value\": 0.2517788223522355}, {\"Construction\": \"Indirect\", \"days_to_subtract1\": 28, \"days_to_subtract2\": 35, \"width\": 7, \"Feature\": \"nfrac_xstar_lop\", \"Value\": 0.14475420410282844}, {\"Construction\": \"Both\", \"days_to_subtract1\": 28, \"days_to_subtract2\": 35, \"width\": 7, \"Feature\": \"nfrac_xstar_lop\", \"Value\": -0.05576478075646789}, {\"Construction\": \"Direct\", \"days_to_subtract1\": 21, \"days_to_subtract2\": 28, \"width\": 7, \"Feature\": \"nfrac_xstar_lop\", \"Value\": -0.15846549291312778}, {\"Construction\": \"Indirect\", \"days_to_subtract1\": 21, \"days_to_subtract2\": 28, \"width\": 7, \"Feature\": \"nfrac_xstar_lop\", \"Value\": 0.10059752455410896}, {\"Construction\": \"Both\", \"days_to_subtract1\": 21, \"days_to_subtract2\": 28, \"width\": 7, \"Feature\": \"nfrac_xstar_lop\", \"Value\": 0.09351399221327363}, {\"Construction\": \"Direct\", \"days_to_subtract1\": 14, \"days_to_subtract2\": 21, \"width\": 7, \"Feature\": \"nfrac_xstar_lop\", \"Value\": 0.07491010189485584}, {\"Construction\": \"Indirect\", \"days_to_subtract1\": 14, \"days_to_subtract2\": 21, \"width\": 7, \"Feature\": \"nfrac_xstar_lop\", \"Value\": -0.20992143758939}, {\"Construction\": \"Both\", \"days_to_subtract1\": 14, \"days_to_subtract2\": 21, \"width\": 7, \"Feature\": \"nfrac_xstar_lop\", \"Value\": -0.1736666472596614}, {\"Construction\": \"Direct\", \"days_to_subtract1\": 7, \"days_to_subtract2\": 14, \"width\": 7, \"Feature\": \"nfrac_xstar_lop\", \"Value\": -0.05147840453008051}, {\"Construction\": \"Indirect\", \"days_to_subtract1\": 7, \"days_to_subtract2\": 14, \"width\": 7, \"Feature\": \"nfrac_xstar_lop\", \"Value\": -0.06304579790100194}, {\"Construction\": \"Both\", \"days_to_subtract1\": 7, \"days_to_subtract2\": 14, \"width\": 7, \"Feature\": \"nfrac_xstar_lop\", \"Value\": 0.14005807051528713}, {\"Construction\": \"Direct\", \"days_to_subtract1\": 21, \"days_to_subtract2\": 35, \"width\": 14, \"Feature\": \"nfrac_xstar_lop\", \"Value\": 0.2062548497113692}, {\"Construction\": \"Indirect\", \"days_to_subtract1\": 21, \"days_to_subtract2\": 35, \"width\": 14, \"Feature\": \"nfrac_xstar_lop\", \"Value\": -0.18831067831407908}, {\"Construction\": \"Both\", \"days_to_subtract1\": 21, \"days_to_subtract2\": 35, \"width\": 14, \"Feature\": \"nfrac_xstar_lop\", \"Value\": 0.10053589634803663}, {\"Construction\": \"Direct\", \"days_to_subtract1\": 14, \"days_to_subtract2\": 28, \"width\": 14, \"Feature\": \"nfrac_xstar_lop\", \"Value\": -0.3074786762285745}, {\"Construction\": \"Indirect\", \"days_to_subtract1\": 14, \"days_to_subtract2\": 28, \"width\": 14, \"Feature\": \"nfrac_xstar_lop\", \"Value\": -0.0306332104174483}, {\"Construction\": \"Both\", \"days_to_subtract1\": 14, \"days_to_subtract2\": 28, \"width\": 14, \"Feature\": \"nfrac_xstar_lop\", \"Value\": -0.22794571514610237}, {\"Construction\": \"Direct\", \"days_to_subtract1\": 7, \"days_to_subtract2\": 21, \"width\": 14, \"Feature\": \"nfrac_xstar_lop\", \"Value\": 0.17895624186495918}, {\"Construction\": \"Indirect\", \"days_to_subtract1\": 7, \"days_to_subtract2\": 21, \"width\": 14, \"Feature\": \"nfrac_xstar_lop\", \"Value\": -0.25609497470350906}, {\"Construction\": \"Both\", \"days_to_subtract1\": 7, \"days_to_subtract2\": 21, \"width\": 14, \"Feature\": \"nfrac_xstar_lop\", \"Value\": 0.06914838625943798}, {\"Construction\": \"Direct\", \"days_to_subtract1\": 14, \"days_to_subtract2\": 35, \"width\": 21, \"Feature\": \"nfrac_xstar_lop\", \"Value\": 0.05027867039650612}, {\"Construction\": \"Indirect\", \"days_to_subtract1\": 14, \"days_to_subtract2\": 35, \"width\": 21, \"Feature\": \"nfrac_xstar_lop\", \"Value\": -0.11175033093952828}, {\"Construction\": \"Both\", \"days_to_subtract1\": 14, \"days_to_subtract2\": 35, \"width\": 21, \"Feature\": \"nfrac_xstar_lop\", \"Value\": -0.10889272575261678}, {\"Construction\": \"Direct\", \"days_to_subtract1\": 7, \"days_to_subtract2\": 28, \"width\": 21, \"Feature\": \"nfrac_xstar_lop\", \"Value\": -0.10919038637647024}, {\"Construction\": \"Indirect\", \"days_to_subtract1\": 7, \"days_to_subtract2\": 28, \"width\": 21, \"Feature\": \"nfrac_xstar_lop\", \"Value\": -0.06876756755035153}, {\"Construction\": \"Both\", \"days_to_subtract1\": 7, \"days_to_subtract2\": 28, \"width\": 21, \"Feature\": \"nfrac_xstar_lop\", \"Value\": 0.11881040640220132}, {\"Construction\": \"Direct\", \"days_to_subtract1\": 7, \"days_to_subtract2\": 35, \"width\": 28, \"Feature\": \"nfrac_xstar_lop\", \"Value\": 0.09755283008048873}, {\"Construction\": \"Indirect\", \"days_to_subtract1\": 7, \"days_to_subtract2\": 35, \"width\": 28, \"Feature\": \"nfrac_xstar_lop\", \"Value\": -0.1391167659893814}, {\"Construction\": \"Both\", \"days_to_subtract1\": 7, \"days_to_subtract2\": 35, \"width\": 28, \"Feature\": \"nfrac_xstar_lop\", \"Value\": 0.1820900717669601}, {\"Construction\": \"Direct\", \"days_to_subtract1\": 28, \"days_to_subtract2\": 35, \"width\": 7, \"Feature\": \"nfrac_xstar_hillside\", \"Value\": -0.28199294054749957}, {\"Construction\": \"Indirect\", \"days_to_subtract1\": 28, \"days_to_subtract2\": 35, \"width\": 7, \"Feature\": \"nfrac_xstar_hillside\", \"Value\": 0.09857091184591633}, {\"Construction\": \"Both\", \"days_to_subtract1\": 28, \"days_to_subtract2\": 35, \"width\": 7, \"Feature\": \"nfrac_xstar_hillside\", \"Value\": 0.03933065326007996}, {\"Construction\": \"Direct\", \"days_to_subtract1\": 21, \"days_to_subtract2\": 28, \"width\": 7, \"Feature\": \"nfrac_xstar_hillside\", \"Value\": 0.03828718164628572}, {\"Construction\": \"Indirect\", \"days_to_subtract1\": 21, \"days_to_subtract2\": 28, \"width\": 7, \"Feature\": \"nfrac_xstar_hillside\", \"Value\": -0.16575239096582087}, {\"Construction\": \"Both\", \"days_to_subtract1\": 21, \"days_to_subtract2\": 28, \"width\": 7, \"Feature\": \"nfrac_xstar_hillside\", \"Value\": 0.14316333473152967}, {\"Construction\": \"Direct\", \"days_to_subtract1\": 14, \"days_to_subtract2\": 21, \"width\": 7, \"Feature\": \"nfrac_xstar_hillside\", \"Value\": -0.08341978770259513}, {\"Construction\": \"Indirect\", \"days_to_subtract1\": 14, \"days_to_subtract2\": 21, \"width\": 7, \"Feature\": \"nfrac_xstar_hillside\", \"Value\": -0.08025327992179504}, {\"Construction\": \"Both\", \"days_to_subtract1\": 14, \"days_to_subtract2\": 21, \"width\": 7, \"Feature\": \"nfrac_xstar_hillside\", \"Value\": -0.28369561062944054}, {\"Construction\": \"Direct\", \"days_to_subtract1\": 7, \"days_to_subtract2\": 14, \"width\": 7, \"Feature\": \"nfrac_xstar_hillside\", \"Value\": 0.48909841902755047}, {\"Construction\": \"Indirect\", \"days_to_subtract1\": 7, \"days_to_subtract2\": 14, \"width\": 7, \"Feature\": \"nfrac_xstar_hillside\", \"Value\": -0.009470297741960822}, {\"Construction\": \"Both\", \"days_to_subtract1\": 7, \"days_to_subtract2\": 14, \"width\": 7, \"Feature\": \"nfrac_xstar_hillside\", \"Value\": 0.10392898668861413}, {\"Construction\": \"Direct\", \"days_to_subtract1\": 21, \"days_to_subtract2\": 35, \"width\": 14, \"Feature\": \"nfrac_xstar_hillside\", \"Value\": 0.13333890616736996}, {\"Construction\": \"Indirect\", \"days_to_subtract1\": 21, \"days_to_subtract2\": 35, \"width\": 14, \"Feature\": \"nfrac_xstar_hillside\", \"Value\": -0.5231242529967407}, {\"Construction\": \"Both\", \"days_to_subtract1\": 21, \"days_to_subtract2\": 35, \"width\": 14, \"Feature\": \"nfrac_xstar_hillside\", \"Value\": 0.3393549481953183}, {\"Construction\": \"Direct\", \"days_to_subtract1\": 14, \"days_to_subtract2\": 28, \"width\": 14, \"Feature\": \"nfrac_xstar_hillside\", \"Value\": -0.4423268321342567}, {\"Construction\": \"Indirect\", \"days_to_subtract1\": 14, \"days_to_subtract2\": 28, \"width\": 14, \"Feature\": \"nfrac_xstar_hillside\", \"Value\": 0.3329250104143662}, {\"Construction\": \"Both\", \"days_to_subtract1\": 14, \"days_to_subtract2\": 28, \"width\": 14, \"Feature\": \"nfrac_xstar_hillside\", \"Value\": -0.3675229429942736}, {\"Construction\": \"Direct\", \"days_to_subtract1\": 7, \"days_to_subtract2\": 21, \"width\": 14, \"Feature\": \"nfrac_xstar_hillside\", \"Value\": -0.05573289014821211}, {\"Construction\": \"Indirect\", \"days_to_subtract1\": 7, \"days_to_subtract2\": 21, \"width\": 14, \"Feature\": \"nfrac_xstar_hillside\", \"Value\": -0.46314868111063134}, {\"Construction\": \"Both\", \"days_to_subtract1\": 7, \"days_to_subtract2\": 21, \"width\": 14, \"Feature\": \"nfrac_xstar_hillside\", \"Value\": -0.0404060448094932}, {\"Construction\": \"Direct\", \"days_to_subtract1\": 14, \"days_to_subtract2\": 35, \"width\": 21, \"Feature\": \"nfrac_xstar_hillside\", \"Value\": 0.0864331803911681}, {\"Construction\": \"Indirect\", \"days_to_subtract1\": 14, \"days_to_subtract2\": 35, \"width\": 21, \"Feature\": \"nfrac_xstar_hillside\", \"Value\": 0.26569574051973105}, {\"Construction\": \"Both\", \"days_to_subtract1\": 14, \"days_to_subtract2\": 35, \"width\": 21, \"Feature\": \"nfrac_xstar_hillside\", \"Value\": -0.02964754258833249}, {\"Construction\": \"Direct\", \"days_to_subtract1\": 7, \"days_to_subtract2\": 28, \"width\": 21, \"Feature\": \"nfrac_xstar_hillside\", \"Value\": -0.12292076670543388}, {\"Construction\": \"Indirect\", \"days_to_subtract1\": 7, \"days_to_subtract2\": 28, \"width\": 21, \"Feature\": \"nfrac_xstar_hillside\", \"Value\": -0.06743985433881908}, {\"Construction\": \"Both\", \"days_to_subtract1\": 7, \"days_to_subtract2\": 28, \"width\": 21, \"Feature\": \"nfrac_xstar_hillside\", \"Value\": 0.07656788843022011}, {\"Construction\": \"Direct\", \"days_to_subtract1\": 7, \"days_to_subtract2\": 35, \"width\": 28, \"Feature\": \"nfrac_xstar_hillside\", \"Value\": -0.1273775749336335}, {\"Construction\": \"Indirect\", \"days_to_subtract1\": 7, \"days_to_subtract2\": 35, \"width\": 28, \"Feature\": \"nfrac_xstar_hillside\", \"Value\": -0.2561778679129673}, {\"Construction\": \"Both\", \"days_to_subtract1\": 7, \"days_to_subtract2\": 35, \"width\": 28, \"Feature\": \"nfrac_xstar_hillside\", \"Value\": 0.01566666690498644}, {\"Construction\": \"Direct\", \"days_to_subtract1\": 28, \"days_to_subtract2\": 35, \"width\": 7, \"Feature\": \"diameter_lop\", \"Value\": 0.3010774652144996}, {\"Construction\": \"Indirect\", \"days_to_subtract1\": 28, \"days_to_subtract2\": 35, \"width\": 7, \"Feature\": \"diameter_lop\", \"Value\": 0.12468662873886373}, {\"Construction\": \"Both\", \"days_to_subtract1\": 28, \"days_to_subtract2\": 35, \"width\": 7, \"Feature\": \"diameter_lop\", \"Value\": 0.009700683894740965}, {\"Construction\": \"Direct\", \"days_to_subtract1\": 21, \"days_to_subtract2\": 28, \"width\": 7, \"Feature\": \"diameter_lop\", \"Value\": -0.14496175085454735}, {\"Construction\": \"Indirect\", \"days_to_subtract1\": 21, \"days_to_subtract2\": 28, \"width\": 7, \"Feature\": \"diameter_lop\", \"Value\": 0.1619158031576188}, {\"Construction\": \"Both\", \"days_to_subtract1\": 21, \"days_to_subtract2\": 28, \"width\": 7, \"Feature\": \"diameter_lop\", \"Value\": 0.13613013155453554}, {\"Construction\": \"Direct\", \"days_to_subtract1\": 14, \"days_to_subtract2\": 21, \"width\": 7, \"Feature\": \"diameter_lop\", \"Value\": 0.0716996638755603}, {\"Construction\": \"Indirect\", \"days_to_subtract1\": 14, \"days_to_subtract2\": 21, \"width\": 7, \"Feature\": \"diameter_lop\", \"Value\": -0.21316736843046255}, {\"Construction\": \"Both\", \"days_to_subtract1\": 14, \"days_to_subtract2\": 21, \"width\": 7, \"Feature\": \"diameter_lop\", \"Value\": -0.20060527013869858}, {\"Construction\": \"Direct\", \"days_to_subtract1\": 7, \"days_to_subtract2\": 14, \"width\": 7, \"Feature\": \"diameter_lop\", \"Value\": -0.020900332291795633}, {\"Construction\": \"Indirect\", \"days_to_subtract1\": 7, \"days_to_subtract2\": 14, \"width\": 7, \"Feature\": \"diameter_lop\", \"Value\": -0.06566005330991506}, {\"Construction\": \"Both\", \"days_to_subtract1\": 7, \"days_to_subtract2\": 14, \"width\": 7, \"Feature\": \"diameter_lop\", \"Value\": 0.14005807051528713}, {\"Construction\": \"Direct\", \"days_to_subtract1\": 21, \"days_to_subtract2\": 35, \"width\": 14, \"Feature\": \"diameter_lop\", \"Value\": 0.20917910322202413}, {\"Construction\": \"Indirect\", \"days_to_subtract1\": 21, \"days_to_subtract2\": 35, \"width\": 14, \"Feature\": \"diameter_lop\", \"Value\": -0.2116382821024335}, {\"Construction\": \"Both\", \"days_to_subtract1\": 21, \"days_to_subtract2\": 35, \"width\": 14, \"Feature\": \"diameter_lop\", \"Value\": 0.09880490793366584}, {\"Construction\": \"Direct\", \"days_to_subtract1\": 14, \"days_to_subtract2\": 28, \"width\": 14, \"Feature\": \"diameter_lop\", \"Value\": -0.3474420621346847}, {\"Construction\": \"Indirect\", \"days_to_subtract1\": 14, \"days_to_subtract2\": 28, \"width\": 14, \"Feature\": \"diameter_lop\", \"Value\": -0.06787090711157133}, {\"Construction\": \"Both\", \"days_to_subtract1\": 14, \"days_to_subtract2\": 28, \"width\": 14, \"Feature\": \"diameter_lop\", \"Value\": -0.2446518420751497}, {\"Construction\": \"Direct\", \"days_to_subtract1\": 7, \"days_to_subtract2\": 21, \"width\": 14, \"Feature\": \"diameter_lop\", \"Value\": 0.14471134893577303}, {\"Construction\": \"Indirect\", \"days_to_subtract1\": 7, \"days_to_subtract2\": 21, \"width\": 14, \"Feature\": \"diameter_lop\", \"Value\": -0.2525824307799693}, {\"Construction\": \"Both\", \"days_to_subtract1\": 7, \"days_to_subtract2\": 21, \"width\": 14, \"Feature\": \"diameter_lop\", \"Value\": 0.06914838625943798}, {\"Construction\": \"Direct\", \"days_to_subtract1\": 14, \"days_to_subtract2\": 35, \"width\": 21, \"Feature\": \"diameter_lop\", \"Value\": 0.0822888590534749}, {\"Construction\": \"Indirect\", \"days_to_subtract1\": 14, \"days_to_subtract2\": 35, \"width\": 21, \"Feature\": \"diameter_lop\", \"Value\": -0.0542957263274098}, {\"Construction\": \"Both\", \"days_to_subtract1\": 14, \"days_to_subtract2\": 35, \"width\": 21, \"Feature\": \"diameter_lop\", \"Value\": -0.08094955684789626}, {\"Construction\": \"Direct\", \"days_to_subtract1\": 7, \"days_to_subtract2\": 28, \"width\": 21, \"Feature\": \"diameter_lop\", \"Value\": -0.15968591980679142}, {\"Construction\": \"Indirect\", \"days_to_subtract1\": 7, \"days_to_subtract2\": 28, \"width\": 21, \"Feature\": \"diameter_lop\", \"Value\": -0.09690158259081262}, {\"Construction\": \"Both\", \"days_to_subtract1\": 7, \"days_to_subtract2\": 28, \"width\": 21, \"Feature\": \"diameter_lop\", \"Value\": 0.11881040640220132}, {\"Construction\": \"Direct\", \"days_to_subtract1\": 7, \"days_to_subtract2\": 35, \"width\": 28, \"Feature\": \"diameter_lop\", \"Value\": 0.0862188178955762}, {\"Construction\": \"Indirect\", \"days_to_subtract1\": 7, \"days_to_subtract2\": 35, \"width\": 28, \"Feature\": \"diameter_lop\", \"Value\": -0.15135828832606446}, {\"Construction\": \"Both\", \"days_to_subtract1\": 7, \"days_to_subtract2\": 35, \"width\": 28, \"Feature\": \"diameter_lop\", \"Value\": 0.1820900717669601}, {\"Construction\": \"Direct\", \"days_to_subtract1\": 28, \"days_to_subtract2\": 35, \"width\": 7, \"Feature\": \"diameter_hillside\", \"Value\": 0.19449232040943898}, {\"Construction\": \"Indirect\", \"days_to_subtract1\": 28, \"days_to_subtract2\": 35, \"width\": 7, \"Feature\": \"diameter_hillside\", \"Value\": 0.08929378890394675}, {\"Construction\": \"Both\", \"days_to_subtract1\": 28, \"days_to_subtract2\": 35, \"width\": 7, \"Feature\": \"diameter_hillside\", \"Value\": 0.08811369883339139}, {\"Construction\": \"Direct\", \"days_to_subtract1\": 21, \"days_to_subtract2\": 28, \"width\": 7, \"Feature\": \"diameter_hillside\", \"Value\": -0.02993011501569019}, {\"Construction\": \"Indirect\", \"days_to_subtract1\": 21, \"days_to_subtract2\": 28, \"width\": 7, \"Feature\": \"diameter_hillside\", \"Value\": -0.1662161198665167}, {\"Construction\": \"Both\", \"days_to_subtract1\": 21, \"days_to_subtract2\": 28, \"width\": 7, \"Feature\": \"diameter_hillside\", \"Value\": 0.15366587908239698}, {\"Construction\": \"Direct\", \"days_to_subtract1\": 14, \"days_to_subtract2\": 21, \"width\": 7, \"Feature\": \"diameter_hillside\", \"Value\": -0.08739966315813458}, {\"Construction\": \"Indirect\", \"days_to_subtract1\": 14, \"days_to_subtract2\": 21, \"width\": 7, \"Feature\": \"diameter_hillside\", \"Value\": -0.12691886447368333}, {\"Construction\": \"Both\", \"days_to_subtract1\": 14, \"days_to_subtract2\": 21, \"width\": 7, \"Feature\": \"diameter_hillside\", \"Value\": -0.28369561062944054}, {\"Construction\": \"Direct\", \"days_to_subtract1\": 7, \"days_to_subtract2\": 14, \"width\": 7, \"Feature\": \"diameter_hillside\", \"Value\": 0.20284162982439155}, {\"Construction\": \"Indirect\", \"days_to_subtract1\": 7, \"days_to_subtract2\": 14, \"width\": 7, \"Feature\": \"diameter_hillside\", \"Value\": -0.009412776163390108}, {\"Construction\": \"Both\", \"days_to_subtract1\": 7, \"days_to_subtract2\": 14, \"width\": 7, \"Feature\": \"diameter_hillside\", \"Value\": 0.16224501517931536}, {\"Construction\": \"Direct\", \"days_to_subtract1\": 21, \"days_to_subtract2\": 35, \"width\": 14, \"Feature\": \"diameter_hillside\", \"Value\": 0.04889459642035236}, {\"Construction\": \"Indirect\", \"days_to_subtract1\": 21, \"days_to_subtract2\": 35, \"width\": 14, \"Feature\": \"diameter_hillside\", \"Value\": -0.5336681315563839}, {\"Construction\": \"Both\", \"days_to_subtract1\": 21, \"days_to_subtract2\": 35, \"width\": 14, \"Feature\": \"diameter_hillside\", \"Value\": 0.37273217973812184}, {\"Construction\": \"Direct\", \"days_to_subtract1\": 14, \"days_to_subtract2\": 28, \"width\": 14, \"Feature\": \"diameter_hillside\", \"Value\": -0.4231427673696261}, {\"Construction\": \"Indirect\", \"days_to_subtract1\": 14, \"days_to_subtract2\": 28, \"width\": 14, \"Feature\": \"diameter_hillside\", \"Value\": 0.2962788015591574}, {\"Construction\": \"Both\", \"days_to_subtract1\": 14, \"days_to_subtract2\": 28, \"width\": 14, \"Feature\": \"diameter_hillside\", \"Value\": -0.3675229429942736}, {\"Construction\": \"Direct\", \"days_to_subtract1\": 7, \"days_to_subtract2\": 21, \"width\": 14, \"Feature\": \"diameter_hillside\", \"Value\": 0.035821941135985066}, {\"Construction\": \"Indirect\", \"days_to_subtract1\": 7, \"days_to_subtract2\": 21, \"width\": 14, \"Feature\": \"diameter_hillside\", \"Value\": -0.479350436459746}, {\"Construction\": \"Both\", \"days_to_subtract1\": 7, \"days_to_subtract2\": 21, \"width\": 14, \"Feature\": \"diameter_hillside\", \"Value\": -0.013818567329648698}, {\"Construction\": \"Direct\", \"days_to_subtract1\": 14, \"days_to_subtract2\": 35, \"width\": 21, \"Feature\": \"diameter_hillside\", \"Value\": 0.1150058674510057}, {\"Construction\": \"Indirect\", \"days_to_subtract1\": 14, \"days_to_subtract2\": 35, \"width\": 21, \"Feature\": \"diameter_hillside\", \"Value\": 0.20509890183494844}, {\"Construction\": \"Both\", \"days_to_subtract1\": 14, \"days_to_subtract2\": 35, \"width\": 21, \"Feature\": \"diameter_hillside\", \"Value\": -0.02964754258833249}, {\"Construction\": \"Direct\", \"days_to_subtract1\": 7, \"days_to_subtract2\": 28, \"width\": 21, \"Feature\": \"diameter_hillside\", \"Value\": 0.03130290579538092}, {\"Construction\": \"Indirect\", \"days_to_subtract1\": 7, \"days_to_subtract2\": 28, \"width\": 21, \"Feature\": \"diameter_hillside\", \"Value\": -0.012899368474246074}, {\"Construction\": \"Both\", \"days_to_subtract1\": 7, \"days_to_subtract2\": 28, \"width\": 21, \"Feature\": \"diameter_hillside\", \"Value\": 0.10411399271028127}, {\"Construction\": \"Direct\", \"days_to_subtract1\": 7, \"days_to_subtract2\": 35, \"width\": 28, \"Feature\": \"diameter_hillside\", \"Value\": 0.21946348778067826}, {\"Construction\": \"Indirect\", \"days_to_subtract1\": 7, \"days_to_subtract2\": 35, \"width\": 28, \"Feature\": \"diameter_hillside\", \"Value\": -0.19312387994124128}, {\"Construction\": \"Both\", \"days_to_subtract1\": 7, \"days_to_subtract2\": 35, \"width\": 28, \"Feature\": \"diameter_hillside\", \"Value\": 0.01778901153224182}]}}, {\"mode\": \"vega-lite\"});\n",
       "</script>"
      ],
      "text/plain": [
       "alt.Chart(...)"
      ]
     },
     "metadata": {},
     "output_type": "display_data"
    },
    {
     "data": {
      "text/markdown": [
       "### Massey"
      ],
      "text/plain": [
       "<IPython.core.display.Markdown object>"
      ]
     },
     "metadata": {},
     "output_type": "display_data"
    },
    {
     "data": {
      "text/html": [
       "\n",
       "<div id=\"altair-viz-c67b2998276f41699c19136c688e34b4\"></div>\n",
       "<script type=\"text/javascript\">\n",
       "  (function(spec, embedOpt){\n",
       "    let outputDiv = document.currentScript.previousElementSibling;\n",
       "    if (outputDiv.id !== \"altair-viz-c67b2998276f41699c19136c688e34b4\") {\n",
       "      outputDiv = document.getElementById(\"altair-viz-c67b2998276f41699c19136c688e34b4\");\n",
       "    }\n",
       "    const paths = {\n",
       "      \"vega\": \"https://cdn.jsdelivr.net/npm//vega@5?noext\",\n",
       "      \"vega-lib\": \"https://cdn.jsdelivr.net/npm//vega-lib?noext\",\n",
       "      \"vega-lite\": \"https://cdn.jsdelivr.net/npm//vega-lite@4.8.1?noext\",\n",
       "      \"vega-embed\": \"https://cdn.jsdelivr.net/npm//vega-embed@6?noext\",\n",
       "    };\n",
       "\n",
       "    function loadScript(lib) {\n",
       "      return new Promise(function(resolve, reject) {\n",
       "        var s = document.createElement('script');\n",
       "        s.src = paths[lib];\n",
       "        s.async = true;\n",
       "        s.onload = () => resolve(paths[lib]);\n",
       "        s.onerror = () => reject(`Error loading script: ${paths[lib]}`);\n",
       "        document.getElementsByTagName(\"head\")[0].appendChild(s);\n",
       "      });\n",
       "    }\n",
       "\n",
       "    function showError(err) {\n",
       "      outputDiv.innerHTML = `<div class=\"error\" style=\"color:red;\">${err}</div>`;\n",
       "      throw err;\n",
       "    }\n",
       "\n",
       "    function displayChart(vegaEmbed) {\n",
       "      vegaEmbed(outputDiv, spec, embedOpt)\n",
       "        .catch(err => showError(`Javascript Error: ${err.message}<br>This usually means there's a typo in your chart specification. See the javascript console for the full traceback.`));\n",
       "    }\n",
       "\n",
       "    if(typeof define === \"function\" && define.amd) {\n",
       "      requirejs.config({paths});\n",
       "      require([\"vega-embed\"], displayChart, err => showError(`Error loading script: ${err.message}`));\n",
       "    } else if (typeof vegaEmbed === \"function\") {\n",
       "      displayChart(vegaEmbed);\n",
       "    } else {\n",
       "      loadScript(\"vega\")\n",
       "        .then(() => loadScript(\"vega-lite\"))\n",
       "        .then(() => loadScript(\"vega-embed\"))\n",
       "        .catch(showError)\n",
       "        .then(() => displayChart(vegaEmbed));\n",
       "    }\n",
       "  })({\"config\": {\"view\": {\"continuousWidth\": 400, \"continuousHeight\": 300}}, \"data\": {\"name\": \"data-04253804f9ec913e5a55f47c979265d9\"}, \"mark\": \"bar\", \"encoding\": {\"color\": {\"type\": \"nominal\", \"field\": \"Construction\"}, \"column\": {\"type\": \"nominal\", \"field\": \"Construction\"}, \"row\": {\"type\": \"nominal\", \"field\": \"Feature\"}, \"x\": {\"type\": \"nominal\", \"field\": \"width\"}, \"y\": {\"type\": \"quantitative\", \"aggregate\": \"average\", \"field\": \"Value\", \"scale\": {\"domain\": [-0.6, 0.6]}}}, \"$schema\": \"https://vega.github.io/schema/vega-lite/v4.8.1.json\", \"datasets\": {\"data-04253804f9ec913e5a55f47c979265d9\": [{\"Construction\": \"Direct\", \"days_to_subtract1\": 28, \"days_to_subtract2\": 35, \"width\": 7, \"Feature\": \"delta_lop\", \"Value\": -0.08336776766852842}, {\"Construction\": \"Indirect\", \"days_to_subtract1\": 28, \"days_to_subtract2\": 35, \"width\": 7, \"Feature\": \"delta_lop\", \"Value\": 0.2205447540531643}, {\"Construction\": \"Both\", \"days_to_subtract1\": 28, \"days_to_subtract2\": 35, \"width\": 7, \"Feature\": \"delta_lop\", \"Value\": 0.15426557392769993}, {\"Construction\": \"Direct\", \"days_to_subtract1\": 21, \"days_to_subtract2\": 28, \"width\": 7, \"Feature\": \"delta_lop\", \"Value\": -0.02151657414559648}, {\"Construction\": \"Indirect\", \"days_to_subtract1\": 21, \"days_to_subtract2\": 28, \"width\": 7, \"Feature\": \"delta_lop\", \"Value\": -0.14972578075718104}, {\"Construction\": \"Both\", \"days_to_subtract1\": 21, \"days_to_subtract2\": 28, \"width\": 7, \"Feature\": \"delta_lop\", \"Value\": -0.14164245894921565}, {\"Construction\": \"Direct\", \"days_to_subtract1\": 14, \"days_to_subtract2\": 21, \"width\": 7, \"Feature\": \"delta_lop\", \"Value\": 0.26271313860506945}, {\"Construction\": \"Indirect\", \"days_to_subtract1\": 14, \"days_to_subtract2\": 21, \"width\": 7, \"Feature\": \"delta_lop\", \"Value\": 0.12984258926517775}, {\"Construction\": \"Both\", \"days_to_subtract1\": 14, \"days_to_subtract2\": 21, \"width\": 7, \"Feature\": \"delta_lop\", \"Value\": 0.265764605970301}, {\"Construction\": \"Direct\", \"days_to_subtract1\": 7, \"days_to_subtract2\": 14, \"width\": 7, \"Feature\": \"delta_lop\", \"Value\": -0.08585612216223805}, {\"Construction\": \"Indirect\", \"days_to_subtract1\": 7, \"days_to_subtract2\": 14, \"width\": 7, \"Feature\": \"delta_lop\", \"Value\": 0.014715016138551326}, {\"Construction\": \"Both\", \"days_to_subtract1\": 7, \"days_to_subtract2\": 14, \"width\": 7, \"Feature\": \"delta_lop\", \"Value\": 0.05094545346305078}, {\"Construction\": \"Direct\", \"days_to_subtract1\": 21, \"days_to_subtract2\": 35, \"width\": 14, \"Feature\": \"delta_lop\", \"Value\": -0.16354107882224408}, {\"Construction\": \"Indirect\", \"days_to_subtract1\": 21, \"days_to_subtract2\": 35, \"width\": 14, \"Feature\": \"delta_lop\", \"Value\": -0.22838233993698234}, {\"Construction\": \"Both\", \"days_to_subtract1\": 21, \"days_to_subtract2\": 35, \"width\": 14, \"Feature\": \"delta_lop\", \"Value\": -0.23928495648753115}, {\"Construction\": \"Direct\", \"days_to_subtract1\": 14, \"days_to_subtract2\": 28, \"width\": 14, \"Feature\": \"delta_lop\", \"Value\": 0.20487172472829937}, {\"Construction\": \"Indirect\", \"days_to_subtract1\": 14, \"days_to_subtract2\": 28, \"width\": 14, \"Feature\": \"delta_lop\", \"Value\": 0.3994797922112349}, {\"Construction\": \"Both\", \"days_to_subtract1\": 14, \"days_to_subtract2\": 28, \"width\": 14, \"Feature\": \"delta_lop\", \"Value\": 0.3725923241326396}, {\"Construction\": \"Direct\", \"days_to_subtract1\": 7, \"days_to_subtract2\": 21, \"width\": 14, \"Feature\": \"delta_lop\", \"Value\": -0.06900985024878749}, {\"Construction\": \"Indirect\", \"days_to_subtract1\": 7, \"days_to_subtract2\": 21, \"width\": 14, \"Feature\": \"delta_lop\", \"Value\": -0.09116945655142566}, {\"Construction\": \"Both\", \"days_to_subtract1\": 7, \"days_to_subtract2\": 21, \"width\": 14, \"Feature\": \"delta_lop\", \"Value\": -0.06089107873753832}, {\"Construction\": \"Direct\", \"days_to_subtract1\": 14, \"days_to_subtract2\": 35, \"width\": 21, \"Feature\": \"delta_lop\", \"Value\": 0.4026307820561102}, {\"Construction\": \"Indirect\", \"days_to_subtract1\": 14, \"days_to_subtract2\": 35, \"width\": 21, \"Feature\": \"delta_lop\", \"Value\": 0.26736221163412566}, {\"Construction\": \"Both\", \"days_to_subtract1\": 14, \"days_to_subtract2\": 35, \"width\": 21, \"Feature\": \"delta_lop\", \"Value\": 0.36906230714539384}, {\"Construction\": \"Direct\", \"days_to_subtract1\": 7, \"days_to_subtract2\": 28, \"width\": 21, \"Feature\": \"delta_lop\", \"Value\": 0.35762407970658916}, {\"Construction\": \"Indirect\", \"days_to_subtract1\": 7, \"days_to_subtract2\": 28, \"width\": 21, \"Feature\": \"delta_lop\", \"Value\": 0.5605813644855794}, {\"Construction\": \"Both\", \"days_to_subtract1\": 7, \"days_to_subtract2\": 28, \"width\": 21, \"Feature\": \"delta_lop\", \"Value\": 0.5196308046989417}, {\"Construction\": \"Direct\", \"days_to_subtract1\": 7, \"days_to_subtract2\": 35, \"width\": 28, \"Feature\": \"delta_lop\", \"Value\": 0.3186127500698022}, {\"Construction\": \"Indirect\", \"days_to_subtract1\": 7, \"days_to_subtract2\": 35, \"width\": 28, \"Feature\": \"delta_lop\", \"Value\": 0.2691884306809423}, {\"Construction\": \"Both\", \"days_to_subtract1\": 7, \"days_to_subtract2\": 35, \"width\": 28, \"Feature\": \"delta_lop\", \"Value\": 0.29804644690396487}, {\"Construction\": \"Direct\", \"days_to_subtract1\": 28, \"days_to_subtract2\": 35, \"width\": 7, \"Feature\": \"delta_hillside\", \"Value\": 0.16116935709431932}, {\"Construction\": \"Indirect\", \"days_to_subtract1\": 28, \"days_to_subtract2\": 35, \"width\": 7, \"Feature\": \"delta_hillside\", \"Value\": 0.06614217139459651}, {\"Construction\": \"Both\", \"days_to_subtract1\": 28, \"days_to_subtract2\": 35, \"width\": 7, \"Feature\": \"delta_hillside\", \"Value\": 0.09618769503452088}, {\"Construction\": \"Direct\", \"days_to_subtract1\": 21, \"days_to_subtract2\": 28, \"width\": 7, \"Feature\": \"delta_hillside\", \"Value\": -0.05264373264316558}, {\"Construction\": \"Indirect\", \"days_to_subtract1\": 21, \"days_to_subtract2\": 28, \"width\": 7, \"Feature\": \"delta_hillside\", \"Value\": 0.00033305811899620965}, {\"Construction\": \"Both\", \"days_to_subtract1\": 21, \"days_to_subtract2\": 28, \"width\": 7, \"Feature\": \"delta_hillside\", \"Value\": -0.049414419584371594}, {\"Construction\": \"Direct\", \"days_to_subtract1\": 14, \"days_to_subtract2\": 21, \"width\": 7, \"Feature\": \"delta_hillside\", \"Value\": 0.25815148156741125}, {\"Construction\": \"Indirect\", \"days_to_subtract1\": 14, \"days_to_subtract2\": 21, \"width\": 7, \"Feature\": \"delta_hillside\", \"Value\": 0.1914459795221557}, {\"Construction\": \"Both\", \"days_to_subtract1\": 14, \"days_to_subtract2\": 21, \"width\": 7, \"Feature\": \"delta_hillside\", \"Value\": 0.2262641127694915}, {\"Construction\": \"Direct\", \"days_to_subtract1\": 7, \"days_to_subtract2\": 14, \"width\": 7, \"Feature\": \"delta_hillside\", \"Value\": -0.01532276647129301}, {\"Construction\": \"Indirect\", \"days_to_subtract1\": 7, \"days_to_subtract2\": 14, \"width\": 7, \"Feature\": \"delta_hillside\", \"Value\": 0.31279087589424354}, {\"Construction\": \"Both\", \"days_to_subtract1\": 7, \"days_to_subtract2\": 14, \"width\": 7, \"Feature\": \"delta_hillside\", \"Value\": 0.2608902401444701}, {\"Construction\": \"Direct\", \"days_to_subtract1\": 21, \"days_to_subtract2\": 35, \"width\": 14, \"Feature\": \"delta_hillside\", \"Value\": -0.1713558427645264}, {\"Construction\": \"Indirect\", \"days_to_subtract1\": 21, \"days_to_subtract2\": 35, \"width\": 14, \"Feature\": \"delta_hillside\", \"Value\": -0.3010299192352103}, {\"Construction\": \"Both\", \"days_to_subtract1\": 21, \"days_to_subtract2\": 35, \"width\": 14, \"Feature\": \"delta_hillside\", \"Value\": -0.31244709981461244}, {\"Construction\": \"Direct\", \"days_to_subtract1\": 14, \"days_to_subtract2\": 28, \"width\": 14, \"Feature\": \"delta_hillside\", \"Value\": 0.09862310120124733}, {\"Construction\": \"Indirect\", \"days_to_subtract1\": 14, \"days_to_subtract2\": 28, \"width\": 14, \"Feature\": \"delta_hillside\", \"Value\": 0.30851057264066084}, {\"Construction\": \"Both\", \"days_to_subtract1\": 14, \"days_to_subtract2\": 28, \"width\": 14, \"Feature\": \"delta_hillside\", \"Value\": 0.2238507133824565}, {\"Construction\": \"Direct\", \"days_to_subtract1\": 7, \"days_to_subtract2\": 21, \"width\": 14, \"Feature\": \"delta_hillside\", \"Value\": 0.07892176775269288}, {\"Construction\": \"Indirect\", \"days_to_subtract1\": 7, \"days_to_subtract2\": 21, \"width\": 14, \"Feature\": \"delta_hillside\", \"Value\": 0.07278170414235748}, {\"Construction\": \"Both\", \"days_to_subtract1\": 7, \"days_to_subtract2\": 21, \"width\": 14, \"Feature\": \"delta_hillside\", \"Value\": 0.017004933867392186}, {\"Construction\": \"Direct\", \"days_to_subtract1\": 14, \"days_to_subtract2\": 35, \"width\": 21, \"Feature\": \"delta_hillside\", \"Value\": 0.19900862832826183}, {\"Construction\": \"Indirect\", \"days_to_subtract1\": 14, \"days_to_subtract2\": 35, \"width\": 21, \"Feature\": \"delta_hillside\", \"Value\": 0.23752418846950807}, {\"Construction\": \"Both\", \"days_to_subtract1\": 14, \"days_to_subtract2\": 35, \"width\": 21, \"Feature\": \"delta_hillside\", \"Value\": 0.19556685051685646}, {\"Construction\": \"Direct\", \"days_to_subtract1\": 7, \"days_to_subtract2\": 28, \"width\": 21, \"Feature\": \"delta_hillside\", \"Value\": 0.44540016502831703}, {\"Construction\": \"Indirect\", \"days_to_subtract1\": 7, \"days_to_subtract2\": 28, \"width\": 21, \"Feature\": \"delta_hillside\", \"Value\": 0.6118270190174772}, {\"Construction\": \"Both\", \"days_to_subtract1\": 7, \"days_to_subtract2\": 28, \"width\": 21, \"Feature\": \"delta_hillside\", \"Value\": 0.5103496114758224}, {\"Construction\": \"Direct\", \"days_to_subtract1\": 7, \"days_to_subtract2\": 35, \"width\": 28, \"Feature\": \"delta_hillside\", \"Value\": 0.41617941884899}, {\"Construction\": \"Indirect\", \"days_to_subtract1\": 7, \"days_to_subtract2\": 35, \"width\": 28, \"Feature\": \"delta_hillside\", \"Value\": 0.33361423518028294}, {\"Construction\": \"Both\", \"days_to_subtract1\": 7, \"days_to_subtract2\": 35, \"width\": 28, \"Feature\": \"delta_hillside\", \"Value\": 0.28213811853464943}, {\"Construction\": \"Direct\", \"days_to_subtract1\": 28, \"days_to_subtract2\": 35, \"width\": 7, \"Feature\": \"nfrac_xstar_lop\", \"Value\": -0.3751076169154514}, {\"Construction\": \"Indirect\", \"days_to_subtract1\": 28, \"days_to_subtract2\": 35, \"width\": 7, \"Feature\": \"nfrac_xstar_lop\", \"Value\": 0.24854515557498696}, {\"Construction\": \"Both\", \"days_to_subtract1\": 28, \"days_to_subtract2\": 35, \"width\": 7, \"Feature\": \"nfrac_xstar_lop\", \"Value\": 0.22576480280781186}, {\"Construction\": \"Direct\", \"days_to_subtract1\": 21, \"days_to_subtract2\": 28, \"width\": 7, \"Feature\": \"nfrac_xstar_lop\", \"Value\": 0.2947564117573096}, {\"Construction\": \"Indirect\", \"days_to_subtract1\": 21, \"days_to_subtract2\": 28, \"width\": 7, \"Feature\": \"nfrac_xstar_lop\", \"Value\": 0.09485962433390469}, {\"Construction\": \"Both\", \"days_to_subtract1\": 21, \"days_to_subtract2\": 28, \"width\": 7, \"Feature\": \"nfrac_xstar_lop\", \"Value\": -0.18592445034090552}, {\"Construction\": \"Direct\", \"days_to_subtract1\": 14, \"days_to_subtract2\": 21, \"width\": 7, \"Feature\": \"nfrac_xstar_lop\", \"Value\": -0.28175514256375894}, {\"Construction\": \"Indirect\", \"days_to_subtract1\": 14, \"days_to_subtract2\": 21, \"width\": 7, \"Feature\": \"nfrac_xstar_lop\", \"Value\": -0.09146865183538508}, {\"Construction\": \"Both\", \"days_to_subtract1\": 14, \"days_to_subtract2\": 21, \"width\": 7, \"Feature\": \"nfrac_xstar_lop\", \"Value\": -0.4080727522346454}, {\"Construction\": \"Direct\", \"days_to_subtract1\": 7, \"days_to_subtract2\": 14, \"width\": 7, \"Feature\": \"nfrac_xstar_lop\", \"Value\": -0.4120584750021493}, {\"Construction\": \"Indirect\", \"days_to_subtract1\": 7, \"days_to_subtract2\": 14, \"width\": 7, \"Feature\": \"nfrac_xstar_lop\", \"Value\": -0.2849666982996423}, {\"Construction\": \"Both\", \"days_to_subtract1\": 7, \"days_to_subtract2\": 14, \"width\": 7, \"Feature\": \"nfrac_xstar_lop\", \"Value\": -0.04427691425976122}, {\"Construction\": \"Direct\", \"days_to_subtract1\": 21, \"days_to_subtract2\": 35, \"width\": 14, \"Feature\": \"nfrac_xstar_lop\", \"Value\": -0.06086576077189434}, {\"Construction\": \"Indirect\", \"days_to_subtract1\": 21, \"days_to_subtract2\": 35, \"width\": 14, \"Feature\": \"nfrac_xstar_lop\", \"Value\": 0.1912907324823611}, {\"Construction\": \"Both\", \"days_to_subtract1\": 21, \"days_to_subtract2\": 35, \"width\": 14, \"Feature\": \"nfrac_xstar_lop\", \"Value\": 0.4605658781033859}, {\"Construction\": \"Direct\", \"days_to_subtract1\": 14, \"days_to_subtract2\": 28, \"width\": 14, \"Feature\": \"nfrac_xstar_lop\", \"Value\": 0.07785920586399321}, {\"Construction\": \"Indirect\", \"days_to_subtract1\": 14, \"days_to_subtract2\": 28, \"width\": 14, \"Feature\": \"nfrac_xstar_lop\", \"Value\": 0.1085268490895646}, {\"Construction\": \"Both\", \"days_to_subtract1\": 14, \"days_to_subtract2\": 28, \"width\": 14, \"Feature\": \"nfrac_xstar_lop\", \"Value\": -0.13358221165224696}, {\"Construction\": \"Direct\", \"days_to_subtract1\": 7, \"days_to_subtract2\": 21, \"width\": 14, \"Feature\": \"nfrac_xstar_lop\", \"Value\": 0.08182553238394925}, {\"Construction\": \"Indirect\", \"days_to_subtract1\": 7, \"days_to_subtract2\": 21, \"width\": 14, \"Feature\": \"nfrac_xstar_lop\", \"Value\": -0.339268640435999}, {\"Construction\": \"Both\", \"days_to_subtract1\": 7, \"days_to_subtract2\": 21, \"width\": 14, \"Feature\": \"nfrac_xstar_lop\", \"Value\": 0.024965497090624192}, {\"Construction\": \"Direct\", \"days_to_subtract1\": 14, \"days_to_subtract2\": 35, \"width\": 21, \"Feature\": \"nfrac_xstar_lop\", \"Value\": 0.07948657011389434}, {\"Construction\": \"Indirect\", \"days_to_subtract1\": 14, \"days_to_subtract2\": 35, \"width\": 21, \"Feature\": \"nfrac_xstar_lop\", \"Value\": -0.10383246698892948}, {\"Construction\": \"Both\", \"days_to_subtract1\": 14, \"days_to_subtract2\": 35, \"width\": 21, \"Feature\": \"nfrac_xstar_lop\", \"Value\": -0.4143912216970061}, {\"Construction\": \"Direct\", \"days_to_subtract1\": 7, \"days_to_subtract2\": 28, \"width\": 21, \"Feature\": \"nfrac_xstar_lop\", \"Value\": -0.08613337053056468}, {\"Construction\": \"Indirect\", \"days_to_subtract1\": 7, \"days_to_subtract2\": 28, \"width\": 21, \"Feature\": \"nfrac_xstar_lop\", \"Value\": -0.5009413039754558}, {\"Construction\": \"Both\", \"days_to_subtract1\": 7, \"days_to_subtract2\": 28, \"width\": 21, \"Feature\": \"nfrac_xstar_lop\", \"Value\": -0.05601341589389984}, {\"Construction\": \"Direct\", \"days_to_subtract1\": 7, \"days_to_subtract2\": 35, \"width\": 28, \"Feature\": \"nfrac_xstar_lop\", \"Value\": 0.24332921230203583}, {\"Construction\": \"Indirect\", \"days_to_subtract1\": 7, \"days_to_subtract2\": 35, \"width\": 28, \"Feature\": \"nfrac_xstar_lop\", \"Value\": -0.5125705478204453}, {\"Construction\": \"Both\", \"days_to_subtract1\": 7, \"days_to_subtract2\": 35, \"width\": 28, \"Feature\": \"nfrac_xstar_lop\", \"Value\": -0.2342476343923569}, {\"Construction\": \"Direct\", \"days_to_subtract1\": 28, \"days_to_subtract2\": 35, \"width\": 7, \"Feature\": \"nfrac_xstar_hillside\", \"Value\": 0.1501682792220065}, {\"Construction\": \"Indirect\", \"days_to_subtract1\": 28, \"days_to_subtract2\": 35, \"width\": 7, \"Feature\": \"nfrac_xstar_hillside\", \"Value\": 0.09330843959418335}, {\"Construction\": \"Both\", \"days_to_subtract1\": 28, \"days_to_subtract2\": 35, \"width\": 7, \"Feature\": \"nfrac_xstar_hillside\", \"Value\": -0.26109497846292307}, {\"Construction\": \"Direct\", \"days_to_subtract1\": 21, \"days_to_subtract2\": 28, \"width\": 7, \"Feature\": \"nfrac_xstar_hillside\", \"Value\": 0.3060469201755312}, {\"Construction\": \"Indirect\", \"days_to_subtract1\": 21, \"days_to_subtract2\": 28, \"width\": 7, \"Feature\": \"nfrac_xstar_hillside\", \"Value\": -0.2197899923806136}, {\"Construction\": \"Both\", \"days_to_subtract1\": 21, \"days_to_subtract2\": 28, \"width\": 7, \"Feature\": \"nfrac_xstar_hillside\", \"Value\": -0.017425375883932805}, {\"Construction\": \"Direct\", \"days_to_subtract1\": 14, \"days_to_subtract2\": 21, \"width\": 7, \"Feature\": \"nfrac_xstar_hillside\", \"Value\": -0.28212750741297715}, {\"Construction\": \"Indirect\", \"days_to_subtract1\": 14, \"days_to_subtract2\": 21, \"width\": 7, \"Feature\": \"nfrac_xstar_hillside\", \"Value\": -0.021885145352052878}, {\"Construction\": \"Both\", \"days_to_subtract1\": 14, \"days_to_subtract2\": 21, \"width\": 7, \"Feature\": \"nfrac_xstar_hillside\", \"Value\": 0.03660774431946581}, {\"Construction\": \"Direct\", \"days_to_subtract1\": 7, \"days_to_subtract2\": 14, \"width\": 7, \"Feature\": \"nfrac_xstar_hillside\", \"Value\": -0.396954519289145}, {\"Construction\": \"Indirect\", \"days_to_subtract1\": 7, \"days_to_subtract2\": 14, \"width\": 7, \"Feature\": \"nfrac_xstar_hillside\", \"Value\": 0.05066632205737223}, {\"Construction\": \"Both\", \"days_to_subtract1\": 7, \"days_to_subtract2\": 14, \"width\": 7, \"Feature\": \"nfrac_xstar_hillside\", \"Value\": 0.08858835541145706}, {\"Construction\": \"Direct\", \"days_to_subtract1\": 21, \"days_to_subtract2\": 35, \"width\": 14, \"Feature\": \"nfrac_xstar_hillside\", \"Value\": 0.27174160483047116}, {\"Construction\": \"Indirect\", \"days_to_subtract1\": 21, \"days_to_subtract2\": 35, \"width\": 14, \"Feature\": \"nfrac_xstar_hillside\", \"Value\": 0.10826126688972434}, {\"Construction\": \"Both\", \"days_to_subtract1\": 21, \"days_to_subtract2\": 35, \"width\": 14, \"Feature\": \"nfrac_xstar_hillside\", \"Value\": -0.051671405939002865}, {\"Construction\": \"Direct\", \"days_to_subtract1\": 14, \"days_to_subtract2\": 28, \"width\": 14, \"Feature\": \"nfrac_xstar_hillside\", \"Value\": -0.30001817340660614}, {\"Construction\": \"Indirect\", \"days_to_subtract1\": 14, \"days_to_subtract2\": 28, \"width\": 14, \"Feature\": \"nfrac_xstar_hillside\", \"Value\": 0.09855420841111105}, {\"Construction\": \"Both\", \"days_to_subtract1\": 14, \"days_to_subtract2\": 28, \"width\": 14, \"Feature\": \"nfrac_xstar_hillside\", \"Value\": -0.22314509733069196}, {\"Construction\": \"Direct\", \"days_to_subtract1\": 7, \"days_to_subtract2\": 21, \"width\": 14, \"Feature\": \"nfrac_xstar_hillside\", \"Value\": -0.3839420976116605}, {\"Construction\": \"Indirect\", \"days_to_subtract1\": 7, \"days_to_subtract2\": 21, \"width\": 14, \"Feature\": \"nfrac_xstar_hillside\", \"Value\": 0.2924082746133485}, {\"Construction\": \"Both\", \"days_to_subtract1\": 7, \"days_to_subtract2\": 21, \"width\": 14, \"Feature\": \"nfrac_xstar_hillside\", \"Value\": -0.12006145896053458}, {\"Construction\": \"Direct\", \"days_to_subtract1\": 14, \"days_to_subtract2\": 35, \"width\": 21, \"Feature\": \"nfrac_xstar_hillside\", \"Value\": -0.08676642846937298}, {\"Construction\": \"Indirect\", \"days_to_subtract1\": 14, \"days_to_subtract2\": 35, \"width\": 21, \"Feature\": \"nfrac_xstar_hillside\", \"Value\": 0.04058563502287745}, {\"Construction\": \"Both\", \"days_to_subtract1\": 14, \"days_to_subtract2\": 35, \"width\": 21, \"Feature\": \"nfrac_xstar_hillside\", \"Value\": -0.14520897743353914}, {\"Construction\": \"Direct\", \"days_to_subtract1\": 7, \"days_to_subtract2\": 28, \"width\": 21, \"Feature\": \"nfrac_xstar_hillside\", \"Value\": -0.26281093238962533}, {\"Construction\": \"Indirect\", \"days_to_subtract1\": 7, \"days_to_subtract2\": 28, \"width\": 21, \"Feature\": \"nfrac_xstar_hillside\", \"Value\": 0.14887861175036204}, {\"Construction\": \"Both\", \"days_to_subtract1\": 7, \"days_to_subtract2\": 28, \"width\": 21, \"Feature\": \"nfrac_xstar_hillside\", \"Value\": -0.060666268209712125}, {\"Construction\": \"Direct\", \"days_to_subtract1\": 7, \"days_to_subtract2\": 35, \"width\": 28, \"Feature\": \"nfrac_xstar_hillside\", \"Value\": -0.06881130359671768}, {\"Construction\": \"Indirect\", \"days_to_subtract1\": 7, \"days_to_subtract2\": 35, \"width\": 28, \"Feature\": \"nfrac_xstar_hillside\", \"Value\": 0.12319221097131425}, {\"Construction\": \"Both\", \"days_to_subtract1\": 7, \"days_to_subtract2\": 35, \"width\": 28, \"Feature\": \"nfrac_xstar_hillside\", \"Value\": -0.20095761471670057}, {\"Construction\": \"Direct\", \"days_to_subtract1\": 28, \"days_to_subtract2\": 35, \"width\": 7, \"Feature\": \"diameter_lop\", \"Value\": -0.22022841008068875}, {\"Construction\": \"Indirect\", \"days_to_subtract1\": 28, \"days_to_subtract2\": 35, \"width\": 7, \"Feature\": \"diameter_lop\", \"Value\": 0.24956710427180437}, {\"Construction\": \"Both\", \"days_to_subtract1\": 28, \"days_to_subtract2\": 35, \"width\": 7, \"Feature\": \"diameter_lop\", \"Value\": 0.26276597104448296}, {\"Construction\": \"Direct\", \"days_to_subtract1\": 21, \"days_to_subtract2\": 28, \"width\": 7, \"Feature\": \"diameter_lop\", \"Value\": 0.203550058296349}, {\"Construction\": \"Indirect\", \"days_to_subtract1\": 21, \"days_to_subtract2\": 28, \"width\": 7, \"Feature\": \"diameter_lop\", \"Value\": 0.06413637951510028}, {\"Construction\": \"Both\", \"days_to_subtract1\": 21, \"days_to_subtract2\": 28, \"width\": 7, \"Feature\": \"diameter_lop\", \"Value\": -0.17833333333333326}, {\"Construction\": \"Direct\", \"days_to_subtract1\": 14, \"days_to_subtract2\": 21, \"width\": 7, \"Feature\": \"diameter_lop\", \"Value\": 0.08613988559747403}, {\"Construction\": \"Indirect\", \"days_to_subtract1\": 14, \"days_to_subtract2\": 21, \"width\": 7, \"Feature\": \"diameter_lop\", \"Value\": -0.0982978628445551}, {\"Construction\": \"Both\", \"days_to_subtract1\": 14, \"days_to_subtract2\": 21, \"width\": 7, \"Feature\": \"diameter_lop\", \"Value\": -0.40014225544821996}, {\"Construction\": \"Direct\", \"days_to_subtract1\": 7, \"days_to_subtract2\": 14, \"width\": 7, \"Feature\": \"diameter_lop\", \"Value\": -0.4094739229282712}, {\"Construction\": \"Indirect\", \"days_to_subtract1\": 7, \"days_to_subtract2\": 14, \"width\": 7, \"Feature\": \"diameter_lop\", \"Value\": -0.2806057025470821}, {\"Construction\": \"Both\", \"days_to_subtract1\": 7, \"days_to_subtract2\": 14, \"width\": 7, \"Feature\": \"diameter_lop\", \"Value\": -0.06541150224948121}, {\"Construction\": \"Direct\", \"days_to_subtract1\": 21, \"days_to_subtract2\": 35, \"width\": 14, \"Feature\": \"diameter_lop\", \"Value\": -0.04646694646317045}, {\"Construction\": \"Indirect\", \"days_to_subtract1\": 21, \"days_to_subtract2\": 35, \"width\": 14, \"Feature\": \"diameter_lop\", \"Value\": 0.21965690540271984}, {\"Construction\": \"Both\", \"days_to_subtract1\": 21, \"days_to_subtract2\": 35, \"width\": 14, \"Feature\": \"diameter_lop\", \"Value\": 0.46104111704572937}, {\"Construction\": \"Direct\", \"days_to_subtract1\": 14, \"days_to_subtract2\": 28, \"width\": 14, \"Feature\": \"diameter_lop\", \"Value\": -0.032381751762188715}, {\"Construction\": \"Indirect\", \"days_to_subtract1\": 14, \"days_to_subtract2\": 28, \"width\": 14, \"Feature\": \"diameter_lop\", \"Value\": 0.22290651452222524}, {\"Construction\": \"Both\", \"days_to_subtract1\": 14, \"days_to_subtract2\": 28, \"width\": 14, \"Feature\": \"diameter_lop\", \"Value\": -0.11389727151073184}, {\"Construction\": \"Direct\", \"days_to_subtract1\": 7, \"days_to_subtract2\": 21, \"width\": 14, \"Feature\": \"diameter_lop\", \"Value\": 0.07642473943105159}, {\"Construction\": \"Indirect\", \"days_to_subtract1\": 7, \"days_to_subtract2\": 21, \"width\": 14, \"Feature\": \"diameter_lop\", \"Value\": -0.34619619037456756}, {\"Construction\": \"Both\", \"days_to_subtract1\": 7, \"days_to_subtract2\": 21, \"width\": 14, \"Feature\": \"diameter_lop\", \"Value\": 0.023109670299341856}, {\"Construction\": \"Direct\", \"days_to_subtract1\": 14, \"days_to_subtract2\": 35, \"width\": 21, \"Feature\": \"diameter_lop\", \"Value\": 0.12341806186458762}, {\"Construction\": \"Indirect\", \"days_to_subtract1\": 14, \"days_to_subtract2\": 35, \"width\": 21, \"Feature\": \"diameter_lop\", \"Value\": -0.022898227605639122}, {\"Construction\": \"Both\", \"days_to_subtract1\": 14, \"days_to_subtract2\": 35, \"width\": 21, \"Feature\": \"diameter_lop\", \"Value\": -0.39793259163960637}, {\"Construction\": \"Direct\", \"days_to_subtract1\": 7, \"days_to_subtract2\": 28, \"width\": 21, \"Feature\": \"diameter_lop\", \"Value\": -0.1526696267377752}, {\"Construction\": \"Indirect\", \"days_to_subtract1\": 7, \"days_to_subtract2\": 28, \"width\": 21, \"Feature\": \"diameter_lop\", \"Value\": -0.4849340089692609}, {\"Construction\": \"Both\", \"days_to_subtract1\": 7, \"days_to_subtract2\": 28, \"width\": 21, \"Feature\": \"diameter_lop\", \"Value\": -0.08209600720308953}, {\"Construction\": \"Direct\", \"days_to_subtract1\": 7, \"days_to_subtract2\": 35, \"width\": 28, \"Feature\": \"diameter_lop\", \"Value\": 0.18352294808796243}, {\"Construction\": \"Indirect\", \"days_to_subtract1\": 7, \"days_to_subtract2\": 35, \"width\": 28, \"Feature\": \"diameter_lop\", \"Value\": -0.49951017351563226}, {\"Construction\": \"Both\", \"days_to_subtract1\": 7, \"days_to_subtract2\": 35, \"width\": 28, \"Feature\": \"diameter_lop\", \"Value\": -0.23650097505436832}, {\"Construction\": \"Direct\", \"days_to_subtract1\": 28, \"days_to_subtract2\": 35, \"width\": 7, \"Feature\": \"diameter_hillside\", \"Value\": -0.1386405999738907}, {\"Construction\": \"Indirect\", \"days_to_subtract1\": 28, \"days_to_subtract2\": 35, \"width\": 7, \"Feature\": \"diameter_hillside\", \"Value\": 0.1080038285153038}, {\"Construction\": \"Both\", \"days_to_subtract1\": 28, \"days_to_subtract2\": 35, \"width\": 7, \"Feature\": \"diameter_hillside\", \"Value\": -0.25371970701438096}, {\"Construction\": \"Direct\", \"days_to_subtract1\": 21, \"days_to_subtract2\": 28, \"width\": 7, \"Feature\": \"diameter_hillside\", \"Value\": 0.1558387444947961}, {\"Construction\": \"Indirect\", \"days_to_subtract1\": 21, \"days_to_subtract2\": 28, \"width\": 7, \"Feature\": \"diameter_hillside\", \"Value\": -0.2198626287721192}, {\"Construction\": \"Both\", \"days_to_subtract1\": 21, \"days_to_subtract2\": 28, \"width\": 7, \"Feature\": \"diameter_hillside\", \"Value\": -0.017425375883932805}, {\"Construction\": \"Direct\", \"days_to_subtract1\": 14, \"days_to_subtract2\": 21, \"width\": 7, \"Feature\": \"diameter_hillside\", \"Value\": -0.07059514515770818}, {\"Construction\": \"Indirect\", \"days_to_subtract1\": 14, \"days_to_subtract2\": 21, \"width\": 7, \"Feature\": \"diameter_hillside\", \"Value\": -0.03796577093740655}, {\"Construction\": \"Both\", \"days_to_subtract1\": 14, \"days_to_subtract2\": 21, \"width\": 7, \"Feature\": \"diameter_hillside\", \"Value\": 0.04050271276416718}, {\"Construction\": \"Direct\", \"days_to_subtract1\": 7, \"days_to_subtract2\": 14, \"width\": 7, \"Feature\": \"diameter_hillside\", \"Value\": -0.16688293377598268}, {\"Construction\": \"Indirect\", \"days_to_subtract1\": 7, \"days_to_subtract2\": 14, \"width\": 7, \"Feature\": \"diameter_hillside\", \"Value\": 0.04597001079898857}, {\"Construction\": \"Both\", \"days_to_subtract1\": 7, \"days_to_subtract2\": 14, \"width\": 7, \"Feature\": \"diameter_hillside\", \"Value\": 0.11113089791350445}, {\"Construction\": \"Direct\", \"days_to_subtract1\": 21, \"days_to_subtract2\": 35, \"width\": 14, \"Feature\": \"diameter_hillside\", \"Value\": 0.20538136977680213}, {\"Construction\": \"Indirect\", \"days_to_subtract1\": 21, \"days_to_subtract2\": 35, \"width\": 14, \"Feature\": \"diameter_hillside\", \"Value\": 0.11240653125817837}, {\"Construction\": \"Both\", \"days_to_subtract1\": 21, \"days_to_subtract2\": 35, \"width\": 14, \"Feature\": \"diameter_hillside\", \"Value\": -0.051671405939002865}, {\"Construction\": \"Direct\", \"days_to_subtract1\": 14, \"days_to_subtract2\": 28, \"width\": 14, \"Feature\": \"diameter_hillside\", \"Value\": -0.23550701127835266}, {\"Construction\": \"Indirect\", \"days_to_subtract1\": 14, \"days_to_subtract2\": 28, \"width\": 14, \"Feature\": \"diameter_hillside\", \"Value\": 0.11936969306277367}, {\"Construction\": \"Both\", \"days_to_subtract1\": 14, \"days_to_subtract2\": 28, \"width\": 14, \"Feature\": \"diameter_hillside\", \"Value\": -0.2539954181424369}, {\"Construction\": \"Direct\", \"days_to_subtract1\": 7, \"days_to_subtract2\": 21, \"width\": 14, \"Feature\": \"diameter_hillside\", \"Value\": 0.13407414006901852}, {\"Construction\": \"Indirect\", \"days_to_subtract1\": 7, \"days_to_subtract2\": 21, \"width\": 14, \"Feature\": \"diameter_hillside\", \"Value\": 0.27492442340522166}, {\"Construction\": \"Both\", \"days_to_subtract1\": 7, \"days_to_subtract2\": 21, \"width\": 14, \"Feature\": \"diameter_hillside\", \"Value\": -0.14127389519450434}, {\"Construction\": \"Direct\", \"days_to_subtract1\": 14, \"days_to_subtract2\": 35, \"width\": 21, \"Feature\": \"diameter_hillside\", \"Value\": -0.16508900067605103}, {\"Construction\": \"Indirect\", \"days_to_subtract1\": 14, \"days_to_subtract2\": 35, \"width\": 21, \"Feature\": \"diameter_hillside\", \"Value\": 0.04699472807005142}, {\"Construction\": \"Both\", \"days_to_subtract1\": 14, \"days_to_subtract2\": 35, \"width\": 21, \"Feature\": \"diameter_hillside\", \"Value\": -0.14577408385645788}, {\"Construction\": \"Direct\", \"days_to_subtract1\": 7, \"days_to_subtract2\": 28, \"width\": 21, \"Feature\": \"diameter_hillside\", \"Value\": -0.4426816345294688}, {\"Construction\": \"Indirect\", \"days_to_subtract1\": 7, \"days_to_subtract2\": 28, \"width\": 21, \"Feature\": \"diameter_hillside\", \"Value\": 0.17042302491154732}, {\"Construction\": \"Both\", \"days_to_subtract1\": 7, \"days_to_subtract2\": 28, \"width\": 21, \"Feature\": \"diameter_hillside\", \"Value\": -0.07264855902463929}, {\"Construction\": \"Direct\", \"days_to_subtract1\": 7, \"days_to_subtract2\": 35, \"width\": 28, \"Feature\": \"diameter_hillside\", \"Value\": -0.16653744635831283}, {\"Construction\": \"Indirect\", \"days_to_subtract1\": 7, \"days_to_subtract2\": 35, \"width\": 28, \"Feature\": \"diameter_hillside\", \"Value\": 0.13955489970049698}, {\"Construction\": \"Both\", \"days_to_subtract1\": 7, \"days_to_subtract2\": 35, \"width\": 28, \"Feature\": \"diameter_hillside\", \"Value\": -0.20149703755724735}]}}, {\"mode\": \"vega-lite\"});\n",
       "</script>"
      ],
      "text/plain": [
       "alt.Chart(...)"
      ]
     },
     "metadata": {},
     "output_type": "display_data"
    },
    {
     "data": {
      "text/markdown": [
       "## top10_tau"
      ],
      "text/plain": [
       "<IPython.core.display.Markdown object>"
      ]
     },
     "metadata": {},
     "output_type": "display_data"
    },
    {
     "data": {
      "text/markdown": [
       "### Colley"
      ],
      "text/plain": [
       "<IPython.core.display.Markdown object>"
      ]
     },
     "metadata": {},
     "output_type": "display_data"
    },
    {
     "data": {
      "text/html": [
       "\n",
       "<div id=\"altair-viz-bcd32e4f31e74f37b336827ec2939539\"></div>\n",
       "<script type=\"text/javascript\">\n",
       "  (function(spec, embedOpt){\n",
       "    let outputDiv = document.currentScript.previousElementSibling;\n",
       "    if (outputDiv.id !== \"altair-viz-bcd32e4f31e74f37b336827ec2939539\") {\n",
       "      outputDiv = document.getElementById(\"altair-viz-bcd32e4f31e74f37b336827ec2939539\");\n",
       "    }\n",
       "    const paths = {\n",
       "      \"vega\": \"https://cdn.jsdelivr.net/npm//vega@5?noext\",\n",
       "      \"vega-lib\": \"https://cdn.jsdelivr.net/npm//vega-lib?noext\",\n",
       "      \"vega-lite\": \"https://cdn.jsdelivr.net/npm//vega-lite@4.8.1?noext\",\n",
       "      \"vega-embed\": \"https://cdn.jsdelivr.net/npm//vega-embed@6?noext\",\n",
       "    };\n",
       "\n",
       "    function loadScript(lib) {\n",
       "      return new Promise(function(resolve, reject) {\n",
       "        var s = document.createElement('script');\n",
       "        s.src = paths[lib];\n",
       "        s.async = true;\n",
       "        s.onload = () => resolve(paths[lib]);\n",
       "        s.onerror = () => reject(`Error loading script: ${paths[lib]}`);\n",
       "        document.getElementsByTagName(\"head\")[0].appendChild(s);\n",
       "      });\n",
       "    }\n",
       "\n",
       "    function showError(err) {\n",
       "      outputDiv.innerHTML = `<div class=\"error\" style=\"color:red;\">${err}</div>`;\n",
       "      throw err;\n",
       "    }\n",
       "\n",
       "    function displayChart(vegaEmbed) {\n",
       "      vegaEmbed(outputDiv, spec, embedOpt)\n",
       "        .catch(err => showError(`Javascript Error: ${err.message}<br>This usually means there's a typo in your chart specification. See the javascript console for the full traceback.`));\n",
       "    }\n",
       "\n",
       "    if(typeof define === \"function\" && define.amd) {\n",
       "      requirejs.config({paths});\n",
       "      require([\"vega-embed\"], displayChart, err => showError(`Error loading script: ${err.message}`));\n",
       "    } else if (typeof vegaEmbed === \"function\") {\n",
       "      displayChart(vegaEmbed);\n",
       "    } else {\n",
       "      loadScript(\"vega\")\n",
       "        .then(() => loadScript(\"vega-lite\"))\n",
       "        .then(() => loadScript(\"vega-embed\"))\n",
       "        .catch(showError)\n",
       "        .then(() => displayChart(vegaEmbed));\n",
       "    }\n",
       "  })({\"config\": {\"view\": {\"continuousWidth\": 400, \"continuousHeight\": 300}}, \"data\": {\"name\": \"data-7d4ca2a3052d6faba8f1e0ed95c86257\"}, \"mark\": \"bar\", \"encoding\": {\"color\": {\"type\": \"nominal\", \"field\": \"Construction\"}, \"column\": {\"type\": \"nominal\", \"field\": \"Construction\"}, \"row\": {\"type\": \"nominal\", \"field\": \"Feature\"}, \"x\": {\"type\": \"nominal\", \"field\": \"width\"}, \"y\": {\"type\": \"quantitative\", \"aggregate\": \"average\", \"field\": \"Value\", \"scale\": {\"domain\": [-0.6, 0.6]}}}, \"$schema\": \"https://vega.github.io/schema/vega-lite/v4.8.1.json\", \"datasets\": {\"data-7d4ca2a3052d6faba8f1e0ed95c86257\": [{\"Construction\": \"Direct\", \"days_to_subtract1\": 28, \"days_to_subtract2\": 35, \"width\": 7, \"Feature\": \"delta_lop\", \"Value\": 0.08955841421637208}, {\"Construction\": \"Indirect\", \"days_to_subtract1\": 28, \"days_to_subtract2\": 35, \"width\": 7, \"Feature\": \"delta_lop\", \"Value\": 0.27750359930332696}, {\"Construction\": \"Both\", \"days_to_subtract1\": 28, \"days_to_subtract2\": 35, \"width\": 7, \"Feature\": \"delta_lop\", \"Value\": 0.2553916868554862}, {\"Construction\": \"Direct\", \"days_to_subtract1\": 21, \"days_to_subtract2\": 28, \"width\": 7, \"Feature\": \"delta_lop\", \"Value\": 0.1743590077801018}, {\"Construction\": \"Indirect\", \"days_to_subtract1\": 21, \"days_to_subtract2\": 28, \"width\": 7, \"Feature\": \"delta_lop\", \"Value\": -0.4001858735368913}, {\"Construction\": \"Both\", \"days_to_subtract1\": 21, \"days_to_subtract2\": 28, \"width\": 7, \"Feature\": \"delta_lop\", \"Value\": -0.08258427824598263}, {\"Construction\": \"Direct\", \"days_to_subtract1\": 14, \"days_to_subtract2\": 21, \"width\": 7, \"Feature\": \"delta_lop\", \"Value\": -0.07295889803712598}, {\"Construction\": \"Indirect\", \"days_to_subtract1\": 14, \"days_to_subtract2\": 21, \"width\": 7, \"Feature\": \"delta_lop\", \"Value\": -0.40727618032411067}, {\"Construction\": \"Both\", \"days_to_subtract1\": 14, \"days_to_subtract2\": 21, \"width\": 7, \"Feature\": \"delta_lop\", \"Value\": -0.13284426322381415}, {\"Construction\": \"Direct\", \"days_to_subtract1\": 7, \"days_to_subtract2\": 14, \"width\": 7, \"Feature\": \"delta_lop\", \"Value\": -0.44790380362997645}, {\"Construction\": \"Indirect\", \"days_to_subtract1\": 7, \"days_to_subtract2\": 14, \"width\": 7, \"Feature\": \"delta_lop\", \"Value\": 0.0665616385549295}, {\"Construction\": \"Both\", \"days_to_subtract1\": 7, \"days_to_subtract2\": 14, \"width\": 7, \"Feature\": \"delta_lop\", \"Value\": -0.26779075928676155}, {\"Construction\": \"Direct\", \"days_to_subtract1\": 21, \"days_to_subtract2\": 35, \"width\": 14, \"Feature\": \"delta_lop\", \"Value\": 0.2948381335448968}, {\"Construction\": \"Indirect\", \"days_to_subtract1\": 21, \"days_to_subtract2\": 35, \"width\": 14, \"Feature\": \"delta_lop\", \"Value\": 0.17760274330720635}, {\"Construction\": \"Both\", \"days_to_subtract1\": 21, \"days_to_subtract2\": 35, \"width\": 14, \"Feature\": \"delta_lop\", \"Value\": 0.34665532106792446}, {\"Construction\": \"Direct\", \"days_to_subtract1\": 14, \"days_to_subtract2\": 28, \"width\": 14, \"Feature\": \"delta_lop\", \"Value\": -0.12043001315214724}, {\"Construction\": \"Indirect\", \"days_to_subtract1\": 14, \"days_to_subtract2\": 28, \"width\": 14, \"Feature\": \"delta_lop\", \"Value\": -0.4704914450260906}, {\"Construction\": \"Both\", \"days_to_subtract1\": 14, \"days_to_subtract2\": 28, \"width\": 14, \"Feature\": \"delta_lop\", \"Value\": -0.2810418658561358}, {\"Construction\": \"Direct\", \"days_to_subtract1\": 7, \"days_to_subtract2\": 21, \"width\": 14, \"Feature\": \"delta_lop\", \"Value\": 0.06557910708991091}, {\"Construction\": \"Indirect\", \"days_to_subtract1\": 7, \"days_to_subtract2\": 21, \"width\": 14, \"Feature\": \"delta_lop\", \"Value\": -0.02980616238662602}, {\"Construction\": \"Both\", \"days_to_subtract1\": 7, \"days_to_subtract2\": 21, \"width\": 14, \"Feature\": \"delta_lop\", \"Value\": 0.08315658121067422}, {\"Construction\": \"Direct\", \"days_to_subtract1\": 14, \"days_to_subtract2\": 35, \"width\": 21, \"Feature\": \"delta_lop\", \"Value\": -0.4568481490775559}, {\"Construction\": \"Indirect\", \"days_to_subtract1\": 14, \"days_to_subtract2\": 35, \"width\": 21, \"Feature\": \"delta_lop\", \"Value\": -0.08707919489333536}, {\"Construction\": \"Both\", \"days_to_subtract1\": 14, \"days_to_subtract2\": 35, \"width\": 21, \"Feature\": \"delta_lop\", \"Value\": -0.3003832661172578}, {\"Construction\": \"Direct\", \"days_to_subtract1\": 7, \"days_to_subtract2\": 28, \"width\": 21, \"Feature\": \"delta_lop\", \"Value\": -0.25000759116226945}, {\"Construction\": \"Indirect\", \"days_to_subtract1\": 7, \"days_to_subtract2\": 28, \"width\": 21, \"Feature\": \"delta_lop\", \"Value\": -0.22075666478609487}, {\"Construction\": \"Both\", \"days_to_subtract1\": 7, \"days_to_subtract2\": 28, \"width\": 21, \"Feature\": \"delta_lop\", \"Value\": -0.1808995645070444}, {\"Construction\": \"Direct\", \"days_to_subtract1\": 7, \"days_to_subtract2\": 35, \"width\": 28, \"Feature\": \"delta_lop\", \"Value\": -0.08717225973288416}, {\"Construction\": \"Indirect\", \"days_to_subtract1\": 7, \"days_to_subtract2\": 35, \"width\": 28, \"Feature\": \"delta_lop\", \"Value\": -0.12085959648723248}, {\"Construction\": \"Both\", \"days_to_subtract1\": 7, \"days_to_subtract2\": 35, \"width\": 28, \"Feature\": \"delta_lop\", \"Value\": 0.040515234466601775}, {\"Construction\": \"Direct\", \"days_to_subtract1\": 28, \"days_to_subtract2\": 35, \"width\": 7, \"Feature\": \"delta_hillside\", \"Value\": 0.2769102056702392}, {\"Construction\": \"Indirect\", \"days_to_subtract1\": 28, \"days_to_subtract2\": 35, \"width\": 7, \"Feature\": \"delta_hillside\", \"Value\": 0.15906107600690036}, {\"Construction\": \"Both\", \"days_to_subtract1\": 28, \"days_to_subtract2\": 35, \"width\": 7, \"Feature\": \"delta_hillside\", \"Value\": 0.24914421459655242}, {\"Construction\": \"Direct\", \"days_to_subtract1\": 21, \"days_to_subtract2\": 28, \"width\": 7, \"Feature\": \"delta_hillside\", \"Value\": 0.22993785018172647}, {\"Construction\": \"Indirect\", \"days_to_subtract1\": 21, \"days_to_subtract2\": 28, \"width\": 7, \"Feature\": \"delta_hillside\", \"Value\": -0.43584497928255556}, {\"Construction\": \"Both\", \"days_to_subtract1\": 21, \"days_to_subtract2\": 28, \"width\": 7, \"Feature\": \"delta_hillside\", \"Value\": -0.3652684760040557}, {\"Construction\": \"Direct\", \"days_to_subtract1\": 14, \"days_to_subtract2\": 21, \"width\": 7, \"Feature\": \"delta_hillside\", \"Value\": -0.01450762055832402}, {\"Construction\": \"Indirect\", \"days_to_subtract1\": 14, \"days_to_subtract2\": 21, \"width\": 7, \"Feature\": \"delta_hillside\", \"Value\": -0.39187591324118537}, {\"Construction\": \"Both\", \"days_to_subtract1\": 14, \"days_to_subtract2\": 21, \"width\": 7, \"Feature\": \"delta_hillside\", \"Value\": -0.35736988054379004}, {\"Construction\": \"Direct\", \"days_to_subtract1\": 7, \"days_to_subtract2\": 14, \"width\": 7, \"Feature\": \"delta_hillside\", \"Value\": -0.12348134831617863}, {\"Construction\": \"Indirect\", \"days_to_subtract1\": 7, \"days_to_subtract2\": 14, \"width\": 7, \"Feature\": \"delta_hillside\", \"Value\": -0.1223235486100941}, {\"Construction\": \"Both\", \"days_to_subtract1\": 7, \"days_to_subtract2\": 14, \"width\": 7, \"Feature\": \"delta_hillside\", \"Value\": -0.1118437465635203}, {\"Construction\": \"Direct\", \"days_to_subtract1\": 21, \"days_to_subtract2\": 35, \"width\": 14, \"Feature\": \"delta_hillside\", \"Value\": 0.12324237565276315}, {\"Construction\": \"Indirect\", \"days_to_subtract1\": 21, \"days_to_subtract2\": 35, \"width\": 14, \"Feature\": \"delta_hillside\", \"Value\": 0.15388486261091744}, {\"Construction\": \"Both\", \"days_to_subtract1\": 21, \"days_to_subtract2\": 35, \"width\": 14, \"Feature\": \"delta_hillside\", \"Value\": 0.21262318942847697}, {\"Construction\": \"Direct\", \"days_to_subtract1\": 14, \"days_to_subtract2\": 28, \"width\": 14, \"Feature\": \"delta_hillside\", \"Value\": 0.25307392813691515}, {\"Construction\": \"Indirect\", \"days_to_subtract1\": 14, \"days_to_subtract2\": 28, \"width\": 14, \"Feature\": \"delta_hillside\", \"Value\": -0.461929829262717}, {\"Construction\": \"Both\", \"days_to_subtract1\": 14, \"days_to_subtract2\": 28, \"width\": 14, \"Feature\": \"delta_hillside\", \"Value\": -0.17633972956501914}, {\"Construction\": \"Direct\", \"days_to_subtract1\": 7, \"days_to_subtract2\": 21, \"width\": 14, \"Feature\": \"delta_hillside\", \"Value\": 0.3701072645400021}, {\"Construction\": \"Indirect\", \"days_to_subtract1\": 7, \"days_to_subtract2\": 21, \"width\": 14, \"Feature\": \"delta_hillside\", \"Value\": 0.015637221245005575}, {\"Construction\": \"Both\", \"days_to_subtract1\": 7, \"days_to_subtract2\": 21, \"width\": 14, \"Feature\": \"delta_hillside\", \"Value\": 0.028323701299845586}, {\"Construction\": \"Direct\", \"days_to_subtract1\": 14, \"days_to_subtract2\": 35, \"width\": 21, \"Feature\": \"delta_hillside\", \"Value\": -0.1599178909076232}, {\"Construction\": \"Indirect\", \"days_to_subtract1\": 14, \"days_to_subtract2\": 35, \"width\": 21, \"Feature\": \"delta_hillside\", \"Value\": -0.10483548296190372}, {\"Construction\": \"Both\", \"days_to_subtract1\": 14, \"days_to_subtract2\": 35, \"width\": 21, \"Feature\": \"delta_hillside\", \"Value\": -0.19437108174065712}, {\"Construction\": \"Direct\", \"days_to_subtract1\": 7, \"days_to_subtract2\": 28, \"width\": 21, \"Feature\": \"delta_hillside\", \"Value\": -0.23248037035880795}, {\"Construction\": \"Indirect\", \"days_to_subtract1\": 7, \"days_to_subtract2\": 28, \"width\": 21, \"Feature\": \"delta_hillside\", \"Value\": -0.023665067274754294}, {\"Construction\": \"Both\", \"days_to_subtract1\": 7, \"days_to_subtract2\": 28, \"width\": 21, \"Feature\": \"delta_hillside\", \"Value\": -0.019265561338996262}, {\"Construction\": \"Direct\", \"days_to_subtract1\": 7, \"days_to_subtract2\": 35, \"width\": 28, \"Feature\": \"delta_hillside\", \"Value\": -0.11869953876518217}, {\"Construction\": \"Indirect\", \"days_to_subtract1\": 7, \"days_to_subtract2\": 35, \"width\": 28, \"Feature\": \"delta_hillside\", \"Value\": 0.07250001913124629}, {\"Construction\": \"Both\", \"days_to_subtract1\": 7, \"days_to_subtract2\": 35, \"width\": 28, \"Feature\": \"delta_hillside\", \"Value\": 0.24486204748880036}, {\"Construction\": \"Direct\", \"days_to_subtract1\": 28, \"days_to_subtract2\": 35, \"width\": 7, \"Feature\": \"nfrac_xstar_lop\", \"Value\": -0.005222049341642413}, {\"Construction\": \"Indirect\", \"days_to_subtract1\": 28, \"days_to_subtract2\": 35, \"width\": 7, \"Feature\": \"nfrac_xstar_lop\", \"Value\": 0.24582173647855865}, {\"Construction\": \"Both\", \"days_to_subtract1\": 28, \"days_to_subtract2\": 35, \"width\": 7, \"Feature\": \"nfrac_xstar_lop\", \"Value\": 0.15862388317849122}, {\"Construction\": \"Direct\", \"days_to_subtract1\": 21, \"days_to_subtract2\": 28, \"width\": 7, \"Feature\": \"nfrac_xstar_lop\", \"Value\": 0.2621508367734193}, {\"Construction\": \"Indirect\", \"days_to_subtract1\": 21, \"days_to_subtract2\": 28, \"width\": 7, \"Feature\": \"nfrac_xstar_lop\", \"Value\": 0.35106954275731217}, {\"Construction\": \"Both\", \"days_to_subtract1\": 21, \"days_to_subtract2\": 28, \"width\": 7, \"Feature\": \"nfrac_xstar_lop\", \"Value\": 0.06544722629763695}, {\"Construction\": \"Direct\", \"days_to_subtract1\": 14, \"days_to_subtract2\": 21, \"width\": 7, \"Feature\": \"nfrac_xstar_lop\", \"Value\": 0.11460622072357772}, {\"Construction\": \"Indirect\", \"days_to_subtract1\": 14, \"days_to_subtract2\": 21, \"width\": 7, \"Feature\": \"nfrac_xstar_lop\", \"Value\": 0.14464224199478068}, {\"Construction\": \"Both\", \"days_to_subtract1\": 14, \"days_to_subtract2\": 21, \"width\": 7, \"Feature\": \"nfrac_xstar_lop\", \"Value\": 0.19357291069346955}, {\"Construction\": \"Direct\", \"days_to_subtract1\": 7, \"days_to_subtract2\": 14, \"width\": 7, \"Feature\": \"nfrac_xstar_lop\", \"Value\": 0.017186051632483924}, {\"Construction\": \"Indirect\", \"days_to_subtract1\": 7, \"days_to_subtract2\": 14, \"width\": 7, \"Feature\": \"nfrac_xstar_lop\", \"Value\": 0.18876820790593074}, {\"Construction\": \"Both\", \"days_to_subtract1\": 7, \"days_to_subtract2\": 14, \"width\": 7, \"Feature\": \"nfrac_xstar_lop\", \"Value\": 0.053732886618843664}, {\"Construction\": \"Direct\", \"days_to_subtract1\": 21, \"days_to_subtract2\": 35, \"width\": 14, \"Feature\": \"nfrac_xstar_lop\", \"Value\": 0.1268100767552347}, {\"Construction\": \"Indirect\", \"days_to_subtract1\": 21, \"days_to_subtract2\": 35, \"width\": 14, \"Feature\": \"nfrac_xstar_lop\", \"Value\": -0.01996585159378096}, {\"Construction\": \"Both\", \"days_to_subtract1\": 21, \"days_to_subtract2\": 35, \"width\": 14, \"Feature\": \"nfrac_xstar_lop\", \"Value\": -0.23020360465892328}, {\"Construction\": \"Direct\", \"days_to_subtract1\": 14, \"days_to_subtract2\": 28, \"width\": 14, \"Feature\": \"nfrac_xstar_lop\", \"Value\": 0.12373797599857601}, {\"Construction\": \"Indirect\", \"days_to_subtract1\": 14, \"days_to_subtract2\": 28, \"width\": 14, \"Feature\": \"nfrac_xstar_lop\", \"Value\": 0.522340893824672}, {\"Construction\": \"Both\", \"days_to_subtract1\": 14, \"days_to_subtract2\": 28, \"width\": 14, \"Feature\": \"nfrac_xstar_lop\", \"Value\": 0.24580240446237797}, {\"Construction\": \"Direct\", \"days_to_subtract1\": 7, \"days_to_subtract2\": 21, \"width\": 14, \"Feature\": \"nfrac_xstar_lop\", \"Value\": 0.4740025754302691}, {\"Construction\": \"Indirect\", \"days_to_subtract1\": 7, \"days_to_subtract2\": 21, \"width\": 14, \"Feature\": \"nfrac_xstar_lop\", \"Value\": -0.3547950995879263}, {\"Construction\": \"Both\", \"days_to_subtract1\": 7, \"days_to_subtract2\": 21, \"width\": 14, \"Feature\": \"nfrac_xstar_lop\", \"Value\": 0.038250933248811736}, {\"Construction\": \"Direct\", \"days_to_subtract1\": 14, \"days_to_subtract2\": 35, \"width\": 21, \"Feature\": \"nfrac_xstar_lop\", \"Value\": 0.009454600463290082}, {\"Construction\": \"Indirect\", \"days_to_subtract1\": 14, \"days_to_subtract2\": 35, \"width\": 21, \"Feature\": \"nfrac_xstar_lop\", \"Value\": -0.048129287686023633}, {\"Construction\": \"Both\", \"days_to_subtract1\": 14, \"days_to_subtract2\": 35, \"width\": 21, \"Feature\": \"nfrac_xstar_lop\", \"Value\": 0.18633214348921956}, {\"Construction\": \"Direct\", \"days_to_subtract1\": 7, \"days_to_subtract2\": 28, \"width\": 21, \"Feature\": \"nfrac_xstar_lop\", \"Value\": 0.11732660323838928}, {\"Construction\": \"Indirect\", \"days_to_subtract1\": 7, \"days_to_subtract2\": 28, \"width\": 21, \"Feature\": \"nfrac_xstar_lop\", \"Value\": 0.05063115905581283}, {\"Construction\": \"Both\", \"days_to_subtract1\": 7, \"days_to_subtract2\": 28, \"width\": 21, \"Feature\": \"nfrac_xstar_lop\", \"Value\": -0.23810135534376023}, {\"Construction\": \"Direct\", \"days_to_subtract1\": 7, \"days_to_subtract2\": 35, \"width\": 28, \"Feature\": \"nfrac_xstar_lop\", \"Value\": 0.08670931599726586}, {\"Construction\": \"Indirect\", \"days_to_subtract1\": 7, \"days_to_subtract2\": 35, \"width\": 28, \"Feature\": \"nfrac_xstar_lop\", \"Value\": -0.11471473335840714}, {\"Construction\": \"Both\", \"days_to_subtract1\": 7, \"days_to_subtract2\": 35, \"width\": 28, \"Feature\": \"nfrac_xstar_lop\", \"Value\": -0.1638798324590201}, {\"Construction\": \"Direct\", \"days_to_subtract1\": 28, \"days_to_subtract2\": 35, \"width\": 7, \"Feature\": \"nfrac_xstar_hillside\", \"Value\": 0.24395016578128148}, {\"Construction\": \"Indirect\", \"days_to_subtract1\": 28, \"days_to_subtract2\": 35, \"width\": 7, \"Feature\": \"nfrac_xstar_hillside\", \"Value\": -0.39522322925306863}, {\"Construction\": \"Both\", \"days_to_subtract1\": 28, \"days_to_subtract2\": 35, \"width\": 7, \"Feature\": \"nfrac_xstar_hillside\", \"Value\": 0.06571295052163056}, {\"Construction\": \"Direct\", \"days_to_subtract1\": 21, \"days_to_subtract2\": 28, \"width\": 7, \"Feature\": \"nfrac_xstar_hillside\", \"Value\": -0.27681284150712965}, {\"Construction\": \"Indirect\", \"days_to_subtract1\": 21, \"days_to_subtract2\": 28, \"width\": 7, \"Feature\": \"nfrac_xstar_hillside\", \"Value\": 0.3287789001881328}, {\"Construction\": \"Both\", \"days_to_subtract1\": 21, \"days_to_subtract2\": 28, \"width\": 7, \"Feature\": \"nfrac_xstar_hillside\", \"Value\": -0.0507614328888286}, {\"Construction\": \"Direct\", \"days_to_subtract1\": 14, \"days_to_subtract2\": 21, \"width\": 7, \"Feature\": \"nfrac_xstar_hillside\", \"Value\": 0.18109037946764828}, {\"Construction\": \"Indirect\", \"days_to_subtract1\": 14, \"days_to_subtract2\": 21, \"width\": 7, \"Feature\": \"nfrac_xstar_hillside\", \"Value\": 0.03481458291421074}, {\"Construction\": \"Both\", \"days_to_subtract1\": 14, \"days_to_subtract2\": 21, \"width\": 7, \"Feature\": \"nfrac_xstar_hillside\", \"Value\": -0.03500621994937075}, {\"Construction\": \"Direct\", \"days_to_subtract1\": 7, \"days_to_subtract2\": 14, \"width\": 7, \"Feature\": \"nfrac_xstar_hillside\", \"Value\": 0.29633142677102775}, {\"Construction\": \"Indirect\", \"days_to_subtract1\": 7, \"days_to_subtract2\": 14, \"width\": 7, \"Feature\": \"nfrac_xstar_hillside\", \"Value\": 0.49754787023565766}, {\"Construction\": \"Both\", \"days_to_subtract1\": 7, \"days_to_subtract2\": 14, \"width\": 7, \"Feature\": \"nfrac_xstar_hillside\", \"Value\": 0.4618564739357619}, {\"Construction\": \"Direct\", \"days_to_subtract1\": 21, \"days_to_subtract2\": 35, \"width\": 14, \"Feature\": \"nfrac_xstar_hillside\", \"Value\": 0.13742181424291378}, {\"Construction\": \"Indirect\", \"days_to_subtract1\": 21, \"days_to_subtract2\": 35, \"width\": 14, \"Feature\": \"nfrac_xstar_hillside\", \"Value\": 0.06502687191458519}, {\"Construction\": \"Both\", \"days_to_subtract1\": 21, \"days_to_subtract2\": 35, \"width\": 14, \"Feature\": \"nfrac_xstar_hillside\", \"Value\": -0.3023667846524593}, {\"Construction\": \"Direct\", \"days_to_subtract1\": 14, \"days_to_subtract2\": 28, \"width\": 14, \"Feature\": \"nfrac_xstar_hillside\", \"Value\": 0.1960593412088947}, {\"Construction\": \"Indirect\", \"days_to_subtract1\": 14, \"days_to_subtract2\": 28, \"width\": 14, \"Feature\": \"nfrac_xstar_hillside\", \"Value\": -0.28854886137590663}, {\"Construction\": \"Both\", \"days_to_subtract1\": 14, \"days_to_subtract2\": 28, \"width\": 14, \"Feature\": \"nfrac_xstar_hillside\", \"Value\": 0.13463099503092474}, {\"Construction\": \"Direct\", \"days_to_subtract1\": 7, \"days_to_subtract2\": 21, \"width\": 14, \"Feature\": \"nfrac_xstar_hillside\", \"Value\": 0.31980530964771237}, {\"Construction\": \"Indirect\", \"days_to_subtract1\": 7, \"days_to_subtract2\": 21, \"width\": 14, \"Feature\": \"nfrac_xstar_hillside\", \"Value\": -0.2608285981001828}, {\"Construction\": \"Both\", \"days_to_subtract1\": 7, \"days_to_subtract2\": 21, \"width\": 14, \"Feature\": \"nfrac_xstar_hillside\", \"Value\": -0.003702143486732559}, {\"Construction\": \"Direct\", \"days_to_subtract1\": 14, \"days_to_subtract2\": 35, \"width\": 21, \"Feature\": \"nfrac_xstar_hillside\", \"Value\": 0.41403802893447916}, {\"Construction\": \"Indirect\", \"days_to_subtract1\": 14, \"days_to_subtract2\": 35, \"width\": 21, \"Feature\": \"nfrac_xstar_hillside\", \"Value\": -0.45520132896683374}, {\"Construction\": \"Both\", \"days_to_subtract1\": 14, \"days_to_subtract2\": 35, \"width\": 21, \"Feature\": \"nfrac_xstar_hillside\", \"Value\": 0.0782302052882909}, {\"Construction\": \"Direct\", \"days_to_subtract1\": 7, \"days_to_subtract2\": 28, \"width\": 21, \"Feature\": \"nfrac_xstar_hillside\", \"Value\": 0.2837892470971106}, {\"Construction\": \"Indirect\", \"days_to_subtract1\": 7, \"days_to_subtract2\": 28, \"width\": 21, \"Feature\": \"nfrac_xstar_hillside\", \"Value\": 0.19828475392312786}, {\"Construction\": \"Both\", \"days_to_subtract1\": 7, \"days_to_subtract2\": 28, \"width\": 21, \"Feature\": \"nfrac_xstar_hillside\", \"Value\": 0.35983195638772053}, {\"Construction\": \"Direct\", \"days_to_subtract1\": 7, \"days_to_subtract2\": 35, \"width\": 28, \"Feature\": \"nfrac_xstar_hillside\", \"Value\": 0.05048461266757336}, {\"Construction\": \"Indirect\", \"days_to_subtract1\": 7, \"days_to_subtract2\": 35, \"width\": 28, \"Feature\": \"nfrac_xstar_hillside\", \"Value\": 0.05926000682376627}, {\"Construction\": \"Both\", \"days_to_subtract1\": 7, \"days_to_subtract2\": 35, \"width\": 28, \"Feature\": \"nfrac_xstar_hillside\", \"Value\": 0.021599404692118837}, {\"Construction\": \"Direct\", \"days_to_subtract1\": 28, \"days_to_subtract2\": 35, \"width\": 7, \"Feature\": \"diameter_lop\", \"Value\": 0.007466055491184977}, {\"Construction\": \"Indirect\", \"days_to_subtract1\": 28, \"days_to_subtract2\": 35, \"width\": 7, \"Feature\": \"diameter_lop\", \"Value\": 0.30130714317468765}, {\"Construction\": \"Both\", \"days_to_subtract1\": 28, \"days_to_subtract2\": 35, \"width\": 7, \"Feature\": \"diameter_lop\", \"Value\": 0.19724334841574753}, {\"Construction\": \"Direct\", \"days_to_subtract1\": 21, \"days_to_subtract2\": 28, \"width\": 7, \"Feature\": \"diameter_lop\", \"Value\": 0.2614182513721292}, {\"Construction\": \"Indirect\", \"days_to_subtract1\": 21, \"days_to_subtract2\": 28, \"width\": 7, \"Feature\": \"diameter_lop\", \"Value\": 0.41600471148222284}, {\"Construction\": \"Both\", \"days_to_subtract1\": 21, \"days_to_subtract2\": 28, \"width\": 7, \"Feature\": \"diameter_lop\", \"Value\": 0.16102586852378056}, {\"Construction\": \"Direct\", \"days_to_subtract1\": 14, \"days_to_subtract2\": 21, \"width\": 7, \"Feature\": \"diameter_lop\", \"Value\": 0.14110775654185773}, {\"Construction\": \"Indirect\", \"days_to_subtract1\": 14, \"days_to_subtract2\": 21, \"width\": 7, \"Feature\": \"diameter_lop\", \"Value\": 0.18677404021249025}, {\"Construction\": \"Both\", \"days_to_subtract1\": 14, \"days_to_subtract2\": 21, \"width\": 7, \"Feature\": \"diameter_lop\", \"Value\": 0.1838727431180887}, {\"Construction\": \"Direct\", \"days_to_subtract1\": 7, \"days_to_subtract2\": 14, \"width\": 7, \"Feature\": \"diameter_lop\", \"Value\": 0.010454720140133869}, {\"Construction\": \"Indirect\", \"days_to_subtract1\": 7, \"days_to_subtract2\": 14, \"width\": 7, \"Feature\": \"diameter_lop\", \"Value\": 0.20189401795432313}, {\"Construction\": \"Both\", \"days_to_subtract1\": 7, \"days_to_subtract2\": 14, \"width\": 7, \"Feature\": \"diameter_lop\", \"Value\": 0.053732886618843664}, {\"Construction\": \"Direct\", \"days_to_subtract1\": 21, \"days_to_subtract2\": 35, \"width\": 14, \"Feature\": \"diameter_lop\", \"Value\": 0.11636870508698316}, {\"Construction\": \"Indirect\", \"days_to_subtract1\": 21, \"days_to_subtract2\": 35, \"width\": 14, \"Feature\": \"diameter_lop\", \"Value\": -0.04538468319520975}, {\"Construction\": \"Both\", \"days_to_subtract1\": 21, \"days_to_subtract2\": 35, \"width\": 14, \"Feature\": \"diameter_lop\", \"Value\": -0.23574756515274928}, {\"Construction\": \"Direct\", \"days_to_subtract1\": 14, \"days_to_subtract2\": 28, \"width\": 14, \"Feature\": \"diameter_lop\", \"Value\": 0.067846340284808}, {\"Construction\": \"Indirect\", \"days_to_subtract1\": 14, \"days_to_subtract2\": 28, \"width\": 14, \"Feature\": \"diameter_lop\", \"Value\": 0.494307529925107}, {\"Construction\": \"Both\", \"days_to_subtract1\": 14, \"days_to_subtract2\": 28, \"width\": 14, \"Feature\": \"diameter_lop\", \"Value\": 0.2682362587394204}, {\"Construction\": \"Direct\", \"days_to_subtract1\": 7, \"days_to_subtract2\": 21, \"width\": 14, \"Feature\": \"diameter_lop\", \"Value\": 0.43914836549555225}, {\"Construction\": \"Indirect\", \"days_to_subtract1\": 7, \"days_to_subtract2\": 21, \"width\": 14, \"Feature\": \"diameter_lop\", \"Value\": -0.30054852938735604}, {\"Construction\": \"Both\", \"days_to_subtract1\": 7, \"days_to_subtract2\": 21, \"width\": 14, \"Feature\": \"diameter_lop\", \"Value\": 0.038250933248811736}, {\"Construction\": \"Direct\", \"days_to_subtract1\": 14, \"days_to_subtract2\": 35, \"width\": 21, \"Feature\": \"diameter_lop\", \"Value\": 0.03275380182116706}, {\"Construction\": \"Indirect\", \"days_to_subtract1\": 14, \"days_to_subtract2\": 35, \"width\": 21, \"Feature\": \"diameter_lop\", \"Value\": -0.03580085606245775}, {\"Construction\": \"Both\", \"days_to_subtract1\": 14, \"days_to_subtract2\": 35, \"width\": 21, \"Feature\": \"diameter_lop\", \"Value\": 0.17244093604670283}, {\"Construction\": \"Direct\", \"days_to_subtract1\": 7, \"days_to_subtract2\": 28, \"width\": 21, \"Feature\": \"diameter_lop\", \"Value\": 0.13107898404256227}, {\"Construction\": \"Indirect\", \"days_to_subtract1\": 7, \"days_to_subtract2\": 28, \"width\": 21, \"Feature\": \"diameter_lop\", \"Value\": 0.02710770574799408}, {\"Construction\": \"Both\", \"days_to_subtract1\": 7, \"days_to_subtract2\": 28, \"width\": 21, \"Feature\": \"diameter_lop\", \"Value\": -0.23810135534376023}, {\"Construction\": \"Direct\", \"days_to_subtract1\": 7, \"days_to_subtract2\": 35, \"width\": 28, \"Feature\": \"diameter_lop\", \"Value\": 0.09373617064975107}, {\"Construction\": \"Indirect\", \"days_to_subtract1\": 7, \"days_to_subtract2\": 35, \"width\": 28, \"Feature\": \"diameter_lop\", \"Value\": -0.10012221818544653}, {\"Construction\": \"Both\", \"days_to_subtract1\": 7, \"days_to_subtract2\": 35, \"width\": 28, \"Feature\": \"diameter_lop\", \"Value\": -0.1638798324590201}, {\"Construction\": \"Direct\", \"days_to_subtract1\": 28, \"days_to_subtract2\": 35, \"width\": 7, \"Feature\": \"diameter_hillside\", \"Value\": -0.026597294727253366}, {\"Construction\": \"Indirect\", \"days_to_subtract1\": 28, \"days_to_subtract2\": 35, \"width\": 7, \"Feature\": \"diameter_hillside\", \"Value\": -0.34551355273710804}, {\"Construction\": \"Both\", \"days_to_subtract1\": 28, \"days_to_subtract2\": 35, \"width\": 7, \"Feature\": \"diameter_hillside\", \"Value\": -0.018779274692868893}, {\"Construction\": \"Direct\", \"days_to_subtract1\": 21, \"days_to_subtract2\": 28, \"width\": 7, \"Feature\": \"diameter_hillside\", \"Value\": 0.1736531332036801}, {\"Construction\": \"Indirect\", \"days_to_subtract1\": 21, \"days_to_subtract2\": 28, \"width\": 7, \"Feature\": \"diameter_hillside\", \"Value\": 0.34423930230451627}, {\"Construction\": \"Both\", \"days_to_subtract1\": 21, \"days_to_subtract2\": 28, \"width\": 7, \"Feature\": \"diameter_hillside\", \"Value\": 0.047561742663876506}, {\"Construction\": \"Direct\", \"days_to_subtract1\": 14, \"days_to_subtract2\": 21, \"width\": 7, \"Feature\": \"diameter_hillside\", \"Value\": 0.1928508098983125}, {\"Construction\": \"Indirect\", \"days_to_subtract1\": 14, \"days_to_subtract2\": 21, \"width\": 7, \"Feature\": \"diameter_hillside\", \"Value\": 0.03718287203276339}, {\"Construction\": \"Both\", \"days_to_subtract1\": 14, \"days_to_subtract2\": 21, \"width\": 7, \"Feature\": \"diameter_hillside\", \"Value\": -0.03500621994937075}, {\"Construction\": \"Direct\", \"days_to_subtract1\": 7, \"days_to_subtract2\": 14, \"width\": 7, \"Feature\": \"diameter_hillside\", \"Value\": 0.3808609148141094}, {\"Construction\": \"Indirect\", \"days_to_subtract1\": 7, \"days_to_subtract2\": 14, \"width\": 7, \"Feature\": \"diameter_hillside\", \"Value\": 0.5243573247552084}, {\"Construction\": \"Both\", \"days_to_subtract1\": 7, \"days_to_subtract2\": 14, \"width\": 7, \"Feature\": \"diameter_hillside\", \"Value\": 0.4173178757098242}, {\"Construction\": \"Direct\", \"days_to_subtract1\": 21, \"days_to_subtract2\": 35, \"width\": 14, \"Feature\": \"diameter_hillside\", \"Value\": -0.12637903335374873}, {\"Construction\": \"Indirect\", \"days_to_subtract1\": 21, \"days_to_subtract2\": 35, \"width\": 14, \"Feature\": \"diameter_hillside\", \"Value\": 0.07390562100984051}, {\"Construction\": \"Both\", \"days_to_subtract1\": 21, \"days_to_subtract2\": 35, \"width\": 14, \"Feature\": \"diameter_hillside\", \"Value\": -0.29467645592777647}, {\"Construction\": \"Direct\", \"days_to_subtract1\": 14, \"days_to_subtract2\": 28, \"width\": 14, \"Feature\": \"diameter_hillside\", \"Value\": 0.18074065153220206}, {\"Construction\": \"Indirect\", \"days_to_subtract1\": 14, \"days_to_subtract2\": 28, \"width\": 14, \"Feature\": \"diameter_hillside\", \"Value\": -0.257047593363404}, {\"Construction\": \"Both\", \"days_to_subtract1\": 14, \"days_to_subtract2\": 28, \"width\": 14, \"Feature\": \"diameter_hillside\", \"Value\": 0.13463099503092474}, {\"Construction\": \"Direct\", \"days_to_subtract1\": 7, \"days_to_subtract2\": 21, \"width\": 14, \"Feature\": \"diameter_hillside\", \"Value\": 0.23107514450510888}, {\"Construction\": \"Indirect\", \"days_to_subtract1\": 7, \"days_to_subtract2\": 21, \"width\": 14, \"Feature\": \"diameter_hillside\", \"Value\": -0.29880170148949253}, {\"Construction\": \"Both\", \"days_to_subtract1\": 7, \"days_to_subtract2\": 21, \"width\": 14, \"Feature\": \"diameter_hillside\", \"Value\": -0.03764703334919017}, {\"Construction\": \"Direct\", \"days_to_subtract1\": 14, \"days_to_subtract2\": 35, \"width\": 21, \"Feature\": \"diameter_hillside\", \"Value\": 0.40735288619424376}, {\"Construction\": \"Indirect\", \"days_to_subtract1\": 14, \"days_to_subtract2\": 35, \"width\": 21, \"Feature\": \"diameter_hillside\", \"Value\": -0.4474890035242427}, {\"Construction\": \"Both\", \"days_to_subtract1\": 14, \"days_to_subtract2\": 35, \"width\": 21, \"Feature\": \"diameter_hillside\", \"Value\": 0.0782302052882909}, {\"Construction\": \"Direct\", \"days_to_subtract1\": 7, \"days_to_subtract2\": 28, \"width\": 21, \"Feature\": \"diameter_hillside\", \"Value\": 0.33360746131496977}, {\"Construction\": \"Indirect\", \"days_to_subtract1\": 7, \"days_to_subtract2\": 28, \"width\": 21, \"Feature\": \"diameter_hillside\", \"Value\": 0.3181202678195712}, {\"Construction\": \"Both\", \"days_to_subtract1\": 7, \"days_to_subtract2\": 28, \"width\": 21, \"Feature\": \"diameter_hillside\", \"Value\": 0.3490335017562561}, {\"Construction\": \"Direct\", \"days_to_subtract1\": 7, \"days_to_subtract2\": 35, \"width\": 28, \"Feature\": \"diameter_hillside\", \"Value\": -0.1653597760278483}, {\"Construction\": \"Indirect\", \"days_to_subtract1\": 7, \"days_to_subtract2\": 35, \"width\": 28, \"Feature\": \"diameter_hillside\", \"Value\": 0.08586254223733371}, {\"Construction\": \"Both\", \"days_to_subtract1\": 7, \"days_to_subtract2\": 35, \"width\": 28, \"Feature\": \"diameter_hillside\", \"Value\": -0.026250133511063246}]}}, {\"mode\": \"vega-lite\"});\n",
       "</script>"
      ],
      "text/plain": [
       "alt.Chart(...)"
      ]
     },
     "metadata": {},
     "output_type": "display_data"
    },
    {
     "data": {
      "text/markdown": [
       "### Massey"
      ],
      "text/plain": [
       "<IPython.core.display.Markdown object>"
      ]
     },
     "metadata": {},
     "output_type": "display_data"
    },
    {
     "data": {
      "text/html": [
       "\n",
       "<div id=\"altair-viz-7a7d0e338e444ae4b01f6d636414914a\"></div>\n",
       "<script type=\"text/javascript\">\n",
       "  (function(spec, embedOpt){\n",
       "    let outputDiv = document.currentScript.previousElementSibling;\n",
       "    if (outputDiv.id !== \"altair-viz-7a7d0e338e444ae4b01f6d636414914a\") {\n",
       "      outputDiv = document.getElementById(\"altair-viz-7a7d0e338e444ae4b01f6d636414914a\");\n",
       "    }\n",
       "    const paths = {\n",
       "      \"vega\": \"https://cdn.jsdelivr.net/npm//vega@5?noext\",\n",
       "      \"vega-lib\": \"https://cdn.jsdelivr.net/npm//vega-lib?noext\",\n",
       "      \"vega-lite\": \"https://cdn.jsdelivr.net/npm//vega-lite@4.8.1?noext\",\n",
       "      \"vega-embed\": \"https://cdn.jsdelivr.net/npm//vega-embed@6?noext\",\n",
       "    };\n",
       "\n",
       "    function loadScript(lib) {\n",
       "      return new Promise(function(resolve, reject) {\n",
       "        var s = document.createElement('script');\n",
       "        s.src = paths[lib];\n",
       "        s.async = true;\n",
       "        s.onload = () => resolve(paths[lib]);\n",
       "        s.onerror = () => reject(`Error loading script: ${paths[lib]}`);\n",
       "        document.getElementsByTagName(\"head\")[0].appendChild(s);\n",
       "      });\n",
       "    }\n",
       "\n",
       "    function showError(err) {\n",
       "      outputDiv.innerHTML = `<div class=\"error\" style=\"color:red;\">${err}</div>`;\n",
       "      throw err;\n",
       "    }\n",
       "\n",
       "    function displayChart(vegaEmbed) {\n",
       "      vegaEmbed(outputDiv, spec, embedOpt)\n",
       "        .catch(err => showError(`Javascript Error: ${err.message}<br>This usually means there's a typo in your chart specification. See the javascript console for the full traceback.`));\n",
       "    }\n",
       "\n",
       "    if(typeof define === \"function\" && define.amd) {\n",
       "      requirejs.config({paths});\n",
       "      require([\"vega-embed\"], displayChart, err => showError(`Error loading script: ${err.message}`));\n",
       "    } else if (typeof vegaEmbed === \"function\") {\n",
       "      displayChart(vegaEmbed);\n",
       "    } else {\n",
       "      loadScript(\"vega\")\n",
       "        .then(() => loadScript(\"vega-lite\"))\n",
       "        .then(() => loadScript(\"vega-embed\"))\n",
       "        .catch(showError)\n",
       "        .then(() => displayChart(vegaEmbed));\n",
       "    }\n",
       "  })({\"config\": {\"view\": {\"continuousWidth\": 400, \"continuousHeight\": 300}}, \"data\": {\"name\": \"data-017b538da08ddd333e5c3602d2ccc113\"}, \"mark\": \"bar\", \"encoding\": {\"color\": {\"type\": \"nominal\", \"field\": \"Construction\"}, \"column\": {\"type\": \"nominal\", \"field\": \"Construction\"}, \"row\": {\"type\": \"nominal\", \"field\": \"Feature\"}, \"x\": {\"type\": \"nominal\", \"field\": \"width\"}, \"y\": {\"type\": \"quantitative\", \"aggregate\": \"average\", \"field\": \"Value\", \"scale\": {\"domain\": [-0.6, 0.6]}}}, \"$schema\": \"https://vega.github.io/schema/vega-lite/v4.8.1.json\", \"datasets\": {\"data-017b538da08ddd333e5c3602d2ccc113\": [{\"Construction\": \"Direct\", \"days_to_subtract1\": 28, \"days_to_subtract2\": 35, \"width\": 7, \"Feature\": \"delta_lop\", \"Value\": 0.17895524562245868}, {\"Construction\": \"Indirect\", \"days_to_subtract1\": 28, \"days_to_subtract2\": 35, \"width\": 7, \"Feature\": \"delta_lop\", \"Value\": 0.19550871967237765}, {\"Construction\": \"Both\", \"days_to_subtract1\": 28, \"days_to_subtract2\": 35, \"width\": 7, \"Feature\": \"delta_lop\", \"Value\": 0.2144899530675672}, {\"Construction\": \"Direct\", \"days_to_subtract1\": 21, \"days_to_subtract2\": 28, \"width\": 7, \"Feature\": \"delta_lop\", \"Value\": -0.08978765024429589}, {\"Construction\": \"Indirect\", \"days_to_subtract1\": 21, \"days_to_subtract2\": 28, \"width\": 7, \"Feature\": \"delta_lop\", \"Value\": -0.30016154558376357}, {\"Construction\": \"Both\", \"days_to_subtract1\": 21, \"days_to_subtract2\": 28, \"width\": 7, \"Feature\": \"delta_lop\", \"Value\": -0.22209963285172718}, {\"Construction\": \"Direct\", \"days_to_subtract1\": 14, \"days_to_subtract2\": 21, \"width\": 7, \"Feature\": \"delta_lop\", \"Value\": 0.23119880934753922}, {\"Construction\": \"Indirect\", \"days_to_subtract1\": 14, \"days_to_subtract2\": 21, \"width\": 7, \"Feature\": \"delta_lop\", \"Value\": -0.15077467895304958}, {\"Construction\": \"Both\", \"days_to_subtract1\": 14, \"days_to_subtract2\": 21, \"width\": 7, \"Feature\": \"delta_lop\", \"Value\": 0.023872794390401054}, {\"Construction\": \"Direct\", \"days_to_subtract1\": 7, \"days_to_subtract2\": 14, \"width\": 7, \"Feature\": \"delta_lop\", \"Value\": -0.3426255484932739}, {\"Construction\": \"Indirect\", \"days_to_subtract1\": 7, \"days_to_subtract2\": 14, \"width\": 7, \"Feature\": \"delta_lop\", \"Value\": -0.024404418884700598}, {\"Construction\": \"Both\", \"days_to_subtract1\": 7, \"days_to_subtract2\": 14, \"width\": 7, \"Feature\": \"delta_lop\", \"Value\": -0.1440511283716253}, {\"Construction\": \"Direct\", \"days_to_subtract1\": 21, \"days_to_subtract2\": 35, \"width\": 14, \"Feature\": \"delta_lop\", \"Value\": -0.02805088927306488}, {\"Construction\": \"Indirect\", \"days_to_subtract1\": 21, \"days_to_subtract2\": 35, \"width\": 14, \"Feature\": \"delta_lop\", \"Value\": 0.08998325390448285}, {\"Construction\": \"Both\", \"days_to_subtract1\": 21, \"days_to_subtract2\": 35, \"width\": 14, \"Feature\": \"delta_lop\", \"Value\": 0.10356128764057704}, {\"Construction\": \"Direct\", \"days_to_subtract1\": 14, \"days_to_subtract2\": 28, \"width\": 14, \"Feature\": \"delta_lop\", \"Value\": -0.11036865429038364}, {\"Construction\": \"Indirect\", \"days_to_subtract1\": 14, \"days_to_subtract2\": 28, \"width\": 14, \"Feature\": \"delta_lop\", \"Value\": -0.23046703128506393}, {\"Construction\": \"Both\", \"days_to_subtract1\": 14, \"days_to_subtract2\": 28, \"width\": 14, \"Feature\": \"delta_lop\", \"Value\": -0.28913391253929394}, {\"Construction\": \"Direct\", \"days_to_subtract1\": 7, \"days_to_subtract2\": 21, \"width\": 14, \"Feature\": \"delta_lop\", \"Value\": -0.28323723940723833}, {\"Construction\": \"Indirect\", \"days_to_subtract1\": 7, \"days_to_subtract2\": 21, \"width\": 14, \"Feature\": \"delta_lop\", \"Value\": -0.21465009337345092}, {\"Construction\": \"Both\", \"days_to_subtract1\": 7, \"days_to_subtract2\": 21, \"width\": 14, \"Feature\": \"delta_lop\", \"Value\": -0.23755740316339757}, {\"Construction\": \"Direct\", \"days_to_subtract1\": 14, \"days_to_subtract2\": 35, \"width\": 21, \"Feature\": \"delta_lop\", \"Value\": -0.03436528345068845}, {\"Construction\": \"Indirect\", \"days_to_subtract1\": 14, \"days_to_subtract2\": 35, \"width\": 21, \"Feature\": \"delta_lop\", \"Value\": -0.32293829315252787}, {\"Construction\": \"Both\", \"days_to_subtract1\": 14, \"days_to_subtract2\": 35, \"width\": 21, \"Feature\": \"delta_lop\", \"Value\": -0.26220428328754064}, {\"Construction\": \"Direct\", \"days_to_subtract1\": 7, \"days_to_subtract2\": 28, \"width\": 21, \"Feature\": \"delta_lop\", \"Value\": -0.32628964611587735}, {\"Construction\": \"Indirect\", \"days_to_subtract1\": 7, \"days_to_subtract2\": 28, \"width\": 21, \"Feature\": \"delta_lop\", \"Value\": -0.47661445198116753}, {\"Construction\": \"Both\", \"days_to_subtract1\": 7, \"days_to_subtract2\": 28, \"width\": 21, \"Feature\": \"delta_lop\", \"Value\": -0.44725237942587215}, {\"Construction\": \"Direct\", \"days_to_subtract1\": 7, \"days_to_subtract2\": 35, \"width\": 28, \"Feature\": \"delta_lop\", \"Value\": -0.3475875753240089}, {\"Construction\": \"Indirect\", \"days_to_subtract1\": 7, \"days_to_subtract2\": 35, \"width\": 28, \"Feature\": \"delta_lop\", \"Value\": -0.5124682043754534}, {\"Construction\": \"Both\", \"days_to_subtract1\": 7, \"days_to_subtract2\": 35, \"width\": 28, \"Feature\": \"delta_lop\", \"Value\": -0.40140011708891526}, {\"Construction\": \"Direct\", \"days_to_subtract1\": 28, \"days_to_subtract2\": 35, \"width\": 7, \"Feature\": \"delta_hillside\", \"Value\": 0.3731237092692918}, {\"Construction\": \"Indirect\", \"days_to_subtract1\": 28, \"days_to_subtract2\": 35, \"width\": 7, \"Feature\": \"delta_hillside\", \"Value\": 0.20800485775293404}, {\"Construction\": \"Both\", \"days_to_subtract1\": 28, \"days_to_subtract2\": 35, \"width\": 7, \"Feature\": \"delta_hillside\", \"Value\": 0.2236770158817837}, {\"Construction\": \"Direct\", \"days_to_subtract1\": 21, \"days_to_subtract2\": 28, \"width\": 7, \"Feature\": \"delta_hillside\", \"Value\": -0.1926178098793581}, {\"Construction\": \"Indirect\", \"days_to_subtract1\": 21, \"days_to_subtract2\": 28, \"width\": 7, \"Feature\": \"delta_hillside\", \"Value\": -0.01853920155140617}, {\"Construction\": \"Both\", \"days_to_subtract1\": 21, \"days_to_subtract2\": 28, \"width\": 7, \"Feature\": \"delta_hillside\", \"Value\": -0.12765340710198986}, {\"Construction\": \"Direct\", \"days_to_subtract1\": 14, \"days_to_subtract2\": 21, \"width\": 7, \"Feature\": \"delta_hillside\", \"Value\": 0.09049483119753197}, {\"Construction\": \"Indirect\", \"days_to_subtract1\": 14, \"days_to_subtract2\": 21, \"width\": 7, \"Feature\": \"delta_hillside\", \"Value\": -0.11394094177959421}, {\"Construction\": \"Both\", \"days_to_subtract1\": 14, \"days_to_subtract2\": 21, \"width\": 7, \"Feature\": \"delta_hillside\", \"Value\": -0.06909164235622142}, {\"Construction\": \"Direct\", \"days_to_subtract1\": 7, \"days_to_subtract2\": 14, \"width\": 7, \"Feature\": \"delta_hillside\", \"Value\": -0.42883348775147984}, {\"Construction\": \"Indirect\", \"days_to_subtract1\": 7, \"days_to_subtract2\": 14, \"width\": 7, \"Feature\": \"delta_hillside\", \"Value\": -0.012702983916420479}, {\"Construction\": \"Both\", \"days_to_subtract1\": 7, \"days_to_subtract2\": 14, \"width\": 7, \"Feature\": \"delta_hillside\", \"Value\": -0.0778011912997333}, {\"Construction\": \"Direct\", \"days_to_subtract1\": 21, \"days_to_subtract2\": 35, \"width\": 14, \"Feature\": \"delta_hillside\", \"Value\": -0.14641275192372857}, {\"Construction\": \"Indirect\", \"days_to_subtract1\": 21, \"days_to_subtract2\": 35, \"width\": 14, \"Feature\": \"delta_hillside\", \"Value\": 0.2487466239663661}, {\"Construction\": \"Both\", \"days_to_subtract1\": 21, \"days_to_subtract2\": 35, \"width\": 14, \"Feature\": \"delta_hillside\", \"Value\": 0.1540486909182433}, {\"Construction\": \"Direct\", \"days_to_subtract1\": 14, \"days_to_subtract2\": 28, \"width\": 14, \"Feature\": \"delta_hillside\", \"Value\": -0.17761290650147857}, {\"Construction\": \"Indirect\", \"days_to_subtract1\": 14, \"days_to_subtract2\": 28, \"width\": 14, \"Feature\": \"delta_hillside\", \"Value\": -0.17665825750517933}, {\"Construction\": \"Both\", \"days_to_subtract1\": 14, \"days_to_subtract2\": 28, \"width\": 14, \"Feature\": \"delta_hillside\", \"Value\": -0.2490783247233021}, {\"Construction\": \"Direct\", \"days_to_subtract1\": 7, \"days_to_subtract2\": 21, \"width\": 14, \"Feature\": \"delta_hillside\", \"Value\": -0.49936345793905235}, {\"Construction\": \"Indirect\", \"days_to_subtract1\": 7, \"days_to_subtract2\": 21, \"width\": 14, \"Feature\": \"delta_hillside\", \"Value\": -0.3084720479560664}, {\"Construction\": \"Both\", \"days_to_subtract1\": 7, \"days_to_subtract2\": 21, \"width\": 14, \"Feature\": \"delta_hillside\", \"Value\": -0.3805257368557901}, {\"Construction\": \"Direct\", \"days_to_subtract1\": 14, \"days_to_subtract2\": 35, \"width\": 21, \"Feature\": \"delta_hillside\", \"Value\": -0.1707313805695514}, {\"Construction\": \"Indirect\", \"days_to_subtract1\": 14, \"days_to_subtract2\": 35, \"width\": 21, \"Feature\": \"delta_hillside\", \"Value\": -0.2787310474142714}, {\"Construction\": \"Both\", \"days_to_subtract1\": 14, \"days_to_subtract2\": 35, \"width\": 21, \"Feature\": \"delta_hillside\", \"Value\": -0.3202103683457883}, {\"Construction\": \"Direct\", \"days_to_subtract1\": 7, \"days_to_subtract2\": 28, \"width\": 21, \"Feature\": \"delta_hillside\", \"Value\": -0.5068491520666184}, {\"Construction\": \"Indirect\", \"days_to_subtract1\": 7, \"days_to_subtract2\": 28, \"width\": 21, \"Feature\": \"delta_hillside\", \"Value\": -0.42507919848338255}, {\"Construction\": \"Both\", \"days_to_subtract1\": 7, \"days_to_subtract2\": 28, \"width\": 21, \"Feature\": \"delta_hillside\", \"Value\": -0.44859014046468526}, {\"Construction\": \"Direct\", \"days_to_subtract1\": 7, \"days_to_subtract2\": 35, \"width\": 28, \"Feature\": \"delta_hillside\", \"Value\": -0.5963728290959377}, {\"Construction\": \"Indirect\", \"days_to_subtract1\": 7, \"days_to_subtract2\": 35, \"width\": 28, \"Feature\": \"delta_hillside\", \"Value\": -0.41157706505946523}, {\"Construction\": \"Both\", \"days_to_subtract1\": 7, \"days_to_subtract2\": 35, \"width\": 28, \"Feature\": \"delta_hillside\", \"Value\": -0.4274972856268848}, {\"Construction\": \"Direct\", \"days_to_subtract1\": 28, \"days_to_subtract2\": 35, \"width\": 7, \"Feature\": \"nfrac_xstar_lop\", \"Value\": -0.018474722539235676}, {\"Construction\": \"Indirect\", \"days_to_subtract1\": 28, \"days_to_subtract2\": 35, \"width\": 7, \"Feature\": \"nfrac_xstar_lop\", \"Value\": 0.17227253700888528}, {\"Construction\": \"Both\", \"days_to_subtract1\": 28, \"days_to_subtract2\": 35, \"width\": 7, \"Feature\": \"nfrac_xstar_lop\", \"Value\": 0.2148006547814218}, {\"Construction\": \"Direct\", \"days_to_subtract1\": 21, \"days_to_subtract2\": 28, \"width\": 7, \"Feature\": \"nfrac_xstar_lop\", \"Value\": 0.3314970102408127}, {\"Construction\": \"Indirect\", \"days_to_subtract1\": 21, \"days_to_subtract2\": 28, \"width\": 7, \"Feature\": \"nfrac_xstar_lop\", \"Value\": -0.5732089098735464}, {\"Construction\": \"Both\", \"days_to_subtract1\": 21, \"days_to_subtract2\": 28, \"width\": 7, \"Feature\": \"nfrac_xstar_lop\", \"Value\": -0.2535982315975699}, {\"Construction\": \"Direct\", \"days_to_subtract1\": 14, \"days_to_subtract2\": 21, \"width\": 7, \"Feature\": \"nfrac_xstar_lop\", \"Value\": -0.16779284168486344}, {\"Construction\": \"Indirect\", \"days_to_subtract1\": 14, \"days_to_subtract2\": 21, \"width\": 7, \"Feature\": \"nfrac_xstar_lop\", \"Value\": 0.006140070908157364}, {\"Construction\": \"Both\", \"days_to_subtract1\": 14, \"days_to_subtract2\": 21, \"width\": 7, \"Feature\": \"nfrac_xstar_lop\", \"Value\": 0.005515357801557036}, {\"Construction\": \"Direct\", \"days_to_subtract1\": 7, \"days_to_subtract2\": 14, \"width\": 7, \"Feature\": \"nfrac_xstar_lop\", \"Value\": -0.15853342177150775}, {\"Construction\": \"Indirect\", \"days_to_subtract1\": 7, \"days_to_subtract2\": 14, \"width\": 7, \"Feature\": \"nfrac_xstar_lop\", \"Value\": 0.11902741096803111}, {\"Construction\": \"Both\", \"days_to_subtract1\": 7, \"days_to_subtract2\": 14, \"width\": 7, \"Feature\": \"nfrac_xstar_lop\", \"Value\": 0.07572670076293606}, {\"Construction\": \"Direct\", \"days_to_subtract1\": 21, \"days_to_subtract2\": 35, \"width\": 14, \"Feature\": \"nfrac_xstar_lop\", \"Value\": 0.051701816346602765}, {\"Construction\": \"Indirect\", \"days_to_subtract1\": 21, \"days_to_subtract2\": 35, \"width\": 14, \"Feature\": \"nfrac_xstar_lop\", \"Value\": -0.344855123902329}, {\"Construction\": \"Both\", \"days_to_subtract1\": 21, \"days_to_subtract2\": 35, \"width\": 14, \"Feature\": \"nfrac_xstar_lop\", \"Value\": 0.06371325583215456}, {\"Construction\": \"Direct\", \"days_to_subtract1\": 14, \"days_to_subtract2\": 28, \"width\": 14, \"Feature\": \"nfrac_xstar_lop\", \"Value\": 0.1996791171862494}, {\"Construction\": \"Indirect\", \"days_to_subtract1\": 14, \"days_to_subtract2\": 28, \"width\": 14, \"Feature\": \"nfrac_xstar_lop\", \"Value\": 0.03836176306118334}, {\"Construction\": \"Both\", \"days_to_subtract1\": 14, \"days_to_subtract2\": 28, \"width\": 14, \"Feature\": \"nfrac_xstar_lop\", \"Value\": 0.4289935608689964}, {\"Construction\": \"Direct\", \"days_to_subtract1\": 7, \"days_to_subtract2\": 21, \"width\": 14, \"Feature\": \"nfrac_xstar_lop\", \"Value\": 0.11404904132608387}, {\"Construction\": \"Indirect\", \"days_to_subtract1\": 7, \"days_to_subtract2\": 21, \"width\": 14, \"Feature\": \"nfrac_xstar_lop\", \"Value\": 0.09843560765935472}, {\"Construction\": \"Both\", \"days_to_subtract1\": 7, \"days_to_subtract2\": 21, \"width\": 14, \"Feature\": \"nfrac_xstar_lop\", \"Value\": 0.02917895379587441}, {\"Construction\": \"Direct\", \"days_to_subtract1\": 14, \"days_to_subtract2\": 35, \"width\": 21, \"Feature\": \"nfrac_xstar_lop\", \"Value\": 0.2364399140298994}, {\"Construction\": \"Indirect\", \"days_to_subtract1\": 14, \"days_to_subtract2\": 35, \"width\": 21, \"Feature\": \"nfrac_xstar_lop\", \"Value\": 0.30279385714952567}, {\"Construction\": \"Both\", \"days_to_subtract1\": 14, \"days_to_subtract2\": 35, \"width\": 21, \"Feature\": \"nfrac_xstar_lop\", \"Value\": 0.46039282510936996}, {\"Construction\": \"Direct\", \"days_to_subtract1\": 7, \"days_to_subtract2\": 28, \"width\": 21, \"Feature\": \"nfrac_xstar_lop\", \"Value\": 0.33848357916949584}, {\"Construction\": \"Indirect\", \"days_to_subtract1\": 7, \"days_to_subtract2\": 28, \"width\": 21, \"Feature\": \"nfrac_xstar_lop\", \"Value\": 0.1935987910763368}, {\"Construction\": \"Both\", \"days_to_subtract1\": 7, \"days_to_subtract2\": 28, \"width\": 21, \"Feature\": \"nfrac_xstar_lop\", \"Value\": -0.006415024860258532}, {\"Construction\": \"Direct\", \"days_to_subtract1\": 7, \"days_to_subtract2\": 35, \"width\": 28, \"Feature\": \"nfrac_xstar_lop\", \"Value\": 0.17061282075699166}, {\"Construction\": \"Indirect\", \"days_to_subtract1\": 7, \"days_to_subtract2\": 35, \"width\": 28, \"Feature\": \"nfrac_xstar_lop\", \"Value\": -0.0623455805066056}, {\"Construction\": \"Both\", \"days_to_subtract1\": 7, \"days_to_subtract2\": 35, \"width\": 28, \"Feature\": \"nfrac_xstar_lop\", \"Value\": -0.20064293862096022}, {\"Construction\": \"Direct\", \"days_to_subtract1\": 28, \"days_to_subtract2\": 35, \"width\": 7, \"Feature\": \"nfrac_xstar_hillside\", \"Value\": 0.34886646316274883}, {\"Construction\": \"Indirect\", \"days_to_subtract1\": 28, \"days_to_subtract2\": 35, \"width\": 7, \"Feature\": \"nfrac_xstar_hillside\", \"Value\": 0.32494680351171107}, {\"Construction\": \"Both\", \"days_to_subtract1\": 28, \"days_to_subtract2\": 35, \"width\": 7, \"Feature\": \"nfrac_xstar_hillside\", \"Value\": -0.034978145486473565}, {\"Construction\": \"Direct\", \"days_to_subtract1\": 21, \"days_to_subtract2\": 28, \"width\": 7, \"Feature\": \"nfrac_xstar_hillside\", \"Value\": 0.1548101031348028}, {\"Construction\": \"Indirect\", \"days_to_subtract1\": 21, \"days_to_subtract2\": 28, \"width\": 7, \"Feature\": \"nfrac_xstar_hillside\", \"Value\": -0.14304301423185614}, {\"Construction\": \"Both\", \"days_to_subtract1\": 21, \"days_to_subtract2\": 28, \"width\": 7, \"Feature\": \"nfrac_xstar_hillside\", \"Value\": 0.0885229406033009}, {\"Construction\": \"Direct\", \"days_to_subtract1\": 14, \"days_to_subtract2\": 21, \"width\": 7, \"Feature\": \"nfrac_xstar_hillside\", \"Value\": -0.2906216582279419}, {\"Construction\": \"Indirect\", \"days_to_subtract1\": 14, \"days_to_subtract2\": 21, \"width\": 7, \"Feature\": \"nfrac_xstar_hillside\", \"Value\": -0.13486312697228026}, {\"Construction\": \"Both\", \"days_to_subtract1\": 14, \"days_to_subtract2\": 21, \"width\": 7, \"Feature\": \"nfrac_xstar_hillside\", \"Value\": 0.03450638665060608}, {\"Construction\": \"Direct\", \"days_to_subtract1\": 7, \"days_to_subtract2\": 14, \"width\": 7, \"Feature\": \"nfrac_xstar_hillside\", \"Value\": -0.03846264264861647}, {\"Construction\": \"Indirect\", \"days_to_subtract1\": 7, \"days_to_subtract2\": 14, \"width\": 7, \"Feature\": \"nfrac_xstar_hillside\", \"Value\": 0.016805719208093036}, {\"Construction\": \"Both\", \"days_to_subtract1\": 7, \"days_to_subtract2\": 14, \"width\": 7, \"Feature\": \"nfrac_xstar_hillside\", \"Value\": 0.4207287945152082}, {\"Construction\": \"Direct\", \"days_to_subtract1\": 21, \"days_to_subtract2\": 35, \"width\": 14, \"Feature\": \"nfrac_xstar_hillside\", \"Value\": -0.013606095307838599}, {\"Construction\": \"Indirect\", \"days_to_subtract1\": 21, \"days_to_subtract2\": 35, \"width\": 14, \"Feature\": \"nfrac_xstar_hillside\", \"Value\": 0.1932433352599571}, {\"Construction\": \"Both\", \"days_to_subtract1\": 21, \"days_to_subtract2\": 35, \"width\": 14, \"Feature\": \"nfrac_xstar_hillside\", \"Value\": -0.03816497183701416}, {\"Construction\": \"Direct\", \"days_to_subtract1\": 14, \"days_to_subtract2\": 28, \"width\": 14, \"Feature\": \"nfrac_xstar_hillside\", \"Value\": 0.25670228479260215}, {\"Construction\": \"Indirect\", \"days_to_subtract1\": 14, \"days_to_subtract2\": 28, \"width\": 14, \"Feature\": \"nfrac_xstar_hillside\", \"Value\": -0.40853421195246575}, {\"Construction\": \"Both\", \"days_to_subtract1\": 14, \"days_to_subtract2\": 28, \"width\": 14, \"Feature\": \"nfrac_xstar_hillside\", \"Value\": 0.03418300237294919}, {\"Construction\": \"Direct\", \"days_to_subtract1\": 7, \"days_to_subtract2\": 21, \"width\": 14, \"Feature\": \"nfrac_xstar_hillside\", \"Value\": 0.05788447751255736}, {\"Construction\": \"Indirect\", \"days_to_subtract1\": 7, \"days_to_subtract2\": 21, \"width\": 14, \"Feature\": \"nfrac_xstar_hillside\", \"Value\": -0.07743216738845989}, {\"Construction\": \"Both\", \"days_to_subtract1\": 7, \"days_to_subtract2\": 21, \"width\": 14, \"Feature\": \"nfrac_xstar_hillside\", \"Value\": 0.2567738171289064}, {\"Construction\": \"Direct\", \"days_to_subtract1\": 14, \"days_to_subtract2\": 35, \"width\": 21, \"Feature\": \"nfrac_xstar_hillside\", \"Value\": 0.149638187388048}, {\"Construction\": \"Indirect\", \"days_to_subtract1\": 14, \"days_to_subtract2\": 35, \"width\": 21, \"Feature\": \"nfrac_xstar_hillside\", \"Value\": -0.6980303927399798}, {\"Construction\": \"Both\", \"days_to_subtract1\": 14, \"days_to_subtract2\": 35, \"width\": 21, \"Feature\": \"nfrac_xstar_hillside\", \"Value\": -0.1110607512855398}, {\"Construction\": \"Direct\", \"days_to_subtract1\": 7, \"days_to_subtract2\": 28, \"width\": 21, \"Feature\": \"nfrac_xstar_hillside\", \"Value\": 0.38937905435514863}, {\"Construction\": \"Indirect\", \"days_to_subtract1\": 7, \"days_to_subtract2\": 28, \"width\": 21, \"Feature\": \"nfrac_xstar_hillside\", \"Value\": -0.05149817783774096}, {\"Construction\": \"Both\", \"days_to_subtract1\": 7, \"days_to_subtract2\": 28, \"width\": 21, \"Feature\": \"nfrac_xstar_hillside\", \"Value\": -0.007818710849332715}, {\"Construction\": \"Direct\", \"days_to_subtract1\": 7, \"days_to_subtract2\": 35, \"width\": 28, \"Feature\": \"nfrac_xstar_hillside\", \"Value\": -0.14867742951754315}, {\"Construction\": \"Indirect\", \"days_to_subtract1\": 7, \"days_to_subtract2\": 35, \"width\": 28, \"Feature\": \"nfrac_xstar_hillside\", \"Value\": -0.1305322155007622}, {\"Construction\": \"Both\", \"days_to_subtract1\": 7, \"days_to_subtract2\": 35, \"width\": 28, \"Feature\": \"nfrac_xstar_hillside\", \"Value\": -0.18500557500765558}, {\"Construction\": \"Direct\", \"days_to_subtract1\": 28, \"days_to_subtract2\": 35, \"width\": 7, \"Feature\": \"diameter_lop\", \"Value\": -0.22636126592896852}, {\"Construction\": \"Indirect\", \"days_to_subtract1\": 28, \"days_to_subtract2\": 35, \"width\": 7, \"Feature\": \"diameter_lop\", \"Value\": 0.1471206042439311}, {\"Construction\": \"Both\", \"days_to_subtract1\": 28, \"days_to_subtract2\": 35, \"width\": 7, \"Feature\": \"diameter_lop\", \"Value\": 0.16184118355681837}, {\"Construction\": \"Direct\", \"days_to_subtract1\": 21, \"days_to_subtract2\": 28, \"width\": 7, \"Feature\": \"diameter_lop\", \"Value\": 0.3831625849220623}, {\"Construction\": \"Indirect\", \"days_to_subtract1\": 21, \"days_to_subtract2\": 28, \"width\": 7, \"Feature\": \"diameter_lop\", \"Value\": -0.5386467350463785}, {\"Construction\": \"Both\", \"days_to_subtract1\": 21, \"days_to_subtract2\": 28, \"width\": 7, \"Feature\": \"diameter_lop\", \"Value\": -0.2496514424084692}, {\"Construction\": \"Direct\", \"days_to_subtract1\": 14, \"days_to_subtract2\": 21, \"width\": 7, \"Feature\": \"diameter_lop\", \"Value\": 0.10190153739175767}, {\"Construction\": \"Indirect\", \"days_to_subtract1\": 14, \"days_to_subtract2\": 21, \"width\": 7, \"Feature\": \"diameter_lop\", \"Value\": 0.03425936106384549}, {\"Construction\": \"Both\", \"days_to_subtract1\": 14, \"days_to_subtract2\": 21, \"width\": 7, \"Feature\": \"diameter_lop\", \"Value\": 0.024607674990931132}, {\"Construction\": \"Direct\", \"days_to_subtract1\": 7, \"days_to_subtract2\": 14, \"width\": 7, \"Feature\": \"diameter_lop\", \"Value\": -0.10170858313446053}, {\"Construction\": \"Indirect\", \"days_to_subtract1\": 7, \"days_to_subtract2\": 14, \"width\": 7, \"Feature\": \"diameter_lop\", \"Value\": 0.13144214842732332}, {\"Construction\": \"Both\", \"days_to_subtract1\": 7, \"days_to_subtract2\": 14, \"width\": 7, \"Feature\": \"diameter_lop\", \"Value\": 0.061316501500071695}, {\"Construction\": \"Direct\", \"days_to_subtract1\": 21, \"days_to_subtract2\": 35, \"width\": 14, \"Feature\": \"diameter_lop\", \"Value\": 0.09330997565745157}, {\"Construction\": \"Indirect\", \"days_to_subtract1\": 21, \"days_to_subtract2\": 35, \"width\": 14, \"Feature\": \"diameter_lop\", \"Value\": -0.333993873731044}, {\"Construction\": \"Both\", \"days_to_subtract1\": 21, \"days_to_subtract2\": 35, \"width\": 14, \"Feature\": \"diameter_lop\", \"Value\": 0.06448907618772762}, {\"Construction\": \"Direct\", \"days_to_subtract1\": 14, \"days_to_subtract2\": 28, \"width\": 14, \"Feature\": \"diameter_lop\", \"Value\": 0.25002814632412823}, {\"Construction\": \"Indirect\", \"days_to_subtract1\": 14, \"days_to_subtract2\": 28, \"width\": 14, \"Feature\": \"diameter_lop\", \"Value\": -0.0031904135548085385}, {\"Construction\": \"Both\", \"days_to_subtract1\": 14, \"days_to_subtract2\": 28, \"width\": 14, \"Feature\": \"diameter_lop\", \"Value\": 0.42350744972418947}, {\"Construction\": \"Direct\", \"days_to_subtract1\": 7, \"days_to_subtract2\": 21, \"width\": 14, \"Feature\": \"diameter_lop\", \"Value\": 0.1846357102345057}, {\"Construction\": \"Indirect\", \"days_to_subtract1\": 7, \"days_to_subtract2\": 21, \"width\": 14, \"Feature\": \"diameter_lop\", \"Value\": 0.10109882505123702}, {\"Construction\": \"Both\", \"days_to_subtract1\": 7, \"days_to_subtract2\": 21, \"width\": 14, \"Feature\": \"diameter_lop\", \"Value\": 0.034628293354484016}, {\"Construction\": \"Direct\", \"days_to_subtract1\": 14, \"days_to_subtract2\": 35, \"width\": 21, \"Feature\": \"diameter_lop\", \"Value\": 0.6400196963714101}, {\"Construction\": \"Indirect\", \"days_to_subtract1\": 14, \"days_to_subtract2\": 35, \"width\": 21, \"Feature\": \"diameter_lop\", \"Value\": 0.2561545281811538}, {\"Construction\": \"Both\", \"days_to_subtract1\": 14, \"days_to_subtract2\": 35, \"width\": 21, \"Feature\": \"diameter_lop\", \"Value\": 0.44887855306093016}, {\"Construction\": \"Direct\", \"days_to_subtract1\": 7, \"days_to_subtract2\": 28, \"width\": 21, \"Feature\": \"diameter_lop\", \"Value\": 0.40950076859231455}, {\"Construction\": \"Indirect\", \"days_to_subtract1\": 7, \"days_to_subtract2\": 28, \"width\": 21, \"Feature\": \"diameter_lop\", \"Value\": 0.18525270716490258}, {\"Construction\": \"Both\", \"days_to_subtract1\": 7, \"days_to_subtract2\": 28, \"width\": 21, \"Feature\": \"diameter_lop\", \"Value\": 0.024511543649498518}, {\"Construction\": \"Direct\", \"days_to_subtract1\": 7, \"days_to_subtract2\": 35, \"width\": 28, \"Feature\": \"diameter_lop\", \"Value\": 0.25418381325236705}, {\"Construction\": \"Indirect\", \"days_to_subtract1\": 7, \"days_to_subtract2\": 35, \"width\": 28, \"Feature\": \"diameter_lop\", \"Value\": -0.0646456548681831}, {\"Construction\": \"Both\", \"days_to_subtract1\": 7, \"days_to_subtract2\": 35, \"width\": 28, \"Feature\": \"diameter_lop\", \"Value\": -0.1857911122170456}, {\"Construction\": \"Direct\", \"days_to_subtract1\": 28, \"days_to_subtract2\": 35, \"width\": 7, \"Feature\": \"diameter_hillside\", \"Value\": -0.23773686467041644}, {\"Construction\": \"Indirect\", \"days_to_subtract1\": 28, \"days_to_subtract2\": 35, \"width\": 7, \"Feature\": \"diameter_hillside\", \"Value\": 0.24471788505777062}, {\"Construction\": \"Both\", \"days_to_subtract1\": 28, \"days_to_subtract2\": 35, \"width\": 7, \"Feature\": \"diameter_hillside\", \"Value\": -0.078060600798378}, {\"Construction\": \"Direct\", \"days_to_subtract1\": 21, \"days_to_subtract2\": 28, \"width\": 7, \"Feature\": \"diameter_hillside\", \"Value\": 0.3298662444570674}, {\"Construction\": \"Indirect\", \"days_to_subtract1\": 21, \"days_to_subtract2\": 28, \"width\": 7, \"Feature\": \"diameter_hillside\", \"Value\": -0.1437863199224009}, {\"Construction\": \"Both\", \"days_to_subtract1\": 21, \"days_to_subtract2\": 28, \"width\": 7, \"Feature\": \"diameter_hillside\", \"Value\": 0.0885229406033009}, {\"Construction\": \"Direct\", \"days_to_subtract1\": 14, \"days_to_subtract2\": 21, \"width\": 7, \"Feature\": \"diameter_hillside\", \"Value\": 0.005865609855848924}, {\"Construction\": \"Indirect\", \"days_to_subtract1\": 14, \"days_to_subtract2\": 21, \"width\": 7, \"Feature\": \"diameter_hillside\", \"Value\": -0.07616471168467594}, {\"Construction\": \"Both\", \"days_to_subtract1\": 14, \"days_to_subtract2\": 21, \"width\": 7, \"Feature\": \"diameter_hillside\", \"Value\": 0.06991328130118096}, {\"Construction\": \"Direct\", \"days_to_subtract1\": 7, \"days_to_subtract2\": 14, \"width\": 7, \"Feature\": \"diameter_hillside\", \"Value\": 0.08664117120390159}, {\"Construction\": \"Indirect\", \"days_to_subtract1\": 7, \"days_to_subtract2\": 14, \"width\": 7, \"Feature\": \"diameter_hillside\", \"Value\": -0.00448470016298348}, {\"Construction\": \"Both\", \"days_to_subtract1\": 7, \"days_to_subtract2\": 14, \"width\": 7, \"Feature\": \"diameter_hillside\", \"Value\": 0.3952906696617902}, {\"Construction\": \"Direct\", \"days_to_subtract1\": 21, \"days_to_subtract2\": 35, \"width\": 14, \"Feature\": \"diameter_hillside\", \"Value\": 0.10835468104285391}, {\"Construction\": \"Indirect\", \"days_to_subtract1\": 21, \"days_to_subtract2\": 35, \"width\": 14, \"Feature\": \"diameter_hillside\", \"Value\": 0.1917829766082097}, {\"Construction\": \"Both\", \"days_to_subtract1\": 21, \"days_to_subtract2\": 35, \"width\": 14, \"Feature\": \"diameter_hillside\", \"Value\": -0.03816497183701416}, {\"Construction\": \"Direct\", \"days_to_subtract1\": 14, \"days_to_subtract2\": 28, \"width\": 14, \"Feature\": \"diameter_hillside\", \"Value\": 0.3099217562687815}, {\"Construction\": \"Indirect\", \"days_to_subtract1\": 14, \"days_to_subtract2\": 28, \"width\": 14, \"Feature\": \"diameter_hillside\", \"Value\": -0.42453253514258776}, {\"Construction\": \"Both\", \"days_to_subtract1\": 14, \"days_to_subtract2\": 28, \"width\": 14, \"Feature\": \"diameter_hillside\", \"Value\": 0.08278494471082311}, {\"Construction\": \"Direct\", \"days_to_subtract1\": 7, \"days_to_subtract2\": 21, \"width\": 14, \"Feature\": \"diameter_hillside\", \"Value\": 0.21339755785072345}, {\"Construction\": \"Indirect\", \"days_to_subtract1\": 7, \"days_to_subtract2\": 21, \"width\": 14, \"Feature\": \"diameter_hillside\", \"Value\": -0.10845001422736915}, {\"Construction\": \"Both\", \"days_to_subtract1\": 7, \"days_to_subtract2\": 21, \"width\": 14, \"Feature\": \"diameter_hillside\", \"Value\": 0.24265304897823442}, {\"Construction\": \"Direct\", \"days_to_subtract1\": 14, \"days_to_subtract2\": 35, \"width\": 21, \"Feature\": \"diameter_hillside\", \"Value\": 0.6559360380339562}, {\"Construction\": \"Indirect\", \"days_to_subtract1\": 14, \"days_to_subtract2\": 35, \"width\": 21, \"Feature\": \"diameter_hillside\", \"Value\": -0.7303006667999002}, {\"Construction\": \"Both\", \"days_to_subtract1\": 14, \"days_to_subtract2\": 35, \"width\": 21, \"Feature\": \"diameter_hillside\", \"Value\": -0.06634734791835815}, {\"Construction\": \"Direct\", \"days_to_subtract1\": 7, \"days_to_subtract2\": 28, \"width\": 21, \"Feature\": \"diameter_hillside\", \"Value\": 0.4194640329711255}, {\"Construction\": \"Indirect\", \"days_to_subtract1\": 7, \"days_to_subtract2\": 28, \"width\": 21, \"Feature\": \"diameter_hillside\", \"Value\": -0.06139958280174617}, {\"Construction\": \"Both\", \"days_to_subtract1\": 7, \"days_to_subtract2\": 28, \"width\": 21, \"Feature\": \"diameter_hillside\", \"Value\": 0.007127077090032631}, {\"Construction\": \"Direct\", \"days_to_subtract1\": 7, \"days_to_subtract2\": 35, \"width\": 28, \"Feature\": \"diameter_hillside\", \"Value\": 0.30977214933559954}, {\"Construction\": \"Indirect\", \"days_to_subtract1\": 7, \"days_to_subtract2\": 35, \"width\": 28, \"Feature\": \"diameter_hillside\", \"Value\": -0.16396509219843663}, {\"Construction\": \"Both\", \"days_to_subtract1\": 7, \"days_to_subtract2\": 35, \"width\": 28, \"Feature\": \"diameter_hillside\", \"Value\": -0.17248429377533392}]}}, {\"mode\": \"vega-lite\"});\n",
       "</script>"
      ],
      "text/plain": [
       "alt.Chart(...)"
      ]
     },
     "metadata": {},
     "output_type": "display_data"
    }
   ],
   "source": [
    "for key in graph_dfs.keys():\n",
    "    display(Markdown(f'## {key}'))\n",
    "    graph_df = graph_dfs[key].melt(value_vars=feature_columns,id_vars=index_cols,value_name='Value',var_name='Feature')\n",
    "\n",
    "    display(Markdown('### Colley'))\n",
    "    g = alt.Chart(graph_df.set_index('Method').loc['Colley']).mark_bar().encode(\n",
    "        x='width:N',\n",
    "        y=alt.Y('average(Value)',scale=alt.Scale(domain=[-.6, .6])),\n",
    "        row='Feature:N',\n",
    "        color='Construction:N',\n",
    "        column='Construction:N'\n",
    "    )\n",
    "    display(g)\n",
    "    \n",
    "    display(Markdown('### Massey'))\n",
    "    g = alt.Chart(graph_df.set_index('Method').loc['Massey']).mark_bar().encode(\n",
    "        x='width:N',\n",
    "        y=alt.Y('average(Value)',scale=alt.Scale(domain=[-.6, .6])),\n",
    "        row='Feature:N',\n",
    "        color='Construction:N',\n",
    "        column='Construction:N'\n",
    "    )\n",
    "    display(g)"
   ]
  },
  {
   "cell_type": "markdown",
   "metadata": {},
   "source": [
    "### Old below this line"
   ]
  },
  {
   "cell_type": "markdown",
   "metadata": {},
   "source": [
    "### Colley"
   ]
  },
  {
   "cell_type": "code",
   "execution_count": null,
   "metadata": {},
   "outputs": [],
   "source": []
  },
  {
   "cell_type": "code",
   "execution_count": 51,
   "metadata": {},
   "outputs": [],
   "source": [
    "g = alt.Chart(graph_df.set_index('Method').loc['Massey']).mark_bar().encode(\n",
    "    x='width:N',\n",
    "    y=alt.Y('average(Value)',scale=alt.Scale(domain=[-.6, .6])),\n",
    "    row='Feature:N',\n",
    "    color='Construction:N',\n",
    "    column='Construction:N'\n",
    ")"
   ]
  },
  {
   "cell_type": "markdown",
   "metadata": {},
   "source": [
    "### Massey"
   ]
  },
  {
   "cell_type": "code",
   "execution_count": 52,
   "metadata": {},
   "outputs": [
    {
     "data": {
      "text/html": [
       "\n",
       "<div id=\"altair-viz-db598a6df55442fb80ff692f1586c1ce\"></div>\n",
       "<script type=\"text/javascript\">\n",
       "  (function(spec, embedOpt){\n",
       "    let outputDiv = document.currentScript.previousElementSibling;\n",
       "    if (outputDiv.id !== \"altair-viz-db598a6df55442fb80ff692f1586c1ce\") {\n",
       "      outputDiv = document.getElementById(\"altair-viz-db598a6df55442fb80ff692f1586c1ce\");\n",
       "    }\n",
       "    const paths = {\n",
       "      \"vega\": \"https://cdn.jsdelivr.net/npm//vega@5?noext\",\n",
       "      \"vega-lib\": \"https://cdn.jsdelivr.net/npm//vega-lib?noext\",\n",
       "      \"vega-lite\": \"https://cdn.jsdelivr.net/npm//vega-lite@4.8.1?noext\",\n",
       "      \"vega-embed\": \"https://cdn.jsdelivr.net/npm//vega-embed@6?noext\",\n",
       "    };\n",
       "\n",
       "    function loadScript(lib) {\n",
       "      return new Promise(function(resolve, reject) {\n",
       "        var s = document.createElement('script');\n",
       "        s.src = paths[lib];\n",
       "        s.async = true;\n",
       "        s.onload = () => resolve(paths[lib]);\n",
       "        s.onerror = () => reject(`Error loading script: ${paths[lib]}`);\n",
       "        document.getElementsByTagName(\"head\")[0].appendChild(s);\n",
       "      });\n",
       "    }\n",
       "\n",
       "    function showError(err) {\n",
       "      outputDiv.innerHTML = `<div class=\"error\" style=\"color:red;\">${err}</div>`;\n",
       "      throw err;\n",
       "    }\n",
       "\n",
       "    function displayChart(vegaEmbed) {\n",
       "      vegaEmbed(outputDiv, spec, embedOpt)\n",
       "        .catch(err => showError(`Javascript Error: ${err.message}<br>This usually means there's a typo in your chart specification. See the javascript console for the full traceback.`));\n",
       "    }\n",
       "\n",
       "    if(typeof define === \"function\" && define.amd) {\n",
       "      requirejs.config({paths});\n",
       "      require([\"vega-embed\"], displayChart, err => showError(`Error loading script: ${err.message}`));\n",
       "    } else if (typeof vegaEmbed === \"function\") {\n",
       "      displayChart(vegaEmbed);\n",
       "    } else {\n",
       "      loadScript(\"vega\")\n",
       "        .then(() => loadScript(\"vega-lite\"))\n",
       "        .then(() => loadScript(\"vega-embed\"))\n",
       "        .catch(showError)\n",
       "        .then(() => displayChart(vegaEmbed));\n",
       "    }\n",
       "  })({\"config\": {\"view\": {\"continuousWidth\": 400, \"continuousHeight\": 300}}, \"data\": {\"name\": \"data-017b538da08ddd333e5c3602d2ccc113\"}, \"mark\": \"bar\", \"encoding\": {\"color\": {\"type\": \"nominal\", \"field\": \"Construction\"}, \"column\": {\"type\": \"nominal\", \"field\": \"Construction\"}, \"row\": {\"type\": \"nominal\", \"field\": \"Feature\"}, \"x\": {\"type\": \"nominal\", \"field\": \"width\"}, \"y\": {\"type\": \"quantitative\", \"aggregate\": \"average\", \"field\": \"Value\", \"scale\": {\"domain\": [-0.6, 0.6]}}}, \"$schema\": \"https://vega.github.io/schema/vega-lite/v4.8.1.json\", \"datasets\": {\"data-017b538da08ddd333e5c3602d2ccc113\": [{\"Construction\": \"Direct\", \"days_to_subtract1\": 28, \"days_to_subtract2\": 35, \"width\": 7, \"Feature\": \"delta_lop\", \"Value\": 0.17895524562245868}, {\"Construction\": \"Indirect\", \"days_to_subtract1\": 28, \"days_to_subtract2\": 35, \"width\": 7, \"Feature\": \"delta_lop\", \"Value\": 0.19550871967237765}, {\"Construction\": \"Both\", \"days_to_subtract1\": 28, \"days_to_subtract2\": 35, \"width\": 7, \"Feature\": \"delta_lop\", \"Value\": 0.2144899530675672}, {\"Construction\": \"Direct\", \"days_to_subtract1\": 21, \"days_to_subtract2\": 28, \"width\": 7, \"Feature\": \"delta_lop\", \"Value\": -0.08978765024429589}, {\"Construction\": \"Indirect\", \"days_to_subtract1\": 21, \"days_to_subtract2\": 28, \"width\": 7, \"Feature\": \"delta_lop\", \"Value\": -0.30016154558376357}, {\"Construction\": \"Both\", \"days_to_subtract1\": 21, \"days_to_subtract2\": 28, \"width\": 7, \"Feature\": \"delta_lop\", \"Value\": -0.22209963285172718}, {\"Construction\": \"Direct\", \"days_to_subtract1\": 14, \"days_to_subtract2\": 21, \"width\": 7, \"Feature\": \"delta_lop\", \"Value\": 0.23119880934753922}, {\"Construction\": \"Indirect\", \"days_to_subtract1\": 14, \"days_to_subtract2\": 21, \"width\": 7, \"Feature\": \"delta_lop\", \"Value\": -0.15077467895304958}, {\"Construction\": \"Both\", \"days_to_subtract1\": 14, \"days_to_subtract2\": 21, \"width\": 7, \"Feature\": \"delta_lop\", \"Value\": 0.023872794390401054}, {\"Construction\": \"Direct\", \"days_to_subtract1\": 7, \"days_to_subtract2\": 14, \"width\": 7, \"Feature\": \"delta_lop\", \"Value\": -0.3426255484932739}, {\"Construction\": \"Indirect\", \"days_to_subtract1\": 7, \"days_to_subtract2\": 14, \"width\": 7, \"Feature\": \"delta_lop\", \"Value\": -0.024404418884700598}, {\"Construction\": \"Both\", \"days_to_subtract1\": 7, \"days_to_subtract2\": 14, \"width\": 7, \"Feature\": \"delta_lop\", \"Value\": -0.1440511283716253}, {\"Construction\": \"Direct\", \"days_to_subtract1\": 21, \"days_to_subtract2\": 35, \"width\": 14, \"Feature\": \"delta_lop\", \"Value\": -0.02805088927306488}, {\"Construction\": \"Indirect\", \"days_to_subtract1\": 21, \"days_to_subtract2\": 35, \"width\": 14, \"Feature\": \"delta_lop\", \"Value\": 0.08998325390448285}, {\"Construction\": \"Both\", \"days_to_subtract1\": 21, \"days_to_subtract2\": 35, \"width\": 14, \"Feature\": \"delta_lop\", \"Value\": 0.10356128764057704}, {\"Construction\": \"Direct\", \"days_to_subtract1\": 14, \"days_to_subtract2\": 28, \"width\": 14, \"Feature\": \"delta_lop\", \"Value\": -0.11036865429038364}, {\"Construction\": \"Indirect\", \"days_to_subtract1\": 14, \"days_to_subtract2\": 28, \"width\": 14, \"Feature\": \"delta_lop\", \"Value\": -0.23046703128506393}, {\"Construction\": \"Both\", \"days_to_subtract1\": 14, \"days_to_subtract2\": 28, \"width\": 14, \"Feature\": \"delta_lop\", \"Value\": -0.28913391253929394}, {\"Construction\": \"Direct\", \"days_to_subtract1\": 7, \"days_to_subtract2\": 21, \"width\": 14, \"Feature\": \"delta_lop\", \"Value\": -0.28323723940723833}, {\"Construction\": \"Indirect\", \"days_to_subtract1\": 7, \"days_to_subtract2\": 21, \"width\": 14, \"Feature\": \"delta_lop\", \"Value\": -0.21465009337345092}, {\"Construction\": \"Both\", \"days_to_subtract1\": 7, \"days_to_subtract2\": 21, \"width\": 14, \"Feature\": \"delta_lop\", \"Value\": -0.23755740316339757}, {\"Construction\": \"Direct\", \"days_to_subtract1\": 14, \"days_to_subtract2\": 35, \"width\": 21, \"Feature\": \"delta_lop\", \"Value\": -0.03436528345068845}, {\"Construction\": \"Indirect\", \"days_to_subtract1\": 14, \"days_to_subtract2\": 35, \"width\": 21, \"Feature\": \"delta_lop\", \"Value\": -0.32293829315252787}, {\"Construction\": \"Both\", \"days_to_subtract1\": 14, \"days_to_subtract2\": 35, \"width\": 21, \"Feature\": \"delta_lop\", \"Value\": -0.26220428328754064}, {\"Construction\": \"Direct\", \"days_to_subtract1\": 7, \"days_to_subtract2\": 28, \"width\": 21, \"Feature\": \"delta_lop\", \"Value\": -0.32628964611587735}, {\"Construction\": \"Indirect\", \"days_to_subtract1\": 7, \"days_to_subtract2\": 28, \"width\": 21, \"Feature\": \"delta_lop\", \"Value\": -0.47661445198116753}, {\"Construction\": \"Both\", \"days_to_subtract1\": 7, \"days_to_subtract2\": 28, \"width\": 21, \"Feature\": \"delta_lop\", \"Value\": -0.44725237942587215}, {\"Construction\": \"Direct\", \"days_to_subtract1\": 7, \"days_to_subtract2\": 35, \"width\": 28, \"Feature\": \"delta_lop\", \"Value\": -0.3475875753240089}, {\"Construction\": \"Indirect\", \"days_to_subtract1\": 7, \"days_to_subtract2\": 35, \"width\": 28, \"Feature\": \"delta_lop\", \"Value\": -0.5124682043754534}, {\"Construction\": \"Both\", \"days_to_subtract1\": 7, \"days_to_subtract2\": 35, \"width\": 28, \"Feature\": \"delta_lop\", \"Value\": -0.40140011708891526}, {\"Construction\": \"Direct\", \"days_to_subtract1\": 28, \"days_to_subtract2\": 35, \"width\": 7, \"Feature\": \"delta_hillside\", \"Value\": 0.3731237092692918}, {\"Construction\": \"Indirect\", \"days_to_subtract1\": 28, \"days_to_subtract2\": 35, \"width\": 7, \"Feature\": \"delta_hillside\", \"Value\": 0.20800485775293404}, {\"Construction\": \"Both\", \"days_to_subtract1\": 28, \"days_to_subtract2\": 35, \"width\": 7, \"Feature\": \"delta_hillside\", \"Value\": 0.2236770158817837}, {\"Construction\": \"Direct\", \"days_to_subtract1\": 21, \"days_to_subtract2\": 28, \"width\": 7, \"Feature\": \"delta_hillside\", \"Value\": -0.1926178098793581}, {\"Construction\": \"Indirect\", \"days_to_subtract1\": 21, \"days_to_subtract2\": 28, \"width\": 7, \"Feature\": \"delta_hillside\", \"Value\": -0.01853920155140617}, {\"Construction\": \"Both\", \"days_to_subtract1\": 21, \"days_to_subtract2\": 28, \"width\": 7, \"Feature\": \"delta_hillside\", \"Value\": -0.12765340710198986}, {\"Construction\": \"Direct\", \"days_to_subtract1\": 14, \"days_to_subtract2\": 21, \"width\": 7, \"Feature\": \"delta_hillside\", \"Value\": 0.09049483119753197}, {\"Construction\": \"Indirect\", \"days_to_subtract1\": 14, \"days_to_subtract2\": 21, \"width\": 7, \"Feature\": \"delta_hillside\", \"Value\": -0.11394094177959421}, {\"Construction\": \"Both\", \"days_to_subtract1\": 14, \"days_to_subtract2\": 21, \"width\": 7, \"Feature\": \"delta_hillside\", \"Value\": -0.06909164235622142}, {\"Construction\": \"Direct\", \"days_to_subtract1\": 7, \"days_to_subtract2\": 14, \"width\": 7, \"Feature\": \"delta_hillside\", \"Value\": -0.42883348775147984}, {\"Construction\": \"Indirect\", \"days_to_subtract1\": 7, \"days_to_subtract2\": 14, \"width\": 7, \"Feature\": \"delta_hillside\", \"Value\": -0.012702983916420479}, {\"Construction\": \"Both\", \"days_to_subtract1\": 7, \"days_to_subtract2\": 14, \"width\": 7, \"Feature\": \"delta_hillside\", \"Value\": -0.0778011912997333}, {\"Construction\": \"Direct\", \"days_to_subtract1\": 21, \"days_to_subtract2\": 35, \"width\": 14, \"Feature\": \"delta_hillside\", \"Value\": -0.14641275192372857}, {\"Construction\": \"Indirect\", \"days_to_subtract1\": 21, \"days_to_subtract2\": 35, \"width\": 14, \"Feature\": \"delta_hillside\", \"Value\": 0.2487466239663661}, {\"Construction\": \"Both\", \"days_to_subtract1\": 21, \"days_to_subtract2\": 35, \"width\": 14, \"Feature\": \"delta_hillside\", \"Value\": 0.1540486909182433}, {\"Construction\": \"Direct\", \"days_to_subtract1\": 14, \"days_to_subtract2\": 28, \"width\": 14, \"Feature\": \"delta_hillside\", \"Value\": -0.17761290650147857}, {\"Construction\": \"Indirect\", \"days_to_subtract1\": 14, \"days_to_subtract2\": 28, \"width\": 14, \"Feature\": \"delta_hillside\", \"Value\": -0.17665825750517933}, {\"Construction\": \"Both\", \"days_to_subtract1\": 14, \"days_to_subtract2\": 28, \"width\": 14, \"Feature\": \"delta_hillside\", \"Value\": -0.2490783247233021}, {\"Construction\": \"Direct\", \"days_to_subtract1\": 7, \"days_to_subtract2\": 21, \"width\": 14, \"Feature\": \"delta_hillside\", \"Value\": -0.49936345793905235}, {\"Construction\": \"Indirect\", \"days_to_subtract1\": 7, \"days_to_subtract2\": 21, \"width\": 14, \"Feature\": \"delta_hillside\", \"Value\": -0.3084720479560664}, {\"Construction\": \"Both\", \"days_to_subtract1\": 7, \"days_to_subtract2\": 21, \"width\": 14, \"Feature\": \"delta_hillside\", \"Value\": -0.3805257368557901}, {\"Construction\": \"Direct\", \"days_to_subtract1\": 14, \"days_to_subtract2\": 35, \"width\": 21, \"Feature\": \"delta_hillside\", \"Value\": -0.1707313805695514}, {\"Construction\": \"Indirect\", \"days_to_subtract1\": 14, \"days_to_subtract2\": 35, \"width\": 21, \"Feature\": \"delta_hillside\", \"Value\": -0.2787310474142714}, {\"Construction\": \"Both\", \"days_to_subtract1\": 14, \"days_to_subtract2\": 35, \"width\": 21, \"Feature\": \"delta_hillside\", \"Value\": -0.3202103683457883}, {\"Construction\": \"Direct\", \"days_to_subtract1\": 7, \"days_to_subtract2\": 28, \"width\": 21, \"Feature\": \"delta_hillside\", \"Value\": -0.5068491520666184}, {\"Construction\": \"Indirect\", \"days_to_subtract1\": 7, \"days_to_subtract2\": 28, \"width\": 21, \"Feature\": \"delta_hillside\", \"Value\": -0.42507919848338255}, {\"Construction\": \"Both\", \"days_to_subtract1\": 7, \"days_to_subtract2\": 28, \"width\": 21, \"Feature\": \"delta_hillside\", \"Value\": -0.44859014046468526}, {\"Construction\": \"Direct\", \"days_to_subtract1\": 7, \"days_to_subtract2\": 35, \"width\": 28, \"Feature\": \"delta_hillside\", \"Value\": -0.5963728290959377}, {\"Construction\": \"Indirect\", \"days_to_subtract1\": 7, \"days_to_subtract2\": 35, \"width\": 28, \"Feature\": \"delta_hillside\", \"Value\": -0.41157706505946523}, {\"Construction\": \"Both\", \"days_to_subtract1\": 7, \"days_to_subtract2\": 35, \"width\": 28, \"Feature\": \"delta_hillside\", \"Value\": -0.4274972856268848}, {\"Construction\": \"Direct\", \"days_to_subtract1\": 28, \"days_to_subtract2\": 35, \"width\": 7, \"Feature\": \"nfrac_xstar_lop\", \"Value\": -0.018474722539235676}, {\"Construction\": \"Indirect\", \"days_to_subtract1\": 28, \"days_to_subtract2\": 35, \"width\": 7, \"Feature\": \"nfrac_xstar_lop\", \"Value\": 0.17227253700888528}, {\"Construction\": \"Both\", \"days_to_subtract1\": 28, \"days_to_subtract2\": 35, \"width\": 7, \"Feature\": \"nfrac_xstar_lop\", \"Value\": 0.2148006547814218}, {\"Construction\": \"Direct\", \"days_to_subtract1\": 21, \"days_to_subtract2\": 28, \"width\": 7, \"Feature\": \"nfrac_xstar_lop\", \"Value\": 0.3314970102408127}, {\"Construction\": \"Indirect\", \"days_to_subtract1\": 21, \"days_to_subtract2\": 28, \"width\": 7, \"Feature\": \"nfrac_xstar_lop\", \"Value\": -0.5732089098735464}, {\"Construction\": \"Both\", \"days_to_subtract1\": 21, \"days_to_subtract2\": 28, \"width\": 7, \"Feature\": \"nfrac_xstar_lop\", \"Value\": -0.2535982315975699}, {\"Construction\": \"Direct\", \"days_to_subtract1\": 14, \"days_to_subtract2\": 21, \"width\": 7, \"Feature\": \"nfrac_xstar_lop\", \"Value\": -0.16779284168486344}, {\"Construction\": \"Indirect\", \"days_to_subtract1\": 14, \"days_to_subtract2\": 21, \"width\": 7, \"Feature\": \"nfrac_xstar_lop\", \"Value\": 0.006140070908157364}, {\"Construction\": \"Both\", \"days_to_subtract1\": 14, \"days_to_subtract2\": 21, \"width\": 7, \"Feature\": \"nfrac_xstar_lop\", \"Value\": 0.005515357801557036}, {\"Construction\": \"Direct\", \"days_to_subtract1\": 7, \"days_to_subtract2\": 14, \"width\": 7, \"Feature\": \"nfrac_xstar_lop\", \"Value\": -0.15853342177150775}, {\"Construction\": \"Indirect\", \"days_to_subtract1\": 7, \"days_to_subtract2\": 14, \"width\": 7, \"Feature\": \"nfrac_xstar_lop\", \"Value\": 0.11902741096803111}, {\"Construction\": \"Both\", \"days_to_subtract1\": 7, \"days_to_subtract2\": 14, \"width\": 7, \"Feature\": \"nfrac_xstar_lop\", \"Value\": 0.07572670076293606}, {\"Construction\": \"Direct\", \"days_to_subtract1\": 21, \"days_to_subtract2\": 35, \"width\": 14, \"Feature\": \"nfrac_xstar_lop\", \"Value\": 0.051701816346602765}, {\"Construction\": \"Indirect\", \"days_to_subtract1\": 21, \"days_to_subtract2\": 35, \"width\": 14, \"Feature\": \"nfrac_xstar_lop\", \"Value\": -0.344855123902329}, {\"Construction\": \"Both\", \"days_to_subtract1\": 21, \"days_to_subtract2\": 35, \"width\": 14, \"Feature\": \"nfrac_xstar_lop\", \"Value\": 0.06371325583215456}, {\"Construction\": \"Direct\", \"days_to_subtract1\": 14, \"days_to_subtract2\": 28, \"width\": 14, \"Feature\": \"nfrac_xstar_lop\", \"Value\": 0.1996791171862494}, {\"Construction\": \"Indirect\", \"days_to_subtract1\": 14, \"days_to_subtract2\": 28, \"width\": 14, \"Feature\": \"nfrac_xstar_lop\", \"Value\": 0.03836176306118334}, {\"Construction\": \"Both\", \"days_to_subtract1\": 14, \"days_to_subtract2\": 28, \"width\": 14, \"Feature\": \"nfrac_xstar_lop\", \"Value\": 0.4289935608689964}, {\"Construction\": \"Direct\", \"days_to_subtract1\": 7, \"days_to_subtract2\": 21, \"width\": 14, \"Feature\": \"nfrac_xstar_lop\", \"Value\": 0.11404904132608387}, {\"Construction\": \"Indirect\", \"days_to_subtract1\": 7, \"days_to_subtract2\": 21, \"width\": 14, \"Feature\": \"nfrac_xstar_lop\", \"Value\": 0.09843560765935472}, {\"Construction\": \"Both\", \"days_to_subtract1\": 7, \"days_to_subtract2\": 21, \"width\": 14, \"Feature\": \"nfrac_xstar_lop\", \"Value\": 0.02917895379587441}, {\"Construction\": \"Direct\", \"days_to_subtract1\": 14, \"days_to_subtract2\": 35, \"width\": 21, \"Feature\": \"nfrac_xstar_lop\", \"Value\": 0.2364399140298994}, {\"Construction\": \"Indirect\", \"days_to_subtract1\": 14, \"days_to_subtract2\": 35, \"width\": 21, \"Feature\": \"nfrac_xstar_lop\", \"Value\": 0.30279385714952567}, {\"Construction\": \"Both\", \"days_to_subtract1\": 14, \"days_to_subtract2\": 35, \"width\": 21, \"Feature\": \"nfrac_xstar_lop\", \"Value\": 0.46039282510936996}, {\"Construction\": \"Direct\", \"days_to_subtract1\": 7, \"days_to_subtract2\": 28, \"width\": 21, \"Feature\": \"nfrac_xstar_lop\", \"Value\": 0.33848357916949584}, {\"Construction\": \"Indirect\", \"days_to_subtract1\": 7, \"days_to_subtract2\": 28, \"width\": 21, \"Feature\": \"nfrac_xstar_lop\", \"Value\": 0.1935987910763368}, {\"Construction\": \"Both\", \"days_to_subtract1\": 7, \"days_to_subtract2\": 28, \"width\": 21, \"Feature\": \"nfrac_xstar_lop\", \"Value\": -0.006415024860258532}, {\"Construction\": \"Direct\", \"days_to_subtract1\": 7, \"days_to_subtract2\": 35, \"width\": 28, \"Feature\": \"nfrac_xstar_lop\", \"Value\": 0.17061282075699166}, {\"Construction\": \"Indirect\", \"days_to_subtract1\": 7, \"days_to_subtract2\": 35, \"width\": 28, \"Feature\": \"nfrac_xstar_lop\", \"Value\": -0.0623455805066056}, {\"Construction\": \"Both\", \"days_to_subtract1\": 7, \"days_to_subtract2\": 35, \"width\": 28, \"Feature\": \"nfrac_xstar_lop\", \"Value\": -0.20064293862096022}, {\"Construction\": \"Direct\", \"days_to_subtract1\": 28, \"days_to_subtract2\": 35, \"width\": 7, \"Feature\": \"nfrac_xstar_hillside\", \"Value\": 0.34886646316274883}, {\"Construction\": \"Indirect\", \"days_to_subtract1\": 28, \"days_to_subtract2\": 35, \"width\": 7, \"Feature\": \"nfrac_xstar_hillside\", \"Value\": 0.32494680351171107}, {\"Construction\": \"Both\", \"days_to_subtract1\": 28, \"days_to_subtract2\": 35, \"width\": 7, \"Feature\": \"nfrac_xstar_hillside\", \"Value\": -0.034978145486473565}, {\"Construction\": \"Direct\", \"days_to_subtract1\": 21, \"days_to_subtract2\": 28, \"width\": 7, \"Feature\": \"nfrac_xstar_hillside\", \"Value\": 0.1548101031348028}, {\"Construction\": \"Indirect\", \"days_to_subtract1\": 21, \"days_to_subtract2\": 28, \"width\": 7, \"Feature\": \"nfrac_xstar_hillside\", \"Value\": -0.14304301423185614}, {\"Construction\": \"Both\", \"days_to_subtract1\": 21, \"days_to_subtract2\": 28, \"width\": 7, \"Feature\": \"nfrac_xstar_hillside\", \"Value\": 0.0885229406033009}, {\"Construction\": \"Direct\", \"days_to_subtract1\": 14, \"days_to_subtract2\": 21, \"width\": 7, \"Feature\": \"nfrac_xstar_hillside\", \"Value\": -0.2906216582279419}, {\"Construction\": \"Indirect\", \"days_to_subtract1\": 14, \"days_to_subtract2\": 21, \"width\": 7, \"Feature\": \"nfrac_xstar_hillside\", \"Value\": -0.13486312697228026}, {\"Construction\": \"Both\", \"days_to_subtract1\": 14, \"days_to_subtract2\": 21, \"width\": 7, \"Feature\": \"nfrac_xstar_hillside\", \"Value\": 0.03450638665060608}, {\"Construction\": \"Direct\", \"days_to_subtract1\": 7, \"days_to_subtract2\": 14, \"width\": 7, \"Feature\": \"nfrac_xstar_hillside\", \"Value\": -0.03846264264861647}, {\"Construction\": \"Indirect\", \"days_to_subtract1\": 7, \"days_to_subtract2\": 14, \"width\": 7, \"Feature\": \"nfrac_xstar_hillside\", \"Value\": 0.016805719208093036}, {\"Construction\": \"Both\", \"days_to_subtract1\": 7, \"days_to_subtract2\": 14, \"width\": 7, \"Feature\": \"nfrac_xstar_hillside\", \"Value\": 0.4207287945152082}, {\"Construction\": \"Direct\", \"days_to_subtract1\": 21, \"days_to_subtract2\": 35, \"width\": 14, \"Feature\": \"nfrac_xstar_hillside\", \"Value\": -0.013606095307838599}, {\"Construction\": \"Indirect\", \"days_to_subtract1\": 21, \"days_to_subtract2\": 35, \"width\": 14, \"Feature\": \"nfrac_xstar_hillside\", \"Value\": 0.1932433352599571}, {\"Construction\": \"Both\", \"days_to_subtract1\": 21, \"days_to_subtract2\": 35, \"width\": 14, \"Feature\": \"nfrac_xstar_hillside\", \"Value\": -0.03816497183701416}, {\"Construction\": \"Direct\", \"days_to_subtract1\": 14, \"days_to_subtract2\": 28, \"width\": 14, \"Feature\": \"nfrac_xstar_hillside\", \"Value\": 0.25670228479260215}, {\"Construction\": \"Indirect\", \"days_to_subtract1\": 14, \"days_to_subtract2\": 28, \"width\": 14, \"Feature\": \"nfrac_xstar_hillside\", \"Value\": -0.40853421195246575}, {\"Construction\": \"Both\", \"days_to_subtract1\": 14, \"days_to_subtract2\": 28, \"width\": 14, \"Feature\": \"nfrac_xstar_hillside\", \"Value\": 0.03418300237294919}, {\"Construction\": \"Direct\", \"days_to_subtract1\": 7, \"days_to_subtract2\": 21, \"width\": 14, \"Feature\": \"nfrac_xstar_hillside\", \"Value\": 0.05788447751255736}, {\"Construction\": \"Indirect\", \"days_to_subtract1\": 7, \"days_to_subtract2\": 21, \"width\": 14, \"Feature\": \"nfrac_xstar_hillside\", \"Value\": -0.07743216738845989}, {\"Construction\": \"Both\", \"days_to_subtract1\": 7, \"days_to_subtract2\": 21, \"width\": 14, \"Feature\": \"nfrac_xstar_hillside\", \"Value\": 0.2567738171289064}, {\"Construction\": \"Direct\", \"days_to_subtract1\": 14, \"days_to_subtract2\": 35, \"width\": 21, \"Feature\": \"nfrac_xstar_hillside\", \"Value\": 0.149638187388048}, {\"Construction\": \"Indirect\", \"days_to_subtract1\": 14, \"days_to_subtract2\": 35, \"width\": 21, \"Feature\": \"nfrac_xstar_hillside\", \"Value\": -0.6980303927399798}, {\"Construction\": \"Both\", \"days_to_subtract1\": 14, \"days_to_subtract2\": 35, \"width\": 21, \"Feature\": \"nfrac_xstar_hillside\", \"Value\": -0.1110607512855398}, {\"Construction\": \"Direct\", \"days_to_subtract1\": 7, \"days_to_subtract2\": 28, \"width\": 21, \"Feature\": \"nfrac_xstar_hillside\", \"Value\": 0.38937905435514863}, {\"Construction\": \"Indirect\", \"days_to_subtract1\": 7, \"days_to_subtract2\": 28, \"width\": 21, \"Feature\": \"nfrac_xstar_hillside\", \"Value\": -0.05149817783774096}, {\"Construction\": \"Both\", \"days_to_subtract1\": 7, \"days_to_subtract2\": 28, \"width\": 21, \"Feature\": \"nfrac_xstar_hillside\", \"Value\": -0.007818710849332715}, {\"Construction\": \"Direct\", \"days_to_subtract1\": 7, \"days_to_subtract2\": 35, \"width\": 28, \"Feature\": \"nfrac_xstar_hillside\", \"Value\": -0.14867742951754315}, {\"Construction\": \"Indirect\", \"days_to_subtract1\": 7, \"days_to_subtract2\": 35, \"width\": 28, \"Feature\": \"nfrac_xstar_hillside\", \"Value\": -0.1305322155007622}, {\"Construction\": \"Both\", \"days_to_subtract1\": 7, \"days_to_subtract2\": 35, \"width\": 28, \"Feature\": \"nfrac_xstar_hillside\", \"Value\": -0.18500557500765558}, {\"Construction\": \"Direct\", \"days_to_subtract1\": 28, \"days_to_subtract2\": 35, \"width\": 7, \"Feature\": \"diameter_lop\", \"Value\": -0.22636126592896852}, {\"Construction\": \"Indirect\", \"days_to_subtract1\": 28, \"days_to_subtract2\": 35, \"width\": 7, \"Feature\": \"diameter_lop\", \"Value\": 0.1471206042439311}, {\"Construction\": \"Both\", \"days_to_subtract1\": 28, \"days_to_subtract2\": 35, \"width\": 7, \"Feature\": \"diameter_lop\", \"Value\": 0.16184118355681837}, {\"Construction\": \"Direct\", \"days_to_subtract1\": 21, \"days_to_subtract2\": 28, \"width\": 7, \"Feature\": \"diameter_lop\", \"Value\": 0.3831625849220623}, {\"Construction\": \"Indirect\", \"days_to_subtract1\": 21, \"days_to_subtract2\": 28, \"width\": 7, \"Feature\": \"diameter_lop\", \"Value\": -0.5386467350463785}, {\"Construction\": \"Both\", \"days_to_subtract1\": 21, \"days_to_subtract2\": 28, \"width\": 7, \"Feature\": \"diameter_lop\", \"Value\": -0.2496514424084692}, {\"Construction\": \"Direct\", \"days_to_subtract1\": 14, \"days_to_subtract2\": 21, \"width\": 7, \"Feature\": \"diameter_lop\", \"Value\": 0.10190153739175767}, {\"Construction\": \"Indirect\", \"days_to_subtract1\": 14, \"days_to_subtract2\": 21, \"width\": 7, \"Feature\": \"diameter_lop\", \"Value\": 0.03425936106384549}, {\"Construction\": \"Both\", \"days_to_subtract1\": 14, \"days_to_subtract2\": 21, \"width\": 7, \"Feature\": \"diameter_lop\", \"Value\": 0.024607674990931132}, {\"Construction\": \"Direct\", \"days_to_subtract1\": 7, \"days_to_subtract2\": 14, \"width\": 7, \"Feature\": \"diameter_lop\", \"Value\": -0.10170858313446053}, {\"Construction\": \"Indirect\", \"days_to_subtract1\": 7, \"days_to_subtract2\": 14, \"width\": 7, \"Feature\": \"diameter_lop\", \"Value\": 0.13144214842732332}, {\"Construction\": \"Both\", \"days_to_subtract1\": 7, \"days_to_subtract2\": 14, \"width\": 7, \"Feature\": \"diameter_lop\", \"Value\": 0.061316501500071695}, {\"Construction\": \"Direct\", \"days_to_subtract1\": 21, \"days_to_subtract2\": 35, \"width\": 14, \"Feature\": \"diameter_lop\", \"Value\": 0.09330997565745157}, {\"Construction\": \"Indirect\", \"days_to_subtract1\": 21, \"days_to_subtract2\": 35, \"width\": 14, \"Feature\": \"diameter_lop\", \"Value\": -0.333993873731044}, {\"Construction\": \"Both\", \"days_to_subtract1\": 21, \"days_to_subtract2\": 35, \"width\": 14, \"Feature\": \"diameter_lop\", \"Value\": 0.06448907618772762}, {\"Construction\": \"Direct\", \"days_to_subtract1\": 14, \"days_to_subtract2\": 28, \"width\": 14, \"Feature\": \"diameter_lop\", \"Value\": 0.25002814632412823}, {\"Construction\": \"Indirect\", \"days_to_subtract1\": 14, \"days_to_subtract2\": 28, \"width\": 14, \"Feature\": \"diameter_lop\", \"Value\": -0.0031904135548085385}, {\"Construction\": \"Both\", \"days_to_subtract1\": 14, \"days_to_subtract2\": 28, \"width\": 14, \"Feature\": \"diameter_lop\", \"Value\": 0.42350744972418947}, {\"Construction\": \"Direct\", \"days_to_subtract1\": 7, \"days_to_subtract2\": 21, \"width\": 14, \"Feature\": \"diameter_lop\", \"Value\": 0.1846357102345057}, {\"Construction\": \"Indirect\", \"days_to_subtract1\": 7, \"days_to_subtract2\": 21, \"width\": 14, \"Feature\": \"diameter_lop\", \"Value\": 0.10109882505123702}, {\"Construction\": \"Both\", \"days_to_subtract1\": 7, \"days_to_subtract2\": 21, \"width\": 14, \"Feature\": \"diameter_lop\", \"Value\": 0.034628293354484016}, {\"Construction\": \"Direct\", \"days_to_subtract1\": 14, \"days_to_subtract2\": 35, \"width\": 21, \"Feature\": \"diameter_lop\", \"Value\": 0.6400196963714101}, {\"Construction\": \"Indirect\", \"days_to_subtract1\": 14, \"days_to_subtract2\": 35, \"width\": 21, \"Feature\": \"diameter_lop\", \"Value\": 0.2561545281811538}, {\"Construction\": \"Both\", \"days_to_subtract1\": 14, \"days_to_subtract2\": 35, \"width\": 21, \"Feature\": \"diameter_lop\", \"Value\": 0.44887855306093016}, {\"Construction\": \"Direct\", \"days_to_subtract1\": 7, \"days_to_subtract2\": 28, \"width\": 21, \"Feature\": \"diameter_lop\", \"Value\": 0.40950076859231455}, {\"Construction\": \"Indirect\", \"days_to_subtract1\": 7, \"days_to_subtract2\": 28, \"width\": 21, \"Feature\": \"diameter_lop\", \"Value\": 0.18525270716490258}, {\"Construction\": \"Both\", \"days_to_subtract1\": 7, \"days_to_subtract2\": 28, \"width\": 21, \"Feature\": \"diameter_lop\", \"Value\": 0.024511543649498518}, {\"Construction\": \"Direct\", \"days_to_subtract1\": 7, \"days_to_subtract2\": 35, \"width\": 28, \"Feature\": \"diameter_lop\", \"Value\": 0.25418381325236705}, {\"Construction\": \"Indirect\", \"days_to_subtract1\": 7, \"days_to_subtract2\": 35, \"width\": 28, \"Feature\": \"diameter_lop\", \"Value\": -0.0646456548681831}, {\"Construction\": \"Both\", \"days_to_subtract1\": 7, \"days_to_subtract2\": 35, \"width\": 28, \"Feature\": \"diameter_lop\", \"Value\": -0.1857911122170456}, {\"Construction\": \"Direct\", \"days_to_subtract1\": 28, \"days_to_subtract2\": 35, \"width\": 7, \"Feature\": \"diameter_hillside\", \"Value\": -0.23773686467041644}, {\"Construction\": \"Indirect\", \"days_to_subtract1\": 28, \"days_to_subtract2\": 35, \"width\": 7, \"Feature\": \"diameter_hillside\", \"Value\": 0.24471788505777062}, {\"Construction\": \"Both\", \"days_to_subtract1\": 28, \"days_to_subtract2\": 35, \"width\": 7, \"Feature\": \"diameter_hillside\", \"Value\": -0.078060600798378}, {\"Construction\": \"Direct\", \"days_to_subtract1\": 21, \"days_to_subtract2\": 28, \"width\": 7, \"Feature\": \"diameter_hillside\", \"Value\": 0.3298662444570674}, {\"Construction\": \"Indirect\", \"days_to_subtract1\": 21, \"days_to_subtract2\": 28, \"width\": 7, \"Feature\": \"diameter_hillside\", \"Value\": -0.1437863199224009}, {\"Construction\": \"Both\", \"days_to_subtract1\": 21, \"days_to_subtract2\": 28, \"width\": 7, \"Feature\": \"diameter_hillside\", \"Value\": 0.0885229406033009}, {\"Construction\": \"Direct\", \"days_to_subtract1\": 14, \"days_to_subtract2\": 21, \"width\": 7, \"Feature\": \"diameter_hillside\", \"Value\": 0.005865609855848924}, {\"Construction\": \"Indirect\", \"days_to_subtract1\": 14, \"days_to_subtract2\": 21, \"width\": 7, \"Feature\": \"diameter_hillside\", \"Value\": -0.07616471168467594}, {\"Construction\": \"Both\", \"days_to_subtract1\": 14, \"days_to_subtract2\": 21, \"width\": 7, \"Feature\": \"diameter_hillside\", \"Value\": 0.06991328130118096}, {\"Construction\": \"Direct\", \"days_to_subtract1\": 7, \"days_to_subtract2\": 14, \"width\": 7, \"Feature\": \"diameter_hillside\", \"Value\": 0.08664117120390159}, {\"Construction\": \"Indirect\", \"days_to_subtract1\": 7, \"days_to_subtract2\": 14, \"width\": 7, \"Feature\": \"diameter_hillside\", \"Value\": -0.00448470016298348}, {\"Construction\": \"Both\", \"days_to_subtract1\": 7, \"days_to_subtract2\": 14, \"width\": 7, \"Feature\": \"diameter_hillside\", \"Value\": 0.3952906696617902}, {\"Construction\": \"Direct\", \"days_to_subtract1\": 21, \"days_to_subtract2\": 35, \"width\": 14, \"Feature\": \"diameter_hillside\", \"Value\": 0.10835468104285391}, {\"Construction\": \"Indirect\", \"days_to_subtract1\": 21, \"days_to_subtract2\": 35, \"width\": 14, \"Feature\": \"diameter_hillside\", \"Value\": 0.1917829766082097}, {\"Construction\": \"Both\", \"days_to_subtract1\": 21, \"days_to_subtract2\": 35, \"width\": 14, \"Feature\": \"diameter_hillside\", \"Value\": -0.03816497183701416}, {\"Construction\": \"Direct\", \"days_to_subtract1\": 14, \"days_to_subtract2\": 28, \"width\": 14, \"Feature\": \"diameter_hillside\", \"Value\": 0.3099217562687815}, {\"Construction\": \"Indirect\", \"days_to_subtract1\": 14, \"days_to_subtract2\": 28, \"width\": 14, \"Feature\": \"diameter_hillside\", \"Value\": -0.42453253514258776}, {\"Construction\": \"Both\", \"days_to_subtract1\": 14, \"days_to_subtract2\": 28, \"width\": 14, \"Feature\": \"diameter_hillside\", \"Value\": 0.08278494471082311}, {\"Construction\": \"Direct\", \"days_to_subtract1\": 7, \"days_to_subtract2\": 21, \"width\": 14, \"Feature\": \"diameter_hillside\", \"Value\": 0.21339755785072345}, {\"Construction\": \"Indirect\", \"days_to_subtract1\": 7, \"days_to_subtract2\": 21, \"width\": 14, \"Feature\": \"diameter_hillside\", \"Value\": -0.10845001422736915}, {\"Construction\": \"Both\", \"days_to_subtract1\": 7, \"days_to_subtract2\": 21, \"width\": 14, \"Feature\": \"diameter_hillside\", \"Value\": 0.24265304897823442}, {\"Construction\": \"Direct\", \"days_to_subtract1\": 14, \"days_to_subtract2\": 35, \"width\": 21, \"Feature\": \"diameter_hillside\", \"Value\": 0.6559360380339562}, {\"Construction\": \"Indirect\", \"days_to_subtract1\": 14, \"days_to_subtract2\": 35, \"width\": 21, \"Feature\": \"diameter_hillside\", \"Value\": -0.7303006667999002}, {\"Construction\": \"Both\", \"days_to_subtract1\": 14, \"days_to_subtract2\": 35, \"width\": 21, \"Feature\": \"diameter_hillside\", \"Value\": -0.06634734791835815}, {\"Construction\": \"Direct\", \"days_to_subtract1\": 7, \"days_to_subtract2\": 28, \"width\": 21, \"Feature\": \"diameter_hillside\", \"Value\": 0.4194640329711255}, {\"Construction\": \"Indirect\", \"days_to_subtract1\": 7, \"days_to_subtract2\": 28, \"width\": 21, \"Feature\": \"diameter_hillside\", \"Value\": -0.06139958280174617}, {\"Construction\": \"Both\", \"days_to_subtract1\": 7, \"days_to_subtract2\": 28, \"width\": 21, \"Feature\": \"diameter_hillside\", \"Value\": 0.007127077090032631}, {\"Construction\": \"Direct\", \"days_to_subtract1\": 7, \"days_to_subtract2\": 35, \"width\": 28, \"Feature\": \"diameter_hillside\", \"Value\": 0.30977214933559954}, {\"Construction\": \"Indirect\", \"days_to_subtract1\": 7, \"days_to_subtract2\": 35, \"width\": 28, \"Feature\": \"diameter_hillside\", \"Value\": -0.16396509219843663}, {\"Construction\": \"Both\", \"days_to_subtract1\": 7, \"days_to_subtract2\": 35, \"width\": 28, \"Feature\": \"diameter_hillside\", \"Value\": -0.17248429377533392}]}}, {\"mode\": \"vega-lite\"});\n",
       "</script>"
      ],
      "text/plain": [
       "alt.Chart(...)"
      ]
     },
     "execution_count": 52,
     "metadata": {},
     "output_type": "execute_result"
    }
   ],
   "source": [
    "g"
   ]
  },
  {
   "cell_type": "markdown",
   "metadata": {},
   "source": [
    "## old below"
   ]
  },
  {
   "cell_type": "markdown",
   "metadata": {},
   "source": [
    "## 0.6 to 0.7"
   ]
  },
  {
   "cell_type": "markdown",
   "metadata": {},
   "source": [
    "(this was already broken)"
   ]
  },
  {
   "cell_type": "code",
   "execution_count": 53,
   "metadata": {},
   "outputs": [
    {
     "ename": "KeyError",
     "evalue": "\"None of ['frac1', 'frac2'] are in the columns\"",
     "output_type": "error",
     "traceback": [
      "\u001b[0;31m---------------------------------------------------------------------------\u001b[0m",
      "\u001b[0;31mKeyError\u001b[0m                                  Traceback (most recent call last)",
      "\u001b[0;32m<ipython-input-53-b8280f641a10>\u001b[0m in \u001b[0;36m<module>\u001b[0;34m\u001b[0m\n\u001b[0;32m----> 1\u001b[0;31m \u001b[0mdata\u001b[0m \u001b[0;34m=\u001b[0m \u001b[0mXy\u001b[0m\u001b[0;34m.\u001b[0m\u001b[0mset_index\u001b[0m\u001b[0;34m(\u001b[0m\u001b[0;34m[\u001b[0m\u001b[0;34m'frac1'\u001b[0m\u001b[0;34m,\u001b[0m\u001b[0;34m'frac2'\u001b[0m\u001b[0;34m]\u001b[0m\u001b[0;34m)\u001b[0m\u001b[0;34m.\u001b[0m\u001b[0mloc\u001b[0m\u001b[0;34m[\u001b[0m\u001b[0;34m(\u001b[0m\u001b[0;36m0.6\u001b[0m\u001b[0;34m,\u001b[0m\u001b[0;36m0.7\u001b[0m\u001b[0;34m)\u001b[0m\u001b[0;34m]\u001b[0m\u001b[0;34m.\u001b[0m\u001b[0mreset_index\u001b[0m\u001b[0;34m(\u001b[0m\u001b[0;34m)\u001b[0m\u001b[0;34m\u001b[0m\u001b[0;34m\u001b[0m\u001b[0m\n\u001b[0m\u001b[1;32m      2\u001b[0m \u001b[0mfor_corr\u001b[0m \u001b[0;34m=\u001b[0m \u001b[0mdata\u001b[0m\u001b[0;34m.\u001b[0m\u001b[0mset_index\u001b[0m\u001b[0;34m(\u001b[0m\u001b[0;34m[\u001b[0m\u001b[0;34m'Method'\u001b[0m\u001b[0;34m,\u001b[0m\u001b[0;34m'Construction'\u001b[0m\u001b[0;34m]\u001b[0m\u001b[0;34m)\u001b[0m\u001b[0;34m\u001b[0m\u001b[0;34m\u001b[0m\u001b[0m\n\u001b[1;32m      3\u001b[0m \u001b[0;32mfor\u001b[0m \u001b[0mix\u001b[0m \u001b[0;32min\u001b[0m \u001b[0mfor_corr\u001b[0m\u001b[0;34m.\u001b[0m\u001b[0mindex\u001b[0m\u001b[0;34m.\u001b[0m\u001b[0munique\u001b[0m\u001b[0;34m(\u001b[0m\u001b[0;34m)\u001b[0m\u001b[0;34m:\u001b[0m\u001b[0;34m\u001b[0m\u001b[0;34m\u001b[0m\u001b[0m\n\u001b[1;32m      4\u001b[0m     \u001b[0mdisplay\u001b[0m\u001b[0;34m(\u001b[0m\u001b[0mpd\u001b[0m\u001b[0;34m.\u001b[0m\u001b[0mSeries\u001b[0m\u001b[0;34m(\u001b[0m\u001b[0mix\u001b[0m\u001b[0;34m,\u001b[0m\u001b[0mindex\u001b[0m\u001b[0;34m=\u001b[0m\u001b[0mfor_corr\u001b[0m\u001b[0;34m.\u001b[0m\u001b[0mindex\u001b[0m\u001b[0;34m.\u001b[0m\u001b[0mnames\u001b[0m\u001b[0;34m)\u001b[0m\u001b[0;34m)\u001b[0m\u001b[0;34m\u001b[0m\u001b[0;34m\u001b[0m\u001b[0m\n\u001b[1;32m      5\u001b[0m     \u001b[0mdisplay\u001b[0m\u001b[0;34m(\u001b[0m\u001b[0mfor_corr\u001b[0m\u001b[0;34m.\u001b[0m\u001b[0mloc\u001b[0m\u001b[0;34m[\u001b[0m\u001b[0mix\u001b[0m\u001b[0;34m]\u001b[0m\u001b[0;34m[\u001b[0m\u001b[0;34m[\u001b[0m\u001b[0mtarget_column\u001b[0m\u001b[0;34m]\u001b[0m\u001b[0;34m+\u001b[0m\u001b[0mfeature_columns\u001b[0m\u001b[0;34m]\u001b[0m\u001b[0;34m.\u001b[0m\u001b[0mcorr\u001b[0m\u001b[0;34m(\u001b[0m\u001b[0;34m)\u001b[0m\u001b[0;34m)\u001b[0m\u001b[0;34m\u001b[0m\u001b[0;34m\u001b[0m\u001b[0m\n",
      "\u001b[0;32m/opt/tljh/user/lib/python3.7/site-packages/pandas/core/frame.py\u001b[0m in \u001b[0;36mset_index\u001b[0;34m(self, keys, drop, append, inplace, verify_integrity)\u001b[0m\n\u001b[1;32m   4722\u001b[0m \u001b[0;34m\u001b[0m\u001b[0m\n\u001b[1;32m   4723\u001b[0m         \u001b[0;32mif\u001b[0m \u001b[0mmissing\u001b[0m\u001b[0;34m:\u001b[0m\u001b[0;34m\u001b[0m\u001b[0;34m\u001b[0m\u001b[0m\n\u001b[0;32m-> 4724\u001b[0;31m             \u001b[0;32mraise\u001b[0m \u001b[0mKeyError\u001b[0m\u001b[0;34m(\u001b[0m\u001b[0;34mf\"None of {missing} are in the columns\"\u001b[0m\u001b[0;34m)\u001b[0m\u001b[0;34m\u001b[0m\u001b[0;34m\u001b[0m\u001b[0m\n\u001b[0m\u001b[1;32m   4725\u001b[0m \u001b[0;34m\u001b[0m\u001b[0m\n\u001b[1;32m   4726\u001b[0m         \u001b[0;32mif\u001b[0m \u001b[0minplace\u001b[0m\u001b[0;34m:\u001b[0m\u001b[0;34m\u001b[0m\u001b[0;34m\u001b[0m\u001b[0m\n",
      "\u001b[0;31mKeyError\u001b[0m: \"None of ['frac1', 'frac2'] are in the columns\""
     ]
    }
   ],
   "source": [
    "data = Xy.set_index(['frac1','frac2']).loc[(0.6,0.7)].reset_index()\n",
    "for_corr = data.set_index(['Method','Construction'])\n",
    "for ix in for_corr.index.unique():\n",
    "    display(pd.Series(ix,index=for_corr.index.names))\n",
    "    display(for_corr.loc[ix][[target_column]+feature_columns].corr())"
   ]
  },
  {
   "cell_type": "markdown",
   "metadata": {},
   "source": [
    "### 0.7 to 0.8"
   ]
  },
  {
   "cell_type": "code",
   "execution_count": null,
   "metadata": {},
   "outputs": [],
   "source": [
    "data = Xy.set_index(['frac1','frac2']).loc[(0.7,0.8)].reset_index()\n",
    "for_corr = data.set_index(['Method'])\n",
    "for ix in for_corr.index.unique():\n",
    "    display(pd.Series(ix,index=for_corr.index.names))\n",
    "    display(for_corr.loc[ix][[target_column]+feature_columns].corr())"
   ]
  },
  {
   "cell_type": "markdown",
   "metadata": {},
   "source": [
    "### 0.8 to 0.9"
   ]
  },
  {
   "cell_type": "code",
   "execution_count": null,
   "metadata": {},
   "outputs": [],
   "source": [
    "data = Xy.set_index(['frac1','frac2']).loc[(0.8,0.9)].reset_index()\n",
    "for_corr = data.set_index(['Method'])\n",
    "for ix in for_corr.index.unique():\n",
    "    display(pd.Series(ix,index=for_corr.index.names))\n",
    "    display(for_corr.loc[ix][[target_column]+feature_columns].corr())"
   ]
  },
  {
   "cell_type": "markdown",
   "metadata": {},
   "source": [
    "### 0.9 to 1."
   ]
  },
  {
   "cell_type": "code",
   "execution_count": null,
   "metadata": {},
   "outputs": [],
   "source": [
    "data = Xy.set_index(['frac1','frac2']).loc[(0.9,1.)].reset_index()\n",
    "for_corr = data.set_index(['Method'])\n",
    "for ix in for_corr.index.unique():\n",
    "    display(pd.Series(ix,index=for_corr.index.names))\n",
    "    display(for_corr.loc[ix][[target_column]+feature_columns].corr())"
   ]
  },
  {
   "cell_type": "code",
   "execution_count": null,
   "metadata": {},
   "outputs": [],
   "source": []
  },
  {
   "cell_type": "code",
   "execution_count": null,
   "metadata": {},
   "outputs": [],
   "source": [
    "for_corr = data.set_index(['Method','direct_thres','spread_thres','weight_indirect'])\n",
    "for_display = pd.DataFrame(columns=feature_columns+list(for_corr.index.names))\n",
    "for_display.set_index(list(for_corr.index.names),inplace=True)\n",
    "for ix in for_corr.index.unique():\n",
    "    dt = for_corr.loc[ix][[target_column]+feature_columns].corr().loc[target_column,feature_columns]\n",
    "    dt.name = ix\n",
    "    for_display = for_display.append(dt)"
   ]
  },
  {
   "cell_type": "code",
   "execution_count": null,
   "metadata": {},
   "outputs": [],
   "source": [
    "for_display.T"
   ]
  },
  {
   "cell_type": "code",
   "execution_count": null,
   "metadata": {},
   "outputs": [],
   "source": [
    "print(for_display.T.to_latex())"
   ]
  },
  {
   "cell_type": "code",
   "execution_count": null,
   "metadata": {},
   "outputs": [],
   "source": []
  }
 ],
 "metadata": {
  "kernelspec": {
   "display_name": "Python 3",
   "language": "python",
   "name": "python3"
  },
  "language_info": {
   "codemirror_mode": {
    "name": "ipython",
    "version": 3
   },
   "file_extension": ".py",
   "mimetype": "text/x-python",
   "name": "python",
   "nbconvert_exporter": "python",
   "pygments_lexer": "ipython3",
   "version": "3.7.3"
  }
 },
 "nbformat": 4,
 "nbformat_minor": 4
}
